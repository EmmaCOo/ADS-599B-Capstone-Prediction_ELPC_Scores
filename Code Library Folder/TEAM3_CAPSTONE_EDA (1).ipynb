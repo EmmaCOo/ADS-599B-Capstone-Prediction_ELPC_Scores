{
  "nbformat": 4,
  "nbformat_minor": 0,
  "metadata": {
    "colab": {
      "provenance": [],
      "collapsed_sections": []
    },
    "kernelspec": {
      "name": "python3",
      "display_name": "Python 3"
    },
    "language_info": {
      "name": "python"
    }
  },
  "cells": [
    {
      "cell_type": "markdown",
      "source": [
        "#**Prediction of English Language Proficiency Assessments for California (ELPAC) Scores Using Machine Learning Approach**\n",
        "\n",
        "###**TEAM MEMBERS: TEAM 3:  EMMA OO, LUKE AWINO, OSCAR GIL**\n",
        "\n",
        "###**Applied Data Science Master’s Program, Shiley Marcos School of Engineering / University of San Diego**\n",
        "\n",
        "**DATE:  11/12/2022**\n"
      ],
      "metadata": {
        "id": "WNBPVHVEgn1k"
      }
    },
    {
      "cell_type": "code",
      "execution_count": 30,
      "metadata": {
        "id": "r0yHm6eIggcs"
      },
      "outputs": [],
      "source": [
        "import pandas as pd\n",
        "pd.set_option('display.max_rows', 500)\n",
        "pd.set_option('display.max_columns', 500)\n",
        "pd.set_option('display.width', 1000)\n",
        "\n",
        "import numpy as np\n",
        "import matplotlib.pyplot as plt\n",
        "import seaborn as sns\n",
        "import datetime\n",
        "import sqlite3\n",
        "\n",
        "\n",
        "\n",
        "import warnings \n",
        "warnings.filterwarnings(action= 'ignore')"
      ]
    },
    {
      "cell_type": "markdown",
      "source": [
        "###**DATA ACQUISITION**"
      ],
      "metadata": {
        "id": "kCGyEoFchTl9"
      }
    },
    {
      "cell_type": "markdown",
      "source": [
        "###NEED TO ADD DATA ACQUISITION SUMMARY SENTENCE**"
      ],
      "metadata": {
        "id": "T24VgQ8vhrd0"
      }
    },
    {
      "cell_type": "code",
      "source": [
        "# Import file\n",
        "df = pd.read_csv('https://raw.githubusercontent.com/OscarG-DataSci/ADS-599B/main/Data%20Folder/elpac.csv')"
      ],
      "metadata": {
        "id": "YnHFlde6hWMs"
      },
      "execution_count": 31,
      "outputs": []
    },
    {
      "cell_type": "code",
      "source": [
        "df.head()"
      ],
      "metadata": {
        "colab": {
          "base_uri": "https://localhost:8080/",
          "height": 357
        },
        "id": "dSdnbJWsh_LT",
        "outputId": "c14a9e31-96ee-465d-a937-0e2334043ee6"
      },
      "execution_count": 32,
      "outputs": [
        {
          "output_type": "execute_result",
          "data": {
            "text/plain": [
              "  AcademicYear  Stu_deID  School_deID  GradeLevel         DOB   TestAge StudentGender StudentEthnicity Special_Education Homeless SocioEconomically TestDayName    TestDate  OverallScore  OverallLevel  ExpectedAttendanceDays  DaysAttended  AttendedPct  EnrolledPct  GradeEnrolledPct  GradeAttendedPct TeacherGender  TeacherTotalYearsOfService TeacherEthnicity\n",
              "0    2017-2018         0            3           1  2011-07-04  6.828340             F         Hispanic                 N        Y                 Y   Wednesday  2018-05-02          1503             4                   180.0         175.0     0.972222          1.0          1.999999          1.972222             F                           4         Hispanic\n",
              "1    2017-2018         1            5           4  2008-07-28  9.631957             M         Hispanic                 N        N                 Y      Friday  2018-03-16          1535             3                   180.0         168.0     0.933333          1.0          4.999999          4.933333             F                           2         Multiple\n",
              "2    2017-2018         3            3           4  2008-05-06  9.905748             M         Hispanic                 Y        N                 N      Monday  2018-04-02          1480             2                   180.0         175.0     0.972222          1.0          4.999999          4.972222             F                          18            White\n",
              "3    2017-2018         4            3           0  2012-04-13  6.108271             M         Hispanic                 N        N                 Y   Wednesday  2018-05-23          1461             4                   180.0         125.0     0.694444          1.0          0.999999          0.694444             F                           1            White\n",
              "4    2017-2018         5            7           0  2011-09-25  6.664066             M         Hispanic                 N        N                 Y      Friday  2018-05-25          1357             1                   180.0         165.0     0.916667          1.0          0.999999          0.916667             F                          17         Hispanic"
            ],
            "text/html": [
              "\n",
              "  <div id=\"df-344c97be-e131-4f6d-aa68-b4f889f35d3b\">\n",
              "    <div class=\"colab-df-container\">\n",
              "      <div>\n",
              "<style scoped>\n",
              "    .dataframe tbody tr th:only-of-type {\n",
              "        vertical-align: middle;\n",
              "    }\n",
              "\n",
              "    .dataframe tbody tr th {\n",
              "        vertical-align: top;\n",
              "    }\n",
              "\n",
              "    .dataframe thead th {\n",
              "        text-align: right;\n",
              "    }\n",
              "</style>\n",
              "<table border=\"1\" class=\"dataframe\">\n",
              "  <thead>\n",
              "    <tr style=\"text-align: right;\">\n",
              "      <th></th>\n",
              "      <th>AcademicYear</th>\n",
              "      <th>Stu_deID</th>\n",
              "      <th>School_deID</th>\n",
              "      <th>GradeLevel</th>\n",
              "      <th>DOB</th>\n",
              "      <th>TestAge</th>\n",
              "      <th>StudentGender</th>\n",
              "      <th>StudentEthnicity</th>\n",
              "      <th>Special_Education</th>\n",
              "      <th>Homeless</th>\n",
              "      <th>SocioEconomically</th>\n",
              "      <th>TestDayName</th>\n",
              "      <th>TestDate</th>\n",
              "      <th>OverallScore</th>\n",
              "      <th>OverallLevel</th>\n",
              "      <th>ExpectedAttendanceDays</th>\n",
              "      <th>DaysAttended</th>\n",
              "      <th>AttendedPct</th>\n",
              "      <th>EnrolledPct</th>\n",
              "      <th>GradeEnrolledPct</th>\n",
              "      <th>GradeAttendedPct</th>\n",
              "      <th>TeacherGender</th>\n",
              "      <th>TeacherTotalYearsOfService</th>\n",
              "      <th>TeacherEthnicity</th>\n",
              "    </tr>\n",
              "  </thead>\n",
              "  <tbody>\n",
              "    <tr>\n",
              "      <th>0</th>\n",
              "      <td>2017-2018</td>\n",
              "      <td>0</td>\n",
              "      <td>3</td>\n",
              "      <td>1</td>\n",
              "      <td>2011-07-04</td>\n",
              "      <td>6.828340</td>\n",
              "      <td>F</td>\n",
              "      <td>Hispanic</td>\n",
              "      <td>N</td>\n",
              "      <td>Y</td>\n",
              "      <td>Y</td>\n",
              "      <td>Wednesday</td>\n",
              "      <td>2018-05-02</td>\n",
              "      <td>1503</td>\n",
              "      <td>4</td>\n",
              "      <td>180.0</td>\n",
              "      <td>175.0</td>\n",
              "      <td>0.972222</td>\n",
              "      <td>1.0</td>\n",
              "      <td>1.999999</td>\n",
              "      <td>1.972222</td>\n",
              "      <td>F</td>\n",
              "      <td>4</td>\n",
              "      <td>Hispanic</td>\n",
              "    </tr>\n",
              "    <tr>\n",
              "      <th>1</th>\n",
              "      <td>2017-2018</td>\n",
              "      <td>1</td>\n",
              "      <td>5</td>\n",
              "      <td>4</td>\n",
              "      <td>2008-07-28</td>\n",
              "      <td>9.631957</td>\n",
              "      <td>M</td>\n",
              "      <td>Hispanic</td>\n",
              "      <td>N</td>\n",
              "      <td>N</td>\n",
              "      <td>Y</td>\n",
              "      <td>Friday</td>\n",
              "      <td>2018-03-16</td>\n",
              "      <td>1535</td>\n",
              "      <td>3</td>\n",
              "      <td>180.0</td>\n",
              "      <td>168.0</td>\n",
              "      <td>0.933333</td>\n",
              "      <td>1.0</td>\n",
              "      <td>4.999999</td>\n",
              "      <td>4.933333</td>\n",
              "      <td>F</td>\n",
              "      <td>2</td>\n",
              "      <td>Multiple</td>\n",
              "    </tr>\n",
              "    <tr>\n",
              "      <th>2</th>\n",
              "      <td>2017-2018</td>\n",
              "      <td>3</td>\n",
              "      <td>3</td>\n",
              "      <td>4</td>\n",
              "      <td>2008-05-06</td>\n",
              "      <td>9.905748</td>\n",
              "      <td>M</td>\n",
              "      <td>Hispanic</td>\n",
              "      <td>Y</td>\n",
              "      <td>N</td>\n",
              "      <td>N</td>\n",
              "      <td>Monday</td>\n",
              "      <td>2018-04-02</td>\n",
              "      <td>1480</td>\n",
              "      <td>2</td>\n",
              "      <td>180.0</td>\n",
              "      <td>175.0</td>\n",
              "      <td>0.972222</td>\n",
              "      <td>1.0</td>\n",
              "      <td>4.999999</td>\n",
              "      <td>4.972222</td>\n",
              "      <td>F</td>\n",
              "      <td>18</td>\n",
              "      <td>White</td>\n",
              "    </tr>\n",
              "    <tr>\n",
              "      <th>3</th>\n",
              "      <td>2017-2018</td>\n",
              "      <td>4</td>\n",
              "      <td>3</td>\n",
              "      <td>0</td>\n",
              "      <td>2012-04-13</td>\n",
              "      <td>6.108271</td>\n",
              "      <td>M</td>\n",
              "      <td>Hispanic</td>\n",
              "      <td>N</td>\n",
              "      <td>N</td>\n",
              "      <td>Y</td>\n",
              "      <td>Wednesday</td>\n",
              "      <td>2018-05-23</td>\n",
              "      <td>1461</td>\n",
              "      <td>4</td>\n",
              "      <td>180.0</td>\n",
              "      <td>125.0</td>\n",
              "      <td>0.694444</td>\n",
              "      <td>1.0</td>\n",
              "      <td>0.999999</td>\n",
              "      <td>0.694444</td>\n",
              "      <td>F</td>\n",
              "      <td>1</td>\n",
              "      <td>White</td>\n",
              "    </tr>\n",
              "    <tr>\n",
              "      <th>4</th>\n",
              "      <td>2017-2018</td>\n",
              "      <td>5</td>\n",
              "      <td>7</td>\n",
              "      <td>0</td>\n",
              "      <td>2011-09-25</td>\n",
              "      <td>6.664066</td>\n",
              "      <td>M</td>\n",
              "      <td>Hispanic</td>\n",
              "      <td>N</td>\n",
              "      <td>N</td>\n",
              "      <td>Y</td>\n",
              "      <td>Friday</td>\n",
              "      <td>2018-05-25</td>\n",
              "      <td>1357</td>\n",
              "      <td>1</td>\n",
              "      <td>180.0</td>\n",
              "      <td>165.0</td>\n",
              "      <td>0.916667</td>\n",
              "      <td>1.0</td>\n",
              "      <td>0.999999</td>\n",
              "      <td>0.916667</td>\n",
              "      <td>F</td>\n",
              "      <td>17</td>\n",
              "      <td>Hispanic</td>\n",
              "    </tr>\n",
              "  </tbody>\n",
              "</table>\n",
              "</div>\n",
              "      <button class=\"colab-df-convert\" onclick=\"convertToInteractive('df-344c97be-e131-4f6d-aa68-b4f889f35d3b')\"\n",
              "              title=\"Convert this dataframe to an interactive table.\"\n",
              "              style=\"display:none;\">\n",
              "        \n",
              "  <svg xmlns=\"http://www.w3.org/2000/svg\" height=\"24px\"viewBox=\"0 0 24 24\"\n",
              "       width=\"24px\">\n",
              "    <path d=\"M0 0h24v24H0V0z\" fill=\"none\"/>\n",
              "    <path d=\"M18.56 5.44l.94 2.06.94-2.06 2.06-.94-2.06-.94-.94-2.06-.94 2.06-2.06.94zm-11 1L8.5 8.5l.94-2.06 2.06-.94-2.06-.94L8.5 2.5l-.94 2.06-2.06.94zm10 10l.94 2.06.94-2.06 2.06-.94-2.06-.94-.94-2.06-.94 2.06-2.06.94z\"/><path d=\"M17.41 7.96l-1.37-1.37c-.4-.4-.92-.59-1.43-.59-.52 0-1.04.2-1.43.59L10.3 9.45l-7.72 7.72c-.78.78-.78 2.05 0 2.83L4 21.41c.39.39.9.59 1.41.59.51 0 1.02-.2 1.41-.59l7.78-7.78 2.81-2.81c.8-.78.8-2.07 0-2.86zM5.41 20L4 18.59l7.72-7.72 1.47 1.35L5.41 20z\"/>\n",
              "  </svg>\n",
              "      </button>\n",
              "      \n",
              "  <style>\n",
              "    .colab-df-container {\n",
              "      display:flex;\n",
              "      flex-wrap:wrap;\n",
              "      gap: 12px;\n",
              "    }\n",
              "\n",
              "    .colab-df-convert {\n",
              "      background-color: #E8F0FE;\n",
              "      border: none;\n",
              "      border-radius: 50%;\n",
              "      cursor: pointer;\n",
              "      display: none;\n",
              "      fill: #1967D2;\n",
              "      height: 32px;\n",
              "      padding: 0 0 0 0;\n",
              "      width: 32px;\n",
              "    }\n",
              "\n",
              "    .colab-df-convert:hover {\n",
              "      background-color: #E2EBFA;\n",
              "      box-shadow: 0px 1px 2px rgba(60, 64, 67, 0.3), 0px 1px 3px 1px rgba(60, 64, 67, 0.15);\n",
              "      fill: #174EA6;\n",
              "    }\n",
              "\n",
              "    [theme=dark] .colab-df-convert {\n",
              "      background-color: #3B4455;\n",
              "      fill: #D2E3FC;\n",
              "    }\n",
              "\n",
              "    [theme=dark] .colab-df-convert:hover {\n",
              "      background-color: #434B5C;\n",
              "      box-shadow: 0px 1px 3px 1px rgba(0, 0, 0, 0.15);\n",
              "      filter: drop-shadow(0px 1px 2px rgba(0, 0, 0, 0.3));\n",
              "      fill: #FFFFFF;\n",
              "    }\n",
              "  </style>\n",
              "\n",
              "      <script>\n",
              "        const buttonEl =\n",
              "          document.querySelector('#df-344c97be-e131-4f6d-aa68-b4f889f35d3b button.colab-df-convert');\n",
              "        buttonEl.style.display =\n",
              "          google.colab.kernel.accessAllowed ? 'block' : 'none';\n",
              "\n",
              "        async function convertToInteractive(key) {\n",
              "          const element = document.querySelector('#df-344c97be-e131-4f6d-aa68-b4f889f35d3b');\n",
              "          const dataTable =\n",
              "            await google.colab.kernel.invokeFunction('convertToInteractive',\n",
              "                                                     [key], {});\n",
              "          if (!dataTable) return;\n",
              "\n",
              "          const docLinkHtml = 'Like what you see? Visit the ' +\n",
              "            '<a target=\"_blank\" href=https://colab.research.google.com/notebooks/data_table.ipynb>data table notebook</a>'\n",
              "            + ' to learn more about interactive tables.';\n",
              "          element.innerHTML = '';\n",
              "          dataTable['output_type'] = 'display_data';\n",
              "          await google.colab.output.renderOutput(dataTable, element);\n",
              "          const docLink = document.createElement('div');\n",
              "          docLink.innerHTML = docLinkHtml;\n",
              "          element.appendChild(docLink);\n",
              "        }\n",
              "      </script>\n",
              "    </div>\n",
              "  </div>\n",
              "  "
            ]
          },
          "metadata": {},
          "execution_count": 32
        }
      ]
    },
    {
      "cell_type": "code",
      "source": [
        "df.info()"
      ],
      "metadata": {
        "colab": {
          "base_uri": "https://localhost:8080/"
        },
        "id": "mUkPAkzciEtU",
        "outputId": "37aa0413-f953-4010-dbdb-1e9575127573"
      },
      "execution_count": 33,
      "outputs": [
        {
          "output_type": "stream",
          "name": "stdout",
          "text": [
            "<class 'pandas.core.frame.DataFrame'>\n",
            "RangeIndex: 11628 entries, 0 to 11627\n",
            "Data columns (total 24 columns):\n",
            " #   Column                      Non-Null Count  Dtype  \n",
            "---  ------                      --------------  -----  \n",
            " 0   AcademicYear                11628 non-null  object \n",
            " 1   Stu_deID                    11628 non-null  int64  \n",
            " 2   School_deID                 11628 non-null  int64  \n",
            " 3   GradeLevel                  11628 non-null  int64  \n",
            " 4   DOB                         11628 non-null  object \n",
            " 5   TestAge                     9469 non-null   float64\n",
            " 6   StudentGender               11628 non-null  object \n",
            " 7   StudentEthnicity            11628 non-null  object \n",
            " 8   Special_Education           11628 non-null  object \n",
            " 9   Homeless                    11628 non-null  object \n",
            " 10  SocioEconomically           11628 non-null  object \n",
            " 11  TestDayName                 9469 non-null   object \n",
            " 12  TestDate                    9469 non-null   object \n",
            " 13  OverallScore                11628 non-null  int64  \n",
            " 14  OverallLevel                11628 non-null  int64  \n",
            " 15  ExpectedAttendanceDays      11628 non-null  float64\n",
            " 16  DaysAttended                11628 non-null  float64\n",
            " 17  AttendedPct                 11625 non-null  float64\n",
            " 18  EnrolledPct                 11628 non-null  float64\n",
            " 19  GradeEnrolledPct            11628 non-null  float64\n",
            " 20  GradeAttendedPct            11625 non-null  float64\n",
            " 21  TeacherGender               11628 non-null  object \n",
            " 22  TeacherTotalYearsOfService  11628 non-null  int64  \n",
            " 23  TeacherEthnicity            11628 non-null  object \n",
            "dtypes: float64(7), int64(6), object(11)\n",
            "memory usage: 2.1+ MB\n"
          ]
        }
      ]
    },
    {
      "cell_type": "code",
      "source": [
        "# Convert date fields to datetime\n",
        "df['DOB'] =  pd.to_datetime(df.DOB)\n",
        "df['TestDate'] =  pd.to_datetime(df.TestDate)"
      ],
      "metadata": {
        "id": "dQkkVzDSiGan"
      },
      "execution_count": 34,
      "outputs": []
    },
    {
      "cell_type": "code",
      "source": [
        "df.head(3)"
      ],
      "metadata": {
        "colab": {
          "base_uri": "https://localhost:8080/",
          "height": 259
        },
        "id": "EZdSXn5riOpO",
        "outputId": "ba1dda11-960c-4882-d199-66eb21544e28"
      },
      "execution_count": 35,
      "outputs": [
        {
          "output_type": "execute_result",
          "data": {
            "text/plain": [
              "  AcademicYear  Stu_deID  School_deID  GradeLevel        DOB   TestAge StudentGender StudentEthnicity Special_Education Homeless SocioEconomically TestDayName   TestDate  OverallScore  OverallLevel  ExpectedAttendanceDays  DaysAttended  AttendedPct  EnrolledPct  GradeEnrolledPct  GradeAttendedPct TeacherGender  TeacherTotalYearsOfService TeacherEthnicity\n",
              "0    2017-2018         0            3           1 2011-07-04  6.828340             F         Hispanic                 N        Y                 Y   Wednesday 2018-05-02          1503             4                   180.0         175.0     0.972222          1.0          1.999999          1.972222             F                           4         Hispanic\n",
              "1    2017-2018         1            5           4 2008-07-28  9.631957             M         Hispanic                 N        N                 Y      Friday 2018-03-16          1535             3                   180.0         168.0     0.933333          1.0          4.999999          4.933333             F                           2         Multiple\n",
              "2    2017-2018         3            3           4 2008-05-06  9.905748             M         Hispanic                 Y        N                 N      Monday 2018-04-02          1480             2                   180.0         175.0     0.972222          1.0          4.999999          4.972222             F                          18            White"
            ],
            "text/html": [
              "\n",
              "  <div id=\"df-87ad8407-c7ff-4bf3-b608-490216c28e01\">\n",
              "    <div class=\"colab-df-container\">\n",
              "      <div>\n",
              "<style scoped>\n",
              "    .dataframe tbody tr th:only-of-type {\n",
              "        vertical-align: middle;\n",
              "    }\n",
              "\n",
              "    .dataframe tbody tr th {\n",
              "        vertical-align: top;\n",
              "    }\n",
              "\n",
              "    .dataframe thead th {\n",
              "        text-align: right;\n",
              "    }\n",
              "</style>\n",
              "<table border=\"1\" class=\"dataframe\">\n",
              "  <thead>\n",
              "    <tr style=\"text-align: right;\">\n",
              "      <th></th>\n",
              "      <th>AcademicYear</th>\n",
              "      <th>Stu_deID</th>\n",
              "      <th>School_deID</th>\n",
              "      <th>GradeLevel</th>\n",
              "      <th>DOB</th>\n",
              "      <th>TestAge</th>\n",
              "      <th>StudentGender</th>\n",
              "      <th>StudentEthnicity</th>\n",
              "      <th>Special_Education</th>\n",
              "      <th>Homeless</th>\n",
              "      <th>SocioEconomically</th>\n",
              "      <th>TestDayName</th>\n",
              "      <th>TestDate</th>\n",
              "      <th>OverallScore</th>\n",
              "      <th>OverallLevel</th>\n",
              "      <th>ExpectedAttendanceDays</th>\n",
              "      <th>DaysAttended</th>\n",
              "      <th>AttendedPct</th>\n",
              "      <th>EnrolledPct</th>\n",
              "      <th>GradeEnrolledPct</th>\n",
              "      <th>GradeAttendedPct</th>\n",
              "      <th>TeacherGender</th>\n",
              "      <th>TeacherTotalYearsOfService</th>\n",
              "      <th>TeacherEthnicity</th>\n",
              "    </tr>\n",
              "  </thead>\n",
              "  <tbody>\n",
              "    <tr>\n",
              "      <th>0</th>\n",
              "      <td>2017-2018</td>\n",
              "      <td>0</td>\n",
              "      <td>3</td>\n",
              "      <td>1</td>\n",
              "      <td>2011-07-04</td>\n",
              "      <td>6.828340</td>\n",
              "      <td>F</td>\n",
              "      <td>Hispanic</td>\n",
              "      <td>N</td>\n",
              "      <td>Y</td>\n",
              "      <td>Y</td>\n",
              "      <td>Wednesday</td>\n",
              "      <td>2018-05-02</td>\n",
              "      <td>1503</td>\n",
              "      <td>4</td>\n",
              "      <td>180.0</td>\n",
              "      <td>175.0</td>\n",
              "      <td>0.972222</td>\n",
              "      <td>1.0</td>\n",
              "      <td>1.999999</td>\n",
              "      <td>1.972222</td>\n",
              "      <td>F</td>\n",
              "      <td>4</td>\n",
              "      <td>Hispanic</td>\n",
              "    </tr>\n",
              "    <tr>\n",
              "      <th>1</th>\n",
              "      <td>2017-2018</td>\n",
              "      <td>1</td>\n",
              "      <td>5</td>\n",
              "      <td>4</td>\n",
              "      <td>2008-07-28</td>\n",
              "      <td>9.631957</td>\n",
              "      <td>M</td>\n",
              "      <td>Hispanic</td>\n",
              "      <td>N</td>\n",
              "      <td>N</td>\n",
              "      <td>Y</td>\n",
              "      <td>Friday</td>\n",
              "      <td>2018-03-16</td>\n",
              "      <td>1535</td>\n",
              "      <td>3</td>\n",
              "      <td>180.0</td>\n",
              "      <td>168.0</td>\n",
              "      <td>0.933333</td>\n",
              "      <td>1.0</td>\n",
              "      <td>4.999999</td>\n",
              "      <td>4.933333</td>\n",
              "      <td>F</td>\n",
              "      <td>2</td>\n",
              "      <td>Multiple</td>\n",
              "    </tr>\n",
              "    <tr>\n",
              "      <th>2</th>\n",
              "      <td>2017-2018</td>\n",
              "      <td>3</td>\n",
              "      <td>3</td>\n",
              "      <td>4</td>\n",
              "      <td>2008-05-06</td>\n",
              "      <td>9.905748</td>\n",
              "      <td>M</td>\n",
              "      <td>Hispanic</td>\n",
              "      <td>Y</td>\n",
              "      <td>N</td>\n",
              "      <td>N</td>\n",
              "      <td>Monday</td>\n",
              "      <td>2018-04-02</td>\n",
              "      <td>1480</td>\n",
              "      <td>2</td>\n",
              "      <td>180.0</td>\n",
              "      <td>175.0</td>\n",
              "      <td>0.972222</td>\n",
              "      <td>1.0</td>\n",
              "      <td>4.999999</td>\n",
              "      <td>4.972222</td>\n",
              "      <td>F</td>\n",
              "      <td>18</td>\n",
              "      <td>White</td>\n",
              "    </tr>\n",
              "  </tbody>\n",
              "</table>\n",
              "</div>\n",
              "      <button class=\"colab-df-convert\" onclick=\"convertToInteractive('df-87ad8407-c7ff-4bf3-b608-490216c28e01')\"\n",
              "              title=\"Convert this dataframe to an interactive table.\"\n",
              "              style=\"display:none;\">\n",
              "        \n",
              "  <svg xmlns=\"http://www.w3.org/2000/svg\" height=\"24px\"viewBox=\"0 0 24 24\"\n",
              "       width=\"24px\">\n",
              "    <path d=\"M0 0h24v24H0V0z\" fill=\"none\"/>\n",
              "    <path d=\"M18.56 5.44l.94 2.06.94-2.06 2.06-.94-2.06-.94-.94-2.06-.94 2.06-2.06.94zm-11 1L8.5 8.5l.94-2.06 2.06-.94-2.06-.94L8.5 2.5l-.94 2.06-2.06.94zm10 10l.94 2.06.94-2.06 2.06-.94-2.06-.94-.94-2.06-.94 2.06-2.06.94z\"/><path d=\"M17.41 7.96l-1.37-1.37c-.4-.4-.92-.59-1.43-.59-.52 0-1.04.2-1.43.59L10.3 9.45l-7.72 7.72c-.78.78-.78 2.05 0 2.83L4 21.41c.39.39.9.59 1.41.59.51 0 1.02-.2 1.41-.59l7.78-7.78 2.81-2.81c.8-.78.8-2.07 0-2.86zM5.41 20L4 18.59l7.72-7.72 1.47 1.35L5.41 20z\"/>\n",
              "  </svg>\n",
              "      </button>\n",
              "      \n",
              "  <style>\n",
              "    .colab-df-container {\n",
              "      display:flex;\n",
              "      flex-wrap:wrap;\n",
              "      gap: 12px;\n",
              "    }\n",
              "\n",
              "    .colab-df-convert {\n",
              "      background-color: #E8F0FE;\n",
              "      border: none;\n",
              "      border-radius: 50%;\n",
              "      cursor: pointer;\n",
              "      display: none;\n",
              "      fill: #1967D2;\n",
              "      height: 32px;\n",
              "      padding: 0 0 0 0;\n",
              "      width: 32px;\n",
              "    }\n",
              "\n",
              "    .colab-df-convert:hover {\n",
              "      background-color: #E2EBFA;\n",
              "      box-shadow: 0px 1px 2px rgba(60, 64, 67, 0.3), 0px 1px 3px 1px rgba(60, 64, 67, 0.15);\n",
              "      fill: #174EA6;\n",
              "    }\n",
              "\n",
              "    [theme=dark] .colab-df-convert {\n",
              "      background-color: #3B4455;\n",
              "      fill: #D2E3FC;\n",
              "    }\n",
              "\n",
              "    [theme=dark] .colab-df-convert:hover {\n",
              "      background-color: #434B5C;\n",
              "      box-shadow: 0px 1px 3px 1px rgba(0, 0, 0, 0.15);\n",
              "      filter: drop-shadow(0px 1px 2px rgba(0, 0, 0, 0.3));\n",
              "      fill: #FFFFFF;\n",
              "    }\n",
              "  </style>\n",
              "\n",
              "      <script>\n",
              "        const buttonEl =\n",
              "          document.querySelector('#df-87ad8407-c7ff-4bf3-b608-490216c28e01 button.colab-df-convert');\n",
              "        buttonEl.style.display =\n",
              "          google.colab.kernel.accessAllowed ? 'block' : 'none';\n",
              "\n",
              "        async function convertToInteractive(key) {\n",
              "          const element = document.querySelector('#df-87ad8407-c7ff-4bf3-b608-490216c28e01');\n",
              "          const dataTable =\n",
              "            await google.colab.kernel.invokeFunction('convertToInteractive',\n",
              "                                                     [key], {});\n",
              "          if (!dataTable) return;\n",
              "\n",
              "          const docLinkHtml = 'Like what you see? Visit the ' +\n",
              "            '<a target=\"_blank\" href=https://colab.research.google.com/notebooks/data_table.ipynb>data table notebook</a>'\n",
              "            + ' to learn more about interactive tables.';\n",
              "          element.innerHTML = '';\n",
              "          dataTable['output_type'] = 'display_data';\n",
              "          await google.colab.output.renderOutput(dataTable, element);\n",
              "          const docLink = document.createElement('div');\n",
              "          docLink.innerHTML = docLinkHtml;\n",
              "          element.appendChild(docLink);\n",
              "        }\n",
              "      </script>\n",
              "    </div>\n",
              "  </div>\n",
              "  "
            ]
          },
          "metadata": {},
          "execution_count": 35
        }
      ]
    },
    {
      "cell_type": "markdown",
      "source": [
        "####**CHECK FOR MISSING VALUES, DUPLICATES, AND SCORES WITH ZERO VALUES**"
      ],
      "metadata": {
        "id": "pLCDExvJjdKM"
      }
    },
    {
      "cell_type": "markdown",
      "source": [
        "###**MISSING VALUES**"
      ],
      "metadata": {
        "id": "5oSZbsOLjvPB"
      }
    },
    {
      "cell_type": "code",
      "source": [
        "# Missing data value counts by AcademicYear\n",
        "# Most missing data is from when the pandemic quarantine went into effect, March, 2020\n",
        "# The 2020-2021 school year also has many students who did not test due to distance learning, making it difficult to test all students\n",
        "df[(df.TestDate.isna() == True)]['AcademicYear'].value_counts().sort_index(ascending=False)"
      ],
      "metadata": {
        "colab": {
          "base_uri": "https://localhost:8080/"
        },
        "id": "0ys8eL-NibIg",
        "outputId": "595d75e7-d4ee-4750-db3c-3bbf2b7a216e"
      },
      "execution_count": 36,
      "outputs": [
        {
          "output_type": "execute_result",
          "data": {
            "text/plain": [
              "2020-2021     858\n",
              "2019-2020    1255\n",
              "2018-2019      46\n",
              "Name: AcademicYear, dtype: int64"
            ]
          },
          "metadata": {},
          "execution_count": 36
        }
      ]
    },
    {
      "cell_type": "code",
      "source": [
        "# Initial view of shape and missing data\n",
        "print(\"Shape: \",df.shape,\"\\n\")\n",
        "\n",
        "# Columns missing data\n",
        "df.isnull().sum().to_frame(name='Missing').query('Missing > 0')"
      ],
      "metadata": {
        "colab": {
          "base_uri": "https://localhost:8080/",
          "height": 243
        },
        "id": "1PGThr2ai5wE",
        "outputId": "57f56d00-e06c-4dcc-d074-194b1018a045"
      },
      "execution_count": 37,
      "outputs": [
        {
          "output_type": "stream",
          "name": "stdout",
          "text": [
            "Shape:  (11628, 24) \n",
            "\n"
          ]
        },
        {
          "output_type": "execute_result",
          "data": {
            "text/plain": [
              "                  Missing\n",
              "TestAge              2159\n",
              "TestDayName          2159\n",
              "TestDate             2159\n",
              "AttendedPct             3\n",
              "GradeAttendedPct        3"
            ],
            "text/html": [
              "\n",
              "  <div id=\"df-ed55cbc6-f898-4d43-90ca-153d103da534\">\n",
              "    <div class=\"colab-df-container\">\n",
              "      <div>\n",
              "<style scoped>\n",
              "    .dataframe tbody tr th:only-of-type {\n",
              "        vertical-align: middle;\n",
              "    }\n",
              "\n",
              "    .dataframe tbody tr th {\n",
              "        vertical-align: top;\n",
              "    }\n",
              "\n",
              "    .dataframe thead th {\n",
              "        text-align: right;\n",
              "    }\n",
              "</style>\n",
              "<table border=\"1\" class=\"dataframe\">\n",
              "  <thead>\n",
              "    <tr style=\"text-align: right;\">\n",
              "      <th></th>\n",
              "      <th>Missing</th>\n",
              "    </tr>\n",
              "  </thead>\n",
              "  <tbody>\n",
              "    <tr>\n",
              "      <th>TestAge</th>\n",
              "      <td>2159</td>\n",
              "    </tr>\n",
              "    <tr>\n",
              "      <th>TestDayName</th>\n",
              "      <td>2159</td>\n",
              "    </tr>\n",
              "    <tr>\n",
              "      <th>TestDate</th>\n",
              "      <td>2159</td>\n",
              "    </tr>\n",
              "    <tr>\n",
              "      <th>AttendedPct</th>\n",
              "      <td>3</td>\n",
              "    </tr>\n",
              "    <tr>\n",
              "      <th>GradeAttendedPct</th>\n",
              "      <td>3</td>\n",
              "    </tr>\n",
              "  </tbody>\n",
              "</table>\n",
              "</div>\n",
              "      <button class=\"colab-df-convert\" onclick=\"convertToInteractive('df-ed55cbc6-f898-4d43-90ca-153d103da534')\"\n",
              "              title=\"Convert this dataframe to an interactive table.\"\n",
              "              style=\"display:none;\">\n",
              "        \n",
              "  <svg xmlns=\"http://www.w3.org/2000/svg\" height=\"24px\"viewBox=\"0 0 24 24\"\n",
              "       width=\"24px\">\n",
              "    <path d=\"M0 0h24v24H0V0z\" fill=\"none\"/>\n",
              "    <path d=\"M18.56 5.44l.94 2.06.94-2.06 2.06-.94-2.06-.94-.94-2.06-.94 2.06-2.06.94zm-11 1L8.5 8.5l.94-2.06 2.06-.94-2.06-.94L8.5 2.5l-.94 2.06-2.06.94zm10 10l.94 2.06.94-2.06 2.06-.94-2.06-.94-.94-2.06-.94 2.06-2.06.94z\"/><path d=\"M17.41 7.96l-1.37-1.37c-.4-.4-.92-.59-1.43-.59-.52 0-1.04.2-1.43.59L10.3 9.45l-7.72 7.72c-.78.78-.78 2.05 0 2.83L4 21.41c.39.39.9.59 1.41.59.51 0 1.02-.2 1.41-.59l7.78-7.78 2.81-2.81c.8-.78.8-2.07 0-2.86zM5.41 20L4 18.59l7.72-7.72 1.47 1.35L5.41 20z\"/>\n",
              "  </svg>\n",
              "      </button>\n",
              "      \n",
              "  <style>\n",
              "    .colab-df-container {\n",
              "      display:flex;\n",
              "      flex-wrap:wrap;\n",
              "      gap: 12px;\n",
              "    }\n",
              "\n",
              "    .colab-df-convert {\n",
              "      background-color: #E8F0FE;\n",
              "      border: none;\n",
              "      border-radius: 50%;\n",
              "      cursor: pointer;\n",
              "      display: none;\n",
              "      fill: #1967D2;\n",
              "      height: 32px;\n",
              "      padding: 0 0 0 0;\n",
              "      width: 32px;\n",
              "    }\n",
              "\n",
              "    .colab-df-convert:hover {\n",
              "      background-color: #E2EBFA;\n",
              "      box-shadow: 0px 1px 2px rgba(60, 64, 67, 0.3), 0px 1px 3px 1px rgba(60, 64, 67, 0.15);\n",
              "      fill: #174EA6;\n",
              "    }\n",
              "\n",
              "    [theme=dark] .colab-df-convert {\n",
              "      background-color: #3B4455;\n",
              "      fill: #D2E3FC;\n",
              "    }\n",
              "\n",
              "    [theme=dark] .colab-df-convert:hover {\n",
              "      background-color: #434B5C;\n",
              "      box-shadow: 0px 1px 3px 1px rgba(0, 0, 0, 0.15);\n",
              "      filter: drop-shadow(0px 1px 2px rgba(0, 0, 0, 0.3));\n",
              "      fill: #FFFFFF;\n",
              "    }\n",
              "  </style>\n",
              "\n",
              "      <script>\n",
              "        const buttonEl =\n",
              "          document.querySelector('#df-ed55cbc6-f898-4d43-90ca-153d103da534 button.colab-df-convert');\n",
              "        buttonEl.style.display =\n",
              "          google.colab.kernel.accessAllowed ? 'block' : 'none';\n",
              "\n",
              "        async function convertToInteractive(key) {\n",
              "          const element = document.querySelector('#df-ed55cbc6-f898-4d43-90ca-153d103da534');\n",
              "          const dataTable =\n",
              "            await google.colab.kernel.invokeFunction('convertToInteractive',\n",
              "                                                     [key], {});\n",
              "          if (!dataTable) return;\n",
              "\n",
              "          const docLinkHtml = 'Like what you see? Visit the ' +\n",
              "            '<a target=\"_blank\" href=https://colab.research.google.com/notebooks/data_table.ipynb>data table notebook</a>'\n",
              "            + ' to learn more about interactive tables.';\n",
              "          element.innerHTML = '';\n",
              "          dataTable['output_type'] = 'display_data';\n",
              "          await google.colab.output.renderOutput(dataTable, element);\n",
              "          const docLink = document.createElement('div');\n",
              "          docLink.innerHTML = docLinkHtml;\n",
              "          element.appendChild(docLink);\n",
              "        }\n",
              "      </script>\n",
              "    </div>\n",
              "  </div>\n",
              "  "
            ]
          },
          "metadata": {},
          "execution_count": 37
        }
      ]
    },
    {
      "cell_type": "code",
      "source": [
        "# Re-load data omitting missing data\n",
        "df = df[(df.TestDate.isna() == False)]\n",
        "\n",
        "print(\"Shape: \",df.shape,\"\\n\")\n",
        "\n",
        "# Columns missing data\n",
        "df.isnull().sum().to_frame(name='Missing').query('Missing > 0')"
      ],
      "metadata": {
        "colab": {
          "base_uri": "https://localhost:8080/",
          "height": 149
        },
        "id": "ERKYnQRVi_oS",
        "outputId": "16048757-286b-472c-86c7-12d49b539ed5"
      },
      "execution_count": 38,
      "outputs": [
        {
          "output_type": "stream",
          "name": "stdout",
          "text": [
            "Shape:  (9469, 24) \n",
            "\n"
          ]
        },
        {
          "output_type": "execute_result",
          "data": {
            "text/plain": [
              "                  Missing\n",
              "AttendedPct             2\n",
              "GradeAttendedPct        2"
            ],
            "text/html": [
              "\n",
              "  <div id=\"df-c55d2ae9-63ff-44fc-b942-4395c04b34e0\">\n",
              "    <div class=\"colab-df-container\">\n",
              "      <div>\n",
              "<style scoped>\n",
              "    .dataframe tbody tr th:only-of-type {\n",
              "        vertical-align: middle;\n",
              "    }\n",
              "\n",
              "    .dataframe tbody tr th {\n",
              "        vertical-align: top;\n",
              "    }\n",
              "\n",
              "    .dataframe thead th {\n",
              "        text-align: right;\n",
              "    }\n",
              "</style>\n",
              "<table border=\"1\" class=\"dataframe\">\n",
              "  <thead>\n",
              "    <tr style=\"text-align: right;\">\n",
              "      <th></th>\n",
              "      <th>Missing</th>\n",
              "    </tr>\n",
              "  </thead>\n",
              "  <tbody>\n",
              "    <tr>\n",
              "      <th>AttendedPct</th>\n",
              "      <td>2</td>\n",
              "    </tr>\n",
              "    <tr>\n",
              "      <th>GradeAttendedPct</th>\n",
              "      <td>2</td>\n",
              "    </tr>\n",
              "  </tbody>\n",
              "</table>\n",
              "</div>\n",
              "      <button class=\"colab-df-convert\" onclick=\"convertToInteractive('df-c55d2ae9-63ff-44fc-b942-4395c04b34e0')\"\n",
              "              title=\"Convert this dataframe to an interactive table.\"\n",
              "              style=\"display:none;\">\n",
              "        \n",
              "  <svg xmlns=\"http://www.w3.org/2000/svg\" height=\"24px\"viewBox=\"0 0 24 24\"\n",
              "       width=\"24px\">\n",
              "    <path d=\"M0 0h24v24H0V0z\" fill=\"none\"/>\n",
              "    <path d=\"M18.56 5.44l.94 2.06.94-2.06 2.06-.94-2.06-.94-.94-2.06-.94 2.06-2.06.94zm-11 1L8.5 8.5l.94-2.06 2.06-.94-2.06-.94L8.5 2.5l-.94 2.06-2.06.94zm10 10l.94 2.06.94-2.06 2.06-.94-2.06-.94-.94-2.06-.94 2.06-2.06.94z\"/><path d=\"M17.41 7.96l-1.37-1.37c-.4-.4-.92-.59-1.43-.59-.52 0-1.04.2-1.43.59L10.3 9.45l-7.72 7.72c-.78.78-.78 2.05 0 2.83L4 21.41c.39.39.9.59 1.41.59.51 0 1.02-.2 1.41-.59l7.78-7.78 2.81-2.81c.8-.78.8-2.07 0-2.86zM5.41 20L4 18.59l7.72-7.72 1.47 1.35L5.41 20z\"/>\n",
              "  </svg>\n",
              "      </button>\n",
              "      \n",
              "  <style>\n",
              "    .colab-df-container {\n",
              "      display:flex;\n",
              "      flex-wrap:wrap;\n",
              "      gap: 12px;\n",
              "    }\n",
              "\n",
              "    .colab-df-convert {\n",
              "      background-color: #E8F0FE;\n",
              "      border: none;\n",
              "      border-radius: 50%;\n",
              "      cursor: pointer;\n",
              "      display: none;\n",
              "      fill: #1967D2;\n",
              "      height: 32px;\n",
              "      padding: 0 0 0 0;\n",
              "      width: 32px;\n",
              "    }\n",
              "\n",
              "    .colab-df-convert:hover {\n",
              "      background-color: #E2EBFA;\n",
              "      box-shadow: 0px 1px 2px rgba(60, 64, 67, 0.3), 0px 1px 3px 1px rgba(60, 64, 67, 0.15);\n",
              "      fill: #174EA6;\n",
              "    }\n",
              "\n",
              "    [theme=dark] .colab-df-convert {\n",
              "      background-color: #3B4455;\n",
              "      fill: #D2E3FC;\n",
              "    }\n",
              "\n",
              "    [theme=dark] .colab-df-convert:hover {\n",
              "      background-color: #434B5C;\n",
              "      box-shadow: 0px 1px 3px 1px rgba(0, 0, 0, 0.15);\n",
              "      filter: drop-shadow(0px 1px 2px rgba(0, 0, 0, 0.3));\n",
              "      fill: #FFFFFF;\n",
              "    }\n",
              "  </style>\n",
              "\n",
              "      <script>\n",
              "        const buttonEl =\n",
              "          document.querySelector('#df-c55d2ae9-63ff-44fc-b942-4395c04b34e0 button.colab-df-convert');\n",
              "        buttonEl.style.display =\n",
              "          google.colab.kernel.accessAllowed ? 'block' : 'none';\n",
              "\n",
              "        async function convertToInteractive(key) {\n",
              "          const element = document.querySelector('#df-c55d2ae9-63ff-44fc-b942-4395c04b34e0');\n",
              "          const dataTable =\n",
              "            await google.colab.kernel.invokeFunction('convertToInteractive',\n",
              "                                                     [key], {});\n",
              "          if (!dataTable) return;\n",
              "\n",
              "          const docLinkHtml = 'Like what you see? Visit the ' +\n",
              "            '<a target=\"_blank\" href=https://colab.research.google.com/notebooks/data_table.ipynb>data table notebook</a>'\n",
              "            + ' to learn more about interactive tables.';\n",
              "          element.innerHTML = '';\n",
              "          dataTable['output_type'] = 'display_data';\n",
              "          await google.colab.output.renderOutput(dataTable, element);\n",
              "          const docLink = document.createElement('div');\n",
              "          docLink.innerHTML = docLinkHtml;\n",
              "          element.appendChild(docLink);\n",
              "        }\n",
              "      </script>\n",
              "    </div>\n",
              "  </div>\n",
              "  "
            ]
          },
          "metadata": {},
          "execution_count": 38
        }
      ]
    },
    {
      "cell_type": "code",
      "source": [
        "# Repeat...to verify no more data is missing\n",
        "df = df[(df.AttendedPct.isna() == False)]\n",
        "\n",
        "print(\"Shape: \",df.shape,\"\\n\")\n",
        "\n",
        "# Columns missing data\n",
        "df.isnull().sum().to_frame(name='Missing').query('Missing > 0')"
      ],
      "metadata": {
        "colab": {
          "base_uri": "https://localhost:8080/",
          "height": 86
        },
        "id": "DzxcmDh5jC_i",
        "outputId": "ff4a27bd-7b96-4268-9a2e-dda4d8102029"
      },
      "execution_count": 39,
      "outputs": [
        {
          "output_type": "stream",
          "name": "stdout",
          "text": [
            "Shape:  (9467, 24) \n",
            "\n"
          ]
        },
        {
          "output_type": "execute_result",
          "data": {
            "text/plain": [
              "Empty DataFrame\n",
              "Columns: [Missing]\n",
              "Index: []"
            ],
            "text/html": [
              "\n",
              "  <div id=\"df-609cdf51-88c4-4536-b996-73b69c309155\">\n",
              "    <div class=\"colab-df-container\">\n",
              "      <div>\n",
              "<style scoped>\n",
              "    .dataframe tbody tr th:only-of-type {\n",
              "        vertical-align: middle;\n",
              "    }\n",
              "\n",
              "    .dataframe tbody tr th {\n",
              "        vertical-align: top;\n",
              "    }\n",
              "\n",
              "    .dataframe thead th {\n",
              "        text-align: right;\n",
              "    }\n",
              "</style>\n",
              "<table border=\"1\" class=\"dataframe\">\n",
              "  <thead>\n",
              "    <tr style=\"text-align: right;\">\n",
              "      <th></th>\n",
              "      <th>Missing</th>\n",
              "    </tr>\n",
              "  </thead>\n",
              "  <tbody>\n",
              "  </tbody>\n",
              "</table>\n",
              "</div>\n",
              "      <button class=\"colab-df-convert\" onclick=\"convertToInteractive('df-609cdf51-88c4-4536-b996-73b69c309155')\"\n",
              "              title=\"Convert this dataframe to an interactive table.\"\n",
              "              style=\"display:none;\">\n",
              "        \n",
              "  <svg xmlns=\"http://www.w3.org/2000/svg\" height=\"24px\"viewBox=\"0 0 24 24\"\n",
              "       width=\"24px\">\n",
              "    <path d=\"M0 0h24v24H0V0z\" fill=\"none\"/>\n",
              "    <path d=\"M18.56 5.44l.94 2.06.94-2.06 2.06-.94-2.06-.94-.94-2.06-.94 2.06-2.06.94zm-11 1L8.5 8.5l.94-2.06 2.06-.94-2.06-.94L8.5 2.5l-.94 2.06-2.06.94zm10 10l.94 2.06.94-2.06 2.06-.94-2.06-.94-.94-2.06-.94 2.06-2.06.94z\"/><path d=\"M17.41 7.96l-1.37-1.37c-.4-.4-.92-.59-1.43-.59-.52 0-1.04.2-1.43.59L10.3 9.45l-7.72 7.72c-.78.78-.78 2.05 0 2.83L4 21.41c.39.39.9.59 1.41.59.51 0 1.02-.2 1.41-.59l7.78-7.78 2.81-2.81c.8-.78.8-2.07 0-2.86zM5.41 20L4 18.59l7.72-7.72 1.47 1.35L5.41 20z\"/>\n",
              "  </svg>\n",
              "      </button>\n",
              "      \n",
              "  <style>\n",
              "    .colab-df-container {\n",
              "      display:flex;\n",
              "      flex-wrap:wrap;\n",
              "      gap: 12px;\n",
              "    }\n",
              "\n",
              "    .colab-df-convert {\n",
              "      background-color: #E8F0FE;\n",
              "      border: none;\n",
              "      border-radius: 50%;\n",
              "      cursor: pointer;\n",
              "      display: none;\n",
              "      fill: #1967D2;\n",
              "      height: 32px;\n",
              "      padding: 0 0 0 0;\n",
              "      width: 32px;\n",
              "    }\n",
              "\n",
              "    .colab-df-convert:hover {\n",
              "      background-color: #E2EBFA;\n",
              "      box-shadow: 0px 1px 2px rgba(60, 64, 67, 0.3), 0px 1px 3px 1px rgba(60, 64, 67, 0.15);\n",
              "      fill: #174EA6;\n",
              "    }\n",
              "\n",
              "    [theme=dark] .colab-df-convert {\n",
              "      background-color: #3B4455;\n",
              "      fill: #D2E3FC;\n",
              "    }\n",
              "\n",
              "    [theme=dark] .colab-df-convert:hover {\n",
              "      background-color: #434B5C;\n",
              "      box-shadow: 0px 1px 3px 1px rgba(0, 0, 0, 0.15);\n",
              "      filter: drop-shadow(0px 1px 2px rgba(0, 0, 0, 0.3));\n",
              "      fill: #FFFFFF;\n",
              "    }\n",
              "  </style>\n",
              "\n",
              "      <script>\n",
              "        const buttonEl =\n",
              "          document.querySelector('#df-609cdf51-88c4-4536-b996-73b69c309155 button.colab-df-convert');\n",
              "        buttonEl.style.display =\n",
              "          google.colab.kernel.accessAllowed ? 'block' : 'none';\n",
              "\n",
              "        async function convertToInteractive(key) {\n",
              "          const element = document.querySelector('#df-609cdf51-88c4-4536-b996-73b69c309155');\n",
              "          const dataTable =\n",
              "            await google.colab.kernel.invokeFunction('convertToInteractive',\n",
              "                                                     [key], {});\n",
              "          if (!dataTable) return;\n",
              "\n",
              "          const docLinkHtml = 'Like what you see? Visit the ' +\n",
              "            '<a target=\"_blank\" href=https://colab.research.google.com/notebooks/data_table.ipynb>data table notebook</a>'\n",
              "            + ' to learn more about interactive tables.';\n",
              "          element.innerHTML = '';\n",
              "          dataTable['output_type'] = 'display_data';\n",
              "          await google.colab.output.renderOutput(dataTable, element);\n",
              "          const docLink = document.createElement('div');\n",
              "          docLink.innerHTML = docLinkHtml;\n",
              "          element.appendChild(docLink);\n",
              "        }\n",
              "      </script>\n",
              "    </div>\n",
              "  </div>\n",
              "  "
            ]
          },
          "metadata": {},
          "execution_count": 39
        }
      ]
    },
    {
      "cell_type": "markdown",
      "source": [
        "####**SCORES WITH 0 VALUES**"
      ],
      "metadata": {
        "id": "92nbIecKjsds"
      }
    },
    {
      "cell_type": "code",
      "source": [
        "# omit records where scores are zero\n",
        "df = df.query(\"OverallScore != 0\")"
      ],
      "metadata": {
        "id": "ASC5EIbyjHem"
      },
      "execution_count": 40,
      "outputs": []
    },
    {
      "cell_type": "markdown",
      "source": [
        "####**DUPLICATES**"
      ],
      "metadata": {
        "id": "mkENNXtFjqQ_"
      }
    },
    {
      "cell_type": "code",
      "source": [
        "#check for duplicated rows in the dataset\n",
        "duplicated_rows = df[df.duplicated()] \n",
        "print(\"number of duplicate rows: \", duplicated_rows.shape)"
      ],
      "metadata": {
        "colab": {
          "base_uri": "https://localhost:8080/"
        },
        "id": "0ROVpWrhjik8",
        "outputId": "823c1868-7b38-4e22-91f2-6fbb07afdbe1"
      },
      "execution_count": 41,
      "outputs": [
        {
          "output_type": "stream",
          "name": "stdout",
          "text": [
            "number of duplicate rows:  (0, 24)\n"
          ]
        }
      ]
    },
    {
      "cell_type": "markdown",
      "source": [
        "####**STANDARDIZATION OF OVERALLSCORE VALUES**\n",
        "\n",
        "*Since the OverallScore values range differently between grade levels, standardization was performed to obtain the normal distribution. "
      ],
      "metadata": {
        "id": "KykcfVSaoejo"
      }
    },
    {
      "cell_type": "code",
      "source": [
        "df.groupby('GradeLevel').agg({'OverallScore': ['min', 'max']})"
      ],
      "metadata": {
        "colab": {
          "base_uri": "https://localhost:8080/",
          "height": 331
        },
        "id": "rCaJDV6cnvem",
        "outputId": "ee290e5d-fea0-4525-ebaa-b01095452be0"
      },
      "execution_count": 42,
      "outputs": [
        {
          "output_type": "execute_result",
          "data": {
            "text/plain": [
              "           OverallScore      \n",
              "                    min   max\n",
              "GradeLevel                   \n",
              "0                  1150  1700\n",
              "1                  1150  1627\n",
              "2                  1150  1700\n",
              "3                  1150  1672\n",
              "4                  1150  1731\n",
              "5                  1150  1731\n",
              "6                  1150  1729"
            ],
            "text/html": [
              "\n",
              "  <div id=\"df-ae788254-75b5-41ba-adad-2c931b48520f\">\n",
              "    <div class=\"colab-df-container\">\n",
              "      <div>\n",
              "<style scoped>\n",
              "    .dataframe tbody tr th:only-of-type {\n",
              "        vertical-align: middle;\n",
              "    }\n",
              "\n",
              "    .dataframe tbody tr th {\n",
              "        vertical-align: top;\n",
              "    }\n",
              "\n",
              "    .dataframe thead tr th {\n",
              "        text-align: left;\n",
              "    }\n",
              "\n",
              "    .dataframe thead tr:last-of-type th {\n",
              "        text-align: right;\n",
              "    }\n",
              "</style>\n",
              "<table border=\"1\" class=\"dataframe\">\n",
              "  <thead>\n",
              "    <tr>\n",
              "      <th></th>\n",
              "      <th colspan=\"2\" halign=\"left\">OverallScore</th>\n",
              "    </tr>\n",
              "    <tr>\n",
              "      <th></th>\n",
              "      <th>min</th>\n",
              "      <th>max</th>\n",
              "    </tr>\n",
              "    <tr>\n",
              "      <th>GradeLevel</th>\n",
              "      <th></th>\n",
              "      <th></th>\n",
              "    </tr>\n",
              "  </thead>\n",
              "  <tbody>\n",
              "    <tr>\n",
              "      <th>0</th>\n",
              "      <td>1150</td>\n",
              "      <td>1700</td>\n",
              "    </tr>\n",
              "    <tr>\n",
              "      <th>1</th>\n",
              "      <td>1150</td>\n",
              "      <td>1627</td>\n",
              "    </tr>\n",
              "    <tr>\n",
              "      <th>2</th>\n",
              "      <td>1150</td>\n",
              "      <td>1700</td>\n",
              "    </tr>\n",
              "    <tr>\n",
              "      <th>3</th>\n",
              "      <td>1150</td>\n",
              "      <td>1672</td>\n",
              "    </tr>\n",
              "    <tr>\n",
              "      <th>4</th>\n",
              "      <td>1150</td>\n",
              "      <td>1731</td>\n",
              "    </tr>\n",
              "    <tr>\n",
              "      <th>5</th>\n",
              "      <td>1150</td>\n",
              "      <td>1731</td>\n",
              "    </tr>\n",
              "    <tr>\n",
              "      <th>6</th>\n",
              "      <td>1150</td>\n",
              "      <td>1729</td>\n",
              "    </tr>\n",
              "  </tbody>\n",
              "</table>\n",
              "</div>\n",
              "      <button class=\"colab-df-convert\" onclick=\"convertToInteractive('df-ae788254-75b5-41ba-adad-2c931b48520f')\"\n",
              "              title=\"Convert this dataframe to an interactive table.\"\n",
              "              style=\"display:none;\">\n",
              "        \n",
              "  <svg xmlns=\"http://www.w3.org/2000/svg\" height=\"24px\"viewBox=\"0 0 24 24\"\n",
              "       width=\"24px\">\n",
              "    <path d=\"M0 0h24v24H0V0z\" fill=\"none\"/>\n",
              "    <path d=\"M18.56 5.44l.94 2.06.94-2.06 2.06-.94-2.06-.94-.94-2.06-.94 2.06-2.06.94zm-11 1L8.5 8.5l.94-2.06 2.06-.94-2.06-.94L8.5 2.5l-.94 2.06-2.06.94zm10 10l.94 2.06.94-2.06 2.06-.94-2.06-.94-.94-2.06-.94 2.06-2.06.94z\"/><path d=\"M17.41 7.96l-1.37-1.37c-.4-.4-.92-.59-1.43-.59-.52 0-1.04.2-1.43.59L10.3 9.45l-7.72 7.72c-.78.78-.78 2.05 0 2.83L4 21.41c.39.39.9.59 1.41.59.51 0 1.02-.2 1.41-.59l7.78-7.78 2.81-2.81c.8-.78.8-2.07 0-2.86zM5.41 20L4 18.59l7.72-7.72 1.47 1.35L5.41 20z\"/>\n",
              "  </svg>\n",
              "      </button>\n",
              "      \n",
              "  <style>\n",
              "    .colab-df-container {\n",
              "      display:flex;\n",
              "      flex-wrap:wrap;\n",
              "      gap: 12px;\n",
              "    }\n",
              "\n",
              "    .colab-df-convert {\n",
              "      background-color: #E8F0FE;\n",
              "      border: none;\n",
              "      border-radius: 50%;\n",
              "      cursor: pointer;\n",
              "      display: none;\n",
              "      fill: #1967D2;\n",
              "      height: 32px;\n",
              "      padding: 0 0 0 0;\n",
              "      width: 32px;\n",
              "    }\n",
              "\n",
              "    .colab-df-convert:hover {\n",
              "      background-color: #E2EBFA;\n",
              "      box-shadow: 0px 1px 2px rgba(60, 64, 67, 0.3), 0px 1px 3px 1px rgba(60, 64, 67, 0.15);\n",
              "      fill: #174EA6;\n",
              "    }\n",
              "\n",
              "    [theme=dark] .colab-df-convert {\n",
              "      background-color: #3B4455;\n",
              "      fill: #D2E3FC;\n",
              "    }\n",
              "\n",
              "    [theme=dark] .colab-df-convert:hover {\n",
              "      background-color: #434B5C;\n",
              "      box-shadow: 0px 1px 3px 1px rgba(0, 0, 0, 0.15);\n",
              "      filter: drop-shadow(0px 1px 2px rgba(0, 0, 0, 0.3));\n",
              "      fill: #FFFFFF;\n",
              "    }\n",
              "  </style>\n",
              "\n",
              "      <script>\n",
              "        const buttonEl =\n",
              "          document.querySelector('#df-ae788254-75b5-41ba-adad-2c931b48520f button.colab-df-convert');\n",
              "        buttonEl.style.display =\n",
              "          google.colab.kernel.accessAllowed ? 'block' : 'none';\n",
              "\n",
              "        async function convertToInteractive(key) {\n",
              "          const element = document.querySelector('#df-ae788254-75b5-41ba-adad-2c931b48520f');\n",
              "          const dataTable =\n",
              "            await google.colab.kernel.invokeFunction('convertToInteractive',\n",
              "                                                     [key], {});\n",
              "          if (!dataTable) return;\n",
              "\n",
              "          const docLinkHtml = 'Like what you see? Visit the ' +\n",
              "            '<a target=\"_blank\" href=https://colab.research.google.com/notebooks/data_table.ipynb>data table notebook</a>'\n",
              "            + ' to learn more about interactive tables.';\n",
              "          element.innerHTML = '';\n",
              "          dataTable['output_type'] = 'display_data';\n",
              "          await google.colab.output.renderOutput(dataTable, element);\n",
              "          const docLink = document.createElement('div');\n",
              "          docLink.innerHTML = docLinkHtml;\n",
              "          element.appendChild(docLink);\n",
              "        }\n",
              "      </script>\n",
              "    </div>\n",
              "  </div>\n",
              "  "
            ]
          },
          "metadata": {},
          "execution_count": 42
        }
      ]
    },
    {
      "cell_type": "code",
      "source": [
        "# to Standardize OverallScore values, as the ranges are different between grade levels\n",
        "grdLevel_describe = []\n",
        "\n",
        "for g in range(len(pd.DataFrame(df.GradeLevel.unique()))):\n",
        "\n",
        "    grdLevel_describe.append({'GradeLevel': g,\n",
        "                             'OverallScoreMin': pd.DataFrame(df.query(\"GradeLevel == @g\").OverallScore.describe().to_list()).iloc[3].values[0],\n",
        "                             'OverallScoreMax': pd.DataFrame(df.query(\"GradeLevel == @g\").OverallScore.describe().to_list()).iloc[7].values[0]})   \n",
        "\n",
        "pd.DataFrame(grdLevel_describe) "
      ],
      "metadata": {
        "colab": {
          "base_uri": "https://localhost:8080/",
          "height": 269
        },
        "id": "mZ8JoUFDoX_m",
        "outputId": "1191d921-04a2-4f79-dde1-fc94bcd178cb"
      },
      "execution_count": 43,
      "outputs": [
        {
          "output_type": "execute_result",
          "data": {
            "text/plain": [
              "   GradeLevel  OverallScoreMin  OverallScoreMax\n",
              "0           0           1150.0           1700.0\n",
              "1           1           1150.0           1627.0\n",
              "2           2           1150.0           1700.0\n",
              "3           3           1150.0           1672.0\n",
              "4           4           1150.0           1731.0\n",
              "5           5           1150.0           1731.0\n",
              "6           6           1150.0           1729.0"
            ],
            "text/html": [
              "\n",
              "  <div id=\"df-d414b20b-1e81-4192-bb69-46254a52fe9c\">\n",
              "    <div class=\"colab-df-container\">\n",
              "      <div>\n",
              "<style scoped>\n",
              "    .dataframe tbody tr th:only-of-type {\n",
              "        vertical-align: middle;\n",
              "    }\n",
              "\n",
              "    .dataframe tbody tr th {\n",
              "        vertical-align: top;\n",
              "    }\n",
              "\n",
              "    .dataframe thead th {\n",
              "        text-align: right;\n",
              "    }\n",
              "</style>\n",
              "<table border=\"1\" class=\"dataframe\">\n",
              "  <thead>\n",
              "    <tr style=\"text-align: right;\">\n",
              "      <th></th>\n",
              "      <th>GradeLevel</th>\n",
              "      <th>OverallScoreMin</th>\n",
              "      <th>OverallScoreMax</th>\n",
              "    </tr>\n",
              "  </thead>\n",
              "  <tbody>\n",
              "    <tr>\n",
              "      <th>0</th>\n",
              "      <td>0</td>\n",
              "      <td>1150.0</td>\n",
              "      <td>1700.0</td>\n",
              "    </tr>\n",
              "    <tr>\n",
              "      <th>1</th>\n",
              "      <td>1</td>\n",
              "      <td>1150.0</td>\n",
              "      <td>1627.0</td>\n",
              "    </tr>\n",
              "    <tr>\n",
              "      <th>2</th>\n",
              "      <td>2</td>\n",
              "      <td>1150.0</td>\n",
              "      <td>1700.0</td>\n",
              "    </tr>\n",
              "    <tr>\n",
              "      <th>3</th>\n",
              "      <td>3</td>\n",
              "      <td>1150.0</td>\n",
              "      <td>1672.0</td>\n",
              "    </tr>\n",
              "    <tr>\n",
              "      <th>4</th>\n",
              "      <td>4</td>\n",
              "      <td>1150.0</td>\n",
              "      <td>1731.0</td>\n",
              "    </tr>\n",
              "    <tr>\n",
              "      <th>5</th>\n",
              "      <td>5</td>\n",
              "      <td>1150.0</td>\n",
              "      <td>1731.0</td>\n",
              "    </tr>\n",
              "    <tr>\n",
              "      <th>6</th>\n",
              "      <td>6</td>\n",
              "      <td>1150.0</td>\n",
              "      <td>1729.0</td>\n",
              "    </tr>\n",
              "  </tbody>\n",
              "</table>\n",
              "</div>\n",
              "      <button class=\"colab-df-convert\" onclick=\"convertToInteractive('df-d414b20b-1e81-4192-bb69-46254a52fe9c')\"\n",
              "              title=\"Convert this dataframe to an interactive table.\"\n",
              "              style=\"display:none;\">\n",
              "        \n",
              "  <svg xmlns=\"http://www.w3.org/2000/svg\" height=\"24px\"viewBox=\"0 0 24 24\"\n",
              "       width=\"24px\">\n",
              "    <path d=\"M0 0h24v24H0V0z\" fill=\"none\"/>\n",
              "    <path d=\"M18.56 5.44l.94 2.06.94-2.06 2.06-.94-2.06-.94-.94-2.06-.94 2.06-2.06.94zm-11 1L8.5 8.5l.94-2.06 2.06-.94-2.06-.94L8.5 2.5l-.94 2.06-2.06.94zm10 10l.94 2.06.94-2.06 2.06-.94-2.06-.94-.94-2.06-.94 2.06-2.06.94z\"/><path d=\"M17.41 7.96l-1.37-1.37c-.4-.4-.92-.59-1.43-.59-.52 0-1.04.2-1.43.59L10.3 9.45l-7.72 7.72c-.78.78-.78 2.05 0 2.83L4 21.41c.39.39.9.59 1.41.59.51 0 1.02-.2 1.41-.59l7.78-7.78 2.81-2.81c.8-.78.8-2.07 0-2.86zM5.41 20L4 18.59l7.72-7.72 1.47 1.35L5.41 20z\"/>\n",
              "  </svg>\n",
              "      </button>\n",
              "      \n",
              "  <style>\n",
              "    .colab-df-container {\n",
              "      display:flex;\n",
              "      flex-wrap:wrap;\n",
              "      gap: 12px;\n",
              "    }\n",
              "\n",
              "    .colab-df-convert {\n",
              "      background-color: #E8F0FE;\n",
              "      border: none;\n",
              "      border-radius: 50%;\n",
              "      cursor: pointer;\n",
              "      display: none;\n",
              "      fill: #1967D2;\n",
              "      height: 32px;\n",
              "      padding: 0 0 0 0;\n",
              "      width: 32px;\n",
              "    }\n",
              "\n",
              "    .colab-df-convert:hover {\n",
              "      background-color: #E2EBFA;\n",
              "      box-shadow: 0px 1px 2px rgba(60, 64, 67, 0.3), 0px 1px 3px 1px rgba(60, 64, 67, 0.15);\n",
              "      fill: #174EA6;\n",
              "    }\n",
              "\n",
              "    [theme=dark] .colab-df-convert {\n",
              "      background-color: #3B4455;\n",
              "      fill: #D2E3FC;\n",
              "    }\n",
              "\n",
              "    [theme=dark] .colab-df-convert:hover {\n",
              "      background-color: #434B5C;\n",
              "      box-shadow: 0px 1px 3px 1px rgba(0, 0, 0, 0.15);\n",
              "      filter: drop-shadow(0px 1px 2px rgba(0, 0, 0, 0.3));\n",
              "      fill: #FFFFFF;\n",
              "    }\n",
              "  </style>\n",
              "\n",
              "      <script>\n",
              "        const buttonEl =\n",
              "          document.querySelector('#df-d414b20b-1e81-4192-bb69-46254a52fe9c button.colab-df-convert');\n",
              "        buttonEl.style.display =\n",
              "          google.colab.kernel.accessAllowed ? 'block' : 'none';\n",
              "\n",
              "        async function convertToInteractive(key) {\n",
              "          const element = document.querySelector('#df-d414b20b-1e81-4192-bb69-46254a52fe9c');\n",
              "          const dataTable =\n",
              "            await google.colab.kernel.invokeFunction('convertToInteractive',\n",
              "                                                     [key], {});\n",
              "          if (!dataTable) return;\n",
              "\n",
              "          const docLinkHtml = 'Like what you see? Visit the ' +\n",
              "            '<a target=\"_blank\" href=https://colab.research.google.com/notebooks/data_table.ipynb>data table notebook</a>'\n",
              "            + ' to learn more about interactive tables.';\n",
              "          element.innerHTML = '';\n",
              "          dataTable['output_type'] = 'display_data';\n",
              "          await google.colab.output.renderOutput(dataTable, element);\n",
              "          const docLink = document.createElement('div');\n",
              "          docLink.innerHTML = docLinkHtml;\n",
              "          element.appendChild(docLink);\n",
              "        }\n",
              "      </script>\n",
              "    </div>\n",
              "  </div>\n",
              "  "
            ]
          },
          "metadata": {},
          "execution_count": 43
        }
      ]
    },
    {
      "cell_type": "code",
      "source": [
        "# Bring in min and max columns to df dataframe\n",
        "df = df.merge(pd.DataFrame(grdLevel_describe) , left_on=('GradeLevel'), right_on=('GradeLevel'))"
      ],
      "metadata": {
        "id": "nrvEFM-Vo6xz"
      },
      "execution_count": 44,
      "outputs": []
    },
    {
      "cell_type": "code",
      "source": [
        "# Standardize Overall Score\n",
        "df['OverallScoreStd'] = (df.OverallScore - df.OverallScoreMin) / (df.OverallScoreMax - df.OverallScoreMin)"
      ],
      "metadata": {
        "id": "uyNIxFuIo8_a"
      },
      "execution_count": 45,
      "outputs": []
    },
    {
      "cell_type": "markdown",
      "source": [
        "###**Queries of Number of Students with Minimum OverallScore Per Academic Year**"
      ],
      "metadata": {
        "id": "rdMJujHz7gXp"
      }
    },
    {
      "cell_type": "code",
      "source": [
        "# Students whose OverallScore equals the minimum score, by AcademicYear\n",
        "df.query(\"OverallScore == @df.OverallScoreMin\").AcademicYear.value_counts().sort_index()"
      ],
      "metadata": {
        "colab": {
          "base_uri": "https://localhost:8080/"
        },
        "id": "lrNVFkxp7Ngx",
        "outputId": "0f75f691-6c65-4dd2-e4af-592d6a53a632"
      },
      "execution_count": 46,
      "outputs": [
        {
          "output_type": "execute_result",
          "data": {
            "text/plain": [
              "2017-2018    12\n",
              "2018-2019    10\n",
              "2019-2020     3\n",
              "2020-2021    15\n",
              "2021-2022     1\n",
              "Name: AcademicYear, dtype: int64"
            ]
          },
          "metadata": {},
          "execution_count": 46
        }
      ]
    },
    {
      "cell_type": "markdown",
      "source": [
        "###**DATA VISUALIZATION**"
      ],
      "metadata": {
        "id": "PKhu93T5px-I"
      }
    },
    {
      "cell_type": "markdown",
      "source": [
        "####**CORRELATION AMONG FEATURES**"
      ],
      "metadata": {
        "id": "qzQExzgFmqLL"
      }
    },
    {
      "cell_type": "code",
      "source": [
        "# Identify features that are object dtype, to create dummy variables for\n",
        "df.select_dtypes(include='object').info()"
      ],
      "metadata": {
        "colab": {
          "base_uri": "https://localhost:8080/"
        },
        "id": "tXjmpZjlm22f",
        "outputId": "ee4113a3-e557-4b24-b520-e61391408116"
      },
      "execution_count": 47,
      "outputs": [
        {
          "output_type": "stream",
          "name": "stdout",
          "text": [
            "<class 'pandas.core.frame.DataFrame'>\n",
            "Int64Index: 9460 entries, 0 to 9459\n",
            "Data columns (total 9 columns):\n",
            " #   Column             Non-Null Count  Dtype \n",
            "---  ------             --------------  ----- \n",
            " 0   AcademicYear       9460 non-null   object\n",
            " 1   StudentGender      9460 non-null   object\n",
            " 2   StudentEthnicity   9460 non-null   object\n",
            " 3   Special_Education  9460 non-null   object\n",
            " 4   Homeless           9460 non-null   object\n",
            " 5   SocioEconomically  9460 non-null   object\n",
            " 6   TestDayName        9460 non-null   object\n",
            " 7   TeacherGender      9460 non-null   object\n",
            " 8   TeacherEthnicity   9460 non-null   object\n",
            "dtypes: object(9)\n",
            "memory usage: 739.1+ KB\n"
          ]
        }
      ]
    },
    {
      "cell_type": "code",
      "source": [
        "# Create dummy values from 'object' data types to get correlation values\n",
        "df2 = pd.get_dummies(df, columns=['AcademicYear', 'StudentGender', 'StudentEthnicity', 'Special_Education', 'Homeless', 'SocioEconomically', 'TestDayName',\n",
        "                                  'TeacherGender','TeacherEthnicity'])"
      ],
      "metadata": {
        "id": "r2tb1KNqj3Ni"
      },
      "execution_count": 48,
      "outputs": []
    },
    {
      "cell_type": "code",
      "source": [
        "# Correlation for dummy variables for Overall Score\n",
        "cor = pd.DataFrame(df2.corrwith(df2['OverallScore']))\n",
        "cor.columns = ['Correlation']\n",
        "cor.head(20).sort_values('Correlation', ascending=False).style.bar(align=\"mid\", color=[\"red\", \"lightgreen\"])"
      ],
      "metadata": {
        "colab": {
          "base_uri": "https://localhost:8080/",
          "height": 676
        },
        "id": "974G2glRnCAw",
        "outputId": "6bb3e4a6-5246-44a1-a5f1-471e9ca7d2a2"
      },
      "execution_count": 49,
      "outputs": [
        {
          "output_type": "execute_result",
          "data": {
            "text/plain": [
              "<pandas.io.formats.style.Styler at 0x7f29c29f8150>"
            ],
            "text/html": [
              "<style type=\"text/css\">\n",
              "#T_db2a9_row0_col0 {\n",
              "  width: 10em;\n",
              "  height: 80%;\n",
              "  background: linear-gradient(90deg, transparent 17.6%, lightgreen 17.6%, lightgreen 100.0%, transparent 100.0%);\n",
              "}\n",
              "#T_db2a9_row1_col0 {\n",
              "  width: 10em;\n",
              "  height: 80%;\n",
              "  background: linear-gradient(90deg, transparent 17.6%, lightgreen 17.6%, lightgreen 95.4%, transparent 95.4%);\n",
              "}\n",
              "#T_db2a9_row2_col0 {\n",
              "  width: 10em;\n",
              "  height: 80%;\n",
              "  background: linear-gradient(90deg, transparent 17.6%, lightgreen 17.6%, lightgreen 78.6%, transparent 78.6%);\n",
              "}\n",
              "#T_db2a9_row3_col0 {\n",
              "  width: 10em;\n",
              "  height: 80%;\n",
              "  background: linear-gradient(90deg, transparent 17.6%, lightgreen 17.6%, lightgreen 53.6%, transparent 53.6%);\n",
              "}\n",
              "#T_db2a9_row4_col0 {\n",
              "  width: 10em;\n",
              "  height: 80%;\n",
              "  background: linear-gradient(90deg, transparent 17.6%, lightgreen 17.6%, lightgreen 52.9%, transparent 52.9%);\n",
              "}\n",
              "#T_db2a9_row5_col0 {\n",
              "  width: 10em;\n",
              "  height: 80%;\n",
              "  background: linear-gradient(90deg, transparent 17.6%, lightgreen 17.6%, lightgreen 52.7%, transparent 52.7%);\n",
              "}\n",
              "#T_db2a9_row6_col0 {\n",
              "  width: 10em;\n",
              "  height: 80%;\n",
              "  background: linear-gradient(90deg, transparent 17.6%, lightgreen 17.6%, lightgreen 52.6%, transparent 52.6%);\n",
              "}\n",
              "#T_db2a9_row7_col0 {\n",
              "  width: 10em;\n",
              "  height: 80%;\n",
              "  background: linear-gradient(90deg, transparent 17.6%, lightgreen 17.6%, lightgreen 39.2%, transparent 39.2%);\n",
              "}\n",
              "#T_db2a9_row8_col0 {\n",
              "  width: 10em;\n",
              "  height: 80%;\n",
              "  background: linear-gradient(90deg, transparent 17.6%, lightgreen 17.6%, lightgreen 27.8%, transparent 27.8%);\n",
              "}\n",
              "#T_db2a9_row9_col0 {\n",
              "  width: 10em;\n",
              "  height: 80%;\n",
              "  background: linear-gradient(90deg, transparent 17.6%, lightgreen 17.6%, lightgreen 25.8%, transparent 25.8%);\n",
              "}\n",
              "#T_db2a9_row10_col0 {\n",
              "  width: 10em;\n",
              "  height: 80%;\n",
              "  background: linear-gradient(90deg, transparent 17.6%, lightgreen 17.6%, lightgreen 25.3%, transparent 25.3%);\n",
              "}\n",
              "#T_db2a9_row11_col0 {\n",
              "  width: 10em;\n",
              "  height: 80%;\n",
              "  background: linear-gradient(90deg, transparent 17.6%, lightgreen 17.6%, lightgreen 21.7%, transparent 21.7%);\n",
              "}\n",
              "#T_db2a9_row12_col0, #T_db2a9_row13_col0 {\n",
              "  width: 10em;\n",
              "  height: 80%;\n",
              "  background: linear-gradient(90deg, transparent 17.6%, lightgreen 17.6%, lightgreen 20.0%, transparent 20.0%);\n",
              "}\n",
              "#T_db2a9_row14_col0 {\n",
              "  width: 10em;\n",
              "  height: 80%;\n",
              "  background: linear-gradient(90deg, transparent 17.6%, lightgreen 17.6%, lightgreen 18.7%, transparent 18.7%);\n",
              "}\n",
              "#T_db2a9_row15_col0 {\n",
              "  width: 10em;\n",
              "  height: 80%;\n",
              "  background: linear-gradient(90deg, transparent 17.6%, lightgreen 17.6%, lightgreen 18.0%, transparent 18.0%);\n",
              "}\n",
              "#T_db2a9_row16_col0 {\n",
              "  width: 10em;\n",
              "  height: 80%;\n",
              "  background: linear-gradient(90deg, transparent 14.3%, red 14.3%, red 17.6%, transparent 17.6%);\n",
              "}\n",
              "#T_db2a9_row17_col0 {\n",
              "  width: 10em;\n",
              "  height: 80%;\n",
              "  background: linear-gradient(90deg, transparent 5.4%, red 5.4%, red 17.6%, transparent 17.6%);\n",
              "}\n",
              "#T_db2a9_row18_col0 {\n",
              "  width: 10em;\n",
              "  height: 80%;\n",
              "  background: linear-gradient(90deg,red 17.6%, transparent 17.6%);\n",
              "}\n",
              "</style>\n",
              "<table id=\"T_db2a9_\" class=\"dataframe\">\n",
              "  <thead>\n",
              "    <tr>\n",
              "      <th class=\"blank level0\" >&nbsp;</th>\n",
              "      <th class=\"col_heading level0 col0\" >Correlation</th>\n",
              "    </tr>\n",
              "  </thead>\n",
              "  <tbody>\n",
              "    <tr>\n",
              "      <th id=\"T_db2a9_level0_row0\" class=\"row_heading level0 row0\" >OverallScore</th>\n",
              "      <td id=\"T_db2a9_row0_col0\" class=\"data row0 col0\" >1.000000</td>\n",
              "    </tr>\n",
              "    <tr>\n",
              "      <th id=\"T_db2a9_level0_row1\" class=\"row_heading level0 row1\" >OverallScoreStd</th>\n",
              "      <td id=\"T_db2a9_row1_col0\" class=\"data row1 col0\" >0.943589</td>\n",
              "    </tr>\n",
              "    <tr>\n",
              "      <th id=\"T_db2a9_level0_row2\" class=\"row_heading level0 row2\" >OverallLevel</th>\n",
              "      <td id=\"T_db2a9_row2_col0\" class=\"data row2 col0\" >0.739880</td>\n",
              "    </tr>\n",
              "    <tr>\n",
              "      <th id=\"T_db2a9_level0_row3\" class=\"row_heading level0 row3\" >TestAge</th>\n",
              "      <td id=\"T_db2a9_row3_col0\" class=\"data row3 col0\" >0.436677</td>\n",
              "    </tr>\n",
              "    <tr>\n",
              "      <th id=\"T_db2a9_level0_row4\" class=\"row_heading level0 row4\" >GradeAttendedPct</th>\n",
              "      <td id=\"T_db2a9_row4_col0\" class=\"data row4 col0\" >0.427772</td>\n",
              "    </tr>\n",
              "    <tr>\n",
              "      <th id=\"T_db2a9_level0_row5\" class=\"row_heading level0 row5\" >GradeEnrolledPct</th>\n",
              "      <td id=\"T_db2a9_row5_col0\" class=\"data row5 col0\" >0.425248</td>\n",
              "    </tr>\n",
              "    <tr>\n",
              "      <th id=\"T_db2a9_level0_row6\" class=\"row_heading level0 row6\" >GradeLevel</th>\n",
              "      <td id=\"T_db2a9_row6_col0\" class=\"data row6 col0\" >0.424732</td>\n",
              "    </tr>\n",
              "    <tr>\n",
              "      <th id=\"T_db2a9_level0_row7\" class=\"row_heading level0 row7\" >OverallScoreMax</th>\n",
              "      <td id=\"T_db2a9_row7_col0\" class=\"data row7 col0\" >0.262140</td>\n",
              "    </tr>\n",
              "    <tr>\n",
              "      <th id=\"T_db2a9_level0_row8\" class=\"row_heading level0 row8\" >AcademicYear_2020-2021</th>\n",
              "      <td id=\"T_db2a9_row8_col0\" class=\"data row8 col0\" >0.123513</td>\n",
              "    </tr>\n",
              "    <tr>\n",
              "      <th id=\"T_db2a9_level0_row9\" class=\"row_heading level0 row9\" >AttendedPct</th>\n",
              "      <td id=\"T_db2a9_row9_col0\" class=\"data row9 col0\" >0.099292</td>\n",
              "    </tr>\n",
              "    <tr>\n",
              "      <th id=\"T_db2a9_level0_row10\" class=\"row_heading level0 row10\" >DaysAttended</th>\n",
              "      <td id=\"T_db2a9_row10_col0\" class=\"data row10 col0\" >0.092829</td>\n",
              "    </tr>\n",
              "    <tr>\n",
              "      <th id=\"T_db2a9_level0_row11\" class=\"row_heading level0 row11\" >School_deID</th>\n",
              "      <td id=\"T_db2a9_row11_col0\" class=\"data row11 col0\" >0.049944</td>\n",
              "    </tr>\n",
              "    <tr>\n",
              "      <th id=\"T_db2a9_level0_row12\" class=\"row_heading level0 row12\" >ExpectedAttendanceDays</th>\n",
              "      <td id=\"T_db2a9_row12_col0\" class=\"data row12 col0\" >0.028257</td>\n",
              "    </tr>\n",
              "    <tr>\n",
              "      <th id=\"T_db2a9_level0_row13\" class=\"row_heading level0 row13\" >EnrolledPct</th>\n",
              "      <td id=\"T_db2a9_row13_col0\" class=\"data row13 col0\" >0.028257</td>\n",
              "    </tr>\n",
              "    <tr>\n",
              "      <th id=\"T_db2a9_level0_row14\" class=\"row_heading level0 row14\" >AcademicYear_2018-2019</th>\n",
              "      <td id=\"T_db2a9_row14_col0\" class=\"data row14 col0\" >0.013227</td>\n",
              "    </tr>\n",
              "    <tr>\n",
              "      <th id=\"T_db2a9_level0_row15\" class=\"row_heading level0 row15\" >TeacherTotalYearsOfService</th>\n",
              "      <td id=\"T_db2a9_row15_col0\" class=\"data row15 col0\" >0.004095</td>\n",
              "    </tr>\n",
              "    <tr>\n",
              "      <th id=\"T_db2a9_level0_row16\" class=\"row_heading level0 row16\" >AcademicYear_2017-2018</th>\n",
              "      <td id=\"T_db2a9_row16_col0\" class=\"data row16 col0\" >-0.040376</td>\n",
              "    </tr>\n",
              "    <tr>\n",
              "      <th id=\"T_db2a9_level0_row17\" class=\"row_heading level0 row17\" >AcademicYear_2019-2020</th>\n",
              "      <td id=\"T_db2a9_row17_col0\" class=\"data row17 col0\" >-0.148515</td>\n",
              "    </tr>\n",
              "    <tr>\n",
              "      <th id=\"T_db2a9_level0_row18\" class=\"row_heading level0 row18\" >Stu_deID</th>\n",
              "      <td id=\"T_db2a9_row18_col0\" class=\"data row18 col0\" >-0.213938</td>\n",
              "    </tr>\n",
              "    <tr>\n",
              "      <th id=\"T_db2a9_level0_row19\" class=\"row_heading level0 row19\" >OverallScoreMin</th>\n",
              "      <td id=\"T_db2a9_row19_col0\" class=\"data row19 col0\" >nan</td>\n",
              "    </tr>\n",
              "  </tbody>\n",
              "</table>\n"
            ]
          },
          "metadata": {},
          "execution_count": 49
        }
      ]
    },
    {
      "cell_type": "code",
      "source": [
        "# Correlation for dummy variables for Overall Level\n",
        "cor = pd.DataFrame(df2.corrwith(df2['OverallLevel']))\n",
        "cor.columns = ['Correlation']\n",
        "cor.head(20).sort_values('Correlation', ascending=False).style.bar(align=\"mid\", color=[\"red\", \"lightgreen\"])"
      ],
      "metadata": {
        "colab": {
          "base_uri": "https://localhost:8080/",
          "height": 676
        },
        "id": "bJf8OhoDnF46",
        "outputId": "36aa7004-ec96-4cc6-e885-0334ac1ed6b2"
      },
      "execution_count": 50,
      "outputs": [
        {
          "output_type": "execute_result",
          "data": {
            "text/plain": [
              "<pandas.io.formats.style.Styler at 0x7f29c8530f90>"
            ],
            "text/html": [
              "<style type=\"text/css\">\n",
              "#T_a2fee_row0_col0 {\n",
              "  width: 10em;\n",
              "  height: 80%;\n",
              "  background: linear-gradient(90deg, transparent 20.5%, lightgreen 20.5%, lightgreen 100.0%, transparent 100.0%);\n",
              "}\n",
              "#T_a2fee_row1_col0 {\n",
              "  width: 10em;\n",
              "  height: 80%;\n",
              "  background: linear-gradient(90deg, transparent 20.5%, lightgreen 20.5%, lightgreen 80.3%, transparent 80.3%);\n",
              "}\n",
              "#T_a2fee_row2_col0 {\n",
              "  width: 10em;\n",
              "  height: 80%;\n",
              "  background: linear-gradient(90deg, transparent 20.5%, lightgreen 20.5%, lightgreen 79.3%, transparent 79.3%);\n",
              "}\n",
              "#T_a2fee_row3_col0 {\n",
              "  width: 10em;\n",
              "  height: 80%;\n",
              "  background: linear-gradient(90deg, transparent 20.5%, lightgreen 20.5%, lightgreen 32.3%, transparent 32.3%);\n",
              "}\n",
              "#T_a2fee_row4_col0 {\n",
              "  width: 10em;\n",
              "  height: 80%;\n",
              "  background: linear-gradient(90deg, transparent 20.5%, lightgreen 20.5%, lightgreen 27.3%, transparent 27.3%);\n",
              "}\n",
              "#T_a2fee_row5_col0 {\n",
              "  width: 10em;\n",
              "  height: 80%;\n",
              "  background: linear-gradient(90deg, transparent 20.5%, lightgreen 20.5%, lightgreen 26.9%, transparent 26.9%);\n",
              "}\n",
              "#T_a2fee_row6_col0, #T_a2fee_row7_col0 {\n",
              "  width: 10em;\n",
              "  height: 80%;\n",
              "  background: linear-gradient(90deg, transparent 20.5%, lightgreen 20.5%, lightgreen 24.3%, transparent 24.3%);\n",
              "}\n",
              "#T_a2fee_row8_col0 {\n",
              "  width: 10em;\n",
              "  height: 80%;\n",
              "  background: linear-gradient(90deg, transparent 20.5%, lightgreen 20.5%, lightgreen 23.9%, transparent 23.9%);\n",
              "}\n",
              "#T_a2fee_row9_col0 {\n",
              "  width: 10em;\n",
              "  height: 80%;\n",
              "  background: linear-gradient(90deg, transparent 20.5%, lightgreen 20.5%, lightgreen 23.6%, transparent 23.6%);\n",
              "}\n",
              "#T_a2fee_row10_col0 {\n",
              "  width: 10em;\n",
              "  height: 80%;\n",
              "  background: linear-gradient(90deg, transparent 20.5%, lightgreen 20.5%, lightgreen 23.4%, transparent 23.4%);\n",
              "}\n",
              "#T_a2fee_row11_col0 {\n",
              "  width: 10em;\n",
              "  height: 80%;\n",
              "  background: linear-gradient(90deg, transparent 20.5%, lightgreen 20.5%, lightgreen 22.6%, transparent 22.6%);\n",
              "}\n",
              "#T_a2fee_row12_col0 {\n",
              "  width: 10em;\n",
              "  height: 80%;\n",
              "  background: linear-gradient(90deg, transparent 19.5%, red 19.5%, red 20.5%, transparent 20.5%);\n",
              "}\n",
              "#T_a2fee_row13_col0 {\n",
              "  width: 10em;\n",
              "  height: 80%;\n",
              "  background: linear-gradient(90deg, transparent 18.2%, red 18.2%, red 20.5%, transparent 20.5%);\n",
              "}\n",
              "#T_a2fee_row14_col0 {\n",
              "  width: 10em;\n",
              "  height: 80%;\n",
              "  background: linear-gradient(90deg, transparent 18.1%, red 18.1%, red 20.5%, transparent 20.5%);\n",
              "}\n",
              "#T_a2fee_row15_col0 {\n",
              "  width: 10em;\n",
              "  height: 80%;\n",
              "  background: linear-gradient(90deg, transparent 18.0%, red 18.0%, red 20.5%, transparent 20.5%);\n",
              "}\n",
              "#T_a2fee_row16_col0 {\n",
              "  width: 10em;\n",
              "  height: 80%;\n",
              "  background: linear-gradient(90deg, transparent 15.2%, red 15.2%, red 20.5%, transparent 20.5%);\n",
              "}\n",
              "#T_a2fee_row17_col0 {\n",
              "  width: 10em;\n",
              "  height: 80%;\n",
              "  background: linear-gradient(90deg, transparent 11.0%, red 11.0%, red 20.5%, transparent 20.5%);\n",
              "}\n",
              "#T_a2fee_row18_col0 {\n",
              "  width: 10em;\n",
              "  height: 80%;\n",
              "  background: linear-gradient(90deg,red 20.5%, transparent 20.5%);\n",
              "}\n",
              "</style>\n",
              "<table id=\"T_a2fee_\" class=\"dataframe\">\n",
              "  <thead>\n",
              "    <tr>\n",
              "      <th class=\"blank level0\" >&nbsp;</th>\n",
              "      <th class=\"col_heading level0 col0\" >Correlation</th>\n",
              "    </tr>\n",
              "  </thead>\n",
              "  <tbody>\n",
              "    <tr>\n",
              "      <th id=\"T_a2fee_level0_row0\" class=\"row_heading level0 row0\" >OverallLevel</th>\n",
              "      <td id=\"T_a2fee_row0_col0\" class=\"data row0 col0\" >1.000000</td>\n",
              "    </tr>\n",
              "    <tr>\n",
              "      <th id=\"T_a2fee_level0_row1\" class=\"row_heading level0 row1\" >OverallScoreStd</th>\n",
              "      <td id=\"T_a2fee_row1_col0\" class=\"data row1 col0\" >0.752161</td>\n",
              "    </tr>\n",
              "    <tr>\n",
              "      <th id=\"T_a2fee_level0_row2\" class=\"row_heading level0 row2\" >OverallScore</th>\n",
              "      <td id=\"T_a2fee_row2_col0\" class=\"data row2 col0\" >0.739880</td>\n",
              "    </tr>\n",
              "    <tr>\n",
              "      <th id=\"T_a2fee_level0_row3\" class=\"row_heading level0 row3\" >AcademicYear_2017-2018</th>\n",
              "      <td id=\"T_a2fee_row3_col0\" class=\"data row3 col0\" >0.147472</td>\n",
              "    </tr>\n",
              "    <tr>\n",
              "      <th id=\"T_a2fee_level0_row4\" class=\"row_heading level0 row4\" >DaysAttended</th>\n",
              "      <td id=\"T_a2fee_row4_col0\" class=\"data row4 col0\" >0.084942</td>\n",
              "    </tr>\n",
              "    <tr>\n",
              "      <th id=\"T_a2fee_level0_row5\" class=\"row_heading level0 row5\" >AttendedPct</th>\n",
              "      <td id=\"T_a2fee_row5_col0\" class=\"data row5 col0\" >0.080637</td>\n",
              "    </tr>\n",
              "    <tr>\n",
              "      <th id=\"T_a2fee_level0_row6\" class=\"row_heading level0 row6\" >ExpectedAttendanceDays</th>\n",
              "      <td id=\"T_a2fee_row6_col0\" class=\"data row6 col0\" >0.046723</td>\n",
              "    </tr>\n",
              "    <tr>\n",
              "      <th id=\"T_a2fee_level0_row7\" class=\"row_heading level0 row7\" >EnrolledPct</th>\n",
              "      <td id=\"T_a2fee_row7_col0\" class=\"data row7 col0\" >0.046723</td>\n",
              "    </tr>\n",
              "    <tr>\n",
              "      <th id=\"T_a2fee_level0_row8\" class=\"row_heading level0 row8\" >School_deID</th>\n",
              "      <td id=\"T_a2fee_row8_col0\" class=\"data row8 col0\" >0.042032</td>\n",
              "    </tr>\n",
              "    <tr>\n",
              "      <th id=\"T_a2fee_level0_row9\" class=\"row_heading level0 row9\" >OverallScoreMax</th>\n",
              "      <td id=\"T_a2fee_row9_col0\" class=\"data row9 col0\" >0.039015</td>\n",
              "    </tr>\n",
              "    <tr>\n",
              "      <th id=\"T_a2fee_level0_row10\" class=\"row_heading level0 row10\" >AcademicYear_2018-2019</th>\n",
              "      <td id=\"T_a2fee_row10_col0\" class=\"data row10 col0\" >0.036051</td>\n",
              "    </tr>\n",
              "    <tr>\n",
              "      <th id=\"T_a2fee_level0_row11\" class=\"row_heading level0 row11\" >AcademicYear_2020-2021</th>\n",
              "      <td id=\"T_a2fee_row11_col0\" class=\"data row11 col0\" >0.025304</td>\n",
              "    </tr>\n",
              "    <tr>\n",
              "      <th id=\"T_a2fee_level0_row12\" class=\"row_heading level0 row12\" >TestAge</th>\n",
              "      <td id=\"T_a2fee_row12_col0\" class=\"data row12 col0\" >-0.013370</td>\n",
              "    </tr>\n",
              "    <tr>\n",
              "      <th id=\"T_a2fee_level0_row13\" class=\"row_heading level0 row13\" >GradeAttendedPct</th>\n",
              "      <td id=\"T_a2fee_row13_col0\" class=\"data row13 col0\" >-0.028851</td>\n",
              "    </tr>\n",
              "    <tr>\n",
              "      <th id=\"T_a2fee_level0_row14\" class=\"row_heading level0 row14\" >GradeEnrolledPct</th>\n",
              "      <td id=\"T_a2fee_row14_col0\" class=\"data row14 col0\" >-0.031160</td>\n",
              "    </tr>\n",
              "    <tr>\n",
              "      <th id=\"T_a2fee_level0_row15\" class=\"row_heading level0 row15\" >GradeLevel</th>\n",
              "      <td id=\"T_a2fee_row15_col0\" class=\"data row15 col0\" >-0.032220</td>\n",
              "    </tr>\n",
              "    <tr>\n",
              "      <th id=\"T_a2fee_level0_row16\" class=\"row_heading level0 row16\" >TeacherTotalYearsOfService</th>\n",
              "      <td id=\"T_a2fee_row16_col0\" class=\"data row16 col0\" >-0.067103</td>\n",
              "    </tr>\n",
              "    <tr>\n",
              "      <th id=\"T_a2fee_level0_row17\" class=\"row_heading level0 row17\" >Stu_deID</th>\n",
              "      <td id=\"T_a2fee_row17_col0\" class=\"data row17 col0\" >-0.120361</td>\n",
              "    </tr>\n",
              "    <tr>\n",
              "      <th id=\"T_a2fee_level0_row18\" class=\"row_heading level0 row18\" >AcademicYear_2019-2020</th>\n",
              "      <td id=\"T_a2fee_row18_col0\" class=\"data row18 col0\" >-0.258510</td>\n",
              "    </tr>\n",
              "    <tr>\n",
              "      <th id=\"T_a2fee_level0_row19\" class=\"row_heading level0 row19\" >OverallScoreMin</th>\n",
              "      <td id=\"T_a2fee_row19_col0\" class=\"data row19 col0\" >nan</td>\n",
              "    </tr>\n",
              "  </tbody>\n",
              "</table>\n"
            ]
          },
          "metadata": {},
          "execution_count": 50
        }
      ]
    },
    {
      "cell_type": "code",
      "source": [
        "# Correlation Matrix\n",
        "pearsoncorr = df.corr(method='pearson')\n",
        "\n",
        "plt.figure(figsize= (12,10))\n",
        "\n",
        "sns.heatmap(pearsoncorr,\n",
        "            xticklabels=pearsoncorr.columns,\n",
        "            yticklabels=pearsoncorr.columns,\n",
        "            cmap='coolwarm',\n",
        "            fmt=\".2f\",\n",
        "            annot=True,\n",
        "            linewidth=0.25)"
      ],
      "metadata": {
        "colab": {
          "base_uri": "https://localhost:8080/",
          "height": 740
        },
        "id": "4LeYeGrHnhzE",
        "outputId": "b9bfca32-2a6e-448d-eb5d-a311f0c8a6da"
      },
      "execution_count": 51,
      "outputs": [
        {
          "output_type": "execute_result",
          "data": {
            "text/plain": [
              "<matplotlib.axes._subplots.AxesSubplot at 0x7f29c2438c50>"
            ]
          },
          "metadata": {},
          "execution_count": 51
        },
        {
          "output_type": "display_data",
          "data": {
            "text/plain": [
              "<Figure size 864x720 with 2 Axes>"
            ],
            "image/png": "[encoded data removed]"
          },
          "metadata": {
            "needs_background": "light"
          }
        }
      ]
    },
    {
      "cell_type": "code",
      "source": [
        "#Split numerical and categorical dataframes for visualization purpose\n",
        "\n",
        "#for num_df, only extract the useful columns and drop the columns such as 'Stu_deID'\n",
        "\n",
        "num_df = df[['School_deID','GradeLevel','TestAge','OverallLevel','ExpectedAttendanceDays','DaysAttended',\n",
        "           'AttendedPct', 'EnrolledPct' ,'GradeEnrolledPct', 'GradeAttendedPct','TeacherTotalYearsOfService',\n",
        "           'OverallScoreStd']]\n",
        "\n",
        "#for cat_df, keep only the suitable features for visualization \n",
        "cat_df = df[['AcademicYear','StudentGender','StudentEthnicity','Special_Education','Homeless','SocioEconomically','TestDayName',\n",
        "           'TeacherGender','TeacherEthnicity']]"
      ],
      "metadata": {
        "id": "8mcwpddBqAmE"
      },
      "execution_count": 52,
      "outputs": []
    },
    {
      "cell_type": "markdown",
      "source": [
        "####**DISTRIBUTION BETWEEN CATEGORICAL VARIABLES**"
      ],
      "metadata": {
        "id": "veKdxqPxsnAV"
      }
    },
    {
      "cell_type": "code",
      "source": [
        "fig , ax = plt.subplots(3,3, figsize = (12,16))     # set up 2 x 2 frame count plot with figsize 10 x 10\n",
        "fig.suptitle(\"Distribution of Categorical Features\", fontsize=18)\n",
        "\n",
        "for i , subplots in zip (cat_df, ax.flatten()):\n",
        "  g = sns.countplot(cat_df[i],hue = df['OverallLevel'],ax = subplots, palette = 'CMRmap_r')\n",
        "  g.set_xticklabels(labels=cat_df[i].unique(), rotation= 75)\n",
        "\n",
        "\n",
        "fig.tight_layout(pad= 5.0)\n",
        "plt.legend(loc = 'upper right')\n",
        "plt.show()"
      ],
      "metadata": {
        "colab": {
          "base_uri": "https://localhost:8080/",
          "height": 1000
        },
        "id": "xP2f7f_lskR3",
        "outputId": "629b4a68-6fa7-471a-edb1-92695692c1ad"
      },
      "execution_count": 53,
      "outputs": [
        {
          "output_type": "display_data",
          "data": {
            "text/plain": [
              "<Figure size 864x1152 with 9 Axes>"
            ],
            "image/png": "[encoded data removed]"
          },
          "metadata": {
            "needs_background": "light"
          }
        }
      ]
    },
    {
      "cell_type": "markdown",
      "source": [
        "####**DISTRIBUTION PLOTS OF NUMERICAL VARIABLES**\n"
      ],
      "metadata": {
        "id": "Gjmk6y8ZstNZ"
      }
    },
    {
      "cell_type": "code",
      "source": [
        "fig , ax = plt.subplots(3,3, figsize = (16,16))     \n",
        "fig.suptitle(\"Distribution of Categorical Features\", fontsize=18)\n",
        "\n",
        "for i, column in enumerate(num_df, 1):\n",
        "    plt.subplot(4, 4, i)\n",
        "    sns.distplot(x=num_df[column], color = 'blue') \n",
        "    plt.legend() \n",
        "    plt.xlabel(column)\n",
        "    fig.tight_layout(pad=4.0)"
      ],
      "metadata": {
        "colab": {
          "base_uri": "https://localhost:8080/",
          "height": 1000
        },
        "id": "mTnLUJGEsyc4",
        "outputId": "f6eca4d2-6478-429f-bdcf-50ee56877ef7"
      },
      "execution_count": 54,
      "outputs": [
        {
          "output_type": "stream",
          "name": "stderr",
          "text": [
            "WARNING:matplotlib.legend:No handles with labels found to put in legend.\n",
            "WARNING:matplotlib.legend:No handles with labels found to put in legend.\n",
            "WARNING:matplotlib.legend:No handles with labels found to put in legend.\n",
            "WARNING:matplotlib.legend:No handles with labels found to put in legend.\n",
            "WARNING:matplotlib.legend:No handles with labels found to put in legend.\n",
            "WARNING:matplotlib.legend:No handles with labels found to put in legend.\n",
            "WARNING:matplotlib.legend:No handles with labels found to put in legend.\n",
            "WARNING:matplotlib.legend:No handles with labels found to put in legend.\n",
            "WARNING:matplotlib.legend:No handles with labels found to put in legend.\n",
            "WARNING:matplotlib.legend:No handles with labels found to put in legend.\n",
            "WARNING:matplotlib.legend:No handles with labels found to put in legend.\n",
            "WARNING:matplotlib.legend:No handles with labels found to put in legend.\n"
          ]
        },
        {
          "output_type": "display_data",
          "data": {
            "text/plain": [
              "<Figure size 1152x1152 with 12 Axes>"
            ],
            "image/png": "[encoded data removed]"
          },
          "metadata": {
            "needs_background": "light"
          }
        }
      ]
    },
    {
      "cell_type": "markdown",
      "source": [
        "####**STUDENT SCORES BY GRADE LEVEL**"
      ],
      "metadata": {
        "id": "pVTBaykctP5t"
      }
    },
    {
      "cell_type": "code",
      "source": [
        "#Crosstab for Student scores by Grade Level\n",
        "test =  pd.crosstab(index=df.OverallLevel, columns=df.GradeLevel)\n",
        "print(test)\n",
        "#plot the figure\n",
        "fig = plt.figure()\n",
        "temp = test.plot.bar(colormap=\"terrain\", fontsize=16, figsize=(8,8)) #https://matplotlib.org/stable/tutorials/colors/colormaps.html#sequential\n",
        "temp = plt.title('Student scores by Grade kevel', fontsize=20)\n",
        "temp = plt.ylabel('Count by Grade ', fontsize=16)\n",
        "temp = plt.xlabel('Overall Level', fontsize=16)"
      ],
      "metadata": {
        "colab": {
          "base_uri": "https://localhost:8080/",
          "height": 652
        },
        "id": "6CwZTiqKtMum",
        "outputId": "ba0b56be-7385-46ae-dc84-d10f68448f0c"
      },
      "execution_count": 56,
      "outputs": [
        {
          "output_type": "stream",
          "name": "stdout",
          "text": [
            "GradeLevel      0    1    2    3    4    5    6\n",
            "OverallLevel                                   \n",
            "1             202  252  160  384  272  167  250\n",
            "2             480  394  377  537  379  321  293\n",
            "3             476  369  600  542  622  500  322\n",
            "4             199  238  395  178  219  220  112\n"
          ]
        },
        {
          "output_type": "display_data",
          "data": {
            "text/plain": [
              "<Figure size 432x288 with 0 Axes>"
            ]
          },
          "metadata": {}
        },
        {
          "output_type": "display_data",
          "data": {
            "text/plain": [
              "<Figure size 576x576 with 1 Axes>"
            ],
            "image/png": "[encoded data removed]"
          },
          "metadata": {
            "needs_background": "light"
          }
        }
      ]
    },
    {
      "cell_type": "markdown",
      "source": [
        "###**FEATURE ENGINEERING**"
      ],
      "metadata": {
        "id": "Ah54xespDrcO"
      }
    },
    {
      "cell_type": "markdown",
      "source": [
        "####**DISTRIBUTION OF TARGET CLASSES: OVERALLLEVEL**\n"
      ],
      "metadata": {
        "id": "wm2twkWbs8EL"
      }
    },
    {
      "cell_type": "code",
      "source": [
        "fig_szie=(12,8)\n",
        "sns.countplot(df['OverallLevel'], data = df, palette = 'rainbow_r')"
      ],
      "metadata": {
        "colab": {
          "base_uri": "https://localhost:8080/",
          "height": 297
        },
        "id": "cqlZwFY6s2Qs",
        "outputId": "8a27b770-b49a-4738-d0cd-cbf472defcb8"
      },
      "execution_count": 55,
      "outputs": [
        {
          "output_type": "execute_result",
          "data": {
            "text/plain": [
              "<matplotlib.axes._subplots.AxesSubplot at 0x7f29c6379110>"
            ]
          },
          "metadata": {},
          "execution_count": 55
        },
        {
          "output_type": "display_data",
          "data": {
            "text/plain": [
              "<Figure size 432x288 with 1 Axes>"
            ],
            "image/png": "[encoded data removed]"
          },
          "metadata": {
            "needs_background": "light"
          }
        }
      ]
    },
    {
      "cell_type": "markdown",
      "source": [
        "A slight class-imbalance was observed amaong the scores.\n",
        "\n",
        "Downsampling will be performed for level 2 and 3 as reference to level 4 count.\n",
        "\n",
        "A new data balanced dataset named 'bal_df' will be trained with models to see the accuracy performance improvement. \n"
      ],
      "metadata": {
        "id": "AolNWuj4CwY_"
      }
    },
    {
      "cell_type": "code",
      "source": [
        "#downsamples level 2 and 3 as reference to level 4\n",
        "\n",
        "lev_0 = df[df['OverallLevel'] == 0]\n",
        "lev_1 = df[df['OverallLevel'] == 1]\n",
        "lev_2 = df[df['OverallLevel'] == 2]\n",
        "lev_3 = df[df['OverallLevel'] == 3]\n",
        "lev_4 = df[df['OverallLevel'] == 4]"
      ],
      "metadata": {
        "id": "8h4JXY-nCruZ"
      },
      "execution_count": 58,
      "outputs": []
    },
    {
      "cell_type": "code",
      "source": [
        "from sklearn.utils import resample\n",
        "\n",
        "lev1_upsample = resample(lev_1,replace=True,n_samples=len(lev_3),random_state=42)\n",
        "lev2_upsample = resample(lev_2,replace=True,n_samples=len(lev_3),random_state=42)\n",
        "lev4_upsample = resample(lev_4,replace=True,n_samples=len(lev_3),random_state=42)"
      ],
      "metadata": {
        "id": "lP4Q2qi7C7Ur"
      },
      "execution_count": 59,
      "outputs": []
    },
    {
      "cell_type": "code",
      "source": [
        "#create a new dataframe with balanced datasets\n",
        "\n",
        "frames = (lev1_upsample, lev2_upsample, lev_3, lev4_upsample)\n",
        "bal_df = pd.concat(frames)\n",
        "\n",
        "fig_szie=(12,8)\n",
        "sns.countplot(bal_df['OverallLevel'], data = bal_df, palette = 'rainbow_r')"
      ],
      "metadata": {
        "colab": {
          "base_uri": "https://localhost:8080/",
          "height": 297
        },
        "id": "Z5zTpXhOC-32",
        "outputId": "b3375573-df22-42d8-a286-71202284974e"
      },
      "execution_count": 61,
      "outputs": [
        {
          "output_type": "execute_result",
          "data": {
            "text/plain": [
              "<matplotlib.axes._subplots.AxesSubplot at 0x7f29bee229d0>"
            ]
          },
          "metadata": {},
          "execution_count": 61
        },
        {
          "output_type": "display_data",
          "data": {
            "text/plain": [
              "<Figure size 432x288 with 1 Axes>"
            ],
            "image/png": "[encoded data removed]"
          },
          "metadata": {
            "needs_background": "light"
          }
        }
      ]
    },
    {
      "cell_type": "markdown",
      "source": [
        "###**FEATURE ENGINEERING TO DO LISTS**\n",
        "\n",
        "According to the data visualization plots, here are the steps for feature engineering.\n",
        "\n",
        "GradeEnrolledPct, AttendedPct will be dropped from the data frame to avoid multicollinearity.\n",
        "\n",
        "TestAge is the student's age on the date of the ELPAC test. For example, for record #1, the student was born on 7/4/2011 and student is 11 year old. TestAge of the student is 6.828340. Since GradeLevel and TestAge are highly correlated and age column was also populated, it's safe to drop the TestAge to avoid multicollinearity.\n",
        "\n",
        "Other insignificant columns such as 'AcademicYear', 'Stu_deID', 'DOB', 'TestDate' will also be dropped.\n",
        "\n",
        "Unique value X in 'StudentGender' will be replaced with the mode of each feature column for each train and test data set to avoid data leakage.\n",
        "\n",
        "Label-encoding will be performed for categorical variables.\n",
        "\n",
        "Dataset will be split into Train and test dataset."
      ],
      "metadata": {
        "id": "o6yWvDCXDYt3"
      }
    },
    {
      "cell_type": "code",
      "source": [
        "new_df = df.drop(columns = ['AcademicYear','Stu_deID','DOB','TestAge','GradeEnrolledPct',\n",
        "                             'AttendedPct','TestDate'])"
      ],
      "metadata": {
        "id": "lcaeqhMDDxt-"
      },
      "execution_count": 65,
      "outputs": []
    },
    {
      "cell_type": "code",
      "source": [
        "##replace X value from StudentGender with Mode value for StudentGender column\n",
        "print(new_df['StudentGender'].mode())\n",
        "new_df['StudentGender'] = new_df['StudentGender'].replace(to_replace = 'M', value = 'X') #replace X value with mode\n"
      ],
      "metadata": {
        "colab": {
          "base_uri": "https://localhost:8080/"
        },
        "id": "ofDtkTzxGPvX",
        "outputId": "25db546b-42c4-4c80-c1c7-c72262e85c5f"
      },
      "execution_count": 70,
      "outputs": [
        {
          "output_type": "stream",
          "name": "stdout",
          "text": [
            "0    M\n",
            "dtype: object\n"
          ]
        }
      ]
    },
    {
      "cell_type": "markdown",
      "source": [
        "###**LABEL-ENCODING FOR CATEGORICAL VARIABLES**"
      ],
      "metadata": {
        "id": "WytZT4R2GbAD"
      }
    },
    {
      "cell_type": "code",
      "source": [
        "cat_columns = ['StudentGender','StudentEthnicity','Special_Education','Homeless','SocioEconomically',\n",
        "               'TestDayName','TeacherGender','TeacherEthnicity']"
      ],
      "metadata": {
        "id": "MjOuZrEEGdTd"
      },
      "execution_count": 71,
      "outputs": []
    },
    {
      "cell_type": "code",
      "source": [
        "from sklearn.preprocessing import LabelEncoder\n",
        "\n",
        "#Train dataset\n",
        "label_encoders = {}\n",
        "for column in cat_columns:\n",
        "  label_encoders[column] = LabelEncoder()\n",
        "  new_df[column] = label_encoders[column].fit_transform(new_df[column])"
      ],
      "metadata": {
        "id": "ZvTRFdsrGhfo"
      },
      "execution_count": 72,
      "outputs": []
    },
    {
      "cell_type": "markdown",
      "source": [
        "###**DATA PARTITIONING**\n",
        "\n",
        "Split dataset into 70% train and 30% test datasets.  "
      ],
      "metadata": {
        "id": "p189FOZKCXfz"
      }
    },
    {
      "cell_type": "code",
      "source": [
        "from sklearn.model_selection import train_test_split\n",
        "\n",
        "X = new_df.loc[ : , new_df.columns != 'OverallLevel']\n",
        "y = new_df[['OverallLevel']]\n",
        "\n",
        "X_train, X_test, y_train, y_test = train_test_split(X,y,random_state=700, test_size=0.30)\n",
        "print(X_train.shape, y_train.shape, X_test.shape, y_test.shape)"
      ],
      "metadata": {
        "colab": {
          "base_uri": "https://localhost:8080/"
        },
        "id": "FqEZ4eNmCYdZ",
        "outputId": "ddbe6ab9-ce33-4493-e816-3d3ecf6b6b6a"
      },
      "execution_count": 73,
      "outputs": [
        {
          "output_type": "stream",
          "name": "stdout",
          "text": [
            "(6622, 19) (6622, 1) (2838, 19) (2838, 1)\n"
          ]
        }
      ]
    },
    {
      "cell_type": "markdown",
      "source": [
        "###**Now the train and test dataset are ready for modelings.**"
      ],
      "metadata": {
        "id": "DsN-UlnWIB_L"
      }
    }
  ]
}