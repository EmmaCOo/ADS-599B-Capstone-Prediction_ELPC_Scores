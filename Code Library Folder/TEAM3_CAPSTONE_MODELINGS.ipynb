{
  "cells": [
    {
      "cell_type": "code",
      "execution_count": null,
      "metadata": {
        "id": "uMBSe0VJ0SEm"
      },
      "outputs": [],
      "source": [
        "import pandas as pd\n",
        "pd.set_option('display.max_rows', 500)\n",
        "pd.set_option('display.max_columns', 500)\n",
        "pd.set_option('display.width', 1000)\n",
        "import numpy as np\n",
        "import matplotlib.pyplot as plt\n",
        "import seaborn as sns\n",
        "from sklearn.model_selection import train_test_split\n",
        "import datetime\n",
        "import warnings \n",
        "warnings.filterwarnings(action= 'ignore')\n",
        "\n",
        "#modeling packages\n",
        "from sklearn.linear_model import LogisticRegression\n",
        "from sklearn.metrics import mean_squared_error, r2_score\n",
        "from sklearn import preprocessing\n",
        "from sklearn import metrics\n",
        "from sklearn.metrics import accuracy_score\n",
        "from sklearn.metrics import classification_report,confusion_matrix,plot_confusion_matrix\n",
        "from sklearn.preprocessing import StandardScaler\n",
        "from sklearn.naive_bayes import GaussianNB\n",
        "from sklearn.model_selection import GridSearchCV\n",
        "from sklearn.svm import SVC\n",
        "from sklearn.ensemble import GradientBoostingRegressor, GradientBoostingClassifier\n",
        "from sklearn.tree import DecisionTreeRegressor\n",
        "from sklearn.experimental import enable_hist_gradient_boosting\n",
        "from sklearn.ensemble import HistGradientBoostingClassifier\n",
        "from sklearn.model_selection import train_test_split\n",
        "from sklearn.neighbors import KNeighborsClassifier\n",
        "from sklearn.tree import DecisionTreeClassifier, export_text\n",
        "from sklearn import tree\n",
        "import warnings \n",
        "warnings.filterwarnings(action= 'ignore')"
      ]
    },
    {
      "cell_type": "code",
      "execution_count": null,
      "metadata": {
        "colab": {
          "base_uri": "https://localhost:8080/",
          "height": 270
        },
        "id": "L50rrd9K0SEr",
        "outputId": "d9c9b4c1-35c8-46b2-a7fd-5e64ca978eba"
      },
      "outputs": [
        {
          "data": {
            "text/html": [
              "\n",
              "  <div id=\"df-90c48948-80cd-4176-bcb2-264d21fbf28b\">\n",
              "    <div class=\"colab-df-container\">\n",
              "      <div>\n",
              "<style scoped>\n",
              "    .dataframe tbody tr th:only-of-type {\n",
              "        vertical-align: middle;\n",
              "    }\n",
              "\n",
              "    .dataframe tbody tr th {\n",
              "        vertical-align: top;\n",
              "    }\n",
              "\n",
              "    .dataframe thead th {\n",
              "        text-align: right;\n",
              "    }\n",
              "</style>\n",
              "<table border=\"1\" class=\"dataframe\">\n",
              "  <thead>\n",
              "    <tr style=\"text-align: right;\">\n",
              "      <th></th>\n",
              "      <th>School_deID</th>\n",
              "      <th>GradeLevel</th>\n",
              "      <th>StudentGender</th>\n",
              "      <th>StudentEthnicity</th>\n",
              "      <th>Special_Education</th>\n",
              "      <th>Homeless</th>\n",
              "      <th>SocioEconomically</th>\n",
              "      <th>TestDayName</th>\n",
              "      <th>OverallScore</th>\n",
              "      <th>OverallLevel</th>\n",
              "      <th>ExpectedAttendanceDays</th>\n",
              "      <th>DaysAttended</th>\n",
              "      <th>EnrolledPct</th>\n",
              "      <th>GradeAttendedPct</th>\n",
              "      <th>TeacherGender</th>\n",
              "      <th>TeacherTotalYearsOfService</th>\n",
              "      <th>TeacherEthnicity</th>\n",
              "      <th>OverallScoreStd</th>\n",
              "      <th>TotalAssessments</th>\n",
              "      <th>TestInstance</th>\n",
              "      <th>Growth</th>\n",
              "    </tr>\n",
              "  </thead>\n",
              "  <tbody>\n",
              "    <tr>\n",
              "      <th>0</th>\n",
              "      <td>3</td>\n",
              "      <td>1</td>\n",
              "      <td>0</td>\n",
              "      <td>4</td>\n",
              "      <td>0</td>\n",
              "      <td>1</td>\n",
              "      <td>1</td>\n",
              "      <td>6</td>\n",
              "      <td>1503</td>\n",
              "      <td>4</td>\n",
              "      <td>180.0</td>\n",
              "      <td>175.0</td>\n",
              "      <td>1.0</td>\n",
              "      <td>1.972222</td>\n",
              "      <td>0</td>\n",
              "      <td>4</td>\n",
              "      <td>3</td>\n",
              "      <td>0.740042</td>\n",
              "      <td>3</td>\n",
              "      <td>1</td>\n",
              "      <td>0</td>\n",
              "    </tr>\n",
              "    <tr>\n",
              "      <th>1</th>\n",
              "      <td>3</td>\n",
              "      <td>2</td>\n",
              "      <td>0</td>\n",
              "      <td>4</td>\n",
              "      <td>0</td>\n",
              "      <td>1</td>\n",
              "      <td>1</td>\n",
              "      <td>5</td>\n",
              "      <td>1549</td>\n",
              "      <td>4</td>\n",
              "      <td>180.0</td>\n",
              "      <td>175.0</td>\n",
              "      <td>1.0</td>\n",
              "      <td>2.972222</td>\n",
              "      <td>0</td>\n",
              "      <td>22</td>\n",
              "      <td>3</td>\n",
              "      <td>0.725455</td>\n",
              "      <td>3</td>\n",
              "      <td>2</td>\n",
              "      <td>0</td>\n",
              "    </tr>\n",
              "    <tr>\n",
              "      <th>2</th>\n",
              "      <td>3</td>\n",
              "      <td>3</td>\n",
              "      <td>0</td>\n",
              "      <td>4</td>\n",
              "      <td>0</td>\n",
              "      <td>1</td>\n",
              "      <td>1</td>\n",
              "      <td>5</td>\n",
              "      <td>1466</td>\n",
              "      <td>2</td>\n",
              "      <td>180.0</td>\n",
              "      <td>177.0</td>\n",
              "      <td>1.0</td>\n",
              "      <td>3.983333</td>\n",
              "      <td>0</td>\n",
              "      <td>25</td>\n",
              "      <td>3</td>\n",
              "      <td>0.605364</td>\n",
              "      <td>3</td>\n",
              "      <td>3</td>\n",
              "      <td>-2</td>\n",
              "    </tr>\n",
              "    <tr>\n",
              "      <th>3</th>\n",
              "      <td>5</td>\n",
              "      <td>4</td>\n",
              "      <td>1</td>\n",
              "      <td>4</td>\n",
              "      <td>0</td>\n",
              "      <td>0</td>\n",
              "      <td>1</td>\n",
              "      <td>0</td>\n",
              "      <td>1535</td>\n",
              "      <td>3</td>\n",
              "      <td>180.0</td>\n",
              "      <td>168.0</td>\n",
              "      <td>1.0</td>\n",
              "      <td>4.933333</td>\n",
              "      <td>0</td>\n",
              "      <td>2</td>\n",
              "      <td>5</td>\n",
              "      <td>0.662651</td>\n",
              "      <td>1</td>\n",
              "      <td>1</td>\n",
              "      <td>0</td>\n",
              "    </tr>\n",
              "    <tr>\n",
              "      <th>4</th>\n",
              "      <td>6</td>\n",
              "      <td>3</td>\n",
              "      <td>1</td>\n",
              "      <td>4</td>\n",
              "      <td>0</td>\n",
              "      <td>0</td>\n",
              "      <td>1</td>\n",
              "      <td>6</td>\n",
              "      <td>1412</td>\n",
              "      <td>1</td>\n",
              "      <td>180.0</td>\n",
              "      <td>179.0</td>\n",
              "      <td>1.0</td>\n",
              "      <td>3.994444</td>\n",
              "      <td>0</td>\n",
              "      <td>2</td>\n",
              "      <td>3</td>\n",
              "      <td>0.501916</td>\n",
              "      <td>3</td>\n",
              "      <td>1</td>\n",
              "      <td>0</td>\n",
              "    </tr>\n",
              "  </tbody>\n",
              "</table>\n",
              "</div>\n",
              "      <button class=\"colab-df-convert\" onclick=\"convertToInteractive('df-90c48948-80cd-4176-bcb2-264d21fbf28b')\"\n",
              "              title=\"Convert this dataframe to an interactive table.\"\n",
              "              style=\"display:none;\">\n",
              "        \n",
              "  <svg xmlns=\"http://www.w3.org/2000/svg\" height=\"24px\"viewBox=\"0 0 24 24\"\n",
              "       width=\"24px\">\n",
              "    <path d=\"M0 0h24v24H0V0z\" fill=\"none\"/>\n",
              "    <path d=\"M18.56 5.44l.94 2.06.94-2.06 2.06-.94-2.06-.94-.94-2.06-.94 2.06-2.06.94zm-11 1L8.5 8.5l.94-2.06 2.06-.94-2.06-.94L8.5 2.5l-.94 2.06-2.06.94zm10 10l.94 2.06.94-2.06 2.06-.94-2.06-.94-.94-2.06-.94 2.06-2.06.94z\"/><path d=\"M17.41 7.96l-1.37-1.37c-.4-.4-.92-.59-1.43-.59-.52 0-1.04.2-1.43.59L10.3 9.45l-7.72 7.72c-.78.78-.78 2.05 0 2.83L4 21.41c.39.39.9.59 1.41.59.51 0 1.02-.2 1.41-.59l7.78-7.78 2.81-2.81c.8-.78.8-2.07 0-2.86zM5.41 20L4 18.59l7.72-7.72 1.47 1.35L5.41 20z\"/>\n",
              "  </svg>\n",
              "      </button>\n",
              "      \n",
              "  <style>\n",
              "    .colab-df-container {\n",
              "      display:flex;\n",
              "      flex-wrap:wrap;\n",
              "      gap: 12px;\n",
              "    }\n",
              "\n",
              "    .colab-df-convert {\n",
              "      background-color: #E8F0FE;\n",
              "      border: none;\n",
              "      border-radius: 50%;\n",
              "      cursor: pointer;\n",
              "      display: none;\n",
              "      fill: #1967D2;\n",
              "      height: 32px;\n",
              "      padding: 0 0 0 0;\n",
              "      width: 32px;\n",
              "    }\n",
              "\n",
              "    .colab-df-convert:hover {\n",
              "      background-color: #E2EBFA;\n",
              "      box-shadow: 0px 1px 2px rgba(60, 64, 67, 0.3), 0px 1px 3px 1px rgba(60, 64, 67, 0.15);\n",
              "      fill: #174EA6;\n",
              "    }\n",
              "\n",
              "    [theme=dark] .colab-df-convert {\n",
              "      background-color: #3B4455;\n",
              "      fill: #D2E3FC;\n",
              "    }\n",
              "\n",
              "    [theme=dark] .colab-df-convert:hover {\n",
              "      background-color: #434B5C;\n",
              "      box-shadow: 0px 1px 3px 1px rgba(0, 0, 0, 0.15);\n",
              "      filter: drop-shadow(0px 1px 2px rgba(0, 0, 0, 0.3));\n",
              "      fill: #FFFFFF;\n",
              "    }\n",
              "  </style>\n",
              "\n",
              "      <script>\n",
              "        const buttonEl =\n",
              "          document.querySelector('#df-90c48948-80cd-4176-bcb2-264d21fbf28b button.colab-df-convert');\n",
              "        buttonEl.style.display =\n",
              "          google.colab.kernel.accessAllowed ? 'block' : 'none';\n",
              "\n",
              "        async function convertToInteractive(key) {\n",
              "          const element = document.querySelector('#df-90c48948-80cd-4176-bcb2-264d21fbf28b');\n",
              "          const dataTable =\n",
              "            await google.colab.kernel.invokeFunction('convertToInteractive',\n",
              "                                                     [key], {});\n",
              "          if (!dataTable) return;\n",
              "\n",
              "          const docLinkHtml = 'Like what you see? Visit the ' +\n",
              "            '<a target=\"_blank\" href=https://colab.research.google.com/notebooks/data_table.ipynb>data table notebook</a>'\n",
              "            + ' to learn more about interactive tables.';\n",
              "          element.innerHTML = '';\n",
              "          dataTable['output_type'] = 'display_data';\n",
              "          await google.colab.output.renderOutput(dataTable, element);\n",
              "          const docLink = document.createElement('div');\n",
              "          docLink.innerHTML = docLinkHtml;\n",
              "          element.appendChild(docLink);\n",
              "        }\n",
              "      </script>\n",
              "    </div>\n",
              "  </div>\n",
              "  "
            ],
            "text/plain": [
              "   School_deID  GradeLevel  StudentGender  StudentEthnicity  Special_Education  Homeless  SocioEconomically  TestDayName  OverallScore  OverallLevel  ExpectedAttendanceDays  DaysAttended  EnrolledPct  GradeAttendedPct  TeacherGender  TeacherTotalYearsOfService  TeacherEthnicity  OverallScoreStd  TotalAssessments  TestInstance  Growth\n",
              "0            3           1              0                 4                  0         1                  1            6          1503             4                   180.0         175.0          1.0          1.972222              0                           4                 3         0.740042                 3             1       0\n",
              "1            3           2              0                 4                  0         1                  1            5          1549             4                   180.0         175.0          1.0          2.972222              0                          22                 3         0.725455                 3             2       0\n",
              "2            3           3              0                 4                  0         1                  1            5          1466             2                   180.0         177.0          1.0          3.983333              0                          25                 3         0.605364                 3             3      -2\n",
              "3            5           4              1                 4                  0         0                  1            0          1535             3                   180.0         168.0          1.0          4.933333              0                           2                 5         0.662651                 1             1       0\n",
              "4            6           3              1                 4                  0         0                  1            6          1412             1                   180.0         179.0          1.0          3.994444              0                           2                 3         0.501916                 3             1       0"
            ]
          },
          "execution_count": 52,
          "metadata": {},
          "output_type": "execute_result"
        }
      ],
      "source": [
        "# Import file\n",
        "df = pd.read_csv('https://raw.githubusercontent.com/OscarG-DataSci/ADS-599B/main/Data%20Folder/new_elpac.csv')\n",
        "df.head() #check the head"
      ]
    },
    {
      "cell_type": "code",
      "execution_count": null,
      "metadata": {
        "colab": {
          "base_uri": "https://localhost:8080/",
          "height": 703
        },
        "id": "4eArENLj0SE2",
        "outputId": "a09c9231-0b84-4ede-fa2b-fa765717c36a"
      },
      "outputs": [
        {
          "data": {
            "image/png": "[encoded data removed]",
            "text/plain": [
              "<Figure size 864x720 with 2 Axes>"
            ]
          },
          "metadata": {
            "needs_background": "light"
          },
          "output_type": "display_data"
        }
      ],
      "source": [
        "#check for correlations\n",
        "corr = df.corr()\n",
        "sns.set_context('paper', font_scale=1)\n",
        "plt.figure(figsize=(12,10))\n",
        "plt.tight_layout(pad = 10, w_pad=10, h_pad=10)\n",
        "matrix = np.triu(corr)\n",
        "sns.heatmap(df.corr(method='pearson'), annot=True,\n",
        "linewidths=.5, cmap=\"coolwarm\", mask=matrix,\n",
        "square = True, cbar_kws={'label':\n",
        "'Correlation Index'})\n",
        "plt.show()"
      ]
    },
    {
      "cell_type": "code",
      "execution_count": null,
      "metadata": {
        "id": "OGaNoAad6MhA"
      },
      "outputs": [],
      "source": [
        "#drop highly correlated variable OverallScoreStd\n",
        "df = df.drop(columns=['OverallScoreStd'])"
      ]
    },
    {
      "cell_type": "code",
      "execution_count": null,
      "metadata": {
        "colab": {
          "base_uri": "https://localhost:8080/"
        },
        "id": "XDSk9O3M0SFK",
        "outputId": "2f20e768-5a18-4fad-90fc-4d9b792a7a44"
      },
      "outputs": [
        {
          "name": "stdout",
          "output_type": "stream",
          "text": [
            "(6622, 19) (6622, 1) (2838, 19) (2838, 1)\n"
          ]
        }
      ],
      "source": [
        "X = df.loc[ : , df.columns != 'OverallLevel']\n",
        "y = df[['OverallLevel']]\n",
        "#split 70% train 30% test\n",
        "X_train, X_test, y_train, y_test = train_test_split(X,y,random_state=700, test_size=0.30)\n",
        "print(X_train.shape, y_train.shape, X_test.shape, y_test.shape)"
      ]
    },
    {
      "cell_type": "markdown",
      "metadata": {
        "id": "XDzn2JW3Jg5p"
      },
      "source": [
        "###**Standardized (Scaled) Dataset**\n",
        "**Train and test dataset were also standardized to test for better performance on trained models.**"
      ]
    },
    {
      "cell_type": "code",
      "execution_count": null,
      "metadata": {
        "id": "ZKD_HvBj0SFM"
      },
      "outputs": [],
      "source": [
        "#for test purpose create a scaled X and compare the results\n",
        "X_scaled = StandardScaler().fit_transform(X_train)\n",
        "X_test_scaled= StandardScaler().fit_transform(X_test)"
      ]
    },
    {
      "cell_type": "markdown",
      "metadata": {
        "id": "fK3bHVEE0SFN"
      },
      "source": [
        "##**LOGISTIC REGRESSION MODEL (UNSCALED DATA)**"
      ]
    },
    {
      "cell_type": "code",
      "execution_count": null,
      "metadata": {
        "colab": {
          "base_uri": "https://localhost:8080/"
        },
        "id": "F5cVao7O0SFU",
        "outputId": "ed6b6c00-d703-4948-8cb9-ef7854120c03"
      },
      "outputs": [
        {
          "name": "stdout",
          "output_type": "stream",
          "text": [
            "Train Accuracy: 57.17%\n",
            "Test Accuracy: 58.1%\n",
            "Classification Stats:\n",
            "              precision    recall  f1-score   support\n",
            "\n",
            "           1       0.69      0.63      0.66       517\n",
            "           2       0.56      0.45      0.50       830\n",
            "           3       0.55      0.81      0.65      1026\n",
            "           4       0.66      0.27      0.38       465\n",
            "\n",
            "    accuracy                           0.58      2838\n",
            "   macro avg       0.61      0.54      0.55      2838\n",
            "weighted avg       0.60      0.58      0.56      2838\n",
            "\n"
          ]
        }
      ],
      "source": [
        "#logistic regression model\n",
        "logreg = LogisticRegression(random_state=599)\n",
        "logreg.fit(X_train,y_train)\n",
        "lg_pred = logreg.predict(X_test)\n",
        "# print accuracy\n",
        "logX = logreg.predict(X_train)\n",
        "print('Train Accuracy:', str(round(accuracy_score(y_train, logX)*100,2)) + '%')\n",
        "print('Test Accuracy:', str(round(accuracy_score(y_test, lg_pred)*100,2)) +'%')\n",
        "print('Classification Stats:')\n",
        "print(classification_report(y_test,lg_pred))\n"
      ]
    },
    {
      "cell_type": "markdown",
      "metadata": {
        "id": "4806sGwG0SFX"
      },
      "source": [
        "##**LOGISTIC REGRESSION MODEL (SCALED)**"
      ]
    },
    {
      "cell_type": "code",
      "execution_count": null,
      "metadata": {
        "colab": {
          "base_uri": "https://localhost:8080/"
        },
        "id": "0BaGZU1j0SFY",
        "outputId": "f64d605c-0919-41cb-96ae-a0100884c00d"
      },
      "outputs": [
        {
          "name": "stdout",
          "output_type": "stream",
          "text": [
            "Train Accuracy: 85.05%\n",
            "Test Accuracy: 84.57%\n",
            "Test Classification Stats:\n",
            "              precision    recall  f1-score   support\n",
            "\n",
            "           1       0.92      0.89      0.90       517\n",
            "           2       0.83      0.85      0.84       830\n",
            "           3       0.82      0.85      0.84      1026\n",
            "           4       0.86      0.78      0.82       465\n",
            "\n",
            "    accuracy                           0.85      2838\n",
            "   macro avg       0.86      0.84      0.85      2838\n",
            "weighted avg       0.85      0.85      0.85      2838\n",
            "\n"
          ]
        }
      ],
      "source": [
        "#scaled logistic regression\n",
        "\n",
        "logreg_Scale = LogisticRegression(random_state=599)\n",
        "logreg_Scale.fit(X_scaled,y_train)\n",
        "#evaluate on train data\n",
        "trainX = logreg_Scale.predict(X_scaled)\n",
        "print('Train Accuracy:', str(round(accuracy_score(y_train, trainX)*100,2)) + '%')\n",
        "lg_pred_scaled = logreg_Scale.predict(X_test_scaled)\n",
        "#check the accuracy\n",
        "print('Test Accuracy:', str(round(accuracy_score(y_test, lg_pred_scaled)*100,2))+'%')\n",
        "print('Test Classification Stats:')\n",
        "print(classification_report(y_test,lg_pred_scaled))\n"
      ]
    },
    {
      "cell_type": "markdown",
      "metadata": {
        "id": "RvwvKvGvRsoM"
      },
      "source": [
        "###Since accuracy for LG model with scaled dataset is better, we will do hyperparameter tuning on the scaled dataset."
      ]
    },
    {
      "cell_type": "markdown",
      "metadata": {
        "id": "S9v_-stQ0SFZ"
      },
      "source": [
        "###**PENALIZED LOGISTIC REGRESSION MODEL (SCALED)**"
      ]
    },
    {
      "cell_type": "code",
      "execution_count": null,
      "metadata": {
        "colab": {
          "base_uri": "https://localhost:8080/"
        },
        "id": "7-p9p_qh0SFZ",
        "outputId": "cd3eb576-6fef-45f8-c138-1ac0a0b5d905"
      },
      "outputs": [
        {
          "name": "stdout",
          "output_type": "stream",
          "text": [
            "Train Accuracy: 85.03%\n",
            "Test Accuracy: 84.57%\n",
            "Test Classification Stats:\n",
            "              precision    recall  f1-score   support\n",
            "\n",
            "           1       0.92      0.89      0.90       517\n",
            "           2       0.83      0.85      0.84       830\n",
            "           3       0.82      0.85      0.84      1026\n",
            "           4       0.86      0.78      0.82       465\n",
            "\n",
            "    accuracy                           0.85      2838\n",
            "   macro avg       0.86      0.84      0.85      2838\n",
            "weighted avg       0.85      0.85      0.85      2838\n",
            "\n"
          ]
        }
      ],
      "source": [
        "#Penalized logistic regression\n",
        "\n",
        "logpen = LogisticRegression(penalty ='l2',\n",
        "solver = 'newton-cg', random_state=599) \n",
        "logpenn=logpen.fit(X_scaled,y_train)\n",
        "#evaluate on train data\n",
        "trainX1 = logpen.predict(X_scaled)\n",
        "print('Train Accuracy:', str(round(accuracy_score(y_train, trainX1)*100,2))+'%')\n",
        "lg_pred_pen = logpen.predict(X_test_scaled)\n",
        "#check the accuracy\n",
        "print('Test Accuracy:', str(round(accuracy_score(y_test, lg_pred_pen)*100,2))+'%')\n",
        "print('Test Classification Stats:')\n",
        "print(classification_report(y_test,lg_pred_pen))\n"
      ]
    },
    {
      "cell_type": "markdown",
      "metadata": {
        "id": "rQo7H-bL0SFa"
      },
      "source": [
        "###**TUNED LOGISTIC REGRESSION MODEL**"
      ]
    },
    {
      "cell_type": "code",
      "execution_count": null,
      "metadata": {
        "colab": {
          "base_uri": "https://localhost:8080/"
        },
        "id": "exKZOMua0SFa",
        "outputId": "9ba1d455-a15d-4141-b34c-f963e875e981"
      },
      "outputs": [
        {
          "name": "stdout",
          "output_type": "stream",
          "text": [
            "# Tuning hyper-parameters for accuracy\n",
            "\n",
            "Grid scores for all the Logistic Regression Model based on CV:\n",
            "\n",
            "nan (+/-nan) for {'C': 0.001, 'penalty': 'l1', 'solver': 'newton-cg'}\n",
            "0.36922 (+/-0.00319) for {'C': 0.001, 'penalty': 'l1', 'solver': 'saga'}\n",
            "0.56176 (+/-0.00846) for {'C': 0.001, 'penalty': 'l2', 'solver': 'newton-cg'}\n",
            "0.56176 (+/-0.00846) for {'C': 0.001, 'penalty': 'l2', 'solver': 'saga'}\n",
            "nan (+/-nan) for {'C': 0.001, 'penalty': 'elasticnet', 'solver': 'newton-cg'}\n",
            "nan (+/-nan) for {'C': 0.001, 'penalty': 'elasticnet', 'solver': 'saga'}\n",
            "nan (+/-nan) for {'C': 0.01, 'penalty': 'l1', 'solver': 'newton-cg'}\n",
            "0.79780 (+/-0.02408) for {'C': 0.01, 'penalty': 'l1', 'solver': 'saga'}\n",
            "0.77998 (+/-0.01614) for {'C': 0.01, 'penalty': 'l2', 'solver': 'newton-cg'}\n",
            "0.77998 (+/-0.01614) for {'C': 0.01, 'penalty': 'l2', 'solver': 'saga'}\n",
            "nan (+/-nan) for {'C': 0.01, 'penalty': 'elasticnet', 'solver': 'newton-cg'}\n",
            "nan (+/-nan) for {'C': 0.01, 'penalty': 'elasticnet', 'solver': 'saga'}\n",
            "nan (+/-nan) for {'C': 0.1, 'penalty': 'l1', 'solver': 'newton-cg'}\n",
            "0.84612 (+/-0.02157) for {'C': 0.1, 'penalty': 'l1', 'solver': 'saga'}\n",
            "0.84295 (+/-0.01311) for {'C': 0.1, 'penalty': 'l2', 'solver': 'newton-cg'}\n",
            "0.84295 (+/-0.01311) for {'C': 0.1, 'penalty': 'l2', 'solver': 'saga'}\n",
            "nan (+/-nan) for {'C': 0.1, 'penalty': 'elasticnet', 'solver': 'newton-cg'}\n",
            "nan (+/-nan) for {'C': 0.1, 'penalty': 'elasticnet', 'solver': 'saga'}\n",
            "nan (+/-nan) for {'C': 1, 'penalty': 'l1', 'solver': 'newton-cg'}\n",
            "0.84642 (+/-0.01396) for {'C': 1, 'penalty': 'l1', 'solver': 'saga'}\n",
            "0.84718 (+/-0.01551) for {'C': 1, 'penalty': 'l2', 'solver': 'newton-cg'}\n",
            "0.84627 (+/-0.01519) for {'C': 1, 'penalty': 'l2', 'solver': 'saga'}\n",
            "nan (+/-nan) for {'C': 1, 'penalty': 'elasticnet', 'solver': 'newton-cg'}\n",
            "nan (+/-nan) for {'C': 1, 'penalty': 'elasticnet', 'solver': 'saga'}\n",
            "nan (+/-nan) for {'C': 10, 'penalty': 'l1', 'solver': 'newton-cg'}\n",
            "0.84672 (+/-0.01399) for {'C': 10, 'penalty': 'l1', 'solver': 'saga'}\n",
            "0.84597 (+/-0.01686) for {'C': 10, 'penalty': 'l2', 'solver': 'newton-cg'}\n",
            "0.84748 (+/-0.01329) for {'C': 10, 'penalty': 'l2', 'solver': 'saga'}\n",
            "nan (+/-nan) for {'C': 10, 'penalty': 'elasticnet', 'solver': 'newton-cg'}\n",
            "nan (+/-nan) for {'C': 10, 'penalty': 'elasticnet', 'solver': 'saga'}\n",
            "nan (+/-nan) for {'C': 100, 'penalty': 'l1', 'solver': 'newton-cg'}\n",
            "0.84687 (+/-0.01306) for {'C': 100, 'penalty': 'l1', 'solver': 'saga'}\n",
            "0.84597 (+/-0.01752) for {'C': 100, 'penalty': 'l2', 'solver': 'newton-cg'}\n",
            "0.84672 (+/-0.01332) for {'C': 100, 'penalty': 'l2', 'solver': 'saga'}\n",
            "nan (+/-nan) for {'C': 100, 'penalty': 'elasticnet', 'solver': 'newton-cg'}\n",
            "nan (+/-nan) for {'C': 100, 'penalty': 'elasticnet', 'solver': 'saga'}\n",
            "nan (+/-nan) for {'C': 1000, 'penalty': 'l1', 'solver': 'newton-cg'}\n",
            "0.84687 (+/-0.01306) for {'C': 1000, 'penalty': 'l1', 'solver': 'saga'}\n",
            "0.84612 (+/-0.01743) for {'C': 1000, 'penalty': 'l2', 'solver': 'newton-cg'}\n",
            "0.84687 (+/-0.01306) for {'C': 1000, 'penalty': 'l2', 'solver': 'saga'}\n",
            "nan (+/-nan) for {'C': 1000, 'penalty': 'elasticnet', 'solver': 'newton-cg'}\n",
            "nan (+/-nan) for {'C': 1000, 'penalty': 'elasticnet', 'solver': 'saga'}\n",
            "\n",
            "Best parameters set found on training set: {'C': 10, 'penalty': 'l2', 'solver': 'saga'}\n",
            "Best model test accuracy: 0.8474776264036938\n",
            "\n",
            "\n",
            "Tuned Model Stats:\n",
            "Test Classification Stats:\n",
            "              precision    recall  f1-score   support\n",
            "\n",
            "           1       0.91      0.89      0.90       517\n",
            "           2       0.83      0.84      0.84       830\n",
            "           3       0.82      0.85      0.84      1026\n",
            "           4       0.85      0.78      0.81       465\n",
            "\n",
            "    accuracy                           0.84      2838\n",
            "   macro avg       0.85      0.84      0.85      2838\n",
            "weighted avg       0.85      0.84      0.84      2838\n",
            "\n"
          ]
        }
      ],
      "source": [
        "# setting the parameter grid\n",
        "param_grid = {'solver': ['newton-cg', 'saga'], \n",
        "                   'penalty': ['l1', 'l2', 'elasticnet'],\n",
        "                  'C': [0.001, 0.01, 0.1, 1, 10, 100, 1000]}\n",
        "\n",
        "# perform hyperparameter tuning\n",
        "print(\"# Tuning hyper-parameters for accuracy\\n\")\n",
        "tuned_log = GridSearchCV(LogisticRegression(random_state=599),param_grid, cv=5, scoring='accuracy') \n",
        "tuned_log.fit(X_scaled,y_train)\n",
        "# view accuracy scores for all the models\n",
        "print(\"Grid scores for all the Logistic Regression Model based on CV:\\n\")\n",
        "means = tuned_log.cv_results_['mean_test_score']\n",
        "stds = tuned_log.cv_results_['std_test_score']\n",
        "for mean, std, params in zip(means, stds, tuned_log.cv_results_['params']):\n",
        "    print(\"%0.5f (+/-%0.05f) for %r\" % (mean, std * 2, params))\n",
        "# check out best model performance\n",
        "print(\"\\nBest parameters set found on training set:\", tuned_log.best_params_)\n",
        "print(\"Best model test accuracy:\", tuned_log.best_score_)\n",
        "\n",
        "log_best = tuned_log.best_estimator_\n",
        "tuned_log_y_pred = log_best.predict(X_test_scaled)\n",
        "\n",
        "print('\\n\\nTuned Model Stats:')\n",
        "print('Test Classification Stats:')\n",
        "print(classification_report(y_test,tuned_log_y_pred))"
      ]
    },
    {
      "cell_type": "markdown",
      "metadata": {
        "id": "rm6X7-vJFBGw"
      },
      "source": [
        "###**K-NEAREST NEIGHBORS (KNN)**"
      ]
    },
    {
      "cell_type": "code",
      "execution_count": null,
      "metadata": {
        "colab": {
          "base_uri": "https://localhost:8080/",
          "height": 535
        },
        "id": "oZ3LIHQfFVI8",
        "outputId": "a81eea03-c53a-4d26-8908-2c6e7140118a"
      },
      "outputs": [
        {
          "name": "stdout",
          "output_type": "stream",
          "text": [
            "\n",
            "\n"
          ]
        },
        {
          "data": {
            "image/png": "[encoded data removed]",
            "text/plain": [
              "<Figure size 432x288 with 1 Axes>"
            ]
          },
          "metadata": {
            "needs_background": "light"
          },
          "output_type": "display_data"
        },
        {
          "name": "stdout",
          "output_type": "stream",
          "text": [
            "metric: euclidean\n"
          ]
        },
        {
          "data": {
            "text/html": [
              "<style type=\"text/css\">\n",
              "</style>\n",
              "<table id=\"T_cc588_\" class=\"dataframe\">\n",
              "  <thead>\n",
              "    <tr>\n",
              "      <th class=\"col_heading level0 col0\" >k values</th>\n",
              "      <th class=\"col_heading level0 col1\" >Training Accuracy</th>\n",
              "      <th class=\"col_heading level0 col2\" >Test Accuracy</th>\n",
              "    </tr>\n",
              "  </thead>\n",
              "  <tbody>\n",
              "    <tr>\n",
              "      <td id=\"T_cc588_row0_col0\" class=\"data row0 col0\" >1</td>\n",
              "      <td id=\"T_cc588_row0_col1\" class=\"data row0 col1\" >1.000000</td>\n",
              "      <td id=\"T_cc588_row0_col2\" class=\"data row0 col2\" >0.553206</td>\n",
              "    </tr>\n",
              "    <tr>\n",
              "      <td id=\"T_cc588_row1_col0\" class=\"data row1 col0\" >3</td>\n",
              "      <td id=\"T_cc588_row1_col1\" class=\"data row1 col1\" >0.763214</td>\n",
              "      <td id=\"T_cc588_row1_col2\" class=\"data row1 col2\" >0.528189</td>\n",
              "    </tr>\n",
              "    <tr>\n",
              "      <td id=\"T_cc588_row2_col0\" class=\"data row2 col0\" >5</td>\n",
              "      <td id=\"T_cc588_row2_col1\" class=\"data row2 col1\" >0.722138</td>\n",
              "      <td id=\"T_cc588_row2_col2\" class=\"data row2 col2\" >0.556730</td>\n",
              "    </tr>\n",
              "    <tr>\n",
              "      <td id=\"T_cc588_row3_col0\" class=\"data row3 col0\" >7</td>\n",
              "      <td id=\"T_cc588_row3_col1\" class=\"data row3 col1\" >0.701752</td>\n",
              "      <td id=\"T_cc588_row3_col2\" class=\"data row3 col2\" >0.570472</td>\n",
              "    </tr>\n",
              "    <tr>\n",
              "      <td id=\"T_cc588_row4_col0\" class=\"data row4 col0\" >9</td>\n",
              "      <td id=\"T_cc588_row4_col1\" class=\"data row4 col1\" >0.678647</td>\n",
              "      <td id=\"T_cc588_row4_col2\" class=\"data row4 col2\" >0.573291</td>\n",
              "    </tr>\n",
              "  </tbody>\n",
              "</table>\n"
            ],
            "text/plain": [
              "<pandas.io.formats.style.Styler at 0x7fbac699ee90>"
            ]
          },
          "execution_count": 68,
          "metadata": {},
          "output_type": "execute_result"
        }
      ],
      "source": [
        "metric='euclidean'\n",
        "knn_accuracy = []\n",
        "\n",
        "for i in range(1, 10, 2):\n",
        "    knn_clsf = KNeighborsClassifier(metric=metric, n_neighbors=i).fit(X_scaled, y_train)\n",
        "\n",
        "    knn_clsf_train_pred = knn_clsf.predict(X_scaled)\n",
        "    knn_clsf_test_pred  = knn_clsf.predict(X_test_scaled)\n",
        "\n",
        "    knn_accuracy.append({'k values': i,\n",
        "                         'Training Accuracy': accuracy_score(knn_clsf_train_pred, y_train),\n",
        "                         'Test Accuracy': accuracy_score(knn_clsf_test_pred, y_test)})\n",
        "\n",
        "# Plot\n",
        "print(\"\\n\")\n",
        "plt.plot(pd.DataFrame(knn_accuracy)['k values'], pd.DataFrame(knn_accuracy)['Training Accuracy'], '--', linewidth=2, label='Training Accuracy')\n",
        "plt.plot(pd.DataFrame(knn_accuracy)['k values'], pd.DataFrame(knn_accuracy)['Test Accuracy'], '--', linewidth=2, label='Test Accuracy')\n",
        "plt.xlabel('k Neighbors')\n",
        "plt.ylabel('Accuracy')\n",
        "plt.title('KNN Accuracy - ' + metric)\n",
        "plt.legend()\n",
        "plt.show()\n",
        "\n",
        "# Results\n",
        "print(\"metric:\", metric)\n",
        "pd.DataFrame(knn_accuracy).style.hide_index()"
      ]
    },
    {
      "cell_type": "code",
      "execution_count": null,
      "metadata": {
        "colab": {
          "base_uri": "https://localhost:8080/",
          "height": 535
        },
        "id": "MbplqLufGeMD",
        "outputId": "d9bebb41-e858-4429-f52d-985f9e6a2f29"
      },
      "outputs": [
        {
          "name": "stdout",
          "output_type": "stream",
          "text": [
            "\n",
            "\n"
          ]
        },
        {
          "data": {
            "image/png": "[encoded data removed]",
            "text/plain": [
              "<Figure size 432x288 with 1 Axes>"
            ]
          },
          "metadata": {
            "needs_background": "light"
          },
          "output_type": "display_data"
        },
        {
          "name": "stdout",
          "output_type": "stream",
          "text": [
            "metric: manhattan\n"
          ]
        },
        {
          "data": {
            "text/html": [
              "<style type=\"text/css\">\n",
              "</style>\n",
              "<table id=\"T_06f17_\" class=\"dataframe\">\n",
              "  <thead>\n",
              "    <tr>\n",
              "      <th class=\"col_heading level0 col0\" >k values</th>\n",
              "      <th class=\"col_heading level0 col1\" >Training Accuracy</th>\n",
              "      <th class=\"col_heading level0 col2\" >Test Accuracy</th>\n",
              "    </tr>\n",
              "  </thead>\n",
              "  <tbody>\n",
              "    <tr>\n",
              "      <td id=\"T_06f17_row0_col0\" class=\"data row0 col0\" >1</td>\n",
              "      <td id=\"T_06f17_row0_col1\" class=\"data row0 col1\" >1.000000</td>\n",
              "      <td id=\"T_06f17_row0_col2\" class=\"data row0 col2\" >0.581748</td>\n",
              "    </tr>\n",
              "    <tr>\n",
              "      <td id=\"T_06f17_row1_col0\" class=\"data row1 col0\" >3</td>\n",
              "      <td id=\"T_06f17_row1_col1\" class=\"data row1 col1\" >0.788584</td>\n",
              "      <td id=\"T_06f17_row1_col2\" class=\"data row1 col2\" >0.574700</td>\n",
              "    </tr>\n",
              "    <tr>\n",
              "      <td id=\"T_06f17_row2_col0\" class=\"data row2 col0\" >5</td>\n",
              "      <td id=\"T_06f17_row2_col1\" class=\"data row2 col1\" >0.753549</td>\n",
              "      <td id=\"T_06f17_row2_col2\" class=\"data row2 col2\" >0.601128</td>\n",
              "    </tr>\n",
              "    <tr>\n",
              "      <td id=\"T_06f17_row3_col0\" class=\"data row3 col0\" >7</td>\n",
              "      <td id=\"T_06f17_row3_col1\" class=\"data row3 col1\" >0.734068</td>\n",
              "      <td id=\"T_06f17_row3_col2\" class=\"data row3 col2\" >0.612403</td>\n",
              "    </tr>\n",
              "    <tr>\n",
              "      <td id=\"T_06f17_row4_col0\" class=\"data row4 col0\" >9</td>\n",
              "      <td id=\"T_06f17_row4_col1\" class=\"data row4 col1\" >0.721534</td>\n",
              "      <td id=\"T_06f17_row4_col2\" class=\"data row4 col2\" >0.620155</td>\n",
              "    </tr>\n",
              "  </tbody>\n",
              "</table>\n"
            ],
            "text/plain": [
              "<pandas.io.formats.style.Styler at 0x7fbac6a16dd0>"
            ]
          },
          "execution_count": 69,
          "metadata": {},
          "output_type": "execute_result"
        }
      ],
      "source": [
        "metric='manhattan'\n",
        "knn_accuracy = []\n",
        "\n",
        "for i in range(1, 10, 2):\n",
        "    knn_clsf = KNeighborsClassifier(metric=metric, n_neighbors=i).fit(X_scaled, y_train)\n",
        "\n",
        "    knn_clsf_train_pred = knn_clsf.predict(X_scaled)\n",
        "    knn_clsf_test_pred  = knn_clsf.predict(X_test_scaled)\n",
        "\n",
        "    knn_accuracy.append({'k values': i,\n",
        "                         'Training Accuracy': accuracy_score(knn_clsf_train_pred, y_train),\n",
        "                         'Test Accuracy': accuracy_score(knn_clsf_test_pred, y_test)})\n",
        "\n",
        "# Plot\n",
        "print(\"\\n\")\n",
        "plt.plot(pd.DataFrame(knn_accuracy)['k values'], pd.DataFrame(knn_accuracy)['Training Accuracy'], '--', linewidth=2, label='Training Accuracy')\n",
        "plt.plot(pd.DataFrame(knn_accuracy)['k values'], pd.DataFrame(knn_accuracy)['Test Accuracy'], '--', linewidth=2, label='Test Accuracy')\n",
        "plt.xlabel('k Neighbors')\n",
        "plt.ylabel('Accuracy')\n",
        "plt.title('KNN Accuracy - ' + metric)\n",
        "plt.legend()\n",
        "plt.show()\n",
        "\n",
        "# Results\n",
        "print(\"metric:\", metric)\n",
        "pd.DataFrame(knn_accuracy).style.hide_index()"
      ]
    },
    {
      "cell_type": "markdown",
      "metadata": {
        "id": "dZ3ivydAHdaS"
      },
      "source": [
        "###With elbow method, k=5 is the optimal k.  Manhattan distance's accuracy at k=5 is 0.60 for the test dataset and outperform over Euclidean. Thus, we will train our model with Manhattan distance. "
      ]
    },
    {
      "cell_type": "code",
      "execution_count": null,
      "metadata": {
        "colab": {
          "base_uri": "https://localhost:8080/"
        },
        "id": "J82gM9IpGnbz",
        "outputId": "f3b6fc55-fd48-4801-f5c1-764543953fa1"
      },
      "outputs": [
        {
          "name": "stdout",
          "output_type": "stream",
          "text": [
            "Metric: Manhattan\n",
            "Neighbors: 5\n",
            "Train Accuracy: 75.35%\n",
            "Test Accuracy:  60.11%\n",
            "\n",
            "\n",
            "              precision    recall  f1-score   support\n",
            "\n",
            "           1       0.68      0.60      0.63       517\n",
            "           2       0.50      0.56      0.53       830\n",
            "           3       0.60      0.68      0.64      1026\n",
            "           4       0.80      0.50      0.62       465\n",
            "\n",
            "    accuracy                           0.60      2838\n",
            "   macro avg       0.65      0.58      0.60      2838\n",
            "weighted avg       0.62      0.60      0.60      2838\n",
            "\n"
          ]
        }
      ],
      "source": [
        "knn_classifier = KNeighborsClassifier(metric='manhattan', n_neighbors=5)\n",
        "\n",
        "knn_classifier.fit(X_scaled, y_train)\n",
        "\n",
        "knn_test_pred = knn_classifier.predict(X_test_scaled)\n",
        "knn_train_pred = knn_classifier.predict(X_scaled)\n",
        "\n",
        "print('''Metric: Manhattan\n",
        "Neighbors: 5''')\n",
        "print('Train Accuracy:', str(round(accuracy_score(y_train, knn_train_pred)*100,2))+ '%')\n",
        "print('Test Accuracy: ', str(round(accuracy_score(y_test, knn_test_pred)*100,2))+ '%')\n",
        "print(\"\\n\")\n",
        "print(classification_report(y_test,knn_test_pred))"
      ]
    },
    {
      "cell_type": "markdown",
      "metadata": {
        "id": "hQOmM8UpTaPG"
      },
      "source": [
        "##**DECISION TREE**"
      ]
    },
    {
      "cell_type": "code",
      "execution_count": null,
      "metadata": {
        "colab": {
          "base_uri": "https://localhost:8080/"
        },
        "id": "LM08YvlrTW_c",
        "outputId": "61ae29f5-8383-4ac3-cb6c-015d01d9e083"
      },
      "outputs": [
        {
          "name": "stdout",
          "output_type": "stream",
          "text": [
            "Train Accuracy: 82.3%\n",
            "Test Accuracy:  82.7%\n",
            "\n",
            "\n",
            "              precision    recall  f1-score   support\n",
            "\n",
            "           1       0.87      0.94      0.90       517\n",
            "           2       0.88      0.65      0.74       830\n",
            "           3       0.75      0.95      0.83      1026\n",
            "           4       0.96      0.76      0.85       465\n",
            "\n",
            "    accuracy                           0.83      2838\n",
            "   macro avg       0.86      0.82      0.83      2838\n",
            "weighted avg       0.84      0.83      0.82      2838\n",
            "\n"
          ]
        }
      ],
      "source": [
        "dtc_clf = DecisionTreeClassifier(criterion=\"gini\",max_depth=5).fit(X,y)\n",
        "\n",
        "dtc_test_pred = dtc_clf.predict(X_test)\n",
        "dtc_train_pred = dtc_clf.predict(X_train)\n",
        "\n",
        "print('Train Accuracy:', str(round(accuracy_score(y_train, dtc_train_pred)*100,2))+ '%')\n",
        "print('Test Accuracy: ', str(round(accuracy_score(y_test, dtc_test_pred)*100,2))+ '%')\n",
        "print(\"\\n\")\n",
        "print(classification_report(y_test,dtc_test_pred))"
      ]
    },
    {
      "cell_type": "markdown",
      "metadata": {
        "id": "nqDKZncUUjS4"
      },
      "source": [
        "###**RANDOM FOREST**"
      ]
    },
    {
      "cell_type": "code",
      "execution_count": null,
      "metadata": {
        "id": "B8t1NLE-T8XC"
      },
      "outputs": [],
      "source": [
        "#import warnings\n",
        "#warnings.filterwarnings(\"ignore\")\n",
        "from sklearn.ensemble import RandomForestClassifier\n",
        "\n",
        "train_errors = list()\n",
        "test_errors = list()\n",
        "\n",
        "for i in range(1,50):\n",
        "  rf_model = RandomForestClassifier(max_depth=i)    #Create multiple models here each based on the i variable above\n",
        "  rf_model.fit(X_train,y_train)\n",
        "  train_pred = rf_model.predict(X_train)\n",
        "  test_pred = rf_model.predict(X_test)\n",
        "  train_errors.append(accuracy_score(y_train,train_pred))    # Store the result of modes in t_train_erors and t_test_errors variables\n",
        "  test_errors.append(accuracy_score(y_test, test_pred))"
      ]
    },
    {
      "cell_type": "code",
      "execution_count": null,
      "metadata": {
        "colab": {
          "base_uri": "https://localhost:8080/",
          "height": 388
        },
        "id": "393s32DdUp6p",
        "outputId": "ba0ff50c-3785-4115-be3e-1c9202befb1f"
      },
      "outputs": [
        {
          "data": {
            "image/png": "[encoded data removed]",
            "text/plain": [
              "<Figure size 720x432 with 1 Axes>"
            ]
          },
          "metadata": {
            "needs_background": "light"
          },
          "output_type": "display_data"
        }
      ],
      "source": [
        "# Plot of test and training errors\n",
        "fig,ax = plt.subplots(figsize=(10,6))\n",
        "plt.plot(range(1,50),train_errors, label='Train')\n",
        "plt.plot(range(1,50),test_errors, label='Test')\n",
        "plt.legend(loc='upper left')\n",
        "plt.xlabel('Depth parameter')\n",
        "plt.ylabel('Performance')\n",
        "plt.xticks(ticks =np.arange(1, 50, 1));"
      ]
    },
    {
      "cell_type": "code",
      "execution_count": null,
      "metadata": {
        "colab": {
          "base_uri": "https://localhost:8080/"
        },
        "id": "w6UUmwXmUwpH",
        "outputId": "5085f39e-9f52-4240-c402-5e99bda10c4c"
      },
      "outputs": [
        {
          "name": "stdout",
          "output_type": "stream",
          "text": [
            "Train Accuracy: 99.73%\n",
            "Test Accuracy:  94.68%\n",
            "\n",
            "\n",
            "              precision    recall  f1-score   support\n",
            "\n",
            "           1       0.98      0.95      0.97       517\n",
            "           2       0.92      0.96      0.94       830\n",
            "           3       0.94      0.94      0.94      1026\n",
            "           4       0.97      0.93      0.95       465\n",
            "\n",
            "    accuracy                           0.95      2838\n",
            "   macro avg       0.95      0.95      0.95      2838\n",
            "weighted avg       0.95      0.95      0.95      2838\n",
            "\n"
          ]
        }
      ],
      "source": [
        "tuned_rf= RandomForestClassifier(max_depth=13, class_weight = 'balanced')\n",
        "tuned_rf.fit(X_train,y_train)\n",
        "\n",
        "rf_test_pred = tuned_rf.predict(X_test)\n",
        "rf_train_pred = tuned_rf.predict(X_train)\n",
        "\n",
        "print('Train Accuracy:', str(round(accuracy_score(y_train, rf_train_pred)*100,2))+ '%')\n",
        "print('Test Accuracy: ', str(round(accuracy_score(y_test, rf_test_pred)*100,2))+ '%')\n",
        "print(\"\\n\")\n",
        "print(classification_report(y_test,rf_test_pred))"
      ]
    },
    {
      "cell_type": "markdown",
      "metadata": {
        "id": "nKFh56Z-0SFm"
      },
      "source": [
        "###**GRADIENT BOOSTING CLASSIFIER**"
      ]
    },
    {
      "cell_type": "code",
      "execution_count": null,
      "metadata": {
        "colab": {
          "base_uri": "https://localhost:8080/"
        },
        "id": "EUaKkAFj0SFm",
        "outputId": "9fad4710-b619-46cf-aed7-9ab6247eb0b2"
      },
      "outputs": [
        {
          "name": "stdout",
          "output_type": "stream",
          "text": [
            "Train Accuracy: 97.51%\n",
            "Test Accuracy: 96.72%\n",
            "Classification Stats:\n",
            "              precision    recall  f1-score   support\n",
            "\n",
            "           1       0.99      0.97      0.98       517\n",
            "           2       0.96      0.98      0.97       830\n",
            "           3       0.96      0.97      0.96      1026\n",
            "           4       0.98      0.93      0.95       465\n",
            "\n",
            "    accuracy                           0.97      2838\n",
            "   macro avg       0.97      0.96      0.97      2838\n",
            "weighted avg       0.97      0.97      0.97      2838\n",
            "\n"
          ]
        }
      ],
      "source": [
        "#base gradient boosting model\n",
        "gbc = GradientBoostingClassifier(random_state=599)\n",
        "gbc.fit(X_train, y_train)\n",
        "gbc.fit(X_train,y_train)\n",
        "gbc_pred = gbc.predict(X_test)\n",
        "# print accuracy\n",
        "gbcX = gbc.predict(X_train)\n",
        "print('Train Accuracy:', str(round(accuracy_score(y_train, gbcX)*100,2)) +'%')\n",
        "print('Test Accuracy:', str(round(accuracy_score(y_test, gbc_pred)*100,2))+ '%')\n",
        "print('Classification Stats:')\n",
        "print(classification_report(y_test,gbc_pred))\n"
      ]
    },
    {
      "cell_type": "code",
      "execution_count": null,
      "metadata": {
        "colab": {
          "base_uri": "https://localhost:8080/",
          "height": 294
        },
        "id": "7U0egaQV0SFn",
        "outputId": "5cc01faa-4bd6-4fa9-da09-6fd85c8f1703"
      },
      "outputs": [
        {
          "data": {
            "image/png": "[encoded data removed]",
            "text/plain": [
              "<Figure size 432x288 with 1 Axes>"
            ]
          },
          "metadata": {
            "needs_background": "light"
          },
          "output_type": "display_data"
        }
      ],
      "source": [
        "# gbc.feature_importances_\n",
        "feature_importance = gbc.feature_importances_\n",
        "feature_importance = 100.0 * (feature_importance / feature_importance.max())\n",
        "\n",
        "sorted_idx = np.argsort(feature_importance)\n",
        "pos        = np.arange(sorted_idx.shape[0]) + .5\n",
        "\n",
        "plt.barh(pos, feature_importance[sorted_idx], align='center');\n",
        "plt.yticks(pos, df.columns[sorted_idx]);\n",
        "plt.xlabel('Relative Importance');\n",
        "plt.title('Variable Importance');"
      ]
    },
    {
      "cell_type": "markdown",
      "metadata": {
        "id": "Mx3KeXpB6P3b"
      },
      "source": [
        "###**GBC WITH ONLY THE TOP 6 IMPORTANT FEATURES**"
      ]
    },
    {
      "cell_type": "code",
      "execution_count": null,
      "metadata": {
        "id": "WKueB6DCOpUS"
      },
      "outputs": [],
      "source": [
        "small_train = X_train[['OverallScore','EnrolledPct','GradeLevel','TotalAssessments','TeacherEthnicity','TestInstance']].copy()\n",
        "small_test = X_test[['OverallScore','EnrolledPct','GradeLevel','TotalAssessments','TeacherEthnicity','TestInstance']].copy()"
      ]
    },
    {
      "cell_type": "code",
      "execution_count": null,
      "metadata": {
        "colab": {
          "base_uri": "https://localhost:8080/"
        },
        "id": "I-LStH-JPP3Y",
        "outputId": "31f7c114-e9ce-4e85-d22e-46696acb54a2"
      },
      "outputs": [
        {
          "name": "stdout",
          "output_type": "stream",
          "text": [
            "Train Accuracy: 97.25%\n",
            "Test Accuracy: 96.93%\n",
            "Classification Stats:\n",
            "              precision    recall  f1-score   support\n",
            "\n",
            "           1       0.99      0.98      0.98       517\n",
            "           2       0.97      0.97      0.97       830\n",
            "           3       0.96      0.98      0.97      1026\n",
            "           4       0.99      0.93      0.96       465\n",
            "\n",
            "    accuracy                           0.97      2838\n",
            "   macro avg       0.97      0.97      0.97      2838\n",
            "weighted avg       0.97      0.97      0.97      2838\n",
            "\n"
          ]
        }
      ],
      "source": [
        "#base gradient boosting model\n",
        "s_gbc = GradientBoostingClassifier(random_state=599)\n",
        "s_gbc.fit(small_train, y_train)\n",
        "s_gbc.fit(small_train,y_train)\n",
        "s_gbc_pred = s_gbc.predict(small_test)\n",
        "# print accuracy\n",
        "s_gbcX = s_gbc.predict(small_train)\n",
        "print('Train Accuracy:', str(round(accuracy_score(y_train, s_gbcX)*100,2)) +'%')\n",
        "print('Test Accuracy:', str(round(accuracy_score(y_test, s_gbc_pred)*100,2)) +'%')\n",
        "print('Classification Stats:')\n",
        "print(classification_report(y_test,s_gbc_pred))"
      ]
    },
    {
      "cell_type": "markdown",
      "metadata": {
        "id": "YcvUqvMx0SFn"
      },
      "source": [
        "###**HISTOGRADIENT BOOSTING CLASSIFIER (HGB)**"
      ]
    },
    {
      "cell_type": "code",
      "execution_count": null,
      "metadata": {
        "colab": {
          "base_uri": "https://localhost:8080/"
        },
        "id": "7f8dKoaF0SFo",
        "outputId": "57304ac7-5eb6-4d24-e651-13f7cdad9be3"
      },
      "outputs": [
        {
          "name": "stdout",
          "output_type": "stream",
          "text": [
            "Train Accuracy: 100.0%\n",
            "Test Accuracy: 97.46%\n",
            "Classification Stats:\n",
            "              precision    recall  f1-score   support\n",
            "\n",
            "           1       0.99      0.99      0.99       517\n",
            "           2       0.97      0.98      0.98       830\n",
            "           3       0.97      0.98      0.97      1026\n",
            "           4       0.98      0.95      0.96       465\n",
            "\n",
            "    accuracy                           0.97      2838\n",
            "   macro avg       0.98      0.97      0.97      2838\n",
            "weighted avg       0.97      0.97      0.97      2838\n",
            "\n"
          ]
        }
      ],
      "source": [
        "hgb = HistGradientBoostingClassifier(random_state=599)\n",
        "hgb.fit(X_train, y_train)\n",
        "hgb_pred = hgb.predict(X_test)\n",
        "# print accuracy\n",
        "hgbX = hgb.predict(X_train)\n",
        "print('Train Accuracy:', str(round(accuracy_score(y_train, hgbX)*100,2))+ '%')\n",
        "print('Test Accuracy:', str(round(accuracy_score(y_test, hgb_pred)*100,2))+ '%')\n",
        "print('Classification Stats:')\n",
        "print(classification_report(y_test,hgb_pred))\n"
      ]
    },
    {
      "cell_type": "markdown",
      "metadata": {
        "id": "cqvgNYmwbdsV"
      },
      "source": [
        "###**PERFORMANCE METRICS OF ALL TRAINED MODELS**"
      ]
    },
    {
      "cell_type": "code",
      "execution_count": null,
      "metadata": {
        "id": "T4jTAm10bhJU"
      },
      "outputs": [],
      "source": [
        "from sklearn.metrics import f1_score\n",
        "labels = [1,2,3,4]\n",
        "target_names = ['Level_1','Level_2','Level_3','Level_4']\n",
        "\n",
        "models = [lg_pred, lg_pred_scaled, lg_pred_pen, tuned_log_y_pred, knn_test_pred, dtc_test_pred, rf_test_pred, gbc_pred, s_gbc_pred, hgb_pred]\n",
        "scores_table = []\n",
        "accuracy = []\n",
        "\n",
        "for i in models: \n",
        "  accuracy_scores = accuracy_score(i, y_test)\n",
        "  f1_scores = f1_score(i, y_test, average = None)\n",
        "  f1_scores_with_labels = {label:score for label,score in zip(target_names, f1_scores)}\n",
        "  scores_table.append(f1_scores_with_labels)\n",
        "  accuracy.append(accuracy_scores*100)"
      ]
    },
    {
      "cell_type": "markdown",
      "metadata": {
        "id": "NNwbbxCE0qGN"
      },
      "source": [
        "###**ACCURACY**"
      ]
    },
    {
      "cell_type": "code",
      "execution_count": null,
      "metadata": {
        "colab": {
          "base_uri": "https://localhost:8080/",
          "height": 363
        },
        "id": "gtnLHI-OriTV",
        "outputId": "4aa35ebf-4492-41db-abb1-7026948423d8"
      },
      "outputs": [
        {
          "data": {
            "text/html": [
              "\n",
              "  <div id=\"df-63b681df-8bc2-4a58-ab08-af0fa4c25dda\">\n",
              "    <div class=\"colab-df-container\">\n",
              "      <div>\n",
              "<style scoped>\n",
              "    .dataframe tbody tr th:only-of-type {\n",
              "        vertical-align: middle;\n",
              "    }\n",
              "\n",
              "    .dataframe tbody tr th {\n",
              "        vertical-align: top;\n",
              "    }\n",
              "\n",
              "    .dataframe thead th {\n",
              "        text-align: right;\n",
              "    }\n",
              "</style>\n",
              "<table border=\"1\" class=\"dataframe\">\n",
              "  <thead>\n",
              "    <tr style=\"text-align: right;\">\n",
              "      <th></th>\n",
              "      <th>Models</th>\n",
              "      <th>Accuracy_score</th>\n",
              "    </tr>\n",
              "  </thead>\n",
              "  <tbody>\n",
              "    <tr>\n",
              "      <th>0</th>\n",
              "      <td>LG</td>\n",
              "      <td>58.10</td>\n",
              "    </tr>\n",
              "    <tr>\n",
              "      <th>1</th>\n",
              "      <td>LG_SCALED</td>\n",
              "      <td>84.57</td>\n",
              "    </tr>\n",
              "    <tr>\n",
              "      <th>2</th>\n",
              "      <td>PENALIZED_LG_SCALED</td>\n",
              "      <td>84.57</td>\n",
              "    </tr>\n",
              "    <tr>\n",
              "      <th>3</th>\n",
              "      <td>TUNED_LG</td>\n",
              "      <td>84.43</td>\n",
              "    </tr>\n",
              "    <tr>\n",
              "      <th>4</th>\n",
              "      <td>KNN</td>\n",
              "      <td>60.11</td>\n",
              "    </tr>\n",
              "    <tr>\n",
              "      <th>5</th>\n",
              "      <td>DECISION_TREE</td>\n",
              "      <td>82.70</td>\n",
              "    </tr>\n",
              "    <tr>\n",
              "      <th>6</th>\n",
              "      <td>RANDOM_FOREST</td>\n",
              "      <td>94.68</td>\n",
              "    </tr>\n",
              "    <tr>\n",
              "      <th>7</th>\n",
              "      <td>GBC</td>\n",
              "      <td>96.72</td>\n",
              "    </tr>\n",
              "    <tr>\n",
              "      <th>8</th>\n",
              "      <td>GBC_FEATURE_IMPORT</td>\n",
              "      <td>96.93</td>\n",
              "    </tr>\n",
              "    <tr>\n",
              "      <th>9</th>\n",
              "      <td>HGB</td>\n",
              "      <td>97.46</td>\n",
              "    </tr>\n",
              "  </tbody>\n",
              "</table>\n",
              "</div>\n",
              "      <button class=\"colab-df-convert\" onclick=\"convertToInteractive('df-63b681df-8bc2-4a58-ab08-af0fa4c25dda')\"\n",
              "              title=\"Convert this dataframe to an interactive table.\"\n",
              "              style=\"display:none;\">\n",
              "        \n",
              "  <svg xmlns=\"http://www.w3.org/2000/svg\" height=\"24px\"viewBox=\"0 0 24 24\"\n",
              "       width=\"24px\">\n",
              "    <path d=\"M0 0h24v24H0V0z\" fill=\"none\"/>\n",
              "    <path d=\"M18.56 5.44l.94 2.06.94-2.06 2.06-.94-2.06-.94-.94-2.06-.94 2.06-2.06.94zm-11 1L8.5 8.5l.94-2.06 2.06-.94-2.06-.94L8.5 2.5l-.94 2.06-2.06.94zm10 10l.94 2.06.94-2.06 2.06-.94-2.06-.94-.94-2.06-.94 2.06-2.06.94z\"/><path d=\"M17.41 7.96l-1.37-1.37c-.4-.4-.92-.59-1.43-.59-.52 0-1.04.2-1.43.59L10.3 9.45l-7.72 7.72c-.78.78-.78 2.05 0 2.83L4 21.41c.39.39.9.59 1.41.59.51 0 1.02-.2 1.41-.59l7.78-7.78 2.81-2.81c.8-.78.8-2.07 0-2.86zM5.41 20L4 18.59l7.72-7.72 1.47 1.35L5.41 20z\"/>\n",
              "  </svg>\n",
              "      </button>\n",
              "      \n",
              "  <style>\n",
              "    .colab-df-container {\n",
              "      display:flex;\n",
              "      flex-wrap:wrap;\n",
              "      gap: 12px;\n",
              "    }\n",
              "\n",
              "    .colab-df-convert {\n",
              "      background-color: #E8F0FE;\n",
              "      border: none;\n",
              "      border-radius: 50%;\n",
              "      cursor: pointer;\n",
              "      display: none;\n",
              "      fill: #1967D2;\n",
              "      height: 32px;\n",
              "      padding: 0 0 0 0;\n",
              "      width: 32px;\n",
              "    }\n",
              "\n",
              "    .colab-df-convert:hover {\n",
              "      background-color: #E2EBFA;\n",
              "      box-shadow: 0px 1px 2px rgba(60, 64, 67, 0.3), 0px 1px 3px 1px rgba(60, 64, 67, 0.15);\n",
              "      fill: #174EA6;\n",
              "    }\n",
              "\n",
              "    [theme=dark] .colab-df-convert {\n",
              "      background-color: #3B4455;\n",
              "      fill: #D2E3FC;\n",
              "    }\n",
              "\n",
              "    [theme=dark] .colab-df-convert:hover {\n",
              "      background-color: #434B5C;\n",
              "      box-shadow: 0px 1px 3px 1px rgba(0, 0, 0, 0.15);\n",
              "      filter: drop-shadow(0px 1px 2px rgba(0, 0, 0, 0.3));\n",
              "      fill: #FFFFFF;\n",
              "    }\n",
              "  </style>\n",
              "\n",
              "      <script>\n",
              "        const buttonEl =\n",
              "          document.querySelector('#df-63b681df-8bc2-4a58-ab08-af0fa4c25dda button.colab-df-convert');\n",
              "        buttonEl.style.display =\n",
              "          google.colab.kernel.accessAllowed ? 'block' : 'none';\n",
              "\n",
              "        async function convertToInteractive(key) {\n",
              "          const element = document.querySelector('#df-63b681df-8bc2-4a58-ab08-af0fa4c25dda');\n",
              "          const dataTable =\n",
              "            await google.colab.kernel.invokeFunction('convertToInteractive',\n",
              "                                                     [key], {});\n",
              "          if (!dataTable) return;\n",
              "\n",
              "          const docLinkHtml = 'Like what you see? Visit the ' +\n",
              "            '<a target=\"_blank\" href=https://colab.research.google.com/notebooks/data_table.ipynb>data table notebook</a>'\n",
              "            + ' to learn more about interactive tables.';\n",
              "          element.innerHTML = '';\n",
              "          dataTable['output_type'] = 'display_data';\n",
              "          await google.colab.output.renderOutput(dataTable, element);\n",
              "          const docLink = document.createElement('div');\n",
              "          docLink.innerHTML = docLinkHtml;\n",
              "          element.appendChild(docLink);\n",
              "        }\n",
              "      </script>\n",
              "    </div>\n",
              "  </div>\n",
              "  "
            ],
            "text/plain": [
              "                Models  Accuracy_score\n",
              "0                   LG           58.10\n",
              "1            LG_SCALED           84.57\n",
              "2  PENALIZED_LG_SCALED           84.57\n",
              "3             TUNED_LG           84.43\n",
              "4                  KNN           60.11\n",
              "5        DECISION_TREE           82.70\n",
              "6        RANDOM_FOREST           94.68\n",
              "7                  GBC           96.72\n",
              "8   GBC_FEATURE_IMPORT           96.93\n",
              "9                  HGB           97.46"
            ]
          },
          "execution_count": 131,
          "metadata": {},
          "output_type": "execute_result"
        }
      ],
      "source": [
        "# merge accuracy and f1_scores dataframe\n",
        "accuracy = pd.DataFrame(accuracy, columns = ['Accuracy_score'])\n",
        "accuracy_table = accuracy.round(decimals = 2)\n",
        "\n",
        "accuracy_table.insert(0, 'Models', ['LG','LG_SCALED','PENALIZED_LG_SCALED','TUNED_LG','KNN','DECISION_TREE','RANDOM_FOREST','GBC',\n",
        "                              'GBC_FEATURE_IMPORT','HGB'])\n",
        "accuracy_table"
      ]
    },
    {
      "cell_type": "code",
      "execution_count": null,
      "metadata": {
        "colab": {
          "base_uri": "https://localhost:8080/",
          "height": 556
        },
        "id": "tF8ToSBcuVVO",
        "outputId": "63640456-0b5d-4468-9add-5cf73f55e226"
      },
      "outputs": [
        {
          "data": {
            "image/png": "[encoded data removed]",
            "text/plain": [
              "<Figure size 720x504 with 1 Axes>"
            ]
          },
          "metadata": {
            "needs_background": "light"
          },
          "output_type": "display_data"
        }
      ],
      "source": [
        "#Bargraph for Comparison of Accuracy for Each Model\n",
        "\n",
        "accuracy_table.plot(x=\"Models\", y= ['Accuracy_score'], kind = 'bar',figsize = (10,7), colormap = 'Pastel1')\n",
        "plt.title('ACCURACY SCORES OF TARGET CLASSES PER MODEL', size = 16)\n",
        "plt.show()"
      ]
    },
    {
      "cell_type": "markdown",
      "metadata": {
        "id": "5F0uVN78m_tm"
      },
      "source": [
        "###**F1 SCORES**\n",
        "\n"
      ]
    },
    {
      "cell_type": "code",
      "execution_count": null,
      "metadata": {
        "colab": {
          "base_uri": "https://localhost:8080/",
          "height": 363
        },
        "id": "44XTbHonnCnD",
        "outputId": "cc6d537d-5935-402a-b3f2-de8e870c0e38"
      },
      "outputs": [
        {
          "data": {
            "text/html": [
              "\n",
              "  <div id=\"df-69f23c0a-0adf-44c5-bac5-99792e40ff93\">\n",
              "    <div class=\"colab-df-container\">\n",
              "      <div>\n",
              "<style scoped>\n",
              "    .dataframe tbody tr th:only-of-type {\n",
              "        vertical-align: middle;\n",
              "    }\n",
              "\n",
              "    .dataframe tbody tr th {\n",
              "        vertical-align: top;\n",
              "    }\n",
              "\n",
              "    .dataframe thead th {\n",
              "        text-align: right;\n",
              "    }\n",
              "</style>\n",
              "<table border=\"1\" class=\"dataframe\">\n",
              "  <thead>\n",
              "    <tr style=\"text-align: right;\">\n",
              "      <th></th>\n",
              "      <th>Models</th>\n",
              "      <th>Level_1</th>\n",
              "      <th>Level_2</th>\n",
              "      <th>Level_3</th>\n",
              "      <th>Level_4</th>\n",
              "    </tr>\n",
              "  </thead>\n",
              "  <tbody>\n",
              "    <tr>\n",
              "      <th>0</th>\n",
              "      <td>LG</td>\n",
              "      <td>0.66</td>\n",
              "      <td>0.50</td>\n",
              "      <td>0.65</td>\n",
              "      <td>0.38</td>\n",
              "    </tr>\n",
              "    <tr>\n",
              "      <th>1</th>\n",
              "      <td>LG_SCALED</td>\n",
              "      <td>0.90</td>\n",
              "      <td>0.84</td>\n",
              "      <td>0.84</td>\n",
              "      <td>0.82</td>\n",
              "    </tr>\n",
              "    <tr>\n",
              "      <th>2</th>\n",
              "      <td>PENALIZED_LG_SCALED</td>\n",
              "      <td>0.90</td>\n",
              "      <td>0.84</td>\n",
              "      <td>0.84</td>\n",
              "      <td>0.82</td>\n",
              "    </tr>\n",
              "    <tr>\n",
              "      <th>3</th>\n",
              "      <td>TUNED_LG</td>\n",
              "      <td>0.90</td>\n",
              "      <td>0.84</td>\n",
              "      <td>0.84</td>\n",
              "      <td>0.81</td>\n",
              "    </tr>\n",
              "    <tr>\n",
              "      <th>4</th>\n",
              "      <td>KNN</td>\n",
              "      <td>0.63</td>\n",
              "      <td>0.53</td>\n",
              "      <td>0.64</td>\n",
              "      <td>0.62</td>\n",
              "    </tr>\n",
              "    <tr>\n",
              "      <th>5</th>\n",
              "      <td>DECISION_TREE</td>\n",
              "      <td>0.90</td>\n",
              "      <td>0.74</td>\n",
              "      <td>0.83</td>\n",
              "      <td>0.85</td>\n",
              "    </tr>\n",
              "    <tr>\n",
              "      <th>6</th>\n",
              "      <td>RANDOM_FOREST</td>\n",
              "      <td>0.97</td>\n",
              "      <td>0.94</td>\n",
              "      <td>0.94</td>\n",
              "      <td>0.95</td>\n",
              "    </tr>\n",
              "    <tr>\n",
              "      <th>7</th>\n",
              "      <td>GBC</td>\n",
              "      <td>0.98</td>\n",
              "      <td>0.97</td>\n",
              "      <td>0.96</td>\n",
              "      <td>0.95</td>\n",
              "    </tr>\n",
              "    <tr>\n",
              "      <th>8</th>\n",
              "      <td>GBC_FEATURE_IMPORT</td>\n",
              "      <td>0.98</td>\n",
              "      <td>0.97</td>\n",
              "      <td>0.97</td>\n",
              "      <td>0.96</td>\n",
              "    </tr>\n",
              "    <tr>\n",
              "      <th>9</th>\n",
              "      <td>HGB</td>\n",
              "      <td>0.99</td>\n",
              "      <td>0.98</td>\n",
              "      <td>0.97</td>\n",
              "      <td>0.96</td>\n",
              "    </tr>\n",
              "  </tbody>\n",
              "</table>\n",
              "</div>\n",
              "      <button class=\"colab-df-convert\" onclick=\"convertToInteractive('df-69f23c0a-0adf-44c5-bac5-99792e40ff93')\"\n",
              "              title=\"Convert this dataframe to an interactive table.\"\n",
              "              style=\"display:none;\">\n",
              "        \n",
              "  <svg xmlns=\"http://www.w3.org/2000/svg\" height=\"24px\"viewBox=\"0 0 24 24\"\n",
              "       width=\"24px\">\n",
              "    <path d=\"M0 0h24v24H0V0z\" fill=\"none\"/>\n",
              "    <path d=\"M18.56 5.44l.94 2.06.94-2.06 2.06-.94-2.06-.94-.94-2.06-.94 2.06-2.06.94zm-11 1L8.5 8.5l.94-2.06 2.06-.94-2.06-.94L8.5 2.5l-.94 2.06-2.06.94zm10 10l.94 2.06.94-2.06 2.06-.94-2.06-.94-.94-2.06-.94 2.06-2.06.94z\"/><path d=\"M17.41 7.96l-1.37-1.37c-.4-.4-.92-.59-1.43-.59-.52 0-1.04.2-1.43.59L10.3 9.45l-7.72 7.72c-.78.78-.78 2.05 0 2.83L4 21.41c.39.39.9.59 1.41.59.51 0 1.02-.2 1.41-.59l7.78-7.78 2.81-2.81c.8-.78.8-2.07 0-2.86zM5.41 20L4 18.59l7.72-7.72 1.47 1.35L5.41 20z\"/>\n",
              "  </svg>\n",
              "      </button>\n",
              "      \n",
              "  <style>\n",
              "    .colab-df-container {\n",
              "      display:flex;\n",
              "      flex-wrap:wrap;\n",
              "      gap: 12px;\n",
              "    }\n",
              "\n",
              "    .colab-df-convert {\n",
              "      background-color: #E8F0FE;\n",
              "      border: none;\n",
              "      border-radius: 50%;\n",
              "      cursor: pointer;\n",
              "      display: none;\n",
              "      fill: #1967D2;\n",
              "      height: 32px;\n",
              "      padding: 0 0 0 0;\n",
              "      width: 32px;\n",
              "    }\n",
              "\n",
              "    .colab-df-convert:hover {\n",
              "      background-color: #E2EBFA;\n",
              "      box-shadow: 0px 1px 2px rgba(60, 64, 67, 0.3), 0px 1px 3px 1px rgba(60, 64, 67, 0.15);\n",
              "      fill: #174EA6;\n",
              "    }\n",
              "\n",
              "    [theme=dark] .colab-df-convert {\n",
              "      background-color: #3B4455;\n",
              "      fill: #D2E3FC;\n",
              "    }\n",
              "\n",
              "    [theme=dark] .colab-df-convert:hover {\n",
              "      background-color: #434B5C;\n",
              "      box-shadow: 0px 1px 3px 1px rgba(0, 0, 0, 0.15);\n",
              "      filter: drop-shadow(0px 1px 2px rgba(0, 0, 0, 0.3));\n",
              "      fill: #FFFFFF;\n",
              "    }\n",
              "  </style>\n",
              "\n",
              "      <script>\n",
              "        const buttonEl =\n",
              "          document.querySelector('#df-69f23c0a-0adf-44c5-bac5-99792e40ff93 button.colab-df-convert');\n",
              "        buttonEl.style.display =\n",
              "          google.colab.kernel.accessAllowed ? 'block' : 'none';\n",
              "\n",
              "        async function convertToInteractive(key) {\n",
              "          const element = document.querySelector('#df-69f23c0a-0adf-44c5-bac5-99792e40ff93');\n",
              "          const dataTable =\n",
              "            await google.colab.kernel.invokeFunction('convertToInteractive',\n",
              "                                                     [key], {});\n",
              "          if (!dataTable) return;\n",
              "\n",
              "          const docLinkHtml = 'Like what you see? Visit the ' +\n",
              "            '<a target=\"_blank\" href=https://colab.research.google.com/notebooks/data_table.ipynb>data table notebook</a>'\n",
              "            + ' to learn more about interactive tables.';\n",
              "          element.innerHTML = '';\n",
              "          dataTable['output_type'] = 'display_data';\n",
              "          await google.colab.output.renderOutput(dataTable, element);\n",
              "          const docLink = document.createElement('div');\n",
              "          docLink.innerHTML = docLinkHtml;\n",
              "          element.appendChild(docLink);\n",
              "        }\n",
              "      </script>\n",
              "    </div>\n",
              "  </div>\n",
              "  "
            ],
            "text/plain": [
              "                Models  Level_1  Level_2  Level_3  Level_4\n",
              "0                   LG     0.66     0.50     0.65     0.38\n",
              "1            LG_SCALED     0.90     0.84     0.84     0.82\n",
              "2  PENALIZED_LG_SCALED     0.90     0.84     0.84     0.82\n",
              "3             TUNED_LG     0.90     0.84     0.84     0.81\n",
              "4                  KNN     0.63     0.53     0.64     0.62\n",
              "5        DECISION_TREE     0.90     0.74     0.83     0.85\n",
              "6        RANDOM_FOREST     0.97     0.94     0.94     0.95\n",
              "7                  GBC     0.98     0.97     0.96     0.95\n",
              "8   GBC_FEATURE_IMPORT     0.98     0.97     0.97     0.96\n",
              "9                  HGB     0.99     0.98     0.97     0.96"
            ]
          },
          "execution_count": 113,
          "metadata": {},
          "output_type": "execute_result"
        }
      ],
      "source": [
        "f1_scores = pd.DataFrame(scores_table)\n",
        "f1_table = f1_scores.round(decimals = 2)\n",
        "\n",
        "#insert models names\n",
        "f1_table.insert(0, 'Models', ['LG','LG_SCALED','PENALIZED_LG_SCALED','TUNED_LG','KNN','DECISION_TREE','RANDOM_FOREST','GBC',\n",
        "                              'GBC_FEATURE_IMPORT','HGB'])\n",
        "pd.DataFrame(f1_table)\n",
        "f1_table"
      ]
    },
    {
      "cell_type": "code",
      "execution_count": null,
      "metadata": {
        "colab": {
          "base_uri": "https://localhost:8080/",
          "height": 556
        },
        "id": "vY5pnPOpm9EI",
        "outputId": "108addd1-dab7-4d82-bea4-e1a95b559794"
      },
      "outputs": [
        {
          "data": {
            "image/png": "[encoded data removed]",
            "text/plain": [
              "<Figure size 720x504 with 1 Axes>"
            ]
          },
          "metadata": {
            "needs_background": "light"
          },
          "output_type": "display_data"
        }
      ],
      "source": [
        "#Bargraph for Comparison of Metrics for Each Model\n",
        "\n",
        "f1_table.plot(x='Models', y= ['Level_1','Level_2','Level_3','Level_4'], kind = 'bar',\n",
        "               figsize = (10,7), colormap = 'rainbow', alpha = 0.8)\n",
        "plt.title('F1 SCORES OF TARGET CLASSES PER MODEL', size = 16)\n",
        "plt.show()"
      ]
    }
  ],
  "metadata": {
    "colab": {
      "provenance": []
    },
    "kernelspec": {
      "display_name": "Python 3.7.3 64-bit",
      "language": "python",
      "name": "python3"
    },
    "language_info": {
      "codemirror_mode": {
        "name": "ipython",
        "version": 3
      },
      "file_extension": ".py",
      "mimetype": "text/x-python",
      "name": "python",
      "nbconvert_exporter": "python",
      "pygments_lexer": "ipython3",
      "version": "3.7.3"
    },
    "orig_nbformat": 4,
    "vscode": {
      "interpreter": {
        "hash": "31f2aee4e71d21fbe5cf8b01ff0e069b9275f58929596ceb00d14d90e3e16cd6"
      }
    }
  },
  "nbformat": 4,
  "nbformat_minor": 0
}
