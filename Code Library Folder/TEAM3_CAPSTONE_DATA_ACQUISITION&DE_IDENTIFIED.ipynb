{
  "cells": [
    {
      "cell_type": "markdown",
      "source": [
        "###**Prediction of English Language Proficiency Assessments for California (ELPAC) Scores Using Machine Learning Approach**\n",
        "###**DATA ACQUISTION**\n",
        "\n",
        "###**TEAM MEMBERS: TEAM 3: EMMA OO, LUKE AWINO, OSCAR GIL**\n",
        "###**Applied Data Science Master’s Program, Shiley Marcos School of Engineering / University of San Diego**\n",
        "###**DATE: 11/12/2022**"
      ],
      "metadata": {
        "id": "JaslkikXyeOd"
      }
    },
    {
      "cell_type": "code",
      "execution_count": null,
      "metadata": {
        "id": "fnBVBxDNydfd"
      },
      "outputs": [],
      "source": [
        "import pandas as pd\n",
        "pd.set_option('display.max_rows', 500)\n",
        "pd.set_option('display.max_columns', 500)\n",
        "pd.set_option('display.width', 1000)\n",
        "\n",
        "import numpy as np\n",
        "import datetime\n",
        "import sqlite3"
      ]
    },
    {
      "cell_type": "code",
      "execution_count": null,
      "metadata": {
        "id": "XKXoKd-kydfg"
      },
      "outputs": [],
      "source": [
        "ELPAC_file_path = '/Users/oscargil/Desktop/ADS-599B/Raw_Files/ELPAC.xlsx'"
      ]
    },
    {
      "cell_type": "markdown",
      "metadata": {
        "id": "LqAev5Vbydfg"
      },
      "source": [
        "#### Import files from Excel file containing ELPAC results"
      ]
    },
    {
      "cell_type": "code",
      "execution_count": null,
      "metadata": {
        "id": "YpKWJkI6ydfh"
      },
      "outputs": [],
      "source": [
        "# Import ELPAC data into dataframes\n",
        "elpac1718 = pd.read_excel(open(ELPAC_file_path, 'rb'), sheet_name='2017-2018', dtype=str)\n",
        "\n",
        "\n",
        "# Drop identified columns\n",
        "elpac1718.drop(elpac1718.columns[[0, 1, 5, 7, 8, 9, 10]], axis=1, inplace=True)"
      ]
    },
    {
      "cell_type": "code",
      "execution_count": null,
      "metadata": {
        "id": "3YWlVvoUydfh"
      },
      "outputs": [],
      "source": [
        "# Import ELPAC data into dataframes\n",
        "elpac1819 = pd.read_excel(open(ELPAC_file_path, 'rb'), sheet_name='2018-2019', dtype=str)\n",
        "\n",
        "\n",
        "# Drop identified columns\n",
        "elpac1819.drop(elpac1819.columns[[0, 1, 5, 7, 8, 9, 10]], axis=1, inplace=True)"
      ]
    },
    {
      "cell_type": "code",
      "execution_count": null,
      "metadata": {
        "id": "jFer1n7Zydfi"
      },
      "outputs": [],
      "source": [
        "# Import ELPAC data into dataframes\n",
        "elpac1920 = pd.read_excel(open(ELPAC_file_path, 'rb'), sheet_name='2019-2020', dtype=str)\n",
        "\n",
        "\n",
        "# Drop identified columns\n",
        "elpac1920.drop(elpac1920.columns[[0, 1, 5, 7, 8, 9, 10]], axis=1, inplace=True)"
      ]
    },
    {
      "cell_type": "code",
      "execution_count": null,
      "metadata": {
        "id": "jbd9KBkZydfi"
      },
      "outputs": [],
      "source": [
        "# Import ELPAC data into dataframes\n",
        "elpac2021 = pd.read_excel(open(ELPAC_file_path, 'rb'), sheet_name='2020-2021', dtype=str)\n",
        "\n",
        "\n",
        "# Drop identified columns\n",
        "elpac2021.drop(elpac2021.columns[[0, 1, 6, 8, 9, 10, 11]], axis=1, inplace=True)"
      ]
    },
    {
      "cell_type": "code",
      "execution_count": null,
      "metadata": {
        "id": "dY5iEOZLydfi"
      },
      "outputs": [],
      "source": [
        "# Import ELPAC data into dataframes\n",
        "elpac2122 = pd.read_excel(open(ELPAC_file_path, 'rb'), sheet_name='2021-2022', dtype=str)\n",
        "\n",
        "# Remove 44 results associated to the Alternative ELPAC\n",
        "elpac2122 = elpac2122.query(\"RecordType == '21'\")\n",
        "\n",
        "\n",
        "# Drop identified columns\n",
        "elpac2122.drop(elpac2122.columns[[1, 5, 7, 8, 9, 17, 19, 21, 54, 55, 56, 57, 58, 61, 62, 63, 64, 70, 71, 72, 73, 79, 80, 81, 82, 88, 89, 90, 91, 97, 98, 99, 100]], axis=1, inplace=True)"
      ]
    },
    {
      "cell_type": "markdown",
      "metadata": {
        "id": "4t_XKP_Jydfj"
      },
      "source": [
        "#### Create a unique list of all SSIDs and assign them the Pandas Dataframe index number as their de-identified number"
      ]
    },
    {
      "cell_type": "code",
      "execution_count": null,
      "metadata": {
        "id": "SLOJwpaZydfj"
      },
      "outputs": [],
      "source": [
        "# Create data frame of SSIDs to de-identify\n",
        "ssids = pd.DataFrame(pd.concat([elpac1718.elpac_2018_ssid, elpac1819.elpac_2019_ssid, elpac1920.elpac_2020_ssid, elpac2021.elpac_2021_ssid, elpac2122.SSID], axis=0))\n",
        "\n",
        "# Unique SSID values\n",
        "ssid_deidentify = pd.DataFrame(ssids[0].unique())\n",
        "\n",
        "ssid_deidentify.columns = ['SSID']\n",
        "\n",
        "# Assign Data frame index as de-identified ID\n",
        "ssid_deidentify['Stu_deID'] =  ssid_deidentify.index"
      ]
    },
    {
      "cell_type": "code",
      "execution_count": null,
      "metadata": {
        "id": "yValhsV7ydfk"
      },
      "outputs": [],
      "source": [
        "# Create local file to have as reference to Stu_deID\n",
        "ssid_deidentify.to_csv('/Users/oscargil/Desktop/ADS-599B/Raw_Files/ssid_deidentify.csv', encoding='utf-8', index=False)"
      ]
    },
    {
      "cell_type": "markdown",
      "metadata": {
        "id": "hjtok7alydfk"
      },
      "source": [
        "#### Merge de-identified ID into ELPAC dataframes, then dropped the SSID field containing the real values"
      ]
    },
    {
      "cell_type": "code",
      "execution_count": null,
      "metadata": {
        "id": "GhOxLntlydfk"
      },
      "outputs": [],
      "source": [
        "# Merge in de-identier\n",
        "elpac1718 = elpac1718.merge(ssid_deidentify, how=\"inner\", left_on='elpac_2018_ssid', right_on='SSID')\n",
        "\n",
        "# Drop SSID columns\n",
        "elpac1718.drop(elpac1718.columns[[3, 57]], axis=1, inplace=True)"
      ]
    },
    {
      "cell_type": "code",
      "execution_count": null,
      "metadata": {
        "id": "TuVJ7nz0ydfk"
      },
      "outputs": [],
      "source": [
        "# Merge in de-identier\n",
        "elpac1819 = elpac1819.merge(ssid_deidentify, how=\"inner\", left_on='elpac_2019_ssid', right_on='SSID')\n",
        "\n",
        "# Drop SSID columns\n",
        "elpac1819.drop(elpac1819.columns[[3, 54]], axis=1, inplace=True)"
      ]
    },
    {
      "cell_type": "code",
      "execution_count": null,
      "metadata": {
        "id": "FKBvIOPtydfl"
      },
      "outputs": [],
      "source": [
        "# Merge in de-identier\n",
        "elpac1920 = elpac1920.merge(ssid_deidentify, how=\"inner\", left_on='elpac_2020_ssid', right_on='SSID')\n",
        "\n",
        "# Drop SSID columns\n",
        "elpac1920.drop(elpac1920.columns[[3, 79]], axis=1, inplace=True)"
      ]
    },
    {
      "cell_type": "code",
      "execution_count": null,
      "metadata": {
        "id": "8r5Y-7aiydfl"
      },
      "outputs": [],
      "source": [
        "# Merge in de-identier\n",
        "elpac2021 = elpac2021.merge(ssid_deidentify, how=\"inner\", left_on='elpac_2021_ssid', right_on='SSID')\n",
        "\n",
        "# Drop SSID columns\n",
        "elpac2021.drop(elpac2021.columns[[4, 120]], axis=1, inplace=True)"
      ]
    },
    {
      "cell_type": "code",
      "execution_count": null,
      "metadata": {
        "id": "jN9xM7qcydfl"
      },
      "outputs": [],
      "source": [
        "# Merge in de-identier\n",
        "elpac2122 = elpac2122.merge(ssid_deidentify, how=\"inner\", left_on='SSID', right_on='SSID')\n",
        "\n",
        "# Drop SSID columns\n",
        "elpac2122.drop(elpac2122.columns[[3]], axis=1, inplace=True)"
      ]
    },
    {
      "cell_type": "markdown",
      "metadata": {
        "id": "JrqyrUqRydfl"
      },
      "source": [
        "### Add AcademicYear column to each ELPAC file, to join into attendance files"
      ]
    },
    {
      "cell_type": "code",
      "execution_count": null,
      "metadata": {
        "id": "DhXGrYNZydfl"
      },
      "outputs": [],
      "source": [
        "# Add AcademicYear column\n",
        "elpac1718['AcademicYear'] = '2017-2018'\n",
        "elpac1819['AcademicYear'] = '2018-2019'\n",
        "elpac1920['AcademicYear'] = '2019-2020'\n",
        "elpac2021['AcademicYear'] = '2020-2021'\n",
        "elpac2122['AcademicYear'] = '2021-2022'"
      ]
    },
    {
      "cell_type": "markdown",
      "metadata": {
        "id": "ZxX38DV7ydfm"
      },
      "source": [
        "### Identify features to keep from ELPAC files"
      ]
    },
    {
      "cell_type": "code",
      "execution_count": null,
      "metadata": {
        "id": "J-g827pzydfm"
      },
      "outputs": [],
      "source": [
        "# Subset ELPAC files\n",
        "elpac1718 = elpac1718.iloc[:,[56, 57, 3, 4, 7, 10, 11]]\n",
        "elpac1819 = elpac1819.iloc[:,[53, 54, 3, 4, 7, 10, 11]]\n",
        "elpac1920 = elpac1920.iloc[:,[78, 79, 3, 6, 7, 8, 9]]\n",
        "elpac2021 = elpac2021.iloc[:,[119, 120, 4, 5, 8, 9, 10]]\n",
        "elpac2122 = elpac2122[['Stu_deID', 'AcademicYear','DateofBirth', 'CALPADSGrade', 'FinalTestCompletedDate', 'OverallScaleScore', 'OverallPL']]\n",
        "\n",
        "# Rename columns\n",
        "elpac_columns = ['Stu_deID', 'AcademicYear', 'DOB', 'GradeLevel', 'TestDate', 'OverallScore', 'OverallLevel']\n",
        "\n",
        "elpac1718.columns = elpac_columns\n",
        "elpac1819.columns = elpac_columns\n",
        "elpac1920.columns = elpac_columns\n",
        "elpac2021.columns = elpac_columns\n",
        "elpac2122.columns = elpac_columns"
      ]
    },
    {
      "cell_type": "code",
      "execution_count": null,
      "metadata": {
        "id": "ltdbTsDfydfm"
      },
      "outputs": [],
      "source": [
        "# Data conversions - DOB to datetime\n",
        "elpac1718['DOB'] = pd.to_datetime(elpac1718['DOB'])\n",
        "elpac1819['DOB'] = pd.to_datetime(elpac1819['DOB'])\n",
        "elpac1920['DOB'] = pd.to_datetime(elpac1920['DOB'])\n",
        "elpac2021['DOB'] = pd.to_datetime(elpac2021['DOB'])\n",
        "elpac2122['DOB'] = pd.to_datetime(elpac2122['DOB'])"
      ]
    },
    {
      "cell_type": "code",
      "execution_count": null,
      "metadata": {
        "id": "3-qfLS-Xydfm"
      },
      "outputs": [],
      "source": [
        "# Data conversions - TestDate to datetime\n",
        "elpac1718['TestDate'] = pd.to_datetime(elpac1718['TestDate'])\n",
        "elpac1819['TestDate'] = pd.to_datetime(elpac1819['TestDate'])\n",
        "elpac1920['TestDate'] = pd.to_datetime(elpac1920['TestDate'])\n",
        "elpac2021['TestDate'] = pd.to_datetime(elpac2021['TestDate'])\n",
        "elpac2122['TestDate'] = pd.to_datetime(elpac2122['TestDate'])"
      ]
    },
    {
      "cell_type": "code",
      "execution_count": null,
      "metadata": {
        "id": "n3GrUqUiydfm"
      },
      "outputs": [],
      "source": [
        "# Data conversions - GradeLevel clean up, eliminate extra zero, convert KN to 0\n",
        "elpac1718['GradeLevel'] = elpac1718.GradeLevel.replace('KN', '0').astype(int)\n",
        "elpac1819['GradeLevel'] = elpac1819.GradeLevel.replace('KN', '0').astype(int)\n",
        "elpac1920['GradeLevel'] = elpac1920.GradeLevel.replace('KN', '0').astype(int)\n",
        "elpac2021['GradeLevel'] = elpac2021.GradeLevel.replace('KN', '0').astype(int)\n",
        "elpac2122['GradeLevel'] = elpac2122.GradeLevel.replace('KN', '0').astype(int)"
      ]
    },
    {
      "cell_type": "code",
      "execution_count": null,
      "metadata": {
        "id": "iZsFzEhCydfn"
      },
      "outputs": [],
      "source": [
        "elpac1718['OverallScore'] = elpac1718.OverallScore.replace('NS',0).fillna(0).astype(int)\n",
        "elpac1819['OverallScore'] = elpac1819.OverallScore.replace('NS',0).fillna(0).astype(int)\n",
        "elpac1920['OverallScore'] = elpac1920.OverallScore.replace('NS',0).fillna(0).astype(int)\n",
        "elpac2021['OverallScore'] = elpac2021.OverallScore.replace('NS',0).fillna(0).astype(int)\n",
        "elpac2122['OverallScore'] = elpac2122.OverallScore.replace('NS',0).fillna(0).astype(int)\n",
        "\n",
        "elpac1718['OverallLevel'] = elpac1718.OverallLevel.replace('NS',0).fillna(0).astype(int)\n",
        "elpac1819['OverallLevel'] = elpac1819.OverallLevel.replace('NS',0).fillna(0).astype(int)\n",
        "elpac1920['OverallLevel'] = elpac1920.OverallLevel.replace('NS',0).fillna(0).astype(int)\n",
        "elpac2021['OverallLevel'] = elpac2021.OverallLevel.replace('NS',0).fillna(0).astype(int)\n",
        "elpac2122['OverallLevel'] = elpac2122.OverallLevel.replace('NS',0).fillna(0).astype(int)"
      ]
    },
    {
      "cell_type": "code",
      "execution_count": null,
      "metadata": {
        "id": "auf9O07kydfn"
      },
      "outputs": [],
      "source": [
        "# Update Elpac file containing all years\n",
        "elpac = pd.concat([elpac1718, elpac1819, elpac1920, elpac2021, elpac2122], axis=0)"
      ]
    },
    {
      "cell_type": "markdown",
      "metadata": {
        "id": "Gw0S6_Gaydfn"
      },
      "source": [
        "#### Feature Engineering Ideas\n",
        "\n",
        "* Day of the week\n",
        "* Grade Level + percentage of days enrolled (so for example, 4th grade would not be represented by a '4', instead, by '4.80' - a 4th grader who attended 80% of the time)\n",
        "* Number of Levels a student progressed from previous ELPAC (17-18 a student who scores a Level 1, then in 18-19 scoed a Level 3; the student progressed 2 levels)\n",
        "* Age of Student at time of test\n",
        "* Teacher information (years teaching)\n",
        "* Total in Household\n",
        "* Household income\n",
        "* Homeless"
      ]
    },
    {
      "cell_type": "code",
      "execution_count": null,
      "metadata": {
        "id": "BuIMjmUQydfn"
      },
      "outputs": [],
      "source": [
        "# Feature Engineering\n",
        "\n",
        "# TestDayName\n",
        "elpac['TestDayName'] = elpac.TestDate.dt.day_name()"
      ]
    },
    {
      "cell_type": "code",
      "execution_count": null,
      "metadata": {
        "id": "Nj9YTrMZydfn"
      },
      "outputs": [],
      "source": [
        "# Age at time of test\n",
        "elpac['TestAge'] = (elpac.TestDate - elpac.DOB) / np.timedelta64(1, 'Y')"
      ]
    },
    {
      "cell_type": "code",
      "execution_count": null,
      "metadata": {
        "id": "Gf4X_GbIydfn",
        "outputId": "95f08d56-559a-4f3a-dfe5-d9763bb536cd"
      },
      "outputs": [
        {
          "data": {
            "text/html": [
              "<div>\n",
              "<style scoped>\n",
              "    .dataframe tbody tr th:only-of-type {\n",
              "        vertical-align: middle;\n",
              "    }\n",
              "\n",
              "    .dataframe tbody tr th {\n",
              "        vertical-align: top;\n",
              "    }\n",
              "\n",
              "    .dataframe thead th {\n",
              "        text-align: right;\n",
              "    }\n",
              "</style>\n",
              "<table border=\"1\" class=\"dataframe\">\n",
              "  <thead>\n",
              "    <tr style=\"text-align: right;\">\n",
              "      <th></th>\n",
              "      <th>Stu_deID</th>\n",
              "      <th>AcademicYear</th>\n",
              "      <th>DOB</th>\n",
              "      <th>GradeLevel</th>\n",
              "      <th>TestDate</th>\n",
              "      <th>OverallScore</th>\n",
              "      <th>OverallLevel</th>\n",
              "      <th>TestDayName</th>\n",
              "      <th>TestAge</th>\n",
              "    </tr>\n",
              "  </thead>\n",
              "  <tbody>\n",
              "    <tr>\n",
              "      <th>0</th>\n",
              "      <td>0</td>\n",
              "      <td>2017-2018</td>\n",
              "      <td>2011-07-04</td>\n",
              "      <td>1</td>\n",
              "      <td>2018-05-02</td>\n",
              "      <td>1503</td>\n",
              "      <td>4</td>\n",
              "      <td>Wednesday</td>\n",
              "      <td>6.828340</td>\n",
              "    </tr>\n",
              "    <tr>\n",
              "      <th>1</th>\n",
              "      <td>1</td>\n",
              "      <td>2017-2018</td>\n",
              "      <td>2008-07-28</td>\n",
              "      <td>4</td>\n",
              "      <td>2018-03-16</td>\n",
              "      <td>1535</td>\n",
              "      <td>3</td>\n",
              "      <td>Friday</td>\n",
              "      <td>9.631957</td>\n",
              "    </tr>\n",
              "    <tr>\n",
              "      <th>2</th>\n",
              "      <td>2</td>\n",
              "      <td>2017-2018</td>\n",
              "      <td>2011-08-13</td>\n",
              "      <td>1</td>\n",
              "      <td>2018-02-12</td>\n",
              "      <td>1449</td>\n",
              "      <td>3</td>\n",
              "      <td>Monday</td>\n",
              "      <td>6.502529</td>\n",
              "    </tr>\n",
              "    <tr>\n",
              "      <th>3</th>\n",
              "      <td>3</td>\n",
              "      <td>2017-2018</td>\n",
              "      <td>2008-05-06</td>\n",
              "      <td>4</td>\n",
              "      <td>2018-04-02</td>\n",
              "      <td>1480</td>\n",
              "      <td>2</td>\n",
              "      <td>Monday</td>\n",
              "      <td>9.905748</td>\n",
              "    </tr>\n",
              "    <tr>\n",
              "      <th>4</th>\n",
              "      <td>4</td>\n",
              "      <td>2017-2018</td>\n",
              "      <td>2012-04-13</td>\n",
              "      <td>0</td>\n",
              "      <td>2018-05-23</td>\n",
              "      <td>1461</td>\n",
              "      <td>4</td>\n",
              "      <td>Wednesday</td>\n",
              "      <td>6.108271</td>\n",
              "    </tr>\n",
              "    <tr>\n",
              "      <th>...</th>\n",
              "      <td>...</td>\n",
              "      <td>...</td>\n",
              "      <td>...</td>\n",
              "      <td>...</td>\n",
              "      <td>...</td>\n",
              "      <td>...</td>\n",
              "      <td>...</td>\n",
              "      <td>...</td>\n",
              "      <td>...</td>\n",
              "    </tr>\n",
              "    <tr>\n",
              "      <th>2081</th>\n",
              "      <td>4785</td>\n",
              "      <td>2021-2022</td>\n",
              "      <td>2016-10-24</td>\n",
              "      <td>0</td>\n",
              "      <td>2022-05-26</td>\n",
              "      <td>1344</td>\n",
              "      <td>1</td>\n",
              "      <td>Thursday</td>\n",
              "      <td>5.585330</td>\n",
              "    </tr>\n",
              "    <tr>\n",
              "      <th>2082</th>\n",
              "      <td>3003</td>\n",
              "      <td>2021-2022</td>\n",
              "      <td>2013-10-12</td>\n",
              "      <td>2</td>\n",
              "      <td>2022-05-23</td>\n",
              "      <td>1481</td>\n",
              "      <td>3</td>\n",
              "      <td>Monday</td>\n",
              "      <td>8.610718</td>\n",
              "    </tr>\n",
              "    <tr>\n",
              "      <th>2083</th>\n",
              "      <td>4786</td>\n",
              "      <td>2021-2022</td>\n",
              "      <td>2010-06-18</td>\n",
              "      <td>6</td>\n",
              "      <td>2022-05-31</td>\n",
              "      <td>1412</td>\n",
              "      <td>1</td>\n",
              "      <td>Tuesday</td>\n",
              "      <td>11.950964</td>\n",
              "    </tr>\n",
              "    <tr>\n",
              "      <th>2084</th>\n",
              "      <td>4787</td>\n",
              "      <td>2021-2022</td>\n",
              "      <td>2016-10-26</td>\n",
              "      <td>0</td>\n",
              "      <td>2022-05-17</td>\n",
              "      <td>1381</td>\n",
              "      <td>2</td>\n",
              "      <td>Tuesday</td>\n",
              "      <td>5.555213</td>\n",
              "    </tr>\n",
              "    <tr>\n",
              "      <th>2085</th>\n",
              "      <td>4788</td>\n",
              "      <td>2021-2022</td>\n",
              "      <td>2016-11-22</td>\n",
              "      <td>0</td>\n",
              "      <td>2022-05-26</td>\n",
              "      <td>1323</td>\n",
              "      <td>1</td>\n",
              "      <td>Thursday</td>\n",
              "      <td>5.505931</td>\n",
              "    </tr>\n",
              "  </tbody>\n",
              "</table>\n",
              "<p>13048 rows × 9 columns</p>\n",
              "</div>"
            ],
            "text/plain": [
              "      Stu_deID AcademicYear        DOB  GradeLevel   TestDate  OverallScore  OverallLevel TestDayName    TestAge\n",
              "0            0    2017-2018 2011-07-04           1 2018-05-02          1503             4   Wednesday   6.828340\n",
              "1            1    2017-2018 2008-07-28           4 2018-03-16          1535             3      Friday   9.631957\n",
              "2            2    2017-2018 2011-08-13           1 2018-02-12          1449             3      Monday   6.502529\n",
              "3            3    2017-2018 2008-05-06           4 2018-04-02          1480             2      Monday   9.905748\n",
              "4            4    2017-2018 2012-04-13           0 2018-05-23          1461             4   Wednesday   6.108271\n",
              "...        ...          ...        ...         ...        ...           ...           ...         ...        ...\n",
              "2081      4785    2021-2022 2016-10-24           0 2022-05-26          1344             1    Thursday   5.585330\n",
              "2082      3003    2021-2022 2013-10-12           2 2022-05-23          1481             3      Monday   8.610718\n",
              "2083      4786    2021-2022 2010-06-18           6 2022-05-31          1412             1     Tuesday  11.950964\n",
              "2084      4787    2021-2022 2016-10-26           0 2022-05-17          1381             2     Tuesday   5.555213\n",
              "2085      4788    2021-2022 2016-11-22           0 2022-05-26          1323             1    Thursday   5.505931\n",
              "\n",
              "[13048 rows x 9 columns]"
            ]
          },
          "execution_count": 45,
          "metadata": {},
          "output_type": "execute_result"
        }
      ],
      "source": [
        "elpac"
      ]
    },
    {
      "cell_type": "markdown",
      "metadata": {
        "id": "TK8KKtNRydfo"
      },
      "source": [
        "### Attendance Files"
      ]
    },
    {
      "cell_type": "code",
      "execution_count": null,
      "metadata": {
        "id": "oIBoGTIjydfo"
      },
      "outputs": [],
      "source": [
        "Attendance_file_path = '/Users/oscargil/Desktop/ADS-599B/Raw_Files/'"
      ]
    },
    {
      "cell_type": "code",
      "execution_count": null,
      "metadata": {
        "id": "uCJfKF1Bydfo"
      },
      "outputs": [],
      "source": [
        "# Load attendance data\n",
        "att_1718 = pd.read_csv(Attendance_file_path + 'STAS_ODS_1718.txt', sep='^', dtype=str, header=None)\n",
        "att_1819 = pd.read_csv(Attendance_file_path + 'STAS_ODS_1819.txt', sep='^', dtype=str, header=None)\n",
        "att_1920 = pd.read_csv(Attendance_file_path + 'STAS_ODS_1920.txt', sep='^', dtype=str, header=None)\n",
        "att_2021 = pd.read_csv(Attendance_file_path + 'STAS_ODS_2021.txt', sep='^', dtype=str, header=None)\n",
        "att_2122 = pd.read_csv(Attendance_file_path + 'STAS_ODS_2122.txt', sep='^', dtype=str, header=None)"
      ]
    },
    {
      "cell_type": "code",
      "execution_count": null,
      "metadata": {
        "id": "EVJxyzv9ydfo"
      },
      "outputs": [],
      "source": [
        "# columns to keep\n",
        "att_1718 = att_1718.iloc[:,[5, 6, 14, 15]].fillna(0.00)\n",
        "att_1819 = att_1819.iloc[:,[5, 6, 14, 15]].fillna(0.00)\n",
        "att_1920 = att_1920.iloc[:,[5, 6, 14, 15]].fillna(0.00)\n",
        "att_2021 = att_2021.iloc[:,[5, 6, 14, 15]].fillna(0.00)\n",
        "att_2122 = att_2122.iloc[:,[5, 6, 14, 15]].fillna(0.00)"
      ]
    },
    {
      "cell_type": "code",
      "execution_count": null,
      "metadata": {
        "id": "FSGcDxYsydfp"
      },
      "outputs": [],
      "source": [
        "# Assign column names\n",
        "att_columns = ['AcademicYear', 'SSID', 'ExpectedAttendanceDays', 'DaysAttended']\n",
        "\n",
        "att_1718.columns = att_columns\n",
        "att_1819.columns = att_columns\n",
        "att_1920.columns = att_columns\n",
        "att_2021.columns = att_columns\n",
        "att_2122.columns = att_columns"
      ]
    },
    {
      "cell_type": "code",
      "execution_count": null,
      "metadata": {
        "id": "-eBqcX-Kydfp"
      },
      "outputs": [],
      "source": [
        "# Data conversions\n",
        "att_1718['ExpectedAttendanceDays'] = att_1718.ExpectedAttendanceDays.astype(float)\n",
        "att_1819['ExpectedAttendanceDays'] = att_1819.ExpectedAttendanceDays.astype(float)\n",
        "att_1920['ExpectedAttendanceDays'] = att_1920.ExpectedAttendanceDays.astype(float)\n",
        "att_2021['ExpectedAttendanceDays'] = att_2021.ExpectedAttendanceDays.astype(float)\n",
        "att_2122['ExpectedAttendanceDays'] = att_2122.ExpectedAttendanceDays.astype(float)"
      ]
    },
    {
      "cell_type": "code",
      "execution_count": null,
      "metadata": {
        "id": "kn9eDQZlydfp"
      },
      "outputs": [],
      "source": [
        "# Data conversions\n",
        "att_1718['DaysAttended'] = att_1718.DaysAttended.astype(float)\n",
        "att_1819['DaysAttended'] = att_1819.DaysAttended.astype(float)\n",
        "att_1920['DaysAttended'] = att_1920.DaysAttended.astype(float)\n",
        "att_2021['DaysAttended'] = att_2021.DaysAttended.astype(float)\n",
        "att_2122['DaysAttended'] = att_2122.DaysAttended.astype(float)"
      ]
    },
    {
      "cell_type": "code",
      "execution_count": null,
      "metadata": {
        "id": "6iocQjNmydfp"
      },
      "outputs": [],
      "source": [
        "# Att into one file\n",
        "att = pd.concat([att_1718, att_1819, att_1920, att_2021, att_2122], axis =0)"
      ]
    },
    {
      "cell_type": "markdown",
      "metadata": {
        "id": "4PyaypVkydfp"
      },
      "source": [
        "### Student demographics and Teacher data"
      ]
    },
    {
      "cell_type": "code",
      "execution_count": null,
      "metadata": {
        "id": "44G4Fbk8ydfp"
      },
      "outputs": [],
      "source": [
        "# Informaation from SQL query in Data Server with file name \"CAPSTONE SQL code.sql\"\n",
        "teacher_stuDemographics = pd.read_csv('/Users/oscargil/Desktop/ADS-599B/Raw_Files/teacher_stuDemographics.csv', dtype=str)"
      ]
    },
    {
      "cell_type": "code",
      "execution_count": null,
      "metadata": {
        "id": "P5L-s_Drydfp"
      },
      "outputs": [],
      "source": [
        "# Unique Schoolname values - only present in the 2021-2022 file\n",
        "schools_deidentify = pd.DataFrame(teacher_stuDemographics.SchoolName.unique())\n",
        "\n",
        "schools_deidentify.columns = ['SchoolName']\n",
        "\n",
        "# Assign Data frame index as de-identified ID\n",
        "schools_deidentify['School_deID'] =  schools_deidentify.index\n",
        "\n",
        "# Merge in de-identier\n",
        "teacher_stuDemographics = teacher_stuDemographics.merge(schools_deidentify, how=\"inner\", left_on='SchoolName', right_on='SchoolName')\n",
        "\n",
        "# Drop school name column\n",
        "teacher_stuDemographics.drop(teacher_stuDemographics.columns[[2]], axis=1, inplace=True)\n",
        "\n",
        "# Create local file to have as reference to School_deID\n",
        "schools_deidentify.to_csv('/Users/oscargil/Desktop/ADS-599B/Raw_Files/schools_deidentify.csv', encoding='utf-8', index=False)\n"
      ]
    },
    {
      "cell_type": "code",
      "execution_count": null,
      "metadata": {
        "id": "0kfwkqtQydfq"
      },
      "outputs": [],
      "source": [
        "# Incorporate deidentified student ID\n",
        "teacher_stuDemographics = teacher_stuDemographics.merge(ssid_deidentify, how=\"inner\", left_on='SSID', right_on='SSID')\n",
        "\n",
        "# Drop student ID column\n",
        "teacher_stuDemographics.drop(teacher_stuDemographics.columns[[1]], axis=1, inplace=True)"
      ]
    },
    {
      "cell_type": "code",
      "execution_count": null,
      "metadata": {
        "id": "rcHGXqcrydfq"
      },
      "outputs": [],
      "source": [
        "# Update elpac dataframe\n",
        "elpac = elpac.merge(teacher_stuDemographics, how=\"inner\", left_on=('AcademicYear', 'Stu_deID'), right_on=('AcademicYear', 'Stu_deID'))"
      ]
    },
    {
      "cell_type": "markdown",
      "metadata": {
        "id": "M9vICu2sydfq"
      },
      "source": [
        "### SQLite"
      ]
    },
    {
      "cell_type": "code",
      "execution_count": null,
      "metadata": {
        "id": "G7WZmtquydfq"
      },
      "outputs": [],
      "source": [
        "cnn = sqlite3.connect('/Users/oscargil/Desktop/ADS-599B/Raw_Files/db.db')"
      ]
    },
    {
      "cell_type": "code",
      "execution_count": null,
      "metadata": {
        "id": "XcRUN9gMydfq"
      },
      "outputs": [],
      "source": [
        "# Load dataframes into sql\n",
        "att.to_sql(\"att\", cnn, if_exists='replace')\n",
        "ssid_deidentify.to_sql(\"ssid\", cnn, if_exists='replace')"
      ]
    },
    {
      "cell_type": "code",
      "execution_count": null,
      "metadata": {
        "id": "1XSEg8ayydfq"
      },
      "outputs": [],
      "source": [
        "%load_ext sql"
      ]
    },
    {
      "cell_type": "code",
      "execution_count": null,
      "metadata": {
        "id": "MCG5DRUNydfq",
        "outputId": "67cffdfb-3dd1-4d99-df53-73f7f49773b7"
      },
      "outputs": [
        {
          "data": {
            "text/plain": [
              "'Connected: @/Users/oscargil/Desktop/ADS-599B/Raw_Files/db.db'"
            ]
          },
          "execution_count": 60,
          "metadata": {},
          "output_type": "execute_result"
        }
      ],
      "source": [
        "%sql sqlite:////Users/oscargil/Desktop/ADS-599B/Raw_Files/db.db"
      ]
    },
    {
      "cell_type": "code",
      "execution_count": null,
      "metadata": {
        "id": "szsW0dhpydfr",
        "outputId": "09254777-d0c7-4990-88ec-63ee66f59b42"
      },
      "outputs": [
        {
          "name": "stdout",
          "output_type": "stream",
          "text": [
            " * sqlite:////Users/oscargil/Desktop/ADS-599B/Raw_Files/db.db\n",
            "Done.\n"
          ]
        },
        {
          "data": {
            "text/html": [
              "<table>\n",
              "    <thead>\n",
              "        <tr>\n",
              "            <th>Stu_deID</th>\n",
              "            <th>AcademicYear</th>\n",
              "            <th>ExpectedAttendanceDays</th>\n",
              "            <th>DaysAttended</th>\n",
              "            <th>AttendedPct</th>\n",
              "            <th>EnrolledPct</th>\n",
              "        </tr>\n",
              "    </thead>\n",
              "    <tbody>\n",
              "        <tr>\n",
              "            <td>3482</td>\n",
              "            <td>2019-2020</td>\n",
              "            <td>167.0</td>\n",
              "            <td>160.0</td>\n",
              "            <td>0.9580838323353293</td>\n",
              "            <td>0.9277777777777778</td>\n",
              "        </tr>\n",
              "        <tr>\n",
              "            <td>3</td>\n",
              "            <td>2017-2018</td>\n",
              "            <td>180.0</td>\n",
              "            <td>175.0</td>\n",
              "            <td>0.9722222222222222</td>\n",
              "            <td>1.0</td>\n",
              "        </tr>\n",
              "        <tr>\n",
              "            <td>3</td>\n",
              "            <td>2018-2019</td>\n",
              "            <td>180.0</td>\n",
              "            <td>168.0</td>\n",
              "            <td>0.9333333333333333</td>\n",
              "            <td>1.0</td>\n",
              "        </tr>\n",
              "        <tr>\n",
              "            <td>3</td>\n",
              "            <td>2019-2020</td>\n",
              "            <td>180.0</td>\n",
              "            <td>178.0</td>\n",
              "            <td>0.9888888888888889</td>\n",
              "            <td>1.0</td>\n",
              "        </tr>\n",
              "        <tr>\n",
              "            <td>4</td>\n",
              "            <td>2017-2018</td>\n",
              "            <td>180.0</td>\n",
              "            <td>125.0</td>\n",
              "            <td>0.6944444444444444</td>\n",
              "            <td>1.0</td>\n",
              "        </tr>\n",
              "        <tr>\n",
              "            <td>4</td>\n",
              "            <td>2018-2019</td>\n",
              "            <td>103.0</td>\n",
              "            <td>90.0</td>\n",
              "            <td>0.8737864077669902</td>\n",
              "            <td>0.5722222222222222</td>\n",
              "        </tr>\n",
              "        <tr>\n",
              "            <td>4529</td>\n",
              "            <td>2021-2022</td>\n",
              "            <td>170.0</td>\n",
              "            <td>138.0</td>\n",
              "            <td>0.8117647058823529</td>\n",
              "            <td>0.9444444444444444</td>\n",
              "        </tr>\n",
              "        <tr>\n",
              "            <td>4002</td>\n",
              "            <td>2020-2021</td>\n",
              "            <td>180.0</td>\n",
              "            <td>167.0</td>\n",
              "            <td>0.9277777777777778</td>\n",
              "            <td>1.0</td>\n",
              "        </tr>\n",
              "        <tr>\n",
              "            <td>4002</td>\n",
              "            <td>2021-2022</td>\n",
              "            <td>170.0</td>\n",
              "            <td>139.0</td>\n",
              "            <td>0.8176470588235294</td>\n",
              "            <td>0.9444444444444444</td>\n",
              "        </tr>\n",
              "        <tr>\n",
              "            <td>5</td>\n",
              "            <td>2017-2018</td>\n",
              "            <td>180.0</td>\n",
              "            <td>165.0</td>\n",
              "            <td>0.9166666666666666</td>\n",
              "            <td>1.0</td>\n",
              "        </tr>\n",
              "    </tbody>\n",
              "</table>"
            ],
            "text/plain": [
              "[(3482, '2019-2020', 167.0, 160.0, 0.9580838323353293, 0.9277777777777778),\n",
              " (3, '2017-2018', 180.0, 175.0, 0.9722222222222222, 1.0),\n",
              " (3, '2018-2019', 180.0, 168.0, 0.9333333333333333, 1.0),\n",
              " (3, '2019-2020', 180.0, 178.0, 0.9888888888888889, 1.0),\n",
              " (4, '2017-2018', 180.0, 125.0, 0.6944444444444444, 1.0),\n",
              " (4, '2018-2019', 103.0, 90.0, 0.8737864077669902, 0.5722222222222222),\n",
              " (4529, '2021-2022', 170.0, 138.0, 0.8117647058823529, 0.9444444444444444),\n",
              " (4002, '2020-2021', 180.0, 167.0, 0.9277777777777778, 1.0),\n",
              " (4002, '2021-2022', 170.0, 139.0, 0.8176470588235294, 0.9444444444444444),\n",
              " (5, '2017-2018', 180.0, 165.0, 0.9166666666666666, 1.0)]"
            ]
          },
          "execution_count": 61,
          "metadata": {},
          "output_type": "execute_result"
        }
      ],
      "source": [
        "%%sql\n",
        "\n",
        "select s.Stu_deID, AcademicYear, sum(ExpectedAttendanceDays) as ExpectedAttendanceDays, sum(DaysAttended) as DaysAttended\n",
        ", sum(DaysAttended) / sum(ExpectedAttendanceDays) as AttendedPct\n",
        ", sum(ExpectedAttendanceDays) / 180.0 as EnrolledPct\n",
        "from att as a \n",
        "join ssid as s \n",
        "    on a.SSID = s.SSID\n",
        "group by a.SSID, a.AcademicYear\n",
        "limit 10"
      ]
    },
    {
      "cell_type": "code",
      "execution_count": null,
      "metadata": {
        "id": "LmxKOsuTydfr"
      },
      "outputs": [],
      "source": [
        "# SQL results to dataframe\n",
        "att_sql = '''\n",
        "select s.Stu_deID, AcademicYear, sum(ExpectedAttendanceDays) as ExpectedAttendanceDays, sum(DaysAttended) as DaysAttended\n",
        ", sum(DaysAttended) / sum(ExpectedAttendanceDays) as AttendedPct\n",
        ", sum(ExpectedAttendanceDays) / 180.0 as EnrolledPct\n",
        "from att as a \n",
        "join ssid as s \n",
        "    on a.SSID = s.SSID\n",
        "group by a.SSID, a.AcademicYear\n",
        "'''\n",
        "\n",
        "att_df = pd.read_sql_query(att_sql, cnn)"
      ]
    },
    {
      "cell_type": "code",
      "execution_count": null,
      "metadata": {
        "id": "PVsK9LNtydfr"
      },
      "outputs": [],
      "source": [
        "# Merge attendance into ELPAC file\n",
        "elpac = elpac.merge(att_df, how='inner', left_on=('Stu_deID', 'AcademicYear'), right_on=('Stu_deID', 'AcademicYear'))"
      ]
    },
    {
      "cell_type": "code",
      "execution_count": null,
      "metadata": {
        "id": "Vy7GAfVNydfr"
      },
      "outputs": [],
      "source": [
        "# Feature Engineering\n",
        "elpac['GradeEnrolledPct'] = elpac.GradeLevel + elpac.EnrolledPct.replace(1.0,.999999)\n",
        "\n",
        "elpac['GradeAttendedPct'] = elpac.GradeLevel + elpac.AttendedPct.replace(1.0,.999999)"
      ]
    },
    {
      "cell_type": "markdown",
      "metadata": {
        "id": "Z01kja-aydfr"
      },
      "source": [
        "### Sort columns for final output"
      ]
    },
    {
      "cell_type": "code",
      "execution_count": null,
      "metadata": {
        "id": "bHGwy86iydfr"
      },
      "outputs": [],
      "source": [
        "elpac = elpac.iloc[:,[1, 0, 17, 3, 2, 8, 9, 10, 11, 12, 13, 7, 4, 5, 6, 18, 19, 20, 21, 22, 23, 15, 14, 16]]"
      ]
    },
    {
      "cell_type": "markdown",
      "metadata": {
        "id": "tq8Edg8Fydfs"
      },
      "source": [
        "### Export ELPAC file to CSV"
      ]
    },
    {
      "cell_type": "code",
      "execution_count": null,
      "metadata": {
        "id": "MVDgxvRqydfs"
      },
      "outputs": [],
      "source": [
        "elpac.to_csv('/Users/oscargil/Desktop/ADS-599B/Data Folder/elpac.csv', encoding='utf-8', index=False)"
      ]
    }
  ],
  "metadata": {
    "kernelspec": {
      "display_name": "Python 3.9.1 ('ADS500B')",
      "language": "python",
      "name": "python3"
    },
    "language_info": {
      "codemirror_mode": {
        "name": "ipython",
        "version": 3
      },
      "file_extension": ".py",
      "mimetype": "text/x-python",
      "name": "python",
      "nbconvert_exporter": "python",
      "pygments_lexer": "ipython3",
      "version": "3.9.1"
    },
    "orig_nbformat": 4,
    "vscode": {
      "interpreter": {
        "hash": "1d26887a0ce0c3c4488c5c94af6ff26a975a652bca174f379a81267199556a29"
      }
    },
    "colab": {
      "provenance": []
    }
  },
  "nbformat": 4,
  "nbformat_minor": 0
}