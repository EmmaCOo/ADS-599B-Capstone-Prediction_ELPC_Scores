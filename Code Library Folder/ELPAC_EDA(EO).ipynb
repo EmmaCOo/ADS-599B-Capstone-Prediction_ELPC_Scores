{
  "cells": [
    {
      "cell_type": "code",
      "execution_count": 1,
      "metadata": {
        "id": "bYfc6YNeNFWl"
      },
      "outputs": [],
      "source": [
        "import os\n",
        "import re\n",
        "import pandas as pd\n",
        "import numpy as np\n",
        "import missingno as msno\n",
        "import seaborn as sns\n",
        "import matplotlib.pyplot as plt\n",
        "\n",
        "\n",
        "import warnings\n",
        "warnings.filterwarnings('ignore')"
      ]
    },
    {
      "cell_type": "code",
      "execution_count": 43,
      "metadata": {
        "id": "vcA1Cw0PQggR"
      },
      "outputs": [],
      "source": [
        "df = pd.read_csv('https://raw.githubusercontent.com/OscarG-DataSci/ADS-599B/main/Data%20Folder/elpac.csv')"
      ]
    },
    {
      "cell_type": "code",
      "execution_count": 44,
      "metadata": {
        "colab": {
          "base_uri": "https://localhost:8080/",
          "height": 386
        },
        "id": "a2wCSPPUQpWP",
        "outputId": "b9a5f0fa-6b33-4984-d134-16294ce50d9e"
      },
      "outputs": [
        {
          "data": {
            "text/html": [
              "<div>\n",
              "<style scoped>\n",
              "    .dataframe tbody tr th:only-of-type {\n",
              "        vertical-align: middle;\n",
              "    }\n",
              "\n",
              "    .dataframe tbody tr th {\n",
              "        vertical-align: top;\n",
              "    }\n",
              "\n",
              "    .dataframe thead th {\n",
              "        text-align: right;\n",
              "    }\n",
              "</style>\n",
              "<table border=\"1\" class=\"dataframe\">\n",
              "  <thead>\n",
              "    <tr style=\"text-align: right;\">\n",
              "      <th></th>\n",
              "      <th>AcademicYear</th>\n",
              "      <th>Stu_deID</th>\n",
              "      <th>School_deID</th>\n",
              "      <th>GradeLevel</th>\n",
              "      <th>DOB</th>\n",
              "      <th>TestAge</th>\n",
              "      <th>StudentGender</th>\n",
              "      <th>StudentEthnicity</th>\n",
              "      <th>Special_Education</th>\n",
              "      <th>Homeless</th>\n",
              "      <th>...</th>\n",
              "      <th>OverallLevel</th>\n",
              "      <th>ExpectedAttendanceDays</th>\n",
              "      <th>DaysAttended</th>\n",
              "      <th>AttendedPct</th>\n",
              "      <th>EnrolledPct</th>\n",
              "      <th>GradeEnrolledPct</th>\n",
              "      <th>GradeAttendedPct</th>\n",
              "      <th>TeacherGender</th>\n",
              "      <th>TeacherTotalYearsOfService</th>\n",
              "      <th>TeacherEthnicity</th>\n",
              "    </tr>\n",
              "  </thead>\n",
              "  <tbody>\n",
              "    <tr>\n",
              "      <th>0</th>\n",
              "      <td>2017-2018</td>\n",
              "      <td>0</td>\n",
              "      <td>3</td>\n",
              "      <td>1</td>\n",
              "      <td>2011-07-04</td>\n",
              "      <td>6.828340</td>\n",
              "      <td>F</td>\n",
              "      <td>Hispanic</td>\n",
              "      <td>N</td>\n",
              "      <td>Y</td>\n",
              "      <td>...</td>\n",
              "      <td>4</td>\n",
              "      <td>180.0</td>\n",
              "      <td>175.0</td>\n",
              "      <td>0.972222</td>\n",
              "      <td>1.0</td>\n",
              "      <td>1.999999</td>\n",
              "      <td>1.972222</td>\n",
              "      <td>F</td>\n",
              "      <td>4</td>\n",
              "      <td>Hispanic</td>\n",
              "    </tr>\n",
              "    <tr>\n",
              "      <th>1</th>\n",
              "      <td>2017-2018</td>\n",
              "      <td>1</td>\n",
              "      <td>5</td>\n",
              "      <td>4</td>\n",
              "      <td>2008-07-28</td>\n",
              "      <td>9.631957</td>\n",
              "      <td>M</td>\n",
              "      <td>Hispanic</td>\n",
              "      <td>N</td>\n",
              "      <td>N</td>\n",
              "      <td>...</td>\n",
              "      <td>3</td>\n",
              "      <td>180.0</td>\n",
              "      <td>168.0</td>\n",
              "      <td>0.933333</td>\n",
              "      <td>1.0</td>\n",
              "      <td>4.999999</td>\n",
              "      <td>4.933333</td>\n",
              "      <td>F</td>\n",
              "      <td>2</td>\n",
              "      <td>Multiple</td>\n",
              "    </tr>\n",
              "    <tr>\n",
              "      <th>2</th>\n",
              "      <td>2017-2018</td>\n",
              "      <td>3</td>\n",
              "      <td>3</td>\n",
              "      <td>4</td>\n",
              "      <td>2008-05-06</td>\n",
              "      <td>9.905748</td>\n",
              "      <td>M</td>\n",
              "      <td>Hispanic</td>\n",
              "      <td>Y</td>\n",
              "      <td>N</td>\n",
              "      <td>...</td>\n",
              "      <td>2</td>\n",
              "      <td>180.0</td>\n",
              "      <td>175.0</td>\n",
              "      <td>0.972222</td>\n",
              "      <td>1.0</td>\n",
              "      <td>4.999999</td>\n",
              "      <td>4.972222</td>\n",
              "      <td>F</td>\n",
              "      <td>18</td>\n",
              "      <td>White</td>\n",
              "    </tr>\n",
              "    <tr>\n",
              "      <th>3</th>\n",
              "      <td>2017-2018</td>\n",
              "      <td>4</td>\n",
              "      <td>3</td>\n",
              "      <td>0</td>\n",
              "      <td>2012-04-13</td>\n",
              "      <td>6.108271</td>\n",
              "      <td>M</td>\n",
              "      <td>Hispanic</td>\n",
              "      <td>N</td>\n",
              "      <td>N</td>\n",
              "      <td>...</td>\n",
              "      <td>4</td>\n",
              "      <td>180.0</td>\n",
              "      <td>125.0</td>\n",
              "      <td>0.694444</td>\n",
              "      <td>1.0</td>\n",
              "      <td>0.999999</td>\n",
              "      <td>0.694444</td>\n",
              "      <td>F</td>\n",
              "      <td>1</td>\n",
              "      <td>White</td>\n",
              "    </tr>\n",
              "    <tr>\n",
              "      <th>4</th>\n",
              "      <td>2017-2018</td>\n",
              "      <td>5</td>\n",
              "      <td>7</td>\n",
              "      <td>0</td>\n",
              "      <td>2011-09-25</td>\n",
              "      <td>6.664066</td>\n",
              "      <td>M</td>\n",
              "      <td>Hispanic</td>\n",
              "      <td>N</td>\n",
              "      <td>N</td>\n",
              "      <td>...</td>\n",
              "      <td>1</td>\n",
              "      <td>180.0</td>\n",
              "      <td>165.0</td>\n",
              "      <td>0.916667</td>\n",
              "      <td>1.0</td>\n",
              "      <td>0.999999</td>\n",
              "      <td>0.916667</td>\n",
              "      <td>F</td>\n",
              "      <td>17</td>\n",
              "      <td>Hispanic</td>\n",
              "    </tr>\n",
              "  </tbody>\n",
              "</table>\n",
              "<p>5 rows × 24 columns</p>\n",
              "</div>"
            ],
            "text/plain": [
              "  AcademicYear  Stu_deID  School_deID  GradeLevel         DOB   TestAge  \\\n",
              "0    2017-2018         0            3           1  2011-07-04  6.828340   \n",
              "1    2017-2018         1            5           4  2008-07-28  9.631957   \n",
              "2    2017-2018         3            3           4  2008-05-06  9.905748   \n",
              "3    2017-2018         4            3           0  2012-04-13  6.108271   \n",
              "4    2017-2018         5            7           0  2011-09-25  6.664066   \n",
              "\n",
              "  StudentGender StudentEthnicity Special_Education Homeless  ... OverallLevel  \\\n",
              "0             F         Hispanic                 N        Y  ...            4   \n",
              "1             M         Hispanic                 N        N  ...            3   \n",
              "2             M         Hispanic                 Y        N  ...            2   \n",
              "3             M         Hispanic                 N        N  ...            4   \n",
              "4             M         Hispanic                 N        N  ...            1   \n",
              "\n",
              "  ExpectedAttendanceDays DaysAttended  AttendedPct  EnrolledPct  \\\n",
              "0                  180.0        175.0     0.972222          1.0   \n",
              "1                  180.0        168.0     0.933333          1.0   \n",
              "2                  180.0        175.0     0.972222          1.0   \n",
              "3                  180.0        125.0     0.694444          1.0   \n",
              "4                  180.0        165.0     0.916667          1.0   \n",
              "\n",
              "   GradeEnrolledPct  GradeAttendedPct  TeacherGender  \\\n",
              "0          1.999999          1.972222              F   \n",
              "1          4.999999          4.933333              F   \n",
              "2          4.999999          4.972222              F   \n",
              "3          0.999999          0.694444              F   \n",
              "4          0.999999          0.916667              F   \n",
              "\n",
              "   TeacherTotalYearsOfService  TeacherEthnicity  \n",
              "0                           4          Hispanic  \n",
              "1                           2          Multiple  \n",
              "2                          18             White  \n",
              "3                           1             White  \n",
              "4                          17          Hispanic  \n",
              "\n",
              "[5 rows x 24 columns]"
            ]
          },
          "execution_count": 44,
          "metadata": {},
          "output_type": "execute_result"
        }
      ],
      "source": [
        "df.head()"
      ]
    },
    {
      "cell_type": "code",
      "execution_count": 45,
      "metadata": {
        "colab": {
          "base_uri": "https://localhost:8080/"
        },
        "id": "lj8d1kXDUwjT",
        "outputId": "d1bf4aaa-193d-4693-bf82-74c5eb284f72"
      },
      "outputs": [
        {
          "name": "stdout",
          "output_type": "stream",
          "text": [
            "(11628, 24) AcademicYear                   object\n",
            "Stu_deID                        int64\n",
            "School_deID                     int64\n",
            "GradeLevel                      int64\n",
            "DOB                            object\n",
            "TestAge                       float64\n",
            "StudentGender                  object\n",
            "StudentEthnicity               object\n",
            "Special_Education              object\n",
            "Homeless                       object\n",
            "SocioEconomically              object\n",
            "TestDayName                    object\n",
            "TestDate                       object\n",
            "OverallScore                    int64\n",
            "OverallLevel                    int64\n",
            "ExpectedAttendanceDays        float64\n",
            "DaysAttended                  float64\n",
            "AttendedPct                   float64\n",
            "EnrolledPct                   float64\n",
            "GradeEnrolledPct              float64\n",
            "GradeAttendedPct              float64\n",
            "TeacherGender                  object\n",
            "TeacherTotalYearsOfService      int64\n",
            "TeacherEthnicity               object\n",
            "dtype: object\n"
          ]
        }
      ],
      "source": [
        "print(df.shape, df.dtypes)"
      ]
    },
    {
      "cell_type": "code",
      "execution_count": 46,
      "metadata": {
        "colab": {
          "base_uri": "https://localhost:8080/"
        },
        "id": "0_bQFsltKVdX",
        "outputId": "b207342e-b24c-491d-9141-e3e188a7ee7e"
      },
      "outputs": [
        {
          "name": "stdout",
          "output_type": "stream",
          "text": [
            "Index(['AcademicYear', 'Stu_deID', 'School_deID', 'GradeLevel', 'DOB',\n",
            "       'TestAge', 'StudentGender', 'StudentEthnicity', 'Special_Education',\n",
            "       'Homeless', 'SocioEconomically', 'TestDayName', 'TestDate',\n",
            "       'OverallScore', 'OverallLevel', 'ExpectedAttendanceDays',\n",
            "       'DaysAttended', 'AttendedPct', 'EnrolledPct', 'GradeEnrolledPct',\n",
            "       'GradeAttendedPct', 'TeacherGender', 'TeacherTotalYearsOfService',\n",
            "       'TeacherEthnicity'],\n",
            "      dtype='object')\n"
          ]
        }
      ],
      "source": [
        "print(df.columns)"
      ]
    },
    {
      "cell_type": "markdown",
      "metadata": {
        "id": "1gOIHmwsdR-w"
      },
      "source": [
        "#####**CHECK DUPLICATED RECORDS**"
      ]
    },
    {
      "cell_type": "code",
      "execution_count": 47,
      "metadata": {
        "colab": {
          "base_uri": "https://localhost:8080/"
        },
        "id": "ITO6GuEGSsc9",
        "outputId": "9e32a4e6-addc-44c9-c8a3-63395d9603c0"
      },
      "outputs": [
        {
          "name": "stdout",
          "output_type": "stream",
          "text": [
            "0\n"
          ]
        }
      ],
      "source": [
        "print(df.duplicated().sum())"
      ]
    },
    {
      "cell_type": "markdown",
      "metadata": {
        "id": "Iu06iggOdWfx"
      },
      "source": [
        "#####**DISTRIBUTIONS OF EACH COLUMN**"
      ]
    },
    {
      "cell_type": "code",
      "execution_count": 48,
      "metadata": {
        "colab": {
          "base_uri": "https://localhost:8080/"
        },
        "id": "zcHdRFdMWRTb",
        "outputId": "cfbd75e1-c681-4bb9-8428-2f1238a52448"
      },
      "outputs": [
        {
          "name": "stdout",
          "output_type": "stream",
          "text": [
            "3    3432\n",
            "2    2782\n",
            "0    2166\n",
            "1    1687\n",
            "4    1561\n",
            "Name: OverallLevel, dtype: int64\n"
          ]
        }
      ],
      "source": [
        "# print(df.value_counts())\n",
        "print(df.OverallLevel.value_counts())"
      ]
    },
    {
      "cell_type": "markdown",
      "metadata": {
        "id": "dT6aZl62hOK3"
      },
      "source": [
        "#####**ADD STUDENT'S AGE COLUMN CONVERTING FROM DOB**"
      ]
    },
    {
      "cell_type": "code",
      "execution_count": 49,
      "metadata": {
        "id": "lS0Hx7-jg-Xy"
      },
      "outputs": [],
      "source": [
        "from datetime import date\n",
        "\n",
        "def calculate_age(born):\n",
        "    today = date.today()\n",
        "    try: \n",
        "        birthday = born.replace(year=today.year)\n",
        "    except ValueError: # raised when birth date is February 29 and the current year is not a leap year\n",
        "        birthday = born.replace(month=born.month+1, day=1, year=today.year)\n",
        "    if birthday > today:\n",
        "        return today.year - born.year - 1\n",
        "    else:\n",
        "        return today.year - born.year"
      ]
    },
    {
      "cell_type": "code",
      "execution_count": 50,
      "metadata": {
        "id": "57Jx4KGnwmol"
      },
      "outputs": [],
      "source": [
        "#change DOB into year-month-date format and save under 'format_DOB'\n",
        "df['format_DOB'] =  pd.to_datetime(df['DOB'], format='%Y-%m-%d')"
      ]
    },
    {
      "cell_type": "code",
      "execution_count": 51,
      "metadata": {
        "id": "tQELh_KiyD2-"
      },
      "outputs": [],
      "source": [
        "#apply on DOB column\n",
        "df['age'] = df['format_DOB'].apply(calculate_age)"
      ]
    },
    {
      "cell_type": "code",
      "execution_count": 52,
      "metadata": {
        "colab": {
          "base_uri": "https://localhost:8080/",
          "height": 386
        },
        "id": "dJCLocHzy9V2",
        "outputId": "ebc9ace4-d29d-4a47-c312-295662425aaf"
      },
      "outputs": [
        {
          "data": {
            "text/html": [
              "<div>\n",
              "<style scoped>\n",
              "    .dataframe tbody tr th:only-of-type {\n",
              "        vertical-align: middle;\n",
              "    }\n",
              "\n",
              "    .dataframe tbody tr th {\n",
              "        vertical-align: top;\n",
              "    }\n",
              "\n",
              "    .dataframe thead th {\n",
              "        text-align: right;\n",
              "    }\n",
              "</style>\n",
              "<table border=\"1\" class=\"dataframe\">\n",
              "  <thead>\n",
              "    <tr style=\"text-align: right;\">\n",
              "      <th></th>\n",
              "      <th>AcademicYear</th>\n",
              "      <th>Stu_deID</th>\n",
              "      <th>School_deID</th>\n",
              "      <th>GradeLevel</th>\n",
              "      <th>DOB</th>\n",
              "      <th>TestAge</th>\n",
              "      <th>StudentGender</th>\n",
              "      <th>StudentEthnicity</th>\n",
              "      <th>Special_Education</th>\n",
              "      <th>Homeless</th>\n",
              "      <th>...</th>\n",
              "      <th>DaysAttended</th>\n",
              "      <th>AttendedPct</th>\n",
              "      <th>EnrolledPct</th>\n",
              "      <th>GradeEnrolledPct</th>\n",
              "      <th>GradeAttendedPct</th>\n",
              "      <th>TeacherGender</th>\n",
              "      <th>TeacherTotalYearsOfService</th>\n",
              "      <th>TeacherEthnicity</th>\n",
              "      <th>format_DOB</th>\n",
              "      <th>age</th>\n",
              "    </tr>\n",
              "  </thead>\n",
              "  <tbody>\n",
              "    <tr>\n",
              "      <th>0</th>\n",
              "      <td>2017-2018</td>\n",
              "      <td>0</td>\n",
              "      <td>3</td>\n",
              "      <td>1</td>\n",
              "      <td>2011-07-04</td>\n",
              "      <td>6.828340</td>\n",
              "      <td>F</td>\n",
              "      <td>Hispanic</td>\n",
              "      <td>N</td>\n",
              "      <td>Y</td>\n",
              "      <td>...</td>\n",
              "      <td>175.0</td>\n",
              "      <td>0.972222</td>\n",
              "      <td>1.0</td>\n",
              "      <td>1.999999</td>\n",
              "      <td>1.972222</td>\n",
              "      <td>F</td>\n",
              "      <td>4</td>\n",
              "      <td>Hispanic</td>\n",
              "      <td>2011-07-04</td>\n",
              "      <td>11</td>\n",
              "    </tr>\n",
              "    <tr>\n",
              "      <th>1</th>\n",
              "      <td>2017-2018</td>\n",
              "      <td>1</td>\n",
              "      <td>5</td>\n",
              "      <td>4</td>\n",
              "      <td>2008-07-28</td>\n",
              "      <td>9.631957</td>\n",
              "      <td>M</td>\n",
              "      <td>Hispanic</td>\n",
              "      <td>N</td>\n",
              "      <td>N</td>\n",
              "      <td>...</td>\n",
              "      <td>168.0</td>\n",
              "      <td>0.933333</td>\n",
              "      <td>1.0</td>\n",
              "      <td>4.999999</td>\n",
              "      <td>4.933333</td>\n",
              "      <td>F</td>\n",
              "      <td>2</td>\n",
              "      <td>Multiple</td>\n",
              "      <td>2008-07-28</td>\n",
              "      <td>14</td>\n",
              "    </tr>\n",
              "    <tr>\n",
              "      <th>2</th>\n",
              "      <td>2017-2018</td>\n",
              "      <td>3</td>\n",
              "      <td>3</td>\n",
              "      <td>4</td>\n",
              "      <td>2008-05-06</td>\n",
              "      <td>9.905748</td>\n",
              "      <td>M</td>\n",
              "      <td>Hispanic</td>\n",
              "      <td>Y</td>\n",
              "      <td>N</td>\n",
              "      <td>...</td>\n",
              "      <td>175.0</td>\n",
              "      <td>0.972222</td>\n",
              "      <td>1.0</td>\n",
              "      <td>4.999999</td>\n",
              "      <td>4.972222</td>\n",
              "      <td>F</td>\n",
              "      <td>18</td>\n",
              "      <td>White</td>\n",
              "      <td>2008-05-06</td>\n",
              "      <td>14</td>\n",
              "    </tr>\n",
              "    <tr>\n",
              "      <th>3</th>\n",
              "      <td>2017-2018</td>\n",
              "      <td>4</td>\n",
              "      <td>3</td>\n",
              "      <td>0</td>\n",
              "      <td>2012-04-13</td>\n",
              "      <td>6.108271</td>\n",
              "      <td>M</td>\n",
              "      <td>Hispanic</td>\n",
              "      <td>N</td>\n",
              "      <td>N</td>\n",
              "      <td>...</td>\n",
              "      <td>125.0</td>\n",
              "      <td>0.694444</td>\n",
              "      <td>1.0</td>\n",
              "      <td>0.999999</td>\n",
              "      <td>0.694444</td>\n",
              "      <td>F</td>\n",
              "      <td>1</td>\n",
              "      <td>White</td>\n",
              "      <td>2012-04-13</td>\n",
              "      <td>10</td>\n",
              "    </tr>\n",
              "    <tr>\n",
              "      <th>4</th>\n",
              "      <td>2017-2018</td>\n",
              "      <td>5</td>\n",
              "      <td>7</td>\n",
              "      <td>0</td>\n",
              "      <td>2011-09-25</td>\n",
              "      <td>6.664066</td>\n",
              "      <td>M</td>\n",
              "      <td>Hispanic</td>\n",
              "      <td>N</td>\n",
              "      <td>N</td>\n",
              "      <td>...</td>\n",
              "      <td>165.0</td>\n",
              "      <td>0.916667</td>\n",
              "      <td>1.0</td>\n",
              "      <td>0.999999</td>\n",
              "      <td>0.916667</td>\n",
              "      <td>F</td>\n",
              "      <td>17</td>\n",
              "      <td>Hispanic</td>\n",
              "      <td>2011-09-25</td>\n",
              "      <td>11</td>\n",
              "    </tr>\n",
              "  </tbody>\n",
              "</table>\n",
              "<p>5 rows × 26 columns</p>\n",
              "</div>"
            ],
            "text/plain": [
              "  AcademicYear  Stu_deID  School_deID  GradeLevel         DOB   TestAge  \\\n",
              "0    2017-2018         0            3           1  2011-07-04  6.828340   \n",
              "1    2017-2018         1            5           4  2008-07-28  9.631957   \n",
              "2    2017-2018         3            3           4  2008-05-06  9.905748   \n",
              "3    2017-2018         4            3           0  2012-04-13  6.108271   \n",
              "4    2017-2018         5            7           0  2011-09-25  6.664066   \n",
              "\n",
              "  StudentGender StudentEthnicity Special_Education Homeless  ... DaysAttended  \\\n",
              "0             F         Hispanic                 N        Y  ...        175.0   \n",
              "1             M         Hispanic                 N        N  ...        168.0   \n",
              "2             M         Hispanic                 Y        N  ...        175.0   \n",
              "3             M         Hispanic                 N        N  ...        125.0   \n",
              "4             M         Hispanic                 N        N  ...        165.0   \n",
              "\n",
              "  AttendedPct EnrolledPct  GradeEnrolledPct  GradeAttendedPct  TeacherGender  \\\n",
              "0    0.972222         1.0          1.999999          1.972222              F   \n",
              "1    0.933333         1.0          4.999999          4.933333              F   \n",
              "2    0.972222         1.0          4.999999          4.972222              F   \n",
              "3    0.694444         1.0          0.999999          0.694444              F   \n",
              "4    0.916667         1.0          0.999999          0.916667              F   \n",
              "\n",
              "   TeacherTotalYearsOfService  TeacherEthnicity  format_DOB  age  \n",
              "0                           4          Hispanic  2011-07-04   11  \n",
              "1                           2          Multiple  2008-07-28   14  \n",
              "2                          18             White  2008-05-06   14  \n",
              "3                           1             White  2012-04-13   10  \n",
              "4                          17          Hispanic  2011-09-25   11  \n",
              "\n",
              "[5 rows x 26 columns]"
            ]
          },
          "execution_count": 52,
          "metadata": {},
          "output_type": "execute_result"
        }
      ],
      "source": [
        "df.head(5)"
      ]
    },
    {
      "cell_type": "code",
      "execution_count": 53,
      "metadata": {
        "colab": {
          "base_uri": "https://localhost:8080/"
        },
        "id": "zIJ0Kp-xtKkH",
        "outputId": "05f7ca6c-80b4-4ec4-c69c-00cae07670c1"
      },
      "outputs": [
        {
          "data": {
            "text/plain": [
              "AcademicYear                     0\n",
              "Stu_deID                         0\n",
              "School_deID                      0\n",
              "GradeLevel                       0\n",
              "DOB                              0\n",
              "TestAge                       2159\n",
              "StudentGender                    0\n",
              "StudentEthnicity                 0\n",
              "Special_Education                0\n",
              "Homeless                         0\n",
              "SocioEconomically                0\n",
              "TestDayName                   2159\n",
              "TestDate                      2159\n",
              "OverallScore                     0\n",
              "OverallLevel                     0\n",
              "ExpectedAttendanceDays           0\n",
              "DaysAttended                     0\n",
              "AttendedPct                      3\n",
              "EnrolledPct                      0\n",
              "GradeEnrolledPct                 0\n",
              "GradeAttendedPct                 3\n",
              "TeacherGender                    0\n",
              "TeacherTotalYearsOfService       0\n",
              "TeacherEthnicity                 0\n",
              "format_DOB                       0\n",
              "age                              0\n",
              "dtype: int64"
            ]
          },
          "execution_count": 53,
          "metadata": {},
          "output_type": "execute_result"
        }
      ],
      "source": [
        "df.isna().sum()"
      ]
    },
    {
      "cell_type": "code",
      "execution_count": 54,
      "metadata": {
        "id": "D4BPhvUL1X9g"
      },
      "outputs": [],
      "source": [
        "#drop the missing values\n",
        "df = df.dropna()"
      ]
    },
    {
      "cell_type": "code",
      "execution_count": 55,
      "metadata": {
        "colab": {
          "base_uri": "https://localhost:8080/"
        },
        "id": "6R-EYCOg1byk",
        "outputId": "7f2c5cdd-7801-42fc-ec84-8b12bef3cbe5"
      },
      "outputs": [
        {
          "data": {
            "text/plain": [
              "AcademicYear                  0\n",
              "Stu_deID                      0\n",
              "School_deID                   0\n",
              "GradeLevel                    0\n",
              "DOB                           0\n",
              "TestAge                       0\n",
              "StudentGender                 0\n",
              "StudentEthnicity              0\n",
              "Special_Education             0\n",
              "Homeless                      0\n",
              "SocioEconomically             0\n",
              "TestDayName                   0\n",
              "TestDate                      0\n",
              "OverallScore                  0\n",
              "OverallLevel                  0\n",
              "ExpectedAttendanceDays        0\n",
              "DaysAttended                  0\n",
              "AttendedPct                   0\n",
              "EnrolledPct                   0\n",
              "GradeEnrolledPct              0\n",
              "GradeAttendedPct              0\n",
              "TeacherGender                 0\n",
              "TeacherTotalYearsOfService    0\n",
              "TeacherEthnicity              0\n",
              "format_DOB                    0\n",
              "age                           0\n",
              "dtype: int64"
            ]
          },
          "execution_count": 55,
          "metadata": {},
          "output_type": "execute_result"
        }
      ],
      "source": [
        "df.isna().sum()"
      ]
    },
    {
      "cell_type": "code",
      "execution_count": 56,
      "metadata": {
        "id": "thNtrdPS5-Ce"
      },
      "outputs": [],
      "source": [
        "# omit records where scores are zero\n",
        "df = df.query(\"OverallScore != 0\")"
      ]
    },
    {
      "cell_type": "code",
      "execution_count": 57,
      "metadata": {
        "colab": {
          "base_uri": "https://localhost:8080/",
          "height": 331
        },
        "id": "Lbw6bsrb6Lo2",
        "outputId": "0a13b8f7-abc5-4506-bf15-3a98f8fc2a08"
      },
      "outputs": [
        {
          "data": {
            "text/html": [
              "<div>\n",
              "<style scoped>\n",
              "    .dataframe tbody tr th:only-of-type {\n",
              "        vertical-align: middle;\n",
              "    }\n",
              "\n",
              "    .dataframe tbody tr th {\n",
              "        vertical-align: top;\n",
              "    }\n",
              "\n",
              "    .dataframe thead tr th {\n",
              "        text-align: left;\n",
              "    }\n",
              "\n",
              "    .dataframe thead tr:last-of-type th {\n",
              "        text-align: right;\n",
              "    }\n",
              "</style>\n",
              "<table border=\"1\" class=\"dataframe\">\n",
              "  <thead>\n",
              "    <tr>\n",
              "      <th></th>\n",
              "      <th colspan=\"2\" halign=\"left\">OverallScore</th>\n",
              "    </tr>\n",
              "    <tr>\n",
              "      <th></th>\n",
              "      <th>min</th>\n",
              "      <th>max</th>\n",
              "    </tr>\n",
              "    <tr>\n",
              "      <th>GradeLevel</th>\n",
              "      <th></th>\n",
              "      <th></th>\n",
              "    </tr>\n",
              "  </thead>\n",
              "  <tbody>\n",
              "    <tr>\n",
              "      <th>0</th>\n",
              "      <td>1150</td>\n",
              "      <td>1700</td>\n",
              "    </tr>\n",
              "    <tr>\n",
              "      <th>1</th>\n",
              "      <td>1150</td>\n",
              "      <td>1627</td>\n",
              "    </tr>\n",
              "    <tr>\n",
              "      <th>2</th>\n",
              "      <td>1150</td>\n",
              "      <td>1700</td>\n",
              "    </tr>\n",
              "    <tr>\n",
              "      <th>3</th>\n",
              "      <td>1150</td>\n",
              "      <td>1672</td>\n",
              "    </tr>\n",
              "    <tr>\n",
              "      <th>4</th>\n",
              "      <td>1150</td>\n",
              "      <td>1731</td>\n",
              "    </tr>\n",
              "    <tr>\n",
              "      <th>5</th>\n",
              "      <td>1150</td>\n",
              "      <td>1731</td>\n",
              "    </tr>\n",
              "    <tr>\n",
              "      <th>6</th>\n",
              "      <td>1150</td>\n",
              "      <td>1729</td>\n",
              "    </tr>\n",
              "  </tbody>\n",
              "</table>\n",
              "</div>"
            ],
            "text/plain": [
              "           OverallScore      \n",
              "                    min   max\n",
              "GradeLevel                   \n",
              "0                  1150  1700\n",
              "1                  1150  1627\n",
              "2                  1150  1700\n",
              "3                  1150  1672\n",
              "4                  1150  1731\n",
              "5                  1150  1731\n",
              "6                  1150  1729"
            ]
          },
          "execution_count": 57,
          "metadata": {},
          "output_type": "execute_result"
        }
      ],
      "source": [
        "df.groupby('GradeLevel').agg({'OverallScore': ['min', 'max']})\n"
      ]
    },
    {
      "cell_type": "code",
      "execution_count": 58,
      "metadata": {
        "colab": {
          "base_uri": "https://localhost:8080/",
          "height": 269
        },
        "id": "DGwkIcYC6Qfk",
        "outputId": "beed7034-48d8-4ad6-fdc9-3f10b3b06508"
      },
      "outputs": [
        {
          "data": {
            "text/html": [
              "<div>\n",
              "<style scoped>\n",
              "    .dataframe tbody tr th:only-of-type {\n",
              "        vertical-align: middle;\n",
              "    }\n",
              "\n",
              "    .dataframe tbody tr th {\n",
              "        vertical-align: top;\n",
              "    }\n",
              "\n",
              "    .dataframe thead th {\n",
              "        text-align: right;\n",
              "    }\n",
              "</style>\n",
              "<table border=\"1\" class=\"dataframe\">\n",
              "  <thead>\n",
              "    <tr style=\"text-align: right;\">\n",
              "      <th></th>\n",
              "      <th>GradeLevel</th>\n",
              "      <th>OverallScoreMin</th>\n",
              "      <th>OverallScoreMax</th>\n",
              "    </tr>\n",
              "  </thead>\n",
              "  <tbody>\n",
              "    <tr>\n",
              "      <th>0</th>\n",
              "      <td>0</td>\n",
              "      <td>1150.0</td>\n",
              "      <td>1700.0</td>\n",
              "    </tr>\n",
              "    <tr>\n",
              "      <th>1</th>\n",
              "      <td>1</td>\n",
              "      <td>1150.0</td>\n",
              "      <td>1627.0</td>\n",
              "    </tr>\n",
              "    <tr>\n",
              "      <th>2</th>\n",
              "      <td>2</td>\n",
              "      <td>1150.0</td>\n",
              "      <td>1700.0</td>\n",
              "    </tr>\n",
              "    <tr>\n",
              "      <th>3</th>\n",
              "      <td>3</td>\n",
              "      <td>1150.0</td>\n",
              "      <td>1672.0</td>\n",
              "    </tr>\n",
              "    <tr>\n",
              "      <th>4</th>\n",
              "      <td>4</td>\n",
              "      <td>1150.0</td>\n",
              "      <td>1731.0</td>\n",
              "    </tr>\n",
              "    <tr>\n",
              "      <th>5</th>\n",
              "      <td>5</td>\n",
              "      <td>1150.0</td>\n",
              "      <td>1731.0</td>\n",
              "    </tr>\n",
              "    <tr>\n",
              "      <th>6</th>\n",
              "      <td>6</td>\n",
              "      <td>1150.0</td>\n",
              "      <td>1729.0</td>\n",
              "    </tr>\n",
              "  </tbody>\n",
              "</table>\n",
              "</div>"
            ],
            "text/plain": [
              "   GradeLevel  OverallScoreMin  OverallScoreMax\n",
              "0           0           1150.0           1700.0\n",
              "1           1           1150.0           1627.0\n",
              "2           2           1150.0           1700.0\n",
              "3           3           1150.0           1672.0\n",
              "4           4           1150.0           1731.0\n",
              "5           5           1150.0           1731.0\n",
              "6           6           1150.0           1729.0"
            ]
          },
          "execution_count": 58,
          "metadata": {},
          "output_type": "execute_result"
        }
      ],
      "source": [
        "# to Standardize OverallScore values, as the ranges are different between grade levels\n",
        "grdLevel_describe = []\n",
        "\n",
        "for g in range(len(pd.DataFrame(df.GradeLevel.unique()))):\n",
        "\n",
        "    grdLevel_describe.append({'GradeLevel': g,\n",
        "                             'OverallScoreMin': pd.DataFrame(df.query(\"GradeLevel == @g\").OverallScore.describe().to_list()).iloc[3].values[0],\n",
        "                             'OverallScoreMax': pd.DataFrame(df.query(\"GradeLevel == @g\").OverallScore.describe().to_list()).iloc[7].values[0]})   \n",
        "\n",
        "pd.DataFrame(grdLevel_describe) "
      ]
    },
    {
      "cell_type": "code",
      "execution_count": 59,
      "metadata": {
        "id": "hg9LwNfY6TtL"
      },
      "outputs": [],
      "source": [
        "# Bring in min and max columns to df dataframe\n",
        "df = df.merge(pd.DataFrame(grdLevel_describe) , left_on=('GradeLevel'), right_on=('GradeLevel'))"
      ]
    },
    {
      "cell_type": "code",
      "execution_count": 60,
      "metadata": {
        "id": "kR1LCRuN6VuQ"
      },
      "outputs": [],
      "source": [
        "# Standardize Overall Score\n",
        "df['OverallScoreStd'] = (df.OverallScore - df.OverallScoreMin) / (df.OverallScoreMax - df.OverallScoreMin)"
      ]
    },
    {
      "cell_type": "code",
      "execution_count": 61,
      "metadata": {
        "colab": {
          "base_uri": "https://localhost:8080/",
          "height": 386
        },
        "id": "8-qWvVAw8EpW",
        "outputId": "7662cdbf-007e-4261-8cc9-88a60c9e65da"
      },
      "outputs": [
        {
          "data": {
            "text/html": [
              "<div>\n",
              "<style scoped>\n",
              "    .dataframe tbody tr th:only-of-type {\n",
              "        vertical-align: middle;\n",
              "    }\n",
              "\n",
              "    .dataframe tbody tr th {\n",
              "        vertical-align: top;\n",
              "    }\n",
              "\n",
              "    .dataframe thead th {\n",
              "        text-align: right;\n",
              "    }\n",
              "</style>\n",
              "<table border=\"1\" class=\"dataframe\">\n",
              "  <thead>\n",
              "    <tr style=\"text-align: right;\">\n",
              "      <th></th>\n",
              "      <th>AcademicYear</th>\n",
              "      <th>Stu_deID</th>\n",
              "      <th>School_deID</th>\n",
              "      <th>GradeLevel</th>\n",
              "      <th>DOB</th>\n",
              "      <th>TestAge</th>\n",
              "      <th>StudentGender</th>\n",
              "      <th>StudentEthnicity</th>\n",
              "      <th>Special_Education</th>\n",
              "      <th>Homeless</th>\n",
              "      <th>...</th>\n",
              "      <th>AttendedPct</th>\n",
              "      <th>EnrolledPct</th>\n",
              "      <th>GradeEnrolledPct</th>\n",
              "      <th>GradeAttendedPct</th>\n",
              "      <th>TeacherGender</th>\n",
              "      <th>TeacherTotalYearsOfService</th>\n",
              "      <th>TeacherEthnicity</th>\n",
              "      <th>format_DOB</th>\n",
              "      <th>age</th>\n",
              "      <th>OverallScoreStd</th>\n",
              "    </tr>\n",
              "  </thead>\n",
              "  <tbody>\n",
              "    <tr>\n",
              "      <th>0</th>\n",
              "      <td>2017-2018</td>\n",
              "      <td>0</td>\n",
              "      <td>3</td>\n",
              "      <td>1</td>\n",
              "      <td>2011-07-04</td>\n",
              "      <td>6.828340</td>\n",
              "      <td>F</td>\n",
              "      <td>Hispanic</td>\n",
              "      <td>N</td>\n",
              "      <td>Y</td>\n",
              "      <td>...</td>\n",
              "      <td>0.972222</td>\n",
              "      <td>1.0</td>\n",
              "      <td>1.999999</td>\n",
              "      <td>1.972222</td>\n",
              "      <td>F</td>\n",
              "      <td>4</td>\n",
              "      <td>Hispanic</td>\n",
              "      <td>2011-07-04</td>\n",
              "      <td>11</td>\n",
              "      <td>0.740042</td>\n",
              "    </tr>\n",
              "    <tr>\n",
              "      <th>1</th>\n",
              "      <td>2017-2018</td>\n",
              "      <td>11</td>\n",
              "      <td>3</td>\n",
              "      <td>1</td>\n",
              "      <td>2010-12-06</td>\n",
              "      <td>7.416990</td>\n",
              "      <td>F</td>\n",
              "      <td>Hispanic</td>\n",
              "      <td>N</td>\n",
              "      <td>N</td>\n",
              "      <td>...</td>\n",
              "      <td>0.861111</td>\n",
              "      <td>1.0</td>\n",
              "      <td>1.999999</td>\n",
              "      <td>1.861111</td>\n",
              "      <td>F</td>\n",
              "      <td>3</td>\n",
              "      <td>White</td>\n",
              "      <td>2010-12-06</td>\n",
              "      <td>11</td>\n",
              "      <td>0.666667</td>\n",
              "    </tr>\n",
              "    <tr>\n",
              "      <th>2</th>\n",
              "      <td>2017-2018</td>\n",
              "      <td>15</td>\n",
              "      <td>9</td>\n",
              "      <td>1</td>\n",
              "      <td>2010-10-20</td>\n",
              "      <td>7.507341</td>\n",
              "      <td>M</td>\n",
              "      <td>Hispanic</td>\n",
              "      <td>Y</td>\n",
              "      <td>N</td>\n",
              "      <td>...</td>\n",
              "      <td>0.972222</td>\n",
              "      <td>1.0</td>\n",
              "      <td>1.999999</td>\n",
              "      <td>1.972222</td>\n",
              "      <td>F</td>\n",
              "      <td>1</td>\n",
              "      <td>Hispanic</td>\n",
              "      <td>2010-10-20</td>\n",
              "      <td>12</td>\n",
              "      <td>0.658281</td>\n",
              "    </tr>\n",
              "    <tr>\n",
              "      <th>3</th>\n",
              "      <td>2017-2018</td>\n",
              "      <td>20</td>\n",
              "      <td>7</td>\n",
              "      <td>1</td>\n",
              "      <td>2011-05-26</td>\n",
              "      <td>6.998090</td>\n",
              "      <td>M</td>\n",
              "      <td>Hispanic</td>\n",
              "      <td>N</td>\n",
              "      <td>N</td>\n",
              "      <td>...</td>\n",
              "      <td>0.833333</td>\n",
              "      <td>1.0</td>\n",
              "      <td>1.999999</td>\n",
              "      <td>1.833333</td>\n",
              "      <td>F</td>\n",
              "      <td>8</td>\n",
              "      <td>Hispanic</td>\n",
              "      <td>2011-05-26</td>\n",
              "      <td>11</td>\n",
              "      <td>0.584906</td>\n",
              "    </tr>\n",
              "    <tr>\n",
              "      <th>4</th>\n",
              "      <td>2017-2018</td>\n",
              "      <td>24</td>\n",
              "      <td>3</td>\n",
              "      <td>1</td>\n",
              "      <td>2010-09-14</td>\n",
              "      <td>7.688043</td>\n",
              "      <td>M</td>\n",
              "      <td>Hispanic</td>\n",
              "      <td>N</td>\n",
              "      <td>N</td>\n",
              "      <td>...</td>\n",
              "      <td>0.761111</td>\n",
              "      <td>1.0</td>\n",
              "      <td>1.999999</td>\n",
              "      <td>1.761111</td>\n",
              "      <td>F</td>\n",
              "      <td>4</td>\n",
              "      <td>Hispanic</td>\n",
              "      <td>2010-09-14</td>\n",
              "      <td>12</td>\n",
              "      <td>0.616352</td>\n",
              "    </tr>\n",
              "  </tbody>\n",
              "</table>\n",
              "<p>5 rows × 26 columns</p>\n",
              "</div>"
            ],
            "text/plain": [
              "  AcademicYear  Stu_deID  School_deID  GradeLevel         DOB   TestAge  \\\n",
              "0    2017-2018         0            3           1  2011-07-04  6.828340   \n",
              "1    2017-2018        11            3           1  2010-12-06  7.416990   \n",
              "2    2017-2018        15            9           1  2010-10-20  7.507341   \n",
              "3    2017-2018        20            7           1  2011-05-26  6.998090   \n",
              "4    2017-2018        24            3           1  2010-09-14  7.688043   \n",
              "\n",
              "  StudentGender StudentEthnicity Special_Education Homeless  ... AttendedPct  \\\n",
              "0             F         Hispanic                 N        Y  ...    0.972222   \n",
              "1             F         Hispanic                 N        N  ...    0.861111   \n",
              "2             M         Hispanic                 Y        N  ...    0.972222   \n",
              "3             M         Hispanic                 N        N  ...    0.833333   \n",
              "4             M         Hispanic                 N        N  ...    0.761111   \n",
              "\n",
              "  EnrolledPct GradeEnrolledPct  GradeAttendedPct  TeacherGender  \\\n",
              "0         1.0         1.999999          1.972222              F   \n",
              "1         1.0         1.999999          1.861111              F   \n",
              "2         1.0         1.999999          1.972222              F   \n",
              "3         1.0         1.999999          1.833333              F   \n",
              "4         1.0         1.999999          1.761111              F   \n",
              "\n",
              "   TeacherTotalYearsOfService  TeacherEthnicity  format_DOB  age  \\\n",
              "0                           4          Hispanic  2011-07-04   11   \n",
              "1                           3             White  2010-12-06   11   \n",
              "2                           1          Hispanic  2010-10-20   12   \n",
              "3                           8          Hispanic  2011-05-26   11   \n",
              "4                           4          Hispanic  2010-09-14   12   \n",
              "\n",
              "   OverallScoreStd  \n",
              "0         0.740042  \n",
              "1         0.666667  \n",
              "2         0.658281  \n",
              "3         0.584906  \n",
              "4         0.616352  \n",
              "\n",
              "[5 rows x 26 columns]"
            ]
          },
          "execution_count": 61,
          "metadata": {},
          "output_type": "execute_result"
        }
      ],
      "source": [
        "df = df.drop(columns = ['OverallScoreMin', 'OverallScoreMax','OverallScore'])\n",
        "df.head()"
      ]
    },
    {
      "cell_type": "markdown",
      "metadata": {
        "id": "a-l7qYJrPzGI"
      },
      "source": [
        "##**DATA VISUALIZATION**"
      ]
    },
    {
      "cell_type": "markdown",
      "metadata": {
        "id": "xLhRiaQHVBwr"
      },
      "source": [
        "####**DISTRIBUTION PLOTS OF CATEGORICAL VARIABLES**"
      ]
    },
    {
      "cell_type": "code",
      "execution_count": 62,
      "metadata": {
        "id": "FU8b9HpvwG-y"
      },
      "outputs": [],
      "source": [
        "#Split numerical and categorical dataframes for visualization purpose\n",
        "\n",
        "#for num_df, only extract the useful columns and drop the columns such as 'Stu_deID'\n",
        "\n",
        "num_df = df[['School_deID','GradeLevel','TestAge','OverallLevel','ExpectedAttendanceDays','DaysAttended',\n",
        "           'AttendedPct', 'EnrolledPct' ,'GradeEnrolledPct', 'GradeAttendedPct','TeacherTotalYearsOfService','format_DOB','age',\n",
        "           'OverallScoreStd']]\n",
        "\n",
        "#for cat_df, keep only the suitable features for visualization \n",
        "cat_df = df[['AcademicYear','StudentGender','StudentEthnicity','Special_Education','Homeless','SocioEconomically','TestDayName',\n",
        "           'TeacherGender','TeacherEthnicity']]"
      ]
    },
    {
      "cell_type": "code",
      "execution_count": 63,
      "metadata": {
        "colab": {
          "base_uri": "https://localhost:8080/",
          "height": 270
        },
        "id": "fMnS15rnVp1T",
        "outputId": "bec946fe-d296-4ba0-a821-8feb5c997181"
      },
      "outputs": [
        {
          "data": {
            "text/html": [
              "<div>\n",
              "<style scoped>\n",
              "    .dataframe tbody tr th:only-of-type {\n",
              "        vertical-align: middle;\n",
              "    }\n",
              "\n",
              "    .dataframe tbody tr th {\n",
              "        vertical-align: top;\n",
              "    }\n",
              "\n",
              "    .dataframe thead th {\n",
              "        text-align: right;\n",
              "    }\n",
              "</style>\n",
              "<table border=\"1\" class=\"dataframe\">\n",
              "  <thead>\n",
              "    <tr style=\"text-align: right;\">\n",
              "      <th></th>\n",
              "      <th>School_deID</th>\n",
              "      <th>GradeLevel</th>\n",
              "      <th>TestAge</th>\n",
              "      <th>OverallLevel</th>\n",
              "      <th>ExpectedAttendanceDays</th>\n",
              "      <th>DaysAttended</th>\n",
              "      <th>AttendedPct</th>\n",
              "      <th>EnrolledPct</th>\n",
              "      <th>GradeEnrolledPct</th>\n",
              "      <th>GradeAttendedPct</th>\n",
              "      <th>TeacherTotalYearsOfService</th>\n",
              "      <th>format_DOB</th>\n",
              "      <th>age</th>\n",
              "      <th>OverallScoreStd</th>\n",
              "    </tr>\n",
              "  </thead>\n",
              "  <tbody>\n",
              "    <tr>\n",
              "      <th>0</th>\n",
              "      <td>3</td>\n",
              "      <td>1</td>\n",
              "      <td>6.828340</td>\n",
              "      <td>4</td>\n",
              "      <td>180.0</td>\n",
              "      <td>175.0</td>\n",
              "      <td>0.972222</td>\n",
              "      <td>1.0</td>\n",
              "      <td>1.999999</td>\n",
              "      <td>1.972222</td>\n",
              "      <td>4</td>\n",
              "      <td>2011-07-04</td>\n",
              "      <td>11</td>\n",
              "      <td>0.740042</td>\n",
              "    </tr>\n",
              "    <tr>\n",
              "      <th>1</th>\n",
              "      <td>3</td>\n",
              "      <td>1</td>\n",
              "      <td>7.416990</td>\n",
              "      <td>4</td>\n",
              "      <td>180.0</td>\n",
              "      <td>155.0</td>\n",
              "      <td>0.861111</td>\n",
              "      <td>1.0</td>\n",
              "      <td>1.999999</td>\n",
              "      <td>1.861111</td>\n",
              "      <td>3</td>\n",
              "      <td>2010-12-06</td>\n",
              "      <td>11</td>\n",
              "      <td>0.666667</td>\n",
              "    </tr>\n",
              "    <tr>\n",
              "      <th>2</th>\n",
              "      <td>9</td>\n",
              "      <td>1</td>\n",
              "      <td>7.507341</td>\n",
              "      <td>3</td>\n",
              "      <td>180.0</td>\n",
              "      <td>175.0</td>\n",
              "      <td>0.972222</td>\n",
              "      <td>1.0</td>\n",
              "      <td>1.999999</td>\n",
              "      <td>1.972222</td>\n",
              "      <td>1</td>\n",
              "      <td>2010-10-20</td>\n",
              "      <td>12</td>\n",
              "      <td>0.658281</td>\n",
              "    </tr>\n",
              "    <tr>\n",
              "      <th>3</th>\n",
              "      <td>7</td>\n",
              "      <td>1</td>\n",
              "      <td>6.998090</td>\n",
              "      <td>2</td>\n",
              "      <td>180.0</td>\n",
              "      <td>150.0</td>\n",
              "      <td>0.833333</td>\n",
              "      <td>1.0</td>\n",
              "      <td>1.999999</td>\n",
              "      <td>1.833333</td>\n",
              "      <td>8</td>\n",
              "      <td>2011-05-26</td>\n",
              "      <td>11</td>\n",
              "      <td>0.584906</td>\n",
              "    </tr>\n",
              "    <tr>\n",
              "      <th>4</th>\n",
              "      <td>3</td>\n",
              "      <td>1</td>\n",
              "      <td>7.688043</td>\n",
              "      <td>3</td>\n",
              "      <td>180.0</td>\n",
              "      <td>137.0</td>\n",
              "      <td>0.761111</td>\n",
              "      <td>1.0</td>\n",
              "      <td>1.999999</td>\n",
              "      <td>1.761111</td>\n",
              "      <td>4</td>\n",
              "      <td>2010-09-14</td>\n",
              "      <td>12</td>\n",
              "      <td>0.616352</td>\n",
              "    </tr>\n",
              "  </tbody>\n",
              "</table>\n",
              "</div>"
            ],
            "text/plain": [
              "   School_deID  GradeLevel   TestAge  OverallLevel  ExpectedAttendanceDays  \\\n",
              "0            3           1  6.828340             4                   180.0   \n",
              "1            3           1  7.416990             4                   180.0   \n",
              "2            9           1  7.507341             3                   180.0   \n",
              "3            7           1  6.998090             2                   180.0   \n",
              "4            3           1  7.688043             3                   180.0   \n",
              "\n",
              "   DaysAttended  AttendedPct  EnrolledPct  GradeEnrolledPct  GradeAttendedPct  \\\n",
              "0         175.0     0.972222          1.0          1.999999          1.972222   \n",
              "1         155.0     0.861111          1.0          1.999999          1.861111   \n",
              "2         175.0     0.972222          1.0          1.999999          1.972222   \n",
              "3         150.0     0.833333          1.0          1.999999          1.833333   \n",
              "4         137.0     0.761111          1.0          1.999999          1.761111   \n",
              "\n",
              "   TeacherTotalYearsOfService format_DOB  age  OverallScoreStd  \n",
              "0                           4 2011-07-04   11         0.740042  \n",
              "1                           3 2010-12-06   11         0.666667  \n",
              "2                           1 2010-10-20   12         0.658281  \n",
              "3                           8 2011-05-26   11         0.584906  \n",
              "4                           4 2010-09-14   12         0.616352  "
            ]
          },
          "execution_count": 63,
          "metadata": {},
          "output_type": "execute_result"
        }
      ],
      "source": [
        "num_df.head()"
      ]
    },
    {
      "cell_type": "code",
      "execution_count": 64,
      "metadata": {
        "colab": {
          "base_uri": "https://localhost:8080/",
          "height": 1000
        },
        "id": "gyQYx4wPF95p",
        "outputId": "f0078840-8772-4a5f-821b-38a4584c95c6"
      },
      "outputs": [
        {
          "data": {
            "image/png": "[encoded data removed]",
            "text/plain": [
              "<Figure size 864x1152 with 9 Axes>"
            ]
          },
          "metadata": {
            "needs_background": "light"
          },
          "output_type": "display_data"
        }
      ],
      "source": [
        "\n",
        "fig , ax = plt.subplots(3,3, figsize = (12,16))     # set up 2 x 2 frame count plot with figsize 10 x 10\n",
        "fig.suptitle(\"Distribution of Categorical Features\", fontsize=18)\n",
        "\n",
        "for i , subplots in zip (cat_df, ax.flatten()):\n",
        "  g = sns.countplot(cat_df[i],hue = df['OverallLevel'],ax = subplots, palette = 'CMRmap_r')\n",
        "  g.set_xticklabels(labels=cat_df[i].unique(), rotation= 65)\n",
        "\n",
        "\n",
        "fig.tight_layout(pad= 5.0)\n",
        "plt.legend(loc = 'upper right')\n",
        "plt.show()"
      ]
    },
    {
      "cell_type": "markdown",
      "metadata": {
        "id": "VzoNfeGW9Zrq"
      },
      "source": [
        "####**From the categorical distribution plots, it's noted that**\n",
        "\n",
        "1.  Similar counts between academic_year, student's gender (except X unique value). \n",
        "\n",
        "2.  Less counts of students with required special education, homeless, non-socioeconomically. \n",
        "\n",
        "3.  Majority of students are Hispanic. \n",
        "\n",
        "4.  Majority of test days are from Monday through Friday.  \n",
        "\n",
        "5.  Most teachers are females.  Most teachers are Hispanic. \n",
        "\n",
        "6.  Unique value X in 'StudentGender' will be replaced with the mode. \n",
        "\n",
        "7. Students in special education scores fell in levels 1 and 2"
      ]
    },
    {
      "cell_type": "markdown",
      "metadata": {
        "id": "Fwv1pak1VKHL"
      },
      "source": [
        "####**DISTRIBUTION PLOTS OF NUMERICAL VARIABLES**"
      ]
    },
    {
      "cell_type": "code",
      "execution_count": 84,
      "metadata": {
        "colab": {
          "base_uri": "https://localhost:8080/",
          "height": 1000
        },
        "id": "-64jwkZ_e-G_",
        "outputId": "2295e026-7cdd-4b44-da24-17928e50e206"
      },
      "outputs": [
        {
          "name": "stderr",
          "output_type": "stream",
          "text": [
            "No handles with labels found to put in legend.\n",
            "No handles with labels found to put in legend.\n",
            "No handles with labels found to put in legend.\n",
            "No handles with labels found to put in legend.\n",
            "No handles with labels found to put in legend.\n",
            "No handles with labels found to put in legend.\n",
            "No handles with labels found to put in legend.\n",
            "No handles with labels found to put in legend.\n",
            "No handles with labels found to put in legend.\n",
            "No handles with labels found to put in legend.\n",
            "No handles with labels found to put in legend.\n",
            "No handles with labels found to put in legend.\n",
            "No handles with labels found to put in legend.\n",
            "No handles with labels found to put in legend.\n"
          ]
        },
        {
          "data": {
            "image/png": "[encoded data removed]",
            "text/plain": [
              "<Figure size 1152x1152 with 14 Axes>"
            ]
          },
          "metadata": {
            "needs_background": "light"
          },
          "output_type": "display_data"
        }
      ],
      "source": [
        "fig , ax = plt.subplots(3,3, figsize = (16,16))     \n",
        "fig.suptitle(\"Distribution of Numerical Features\", fontsize=18)\n",
        "\n",
        "for i, column in enumerate(num_df, 1):\n",
        "    plt.subplot(4, 4, i)\n",
        "    sns.distplot(x=num_df[column], color = 'blue') \n",
        "    plt.legend() \n",
        "    plt.xlabel(column)\n",
        "    fig.tight_layout(pad=4.0)"
      ]
    },
    {
      "cell_type": "markdown",
      "metadata": {
        "id": "GC9jFko5vLlk"
      },
      "source": [
        "####**From the numerical histograms, it's noted that**\n",
        "\n",
        "1. Normal distributions are observed for TestAge and age\n",
        "\n",
        "2.  OverallScore, ExpectedAttendanceDays, DaysAttended, AttendedPct, EnrolledPct are left skewed meaning most student's attendance are higher. \n",
        "\n",
        "3.  TeacherTotalYearsofService are slighly right skewed meaning junior level teachers outweigh the experienced senior teachers.   \n",
        "\n",
        "3.  Zero values in 'OverallScore'. \n",
        "\n"
      ]
    },
    {
      "cell_type": "markdown",
      "metadata": {
        "id": "td4WO3v7T97J"
      },
      "source": [
        "####**CORRELATION PLOT**"
      ]
    },
    {
      "cell_type": "code",
      "execution_count": 85,
      "metadata": {
        "colab": {
          "base_uri": "https://localhost:8080/",
          "height": 739
        },
        "id": "lx9gQtP3g1Jb",
        "outputId": "b5cfcdb2-45f5-4113-8895-0b553859101c"
      },
      "outputs": [
        {
          "data": {
            "text/plain": [
              "<AxesSubplot:>"
            ]
          },
          "execution_count": 85,
          "metadata": {},
          "output_type": "execute_result"
        },
        {
          "data": {
            "image/png": "[encoded data removed]",
            "text/plain": [
              "<Figure size 720x720 with 2 Axes>"
            ]
          },
          "metadata": {
            "needs_background": "light"
          },
          "output_type": "display_data"
        }
      ],
      "source": [
        "corr = df.corr()\n",
        "kot = corr[corr>=.7]  #filter correlation pairs higher than 0.9\n",
        "fig, ax = plt.subplots()\n",
        "fig.set_size_inches(10,10)\n",
        "sns.heatmap(kot, annot=True, cmap=\"RdPu\", center=0, ax=ax)"
      ]
    },
    {
      "cell_type": "markdown",
      "metadata": {
        "id": "EZJA7HWQkSs4"
      },
      "source": [
        "####**Highly correlated features are**\n",
        "\n",
        "\n",
        "\n",
        "1.   GradeLevel & TestAge\n",
        "2.   OverallScore & OverallLevel\n",
        "3.   GradeEnrolledPct & GradeAttendedPct\n",
        "4.   DaysAttended & AttendedPct\n",
        "\n",
        "\n",
        "\n"
      ]
    },
    {
      "cell_type": "markdown",
      "metadata": {
        "id": "8Vc5i_9suJuq"
      },
      "source": [
        "###**DISTRIBUTION OF TARGET CLASSES: OVERALL LEVEL**"
      ]
    },
    {
      "cell_type": "code",
      "execution_count": 86,
      "metadata": {
        "colab": {
          "base_uri": "https://localhost:8080/",
          "height": 296
        },
        "id": "ETln82geuITg",
        "outputId": "bd7ba78f-58e4-4f6e-c73f-8e3b0a946a7a"
      },
      "outputs": [
        {
          "data": {
            "text/plain": [
              "<AxesSubplot:xlabel='OverallLevel', ylabel='count'>"
            ]
          },
          "execution_count": 86,
          "metadata": {},
          "output_type": "execute_result"
        },
        {
          "data": {
            "image/png": "[encoded data removed]",
            "text/plain": [
              "<Figure size 432x288 with 1 Axes>"
            ]
          },
          "metadata": {
            "needs_background": "light"
          },
          "output_type": "display_data"
        }
      ],
      "source": [
        "fig_szie=(12,8)\n",
        "sns.countplot(df['OverallLevel'], data = df, palette = 'rainbow_r')"
      ]
    },
    {
      "cell_type": "markdown",
      "metadata": {
        "id": "0Wf0Qk-zwEfX"
      },
      "source": [
        "###A slight class-imbalance was observed among the scores.  \n",
        "\n",
        "1.  Downsampling will be performed for level 2 and 3 as reference to level 4 count. \n",
        "\n",
        "2. Balanced dataset will be trained with models to see the accuracy performance. "
      ]
    },
    {
      "cell_type": "code",
      "execution_count": 87,
      "metadata": {
        "id": "BOJyJNBF87m4"
      },
      "outputs": [],
      "source": [
        "#downsamples level 2 and 3 as reference to level 4\n",
        "\n",
        "lev_0 = df[df['OverallLevel'] == 0]\n",
        "lev_1 = df[df['OverallLevel'] == 1]\n",
        "lev_2 = df[df['OverallLevel'] == 2]\n",
        "lev_3 = df[df['OverallLevel'] == 3]\n",
        "lev_4 = df[df['OverallLevel'] == 4]\n"
      ]
    },
    {
      "cell_type": "code",
      "execution_count": 88,
      "metadata": {
        "id": "AYapJKKE-cPr"
      },
      "outputs": [],
      "source": [
        "from sklearn.utils import resample\n",
        "\n",
        "lev1_upsample = resample(lev_1,replace=True,n_samples=len(lev_3),random_state=42)\n",
        "lev2_upsample = resample(lev_2,replace=True,n_samples=len(lev_3),random_state=42)\n",
        "lev4_upsample = resample(lev_4,replace=True,n_samples=len(lev_3),random_state=42)\n"
      ]
    },
    {
      "cell_type": "code",
      "execution_count": 89,
      "metadata": {
        "colab": {
          "base_uri": "https://localhost:8080/"
        },
        "id": "39oVrn75-zWq",
        "outputId": "ac15475e-564d-4793-9083-a96ba9dd9f92"
      },
      "outputs": [
        {
          "data": {
            "text/plain": [
              "(13724, 26)"
            ]
          },
          "execution_count": 89,
          "metadata": {},
          "output_type": "execute_result"
        }
      ],
      "source": [
        "#create a new dataframe with balanced datasets\n",
        "\n",
        "frames = (lev1_upsample, lev2_upsample, lev_3, lev4_upsample)\n",
        "df1 = pd.concat(frames)\n",
        "df1.shape"
      ]
    },
    {
      "cell_type": "code",
      "execution_count": 90,
      "metadata": {
        "colab": {
          "base_uri": "https://localhost:8080/",
          "height": 296
        },
        "id": "smdonkm4_G4T",
        "outputId": "9f78fb66-f286-47b6-dba2-102e148990a6"
      },
      "outputs": [
        {
          "data": {
            "text/plain": [
              "<AxesSubplot:xlabel='OverallLevel', ylabel='count'>"
            ]
          },
          "execution_count": 90,
          "metadata": {},
          "output_type": "execute_result"
        },
        {
          "data": {
            "image/png": "[encoded data removed]",
            "text/plain": [
              "<Figure size 432x288 with 1 Axes>"
            ]
          },
          "metadata": {
            "needs_background": "light"
          },
          "output_type": "display_data"
        }
      ],
      "source": [
        "fig_szie=(12,8)\n",
        "sns.countplot(df1['OverallLevel'], data = df1, palette = 'rainbow_r')"
      ]
    },
    {
      "cell_type": "markdown",
      "metadata": {
        "id": "f7fLXl_mLMi6"
      },
      "source": [
        "###**According to the data visualization plots, here are the steps for feature engineering.**\n",
        "\n",
        "1.  GradeEnrolledPct, AttendedPct will be dropped from the data frame to avoid multicollinearity. \n",
        "\n",
        "2.  TestAge is the student's age on the date of the ELPAC test. For example, for record #1, the student was born on 7/4/2011 and student is 11 year old. TestAge of the student is 6.828340. Since GradeLevel and TestAge are highly correlated and age column was also populated, it's safe to drop the TestAge to avoid multicollinearity.  \n",
        "\n",
        "3.  OverallScore will also be dropped since it wil be unknown in classifying/predicting the ELPAC scores in the real life application.\n",
        "\n",
        "4.  Other insignificant columns such as 'AcademicYear', 'Stu_deID', 'DOB', 'format_DOB', 'TestDate' will also be dropped. \n",
        "\n",
        "5.  Dataset will be split into Train and test dataset. \n",
        "\n",
        "6.  Unique value X in 'StudentGender', Nan in 'TestDayName' will be replaced with the mode of each feature column for each train and test data set to avoid data leakage. \n",
        "\n",
        "7.  Label-encoding will be performed for categorical variables. \n"
      ]
    },
    {
      "cell_type": "code",
      "execution_count": 72,
      "metadata": {
        "id": "rfTYpIlIlwXt"
      },
      "outputs": [],
      "source": [
        "new_df = df1.drop(columns = ['AcademicYear','Stu_deID','DOB','TestAge','GradeEnrolledPct',\n",
        "                             'AttendedPct','format_DOB','TestDate'])"
      ]
    },
    {
      "cell_type": "code",
      "execution_count": 91,
      "metadata": {
        "colab": {
          "base_uri": "https://localhost:8080/",
          "height": 270
        },
        "id": "dCrzW-zVnX33",
        "outputId": "0822b00d-0678-484a-ef3f-76f3ef5c4c20"
      },
      "outputs": [
        {
          "data": {
            "text/html": [
              "<div>\n",
              "<style scoped>\n",
              "    .dataframe tbody tr th:only-of-type {\n",
              "        vertical-align: middle;\n",
              "    }\n",
              "\n",
              "    .dataframe tbody tr th {\n",
              "        vertical-align: top;\n",
              "    }\n",
              "\n",
              "    .dataframe thead th {\n",
              "        text-align: right;\n",
              "    }\n",
              "</style>\n",
              "<table border=\"1\" class=\"dataframe\">\n",
              "  <thead>\n",
              "    <tr style=\"text-align: right;\">\n",
              "      <th></th>\n",
              "      <th>School_deID</th>\n",
              "      <th>GradeLevel</th>\n",
              "      <th>StudentGender</th>\n",
              "      <th>StudentEthnicity</th>\n",
              "      <th>Special_Education</th>\n",
              "      <th>Homeless</th>\n",
              "      <th>SocioEconomically</th>\n",
              "      <th>TestDayName</th>\n",
              "      <th>OverallLevel</th>\n",
              "      <th>ExpectedAttendanceDays</th>\n",
              "      <th>DaysAttended</th>\n",
              "      <th>EnrolledPct</th>\n",
              "      <th>GradeAttendedPct</th>\n",
              "      <th>TeacherGender</th>\n",
              "      <th>TeacherTotalYearsOfService</th>\n",
              "      <th>TeacherEthnicity</th>\n",
              "      <th>age</th>\n",
              "      <th>OverallScoreStd</th>\n",
              "    </tr>\n",
              "  </thead>\n",
              "  <tbody>\n",
              "    <tr>\n",
              "      <th>6512</th>\n",
              "      <td>7</td>\n",
              "      <td>3</td>\n",
              "      <td>F</td>\n",
              "      <td>Hispanic</td>\n",
              "      <td>N</td>\n",
              "      <td>N</td>\n",
              "      <td>N</td>\n",
              "      <td>Wednesday</td>\n",
              "      <td>1</td>\n",
              "      <td>180.0</td>\n",
              "      <td>179.0</td>\n",
              "      <td>1.000000</td>\n",
              "      <td>3.994444</td>\n",
              "      <td>F</td>\n",
              "      <td>4</td>\n",
              "      <td>Asian</td>\n",
              "      <td>12</td>\n",
              "      <td>0.494253</td>\n",
              "    </tr>\n",
              "    <tr>\n",
              "      <th>7808</th>\n",
              "      <td>1</td>\n",
              "      <td>6</td>\n",
              "      <td>M</td>\n",
              "      <td>Hispanic</td>\n",
              "      <td>N</td>\n",
              "      <td>N</td>\n",
              "      <td>Y</td>\n",
              "      <td>Wednesday</td>\n",
              "      <td>1</td>\n",
              "      <td>180.0</td>\n",
              "      <td>178.0</td>\n",
              "      <td>1.000000</td>\n",
              "      <td>6.988889</td>\n",
              "      <td>F</td>\n",
              "      <td>7</td>\n",
              "      <td>Asian</td>\n",
              "      <td>14</td>\n",
              "      <td>0.516408</td>\n",
              "    </tr>\n",
              "    <tr>\n",
              "      <th>5477</th>\n",
              "      <td>7</td>\n",
              "      <td>2</td>\n",
              "      <td>M</td>\n",
              "      <td>Hispanic</td>\n",
              "      <td>N</td>\n",
              "      <td>N</td>\n",
              "      <td>Y</td>\n",
              "      <td>Friday</td>\n",
              "      <td>1</td>\n",
              "      <td>170.0</td>\n",
              "      <td>160.0</td>\n",
              "      <td>0.944444</td>\n",
              "      <td>2.941176</td>\n",
              "      <td>F</td>\n",
              "      <td>26</td>\n",
              "      <td>Hispanic</td>\n",
              "      <td>8</td>\n",
              "      <td>0.494545</td>\n",
              "    </tr>\n",
              "    <tr>\n",
              "      <th>7389</th>\n",
              "      <td>2</td>\n",
              "      <td>6</td>\n",
              "      <td>M</td>\n",
              "      <td>Hispanic</td>\n",
              "      <td>Y</td>\n",
              "      <td>N</td>\n",
              "      <td>Y</td>\n",
              "      <td>Tuesday</td>\n",
              "      <td>1</td>\n",
              "      <td>180.0</td>\n",
              "      <td>172.0</td>\n",
              "      <td>1.000000</td>\n",
              "      <td>6.955556</td>\n",
              "      <td>F</td>\n",
              "      <td>17</td>\n",
              "      <td>Hispanic</td>\n",
              "      <td>16</td>\n",
              "      <td>0.550950</td>\n",
              "    </tr>\n",
              "    <tr>\n",
              "      <th>6517</th>\n",
              "      <td>7</td>\n",
              "      <td>3</td>\n",
              "      <td>M</td>\n",
              "      <td>Hispanic</td>\n",
              "      <td>N</td>\n",
              "      <td>N</td>\n",
              "      <td>Y</td>\n",
              "      <td>Wednesday</td>\n",
              "      <td>1</td>\n",
              "      <td>180.0</td>\n",
              "      <td>177.0</td>\n",
              "      <td>1.000000</td>\n",
              "      <td>3.983333</td>\n",
              "      <td>F</td>\n",
              "      <td>4</td>\n",
              "      <td>Asian</td>\n",
              "      <td>11</td>\n",
              "      <td>0.563218</td>\n",
              "    </tr>\n",
              "  </tbody>\n",
              "</table>\n",
              "</div>"
            ],
            "text/plain": [
              "      School_deID  GradeLevel StudentGender StudentEthnicity  \\\n",
              "6512            7           3             F         Hispanic   \n",
              "7808            1           6             M         Hispanic   \n",
              "5477            7           2             M         Hispanic   \n",
              "7389            2           6             M         Hispanic   \n",
              "6517            7           3             M         Hispanic   \n",
              "\n",
              "     Special_Education Homeless SocioEconomically TestDayName  OverallLevel  \\\n",
              "6512                 N        N                 N   Wednesday             1   \n",
              "7808                 N        N                 Y   Wednesday             1   \n",
              "5477                 N        N                 Y      Friday             1   \n",
              "7389                 Y        N                 Y     Tuesday             1   \n",
              "6517                 N        N                 Y   Wednesday             1   \n",
              "\n",
              "      ExpectedAttendanceDays  DaysAttended  EnrolledPct  GradeAttendedPct  \\\n",
              "6512                   180.0         179.0     1.000000          3.994444   \n",
              "7808                   180.0         178.0     1.000000          6.988889   \n",
              "5477                   170.0         160.0     0.944444          2.941176   \n",
              "7389                   180.0         172.0     1.000000          6.955556   \n",
              "6517                   180.0         177.0     1.000000          3.983333   \n",
              "\n",
              "     TeacherGender  TeacherTotalYearsOfService TeacherEthnicity  age  \\\n",
              "6512             F                           4            Asian   12   \n",
              "7808             F                           7            Asian   14   \n",
              "5477             F                          26         Hispanic    8   \n",
              "7389             F                          17         Hispanic   16   \n",
              "6517             F                           4            Asian   11   \n",
              "\n",
              "      OverallScoreStd  \n",
              "6512         0.494253  \n",
              "7808         0.516408  \n",
              "5477         0.494545  \n",
              "7389         0.550950  \n",
              "6517         0.563218  "
            ]
          },
          "execution_count": 91,
          "metadata": {},
          "output_type": "execute_result"
        }
      ],
      "source": [
        "new_df.head()"
      ]
    },
    {
      "cell_type": "markdown",
      "metadata": {
        "id": "Q31sohJPtaX5"
      },
      "source": [
        "###**DATA PARTITIONING**\n",
        "####**Split dataset into 70% train and 30% test datasets.**"
      ]
    },
    {
      "cell_type": "code",
      "execution_count": 92,
      "metadata": {
        "colab": {
          "base_uri": "https://localhost:8080/"
        },
        "id": "urnQrijPGetb",
        "outputId": "e412a266-bae2-46c3-faf7-27c41039c3f5"
      },
      "outputs": [
        {
          "name": "stdout",
          "output_type": "stream",
          "text": [
            "(9606, 17) (9606, 1) (4118, 17) (4118, 1)\n"
          ]
        }
      ],
      "source": [
        "from sklearn.model_selection import train_test_split\n",
        "\n",
        "Xa = new_df.loc[ : , new_df.columns != 'OverallLevel']\n",
        "ya = new_df[['OverallLevel']]\n",
        "\n",
        "Xa_train, Xa_test, ya_train, ya_test = train_test_split(Xa,ya,random_state=700, test_size=0.30)\n",
        "print(Xa_train.shape, ya_train.shape, Xa_test.shape, ya_test.shape)"
      ]
    },
    {
      "cell_type": "code",
      "execution_count": 94,
      "metadata": {
        "colab": {
          "base_uri": "https://localhost:8080/"
        },
        "id": "MzYIkhw82QBJ",
        "outputId": "2e7160f0-fc95-4980-f6a9-b240b8734dc4"
      },
      "outputs": [
        {
          "name": "stdout",
          "output_type": "stream",
          "text": [
            "0    X\n",
            "dtype: object\n",
            "0    X\n",
            "dtype: object\n"
          ]
        }
      ],
      "source": [
        "##replace X value from StudentGender with Mode value for StudentGender column\n",
        "print(Xa_train['StudentGender'].mode())\n",
        "Xa_train['StudentGender'] = Xa_train['StudentGender'].replace(to_replace = 'M', value = 'X') #replace X value with mode\n",
        "\n",
        "print(Xa_test['StudentGender'].mode())\n",
        "Xa_test['StudentGender'] = Xa_test['StudentGender'].replace(to_replace = 'M', value = 'X') #replace X value with mode"
      ]
    },
    {
      "cell_type": "code",
      "execution_count": 95,
      "metadata": {
        "id": "8PQi4uF_1Z7n"
      },
      "outputs": [],
      "source": [
        "#replace missing values from TestDayName column with mode value\n",
        "Xa_train['TestDayName'] = Xa_train['TestDayName'].fillna(Xa_train['TestDayName'].mode()[0])\n",
        "Xa_test['TestDayName'] = Xa_test['TestDayName'].fillna(Xa_test['TestDayName'].mode()[0])"
      ]
    },
    {
      "cell_type": "code",
      "execution_count": 96,
      "metadata": {
        "id": "iEb789d93fzu"
      },
      "outputs": [],
      "source": [
        "#replace missing values from GradeAttendedPact with mean values\n",
        "Xa_train['GradeAttendedPct'] = Xa_train['GradeAttendedPct'].fillna(Xa_train['GradeAttendedPct'].mean())\n",
        "Xa_test['GradeAttendedPct'] = Xa_test['GradeAttendedPct'].fillna(Xa_test['GradeAttendedPct'].mean())"
      ]
    },
    {
      "cell_type": "markdown",
      "metadata": {
        "id": "prq3f3bZnd5E"
      },
      "source": [
        "####**LABEL-ENCODING FOR CATEGORICAL VARIABLES**"
      ]
    },
    {
      "cell_type": "code",
      "execution_count": 97,
      "metadata": {
        "id": "95NIQOP0oQH-"
      },
      "outputs": [],
      "source": [
        "cat_columns = ['StudentGender','StudentEthnicity','Special_Education','Homeless','SocioEconomically',\n",
        "               'TestDayName','TeacherGender','TeacherEthnicity']"
      ]
    },
    {
      "cell_type": "code",
      "execution_count": 98,
      "metadata": {
        "id": "aV_5MB8pnyFM"
      },
      "outputs": [],
      "source": [
        "from sklearn.preprocessing import LabelEncoder\n",
        "\n",
        "#Train dataset\n",
        "train_label_encoders = {}\n",
        "for column in cat_columns:\n",
        "  train_label_encoders[column] = LabelEncoder()\n",
        "  Xa_train[column] = train_label_encoders[column].fit_transform(Xa_train[column])\n",
        "\n",
        "#Test dataset\n",
        "test_label_encoders = {}\n",
        "for column in cat_columns:\n",
        "  test_label_encoders[column] = LabelEncoder()\n",
        "  Xa_test[column] = test_label_encoders[column].fit_transform(Xa_test[column])\n"
      ]
    },
    {
      "cell_type": "code",
      "execution_count": 99,
      "metadata": {
        "colab": {
          "base_uri": "https://localhost:8080/",
          "height": 176
        },
        "id": "HBAb6FQt790W",
        "outputId": "33d51fb4-c9f9-49b9-a9a4-f58e03f71316"
      },
      "outputs": [
        {
          "data": {
            "text/html": [
              "<div>\n",
              "<style scoped>\n",
              "    .dataframe tbody tr th:only-of-type {\n",
              "        vertical-align: middle;\n",
              "    }\n",
              "\n",
              "    .dataframe tbody tr th {\n",
              "        vertical-align: top;\n",
              "    }\n",
              "\n",
              "    .dataframe thead th {\n",
              "        text-align: right;\n",
              "    }\n",
              "</style>\n",
              "<table border=\"1\" class=\"dataframe\">\n",
              "  <thead>\n",
              "    <tr style=\"text-align: right;\">\n",
              "      <th></th>\n",
              "      <th>School_deID</th>\n",
              "      <th>GradeLevel</th>\n",
              "      <th>StudentGender</th>\n",
              "      <th>StudentEthnicity</th>\n",
              "      <th>Special_Education</th>\n",
              "      <th>Homeless</th>\n",
              "      <th>SocioEconomically</th>\n",
              "      <th>TestDayName</th>\n",
              "      <th>ExpectedAttendanceDays</th>\n",
              "      <th>DaysAttended</th>\n",
              "      <th>EnrolledPct</th>\n",
              "      <th>GradeAttendedPct</th>\n",
              "      <th>TeacherGender</th>\n",
              "      <th>TeacherTotalYearsOfService</th>\n",
              "      <th>TeacherEthnicity</th>\n",
              "      <th>age</th>\n",
              "      <th>OverallScoreStd</th>\n",
              "    </tr>\n",
              "  </thead>\n",
              "  <tbody>\n",
              "    <tr>\n",
              "      <th>3739</th>\n",
              "      <td>2</td>\n",
              "      <td>0</td>\n",
              "      <td>0</td>\n",
              "      <td>4</td>\n",
              "      <td>0</td>\n",
              "      <td>0</td>\n",
              "      <td>1</td>\n",
              "      <td>4</td>\n",
              "      <td>180.0</td>\n",
              "      <td>178.0</td>\n",
              "      <td>1.000000</td>\n",
              "      <td>0.988889</td>\n",
              "      <td>0</td>\n",
              "      <td>7</td>\n",
              "      <td>7</td>\n",
              "      <td>9</td>\n",
              "      <td>0.507273</td>\n",
              "    </tr>\n",
              "    <tr>\n",
              "      <th>9280</th>\n",
              "      <td>2</td>\n",
              "      <td>5</td>\n",
              "      <td>0</td>\n",
              "      <td>4</td>\n",
              "      <td>0</td>\n",
              "      <td>1</td>\n",
              "      <td>1</td>\n",
              "      <td>4</td>\n",
              "      <td>170.0</td>\n",
              "      <td>134.0</td>\n",
              "      <td>0.944444</td>\n",
              "      <td>5.788235</td>\n",
              "      <td>0</td>\n",
              "      <td>19</td>\n",
              "      <td>2</td>\n",
              "      <td>11</td>\n",
              "      <td>0.807229</td>\n",
              "    </tr>\n",
              "  </tbody>\n",
              "</table>\n",
              "</div>"
            ],
            "text/plain": [
              "      School_deID  GradeLevel  StudentGender  StudentEthnicity  \\\n",
              "3739            2           0              0                 4   \n",
              "9280            2           5              0                 4   \n",
              "\n",
              "      Special_Education  Homeless  SocioEconomically  TestDayName  \\\n",
              "3739                  0         0                  1            4   \n",
              "9280                  0         1                  1            4   \n",
              "\n",
              "      ExpectedAttendanceDays  DaysAttended  EnrolledPct  GradeAttendedPct  \\\n",
              "3739                   180.0         178.0     1.000000          0.988889   \n",
              "9280                   170.0         134.0     0.944444          5.788235   \n",
              "\n",
              "      TeacherGender  TeacherTotalYearsOfService  TeacherEthnicity  age  \\\n",
              "3739              0                           7                 7    9   \n",
              "9280              0                          19                 2   11   \n",
              "\n",
              "      OverallScoreStd  \n",
              "3739         0.507273  \n",
              "9280         0.807229  "
            ]
          },
          "execution_count": 99,
          "metadata": {},
          "output_type": "execute_result"
        }
      ],
      "source": [
        "Xa_train.head(2)"
      ]
    },
    {
      "cell_type": "code",
      "execution_count": 100,
      "metadata": {
        "colab": {
          "base_uri": "https://localhost:8080/",
          "height": 176
        },
        "id": "zdm3wOr-8pYN",
        "outputId": "7482983a-97cd-4beb-d4fd-c86c8624b93b"
      },
      "outputs": [
        {
          "data": {
            "text/html": [
              "<div>\n",
              "<style scoped>\n",
              "    .dataframe tbody tr th:only-of-type {\n",
              "        vertical-align: middle;\n",
              "    }\n",
              "\n",
              "    .dataframe tbody tr th {\n",
              "        vertical-align: top;\n",
              "    }\n",
              "\n",
              "    .dataframe thead th {\n",
              "        text-align: right;\n",
              "    }\n",
              "</style>\n",
              "<table border=\"1\" class=\"dataframe\">\n",
              "  <thead>\n",
              "    <tr style=\"text-align: right;\">\n",
              "      <th></th>\n",
              "      <th>School_deID</th>\n",
              "      <th>GradeLevel</th>\n",
              "      <th>StudentGender</th>\n",
              "      <th>StudentEthnicity</th>\n",
              "      <th>Special_Education</th>\n",
              "      <th>Homeless</th>\n",
              "      <th>SocioEconomically</th>\n",
              "      <th>TestDayName</th>\n",
              "      <th>ExpectedAttendanceDays</th>\n",
              "      <th>DaysAttended</th>\n",
              "      <th>EnrolledPct</th>\n",
              "      <th>GradeAttendedPct</th>\n",
              "      <th>TeacherGender</th>\n",
              "      <th>TeacherTotalYearsOfService</th>\n",
              "      <th>TeacherEthnicity</th>\n",
              "      <th>age</th>\n",
              "      <th>OverallScoreStd</th>\n",
              "    </tr>\n",
              "  </thead>\n",
              "  <tbody>\n",
              "    <tr>\n",
              "      <th>8029</th>\n",
              "      <td>7</td>\n",
              "      <td>6</td>\n",
              "      <td>0</td>\n",
              "      <td>3</td>\n",
              "      <td>0</td>\n",
              "      <td>0</td>\n",
              "      <td>1</td>\n",
              "      <td>0</td>\n",
              "      <td>180.0</td>\n",
              "      <td>168.0</td>\n",
              "      <td>1.000000</td>\n",
              "      <td>6.933333</td>\n",
              "      <td>1</td>\n",
              "      <td>10</td>\n",
              "      <td>3</td>\n",
              "      <td>13</td>\n",
              "      <td>0.659758</td>\n",
              "    </tr>\n",
              "    <tr>\n",
              "      <th>7137</th>\n",
              "      <td>6</td>\n",
              "      <td>3</td>\n",
              "      <td>1</td>\n",
              "      <td>3</td>\n",
              "      <td>0</td>\n",
              "      <td>1</td>\n",
              "      <td>1</td>\n",
              "      <td>4</td>\n",
              "      <td>170.0</td>\n",
              "      <td>130.0</td>\n",
              "      <td>0.944444</td>\n",
              "      <td>3.764706</td>\n",
              "      <td>0</td>\n",
              "      <td>22</td>\n",
              "      <td>3</td>\n",
              "      <td>10</td>\n",
              "      <td>0.547893</td>\n",
              "    </tr>\n",
              "  </tbody>\n",
              "</table>\n",
              "</div>"
            ],
            "text/plain": [
              "      School_deID  GradeLevel  StudentGender  StudentEthnicity  \\\n",
              "8029            7           6              0                 3   \n",
              "7137            6           3              1                 3   \n",
              "\n",
              "      Special_Education  Homeless  SocioEconomically  TestDayName  \\\n",
              "8029                  0         0                  1            0   \n",
              "7137                  0         1                  1            4   \n",
              "\n",
              "      ExpectedAttendanceDays  DaysAttended  EnrolledPct  GradeAttendedPct  \\\n",
              "8029                   180.0         168.0     1.000000          6.933333   \n",
              "7137                   170.0         130.0     0.944444          3.764706   \n",
              "\n",
              "      TeacherGender  TeacherTotalYearsOfService  TeacherEthnicity  age  \\\n",
              "8029              1                          10                 3   13   \n",
              "7137              0                          22                 3   10   \n",
              "\n",
              "      OverallScoreStd  \n",
              "8029         0.659758  \n",
              "7137         0.547893  "
            ]
          },
          "execution_count": 100,
          "metadata": {},
          "output_type": "execute_result"
        }
      ],
      "source": [
        "Xa_test.head(2)"
      ]
    },
    {
      "cell_type": "markdown",
      "metadata": {
        "id": "88S23kDI-Ybo"
      },
      "source": [
        "###**Now the train and test dataset are ready for modelings.**"
      ]
    }
  ],
  "metadata": {
    "colab": {
      "collapsed_sections": [],
      "provenance": []
    },
    "kernelspec": {
      "display_name": "Python 3.6.13",
      "language": "python",
      "name": "python3"
    },
    "language_info": {
      "codemirror_mode": {
        "name": "ipython",
        "version": 3
      },
      "file_extension": ".py",
      "mimetype": "text/x-python",
      "name": "python",
      "nbconvert_exporter": "python",
      "pygments_lexer": "ipython3",
      "version": "3.6.13"
    },
    "vscode": {
      "interpreter": {
        "hash": "b271b2fbd26211c9088b104b66108014c2d9c61646bef9efd2a3440d70ee1103"
      }
    }
  },
  "nbformat": 4,
  "nbformat_minor": 0
}
