{
 "cells": [
  {
   "cell_type": "code",
   "execution_count": 1,
   "metadata": {},
   "outputs": [],
   "source": [
    "import pandas as pd\n",
    "import numpy as np\n",
    "import statsmodels.api as sm\n",
    "from scipy import stats\n",
    "import seaborn as sns\n",
    "import matplotlib.pyplot as plt\n",
    "from sklearn.model_selection import train_test_split\n",
    "from sklearn import linear_model\n",
    "from sklearn.metrics import mean_absolute_error, r2_score"
   ]
  },
  {
   "cell_type": "code",
   "execution_count": 2,
   "metadata": {},
   "outputs": [],
   "source": [
    "# Import file\n",
    "df = pd.read_csv('https://raw.githubusercontent.com/OscarG-DataSci/ADS-599B/main/Data%20Folder/new_elpac.csv')"
   ]
  },
  {
   "cell_type": "markdown",
   "metadata": {},
   "source": [
    "### Multiple Linear Regression"
   ]
  },
  {
   "cell_type": "code",
   "execution_count": 3,
   "metadata": {},
   "outputs": [
    {
     "name": "stdout",
     "output_type": "stream",
     "text": [
      "<class 'pandas.core.frame.DataFrame'>\n",
      "RangeIndex: 9460 entries, 0 to 9459\n",
      "Data columns (total 8 columns):\n",
      " #   Column             Non-Null Count  Dtype  \n",
      "---  ------             --------------  -----  \n",
      " 0   School_deID        9460 non-null   int64  \n",
      " 1   GradeLevel         9460 non-null   int64  \n",
      " 2   Special_Education  9460 non-null   int64  \n",
      " 3   OverallLevel       9460 non-null   int64  \n",
      " 4   TeacherGender      9460 non-null   int64  \n",
      " 5   TeacherEthnicity   9460 non-null   int64  \n",
      " 6   OverallScoreStd    9460 non-null   float64\n",
      " 7   TestInstance       9460 non-null   int64  \n",
      "dtypes: float64(1), int64(7)\n",
      "memory usage: 591.4 KB\n"
     ]
    }
   ],
   "source": [
    "# Drop columns whose p value is too high after viewing summary for OverallScoreStd\n",
    "mlr_df = df.copy()\n",
    "\n",
    "mlr_df.drop(mlr_df.columns[[8, 3, 13, 5, 2, 6, 12, 11, 10, 15, 7, 18, 20]], axis=1, inplace=True) # .64 R-Squared\n",
    "mlr_df.info()"
   ]
  },
  {
   "cell_type": "code",
   "execution_count": 4,
   "metadata": {},
   "outputs": [
    {
     "name": "stdout",
     "output_type": "stream",
     "text": [
      " X_train    y_train    X_test    y_test\n",
      "(6622, 7) (6622, 1) (2838, 7) (2838, 1)\n"
     ]
    }
   ],
   "source": [
    "X = mlr_df.loc[ : , mlr_df.columns != 'OverallScoreStd']\n",
    "y = mlr_df[['OverallScoreStd']]\n",
    "\n",
    "X_train, X_test, y_train, y_test = train_test_split(X,y,random_state=700, test_size=0.30)\n",
    "print(\" X_train    y_train    X_test    y_test\")\n",
    "print(X_train.shape, y_train.shape, X_test.shape, y_test.shape)"
   ]
  },
  {
   "cell_type": "code",
   "execution_count": 5,
   "metadata": {},
   "outputs": [
    {
     "data": {
      "text/html": [
       "<table class=\"simpletable\">\n",
       "<caption>OLS Regression Results</caption>\n",
       "<tr>\n",
       "  <th>Dep. Variable:</th>     <td>OverallScoreStd</td> <th>  R-squared:         </th>  <td>   0.640</td> \n",
       "</tr>\n",
       "<tr>\n",
       "  <th>Model:</th>                   <td>OLS</td>       <th>  Adj. R-squared:    </th>  <td>   0.639</td> \n",
       "</tr>\n",
       "<tr>\n",
       "  <th>Method:</th>             <td>Least Squares</td>  <th>  F-statistic:       </th>  <td>   2396.</td> \n",
       "</tr>\n",
       "<tr>\n",
       "  <th>Date:</th>             <td>Sun, 20 Nov 2022</td> <th>  Prob (F-statistic):</th>   <td>  0.00</td>  \n",
       "</tr>\n",
       "<tr>\n",
       "  <th>Time:</th>                 <td>01:27:57</td>     <th>  Log-Likelihood:    </th>  <td>  11770.</td> \n",
       "</tr>\n",
       "<tr>\n",
       "  <th>No. Observations:</th>      <td>  9460</td>      <th>  AIC:               </th> <td>-2.352e+04</td>\n",
       "</tr>\n",
       "<tr>\n",
       "  <th>Df Residuals:</th>          <td>  9452</td>      <th>  BIC:               </th> <td>-2.347e+04</td>\n",
       "</tr>\n",
       "<tr>\n",
       "  <th>Df Model:</th>              <td>     7</td>      <th>                     </th>      <td> </td>    \n",
       "</tr>\n",
       "<tr>\n",
       "  <th>Covariance Type:</th>      <td>nonrobust</td>    <th>                     </th>      <td> </td>    \n",
       "</tr>\n",
       "</table>\n",
       "<table class=\"simpletable\">\n",
       "<tr>\n",
       "          <td></td>             <th>coef</th>     <th>std err</th>      <th>t</th>      <th>P>|t|</th>  <th>[0.025</th>    <th>0.975]</th>  \n",
       "</tr>\n",
       "<tr>\n",
       "  <th>const</th>             <td>    0.3073</td> <td>    0.003</td> <td>  100.713</td> <td> 0.000</td> <td>    0.301</td> <td>    0.313</td>\n",
       "</tr>\n",
       "<tr>\n",
       "  <th>School_deID</th>       <td>    0.0018</td> <td>    0.000</td> <td>    7.097</td> <td> 0.000</td> <td>    0.001</td> <td>    0.002</td>\n",
       "</tr>\n",
       "<tr>\n",
       "  <th>GradeLevel</th>        <td>    0.0139</td> <td>    0.000</td> <td>   31.194</td> <td> 0.000</td> <td>    0.013</td> <td>    0.015</td>\n",
       "</tr>\n",
       "<tr>\n",
       "  <th>Special_Education</th> <td>   -0.0182</td> <td>    0.002</td> <td>   -8.228</td> <td> 0.000</td> <td>   -0.023</td> <td>   -0.014</td>\n",
       "</tr>\n",
       "<tr>\n",
       "  <th>OverallLevel</th>      <td>    0.0892</td> <td>    0.001</td> <td>  116.585</td> <td> 0.000</td> <td>    0.088</td> <td>    0.091</td>\n",
       "</tr>\n",
       "<tr>\n",
       "  <th>TeacherGender</th>     <td>   -0.0139</td> <td>    0.003</td> <td>   -5.554</td> <td> 0.000</td> <td>   -0.019</td> <td>   -0.009</td>\n",
       "</tr>\n",
       "<tr>\n",
       "  <th>TeacherEthnicity</th>  <td>    0.0013</td> <td>    0.000</td> <td>    3.782</td> <td> 0.000</td> <td>    0.001</td> <td>    0.002</td>\n",
       "</tr>\n",
       "<tr>\n",
       "  <th>TestInstance</th>      <td>    0.0078</td> <td>    0.001</td> <td>   10.795</td> <td> 0.000</td> <td>    0.006</td> <td>    0.009</td>\n",
       "</tr>\n",
       "</table>\n",
       "<table class=\"simpletable\">\n",
       "<tr>\n",
       "  <th>Omnibus:</th>       <td>2867.308</td> <th>  Durbin-Watson:     </th> <td>   1.983</td> \n",
       "</tr>\n",
       "<tr>\n",
       "  <th>Prob(Omnibus):</th>  <td> 0.000</td>  <th>  Jarque-Bera (JB):  </th> <td>26905.119</td>\n",
       "</tr>\n",
       "<tr>\n",
       "  <th>Skew:</th>           <td>-1.181</td>  <th>  Prob(JB):          </th> <td>    0.00</td> \n",
       "</tr>\n",
       "<tr>\n",
       "  <th>Kurtosis:</th>       <td>10.917</td>  <th>  Cond. No.          </th> <td>    33.8</td> \n",
       "</tr>\n",
       "</table><br/><br/>Notes:<br/>[1] Standard Errors assume that the covariance matrix of the errors is correctly specified."
      ],
      "text/plain": [
       "<class 'statsmodels.iolib.summary.Summary'>\n",
       "\"\"\"\n",
       "                            OLS Regression Results                            \n",
       "==============================================================================\n",
       "Dep. Variable:        OverallScoreStd   R-squared:                       0.640\n",
       "Model:                            OLS   Adj. R-squared:                  0.639\n",
       "Method:                 Least Squares   F-statistic:                     2396.\n",
       "Date:                Sun, 20 Nov 2022   Prob (F-statistic):               0.00\n",
       "Time:                        01:27:57   Log-Likelihood:                 11770.\n",
       "No. Observations:                9460   AIC:                        -2.352e+04\n",
       "Df Residuals:                    9452   BIC:                        -2.347e+04\n",
       "Df Model:                           7                                         \n",
       "Covariance Type:            nonrobust                                         \n",
       "=====================================================================================\n",
       "                        coef    std err          t      P>|t|      [0.025      0.975]\n",
       "-------------------------------------------------------------------------------------\n",
       "const                 0.3073      0.003    100.713      0.000       0.301       0.313\n",
       "School_deID           0.0018      0.000      7.097      0.000       0.001       0.002\n",
       "GradeLevel            0.0139      0.000     31.194      0.000       0.013       0.015\n",
       "Special_Education    -0.0182      0.002     -8.228      0.000      -0.023      -0.014\n",
       "OverallLevel          0.0892      0.001    116.585      0.000       0.088       0.091\n",
       "TeacherGender        -0.0139      0.003     -5.554      0.000      -0.019      -0.009\n",
       "TeacherEthnicity      0.0013      0.000      3.782      0.000       0.001       0.002\n",
       "TestInstance          0.0078      0.001     10.795      0.000       0.006       0.009\n",
       "==============================================================================\n",
       "Omnibus:                     2867.308   Durbin-Watson:                   1.983\n",
       "Prob(Omnibus):                  0.000   Jarque-Bera (JB):            26905.119\n",
       "Skew:                          -1.181   Prob(JB):                         0.00\n",
       "Kurtosis:                      10.917   Cond. No.                         33.8\n",
       "==============================================================================\n",
       "\n",
       "Notes:\n",
       "[1] Standard Errors assume that the covariance matrix of the errors is correctly specified.\n",
       "\"\"\""
      ]
     },
     "execution_count": 5,
     "metadata": {},
     "output_type": "execute_result"
    }
   ],
   "source": [
    "# Add constant\n",
    "X = sm.add_constant(X)\n",
    "\n",
    "# Run the model\n",
    "mlr_model = sm.OLS(y, X).fit()\n",
    "\n",
    "# View the model's summary\n",
    "mlr_model.summary()"
   ]
  },
  {
   "cell_type": "markdown",
   "metadata": {},
   "source": [
    "#### Multiple Linear Regression - Coefficient observations:\n",
    "64% of the time...\n",
    "\n",
    "* The school a student attends has the potential to affect an OverallScoreStd by as much as 1.8% and as little as less than 1%\n",
    "\n",
    "* A student's grade level has the potential to affect an OverallScoreStd by as much as 8% and as little as 1%\n",
    "\n",
    "* Special_Education = yes, has the potential to affect OverallScoreStd by negative 2%\n",
    "\n",
    "* Each OverallLevel (1 to 4) carries the weight of nearly 10%\n",
    "\n",
    "* Male Teachers can reduce a student's OverallScoreStd by 1% versus Female Teachers ( consider there is a bias in Female vs Male Teacher totals)\n",
    "\n",
    "* TeacherEthnicity has the potential to affect an OverallScoreStd by as little as .001% and as much as  1% (1-7). Consider bias here as Hispanic (value = 3, 5,387 total) and White (value = 7, 3,137 total) are the top representations amongst 7 ethnicities.\n",
    "\n",
    "* Each new TestInstance has the potential to affect an OverallScoreStd by 1% or as much as 4%"
   ]
  },
  {
   "cell_type": "markdown",
   "metadata": {},
   "source": [
    "### Logistic Regression"
   ]
  },
  {
   "cell_type": "code",
   "execution_count": 6,
   "metadata": {},
   "outputs": [
    {
     "data": {
      "text/plain": [
       "<AxesSubplot:>"
      ]
     },
     "execution_count": 6,
     "metadata": {},
     "output_type": "execute_result"
    },
    {
     "data": {
      "image/png": "[encoded data removed]",
      "text/plain": [
       "<Figure size 432x288 with 1 Axes>"
      ]
     },
     "metadata": {
      "needs_background": "light"
     },
     "output_type": "display_data"
    }
   ],
   "source": [
    "# Copy from main dataframe\n",
    "lr_df = df.copy()\n",
    "\n",
    "# Split OverallLevel in half, creating new feature to use as Target\n",
    "lr_df['OverallLevelSplit'] = np.where(lr_df.OverallLevel == 1, 0, np.where(lr_df.OverallLevel == 2, 0, 1))\n",
    "\n",
    "# Drop OverallLevel column\n",
    "lr_df = lr_df.drop('OverallLevel', axis=1)\n",
    "\n",
    "# Display the new target feature's balance\n",
    "lr_df.OverallLevelSplit.value_counts().sort_index().plot(kind='bar', rot=0)"
   ]
  },
  {
   "cell_type": "code",
   "execution_count": 7,
   "metadata": {},
   "outputs": [
    {
     "name": "stdout",
     "output_type": "stream",
     "text": [
      "<class 'pandas.core.frame.DataFrame'>\n",
      "RangeIndex: 9460 entries, 0 to 9459\n",
      "Data columns (total 7 columns):\n",
      " #   Column                      Non-Null Count  Dtype  \n",
      "---  ------                      --------------  -----  \n",
      " 0   Special_Education           9460 non-null   int64  \n",
      " 1   GradeAttendedPct            9460 non-null   float64\n",
      " 2   TeacherTotalYearsOfService  9460 non-null   int64  \n",
      " 3   OverallScoreStd             9460 non-null   float64\n",
      " 4   TestInstance                9460 non-null   int64  \n",
      " 5   Growth                      9460 non-null   int64  \n",
      " 6   OverallLevelSplit           9460 non-null   int64  \n",
      "dtypes: float64(2), int64(5)\n",
      "memory usage: 517.5 KB\n"
     ]
    }
   ],
   "source": [
    "# Drop columns whose p value is too high after viewing summary for OverallLevelSplit\n",
    "lr_df.drop(lr_df.columns[[13, 10, 17, 6, 2, 9, 3, 11, 7, 5, 15, 8, 1, 0]], axis=1, inplace=True) # .45 R-Squared\n",
    "lr_df.info()"
   ]
  },
  {
   "cell_type": "code",
   "execution_count": 8,
   "metadata": {},
   "outputs": [
    {
     "data": {
      "text/html": [
       "<style  type=\"text/css\" >\n",
       "#T_4d5e8_row0_col0{\n",
       "            width:  10em;\n",
       "             height:  80%;\n",
       "            background:  linear-gradient(90deg, transparent 17.5%, lightgreen 17.5%, lightgreen 100.0%, transparent 100.0%);\n",
       "        }#T_4d5e8_row1_col0{\n",
       "            width:  10em;\n",
       "             height:  80%;\n",
       "            background:  linear-gradient(90deg, transparent 17.5%, lightgreen 17.5%, lightgreen 69.0%, transparent 69.0%);\n",
       "        }#T_4d5e8_row2_col0{\n",
       "            width:  10em;\n",
       "             height:  80%;\n",
       "            background:  linear-gradient(90deg, transparent 17.5%, lightgreen 17.5%, lightgreen 45.1%, transparent 45.1%);\n",
       "        }#T_4d5e8_row3_col0{\n",
       "            width:  10em;\n",
       "             height:  80%;\n",
       "            background:  linear-gradient(90deg, transparent 17.5%, lightgreen 17.5%, lightgreen 17.9%, transparent 17.9%);\n",
       "        }#T_4d5e8_row4_col0{\n",
       "            width:  10em;\n",
       "             height:  80%;\n",
       "            background:  linear-gradient(90deg, transparent 17.4%, red 17.4%, red 17.5%, transparent 17.5%);\n",
       "        }#T_4d5e8_row5_col0{\n",
       "            width:  10em;\n",
       "             height:  80%;\n",
       "            background:  linear-gradient(90deg, transparent 12.5%, red 12.5%, red 17.5%, transparent 17.5%);\n",
       "        }#T_4d5e8_row6_col0{\n",
       "            width:  10em;\n",
       "             height:  80%;\n",
       "            background:  linear-gradient(90deg,red 17.5%, transparent 17.5%);\n",
       "        }</style><table id=\"T_4d5e8_\" ><thead>    <tr>        <th class=\"blank level0\" ></th>        <th class=\"col_heading level0 col0\" >Correlation</th>    </tr></thead><tbody>\n",
       "                <tr>\n",
       "                        <th id=\"T_4d5e8_level0_row0\" class=\"row_heading level0 row0\" >OverallLevelSplit</th>\n",
       "                        <td id=\"T_4d5e8_row0_col0\" class=\"data row0 col0\" >1.000000</td>\n",
       "            </tr>\n",
       "            <tr>\n",
       "                        <th id=\"T_4d5e8_level0_row1\" class=\"row_heading level0 row1\" >OverallScoreStd</th>\n",
       "                        <td id=\"T_4d5e8_row1_col0\" class=\"data row1 col0\" >0.624314</td>\n",
       "            </tr>\n",
       "            <tr>\n",
       "                        <th id=\"T_4d5e8_level0_row2\" class=\"row_heading level0 row2\" >Growth</th>\n",
       "                        <td id=\"T_4d5e8_row2_col0\" class=\"data row2 col0\" >0.334978</td>\n",
       "            </tr>\n",
       "            <tr>\n",
       "                        <th id=\"T_4d5e8_level0_row3\" class=\"row_heading level0 row3\" >GradeAttendedPct</th>\n",
       "                        <td id=\"T_4d5e8_row3_col0\" class=\"data row3 col0\" >0.005508</td>\n",
       "            </tr>\n",
       "            <tr>\n",
       "                        <th id=\"T_4d5e8_level0_row4\" class=\"row_heading level0 row4\" >TestInstance</th>\n",
       "                        <td id=\"T_4d5e8_row4_col0\" class=\"data row4 col0\" >-0.001480</td>\n",
       "            </tr>\n",
       "            <tr>\n",
       "                        <th id=\"T_4d5e8_level0_row5\" class=\"row_heading level0 row5\" >TeacherTotalYearsOfService</th>\n",
       "                        <td id=\"T_4d5e8_row5_col0\" class=\"data row5 col0\" >-0.060857</td>\n",
       "            </tr>\n",
       "            <tr>\n",
       "                        <th id=\"T_4d5e8_level0_row6\" class=\"row_heading level0 row6\" >Special_Education</th>\n",
       "                        <td id=\"T_4d5e8_row6_col0\" class=\"data row6 col0\" >-0.211801</td>\n",
       "            </tr>\n",
       "    </tbody></table>"
      ],
      "text/plain": [
       "<pandas.io.formats.style.Styler at 0x7fac11ba6dc0>"
      ]
     },
     "execution_count": 8,
     "metadata": {},
     "output_type": "execute_result"
    }
   ],
   "source": [
    "# Correlation for dummy variables for Overall Score\n",
    "cor = pd.DataFrame(lr_df.corrwith(lr_df['OverallLevelSplit']))\n",
    "cor.columns = ['Correlation']\n",
    "cor.head(20).sort_values('Correlation', ascending=False).style.bar(align=\"mid\", color=[\"red\", \"lightgreen\"])"
   ]
  },
  {
   "cell_type": "code",
   "execution_count": 9,
   "metadata": {},
   "outputs": [
    {
     "name": "stdout",
     "output_type": "stream",
     "text": [
      " X_train    y_train    X_test    y_test\n",
      "(6622, 8) (6622, 1) (2838, 8) (2838, 1)\n"
     ]
    }
   ],
   "source": [
    "X_lr = lr_df.loc[ : , lr_df.columns != 'OverallLevelSplit']\n",
    "y_lr = lr_df[['OverallLevelSplit']]\n",
    "\n",
    "X_train, X_test, y_train, y_test = train_test_split(X,y,random_state=700, test_size=0.30)\n",
    "print(\" X_train    y_train    X_test    y_test\")\n",
    "print(X_train.shape, y_train.shape, X_test.shape, y_test.shape)"
   ]
  },
  {
   "cell_type": "code",
   "execution_count": 10,
   "metadata": {},
   "outputs": [
    {
     "data": {
      "text/html": [
       "<table class=\"simpletable\">\n",
       "<caption>OLS Regression Results</caption>\n",
       "<tr>\n",
       "  <th>Dep. Variable:</th>    <td>OverallLevelSplit</td> <th>  R-squared:         </th> <td>   0.450</td>\n",
       "</tr>\n",
       "<tr>\n",
       "  <th>Model:</th>                   <td>OLS</td>        <th>  Adj. R-squared:    </th> <td>   0.450</td>\n",
       "</tr>\n",
       "<tr>\n",
       "  <th>Method:</th>             <td>Least Squares</td>   <th>  F-statistic:       </th> <td>   1290.</td>\n",
       "</tr>\n",
       "<tr>\n",
       "  <th>Date:</th>             <td>Sun, 20 Nov 2022</td>  <th>  Prob (F-statistic):</th>  <td>  0.00</td> \n",
       "</tr>\n",
       "<tr>\n",
       "  <th>Time:</th>                 <td>01:27:58</td>      <th>  Log-Likelihood:    </th> <td> -4021.4</td>\n",
       "</tr>\n",
       "<tr>\n",
       "  <th>No. Observations:</th>      <td>  9460</td>       <th>  AIC:               </th> <td>   8057.</td>\n",
       "</tr>\n",
       "<tr>\n",
       "  <th>Df Residuals:</th>          <td>  9453</td>       <th>  BIC:               </th> <td>   8107.</td>\n",
       "</tr>\n",
       "<tr>\n",
       "  <th>Df Model:</th>              <td>     6</td>       <th>                     </th>     <td> </td>   \n",
       "</tr>\n",
       "<tr>\n",
       "  <th>Covariance Type:</th>      <td>nonrobust</td>     <th>                     </th>     <td> </td>   \n",
       "</tr>\n",
       "</table>\n",
       "<table class=\"simpletable\">\n",
       "<tr>\n",
       "               <td></td>                 <th>coef</th>     <th>std err</th>      <th>t</th>      <th>P>|t|</th>  <th>[0.025</th>    <th>0.975]</th>  \n",
       "</tr>\n",
       "<tr>\n",
       "  <th>const</th>                      <td>   -0.7882</td> <td>    0.023</td> <td>  -35.008</td> <td> 0.000</td> <td>   -0.832</td> <td>   -0.744</td>\n",
       "</tr>\n",
       "<tr>\n",
       "  <th>Special_Education</th>          <td>   -0.1183</td> <td>    0.012</td> <td>  -10.071</td> <td> 0.000</td> <td>   -0.141</td> <td>   -0.095</td>\n",
       "</tr>\n",
       "<tr>\n",
       "  <th>GradeAttendedPct</th>           <td>   -0.0256</td> <td>    0.002</td> <td>  -10.796</td> <td> 0.000</td> <td>   -0.030</td> <td>   -0.021</td>\n",
       "</tr>\n",
       "<tr>\n",
       "  <th>TeacherTotalYearsOfService</th> <td>   -0.0024</td> <td>    0.000</td> <td>   -5.411</td> <td> 0.000</td> <td>   -0.003</td> <td>   -0.002</td>\n",
       "</tr>\n",
       "<tr>\n",
       "  <th>OverallScoreStd</th>            <td>    2.5452</td> <td>    0.036</td> <td>   70.428</td> <td> 0.000</td> <td>    2.474</td> <td>    2.616</td>\n",
       "</tr>\n",
       "<tr>\n",
       "  <th>TestInstance</th>               <td>   -0.0310</td> <td>    0.004</td> <td>   -7.891</td> <td> 0.000</td> <td>   -0.039</td> <td>   -0.023</td>\n",
       "</tr>\n",
       "<tr>\n",
       "  <th>Growth</th>                     <td>    0.1292</td> <td>    0.006</td> <td>   23.050</td> <td> 0.000</td> <td>    0.118</td> <td>    0.140</td>\n",
       "</tr>\n",
       "</table>\n",
       "<table class=\"simpletable\">\n",
       "<tr>\n",
       "  <th>Omnibus:</th>       <td>2491.427</td> <th>  Durbin-Watson:     </th> <td>   1.702</td>\n",
       "</tr>\n",
       "<tr>\n",
       "  <th>Prob(Omnibus):</th>  <td> 0.000</td>  <th>  Jarque-Bera (JB):  </th> <td> 415.141</td>\n",
       "</tr>\n",
       "<tr>\n",
       "  <th>Skew:</th>           <td>-0.002</td>  <th>  Prob(JB):          </th> <td>7.13e-91</td>\n",
       "</tr>\n",
       "<tr>\n",
       "  <th>Kurtosis:</th>       <td> 1.974</td>  <th>  Cond. No.          </th> <td>    186.</td>\n",
       "</tr>\n",
       "</table><br/><br/>Notes:<br/>[1] Standard Errors assume that the covariance matrix of the errors is correctly specified."
      ],
      "text/plain": [
       "<class 'statsmodels.iolib.summary.Summary'>\n",
       "\"\"\"\n",
       "                            OLS Regression Results                            \n",
       "==============================================================================\n",
       "Dep. Variable:      OverallLevelSplit   R-squared:                       0.450\n",
       "Model:                            OLS   Adj. R-squared:                  0.450\n",
       "Method:                 Least Squares   F-statistic:                     1290.\n",
       "Date:                Sun, 20 Nov 2022   Prob (F-statistic):               0.00\n",
       "Time:                        01:27:58   Log-Likelihood:                -4021.4\n",
       "No. Observations:                9460   AIC:                             8057.\n",
       "Df Residuals:                    9453   BIC:                             8107.\n",
       "Df Model:                           6                                         \n",
       "Covariance Type:            nonrobust                                         \n",
       "==============================================================================================\n",
       "                                 coef    std err          t      P>|t|      [0.025      0.975]\n",
       "----------------------------------------------------------------------------------------------\n",
       "const                         -0.7882      0.023    -35.008      0.000      -0.832      -0.744\n",
       "Special_Education             -0.1183      0.012    -10.071      0.000      -0.141      -0.095\n",
       "GradeAttendedPct              -0.0256      0.002    -10.796      0.000      -0.030      -0.021\n",
       "TeacherTotalYearsOfService    -0.0024      0.000     -5.411      0.000      -0.003      -0.002\n",
       "OverallScoreStd                2.5452      0.036     70.428      0.000       2.474       2.616\n",
       "TestInstance                  -0.0310      0.004     -7.891      0.000      -0.039      -0.023\n",
       "Growth                         0.1292      0.006     23.050      0.000       0.118       0.140\n",
       "==============================================================================\n",
       "Omnibus:                     2491.427   Durbin-Watson:                   1.702\n",
       "Prob(Omnibus):                  0.000   Jarque-Bera (JB):              415.141\n",
       "Skew:                          -0.002   Prob(JB):                     7.13e-91\n",
       "Kurtosis:                       1.974   Cond. No.                         186.\n",
       "==============================================================================\n",
       "\n",
       "Notes:\n",
       "[1] Standard Errors assume that the covariance matrix of the errors is correctly specified.\n",
       "\"\"\""
      ]
     },
     "execution_count": 10,
     "metadata": {},
     "output_type": "execute_result"
    }
   ],
   "source": [
    "# Add constant\n",
    "X_lr = sm.add_constant(X_lr)\n",
    "\n",
    "# Run the model\n",
    "lr_model = sm.OLS(y_lr, X_lr).fit()\n",
    "\n",
    "# View the model's summary\n",
    "lr_model.summary()"
   ]
  },
  {
   "cell_type": "markdown",
   "metadata": {},
   "source": [
    "#### Logistic Regression - Coefficient observations:\n",
    "45% of the time...\n",
    "\n",
    "Along with the constant, there are four additional features with negative coefficient values. High values in any of these will result in a lower OverallLevelSplit value:\n",
    "1. Special_Education\n",
    "2. GradeAttendedPct\n",
    "3. TeacherTotalYearsOfService\n",
    "4. TestInstance\n",
    "\n",
    "Positive coefficient features are:\n",
    "1. OverallScoreStd\n",
    "2. Growth"
   ]
  }
 ],
 "metadata": {
  "kernelspec": {
   "display_name": "Python 3.9.1 ('ADS500B')",
   "language": "python",
   "name": "python3"
  },
  "language_info": {
   "codemirror_mode": {
    "name": "ipython",
    "version": 3
   },
   "file_extension": ".py",
   "mimetype": "text/x-python",
   "name": "python",
   "nbconvert_exporter": "python",
   "pygments_lexer": "ipython3",
   "version": "3.9.1"
  },
  "orig_nbformat": 4,
  "vscode": {
   "interpreter": {
    "hash": "1d26887a0ce0c3c4488c5c94af6ff26a975a652bca174f379a81267199556a29"
   }
  }
 },
 "nbformat": 4,
 "nbformat_minor": 2
}
