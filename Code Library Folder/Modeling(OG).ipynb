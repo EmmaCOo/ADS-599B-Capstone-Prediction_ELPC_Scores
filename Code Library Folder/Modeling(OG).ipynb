{
 "cells": [
  {
   "cell_type": "code",
   "execution_count": 121,
   "metadata": {},
   "outputs": [],
   "source": [
    "import pandas as pd\n",
    "import numpy as np\n",
    "import statsmodels.api as sm\n",
    "from scipy import stats\n",
    "import seaborn as sns\n",
    "import matplotlib.pyplot as plt\n",
    "from sklearn.model_selection import train_test_split\n",
    "from sklearn import linear_model\n",
    "from sklearn.metrics import mean_absolute_error, r2_score"
   ]
  },
  {
   "cell_type": "code",
   "execution_count": 148,
   "metadata": {},
   "outputs": [],
   "source": [
    "# Import file\n",
    "df = pd.read_csv('https://raw.githubusercontent.com/OscarG-DataSci/ADS-599B/main/Data%20Folder/new_elpac.csv')"
   ]
  },
  {
   "cell_type": "code",
   "execution_count": 70,
   "metadata": {},
   "outputs": [
    {
     "data": {
      "text/plain": [
       "<AxesSubplot:>"
      ]
     },
     "execution_count": 70,
     "metadata": {},
     "output_type": "execute_result"
    },
    {
     "data": {
      "image/png": "[encoded data removed]",
      "text/plain": [
       "<Figure size 432x288 with 1 Axes>"
      ]
     },
     "metadata": {
      "needs_background": "light"
     },
     "output_type": "display_data"
    }
   ],
   "source": [
    "# Split OverallLevel in half, creating new feature to use as Target\n",
    "df['OverallLevelSplit'] = np.where(df.OverallLevel == 1, 0, np.where(df.OverallLevel == 2, 0, 1))\n",
    "\n",
    "# Display the new target feature's balance\n",
    "df.OverallLevelSplit.value_counts().sort_index().plot(kind='bar', rot=0)"
   ]
  },
  {
   "cell_type": "code",
   "execution_count": 129,
   "metadata": {},
   "outputs": [
    {
     "data": {
      "text/html": [
       "<style  type=\"text/css\" >\n",
       "#T_976d8_row0_col0{\n",
       "            width:  10em;\n",
       "             height:  80%;\n",
       "            background:  linear-gradient(90deg, transparent 16.5%, lightgreen 16.5%, lightgreen 100.0%, transparent 100.0%);\n",
       "        }#T_976d8_row1_col0{\n",
       "            width:  10em;\n",
       "             height:  80%;\n",
       "            background:  linear-gradient(90deg, transparent 16.5%, lightgreen 16.5%, lightgreen 95.3%, transparent 95.3%);\n",
       "        }#T_976d8_row2_col0{\n",
       "            width:  10em;\n",
       "             height:  80%;\n",
       "            background:  linear-gradient(90deg, transparent 16.5%, lightgreen 16.5%, lightgreen 79.3%, transparent 79.3%);\n",
       "        }#T_976d8_row3_col0{\n",
       "            width:  10em;\n",
       "             height:  80%;\n",
       "            background:  linear-gradient(90deg, transparent 16.5%, lightgreen 16.5%, lightgreen 35.8%, transparent 35.8%);\n",
       "        }#T_976d8_row4_col0{\n",
       "            width:  10em;\n",
       "             height:  80%;\n",
       "            background:  linear-gradient(90deg, transparent 16.5%, lightgreen 16.5%, lightgreen 35.5%, transparent 35.5%);\n",
       "        }#T_976d8_row5_col0{\n",
       "            width:  10em;\n",
       "             height:  80%;\n",
       "            background:  linear-gradient(90deg, transparent 16.5%, lightgreen 16.5%, lightgreen 31.7%, transparent 31.7%);\n",
       "        }#T_976d8_row6_col0{\n",
       "            width:  10em;\n",
       "             height:  80%;\n",
       "            background:  linear-gradient(90deg, transparent 16.5%, lightgreen 16.5%, lightgreen 24.9%, transparent 24.9%);\n",
       "        }#T_976d8_row7_col0{\n",
       "            width:  10em;\n",
       "             height:  80%;\n",
       "            background:  linear-gradient(90deg, transparent 16.5%, lightgreen 16.5%, lightgreen 22.1%, transparent 22.1%);\n",
       "        }#T_976d8_row8_col0{\n",
       "            width:  10em;\n",
       "             height:  80%;\n",
       "            background:  linear-gradient(90deg, transparent 16.5%, lightgreen 16.5%, lightgreen 20.9%, transparent 20.9%);\n",
       "        }#T_976d8_row9_col0,#T_976d8_row10_col0{\n",
       "            width:  10em;\n",
       "             height:  80%;\n",
       "            background:  linear-gradient(90deg, transparent 16.5%, lightgreen 16.5%, lightgreen 19.5%, transparent 19.5%);\n",
       "        }#T_976d8_row11_col0{\n",
       "            width:  10em;\n",
       "             height:  80%;\n",
       "            background:  linear-gradient(90deg, transparent 16.5%, lightgreen 16.5%, lightgreen 19.4%, transparent 19.4%);\n",
       "        }#T_976d8_row12_col0{\n",
       "            width:  10em;\n",
       "             height:  80%;\n",
       "            background:  linear-gradient(90deg, transparent 16.5%, lightgreen 16.5%, lightgreen 19.0%, transparent 19.0%);\n",
       "        }#T_976d8_row13_col0{\n",
       "            width:  10em;\n",
       "             height:  80%;\n",
       "            background:  linear-gradient(90deg, transparent 15.5%, red 15.5%, red 16.5%, transparent 16.5%);\n",
       "        }#T_976d8_row14_col0{\n",
       "            width:  10em;\n",
       "             height:  80%;\n",
       "            background:  linear-gradient(90deg, transparent 15.2%, red 15.2%, red 16.5%, transparent 16.5%);\n",
       "        }#T_976d8_row15_col0{\n",
       "            width:  10em;\n",
       "             height:  80%;\n",
       "            background:  linear-gradient(90deg, transparent 14.6%, red 14.6%, red 16.5%, transparent 16.5%);\n",
       "        }#T_976d8_row16_col0{\n",
       "            width:  10em;\n",
       "             height:  80%;\n",
       "            background:  linear-gradient(90deg, transparent 13.0%, red 13.0%, red 16.5%, transparent 16.5%);\n",
       "        }#T_976d8_row17_col0{\n",
       "            width:  10em;\n",
       "             height:  80%;\n",
       "            background:  linear-gradient(90deg, transparent 12.6%, red 12.6%, red 16.5%, transparent 16.5%);\n",
       "        }#T_976d8_row18_col0{\n",
       "            width:  10em;\n",
       "             height:  80%;\n",
       "            background:  linear-gradient(90deg, transparent 10.3%, red 10.3%, red 16.5%, transparent 16.5%);\n",
       "        }#T_976d8_row19_col0{\n",
       "            width:  10em;\n",
       "             height:  80%;\n",
       "            background:  linear-gradient(90deg,red 16.5%, transparent 16.5%);\n",
       "        }</style><table id=\"T_976d8_\" ><thead>    <tr>        <th class=\"blank level0\" ></th>        <th class=\"col_heading level0 col0\" >Correlation</th>    </tr></thead><tbody>\n",
       "                <tr>\n",
       "                        <th id=\"T_976d8_level0_row0\" class=\"row_heading level0 row0\" >OverallScoreStd</th>\n",
       "                        <td id=\"T_976d8_row0_col0\" class=\"data row0 col0\" >1.000000</td>\n",
       "            </tr>\n",
       "            <tr>\n",
       "                        <th id=\"T_976d8_level0_row1\" class=\"row_heading level0 row1\" >OverallScore</th>\n",
       "                        <td id=\"T_976d8_row1_col0\" class=\"data row1 col0\" >0.943589</td>\n",
       "            </tr>\n",
       "            <tr>\n",
       "                        <th id=\"T_976d8_level0_row2\" class=\"row_heading level0 row2\" >OverallLevel</th>\n",
       "                        <td id=\"T_976d8_row2_col0\" class=\"data row2 col0\" >0.752161</td>\n",
       "            </tr>\n",
       "            <tr>\n",
       "                        <th id=\"T_976d8_level0_row3\" class=\"row_heading level0 row3\" >GradeAttendedPct</th>\n",
       "                        <td id=\"T_976d8_row3_col0\" class=\"data row3 col0\" >0.231152</td>\n",
       "            </tr>\n",
       "            <tr>\n",
       "                        <th id=\"T_976d8_level0_row4\" class=\"row_heading level0 row4\" >GradeLevel</th>\n",
       "                        <td id=\"T_976d8_row4_col0\" class=\"data row4 col0\" >0.227430</td>\n",
       "            </tr>\n",
       "            <tr>\n",
       "                        <th id=\"T_976d8_level0_row5\" class=\"row_heading level0 row5\" >TestInstance</th>\n",
       "                        <td id=\"T_976d8_row5_col0\" class=\"data row5 col0\" >0.182120</td>\n",
       "            </tr>\n",
       "            <tr>\n",
       "                        <th id=\"T_976d8_level0_row6\" class=\"row_heading level0 row6\" >DaysAttended</th>\n",
       "                        <td id=\"T_976d8_row6_col0\" class=\"data row6 col0\" >0.100359</td>\n",
       "            </tr>\n",
       "            <tr>\n",
       "                        <th id=\"T_976d8_level0_row7\" class=\"row_heading level0 row7\" >School_deID</th>\n",
       "                        <td id=\"T_976d8_row7_col0\" class=\"data row7 col0\" >0.066461</td>\n",
       "            </tr>\n",
       "            <tr>\n",
       "                        <th id=\"T_976d8_level0_row8\" class=\"row_heading level0 row8\" >TeacherEthnicity</th>\n",
       "                        <td id=\"T_976d8_row8_col0\" class=\"data row8 col0\" >0.052380</td>\n",
       "            </tr>\n",
       "            <tr>\n",
       "                        <th id=\"T_976d8_level0_row9\" class=\"row_heading level0 row9\" >ExpectedAttendanceDays</th>\n",
       "                        <td id=\"T_976d8_row9_col0\" class=\"data row9 col0\" >0.035928</td>\n",
       "            </tr>\n",
       "            <tr>\n",
       "                        <th id=\"T_976d8_level0_row10\" class=\"row_heading level0 row10\" >EnrolledPct</th>\n",
       "                        <td id=\"T_976d8_row10_col0\" class=\"data row10 col0\" >0.035928</td>\n",
       "            </tr>\n",
       "            <tr>\n",
       "                        <th id=\"T_976d8_level0_row11\" class=\"row_heading level0 row11\" >TotalAssessments</th>\n",
       "                        <td id=\"T_976d8_row11_col0\" class=\"data row11 col0\" >0.033933</td>\n",
       "            </tr>\n",
       "            <tr>\n",
       "                        <th id=\"T_976d8_level0_row12\" class=\"row_heading level0 row12\" >TestDayName</th>\n",
       "                        <td id=\"T_976d8_row12_col0\" class=\"data row12 col0\" >0.029446</td>\n",
       "            </tr>\n",
       "            <tr>\n",
       "                        <th id=\"T_976d8_level0_row13\" class=\"row_heading level0 row13\" >TeacherTotalYearsOfService</th>\n",
       "                        <td id=\"T_976d8_row13_col0\" class=\"data row13 col0\" >-0.012203</td>\n",
       "            </tr>\n",
       "            <tr>\n",
       "                        <th id=\"T_976d8_level0_row14\" class=\"row_heading level0 row14\" >StudentEthnicity</th>\n",
       "                        <td id=\"T_976d8_row14_col0\" class=\"data row14 col0\" >-0.016665</td>\n",
       "            </tr>\n",
       "            <tr>\n",
       "                        <th id=\"T_976d8_level0_row15\" class=\"row_heading level0 row15\" >TeacherGender</th>\n",
       "                        <td id=\"T_976d8_row15_col0\" class=\"data row15 col0\" >-0.023603</td>\n",
       "            </tr>\n",
       "            <tr>\n",
       "                        <th id=\"T_976d8_level0_row16\" class=\"row_heading level0 row16\" >Homeless</th>\n",
       "                        <td id=\"T_976d8_row16_col0\" class=\"data row16 col0\" >-0.042003</td>\n",
       "            </tr>\n",
       "            <tr>\n",
       "                        <th id=\"T_976d8_level0_row17\" class=\"row_heading level0 row17\" >SocioEconomically</th>\n",
       "                        <td id=\"T_976d8_row17_col0\" class=\"data row17 col0\" >-0.047456</td>\n",
       "            </tr>\n",
       "            <tr>\n",
       "                        <th id=\"T_976d8_level0_row18\" class=\"row_heading level0 row18\" >StudentGender</th>\n",
       "                        <td id=\"T_976d8_row18_col0\" class=\"data row18 col0\" >-0.074800</td>\n",
       "            </tr>\n",
       "            <tr>\n",
       "                        <th id=\"T_976d8_level0_row19\" class=\"row_heading level0 row19\" >Special_Education</th>\n",
       "                        <td id=\"T_976d8_row19_col0\" class=\"data row19 col0\" >-0.198217</td>\n",
       "            </tr>\n",
       "    </tbody></table>"
      ],
      "text/plain": [
       "<pandas.io.formats.style.Styler at 0x7fa8fe6ee400>"
      ]
     },
     "execution_count": 129,
     "metadata": {},
     "output_type": "execute_result"
    }
   ],
   "source": [
    "# Correlation for Overall Score Standardized\n",
    "cor = pd.DataFrame(df.corrwith(df['OverallScoreStd']))\n",
    "cor.columns = ['Correlation']\n",
    "cor.head(20).sort_values('Correlation', ascending=False).style.bar(align=\"mid\", color=[\"red\", \"lightgreen\"])"
   ]
  },
  {
   "cell_type": "code",
   "execution_count": 150,
   "metadata": {},
   "outputs": [
    {
     "name": "stdout",
     "output_type": "stream",
     "text": [
      "<class 'pandas.core.frame.DataFrame'>\n",
      "RangeIndex: 9460 entries, 0 to 9459\n",
      "Data columns (total 6 columns):\n",
      " #   Column            Non-Null Count  Dtype  \n",
      "---  ------            --------------  -----  \n",
      " 0   OverallLevel      9460 non-null   int64  \n",
      " 1   TeacherEthnicity  9460 non-null   int64  \n",
      " 2   OverallScoreStd   9460 non-null   float64\n",
      " 3   TotalAssessments  9460 non-null   int64  \n",
      " 4   TestInstance      9460 non-null   int64  \n",
      " 5   Growth            9460 non-null   int64  \n",
      "dtypes: float64(1), int64(5)\n",
      "memory usage: 443.6 KB\n"
     ]
    }
   ],
   "source": [
    "# Drop columns whose p value is too high after viewing summary for OverallScoreStd\n",
    "df.drop(df.columns[[0, 1, 2, 3, 4, 5, 6, 7, 8, 10, 11, 12, 13, 14, 15]], axis=1, inplace=True)\n",
    "df.info()"
   ]
  },
  {
   "cell_type": "code",
   "execution_count": 151,
   "metadata": {},
   "outputs": [
    {
     "data": {
      "text/html": [
       "<style  type=\"text/css\" >\n",
       "#T_d8b1d_row0_col0{\n",
       "            width:  10em;\n",
       "             height:  80%;\n",
       "            background:  linear-gradient(90deg,lightgreen 100.0%, transparent 100.0%);\n",
       "        }#T_d8b1d_row1_col0{\n",
       "            width:  10em;\n",
       "             height:  80%;\n",
       "            background:  linear-gradient(90deg,lightgreen 75.2%, transparent 75.2%);\n",
       "        }#T_d8b1d_row2_col0{\n",
       "            width:  10em;\n",
       "             height:  80%;\n",
       "            background:  linear-gradient(90deg,lightgreen 27.8%, transparent 27.8%);\n",
       "        }#T_d8b1d_row3_col0{\n",
       "            width:  10em;\n",
       "             height:  80%;\n",
       "            background:  linear-gradient(90deg,lightgreen 18.2%, transparent 18.2%);\n",
       "        }#T_d8b1d_row4_col0{\n",
       "            width:  10em;\n",
       "             height:  80%;\n",
       "            background:  linear-gradient(90deg,lightgreen 5.2%, transparent 5.2%);\n",
       "        }#T_d8b1d_row5_col0{\n",
       "            width:  10em;\n",
       "             height:  80%;\n",
       "            background:  linear-gradient(90deg,lightgreen 3.4%, transparent 3.4%);\n",
       "        }</style><table id=\"T_d8b1d_\" ><thead>    <tr>        <th class=\"blank level0\" ></th>        <th class=\"col_heading level0 col0\" >Correlation</th>    </tr></thead><tbody>\n",
       "                <tr>\n",
       "                        <th id=\"T_d8b1d_level0_row0\" class=\"row_heading level0 row0\" >OverallScoreStd</th>\n",
       "                        <td id=\"T_d8b1d_row0_col0\" class=\"data row0 col0\" >1.000000</td>\n",
       "            </tr>\n",
       "            <tr>\n",
       "                        <th id=\"T_d8b1d_level0_row1\" class=\"row_heading level0 row1\" >OverallLevel</th>\n",
       "                        <td id=\"T_d8b1d_row1_col0\" class=\"data row1 col0\" >0.752161</td>\n",
       "            </tr>\n",
       "            <tr>\n",
       "                        <th id=\"T_d8b1d_level0_row2\" class=\"row_heading level0 row2\" >Growth</th>\n",
       "                        <td id=\"T_d8b1d_row2_col0\" class=\"data row2 col0\" >0.278397</td>\n",
       "            </tr>\n",
       "            <tr>\n",
       "                        <th id=\"T_d8b1d_level0_row3\" class=\"row_heading level0 row3\" >TestInstance</th>\n",
       "                        <td id=\"T_d8b1d_row3_col0\" class=\"data row3 col0\" >0.182120</td>\n",
       "            </tr>\n",
       "            <tr>\n",
       "                        <th id=\"T_d8b1d_level0_row4\" class=\"row_heading level0 row4\" >TeacherEthnicity</th>\n",
       "                        <td id=\"T_d8b1d_row4_col0\" class=\"data row4 col0\" >0.052380</td>\n",
       "            </tr>\n",
       "            <tr>\n",
       "                        <th id=\"T_d8b1d_level0_row5\" class=\"row_heading level0 row5\" >TotalAssessments</th>\n",
       "                        <td id=\"T_d8b1d_row5_col0\" class=\"data row5 col0\" >0.033933</td>\n",
       "            </tr>\n",
       "    </tbody></table>"
      ],
      "text/plain": [
       "<pandas.io.formats.style.Styler at 0x7fa8b7c5efa0>"
      ]
     },
     "execution_count": 151,
     "metadata": {},
     "output_type": "execute_result"
    }
   ],
   "source": [
    "# Correlation for Overall Score after dropping features\n",
    "cor = pd.DataFrame(df.corrwith(df['OverallScoreStd']))\n",
    "cor.columns = ['Correlation']\n",
    "cor.head(20).sort_values('Correlation', ascending=False).style.bar(align=\"mid\", color=[\"red\", \"lightgreen\"])"
   ]
  },
  {
   "cell_type": "markdown",
   "metadata": {},
   "source": [
    "### Linear Regression"
   ]
  },
  {
   "cell_type": "code",
   "execution_count": 152,
   "metadata": {},
   "outputs": [
    {
     "name": "stdout",
     "output_type": "stream",
     "text": [
      " X_train    y_train    X_test    y_test\n",
      "(6622, 5) (6622, 1) (2838, 5) (2838, 1)\n"
     ]
    }
   ],
   "source": [
    "X = df.loc[ : , df.columns != 'OverallScoreStd']\n",
    "y = df[['OverallScoreStd']]\n",
    "\n",
    "X_train, X_test, y_train, y_test = train_test_split(X,y,random_state=700, test_size=0.30)\n",
    "print(\" X_train    y_train    X_test    y_test\")\n",
    "print(X_train.shape, y_train.shape, X_test.shape, y_test.shape)"
   ]
  },
  {
   "cell_type": "code",
   "execution_count": 153,
   "metadata": {},
   "outputs": [],
   "source": [
    "# Add constant\n",
    "X = sm.add_constant(X)\n",
    "\n",
    "# Run the model\n",
    "lr_model = sm.OLS(y, X).fit()"
   ]
  },
  {
   "cell_type": "code",
   "execution_count": 154,
   "metadata": {},
   "outputs": [
    {
     "data": {
      "text/html": [
       "<table class=\"simpletable\">\n",
       "<caption>OLS Regression Results</caption>\n",
       "<tr>\n",
       "  <th>Dep. Variable:</th>     <td>OverallScoreStd</td> <th>  R-squared:         </th>  <td>   0.602</td> \n",
       "</tr>\n",
       "<tr>\n",
       "  <th>Model:</th>                   <td>OLS</td>       <th>  Adj. R-squared:    </th>  <td>   0.602</td> \n",
       "</tr>\n",
       "<tr>\n",
       "  <th>Method:</th>             <td>Least Squares</td>  <th>  F-statistic:       </th>  <td>   2861.</td> \n",
       "</tr>\n",
       "<tr>\n",
       "  <th>Date:</th>             <td>Sat, 19 Nov 2022</td> <th>  Prob (F-statistic):</th>   <td>  0.00</td>  \n",
       "</tr>\n",
       "<tr>\n",
       "  <th>Time:</th>                 <td>10:43:14</td>     <th>  Log-Likelihood:    </th>  <td>  11302.</td> \n",
       "</tr>\n",
       "<tr>\n",
       "  <th>No. Observations:</th>      <td>  9460</td>      <th>  AIC:               </th> <td>-2.259e+04</td>\n",
       "</tr>\n",
       "<tr>\n",
       "  <th>Df Residuals:</th>          <td>  9454</td>      <th>  BIC:               </th> <td>-2.255e+04</td>\n",
       "</tr>\n",
       "<tr>\n",
       "  <th>Df Model:</th>              <td>     5</td>      <th>                     </th>      <td> </td>    \n",
       "</tr>\n",
       "<tr>\n",
       "  <th>Covariance Type:</th>      <td>nonrobust</td>    <th>                     </th>      <td> </td>    \n",
       "</tr>\n",
       "</table>\n",
       "<table class=\"simpletable\">\n",
       "<tr>\n",
       "          <td></td>            <th>coef</th>     <th>std err</th>      <th>t</th>      <th>P>|t|</th>  <th>[0.025</th>    <th>0.975]</th>  \n",
       "</tr>\n",
       "<tr>\n",
       "  <th>const</th>            <td>    0.3223</td> <td>    0.003</td> <td>   98.664</td> <td> 0.000</td> <td>    0.316</td> <td>    0.329</td>\n",
       "</tr>\n",
       "<tr>\n",
       "  <th>OverallLevel</th>     <td>    0.0923</td> <td>    0.001</td> <td>  108.343</td> <td> 0.000</td> <td>    0.091</td> <td>    0.094</td>\n",
       "</tr>\n",
       "<tr>\n",
       "  <th>TeacherEthnicity</th> <td>    0.0016</td> <td>    0.000</td> <td>    4.454</td> <td> 0.000</td> <td>    0.001</td> <td>    0.002</td>\n",
       "</tr>\n",
       "<tr>\n",
       "  <th>TotalAssessments</th> <td>   -0.0016</td> <td>    0.001</td> <td>   -2.364</td> <td> 0.018</td> <td>   -0.003</td> <td>   -0.000</td>\n",
       "</tr>\n",
       "<tr>\n",
       "  <th>TestInstance</th>     <td>    0.0203</td> <td>    0.001</td> <td>   24.148</td> <td> 0.000</td> <td>    0.019</td> <td>    0.022</td>\n",
       "</tr>\n",
       "<tr>\n",
       "  <th>Growth</th>           <td>   -0.0081</td> <td>    0.001</td> <td>   -6.900</td> <td> 0.000</td> <td>   -0.010</td> <td>   -0.006</td>\n",
       "</tr>\n",
       "</table>\n",
       "<table class=\"simpletable\">\n",
       "<tr>\n",
       "  <th>Omnibus:</th>       <td>3160.140</td> <th>  Durbin-Watson:     </th> <td>   1.937</td> \n",
       "</tr>\n",
       "<tr>\n",
       "  <th>Prob(Omnibus):</th>  <td> 0.000</td>  <th>  Jarque-Bera (JB):  </th> <td>23245.100</td>\n",
       "</tr>\n",
       "<tr>\n",
       "  <th>Skew:</th>           <td>-1.406</td>  <th>  Prob(JB):          </th> <td>    0.00</td> \n",
       "</tr>\n",
       "<tr>\n",
       "  <th>Kurtosis:</th>       <td>10.146</td>  <th>  Cond. No.          </th> <td>    28.4</td> \n",
       "</tr>\n",
       "</table><br/><br/>Notes:<br/>[1] Standard Errors assume that the covariance matrix of the errors is correctly specified."
      ],
      "text/plain": [
       "<class 'statsmodels.iolib.summary.Summary'>\n",
       "\"\"\"\n",
       "                            OLS Regression Results                            \n",
       "==============================================================================\n",
       "Dep. Variable:        OverallScoreStd   R-squared:                       0.602\n",
       "Model:                            OLS   Adj. R-squared:                  0.602\n",
       "Method:                 Least Squares   F-statistic:                     2861.\n",
       "Date:                Sat, 19 Nov 2022   Prob (F-statistic):               0.00\n",
       "Time:                        10:43:14   Log-Likelihood:                 11302.\n",
       "No. Observations:                9460   AIC:                        -2.259e+04\n",
       "Df Residuals:                    9454   BIC:                        -2.255e+04\n",
       "Df Model:                           5                                         \n",
       "Covariance Type:            nonrobust                                         \n",
       "====================================================================================\n",
       "                       coef    std err          t      P>|t|      [0.025      0.975]\n",
       "------------------------------------------------------------------------------------\n",
       "const                0.3223      0.003     98.664      0.000       0.316       0.329\n",
       "OverallLevel         0.0923      0.001    108.343      0.000       0.091       0.094\n",
       "TeacherEthnicity     0.0016      0.000      4.454      0.000       0.001       0.002\n",
       "TotalAssessments    -0.0016      0.001     -2.364      0.018      -0.003      -0.000\n",
       "TestInstance         0.0203      0.001     24.148      0.000       0.019       0.022\n",
       "Growth              -0.0081      0.001     -6.900      0.000      -0.010      -0.006\n",
       "==============================================================================\n",
       "Omnibus:                     3160.140   Durbin-Watson:                   1.937\n",
       "Prob(Omnibus):                  0.000   Jarque-Bera (JB):            23245.100\n",
       "Skew:                          -1.406   Prob(JB):                         0.00\n",
       "Kurtosis:                      10.146   Cond. No.                         28.4\n",
       "==============================================================================\n",
       "\n",
       "Notes:\n",
       "[1] Standard Errors assume that the covariance matrix of the errors is correctly specified.\n",
       "\"\"\""
      ]
     },
     "execution_count": 154,
     "metadata": {},
     "output_type": "execute_result"
    }
   ],
   "source": [
    "# Dropped a few columns due to p-value being too high\n",
    "# Also removed OverallScore due to Cond. No. being too high\n",
    "lr_model.summary()"
   ]
  }
 ],
 "metadata": {
  "kernelspec": {
   "display_name": "Python 3.9.1 ('ADS500B')",
   "language": "python",
   "name": "python3"
  },
  "language_info": {
   "codemirror_mode": {
    "name": "ipython",
    "version": 3
   },
   "file_extension": ".py",
   "mimetype": "text/x-python",
   "name": "python",
   "nbconvert_exporter": "python",
   "pygments_lexer": "ipython3",
   "version": "3.9.1"
  },
  "orig_nbformat": 4,
  "vscode": {
   "interpreter": {
    "hash": "1d26887a0ce0c3c4488c5c94af6ff26a975a652bca174f379a81267199556a29"
   }
  }
 },
 "nbformat": 4,
 "nbformat_minor": 2
}
