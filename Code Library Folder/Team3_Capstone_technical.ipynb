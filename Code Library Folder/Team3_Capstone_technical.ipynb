{
 "cells": [
  {
   "cell_type": "markdown",
   "metadata": {},
   "source": [
    "# **Prediction of English Language Proficiency Assessments for California (ELPAC) Scores Using Machine Learning Approach**\n",
    "\n",
    "### **TEAM MEMBERS: TEAM 3:  EMMA OO, LUKE AWINO, OSCAR GIL**\n",
    "\n",
    "### **Applied Data Science Master’s Program, Shiley Marcos School of Engineering / University of San Diego**\n",
    "\n",
    "**DATE:  11/28/2022**"
   ]
  },
  {
   "cell_type": "code",
   "execution_count": 1,
   "metadata": {},
   "outputs": [
    {
     "name": "stderr",
     "output_type": "stream",
     "text": [
      "/Users/oscargil/miniconda3/envs/ADS500B/lib/python3.9/site-packages/sklearn/experimental/enable_hist_gradient_boosting.py:16: UserWarning: Since version 1.0, it is not needed to import enable_hist_gradient_boosting anymore. HistGradientBoostingClassifier and HistGradientBoostingRegressor are now stable and can be normally imported from sklearn.ensemble.\n",
      "  warnings.warn(\n"
     ]
    }
   ],
   "source": [
    "#load packages\n",
    "import pandas as pd\n",
    "import numpy as np\n",
    "import datetime\n",
    "import sqlite3\n",
    "import matplotlib.pyplot as plt\n",
    "import seaborn as sns\n",
    "import datetime\n",
    "from sklearn.utils import resample\n",
    "from sklearn.preprocessing import LabelEncoder\n",
    "from sklearn.model_selection import train_test_split\n",
    "#modeling packages\n",
    "from sklearn.linear_model import LogisticRegression\n",
    "from sklearn.metrics import mean_squared_error, r2_score\n",
    "from sklearn import preprocessing\n",
    "from sklearn import metrics\n",
    "from sklearn.metrics import accuracy_score\n",
    "from sklearn.metrics import classification_report,confusion_matrix,plot_confusion_matrix\n",
    "from sklearn.preprocessing import StandardScaler\n",
    "from sklearn.naive_bayes import GaussianNB\n",
    "from sklearn.model_selection import GridSearchCV\n",
    "from sklearn.svm import SVC\n",
    "from sklearn.ensemble import GradientBoostingRegressor, GradientBoostingClassifier\n",
    "from sklearn.tree import DecisionTreeRegressor\n",
    "from sklearn.experimental import enable_hist_gradient_boosting\n",
    "from sklearn.ensemble import HistGradientBoostingClassifier\n",
    "from sklearn.model_selection import train_test_split\n",
    "from sklearn.neighbors import KNeighborsClassifier\n",
    "from sklearn.tree import DecisionTreeClassifier, export_text\n",
    "from sklearn.ensemble import RandomForestClassifier\n",
    "from sklearn.metrics import f1_score\n",
    "from sklearn import tree\n",
    "import warnings \n",
    "warnings.filterwarnings(action= 'ignore')\n",
    "pd.set_option('display.max_rows', 500)\n",
    "pd.set_option('display.max_columns', 500)\n",
    "pd.set_option('display.width', 1000)"
   ]
  },
  {
   "cell_type": "markdown",
   "metadata": {},
   "source": [
    "#### **Import files from Excel file containing ELPAC results**"
   ]
  },
  {
   "cell_type": "code",
   "execution_count": 2,
   "metadata": {},
   "outputs": [],
   "source": [
    "#path to the dataset\n",
    "ELPAC_file_path = '/Users/oscargil/Desktop/ADS-599B/Raw_Files/ELPAC.xlsx'\n",
    "# Import ELPAC data into dataframes\n",
    "elpac1718 = pd.read_excel(open(ELPAC_file_path, 'rb'), sheet_name='2017-2018', dtype=str)\n",
    "# Drop identified columns\n",
    "elpac1718.drop(elpac1718.columns[[0, 1, 5, 7, 8, 9, 10]], axis=1, inplace=True)"
   ]
  },
  {
   "cell_type": "code",
   "execution_count": 3,
   "metadata": {},
   "outputs": [],
   "source": [
    "# Import ELPAC data into dataframes\n",
    "elpac1819 = pd.read_excel(open(ELPAC_file_path, 'rb'), sheet_name='2018-2019', dtype=str)\n",
    "# Drop identified columns\n",
    "elpac1819.drop(elpac1819.columns[[0, 1, 5, 7, 8, 9, 10]], axis=1, inplace=True)"
   ]
  },
  {
   "cell_type": "code",
   "execution_count": 4,
   "metadata": {},
   "outputs": [],
   "source": [
    "# Import ELPAC data into dataframes\n",
    "elpac1920 = pd.read_excel(open(ELPAC_file_path, 'rb'), sheet_name='2019-2020', dtype=str)\n",
    "# Drop identified columns\n",
    "elpac1920.drop(elpac1920.columns[[0, 1, 5, 7, 8, 9, 10]], axis=1, inplace=True)"
   ]
  },
  {
   "cell_type": "code",
   "execution_count": 5,
   "metadata": {},
   "outputs": [],
   "source": [
    "# Import ELPAC data into dataframes\n",
    "elpac2021 = pd.read_excel(open(ELPAC_file_path, 'rb'), sheet_name='2020-2021', dtype=str)\n",
    "# Drop identified columns\n",
    "elpac2021.drop(elpac2021.columns[[0, 1, 6, 8, 9, 10, 11]], axis=1, inplace=True)"
   ]
  },
  {
   "cell_type": "code",
   "execution_count": 6,
   "metadata": {},
   "outputs": [],
   "source": [
    "# Import ELPAC data into dataframes\n",
    "elpac2122 = pd.read_excel(open(ELPAC_file_path, 'rb'), sheet_name='2021-2022', dtype=str)\n",
    "# Remove 44 results associated to the Alternative ELPAC\n",
    "elpac2122 = elpac2122.query(\"RecordType == '21'\")\n",
    "\n",
    "# Drop identified columns\n",
    "elpac2122.drop(elpac2122.columns[[1, 5, 7, 8, 9, 17, 19, 21, 54, 55, 56, 57, 58, 61, 62, 63, 64, 70, 71, 72, 73, 79, 80, 81, 82, 88, 89, 90, 91, 97, 98, 99, 100]], axis=1, inplace=True)"
   ]
  },
  {
   "cell_type": "markdown",
   "metadata": {},
   "source": [
    "#### **Create a unique list of all SSIDs and assign them the Pandas Dataframe index number as their de-identified number**"
   ]
  },
  {
   "cell_type": "code",
   "execution_count": 7,
   "metadata": {},
   "outputs": [],
   "source": [
    "# Create data frame of SSIDs to de-identify\n",
    "ssids = pd.DataFrame(pd.concat([elpac1718.elpac_2018_ssid, elpac1819.elpac_2019_ssid, elpac1920.elpac_2020_ssid, elpac2021.elpac_2021_ssid, elpac2122.SSID], axis=0))\n",
    "# Unique SSID values\n",
    "ssid_deidentify = pd.DataFrame(ssids[0].unique())\n",
    "ssid_deidentify.columns = ['SSID']\n",
    "# Assign Data frame index as de-identified ID\n",
    "ssid_deidentify['Stu_deID'] =  ssid_deidentify.index"
   ]
  },
  {
   "cell_type": "code",
   "execution_count": 8,
   "metadata": {},
   "outputs": [],
   "source": [
    "# Create local file to have as reference to Stu_deID\n",
    "ssid_deidentify.to_csv('/Users/oscargil/Desktop/ADS-599B/Raw_Files/ssid_deidentify.csv', encoding='utf-8', index=False)"
   ]
  },
  {
   "cell_type": "markdown",
   "metadata": {},
   "source": [
    "#### **Merge de-identified ID into ELPAC dataframes, then drop the SSID field containing the real values**"
   ]
  },
  {
   "cell_type": "code",
   "execution_count": 9,
   "metadata": {},
   "outputs": [],
   "source": [
    "# Merge in de-identier\n",
    "elpac1718 = elpac1718.merge(ssid_deidentify, how=\"inner\", left_on='elpac_2018_ssid', right_on='SSID')\n",
    "# Drop SSID columns\n",
    "elpac1718.drop(elpac1718.columns[[3, 57]], axis=1, inplace=True)"
   ]
  },
  {
   "cell_type": "code",
   "execution_count": 10,
   "metadata": {},
   "outputs": [],
   "source": [
    "# Merge in de-identier\n",
    "elpac1819 = elpac1819.merge(ssid_deidentify, how=\"inner\", left_on='elpac_2019_ssid', right_on='SSID')\n",
    "# Drop SSID columns\n",
    "elpac1819.drop(elpac1819.columns[[3, 54]], axis=1, inplace=True)"
   ]
  },
  {
   "cell_type": "code",
   "execution_count": 11,
   "metadata": {},
   "outputs": [],
   "source": [
    "# Merge in de-identier\n",
    "elpac1920 = elpac1920.merge(ssid_deidentify, how=\"inner\", left_on='elpac_2020_ssid', right_on='SSID')\n",
    "# Drop SSID columns\n",
    "elpac1920.drop(elpac1920.columns[[3, 79]], axis=1, inplace=True)"
   ]
  },
  {
   "cell_type": "code",
   "execution_count": 12,
   "metadata": {},
   "outputs": [],
   "source": [
    "# Merge in de-identier\n",
    "elpac2021 = elpac2021.merge(ssid_deidentify, how=\"inner\", left_on='elpac_2021_ssid', right_on='SSID')\n",
    "# Drop SSID columns\n",
    "elpac2021.drop(elpac2021.columns[[4, 120]], axis=1, inplace=True)"
   ]
  },
  {
   "cell_type": "code",
   "execution_count": 13,
   "metadata": {},
   "outputs": [],
   "source": [
    "# Merge in de-identier\n",
    "elpac2122 = elpac2122.merge(ssid_deidentify, how=\"inner\", left_on='SSID', right_on='SSID')\n",
    "# Drop SSID columns\n",
    "elpac2122.drop(elpac2122.columns[[3]], axis=1, inplace=True)"
   ]
  },
  {
   "cell_type": "markdown",
   "metadata": {},
   "source": [
    "#### **Add AcademicYear column to each ELPAC file, to join into attendance files**"
   ]
  },
  {
   "cell_type": "code",
   "execution_count": 14,
   "metadata": {},
   "outputs": [],
   "source": [
    "# Add AcademicYear column\n",
    "elpac1718['AcademicYear'] = '2017-2018'\n",
    "elpac1819['AcademicYear'] = '2018-2019'\n",
    "elpac1920['AcademicYear'] = '2019-2020'\n",
    "elpac2021['AcademicYear'] = '2020-2021'\n",
    "elpac2122['AcademicYear'] = '2021-2022'"
   ]
  },
  {
   "cell_type": "markdown",
   "metadata": {},
   "source": [
    "#### **Identify features to keep from ELPAC files**"
   ]
  },
  {
   "cell_type": "code",
   "execution_count": 15,
   "metadata": {},
   "outputs": [],
   "source": [
    "# Subset ELPAC files\n",
    "elpac1718 = elpac1718.iloc[:,[56, 57, 3, 4, 7, 10, 11]]\n",
    "elpac1819 = elpac1819.iloc[:,[53, 54, 3, 4, 7, 10, 11]]\n",
    "elpac1920 = elpac1920.iloc[:,[78, 79, 3, 6, 7, 8, 9]]\n",
    "elpac2021 = elpac2021.iloc[:,[119, 120, 4, 5, 8, 9, 10]]\n",
    "elpac2122 = elpac2122[['Stu_deID', 'AcademicYear','DateofBirth', 'CALPADSGrade', 'FinalTestCompletedDate', 'OverallScaleScore', 'OverallPL']]\n",
    "\n",
    "# Rename columns\n",
    "elpac_columns = ['Stu_deID', 'AcademicYear', 'DOB', 'GradeLevel', 'TestDate', 'OverallScore', 'OverallLevel']\n",
    "\n",
    "elpac1718.columns = elpac_columns\n",
    "elpac1819.columns = elpac_columns\n",
    "elpac1920.columns = elpac_columns\n",
    "elpac2021.columns = elpac_columns\n",
    "elpac2122.columns = elpac_columns"
   ]
  },
  {
   "cell_type": "code",
   "execution_count": 16,
   "metadata": {},
   "outputs": [],
   "source": [
    "# Data conversions - DOB to datetime\n",
    "elpac1718['DOB'] = pd.to_datetime(elpac1718['DOB'])\n",
    "elpac1819['DOB'] = pd.to_datetime(elpac1819['DOB'])\n",
    "elpac1920['DOB'] = pd.to_datetime(elpac1920['DOB'])\n",
    "elpac2021['DOB'] = pd.to_datetime(elpac2021['DOB'])\n",
    "elpac2122['DOB'] = pd.to_datetime(elpac2122['DOB'])"
   ]
  },
  {
   "cell_type": "code",
   "execution_count": 17,
   "metadata": {},
   "outputs": [],
   "source": [
    "# Data conversions - TestDate to datetime\n",
    "elpac1718['TestDate'] = pd.to_datetime(elpac1718['TestDate'])\n",
    "elpac1819['TestDate'] = pd.to_datetime(elpac1819['TestDate'])\n",
    "elpac1920['TestDate'] = pd.to_datetime(elpac1920['TestDate'])\n",
    "elpac2021['TestDate'] = pd.to_datetime(elpac2021['TestDate'])\n",
    "elpac2122['TestDate'] = pd.to_datetime(elpac2122['TestDate'])"
   ]
  },
  {
   "cell_type": "code",
   "execution_count": 18,
   "metadata": {},
   "outputs": [],
   "source": [
    "# Data conversions - GradeLevel clean up, eliminate extra zero, convert KN to 0\n",
    "elpac1718['GradeLevel'] = elpac1718.GradeLevel.replace('KN', '0').astype(int)\n",
    "elpac1819['GradeLevel'] = elpac1819.GradeLevel.replace('KN', '0').astype(int)\n",
    "elpac1920['GradeLevel'] = elpac1920.GradeLevel.replace('KN', '0').astype(int)\n",
    "elpac2021['GradeLevel'] = elpac2021.GradeLevel.replace('KN', '0').astype(int)\n",
    "elpac2122['GradeLevel'] = elpac2122.GradeLevel.replace('KN', '0').astype(int)"
   ]
  },
  {
   "cell_type": "code",
   "execution_count": 19,
   "metadata": {},
   "outputs": [],
   "source": [
    "# Convert NS (no score) rows to 0\n",
    "elpac1718['OverallScore'] = elpac1718.OverallScore.replace('NS',0).fillna(0).astype(int)\n",
    "elpac1819['OverallScore'] = elpac1819.OverallScore.replace('NS',0).fillna(0).astype(int)\n",
    "elpac1920['OverallScore'] = elpac1920.OverallScore.replace('NS',0).fillna(0).astype(int)\n",
    "elpac2021['OverallScore'] = elpac2021.OverallScore.replace('NS',0).fillna(0).astype(int)\n",
    "elpac2122['OverallScore'] = elpac2122.OverallScore.replace('NS',0).fillna(0).astype(int)\n",
    "\n",
    "elpac1718['OverallLevel'] = elpac1718.OverallLevel.replace('NS',0).fillna(0).astype(int)\n",
    "elpac1819['OverallLevel'] = elpac1819.OverallLevel.replace('NS',0).fillna(0).astype(int)\n",
    "elpac1920['OverallLevel'] = elpac1920.OverallLevel.replace('NS',0).fillna(0).astype(int)\n",
    "elpac2021['OverallLevel'] = elpac2021.OverallLevel.replace('NS',0).fillna(0).astype(int)\n",
    "elpac2122['OverallLevel'] = elpac2122.OverallLevel.replace('NS',0).fillna(0).astype(int)"
   ]
  },
  {
   "cell_type": "code",
   "execution_count": 20,
   "metadata": {},
   "outputs": [],
   "source": [
    "# Update Elpac file to contain all years\n",
    "elpac = pd.concat([elpac1718, elpac1819, elpac1920, elpac2021, elpac2122], axis=0)"
   ]
  },
  {
   "cell_type": "markdown",
   "metadata": {},
   "source": [
    "#### **Feature Engineering Ideas**\n",
    "\n",
    "* Day of the week\n",
    "* Grade Level + percentage of days enrolled (so for example, 4th grade would not be represented by a '4', instead, by '4.80' - a 4th grader who attended 80% of the time)\n",
    "* Number of Levels a student progressed from previous ELPAC (17-18 a student who scores a Level 1, then in 18-19 scoed a Level 3; the student progressed 2 levels)\n",
    "* Age of Student at time of test\n",
    "* Teacher information (years teaching)\n",
    "* Total in Household\n",
    "* Household income\n",
    "* Homeless"
   ]
  },
  {
   "cell_type": "code",
   "execution_count": 21,
   "metadata": {},
   "outputs": [],
   "source": [
    "# Feature Engineering\n",
    "# TestDayName\n",
    "elpac['TestDayName'] = elpac.TestDate.dt.day_name()"
   ]
  },
  {
   "cell_type": "code",
   "execution_count": 22,
   "metadata": {},
   "outputs": [],
   "source": [
    "# Age at time of test\n",
    "elpac['TestAge'] = (elpac.TestDate - elpac.DOB) / np.timedelta64(1, 'Y')"
   ]
  },
  {
   "cell_type": "code",
   "execution_count": 23,
   "metadata": {},
   "outputs": [
    {
     "data": {
      "text/html": [
       "<div>\n",
       "<style scoped>\n",
       "    .dataframe tbody tr th:only-of-type {\n",
       "        vertical-align: middle;\n",
       "    }\n",
       "\n",
       "    .dataframe tbody tr th {\n",
       "        vertical-align: top;\n",
       "    }\n",
       "\n",
       "    .dataframe thead th {\n",
       "        text-align: right;\n",
       "    }\n",
       "</style>\n",
       "<table border=\"1\" class=\"dataframe\">\n",
       "  <thead>\n",
       "    <tr style=\"text-align: right;\">\n",
       "      <th></th>\n",
       "      <th>Stu_deID</th>\n",
       "      <th>AcademicYear</th>\n",
       "      <th>DOB</th>\n",
       "      <th>GradeLevel</th>\n",
       "      <th>TestDate</th>\n",
       "      <th>OverallScore</th>\n",
       "      <th>OverallLevel</th>\n",
       "      <th>TestDayName</th>\n",
       "      <th>TestAge</th>\n",
       "    </tr>\n",
       "  </thead>\n",
       "  <tbody>\n",
       "    <tr>\n",
       "      <th>841</th>\n",
       "      <td>813</td>\n",
       "      <td>2019-2020</td>\n",
       "      <td>2011-07-18</td>\n",
       "      <td>3</td>\n",
       "      <td>2020-03-11</td>\n",
       "      <td>1425</td>\n",
       "      <td>1</td>\n",
       "      <td>Wednesday</td>\n",
       "      <td>8.649048</td>\n",
       "    </tr>\n",
       "    <tr>\n",
       "      <th>426</th>\n",
       "      <td>426</td>\n",
       "      <td>2017-2018</td>\n",
       "      <td>2009-05-19</td>\n",
       "      <td>3</td>\n",
       "      <td>2018-03-09</td>\n",
       "      <td>1548</td>\n",
       "      <td>4</td>\n",
       "      <td>Friday</td>\n",
       "      <td>8.805109</td>\n",
       "    </tr>\n",
       "    <tr>\n",
       "      <th>1118</th>\n",
       "      <td>4193</td>\n",
       "      <td>2020-2021</td>\n",
       "      <td>2013-05-12</td>\n",
       "      <td>2</td>\n",
       "      <td>2021-05-03</td>\n",
       "      <td>1420</td>\n",
       "      <td>1</td>\n",
       "      <td>Monday</td>\n",
       "      <td>7.975523</td>\n",
       "    </tr>\n",
       "    <tr>\n",
       "      <th>297</th>\n",
       "      <td>263</td>\n",
       "      <td>2019-2020</td>\n",
       "      <td>2012-11-08</td>\n",
       "      <td>2</td>\n",
       "      <td>NaT</td>\n",
       "      <td>0</td>\n",
       "      <td>0</td>\n",
       "      <td>NaN</td>\n",
       "      <td>NaN</td>\n",
       "    </tr>\n",
       "    <tr>\n",
       "      <th>1837</th>\n",
       "      <td>2824</td>\n",
       "      <td>2021-2022</td>\n",
       "      <td>2010-10-14</td>\n",
       "      <td>5</td>\n",
       "      <td>2022-04-26</td>\n",
       "      <td>1595</td>\n",
       "      <td>4</td>\n",
       "      <td>Tuesday</td>\n",
       "      <td>11.532064</td>\n",
       "    </tr>\n",
       "  </tbody>\n",
       "</table>\n",
       "</div>"
      ],
      "text/plain": [
       "      Stu_deID AcademicYear        DOB  GradeLevel   TestDate  OverallScore  OverallLevel TestDayName    TestAge\n",
       "841        813    2019-2020 2011-07-18           3 2020-03-11          1425             1   Wednesday   8.649048\n",
       "426        426    2017-2018 2009-05-19           3 2018-03-09          1548             4      Friday   8.805109\n",
       "1118      4193    2020-2021 2013-05-12           2 2021-05-03          1420             1      Monday   7.975523\n",
       "297        263    2019-2020 2012-11-08           2        NaT             0             0         NaN        NaN\n",
       "1837      2824    2021-2022 2010-10-14           5 2022-04-26          1595             4     Tuesday  11.532064"
      ]
     },
     "execution_count": 23,
     "metadata": {},
     "output_type": "execute_result"
    }
   ],
   "source": [
    "# View a sample of dataframe\n",
    "elpac.sample(5)"
   ]
  },
  {
   "cell_type": "markdown",
   "metadata": {},
   "source": [
    "### **Attendance Files**"
   ]
  },
  {
   "cell_type": "code",
   "execution_count": 24,
   "metadata": {},
   "outputs": [],
   "source": [
    "Attendance_file_path = '/Users/oscargil/Desktop/ADS-599B/Raw_Files/'"
   ]
  },
  {
   "cell_type": "code",
   "execution_count": 25,
   "metadata": {},
   "outputs": [],
   "source": [
    "# Load attendance data\n",
    "att_1718 = pd.read_csv(Attendance_file_path + 'STAS_ODS_1718.txt', sep='^', dtype=str, header=None)\n",
    "att_1819 = pd.read_csv(Attendance_file_path + 'STAS_ODS_1819.txt', sep='^', dtype=str, header=None)\n",
    "att_1920 = pd.read_csv(Attendance_file_path + 'STAS_ODS_1920.txt', sep='^', dtype=str, header=None)\n",
    "att_2021 = pd.read_csv(Attendance_file_path + 'STAS_ODS_2021.txt', sep='^', dtype=str, header=None)\n",
    "att_2122 = pd.read_csv(Attendance_file_path + 'STAS_ODS_2122.txt', sep='^', dtype=str, header=None)"
   ]
  },
  {
   "cell_type": "code",
   "execution_count": 26,
   "metadata": {},
   "outputs": [],
   "source": [
    "# columns to keep\n",
    "att_1718 = att_1718.iloc[:,[5, 6, 14, 15]].fillna(0.00)\n",
    "att_1819 = att_1819.iloc[:,[5, 6, 14, 15]].fillna(0.00)\n",
    "att_1920 = att_1920.iloc[:,[5, 6, 14, 15]].fillna(0.00)\n",
    "att_2021 = att_2021.iloc[:,[5, 6, 14, 15]].fillna(0.00)\n",
    "att_2122 = att_2122.iloc[:,[5, 6, 14, 15]].fillna(0.00)"
   ]
  },
  {
   "cell_type": "code",
   "execution_count": 27,
   "metadata": {},
   "outputs": [],
   "source": [
    "# Assign column names\n",
    "att_columns = ['AcademicYear', 'SSID', 'ExpectedAttendanceDays', 'DaysAttended']\n",
    "\n",
    "att_1718.columns = att_columns\n",
    "att_1819.columns = att_columns\n",
    "att_1920.columns = att_columns\n",
    "att_2021.columns = att_columns\n",
    "att_2122.columns = att_columns"
   ]
  },
  {
   "cell_type": "code",
   "execution_count": 28,
   "metadata": {},
   "outputs": [],
   "source": [
    "# Data conversions\n",
    "att_1718['ExpectedAttendanceDays'] = att_1718.ExpectedAttendanceDays.astype(float)\n",
    "att_1819['ExpectedAttendanceDays'] = att_1819.ExpectedAttendanceDays.astype(float)\n",
    "att_1920['ExpectedAttendanceDays'] = att_1920.ExpectedAttendanceDays.astype(float)\n",
    "att_2021['ExpectedAttendanceDays'] = att_2021.ExpectedAttendanceDays.astype(float)\n",
    "att_2122['ExpectedAttendanceDays'] = att_2122.ExpectedAttendanceDays.astype(float)"
   ]
  },
  {
   "cell_type": "code",
   "execution_count": 29,
   "metadata": {},
   "outputs": [],
   "source": [
    "# Data conversions\n",
    "att_1718['DaysAttended'] = att_1718.DaysAttended.astype(float)\n",
    "att_1819['DaysAttended'] = att_1819.DaysAttended.astype(float)\n",
    "att_1920['DaysAttended'] = att_1920.DaysAttended.astype(float)\n",
    "att_2021['DaysAttended'] = att_2021.DaysAttended.astype(float)\n",
    "att_2122['DaysAttended'] = att_2122.DaysAttended.astype(float)"
   ]
  },
  {
   "cell_type": "code",
   "execution_count": 30,
   "metadata": {},
   "outputs": [],
   "source": [
    "# Att into one file\n",
    "att = pd.concat([att_1718, att_1819, att_1920, att_2021, att_2122], axis =0)"
   ]
  },
  {
   "cell_type": "markdown",
   "metadata": {},
   "source": [
    "### **Student demographics and Teacher data**"
   ]
  },
  {
   "cell_type": "code",
   "execution_count": 31,
   "metadata": {},
   "outputs": [],
   "source": [
    "# Informaation from SQL query in Data Server with file name \"CAPSTONE SQL code.sql\"\n",
    "teacher_stuDemographics = pd.read_csv('/Users/oscargil/Desktop/ADS-599B/Raw_Files/teacher_stuDemographics.csv', dtype=str)"
   ]
  },
  {
   "cell_type": "code",
   "execution_count": 32,
   "metadata": {},
   "outputs": [],
   "source": [
    "# Unique Schoolname values - only present in the 2021-2022 file\n",
    "schools_deidentify = pd.DataFrame(teacher_stuDemographics.SchoolName.unique())\n",
    "\n",
    "schools_deidentify.columns = ['SchoolName']\n",
    "\n",
    "# Assign Data frame index as de-identified ID\n",
    "schools_deidentify['School_deID'] =  schools_deidentify.index\n",
    "\n",
    "# Merge in de-identier\n",
    "teacher_stuDemographics = teacher_stuDemographics.merge(schools_deidentify, how=\"inner\", left_on='SchoolName', right_on='SchoolName')\n",
    "\n",
    "# Drop school name column\n",
    "teacher_stuDemographics.drop(teacher_stuDemographics.columns[[2]], axis=1, inplace=True)\n",
    "\n",
    "# Create local file to have as reference to School_deID\n",
    "schools_deidentify.to_csv('/Users/oscargil/Desktop/ADS-599B/Raw_Files/schools_deidentify.csv', encoding='utf-8', index=False)\n"
   ]
  },
  {
   "cell_type": "code",
   "execution_count": 33,
   "metadata": {},
   "outputs": [],
   "source": [
    "# Incorporate deidentified student ID\n",
    "teacher_stuDemographics = teacher_stuDemographics.merge(ssid_deidentify, how=\"inner\", left_on='SSID', right_on='SSID')\n",
    "\n",
    "# Drop student ID column\n",
    "teacher_stuDemographics.drop(teacher_stuDemographics.columns[[1]], axis=1, inplace=True)"
   ]
  },
  {
   "cell_type": "code",
   "execution_count": 34,
   "metadata": {},
   "outputs": [],
   "source": [
    "# Update elpac dataframe\n",
    "elpac = elpac.merge(teacher_stuDemographics, how=\"inner\", left_on=('AcademicYear', 'Stu_deID'), right_on=('AcademicYear', 'Stu_deID'))"
   ]
  },
  {
   "cell_type": "markdown",
   "metadata": {},
   "source": [
    "### **Data transformation and Feauture Engineering Using SQLite**"
   ]
  },
  {
   "cell_type": "code",
   "execution_count": 35,
   "metadata": {},
   "outputs": [],
   "source": [
    "cnn = sqlite3.connect('/Users/oscargil/Desktop/ADS-599B/Raw_Files/db.db')"
   ]
  },
  {
   "cell_type": "code",
   "execution_count": 36,
   "metadata": {},
   "outputs": [],
   "source": [
    "# Load dataframes into sql\n",
    "att.to_sql(\"att\", cnn, if_exists='replace')\n",
    "ssid_deidentify.to_sql(\"ssid\", cnn, if_exists='replace')"
   ]
  },
  {
   "cell_type": "code",
   "execution_count": 37,
   "metadata": {},
   "outputs": [],
   "source": [
    "%load_ext sql"
   ]
  },
  {
   "cell_type": "code",
   "execution_count": 38,
   "metadata": {},
   "outputs": [
    {
     "data": {
      "text/plain": [
       "'Connected: @/Users/oscargil/Desktop/ADS-599B/Raw_Files/db.db'"
      ]
     },
     "execution_count": 38,
     "metadata": {},
     "output_type": "execute_result"
    }
   ],
   "source": [
    "%sql sqlite:////Users/oscargil/Desktop/ADS-599B/Raw_Files/db.db"
   ]
  },
  {
   "cell_type": "code",
   "execution_count": 39,
   "metadata": {},
   "outputs": [
    {
     "name": "stdout",
     "output_type": "stream",
     "text": [
      " * sqlite:////Users/oscargil/Desktop/ADS-599B/Raw_Files/db.db\n",
      "Done.\n"
     ]
    },
    {
     "data": {
      "text/html": [
       "<table>\n",
       "    <thead>\n",
       "        <tr>\n",
       "            <th>Stu_deID</th>\n",
       "            <th>AcademicYear</th>\n",
       "            <th>ExpectedAttendanceDays</th>\n",
       "            <th>DaysAttended</th>\n",
       "            <th>AttendedPct</th>\n",
       "            <th>EnrolledPct</th>\n",
       "        </tr>\n",
       "    </thead>\n",
       "    <tbody>\n",
       "        <tr>\n",
       "            <td>3482</td>\n",
       "            <td>2019-2020</td>\n",
       "            <td>167.0</td>\n",
       "            <td>160.0</td>\n",
       "            <td>0.9580838323353293</td>\n",
       "            <td>0.9277777777777778</td>\n",
       "        </tr>\n",
       "        <tr>\n",
       "            <td>3</td>\n",
       "            <td>2017-2018</td>\n",
       "            <td>180.0</td>\n",
       "            <td>175.0</td>\n",
       "            <td>0.9722222222222222</td>\n",
       "            <td>1.0</td>\n",
       "        </tr>\n",
       "        <tr>\n",
       "            <td>3</td>\n",
       "            <td>2018-2019</td>\n",
       "            <td>180.0</td>\n",
       "            <td>168.0</td>\n",
       "            <td>0.9333333333333333</td>\n",
       "            <td>1.0</td>\n",
       "        </tr>\n",
       "        <tr>\n",
       "            <td>3</td>\n",
       "            <td>2019-2020</td>\n",
       "            <td>180.0</td>\n",
       "            <td>178.0</td>\n",
       "            <td>0.9888888888888889</td>\n",
       "            <td>1.0</td>\n",
       "        </tr>\n",
       "        <tr>\n",
       "            <td>4</td>\n",
       "            <td>2017-2018</td>\n",
       "            <td>180.0</td>\n",
       "            <td>125.0</td>\n",
       "            <td>0.6944444444444444</td>\n",
       "            <td>1.0</td>\n",
       "        </tr>\n",
       "        <tr>\n",
       "            <td>4</td>\n",
       "            <td>2018-2019</td>\n",
       "            <td>103.0</td>\n",
       "            <td>90.0</td>\n",
       "            <td>0.8737864077669902</td>\n",
       "            <td>0.5722222222222222</td>\n",
       "        </tr>\n",
       "        <tr>\n",
       "            <td>4529</td>\n",
       "            <td>2021-2022</td>\n",
       "            <td>170.0</td>\n",
       "            <td>138.0</td>\n",
       "            <td>0.8117647058823529</td>\n",
       "            <td>0.9444444444444444</td>\n",
       "        </tr>\n",
       "        <tr>\n",
       "            <td>4002</td>\n",
       "            <td>2020-2021</td>\n",
       "            <td>180.0</td>\n",
       "            <td>167.0</td>\n",
       "            <td>0.9277777777777778</td>\n",
       "            <td>1.0</td>\n",
       "        </tr>\n",
       "        <tr>\n",
       "            <td>4002</td>\n",
       "            <td>2021-2022</td>\n",
       "            <td>170.0</td>\n",
       "            <td>139.0</td>\n",
       "            <td>0.8176470588235294</td>\n",
       "            <td>0.9444444444444444</td>\n",
       "        </tr>\n",
       "        <tr>\n",
       "            <td>5</td>\n",
       "            <td>2017-2018</td>\n",
       "            <td>180.0</td>\n",
       "            <td>165.0</td>\n",
       "            <td>0.9166666666666666</td>\n",
       "            <td>1.0</td>\n",
       "        </tr>\n",
       "    </tbody>\n",
       "</table>"
      ],
      "text/plain": [
       "[(3482, '2019-2020', 167.0, 160.0, 0.9580838323353293, 0.9277777777777778),\n",
       " (3, '2017-2018', 180.0, 175.0, 0.9722222222222222, 1.0),\n",
       " (3, '2018-2019', 180.0, 168.0, 0.9333333333333333, 1.0),\n",
       " (3, '2019-2020', 180.0, 178.0, 0.9888888888888889, 1.0),\n",
       " (4, '2017-2018', 180.0, 125.0, 0.6944444444444444, 1.0),\n",
       " (4, '2018-2019', 103.0, 90.0, 0.8737864077669902, 0.5722222222222222),\n",
       " (4529, '2021-2022', 170.0, 138.0, 0.8117647058823529, 0.9444444444444444),\n",
       " (4002, '2020-2021', 180.0, 167.0, 0.9277777777777778, 1.0),\n",
       " (4002, '2021-2022', 170.0, 139.0, 0.8176470588235294, 0.9444444444444444),\n",
       " (5, '2017-2018', 180.0, 165.0, 0.9166666666666666, 1.0)]"
      ]
     },
     "execution_count": 39,
     "metadata": {},
     "output_type": "execute_result"
    }
   ],
   "source": [
    "%%sql\n",
    "\n",
    "select s.Stu_deID, AcademicYear, sum(ExpectedAttendanceDays) as ExpectedAttendanceDays, sum(DaysAttended) as DaysAttended\n",
    ", sum(DaysAttended) / sum(ExpectedAttendanceDays) as AttendedPct\n",
    ", sum(ExpectedAttendanceDays) / 180.0 as EnrolledPct\n",
    "from att as a \n",
    "join ssid as s \n",
    "    on a.SSID = s.SSID\n",
    "group by a.SSID, a.AcademicYear\n",
    "limit 10"
   ]
  },
  {
   "cell_type": "code",
   "execution_count": 40,
   "metadata": {},
   "outputs": [],
   "source": [
    "# SQL results to dataframe\n",
    "att_sql = '''\n",
    "select s.Stu_deID, AcademicYear, sum(ExpectedAttendanceDays) as ExpectedAttendanceDays, sum(DaysAttended) as DaysAttended\n",
    ", sum(DaysAttended) / sum(ExpectedAttendanceDays) as AttendedPct\n",
    ", sum(ExpectedAttendanceDays) / 180.0 as EnrolledPct\n",
    "from att as a \n",
    "join ssid as s \n",
    "    on a.SSID = s.SSID\n",
    "group by a.SSID, a.AcademicYear\n",
    "'''\n",
    "\n",
    "att_df = pd.read_sql_query(att_sql, cnn)"
   ]
  },
  {
   "cell_type": "code",
   "execution_count": 41,
   "metadata": {},
   "outputs": [],
   "source": [
    "# Merge attendance into ELPAC file\n",
    "elpac = elpac.merge(att_df, how='inner', left_on=('Stu_deID', 'AcademicYear'), right_on=('Stu_deID', 'AcademicYear'))"
   ]
  },
  {
   "cell_type": "code",
   "execution_count": 42,
   "metadata": {},
   "outputs": [],
   "source": [
    "# Feature Engineering\n",
    "elpac['GradeEnrolledPct'] = elpac.GradeLevel + elpac.EnrolledPct.replace(1.0,.999999)\n",
    "\n",
    "elpac['GradeAttendedPct'] = elpac.GradeLevel + elpac.AttendedPct.replace(1.0,.999999)"
   ]
  },
  {
   "cell_type": "markdown",
   "metadata": {},
   "source": [
    "#### **Sort columns for final output**"
   ]
  },
  {
   "cell_type": "code",
   "execution_count": 43,
   "metadata": {},
   "outputs": [],
   "source": [
    "elpac = elpac.iloc[:,[1, 0, 17, 3, 2, 8, 9, 10, 11, 12, 13, 7, 4, 5, 6, 18, 19, 20, 21, 22, 23, 15, 14, 16]]"
   ]
  },
  {
   "cell_type": "markdown",
   "metadata": {},
   "source": [
    "#### **Export ELPAC file to CSV**"
   ]
  },
  {
   "cell_type": "code",
   "execution_count": 44,
   "metadata": {},
   "outputs": [],
   "source": [
    "#save the file as csv for eda\n",
    "elpac.to_csv('/Users/oscargil/Desktop/ADS-599B/Data Folder/elpac.csv', encoding='utf-8', index=False)"
   ]
  },
  {
   "cell_type": "markdown",
   "metadata": {},
   "source": [
    "#### **Exploratory Data Analysis -EDA**"
   ]
  },
  {
   "cell_type": "code",
   "execution_count": 45,
   "metadata": {},
   "outputs": [
    {
     "data": {
      "text/html": [
       "<div>\n",
       "<style scoped>\n",
       "    .dataframe tbody tr th:only-of-type {\n",
       "        vertical-align: middle;\n",
       "    }\n",
       "\n",
       "    .dataframe tbody tr th {\n",
       "        vertical-align: top;\n",
       "    }\n",
       "\n",
       "    .dataframe thead th {\n",
       "        text-align: right;\n",
       "    }\n",
       "</style>\n",
       "<table border=\"1\" class=\"dataframe\">\n",
       "  <thead>\n",
       "    <tr style=\"text-align: right;\">\n",
       "      <th></th>\n",
       "      <th>AcademicYear</th>\n",
       "      <th>Stu_deID</th>\n",
       "      <th>School_deID</th>\n",
       "      <th>GradeLevel</th>\n",
       "      <th>DOB</th>\n",
       "      <th>TestAge</th>\n",
       "      <th>StudentGender</th>\n",
       "      <th>StudentEthnicity</th>\n",
       "      <th>Special_Education</th>\n",
       "      <th>Homeless</th>\n",
       "      <th>SocioEconomically</th>\n",
       "      <th>TestDayName</th>\n",
       "      <th>TestDate</th>\n",
       "      <th>OverallScore</th>\n",
       "      <th>OverallLevel</th>\n",
       "      <th>ExpectedAttendanceDays</th>\n",
       "      <th>DaysAttended</th>\n",
       "      <th>AttendedPct</th>\n",
       "      <th>EnrolledPct</th>\n",
       "      <th>GradeEnrolledPct</th>\n",
       "      <th>GradeAttendedPct</th>\n",
       "      <th>TeacherGender</th>\n",
       "      <th>TeacherTotalYearsOfService</th>\n",
       "      <th>TeacherEthnicity</th>\n",
       "    </tr>\n",
       "  </thead>\n",
       "  <tbody>\n",
       "    <tr>\n",
       "      <th>0</th>\n",
       "      <td>2017-2018</td>\n",
       "      <td>0</td>\n",
       "      <td>3</td>\n",
       "      <td>1</td>\n",
       "      <td>2011-07-04</td>\n",
       "      <td>6.828340</td>\n",
       "      <td>F</td>\n",
       "      <td>Hispanic</td>\n",
       "      <td>N</td>\n",
       "      <td>Y</td>\n",
       "      <td>Y</td>\n",
       "      <td>Wednesday</td>\n",
       "      <td>2018-05-02</td>\n",
       "      <td>1503</td>\n",
       "      <td>4</td>\n",
       "      <td>180.0</td>\n",
       "      <td>175.0</td>\n",
       "      <td>0.972222</td>\n",
       "      <td>1.0</td>\n",
       "      <td>1.999999</td>\n",
       "      <td>1.972222</td>\n",
       "      <td>F</td>\n",
       "      <td>4</td>\n",
       "      <td>Hispanic</td>\n",
       "    </tr>\n",
       "    <tr>\n",
       "      <th>1</th>\n",
       "      <td>2017-2018</td>\n",
       "      <td>1</td>\n",
       "      <td>5</td>\n",
       "      <td>4</td>\n",
       "      <td>2008-07-28</td>\n",
       "      <td>9.631957</td>\n",
       "      <td>M</td>\n",
       "      <td>Hispanic</td>\n",
       "      <td>N</td>\n",
       "      <td>N</td>\n",
       "      <td>Y</td>\n",
       "      <td>Friday</td>\n",
       "      <td>2018-03-16</td>\n",
       "      <td>1535</td>\n",
       "      <td>3</td>\n",
       "      <td>180.0</td>\n",
       "      <td>168.0</td>\n",
       "      <td>0.933333</td>\n",
       "      <td>1.0</td>\n",
       "      <td>4.999999</td>\n",
       "      <td>4.933333</td>\n",
       "      <td>F</td>\n",
       "      <td>2</td>\n",
       "      <td>Multiple</td>\n",
       "    </tr>\n",
       "    <tr>\n",
       "      <th>2</th>\n",
       "      <td>2017-2018</td>\n",
       "      <td>3</td>\n",
       "      <td>3</td>\n",
       "      <td>4</td>\n",
       "      <td>2008-05-06</td>\n",
       "      <td>9.905748</td>\n",
       "      <td>M</td>\n",
       "      <td>Hispanic</td>\n",
       "      <td>Y</td>\n",
       "      <td>N</td>\n",
       "      <td>N</td>\n",
       "      <td>Monday</td>\n",
       "      <td>2018-04-02</td>\n",
       "      <td>1480</td>\n",
       "      <td>2</td>\n",
       "      <td>180.0</td>\n",
       "      <td>175.0</td>\n",
       "      <td>0.972222</td>\n",
       "      <td>1.0</td>\n",
       "      <td>4.999999</td>\n",
       "      <td>4.972222</td>\n",
       "      <td>F</td>\n",
       "      <td>18</td>\n",
       "      <td>White</td>\n",
       "    </tr>\n",
       "    <tr>\n",
       "      <th>3</th>\n",
       "      <td>2017-2018</td>\n",
       "      <td>4</td>\n",
       "      <td>3</td>\n",
       "      <td>0</td>\n",
       "      <td>2012-04-13</td>\n",
       "      <td>6.108271</td>\n",
       "      <td>M</td>\n",
       "      <td>Hispanic</td>\n",
       "      <td>N</td>\n",
       "      <td>N</td>\n",
       "      <td>Y</td>\n",
       "      <td>Wednesday</td>\n",
       "      <td>2018-05-23</td>\n",
       "      <td>1461</td>\n",
       "      <td>4</td>\n",
       "      <td>180.0</td>\n",
       "      <td>125.0</td>\n",
       "      <td>0.694444</td>\n",
       "      <td>1.0</td>\n",
       "      <td>0.999999</td>\n",
       "      <td>0.694444</td>\n",
       "      <td>F</td>\n",
       "      <td>1</td>\n",
       "      <td>White</td>\n",
       "    </tr>\n",
       "    <tr>\n",
       "      <th>4</th>\n",
       "      <td>2017-2018</td>\n",
       "      <td>5</td>\n",
       "      <td>7</td>\n",
       "      <td>0</td>\n",
       "      <td>2011-09-25</td>\n",
       "      <td>6.664066</td>\n",
       "      <td>M</td>\n",
       "      <td>Hispanic</td>\n",
       "      <td>N</td>\n",
       "      <td>N</td>\n",
       "      <td>Y</td>\n",
       "      <td>Friday</td>\n",
       "      <td>2018-05-25</td>\n",
       "      <td>1357</td>\n",
       "      <td>1</td>\n",
       "      <td>180.0</td>\n",
       "      <td>165.0</td>\n",
       "      <td>0.916667</td>\n",
       "      <td>1.0</td>\n",
       "      <td>0.999999</td>\n",
       "      <td>0.916667</td>\n",
       "      <td>F</td>\n",
       "      <td>17</td>\n",
       "      <td>Hispanic</td>\n",
       "    </tr>\n",
       "  </tbody>\n",
       "</table>\n",
       "</div>"
      ],
      "text/plain": [
       "  AcademicYear  Stu_deID  School_deID  GradeLevel         DOB   TestAge StudentGender StudentEthnicity Special_Education Homeless SocioEconomically TestDayName    TestDate  OverallScore  OverallLevel  ExpectedAttendanceDays  DaysAttended  AttendedPct  EnrolledPct  GradeEnrolledPct  GradeAttendedPct TeacherGender  TeacherTotalYearsOfService TeacherEthnicity\n",
       "0    2017-2018         0            3           1  2011-07-04  6.828340             F         Hispanic                 N        Y                 Y   Wednesday  2018-05-02          1503             4                   180.0         175.0     0.972222          1.0          1.999999          1.972222             F                           4         Hispanic\n",
       "1    2017-2018         1            5           4  2008-07-28  9.631957             M         Hispanic                 N        N                 Y      Friday  2018-03-16          1535             3                   180.0         168.0     0.933333          1.0          4.999999          4.933333             F                           2         Multiple\n",
       "2    2017-2018         3            3           4  2008-05-06  9.905748             M         Hispanic                 Y        N                 N      Monday  2018-04-02          1480             2                   180.0         175.0     0.972222          1.0          4.999999          4.972222             F                          18            White\n",
       "3    2017-2018         4            3           0  2012-04-13  6.108271             M         Hispanic                 N        N                 Y   Wednesday  2018-05-23          1461             4                   180.0         125.0     0.694444          1.0          0.999999          0.694444             F                           1            White\n",
       "4    2017-2018         5            7           0  2011-09-25  6.664066             M         Hispanic                 N        N                 Y      Friday  2018-05-25          1357             1                   180.0         165.0     0.916667          1.0          0.999999          0.916667             F                          17         Hispanic"
      ]
     },
     "execution_count": 45,
     "metadata": {},
     "output_type": "execute_result"
    }
   ],
   "source": [
    "# Import file\n",
    "df = pd.read_csv('https://raw.githubusercontent.com/OscarG-DataSci/ADS-599B/main/Data%20Folder/elpac.csv')\n",
    "#load the file\n",
    "df.head()"
   ]
  },
  {
   "cell_type": "code",
   "execution_count": 46,
   "metadata": {},
   "outputs": [
    {
     "name": "stdout",
     "output_type": "stream",
     "text": [
      "<class 'pandas.core.frame.DataFrame'>\n",
      "RangeIndex: 11628 entries, 0 to 11627\n",
      "Data columns (total 24 columns):\n",
      " #   Column                      Non-Null Count  Dtype  \n",
      "---  ------                      --------------  -----  \n",
      " 0   AcademicYear                11628 non-null  object \n",
      " 1   Stu_deID                    11628 non-null  int64  \n",
      " 2   School_deID                 11628 non-null  int64  \n",
      " 3   GradeLevel                  11628 non-null  int64  \n",
      " 4   DOB                         11628 non-null  object \n",
      " 5   TestAge                     9469 non-null   float64\n",
      " 6   StudentGender               11628 non-null  object \n",
      " 7   StudentEthnicity            11628 non-null  object \n",
      " 8   Special_Education           11628 non-null  object \n",
      " 9   Homeless                    11628 non-null  object \n",
      " 10  SocioEconomically           11628 non-null  object \n",
      " 11  TestDayName                 9469 non-null   object \n",
      " 12  TestDate                    9469 non-null   object \n",
      " 13  OverallScore                11628 non-null  int64  \n",
      " 14  OverallLevel                11628 non-null  int64  \n",
      " 15  ExpectedAttendanceDays      11628 non-null  float64\n",
      " 16  DaysAttended                11628 non-null  float64\n",
      " 17  AttendedPct                 11625 non-null  float64\n",
      " 18  EnrolledPct                 11628 non-null  float64\n",
      " 19  GradeEnrolledPct            11628 non-null  float64\n",
      " 20  GradeAttendedPct            11625 non-null  float64\n",
      " 21  TeacherGender               11628 non-null  object \n",
      " 22  TeacherTotalYearsOfService  11628 non-null  int64  \n",
      " 23  TeacherEthnicity            11628 non-null  object \n",
      "dtypes: float64(7), int64(6), object(11)\n",
      "memory usage: 2.1+ MB\n"
     ]
    }
   ],
   "source": [
    "#get data information\n",
    "df.info()"
   ]
  },
  {
   "cell_type": "code",
   "execution_count": 47,
   "metadata": {},
   "outputs": [
    {
     "data": {
      "text/html": [
       "<div>\n",
       "<style scoped>\n",
       "    .dataframe tbody tr th:only-of-type {\n",
       "        vertical-align: middle;\n",
       "    }\n",
       "\n",
       "    .dataframe tbody tr th {\n",
       "        vertical-align: top;\n",
       "    }\n",
       "\n",
       "    .dataframe thead th {\n",
       "        text-align: right;\n",
       "    }\n",
       "</style>\n",
       "<table border=\"1\" class=\"dataframe\">\n",
       "  <thead>\n",
       "    <tr style=\"text-align: right;\">\n",
       "      <th></th>\n",
       "      <th>AcademicYear</th>\n",
       "      <th>Stu_deID</th>\n",
       "      <th>School_deID</th>\n",
       "      <th>GradeLevel</th>\n",
       "      <th>DOB</th>\n",
       "      <th>TestAge</th>\n",
       "      <th>StudentGender</th>\n",
       "      <th>StudentEthnicity</th>\n",
       "      <th>Special_Education</th>\n",
       "      <th>Homeless</th>\n",
       "      <th>SocioEconomically</th>\n",
       "      <th>TestDayName</th>\n",
       "      <th>TestDate</th>\n",
       "      <th>OverallScore</th>\n",
       "      <th>OverallLevel</th>\n",
       "      <th>ExpectedAttendanceDays</th>\n",
       "      <th>DaysAttended</th>\n",
       "      <th>AttendedPct</th>\n",
       "      <th>EnrolledPct</th>\n",
       "      <th>GradeEnrolledPct</th>\n",
       "      <th>GradeAttendedPct</th>\n",
       "      <th>TeacherGender</th>\n",
       "      <th>TeacherTotalYearsOfService</th>\n",
       "      <th>TeacherEthnicity</th>\n",
       "    </tr>\n",
       "  </thead>\n",
       "  <tbody>\n",
       "    <tr>\n",
       "      <th>0</th>\n",
       "      <td>2017-2018</td>\n",
       "      <td>0</td>\n",
       "      <td>3</td>\n",
       "      <td>1</td>\n",
       "      <td>2011-07-04</td>\n",
       "      <td>6.828340</td>\n",
       "      <td>F</td>\n",
       "      <td>Hispanic</td>\n",
       "      <td>N</td>\n",
       "      <td>Y</td>\n",
       "      <td>Y</td>\n",
       "      <td>Wednesday</td>\n",
       "      <td>2018-05-02</td>\n",
       "      <td>1503</td>\n",
       "      <td>4</td>\n",
       "      <td>180.0</td>\n",
       "      <td>175.0</td>\n",
       "      <td>0.972222</td>\n",
       "      <td>1.0</td>\n",
       "      <td>1.999999</td>\n",
       "      <td>1.972222</td>\n",
       "      <td>F</td>\n",
       "      <td>4</td>\n",
       "      <td>Hispanic</td>\n",
       "    </tr>\n",
       "    <tr>\n",
       "      <th>1</th>\n",
       "      <td>2017-2018</td>\n",
       "      <td>1</td>\n",
       "      <td>5</td>\n",
       "      <td>4</td>\n",
       "      <td>2008-07-28</td>\n",
       "      <td>9.631957</td>\n",
       "      <td>M</td>\n",
       "      <td>Hispanic</td>\n",
       "      <td>N</td>\n",
       "      <td>N</td>\n",
       "      <td>Y</td>\n",
       "      <td>Friday</td>\n",
       "      <td>2018-03-16</td>\n",
       "      <td>1535</td>\n",
       "      <td>3</td>\n",
       "      <td>180.0</td>\n",
       "      <td>168.0</td>\n",
       "      <td>0.933333</td>\n",
       "      <td>1.0</td>\n",
       "      <td>4.999999</td>\n",
       "      <td>4.933333</td>\n",
       "      <td>F</td>\n",
       "      <td>2</td>\n",
       "      <td>Multiple</td>\n",
       "    </tr>\n",
       "    <tr>\n",
       "      <th>2</th>\n",
       "      <td>2017-2018</td>\n",
       "      <td>3</td>\n",
       "      <td>3</td>\n",
       "      <td>4</td>\n",
       "      <td>2008-05-06</td>\n",
       "      <td>9.905748</td>\n",
       "      <td>M</td>\n",
       "      <td>Hispanic</td>\n",
       "      <td>Y</td>\n",
       "      <td>N</td>\n",
       "      <td>N</td>\n",
       "      <td>Monday</td>\n",
       "      <td>2018-04-02</td>\n",
       "      <td>1480</td>\n",
       "      <td>2</td>\n",
       "      <td>180.0</td>\n",
       "      <td>175.0</td>\n",
       "      <td>0.972222</td>\n",
       "      <td>1.0</td>\n",
       "      <td>4.999999</td>\n",
       "      <td>4.972222</td>\n",
       "      <td>F</td>\n",
       "      <td>18</td>\n",
       "      <td>White</td>\n",
       "    </tr>\n",
       "  </tbody>\n",
       "</table>\n",
       "</div>"
      ],
      "text/plain": [
       "  AcademicYear  Stu_deID  School_deID  GradeLevel        DOB   TestAge StudentGender StudentEthnicity Special_Education Homeless SocioEconomically TestDayName   TestDate  OverallScore  OverallLevel  ExpectedAttendanceDays  DaysAttended  AttendedPct  EnrolledPct  GradeEnrolledPct  GradeAttendedPct TeacherGender  TeacherTotalYearsOfService TeacherEthnicity\n",
       "0    2017-2018         0            3           1 2011-07-04  6.828340             F         Hispanic                 N        Y                 Y   Wednesday 2018-05-02          1503             4                   180.0         175.0     0.972222          1.0          1.999999          1.972222             F                           4         Hispanic\n",
       "1    2017-2018         1            5           4 2008-07-28  9.631957             M         Hispanic                 N        N                 Y      Friday 2018-03-16          1535             3                   180.0         168.0     0.933333          1.0          4.999999          4.933333             F                           2         Multiple\n",
       "2    2017-2018         3            3           4 2008-05-06  9.905748             M         Hispanic                 Y        N                 N      Monday 2018-04-02          1480             2                   180.0         175.0     0.972222          1.0          4.999999          4.972222             F                          18            White"
      ]
     },
     "execution_count": 47,
     "metadata": {},
     "output_type": "execute_result"
    }
   ],
   "source": [
    "# Convert date fields to datetime\n",
    "df['DOB'] =  pd.to_datetime(df.DOB)\n",
    "df['TestDate'] =  pd.to_datetime(df.TestDate)\n",
    "df.head(3)"
   ]
  },
  {
   "cell_type": "markdown",
   "metadata": {},
   "source": [
    "### **CHECK FOR MISSING VALUES, DUPLICATES, AND SCORES WITH ZERO VALUES**"
   ]
  },
  {
   "cell_type": "markdown",
   "metadata": {},
   "source": [
    "#### **MISSING VALUES**"
   ]
  },
  {
   "cell_type": "code",
   "execution_count": 48,
   "metadata": {},
   "outputs": [
    {
     "data": {
      "text/plain": [
       "2020-2021     858\n",
       "2019-2020    1255\n",
       "2018-2019      46\n",
       "Name: AcademicYear, dtype: int64"
      ]
     },
     "execution_count": 48,
     "metadata": {},
     "output_type": "execute_result"
    }
   ],
   "source": [
    "# Missing data value counts by AcademicYear\n",
    "# Most missing data is from when the pandemic quarantine went into effect, March, 2020\n",
    "# The 2020-2021 school year also has many students who did not test due to distance learning, making it difficult to test all students\n",
    "df[(df.TestDate.isna() == True)]['AcademicYear'].value_counts().sort_index(ascending=False)"
   ]
  },
  {
   "cell_type": "code",
   "execution_count": 49,
   "metadata": {},
   "outputs": [
    {
     "name": "stdout",
     "output_type": "stream",
     "text": [
      "Shape:  (11628, 24) \n",
      "\n"
     ]
    },
    {
     "data": {
      "text/html": [
       "<div>\n",
       "<style scoped>\n",
       "    .dataframe tbody tr th:only-of-type {\n",
       "        vertical-align: middle;\n",
       "    }\n",
       "\n",
       "    .dataframe tbody tr th {\n",
       "        vertical-align: top;\n",
       "    }\n",
       "\n",
       "    .dataframe thead th {\n",
       "        text-align: right;\n",
       "    }\n",
       "</style>\n",
       "<table border=\"1\" class=\"dataframe\">\n",
       "  <thead>\n",
       "    <tr style=\"text-align: right;\">\n",
       "      <th></th>\n",
       "      <th>Missing</th>\n",
       "    </tr>\n",
       "  </thead>\n",
       "  <tbody>\n",
       "    <tr>\n",
       "      <th>TestAge</th>\n",
       "      <td>2159</td>\n",
       "    </tr>\n",
       "    <tr>\n",
       "      <th>TestDayName</th>\n",
       "      <td>2159</td>\n",
       "    </tr>\n",
       "    <tr>\n",
       "      <th>TestDate</th>\n",
       "      <td>2159</td>\n",
       "    </tr>\n",
       "    <tr>\n",
       "      <th>AttendedPct</th>\n",
       "      <td>3</td>\n",
       "    </tr>\n",
       "    <tr>\n",
       "      <th>GradeAttendedPct</th>\n",
       "      <td>3</td>\n",
       "    </tr>\n",
       "  </tbody>\n",
       "</table>\n",
       "</div>"
      ],
      "text/plain": [
       "                  Missing\n",
       "TestAge              2159\n",
       "TestDayName          2159\n",
       "TestDate             2159\n",
       "AttendedPct             3\n",
       "GradeAttendedPct        3"
      ]
     },
     "execution_count": 49,
     "metadata": {},
     "output_type": "execute_result"
    }
   ],
   "source": [
    "# Initial view of shape and missing data\n",
    "print(\"Shape: \",df.shape,\"\\n\")\n",
    "# Columns missing data\n",
    "df.isnull().sum().to_frame(name='Missing').query('Missing > 0')"
   ]
  },
  {
   "cell_type": "code",
   "execution_count": 50,
   "metadata": {},
   "outputs": [
    {
     "name": "stdout",
     "output_type": "stream",
     "text": [
      "Shape:  (9469, 24) \n",
      "\n"
     ]
    },
    {
     "data": {
      "text/html": [
       "<div>\n",
       "<style scoped>\n",
       "    .dataframe tbody tr th:only-of-type {\n",
       "        vertical-align: middle;\n",
       "    }\n",
       "\n",
       "    .dataframe tbody tr th {\n",
       "        vertical-align: top;\n",
       "    }\n",
       "\n",
       "    .dataframe thead th {\n",
       "        text-align: right;\n",
       "    }\n",
       "</style>\n",
       "<table border=\"1\" class=\"dataframe\">\n",
       "  <thead>\n",
       "    <tr style=\"text-align: right;\">\n",
       "      <th></th>\n",
       "      <th>Missing</th>\n",
       "    </tr>\n",
       "  </thead>\n",
       "  <tbody>\n",
       "    <tr>\n",
       "      <th>AttendedPct</th>\n",
       "      <td>2</td>\n",
       "    </tr>\n",
       "    <tr>\n",
       "      <th>GradeAttendedPct</th>\n",
       "      <td>2</td>\n",
       "    </tr>\n",
       "  </tbody>\n",
       "</table>\n",
       "</div>"
      ],
      "text/plain": [
       "                  Missing\n",
       "AttendedPct             2\n",
       "GradeAttendedPct        2"
      ]
     },
     "execution_count": 50,
     "metadata": {},
     "output_type": "execute_result"
    }
   ],
   "source": [
    "# Re-load data omitting missing data\n",
    "df = df[(df.TestDate.isna() == False)]\n",
    "\n",
    "print(\"Shape: \",df.shape,\"\\n\")\n",
    "\n",
    "# Columns missing data\n",
    "df.isnull().sum().to_frame(name='Missing').query('Missing > 0')\n"
   ]
  },
  {
   "cell_type": "code",
   "execution_count": 51,
   "metadata": {},
   "outputs": [
    {
     "name": "stdout",
     "output_type": "stream",
     "text": [
      "Shape:  (9467, 24) \n",
      "\n"
     ]
    },
    {
     "data": {
      "text/html": [
       "<div>\n",
       "<style scoped>\n",
       "    .dataframe tbody tr th:only-of-type {\n",
       "        vertical-align: middle;\n",
       "    }\n",
       "\n",
       "    .dataframe tbody tr th {\n",
       "        vertical-align: top;\n",
       "    }\n",
       "\n",
       "    .dataframe thead th {\n",
       "        text-align: right;\n",
       "    }\n",
       "</style>\n",
       "<table border=\"1\" class=\"dataframe\">\n",
       "  <thead>\n",
       "    <tr style=\"text-align: right;\">\n",
       "      <th></th>\n",
       "      <th>Missing</th>\n",
       "    </tr>\n",
       "  </thead>\n",
       "  <tbody>\n",
       "  </tbody>\n",
       "</table>\n",
       "</div>"
      ],
      "text/plain": [
       "Empty DataFrame\n",
       "Columns: [Missing]\n",
       "Index: []"
      ]
     },
     "execution_count": 51,
     "metadata": {},
     "output_type": "execute_result"
    }
   ],
   "source": [
    "# Repeat...to verify no more data is missing\n",
    "df = df[(df.AttendedPct.isna() == False)]\n",
    "print(\"Shape: \",df.shape,\"\\n\")\n",
    "# Columns missing data\n",
    "df.isnull().sum().to_frame(name='Missing').query('Missing > 0')"
   ]
  },
  {
   "cell_type": "markdown",
   "metadata": {},
   "source": [
    "#### **SCORES WITH 0 VALUES**\n"
   ]
  },
  {
   "cell_type": "code",
   "execution_count": 52,
   "metadata": {},
   "outputs": [
    {
     "data": {
      "text/plain": [
       "(9460, 24)"
      ]
     },
     "execution_count": 52,
     "metadata": {},
     "output_type": "execute_result"
    }
   ],
   "source": [
    "# omit records where scores are zero\n",
    "df = df.query(\"OverallScore != 0\")\n",
    "df.shape"
   ]
  },
  {
   "cell_type": "markdown",
   "metadata": {},
   "source": [
    "#### **DUPLICATES**"
   ]
  },
  {
   "cell_type": "code",
   "execution_count": 53,
   "metadata": {},
   "outputs": [
    {
     "name": "stdout",
     "output_type": "stream",
     "text": [
      "number of duplicate rows:  (0, 24)\n"
     ]
    }
   ],
   "source": [
    "#check for duplicated rows in the dataset\n",
    "duplicated_rows = df[df.duplicated()] \n",
    "print(\"number of duplicate rows: \", duplicated_rows.shape)"
   ]
  },
  {
   "cell_type": "markdown",
   "metadata": {},
   "source": [
    "#### **STANDARDIZATION OF OVERALLSCORE VALUES**\n",
    "*Since the OverallScore values range differently between grade levels, standardization was performed to obtain the normal distribution."
   ]
  },
  {
   "cell_type": "code",
   "execution_count": 54,
   "metadata": {},
   "outputs": [
    {
     "data": {
      "text/html": [
       "<div>\n",
       "<style scoped>\n",
       "    .dataframe tbody tr th:only-of-type {\n",
       "        vertical-align: middle;\n",
       "    }\n",
       "\n",
       "    .dataframe tbody tr th {\n",
       "        vertical-align: top;\n",
       "    }\n",
       "\n",
       "    .dataframe thead tr th {\n",
       "        text-align: left;\n",
       "    }\n",
       "\n",
       "    .dataframe thead tr:last-of-type th {\n",
       "        text-align: right;\n",
       "    }\n",
       "</style>\n",
       "<table border=\"1\" class=\"dataframe\">\n",
       "  <thead>\n",
       "    <tr>\n",
       "      <th></th>\n",
       "      <th colspan=\"2\" halign=\"left\">OverallScore</th>\n",
       "    </tr>\n",
       "    <tr>\n",
       "      <th></th>\n",
       "      <th>min</th>\n",
       "      <th>max</th>\n",
       "    </tr>\n",
       "    <tr>\n",
       "      <th>GradeLevel</th>\n",
       "      <th></th>\n",
       "      <th></th>\n",
       "    </tr>\n",
       "  </thead>\n",
       "  <tbody>\n",
       "    <tr>\n",
       "      <th>0</th>\n",
       "      <td>1150</td>\n",
       "      <td>1700</td>\n",
       "    </tr>\n",
       "    <tr>\n",
       "      <th>1</th>\n",
       "      <td>1150</td>\n",
       "      <td>1627</td>\n",
       "    </tr>\n",
       "    <tr>\n",
       "      <th>2</th>\n",
       "      <td>1150</td>\n",
       "      <td>1700</td>\n",
       "    </tr>\n",
       "    <tr>\n",
       "      <th>3</th>\n",
       "      <td>1150</td>\n",
       "      <td>1672</td>\n",
       "    </tr>\n",
       "    <tr>\n",
       "      <th>4</th>\n",
       "      <td>1150</td>\n",
       "      <td>1731</td>\n",
       "    </tr>\n",
       "    <tr>\n",
       "      <th>5</th>\n",
       "      <td>1150</td>\n",
       "      <td>1731</td>\n",
       "    </tr>\n",
       "    <tr>\n",
       "      <th>6</th>\n",
       "      <td>1150</td>\n",
       "      <td>1729</td>\n",
       "    </tr>\n",
       "  </tbody>\n",
       "</table>\n",
       "</div>"
      ],
      "text/plain": [
       "           OverallScore      \n",
       "                    min   max\n",
       "GradeLevel                   \n",
       "0                  1150  1700\n",
       "1                  1150  1627\n",
       "2                  1150  1700\n",
       "3                  1150  1672\n",
       "4                  1150  1731\n",
       "5                  1150  1731\n",
       "6                  1150  1729"
      ]
     },
     "execution_count": 54,
     "metadata": {},
     "output_type": "execute_result"
    }
   ],
   "source": [
    "# View ranges of OverallScore by grade level, to determine if they are all uniform.\n",
    "df.groupby('GradeLevel').agg({'OverallScore': ['min', 'max']})"
   ]
  },
  {
   "cell_type": "code",
   "execution_count": 55,
   "metadata": {},
   "outputs": [
    {
     "data": {
      "text/html": [
       "<div>\n",
       "<style scoped>\n",
       "    .dataframe tbody tr th:only-of-type {\n",
       "        vertical-align: middle;\n",
       "    }\n",
       "\n",
       "    .dataframe tbody tr th {\n",
       "        vertical-align: top;\n",
       "    }\n",
       "\n",
       "    .dataframe thead th {\n",
       "        text-align: right;\n",
       "    }\n",
       "</style>\n",
       "<table border=\"1\" class=\"dataframe\">\n",
       "  <thead>\n",
       "    <tr style=\"text-align: right;\">\n",
       "      <th></th>\n",
       "      <th>GradeLevel</th>\n",
       "      <th>OverallScoreMin</th>\n",
       "      <th>OverallScoreMax</th>\n",
       "    </tr>\n",
       "  </thead>\n",
       "  <tbody>\n",
       "    <tr>\n",
       "      <th>0</th>\n",
       "      <td>0</td>\n",
       "      <td>1150.0</td>\n",
       "      <td>1700.0</td>\n",
       "    </tr>\n",
       "    <tr>\n",
       "      <th>1</th>\n",
       "      <td>1</td>\n",
       "      <td>1150.0</td>\n",
       "      <td>1627.0</td>\n",
       "    </tr>\n",
       "    <tr>\n",
       "      <th>2</th>\n",
       "      <td>2</td>\n",
       "      <td>1150.0</td>\n",
       "      <td>1700.0</td>\n",
       "    </tr>\n",
       "    <tr>\n",
       "      <th>3</th>\n",
       "      <td>3</td>\n",
       "      <td>1150.0</td>\n",
       "      <td>1672.0</td>\n",
       "    </tr>\n",
       "    <tr>\n",
       "      <th>4</th>\n",
       "      <td>4</td>\n",
       "      <td>1150.0</td>\n",
       "      <td>1731.0</td>\n",
       "    </tr>\n",
       "    <tr>\n",
       "      <th>5</th>\n",
       "      <td>5</td>\n",
       "      <td>1150.0</td>\n",
       "      <td>1731.0</td>\n",
       "    </tr>\n",
       "    <tr>\n",
       "      <th>6</th>\n",
       "      <td>6</td>\n",
       "      <td>1150.0</td>\n",
       "      <td>1729.0</td>\n",
       "    </tr>\n",
       "  </tbody>\n",
       "</table>\n",
       "</div>"
      ],
      "text/plain": [
       "   GradeLevel  OverallScoreMin  OverallScoreMax\n",
       "0           0           1150.0           1700.0\n",
       "1           1           1150.0           1627.0\n",
       "2           2           1150.0           1700.0\n",
       "3           3           1150.0           1672.0\n",
       "4           4           1150.0           1731.0\n",
       "5           5           1150.0           1731.0\n",
       "6           6           1150.0           1729.0"
      ]
     },
     "execution_count": 55,
     "metadata": {},
     "output_type": "execute_result"
    }
   ],
   "source": [
    "# to Standardize OverallScore values, as the ranges are different between grade levels\n",
    "grdLevel_describe = []\n",
    "\n",
    "for g in range(len(pd.DataFrame(df.GradeLevel.unique()))):\n",
    "\n",
    "    grdLevel_describe.append({'GradeLevel': g,\n",
    "                             'OverallScoreMin': pd.DataFrame(df.query(\"GradeLevel == @g\").OverallScore.describe().to_list()).iloc[3].values[0],\n",
    "                             'OverallScoreMax': pd.DataFrame(df.query(\"GradeLevel == @g\").OverallScore.describe().to_list()).iloc[7].values[0]})   \n",
    "\n",
    "pd.DataFrame(grdLevel_describe) "
   ]
  },
  {
   "cell_type": "code",
   "execution_count": 56,
   "metadata": {},
   "outputs": [],
   "source": [
    "# Bring in min and max columns to df dataframe\n",
    "df = df.merge(pd.DataFrame(grdLevel_describe) , left_on=('GradeLevel'), right_on=('GradeLevel'))"
   ]
  },
  {
   "cell_type": "code",
   "execution_count": 57,
   "metadata": {},
   "outputs": [],
   "source": [
    "# Standardize Overall Score\n",
    "df['OverallScoreStd'] = (df.OverallScore - df.OverallScoreMin) / (df.OverallScoreMax - df.OverallScoreMin)"
   ]
  },
  {
   "cell_type": "code",
   "execution_count": 58,
   "metadata": {},
   "outputs": [
    {
     "data": {
      "text/html": [
       "<div>\n",
       "<style scoped>\n",
       "    .dataframe tbody tr th:only-of-type {\n",
       "        vertical-align: middle;\n",
       "    }\n",
       "\n",
       "    .dataframe tbody tr th {\n",
       "        vertical-align: top;\n",
       "    }\n",
       "\n",
       "    .dataframe thead tr th {\n",
       "        text-align: left;\n",
       "    }\n",
       "\n",
       "    .dataframe thead tr:last-of-type th {\n",
       "        text-align: right;\n",
       "    }\n",
       "</style>\n",
       "<table border=\"1\" class=\"dataframe\">\n",
       "  <thead>\n",
       "    <tr>\n",
       "      <th></th>\n",
       "      <th colspan=\"2\" halign=\"left\">OverallScoreStd</th>\n",
       "    </tr>\n",
       "    <tr>\n",
       "      <th></th>\n",
       "      <th>min</th>\n",
       "      <th>max</th>\n",
       "    </tr>\n",
       "    <tr>\n",
       "      <th>GradeLevel</th>\n",
       "      <th></th>\n",
       "      <th></th>\n",
       "    </tr>\n",
       "  </thead>\n",
       "  <tbody>\n",
       "    <tr>\n",
       "      <th>0</th>\n",
       "      <td>0.0</td>\n",
       "      <td>1.0</td>\n",
       "    </tr>\n",
       "    <tr>\n",
       "      <th>1</th>\n",
       "      <td>0.0</td>\n",
       "      <td>1.0</td>\n",
       "    </tr>\n",
       "    <tr>\n",
       "      <th>2</th>\n",
       "      <td>0.0</td>\n",
       "      <td>1.0</td>\n",
       "    </tr>\n",
       "    <tr>\n",
       "      <th>3</th>\n",
       "      <td>0.0</td>\n",
       "      <td>1.0</td>\n",
       "    </tr>\n",
       "    <tr>\n",
       "      <th>4</th>\n",
       "      <td>0.0</td>\n",
       "      <td>1.0</td>\n",
       "    </tr>\n",
       "    <tr>\n",
       "      <th>5</th>\n",
       "      <td>0.0</td>\n",
       "      <td>1.0</td>\n",
       "    </tr>\n",
       "    <tr>\n",
       "      <th>6</th>\n",
       "      <td>0.0</td>\n",
       "      <td>1.0</td>\n",
       "    </tr>\n",
       "  </tbody>\n",
       "</table>\n",
       "</div>"
      ],
      "text/plain": [
       "           OverallScoreStd     \n",
       "                       min  max\n",
       "GradeLevel                     \n",
       "0                      0.0  1.0\n",
       "1                      0.0  1.0\n",
       "2                      0.0  1.0\n",
       "3                      0.0  1.0\n",
       "4                      0.0  1.0\n",
       "5                      0.0  1.0\n",
       "6                      0.0  1.0"
      ]
     },
     "execution_count": 58,
     "metadata": {},
     "output_type": "execute_result"
    }
   ],
   "source": [
    "# Confirm min and max OverallScore standardized values range from 0 to 1 for each grade level\n",
    "df.groupby('GradeLevel').agg({'OverallScoreStd': ['min', 'max']})"
   ]
  },
  {
   "cell_type": "markdown",
   "metadata": {},
   "source": [
    "### **Queries of Number of Students with Minimum OverallScore Per Academic Year**\n"
   ]
  },
  {
   "cell_type": "code",
   "execution_count": 59,
   "metadata": {},
   "outputs": [
    {
     "data": {
      "text/plain": [
       "2017-2018    12\n",
       "2018-2019    10\n",
       "2019-2020     3\n",
       "2020-2021    15\n",
       "2021-2022     1\n",
       "Name: AcademicYear, dtype: int64"
      ]
     },
     "execution_count": 59,
     "metadata": {},
     "output_type": "execute_result"
    }
   ],
   "source": [
    "# There are several students who should a result along the zero score line, on scatter plots.\n",
    "# These are the student counts whose OverallScore equals the minimum score, by AcademicYear\n",
    "df.query(\"OverallScore == @df.OverallScoreMin\").AcademicYear.value_counts().sort_index()"
   ]
  },
  {
   "cell_type": "code",
   "execution_count": 60,
   "metadata": {},
   "outputs": [
    {
     "data": {
      "text/plain": [
       "(9460, 25)"
      ]
     },
     "execution_count": 60,
     "metadata": {},
     "output_type": "execute_result"
    }
   ],
   "source": [
    "# Drop columns used for the OverallScoreStd, which are no longer necessary\n",
    "df = df.drop(['OverallScoreMin', 'OverallScoreMax'], axis=1)\n",
    "df.shape"
   ]
  },
  {
   "cell_type": "markdown",
   "metadata": {},
   "source": [
    "### **Total ELPAC Assessments; total times the student student has tested**"
   ]
  },
  {
   "cell_type": "code",
   "execution_count": 61,
   "metadata": {},
   "outputs": [],
   "source": [
    "# Total ELPAC Assessments; total times the student student has tested\n",
    "total_assessments = df['Stu_deID'].reset_index().groupby( ['Stu_deID'],as_index=False ).count()\n",
    "total_assessments.columns = ['Stu_deID', 'TotalAssessments']\n",
    "# Add column TotalAssessments to data frame\n",
    "df = df.merge(total_assessments, left_on=('Stu_deID'), right_on=('Stu_deID'), how='inner')"
   ]
  },
  {
   "cell_type": "markdown",
   "metadata": {},
   "source": [
    "### **OverallLevel Growth, from one test instance to the next**\n"
   ]
  },
  {
   "cell_type": "code",
   "execution_count": 62,
   "metadata": {},
   "outputs": [],
   "source": [
    "# Capture TestInstance of student assessments, numbering each instance in ascending order, \n",
    "# #re-seeding for each student, as opposed to a running number; similar to SQL's RowNum() function\n",
    "df['TestInstance'] =  df.sort_values(['Stu_deID', 'TestAge'], ascending=True).groupby(['Stu_deID']).cumcount() + 1"
   ]
  },
  {
   "cell_type": "code",
   "execution_count": 63,
   "metadata": {},
   "outputs": [
    {
     "data": {
      "text/html": [
       "<div>\n",
       "<style scoped>\n",
       "    .dataframe tbody tr th:only-of-type {\n",
       "        vertical-align: middle;\n",
       "    }\n",
       "\n",
       "    .dataframe tbody tr th {\n",
       "        vertical-align: top;\n",
       "    }\n",
       "\n",
       "    .dataframe thead th {\n",
       "        text-align: right;\n",
       "    }\n",
       "</style>\n",
       "<table border=\"1\" class=\"dataframe\">\n",
       "  <thead>\n",
       "    <tr style=\"text-align: right;\">\n",
       "      <th></th>\n",
       "      <th>TestInstanceA</th>\n",
       "      <th>TestInstanceB</th>\n",
       "    </tr>\n",
       "  </thead>\n",
       "  <tbody>\n",
       "    <tr>\n",
       "      <th>0</th>\n",
       "      <td>1</td>\n",
       "      <td>2</td>\n",
       "    </tr>\n",
       "    <tr>\n",
       "      <th>1</th>\n",
       "      <td>2</td>\n",
       "      <td>3</td>\n",
       "    </tr>\n",
       "    <tr>\n",
       "      <th>2</th>\n",
       "      <td>3</td>\n",
       "      <td>4</td>\n",
       "    </tr>\n",
       "    <tr>\n",
       "      <th>3</th>\n",
       "      <td>4</td>\n",
       "      <td>5</td>\n",
       "    </tr>\n",
       "  </tbody>\n",
       "</table>\n",
       "</div>"
      ],
      "text/plain": [
       "   TestInstanceA  TestInstanceB\n",
       "0              1              2\n",
       "1              2              3\n",
       "2              3              4\n",
       "3              4              5"
      ]
     },
     "execution_count": 63,
     "metadata": {},
     "output_type": "execute_result"
    }
   ],
   "source": [
    "# Capture unique TestInstance combinations available in dataframe\n",
    "TestInstances = []\n",
    "\n",
    "# the [:-1] ensures that the max number (5) cuts off at 5 for comparison purposes, \n",
    "# or else it would be trying to compare with 6, which is non-existent in the dataframe\n",
    "for i in range(len(df.TestInstance.unique()[:-1])):\n",
    "  i += 1\n",
    "  n = i+1\n",
    "\n",
    "  TestInstances.append({'TestInstanceA': i,\n",
    "                        'TestInstanceB': n})\n",
    "  \n",
    "pd.DataFrame(TestInstances)"
   ]
  },
  {
   "cell_type": "code",
   "execution_count": 64,
   "metadata": {},
   "outputs": [],
   "source": [
    "# Merge test instances into main data frame\n",
    "df = df.merge(pd.DataFrame(TestInstances), left_on='TestInstance', right_on='TestInstanceA', how='left')\n",
    "\n",
    "\n",
    "# Create dataframes for instance A and B, respectively\n",
    "df2a = df[['Stu_deID', 'OverallLevel', 'TestInstanceA']]\n",
    "df2b = df[['Stu_deID', 'OverallLevel', 'TestInstanceB']]\n",
    "\n",
    "\n",
    "# Left join dataframes A and B, to align OverallLevels where TestInstances A and B match, yet keep rows where they do not\n",
    "df2 = df2a.merge(df2b, left_on=('Stu_deID', 'TestInstanceA'), right_on=('Stu_deID', 'TestInstanceB'), how='left')\n",
    "\n",
    "\n",
    "# Subtract the most recent OverallLevel from previous, to get a Growth result\n",
    "df2['Growth'] = df2.OverallLevel_x - df2.OverallLevel_y\n",
    "\n",
    "\n",
    "# Subset the data in preparation to join it back to the main dataframe\n",
    "df2 = df2[['Stu_deID', 'TestInstanceA', 'Growth']]\n",
    "df2.columns = ['Stu_deID', 'TestInstance', 'Growth']\n",
    "\n",
    "\n",
    "# Bring the Growth variable into the main dataframe\n",
    "df = df.merge(df2, left_index=True, right_index=True, how='left')\n",
    "\n",
    "\n",
    "# Convert Growth from float to int, filling in with 0 wherever there is data missing\n",
    "df['Growth'] = df.Growth.fillna(0).astype(int)\n",
    "\n",
    "# Sort values and reindex\n",
    "df = df.sort_values(['Stu_deID_x', 'TestInstanceA'], ascending=True, ignore_index=True)\n",
    "\n",
    "# Subset\n",
    "df = df.iloc[:,[0, 1, 2, 3, 4, 5, 6, 7, 8, 9, 10, 11, 12, 13, 14, 15, 16, 17, 18, 19, 20, 21, 22, 23, 24, 25, 26, 31]]\n",
    "df.columns = ['AcademicYear', 'Stu_deID', 'School_deID', 'GradeLevel', 'DOB', 'TestAge', 'StudentGender', 'StudentEthnicity'\n",
    ", 'Special_Education', 'Homeless', 'SocioEconomically', 'TestDayName', 'TestDate', 'OverallScore', 'OverallLevel'\n",
    ", 'ExpectedAttendanceDays', 'DaysAttended', 'AttendedPct', 'EnrolledPct', 'GradeEnrolledPct', 'GradeAttendedPct'\n",
    ", 'TeacherGender', 'TeacherTotalYearsOfService', 'TeacherEthnicity', 'OverallScoreStd', 'TotalAssessments', 'TestInstance', 'Growth']"
   ]
  },
  {
   "cell_type": "code",
   "execution_count": 65,
   "metadata": {},
   "outputs": [
    {
     "data": {
      "text/plain": [
       "<AxesSubplot:xlabel='Growth'>"
      ]
     },
     "execution_count": 65,
     "metadata": {},
     "output_type": "execute_result"
    },
    {
     "data": {
      "image/png": "[encoded data removed]",
      "text/plain": [
       "<Figure size 432x288 with 1 Axes>"
      ]
     },
     "metadata": {
      "needs_background": "light"
     },
     "output_type": "display_data"
    },
    {
     "data": {
      "image/png": "[encoded data removed]",
      "text/plain": [
       "<Figure size 432x288 with 1 Axes>"
      ]
     },
     "metadata": {
      "needs_background": "light"
     },
     "output_type": "display_data"
    },
    {
     "data": {
      "image/png": "[encoded data removed]",
      "text/plain": [
       "<Figure size 432x288 with 1 Axes>"
      ]
     },
     "metadata": {
      "needs_background": "light"
     },
     "output_type": "display_data"
    }
   ],
   "source": [
    "#plot  Testinstance, overallLevel and growth\n",
    "pd.crosstab(df.Growth, df.OverallLevel).plot.bar(rot=0)\n",
    "\n",
    "pd.crosstab(df.TestInstance, df.OverallLevel).plot.bar(rot=0)\n",
    "\n",
    "pd.crosstab(df.query(\"TestInstance > 1\").Growth, df.query(\"TestInstance > 1\").TestInstance).plot.bar(rot=0)"
   ]
  },
  {
   "cell_type": "code",
   "execution_count": 66,
   "metadata": {},
   "outputs": [
    {
     "data": {
      "text/html": [
       "<div>\n",
       "<style scoped>\n",
       "    .dataframe tbody tr th:only-of-type {\n",
       "        vertical-align: middle;\n",
       "    }\n",
       "\n",
       "    .dataframe tbody tr th {\n",
       "        vertical-align: top;\n",
       "    }\n",
       "\n",
       "    .dataframe thead th {\n",
       "        text-align: right;\n",
       "    }\n",
       "</style>\n",
       "<table border=\"1\" class=\"dataframe\">\n",
       "  <thead>\n",
       "    <tr style=\"text-align: right;\">\n",
       "      <th></th>\n",
       "      <th>Stu_deID</th>\n",
       "      <th>GradeLevel</th>\n",
       "      <th>TestAge</th>\n",
       "      <th>OverallLevel</th>\n",
       "      <th>TotalAssessments</th>\n",
       "      <th>TestInstance</th>\n",
       "      <th>Growth</th>\n",
       "    </tr>\n",
       "  </thead>\n",
       "  <tbody>\n",
       "    <tr>\n",
       "      <th>34</th>\n",
       "      <td>14</td>\n",
       "      <td>2</td>\n",
       "      <td>7.704470</td>\n",
       "      <td>2</td>\n",
       "      <td>3</td>\n",
       "      <td>1</td>\n",
       "      <td>0</td>\n",
       "    </tr>\n",
       "    <tr>\n",
       "      <th>35</th>\n",
       "      <td>14</td>\n",
       "      <td>4</td>\n",
       "      <td>10.001574</td>\n",
       "      <td>3</td>\n",
       "      <td>3</td>\n",
       "      <td>2</td>\n",
       "      <td>1</td>\n",
       "    </tr>\n",
       "    <tr>\n",
       "      <th>36</th>\n",
       "      <td>14</td>\n",
       "      <td>5</td>\n",
       "      <td>10.822946</td>\n",
       "      <td>3</td>\n",
       "      <td>3</td>\n",
       "      <td>3</td>\n",
       "      <td>0</td>\n",
       "    </tr>\n",
       "  </tbody>\n",
       "</table>\n",
       "</div>"
      ],
      "text/plain": [
       "    Stu_deID  GradeLevel    TestAge  OverallLevel  TotalAssessments  TestInstance  Growth\n",
       "34        14           2   7.704470             2                 3             1       0\n",
       "35        14           4  10.001574             3                 3             2       1\n",
       "36        14           5  10.822946             3                 3             3       0"
      ]
     },
     "execution_count": 66,
     "metadata": {},
     "output_type": "execute_result"
    }
   ],
   "source": [
    "# Spot check\n",
    "df.query(\"Stu_deID == 14\")[['Stu_deID', 'GradeLevel', 'TestAge', 'OverallLevel', 'TotalAssessments', 'TestInstance', 'Growth']]"
   ]
  },
  {
   "cell_type": "markdown",
   "metadata": {},
   "source": [
    "# **DATA VISUALIZATION**\n"
   ]
  },
  {
   "cell_type": "markdown",
   "metadata": {},
   "source": [
    "### **CORRELATION AMONG FEATURES**"
   ]
  },
  {
   "cell_type": "code",
   "execution_count": 67,
   "metadata": {},
   "outputs": [
    {
     "name": "stdout",
     "output_type": "stream",
     "text": [
      "<class 'pandas.core.frame.DataFrame'>\n",
      "RangeIndex: 9460 entries, 0 to 9459\n",
      "Data columns (total 9 columns):\n",
      " #   Column             Non-Null Count  Dtype \n",
      "---  ------             --------------  ----- \n",
      " 0   AcademicYear       9460 non-null   object\n",
      " 1   StudentGender      9460 non-null   object\n",
      " 2   StudentEthnicity   9460 non-null   object\n",
      " 3   Special_Education  9460 non-null   object\n",
      " 4   Homeless           9460 non-null   object\n",
      " 5   SocioEconomically  9460 non-null   object\n",
      " 6   TestDayName        9460 non-null   object\n",
      " 7   TeacherGender      9460 non-null   object\n",
      " 8   TeacherEthnicity   9460 non-null   object\n",
      "dtypes: object(9)\n",
      "memory usage: 665.3+ KB\n"
     ]
    }
   ],
   "source": [
    "# Identify features that are object dtype, to create dummy variables for\n",
    "df.select_dtypes(include='object').info()"
   ]
  },
  {
   "cell_type": "code",
   "execution_count": 68,
   "metadata": {},
   "outputs": [],
   "source": [
    "# Create dummy values from 'object' data types to get correlation values\n",
    "df2 = pd.get_dummies(df, columns=['AcademicYear', 'StudentGender', 'StudentEthnicity', 'Special_Education', 'Homeless', 'SocioEconomically', 'TestDayName',\n",
    "                                  'TeacherGender','TeacherEthnicity'])"
   ]
  },
  {
   "cell_type": "code",
   "execution_count": 69,
   "metadata": {},
   "outputs": [
    {
     "data": {
      "text/html": [
       "<style  type=\"text/css\" >\n",
       "#T_eeed5_row0_col0{\n",
       "            width:  10em;\n",
       "             height:  80%;\n",
       "            background:  linear-gradient(90deg, transparent 17.6%, lightgreen 17.6%, lightgreen 100.0%, transparent 100.0%);\n",
       "        }#T_eeed5_row1_col0{\n",
       "            width:  10em;\n",
       "             height:  80%;\n",
       "            background:  linear-gradient(90deg, transparent 17.6%, lightgreen 17.6%, lightgreen 95.4%, transparent 95.4%);\n",
       "        }#T_eeed5_row2_col0{\n",
       "            width:  10em;\n",
       "             height:  80%;\n",
       "            background:  linear-gradient(90deg, transparent 17.6%, lightgreen 17.6%, lightgreen 78.6%, transparent 78.6%);\n",
       "        }#T_eeed5_row3_col0{\n",
       "            width:  10em;\n",
       "             height:  80%;\n",
       "            background:  linear-gradient(90deg, transparent 17.6%, lightgreen 17.6%, lightgreen 53.6%, transparent 53.6%);\n",
       "        }#T_eeed5_row4_col0{\n",
       "            width:  10em;\n",
       "             height:  80%;\n",
       "            background:  linear-gradient(90deg, transparent 17.6%, lightgreen 17.6%, lightgreen 52.9%, transparent 52.9%);\n",
       "        }#T_eeed5_row5_col0{\n",
       "            width:  10em;\n",
       "             height:  80%;\n",
       "            background:  linear-gradient(90deg, transparent 17.6%, lightgreen 17.6%, lightgreen 52.7%, transparent 52.7%);\n",
       "        }#T_eeed5_row6_col0{\n",
       "            width:  10em;\n",
       "             height:  80%;\n",
       "            background:  linear-gradient(90deg, transparent 17.6%, lightgreen 17.6%, lightgreen 52.6%, transparent 52.6%);\n",
       "        }#T_eeed5_row7_col0{\n",
       "            width:  10em;\n",
       "             height:  80%;\n",
       "            background:  linear-gradient(90deg, transparent 17.6%, lightgreen 17.6%, lightgreen 44.4%, transparent 44.4%);\n",
       "        }#T_eeed5_row8_col0{\n",
       "            width:  10em;\n",
       "             height:  80%;\n",
       "            background:  linear-gradient(90deg, transparent 17.6%, lightgreen 17.6%, lightgreen 40.8%, transparent 40.8%);\n",
       "        }#T_eeed5_row9_col0{\n",
       "            width:  10em;\n",
       "             height:  80%;\n",
       "            background:  linear-gradient(90deg, transparent 17.6%, lightgreen 17.6%, lightgreen 25.8%, transparent 25.8%);\n",
       "        }#T_eeed5_row10_col0{\n",
       "            width:  10em;\n",
       "             height:  80%;\n",
       "            background:  linear-gradient(90deg, transparent 17.6%, lightgreen 17.6%, lightgreen 25.3%, transparent 25.3%);\n",
       "        }#T_eeed5_row11_col0{\n",
       "            width:  10em;\n",
       "             height:  80%;\n",
       "            background:  linear-gradient(90deg, transparent 17.6%, lightgreen 17.6%, lightgreen 21.7%, transparent 21.7%);\n",
       "        }#T_eeed5_row12_col0{\n",
       "            width:  10em;\n",
       "             height:  80%;\n",
       "            background:  linear-gradient(90deg, transparent 17.6%, lightgreen 17.6%, lightgreen 20.6%, transparent 20.6%);\n",
       "        }#T_eeed5_row13_col0,#T_eeed5_row14_col0{\n",
       "            width:  10em;\n",
       "             height:  80%;\n",
       "            background:  linear-gradient(90deg, transparent 17.6%, lightgreen 17.6%, lightgreen 20.0%, transparent 20.0%);\n",
       "        }#T_eeed5_row15_col0{\n",
       "            width:  10em;\n",
       "             height:  80%;\n",
       "            background:  linear-gradient(90deg, transparent 17.6%, lightgreen 17.6%, lightgreen 18.7%, transparent 18.7%);\n",
       "        }#T_eeed5_row16_col0{\n",
       "            width:  10em;\n",
       "             height:  80%;\n",
       "            background:  linear-gradient(90deg, transparent 17.6%, lightgreen 17.6%, lightgreen 18.0%, transparent 18.0%);\n",
       "        }#T_eeed5_row17_col0{\n",
       "            width:  10em;\n",
       "             height:  80%;\n",
       "            background:  linear-gradient(90deg, transparent 14.3%, red 14.3%, red 17.6%, transparent 17.6%);\n",
       "        }#T_eeed5_row18_col0{\n",
       "            width:  10em;\n",
       "             height:  80%;\n",
       "            background:  linear-gradient(90deg, transparent 5.4%, red 5.4%, red 17.6%, transparent 17.6%);\n",
       "        }#T_eeed5_row19_col0{\n",
       "            width:  10em;\n",
       "             height:  80%;\n",
       "            background:  linear-gradient(90deg,red 17.6%, transparent 17.6%);\n",
       "        }</style><table id=\"T_eeed5_\" ><thead>    <tr>        <th class=\"blank level0\" ></th>        <th class=\"col_heading level0 col0\" >Correlation</th>    </tr></thead><tbody>\n",
       "                <tr>\n",
       "                        <th id=\"T_eeed5_level0_row0\" class=\"row_heading level0 row0\" >OverallScore</th>\n",
       "                        <td id=\"T_eeed5_row0_col0\" class=\"data row0 col0\" >1.000000</td>\n",
       "            </tr>\n",
       "            <tr>\n",
       "                        <th id=\"T_eeed5_level0_row1\" class=\"row_heading level0 row1\" >OverallScoreStd</th>\n",
       "                        <td id=\"T_eeed5_row1_col0\" class=\"data row1 col0\" >0.943589</td>\n",
       "            </tr>\n",
       "            <tr>\n",
       "                        <th id=\"T_eeed5_level0_row2\" class=\"row_heading level0 row2\" >OverallLevel</th>\n",
       "                        <td id=\"T_eeed5_row2_col0\" class=\"data row2 col0\" >0.739880</td>\n",
       "            </tr>\n",
       "            <tr>\n",
       "                        <th id=\"T_eeed5_level0_row3\" class=\"row_heading level0 row3\" >TestAge</th>\n",
       "                        <td id=\"T_eeed5_row3_col0\" class=\"data row3 col0\" >0.436677</td>\n",
       "            </tr>\n",
       "            <tr>\n",
       "                        <th id=\"T_eeed5_level0_row4\" class=\"row_heading level0 row4\" >GradeAttendedPct</th>\n",
       "                        <td id=\"T_eeed5_row4_col0\" class=\"data row4 col0\" >0.427772</td>\n",
       "            </tr>\n",
       "            <tr>\n",
       "                        <th id=\"T_eeed5_level0_row5\" class=\"row_heading level0 row5\" >GradeEnrolledPct</th>\n",
       "                        <td id=\"T_eeed5_row5_col0\" class=\"data row5 col0\" >0.425248</td>\n",
       "            </tr>\n",
       "            <tr>\n",
       "                        <th id=\"T_eeed5_level0_row6\" class=\"row_heading level0 row6\" >GradeLevel</th>\n",
       "                        <td id=\"T_eeed5_row6_col0\" class=\"data row6 col0\" >0.424732</td>\n",
       "            </tr>\n",
       "            <tr>\n",
       "                        <th id=\"T_eeed5_level0_row7\" class=\"row_heading level0 row7\" >Growth</th>\n",
       "                        <td id=\"T_eeed5_row7_col0\" class=\"data row7 col0\" >0.325504</td>\n",
       "            </tr>\n",
       "            <tr>\n",
       "                        <th id=\"T_eeed5_level0_row8\" class=\"row_heading level0 row8\" >TestInstance</th>\n",
       "                        <td id=\"T_eeed5_row8_col0\" class=\"data row8 col0\" >0.280874</td>\n",
       "            </tr>\n",
       "            <tr>\n",
       "                        <th id=\"T_eeed5_level0_row9\" class=\"row_heading level0 row9\" >AttendedPct</th>\n",
       "                        <td id=\"T_eeed5_row9_col0\" class=\"data row9 col0\" >0.099292</td>\n",
       "            </tr>\n",
       "            <tr>\n",
       "                        <th id=\"T_eeed5_level0_row10\" class=\"row_heading level0 row10\" >DaysAttended</th>\n",
       "                        <td id=\"T_eeed5_row10_col0\" class=\"data row10 col0\" >0.092829</td>\n",
       "            </tr>\n",
       "            <tr>\n",
       "                        <th id=\"T_eeed5_level0_row11\" class=\"row_heading level0 row11\" >School_deID</th>\n",
       "                        <td id=\"T_eeed5_row11_col0\" class=\"data row11 col0\" >0.049944</td>\n",
       "            </tr>\n",
       "            <tr>\n",
       "                        <th id=\"T_eeed5_level0_row12\" class=\"row_heading level0 row12\" >TotalAssessments</th>\n",
       "                        <td id=\"T_eeed5_row12_col0\" class=\"data row12 col0\" >0.035837</td>\n",
       "            </tr>\n",
       "            <tr>\n",
       "                        <th id=\"T_eeed5_level0_row13\" class=\"row_heading level0 row13\" >ExpectedAttendanceDays</th>\n",
       "                        <td id=\"T_eeed5_row13_col0\" class=\"data row13 col0\" >0.028257</td>\n",
       "            </tr>\n",
       "            <tr>\n",
       "                        <th id=\"T_eeed5_level0_row14\" class=\"row_heading level0 row14\" >EnrolledPct</th>\n",
       "                        <td id=\"T_eeed5_row14_col0\" class=\"data row14 col0\" >0.028257</td>\n",
       "            </tr>\n",
       "            <tr>\n",
       "                        <th id=\"T_eeed5_level0_row15\" class=\"row_heading level0 row15\" >AcademicYear_2018-2019</th>\n",
       "                        <td id=\"T_eeed5_row15_col0\" class=\"data row15 col0\" >0.013227</td>\n",
       "            </tr>\n",
       "            <tr>\n",
       "                        <th id=\"T_eeed5_level0_row16\" class=\"row_heading level0 row16\" >TeacherTotalYearsOfService</th>\n",
       "                        <td id=\"T_eeed5_row16_col0\" class=\"data row16 col0\" >0.004095</td>\n",
       "            </tr>\n",
       "            <tr>\n",
       "                        <th id=\"T_eeed5_level0_row17\" class=\"row_heading level0 row17\" >AcademicYear_2017-2018</th>\n",
       "                        <td id=\"T_eeed5_row17_col0\" class=\"data row17 col0\" >-0.040376</td>\n",
       "            </tr>\n",
       "            <tr>\n",
       "                        <th id=\"T_eeed5_level0_row18\" class=\"row_heading level0 row18\" >AcademicYear_2019-2020</th>\n",
       "                        <td id=\"T_eeed5_row18_col0\" class=\"data row18 col0\" >-0.148515</td>\n",
       "            </tr>\n",
       "            <tr>\n",
       "                        <th id=\"T_eeed5_level0_row19\" class=\"row_heading level0 row19\" >Stu_deID</th>\n",
       "                        <td id=\"T_eeed5_row19_col0\" class=\"data row19 col0\" >-0.213938</td>\n",
       "            </tr>\n",
       "    </tbody></table>"
      ],
      "text/plain": [
       "<pandas.io.formats.style.Styler at 0x7f8414317070>"
      ]
     },
     "execution_count": 69,
     "metadata": {},
     "output_type": "execute_result"
    }
   ],
   "source": [
    "# Correlation for dummy variables for Overall Score\n",
    "cor = pd.DataFrame(df2.corrwith(df2['OverallScore']))\n",
    "cor.columns = ['Correlation']\n",
    "cor.head(20).sort_values('Correlation', ascending=False).style.bar(align=\"mid\", color=[\"red\", \"lightgreen\"])"
   ]
  },
  {
   "cell_type": "code",
   "execution_count": 70,
   "metadata": {},
   "outputs": [
    {
     "data": {
      "text/html": [
       "<style  type=\"text/css\" >\n",
       "#T_e9799_row0_col0{\n",
       "            width:  10em;\n",
       "             height:  80%;\n",
       "            background:  linear-gradient(90deg, transparent 20.5%, lightgreen 20.5%, lightgreen 100.0%, transparent 100.0%);\n",
       "        }#T_e9799_row1_col0{\n",
       "            width:  10em;\n",
       "             height:  80%;\n",
       "            background:  linear-gradient(90deg, transparent 20.5%, lightgreen 20.5%, lightgreen 80.3%, transparent 80.3%);\n",
       "        }#T_e9799_row2_col0{\n",
       "            width:  10em;\n",
       "             height:  80%;\n",
       "            background:  linear-gradient(90deg, transparent 20.5%, lightgreen 20.5%, lightgreen 79.3%, transparent 79.3%);\n",
       "        }#T_e9799_row3_col0{\n",
       "            width:  10em;\n",
       "             height:  80%;\n",
       "            background:  linear-gradient(90deg, transparent 20.5%, lightgreen 20.5%, lightgreen 52.0%, transparent 52.0%);\n",
       "        }#T_e9799_row4_col0{\n",
       "            width:  10em;\n",
       "             height:  80%;\n",
       "            background:  linear-gradient(90deg, transparent 20.5%, lightgreen 20.5%, lightgreen 32.3%, transparent 32.3%);\n",
       "        }#T_e9799_row5_col0{\n",
       "            width:  10em;\n",
       "             height:  80%;\n",
       "            background:  linear-gradient(90deg, transparent 20.5%, lightgreen 20.5%, lightgreen 27.3%, transparent 27.3%);\n",
       "        }#T_e9799_row6_col0{\n",
       "            width:  10em;\n",
       "             height:  80%;\n",
       "            background:  linear-gradient(90deg, transparent 20.5%, lightgreen 20.5%, lightgreen 26.9%, transparent 26.9%);\n",
       "        }#T_e9799_row7_col0,#T_e9799_row8_col0{\n",
       "            width:  10em;\n",
       "             height:  80%;\n",
       "            background:  linear-gradient(90deg, transparent 20.5%, lightgreen 20.5%, lightgreen 24.3%, transparent 24.3%);\n",
       "        }#T_e9799_row9_col0{\n",
       "            width:  10em;\n",
       "             height:  80%;\n",
       "            background:  linear-gradient(90deg, transparent 20.5%, lightgreen 20.5%, lightgreen 23.9%, transparent 23.9%);\n",
       "        }#T_e9799_row10_col0{\n",
       "            width:  10em;\n",
       "             height:  80%;\n",
       "            background:  linear-gradient(90deg, transparent 20.5%, lightgreen 20.5%, lightgreen 23.4%, transparent 23.4%);\n",
       "        }#T_e9799_row11_col0{\n",
       "            width:  10em;\n",
       "             height:  80%;\n",
       "            background:  linear-gradient(90deg, transparent 20.5%, red 20.5%, red 20.5%, transparent 20.5%);\n",
       "        }#T_e9799_row12_col0{\n",
       "            width:  10em;\n",
       "             height:  80%;\n",
       "            background:  linear-gradient(90deg, transparent 19.5%, red 19.5%, red 20.5%, transparent 20.5%);\n",
       "        }#T_e9799_row13_col0{\n",
       "            width:  10em;\n",
       "             height:  80%;\n",
       "            background:  linear-gradient(90deg, transparent 18.2%, red 18.2%, red 20.5%, transparent 20.5%);\n",
       "        }#T_e9799_row14_col0{\n",
       "            width:  10em;\n",
       "             height:  80%;\n",
       "            background:  linear-gradient(90deg, transparent 18.1%, red 18.1%, red 20.5%, transparent 20.5%);\n",
       "        }#T_e9799_row15_col0{\n",
       "            width:  10em;\n",
       "             height:  80%;\n",
       "            background:  linear-gradient(90deg, transparent 18.0%, red 18.0%, red 20.5%, transparent 20.5%);\n",
       "        }#T_e9799_row16_col0{\n",
       "            width:  10em;\n",
       "             height:  80%;\n",
       "            background:  linear-gradient(90deg, transparent 15.2%, red 15.2%, red 20.5%, transparent 20.5%);\n",
       "        }#T_e9799_row17_col0{\n",
       "            width:  10em;\n",
       "             height:  80%;\n",
       "            background:  linear-gradient(90deg, transparent 13.6%, red 13.6%, red 20.5%, transparent 20.5%);\n",
       "        }#T_e9799_row18_col0{\n",
       "            width:  10em;\n",
       "             height:  80%;\n",
       "            background:  linear-gradient(90deg, transparent 11.0%, red 11.0%, red 20.5%, transparent 20.5%);\n",
       "        }#T_e9799_row19_col0{\n",
       "            width:  10em;\n",
       "             height:  80%;\n",
       "            background:  linear-gradient(90deg,red 20.5%, transparent 20.5%);\n",
       "        }</style><table id=\"T_e9799_\" ><thead>    <tr>        <th class=\"blank level0\" ></th>        <th class=\"col_heading level0 col0\" >Correlation</th>    </tr></thead><tbody>\n",
       "                <tr>\n",
       "                        <th id=\"T_e9799_level0_row0\" class=\"row_heading level0 row0\" >OverallLevel</th>\n",
       "                        <td id=\"T_e9799_row0_col0\" class=\"data row0 col0\" >1.000000</td>\n",
       "            </tr>\n",
       "            <tr>\n",
       "                        <th id=\"T_e9799_level0_row1\" class=\"row_heading level0 row1\" >OverallScoreStd</th>\n",
       "                        <td id=\"T_e9799_row1_col0\" class=\"data row1 col0\" >0.752161</td>\n",
       "            </tr>\n",
       "            <tr>\n",
       "                        <th id=\"T_e9799_level0_row2\" class=\"row_heading level0 row2\" >OverallScore</th>\n",
       "                        <td id=\"T_e9799_row2_col0\" class=\"data row2 col0\" >0.739880</td>\n",
       "            </tr>\n",
       "            <tr>\n",
       "                        <th id=\"T_e9799_level0_row3\" class=\"row_heading level0 row3\" >Growth</th>\n",
       "                        <td id=\"T_e9799_row3_col0\" class=\"data row3 col0\" >0.395979</td>\n",
       "            </tr>\n",
       "            <tr>\n",
       "                        <th id=\"T_e9799_level0_row4\" class=\"row_heading level0 row4\" >AcademicYear_2017-2018</th>\n",
       "                        <td id=\"T_e9799_row4_col0\" class=\"data row4 col0\" >0.147472</td>\n",
       "            </tr>\n",
       "            <tr>\n",
       "                        <th id=\"T_e9799_level0_row5\" class=\"row_heading level0 row5\" >DaysAttended</th>\n",
       "                        <td id=\"T_e9799_row5_col0\" class=\"data row5 col0\" >0.084942</td>\n",
       "            </tr>\n",
       "            <tr>\n",
       "                        <th id=\"T_e9799_level0_row6\" class=\"row_heading level0 row6\" >AttendedPct</th>\n",
       "                        <td id=\"T_e9799_row6_col0\" class=\"data row6 col0\" >0.080637</td>\n",
       "            </tr>\n",
       "            <tr>\n",
       "                        <th id=\"T_e9799_level0_row7\" class=\"row_heading level0 row7\" >ExpectedAttendanceDays</th>\n",
       "                        <td id=\"T_e9799_row7_col0\" class=\"data row7 col0\" >0.046723</td>\n",
       "            </tr>\n",
       "            <tr>\n",
       "                        <th id=\"T_e9799_level0_row8\" class=\"row_heading level0 row8\" >EnrolledPct</th>\n",
       "                        <td id=\"T_e9799_row8_col0\" class=\"data row8 col0\" >0.046723</td>\n",
       "            </tr>\n",
       "            <tr>\n",
       "                        <th id=\"T_e9799_level0_row9\" class=\"row_heading level0 row9\" >School_deID</th>\n",
       "                        <td id=\"T_e9799_row9_col0\" class=\"data row9 col0\" >0.042032</td>\n",
       "            </tr>\n",
       "            <tr>\n",
       "                        <th id=\"T_e9799_level0_row10\" class=\"row_heading level0 row10\" >AcademicYear_2018-2019</th>\n",
       "                        <td id=\"T_e9799_row10_col0\" class=\"data row10 col0\" >0.036051</td>\n",
       "            </tr>\n",
       "            <tr>\n",
       "                        <th id=\"T_e9799_level0_row11\" class=\"row_heading level0 row11\" >TestInstance</th>\n",
       "                        <td id=\"T_e9799_row11_col0\" class=\"data row11 col0\" >-0.000259</td>\n",
       "            </tr>\n",
       "            <tr>\n",
       "                        <th id=\"T_e9799_level0_row12\" class=\"row_heading level0 row12\" >TestAge</th>\n",
       "                        <td id=\"T_e9799_row12_col0\" class=\"data row12 col0\" >-0.013370</td>\n",
       "            </tr>\n",
       "            <tr>\n",
       "                        <th id=\"T_e9799_level0_row13\" class=\"row_heading level0 row13\" >GradeAttendedPct</th>\n",
       "                        <td id=\"T_e9799_row13_col0\" class=\"data row13 col0\" >-0.028851</td>\n",
       "            </tr>\n",
       "            <tr>\n",
       "                        <th id=\"T_e9799_level0_row14\" class=\"row_heading level0 row14\" >GradeEnrolledPct</th>\n",
       "                        <td id=\"T_e9799_row14_col0\" class=\"data row14 col0\" >-0.031160</td>\n",
       "            </tr>\n",
       "            <tr>\n",
       "                        <th id=\"T_e9799_level0_row15\" class=\"row_heading level0 row15\" >GradeLevel</th>\n",
       "                        <td id=\"T_e9799_row15_col0\" class=\"data row15 col0\" >-0.032220</td>\n",
       "            </tr>\n",
       "            <tr>\n",
       "                        <th id=\"T_e9799_level0_row16\" class=\"row_heading level0 row16\" >TeacherTotalYearsOfService</th>\n",
       "                        <td id=\"T_e9799_row16_col0\" class=\"data row16 col0\" >-0.067103</td>\n",
       "            </tr>\n",
       "            <tr>\n",
       "                        <th id=\"T_e9799_level0_row17\" class=\"row_heading level0 row17\" >TotalAssessments</th>\n",
       "                        <td id=\"T_e9799_row17_col0\" class=\"data row17 col0\" >-0.087877</td>\n",
       "            </tr>\n",
       "            <tr>\n",
       "                        <th id=\"T_e9799_level0_row18\" class=\"row_heading level0 row18\" >Stu_deID</th>\n",
       "                        <td id=\"T_e9799_row18_col0\" class=\"data row18 col0\" >-0.120361</td>\n",
       "            </tr>\n",
       "            <tr>\n",
       "                        <th id=\"T_e9799_level0_row19\" class=\"row_heading level0 row19\" >AcademicYear_2019-2020</th>\n",
       "                        <td id=\"T_e9799_row19_col0\" class=\"data row19 col0\" >-0.258510</td>\n",
       "            </tr>\n",
       "    </tbody></table>"
      ],
      "text/plain": [
       "<pandas.io.formats.style.Styler at 0x7f83f6515fd0>"
      ]
     },
     "execution_count": 70,
     "metadata": {},
     "output_type": "execute_result"
    }
   ],
   "source": [
    "# Correlation for dummy variables for Overall Level\n",
    "cor = pd.DataFrame(df2.corrwith(df2['OverallLevel']))\n",
    "cor.columns = ['Correlation']\n",
    "cor.head(20).sort_values('Correlation', ascending=False).style.bar(align=\"mid\", color=[\"red\", \"lightgreen\"])"
   ]
  },
  {
   "cell_type": "code",
   "execution_count": 71,
   "metadata": {},
   "outputs": [
    {
     "data": {
      "text/plain": [
       "<AxesSubplot:>"
      ]
     },
     "execution_count": 71,
     "metadata": {},
     "output_type": "execute_result"
    },
    {
     "data": {
      "image/png": "[encoded data removed]",
      "text/plain": [
       "<Figure size 864x720 with 2 Axes>"
      ]
     },
     "metadata": {
      "needs_background": "light"
     },
     "output_type": "display_data"
    }
   ],
   "source": [
    "# Correlation Matrix\n",
    "pearsoncorr = df.corr(method='pearson')\n",
    "\n",
    "plt.figure(figsize= (12,10))\n",
    "\n",
    "sns.heatmap(pearsoncorr,\n",
    "            xticklabels=pearsoncorr.columns,\n",
    "            yticklabels=pearsoncorr.columns,\n",
    "            cmap='coolwarm',\n",
    "            fmt=\".2f\",\n",
    "            annot=True,\n",
    "            linewidth=0.25)\n",
    "\n"
   ]
  },
  {
   "cell_type": "code",
   "execution_count": 72,
   "metadata": {},
   "outputs": [],
   "source": [
    "#Split numerical and categorical dataframes for visualization purpose\n",
    "#for num_df, only extract the useful columns and drop the columns such as 'Stu_deID'\n",
    "\n",
    "num_df = df[['School_deID','GradeLevel','TestAge','OverallLevel','ExpectedAttendanceDays','DaysAttended',\n",
    "           'AttendedPct', 'EnrolledPct' ,'GradeEnrolledPct', 'GradeAttendedPct','TeacherTotalYearsOfService',\n",
    "           'OverallScoreStd','TotalAssessments']]\n",
    "\n",
    "#for cat_df, keep only the suitable features for visualization \n",
    "cat_df = df[['AcademicYear','StudentGender','StudentEthnicity','Special_Education','Homeless','SocioEconomically','TestDayName',\n",
    "           'TeacherGender','TeacherEthnicity']]\n",
    "\n"
   ]
  },
  {
   "cell_type": "markdown",
   "metadata": {},
   "source": [
    "### **DISTRIBUTION BETWEEN CATEGORICAL VARIABLES**\n"
   ]
  },
  {
   "cell_type": "code",
   "execution_count": 73,
   "metadata": {},
   "outputs": [
    {
     "data": {
      "image/png": "[encoded data removed]",
      "text/plain": [
       "<Figure size 864x1152 with 9 Axes>"
      ]
     },
     "metadata": {
      "needs_background": "light"
     },
     "output_type": "display_data"
    }
   ],
   "source": [
    "#plot dictribution of categorical values\n",
    "fig , ax = plt.subplots(3,3, figsize = (12,16))     # set up 2 x 2 frame count plot with figsize 10 x 10\n",
    "fig.suptitle(\"Distribution of Categorical Features\", fontsize=18)\n",
    "\n",
    "for i , subplots in zip (cat_df, ax.flatten()):\n",
    "  g = sns.countplot(cat_df[i],hue = df['OverallLevel'],ax = subplots, palette = 'CMRmap_r')\n",
    "  g.set_xticklabels(labels=cat_df[i].unique(), rotation= 75)\n",
    "\n",
    "fig.tight_layout(pad= 5.0)\n",
    "plt.legend(loc = 'upper right')\n",
    "plt.show()"
   ]
  },
  {
   "cell_type": "markdown",
   "metadata": {},
   "source": [
    "### **DISTRIBUTION PLOTS OF NUMERICAL VARIABLES**\n"
   ]
  },
  {
   "cell_type": "code",
   "execution_count": 74,
   "metadata": {},
   "outputs": [
    {
     "name": "stderr",
     "output_type": "stream",
     "text": [
      "No handles with labels found to put in legend.\n",
      "No handles with labels found to put in legend.\n",
      "No handles with labels found to put in legend.\n",
      "No handles with labels found to put in legend.\n",
      "No handles with labels found to put in legend.\n",
      "No handles with labels found to put in legend.\n",
      "No handles with labels found to put in legend.\n",
      "No handles with labels found to put in legend.\n",
      "No handles with labels found to put in legend.\n",
      "No handles with labels found to put in legend.\n",
      "No handles with labels found to put in legend.\n",
      "No handles with labels found to put in legend.\n",
      "No handles with labels found to put in legend.\n"
     ]
    },
    {
     "data": {
      "image/png": "[encoded data removed]",
      "text/plain": [
       "<Figure size 1152x1152 with 13 Axes>"
      ]
     },
     "metadata": {
      "needs_background": "light"
     },
     "output_type": "display_data"
    }
   ],
   "source": [
    "fig , ax = plt.subplots(3,3, figsize = (16,16))     \n",
    "fig.suptitle(\"Distribution of Categorical Features\", fontsize=18)\n",
    "\n",
    "for i, column in enumerate(num_df, 1):\n",
    "    plt.subplot(4, 4, i)\n",
    "    sns.distplot(x=num_df[column], color = 'blue') \n",
    "    plt.legend() \n",
    "    plt.xlabel(column)\n",
    "    fig.tight_layout(pad=4.0)"
   ]
  },
  {
   "cell_type": "code",
   "execution_count": 75,
   "metadata": {},
   "outputs": [
    {
     "name": "stdout",
     "output_type": "stream",
     "text": [
      "TotalAssessments    1    2    3    4    5\n",
      "OverallLevel                             \n",
      "1                 349  333  324  359  322\n",
      "2                 489  496  563  655  578\n",
      "3                 568  641  731  842  649\n",
      "4                 481  354  323  272  131\n"
     ]
    },
    {
     "data": {
      "text/plain": [
       "<Figure size 432x288 with 0 Axes>"
      ]
     },
     "metadata": {},
     "output_type": "display_data"
    },
    {
     "data": {
      "image/png": "[encoded data removed]",
      "text/plain": [
       "<Figure size 576x576 with 1 Axes>"
      ]
     },
     "metadata": {
      "needs_background": "light"
     },
     "output_type": "display_data"
    }
   ],
   "source": [
    "#Crosstab for Student scores by Grade Level\n",
    "test_assessments = test =  pd.crosstab(index=df.OverallLevel, columns=df.TotalAssessments)\n",
    "print(test_assessments)\n",
    "#plot the figure\n",
    "fig1 = plt.figure()\n",
    "temp = test_assessments.plot.bar(colormap=\"terrain\", fontsize=16, figsize=(8,8), rot=0) #https://matplotlib.org/stable/tutorials/colors/colormaps.html#sequential\n",
    "temp = plt.title('Student Total assessments by Grade Level', fontsize=20)\n",
    "temp = plt.ylabel('Count by Grade ', fontsize=16)\n",
    "temp = plt.xlabel('Overall Level', fontsize=16)"
   ]
  },
  {
   "cell_type": "markdown",
   "metadata": {},
   "source": [
    "### **STUDENT SCORES BY GRADE LEVEL**\n"
   ]
  },
  {
   "cell_type": "code",
   "execution_count": 76,
   "metadata": {},
   "outputs": [
    {
     "name": "stdout",
     "output_type": "stream",
     "text": [
      "GradeLevel      0    1    2    3    4    5    6\n",
      "OverallLevel                                   \n",
      "1             202  252  160  384  272  167  250\n",
      "2             480  394  377  537  379  321  293\n",
      "3             476  369  600  542  622  500  322\n",
      "4             199  238  395  178  219  220  112\n"
     ]
    },
    {
     "data": {
      "text/plain": [
       "<Figure size 432x288 with 0 Axes>"
      ]
     },
     "metadata": {},
     "output_type": "display_data"
    },
    {
     "data": {
      "image/png": "[encoded data removed]",
      "text/plain": [
       "<Figure size 576x576 with 1 Axes>"
      ]
     },
     "metadata": {
      "needs_background": "light"
     },
     "output_type": "display_data"
    }
   ],
   "source": [
    "#Crosstab for Student scores by Grade Level\n",
    "test =  pd.crosstab(index=df.OverallLevel, columns=df.GradeLevel)\n",
    "print(test)\n",
    "#plot the figure\n",
    "fig = plt.figure()\n",
    "temp = test.plot.bar(colormap=\"terrain\", fontsize=16, figsize=(8,8), rot=0) #https://matplotlib.org/stable/tutorials/colors/colormaps.html#sequential\n",
    "temp = plt.title('Student scores by Grade Level', fontsize=20)\n",
    "temp = plt.ylabel('Count by Grade ', fontsize=16)\n",
    "temp = plt.xlabel('Overall Level', fontsize=16)"
   ]
  },
  {
   "cell_type": "markdown",
   "metadata": {},
   "source": [
    "# **Feauture Engineering**"
   ]
  },
  {
   "cell_type": "markdown",
   "metadata": {},
   "source": [
    "### **DISTRIBUTION OF TARGET CLASSES: OVERALLLEVEL**"
   ]
  },
  {
   "cell_type": "code",
   "execution_count": 77,
   "metadata": {},
   "outputs": [
    {
     "data": {
      "text/plain": [
       "<AxesSubplot:xlabel='OverallLevel', ylabel='count'>"
      ]
     },
     "execution_count": 77,
     "metadata": {},
     "output_type": "execute_result"
    },
    {
     "data": {
      "image/png": "[encoded data removed]",
      "text/plain": [
       "<Figure size 432x288 with 1 Axes>"
      ]
     },
     "metadata": {
      "needs_background": "light"
     },
     "output_type": "display_data"
    }
   ],
   "source": [
    "#plot the target variable to observe the class imbalance\n",
    "fig_szie=(12,8)\n",
    "sns.countplot(df['OverallLevel'], data = df, palette = 'rainbow_r')"
   ]
  },
  {
   "cell_type": "markdown",
   "metadata": {},
   "source": [
    "\n",
    "A slight class-imbalance was observed among the scores.\n",
    "\n",
    "Downsampling will be performed for level 2 and 3 as reference to level 4 count.\n",
    "\n",
    "A new data balanced dataset named 'bal_df' will be trained with models to see the accuracy performance improvement.\n"
   ]
  },
  {
   "cell_type": "code",
   "execution_count": 78,
   "metadata": {},
   "outputs": [],
   "source": [
    "#downsamples level 2 and 3 as reference to level 4\n",
    "lev_0 = df[df['OverallLevel'] == 0]\n",
    "lev_1 = df[df['OverallLevel'] == 1]\n",
    "lev_2 = df[df['OverallLevel'] == 2]\n",
    "lev_3 = df[df['OverallLevel'] == 3]\n",
    "lev_4 = df[df['OverallLevel'] == 4]\n",
    "# resample the levels\n",
    "lev1_upsample = resample(lev_1,replace=True,n_samples=len(lev_3),random_state=42)\n",
    "lev2_upsample = resample(lev_2,replace=True,n_samples=len(lev_3),random_state=42)\n",
    "lev4_upsample = resample(lev_4,replace=True,n_samples=len(lev_3),random_state=42)"
   ]
  },
  {
   "cell_type": "code",
   "execution_count": 79,
   "metadata": {},
   "outputs": [
    {
     "data": {
      "text/plain": [
       "<AxesSubplot:xlabel='OverallLevel', ylabel='count'>"
      ]
     },
     "execution_count": 79,
     "metadata": {},
     "output_type": "execute_result"
    },
    {
     "data": {
      "image/png": "[encoded data removed]",
      "text/plain": [
       "<Figure size 432x288 with 1 Axes>"
      ]
     },
     "metadata": {
      "needs_background": "light"
     },
     "output_type": "display_data"
    }
   ],
   "source": [
    "#create a new dataframe with balanced datasets\n",
    "frames = (lev1_upsample, lev2_upsample, lev_3, lev4_upsample)\n",
    "bal_df = pd.concat(frames)\n",
    "fig_szie=(12,8)\n",
    "sns.countplot(bal_df['OverallLevel'], data = bal_df, palette = 'rainbow_r')"
   ]
  },
  {
   "cell_type": "markdown",
   "metadata": {},
   "source": [
    "\n",
    "# **FEATURE ENGINEERING TO DO LISTS**\n",
    "\n",
    "According to the data visualization plots, here are the steps for feature engineering.\n",
    "\n",
    "GradeEnrolledPct, AttendedPct will be dropped from the data frame to avoid multicollinearity.\n",
    "\n",
    "TestAge is the student's age on the date of the ELPAC test. For example, for record #1, the student was born on 7/4/2011 and student is 11 year old. TestAge of the student is 6.828340. Since GradeLevel and TestAge are highly correlated and age column was also populated, it's safe to drop the TestAge to avoid multicollinearity.\n",
    "\n",
    "Other insignificant columns such as 'AcademicYear', 'Stu_deID', 'DOB', 'TestDate' will also be dropped.\n",
    "\n",
    "Unique value X in 'StudentGender' will be replaced with the mode of each feature column for each train and test data set to avoid data leakage.\n",
    "\n",
    "Label-encoding will be performed for categorical variables.\n",
    "\n",
    "Dataset will be split into Train and test dataset.\n"
   ]
  },
  {
   "cell_type": "code",
   "execution_count": 80,
   "metadata": {},
   "outputs": [],
   "source": [
    "new_df = df.drop(columns = ['AcademicYear','Stu_deID','DOB','TestAge','GradeEnrolledPct',\n",
    "                             'AttendedPct','TestDate'])"
   ]
  },
  {
   "cell_type": "code",
   "execution_count": 81,
   "metadata": {},
   "outputs": [
    {
     "name": "stdout",
     "output_type": "stream",
     "text": [
      "0    M\n",
      "dtype: object\n"
     ]
    }
   ],
   "source": [
    "##replace X value from StudentGender with Mode value for StudentGender column\n",
    "print(new_df['StudentGender'].mode())\n",
    "new_df['StudentGender'] = new_df['StudentGender'].replace(to_replace = 'M', value = 'X') #replace X value with mode"
   ]
  },
  {
   "cell_type": "markdown",
   "metadata": {},
   "source": [
    "# **LABEL-ENCODING FOR CATEGORICAL VARIABLES**\n"
   ]
  },
  {
   "cell_type": "code",
   "execution_count": 82,
   "metadata": {},
   "outputs": [],
   "source": [
    "cat_columns = ['StudentGender','StudentEthnicity','Special_Education','Homeless','SocioEconomically',\n",
    "               'TestDayName','TeacherGender','TeacherEthnicity']"
   ]
  },
  {
   "cell_type": "code",
   "execution_count": 83,
   "metadata": {},
   "outputs": [],
   "source": [
    "#Train dataset\n",
    "label_encoders = {}\n",
    "for column in cat_columns:\n",
    "  label_encoders[column] = LabelEncoder()\n",
    "  new_df[column] = label_encoders[column].fit_transform(new_df[column])"
   ]
  },
  {
   "cell_type": "markdown",
   "metadata": {},
   "source": [
    "# **Data Dictionary for LabelEncoder values**\n"
   ]
  },
  {
   "cell_type": "code",
   "execution_count": 84,
   "metadata": {},
   "outputs": [
    {
     "data": {
      "text/plain": [
       "TeacherEthnicity           le\n",
       "Asian                      0      332\n",
       "Black/African Am           1       46\n",
       "Filipino                   2      516\n",
       "Hispanic                   3     5387\n",
       "Missing                    4       18\n",
       "Multiple                   5        8\n",
       "Nat Hwiin/Othr Pac Islndr  6       16\n",
       "White                      7     3137\n",
       "dtype: int64"
      ]
     },
     "execution_count": 84,
     "metadata": {},
     "output_type": "execute_result"
    }
   ],
   "source": [
    "# TeacherEthnicity - description and label encoder value\n",
    "TeacherEthnicity = pd.concat([df.TeacherEthnicity, new_df.TeacherEthnicity], axis=1)\n",
    "TeacherEthnicity.columns = ['TeacherEthnicity', 'le']\n",
    "TeacherEthnicity.value_counts().sort_index()"
   ]
  },
  {
   "cell_type": "code",
   "execution_count": 85,
   "metadata": {},
   "outputs": [
    {
     "data": {
      "text/plain": [
       "TestDayName  le\n",
       "Friday       0     1884\n",
       "Monday       1     1564\n",
       "Saturday     2       23\n",
       "Sunday       3       12\n",
       "Thursday     4     1883\n",
       "Tuesday      5     1936\n",
       "Wednesday    6     2158\n",
       "dtype: int64"
      ]
     },
     "execution_count": 85,
     "metadata": {},
     "output_type": "execute_result"
    }
   ],
   "source": [
    "# TestDayName - description and label encoder value\n",
    "TestDayName = pd.concat([df.TestDayName, new_df.TestDayName], axis=1)\n",
    "TestDayName.columns = ['TestDayName', 'le']\n",
    "TestDayName.value_counts().sort_index()"
   ]
  },
  {
   "cell_type": "code",
   "execution_count": 86,
   "metadata": {},
   "outputs": [
    {
     "data": {
      "text/plain": [
       "StudentEthnicity           le\n",
       "Am Indian/Alskn Nat        0        1\n",
       "Asian                      1      130\n",
       "Black/African Am           2       25\n",
       "Filipino                   3      595\n",
       "Hispanic                   4     8544\n",
       "Missing                    5       32\n",
       "Multiple                   6       40\n",
       "Nat Hwiin/Othr Pac Islndr  7       13\n",
       "White                      8       80\n",
       "dtype: int64"
      ]
     },
     "execution_count": 86,
     "metadata": {},
     "output_type": "execute_result"
    }
   ],
   "source": [
    "# StudentEthnicity - description and label encoder value\n",
    "StudentEthnicity = pd.concat([df.StudentEthnicity, new_df.StudentEthnicity], axis=1)\n",
    "StudentEthnicity.columns = ['StudentEthnicity', 'le']\n",
    "StudentEthnicity.value_counts().sort_index()"
   ]
  },
  {
   "cell_type": "code",
   "execution_count": 87,
   "metadata": {},
   "outputs": [
    {
     "data": {
      "text/plain": [
       "TeacherGender  le\n",
       "F              0     8573\n",
       "M              1      887\n",
       "dtype: int64"
      ]
     },
     "execution_count": 87,
     "metadata": {},
     "output_type": "execute_result"
    }
   ],
   "source": [
    "# TeacherGender - description and label encoder value\n",
    "TeacherGender = pd.concat([df.TeacherGender, new_df.TeacherGender], axis=1)\n",
    "TeacherGender.columns = ['TeacherGender', 'le']\n",
    "TeacherGender.value_counts().sort_index()"
   ]
  },
  {
   "cell_type": "code",
   "execution_count": 88,
   "metadata": {},
   "outputs": [
    {
     "data": {
      "text/plain": [
       "Special_Education  le\n",
       "N                  0     8234\n",
       "Y                  1     1226\n",
       "dtype: int64"
      ]
     },
     "execution_count": 88,
     "metadata": {},
     "output_type": "execute_result"
    }
   ],
   "source": [
    "# Special_Education - description and label encoder value\n",
    "Special_Education = pd.concat([df.Special_Education, new_df.Special_Education], axis=1)\n",
    "Special_Education.columns = ['Special_Education', 'le']\n",
    "Special_Education.value_counts().sort_index()"
   ]
  },
  {
   "cell_type": "code",
   "execution_count": 89,
   "metadata": {},
   "outputs": [],
   "source": [
    "# # Save a version of the clean file, then push the file up to GitHub for next steps.\n",
    "new_df.to_csv('/Users/oscargil/Desktop/ADS-599B/Data Folder/new_elpac.csv', encoding='utf-8', index=False)\n"
   ]
  },
  {
   "cell_type": "markdown",
   "metadata": {},
   "source": [
    "# **DATA MODELING**"
   ]
  },
  {
   "cell_type": "code",
   "execution_count": 90,
   "metadata": {},
   "outputs": [
    {
     "data": {
      "text/html": [
       "<div>\n",
       "<style scoped>\n",
       "    .dataframe tbody tr th:only-of-type {\n",
       "        vertical-align: middle;\n",
       "    }\n",
       "\n",
       "    .dataframe tbody tr th {\n",
       "        vertical-align: top;\n",
       "    }\n",
       "\n",
       "    .dataframe thead th {\n",
       "        text-align: right;\n",
       "    }\n",
       "</style>\n",
       "<table border=\"1\" class=\"dataframe\">\n",
       "  <thead>\n",
       "    <tr style=\"text-align: right;\">\n",
       "      <th></th>\n",
       "      <th>School_deID</th>\n",
       "      <th>GradeLevel</th>\n",
       "      <th>StudentGender</th>\n",
       "      <th>StudentEthnicity</th>\n",
       "      <th>Special_Education</th>\n",
       "      <th>Homeless</th>\n",
       "      <th>SocioEconomically</th>\n",
       "      <th>TestDayName</th>\n",
       "      <th>OverallScore</th>\n",
       "      <th>OverallLevel</th>\n",
       "      <th>ExpectedAttendanceDays</th>\n",
       "      <th>DaysAttended</th>\n",
       "      <th>EnrolledPct</th>\n",
       "      <th>GradeAttendedPct</th>\n",
       "      <th>TeacherGender</th>\n",
       "      <th>TeacherTotalYearsOfService</th>\n",
       "      <th>TeacherEthnicity</th>\n",
       "      <th>OverallScoreStd</th>\n",
       "      <th>TotalAssessments</th>\n",
       "      <th>TestInstance</th>\n",
       "      <th>Growth</th>\n",
       "    </tr>\n",
       "  </thead>\n",
       "  <tbody>\n",
       "    <tr>\n",
       "      <th>0</th>\n",
       "      <td>3</td>\n",
       "      <td>1</td>\n",
       "      <td>0</td>\n",
       "      <td>4</td>\n",
       "      <td>0</td>\n",
       "      <td>1</td>\n",
       "      <td>1</td>\n",
       "      <td>6</td>\n",
       "      <td>1503</td>\n",
       "      <td>4</td>\n",
       "      <td>180.0</td>\n",
       "      <td>175.0</td>\n",
       "      <td>1.0</td>\n",
       "      <td>1.972222</td>\n",
       "      <td>0</td>\n",
       "      <td>4</td>\n",
       "      <td>3</td>\n",
       "      <td>0.740042</td>\n",
       "      <td>3</td>\n",
       "      <td>1</td>\n",
       "      <td>0</td>\n",
       "    </tr>\n",
       "    <tr>\n",
       "      <th>1</th>\n",
       "      <td>3</td>\n",
       "      <td>2</td>\n",
       "      <td>0</td>\n",
       "      <td>4</td>\n",
       "      <td>0</td>\n",
       "      <td>1</td>\n",
       "      <td>1</td>\n",
       "      <td>5</td>\n",
       "      <td>1549</td>\n",
       "      <td>4</td>\n",
       "      <td>180.0</td>\n",
       "      <td>175.0</td>\n",
       "      <td>1.0</td>\n",
       "      <td>2.972222</td>\n",
       "      <td>0</td>\n",
       "      <td>22</td>\n",
       "      <td>3</td>\n",
       "      <td>0.725455</td>\n",
       "      <td>3</td>\n",
       "      <td>2</td>\n",
       "      <td>0</td>\n",
       "    </tr>\n",
       "    <tr>\n",
       "      <th>2</th>\n",
       "      <td>3</td>\n",
       "      <td>3</td>\n",
       "      <td>0</td>\n",
       "      <td>4</td>\n",
       "      <td>0</td>\n",
       "      <td>1</td>\n",
       "      <td>1</td>\n",
       "      <td>5</td>\n",
       "      <td>1466</td>\n",
       "      <td>2</td>\n",
       "      <td>180.0</td>\n",
       "      <td>177.0</td>\n",
       "      <td>1.0</td>\n",
       "      <td>3.983333</td>\n",
       "      <td>0</td>\n",
       "      <td>25</td>\n",
       "      <td>3</td>\n",
       "      <td>0.605364</td>\n",
       "      <td>3</td>\n",
       "      <td>3</td>\n",
       "      <td>-2</td>\n",
       "    </tr>\n",
       "    <tr>\n",
       "      <th>3</th>\n",
       "      <td>5</td>\n",
       "      <td>4</td>\n",
       "      <td>1</td>\n",
       "      <td>4</td>\n",
       "      <td>0</td>\n",
       "      <td>0</td>\n",
       "      <td>1</td>\n",
       "      <td>0</td>\n",
       "      <td>1535</td>\n",
       "      <td>3</td>\n",
       "      <td>180.0</td>\n",
       "      <td>168.0</td>\n",
       "      <td>1.0</td>\n",
       "      <td>4.933333</td>\n",
       "      <td>0</td>\n",
       "      <td>2</td>\n",
       "      <td>5</td>\n",
       "      <td>0.662651</td>\n",
       "      <td>1</td>\n",
       "      <td>1</td>\n",
       "      <td>0</td>\n",
       "    </tr>\n",
       "    <tr>\n",
       "      <th>4</th>\n",
       "      <td>6</td>\n",
       "      <td>3</td>\n",
       "      <td>1</td>\n",
       "      <td>4</td>\n",
       "      <td>0</td>\n",
       "      <td>0</td>\n",
       "      <td>1</td>\n",
       "      <td>6</td>\n",
       "      <td>1412</td>\n",
       "      <td>1</td>\n",
       "      <td>180.0</td>\n",
       "      <td>179.0</td>\n",
       "      <td>1.0</td>\n",
       "      <td>3.994444</td>\n",
       "      <td>0</td>\n",
       "      <td>2</td>\n",
       "      <td>3</td>\n",
       "      <td>0.501916</td>\n",
       "      <td>3</td>\n",
       "      <td>1</td>\n",
       "      <td>0</td>\n",
       "    </tr>\n",
       "  </tbody>\n",
       "</table>\n",
       "</div>"
      ],
      "text/plain": [
       "   School_deID  GradeLevel  StudentGender  StudentEthnicity  Special_Education  Homeless  SocioEconomically  TestDayName  OverallScore  OverallLevel  ExpectedAttendanceDays  DaysAttended  EnrolledPct  GradeAttendedPct  TeacherGender  TeacherTotalYearsOfService  TeacherEthnicity  OverallScoreStd  TotalAssessments  TestInstance  Growth\n",
       "0            3           1              0                 4                  0         1                  1            6          1503             4                   180.0         175.0          1.0          1.972222              0                           4                 3         0.740042                 3             1       0\n",
       "1            3           2              0                 4                  0         1                  1            5          1549             4                   180.0         175.0          1.0          2.972222              0                          22                 3         0.725455                 3             2       0\n",
       "2            3           3              0                 4                  0         1                  1            5          1466             2                   180.0         177.0          1.0          3.983333              0                          25                 3         0.605364                 3             3      -2\n",
       "3            5           4              1                 4                  0         0                  1            0          1535             3                   180.0         168.0          1.0          4.933333              0                           2                 5         0.662651                 1             1       0\n",
       "4            6           3              1                 4                  0         0                  1            6          1412             1                   180.0         179.0          1.0          3.994444              0                           2                 3         0.501916                 3             1       0"
      ]
     },
     "execution_count": 90,
     "metadata": {},
     "output_type": "execute_result"
    }
   ],
   "source": [
    "# Import file\n",
    "df = pd.read_csv('https://raw.githubusercontent.com/OscarG-DataSci/ADS-599B/main/Data%20Folder/new_elpac.csv')\n",
    "df.head() #check the head"
   ]
  },
  {
   "cell_type": "code",
   "execution_count": 91,
   "metadata": {},
   "outputs": [
    {
     "data": {
      "image/png": "[encoded data removed]",
      "text/plain": [
       "<Figure size 864x720 with 2 Axes>"
      ]
     },
     "metadata": {
      "needs_background": "light"
     },
     "output_type": "display_data"
    }
   ],
   "source": [
    "#check for correlations\n",
    "corr = df.corr()\n",
    "sns.set_context('paper', font_scale=1)\n",
    "plt.figure(figsize=(12,10))\n",
    "plt.tight_layout(pad = 10, w_pad=10, h_pad=10)\n",
    "matrix = np.triu(corr)\n",
    "sns.heatmap(df.corr(method='pearson'), annot=True,\n",
    "linewidths=.5, cmap=\"coolwarm\", mask=matrix,\n",
    "square = True, cbar_kws={'label':\n",
    "'Correlation Index'})\n",
    "plt.show()"
   ]
  },
  {
   "cell_type": "code",
   "execution_count": 92,
   "metadata": {},
   "outputs": [],
   "source": [
    "#drop highly correlated variable OverallScoreStd\n",
    "df = df.drop(columns=['OverallScoreStd'])"
   ]
  },
  {
   "cell_type": "markdown",
   "metadata": {},
   "source": [
    "### **DATA PARTITIONING**\n",
    "\n",
    "**Split dataset into 70% train and 30% test datasets.**"
   ]
  },
  {
   "cell_type": "code",
   "execution_count": 93,
   "metadata": {},
   "outputs": [
    {
     "name": "stdout",
     "output_type": "stream",
     "text": [
      "(6622, 19) (6622, 1) (2838, 19) (2838, 1)\n"
     ]
    }
   ],
   "source": [
    "X = df.loc[ : , df.columns != 'OverallLevel']\n",
    "y = df[['OverallLevel']]\n",
    "#split 70% train 30% test\n",
    "X_train, X_test, y_train, y_test = train_test_split(X,y,random_state=700, test_size=0.30)\n",
    "print(X_train.shape, y_train.shape, X_test.shape, y_test.shape)\n"
   ]
  },
  {
   "cell_type": "markdown",
   "metadata": {},
   "source": [
    "### **Standardized (Scaled) Dataset**\n",
    "**Train and test dataset were also standardized to test for better performance on trained models.**"
   ]
  },
  {
   "cell_type": "code",
   "execution_count": 94,
   "metadata": {},
   "outputs": [],
   "source": [
    "#for test purpose create a scaled X and compare the results\n",
    "X_scaled = StandardScaler().fit_transform(X_train)\n",
    "X_test_scaled= StandardScaler().fit_transform(X_test)"
   ]
  },
  {
   "cell_type": "markdown",
   "metadata": {},
   "source": [
    "### **LOGISTIC REGRESSION MODEL (UNSCALED DATA)**\n"
   ]
  },
  {
   "cell_type": "code",
   "execution_count": 95,
   "metadata": {},
   "outputs": [
    {
     "name": "stdout",
     "output_type": "stream",
     "text": [
      "Train Accuracy: 57.08%\n",
      "Test Accuracy: 57.89%\n",
      "Classification Stats:\n",
      "              precision    recall  f1-score   support\n",
      "\n",
      "           1       0.69      0.63      0.66       517\n",
      "           2       0.55      0.44      0.49       830\n",
      "           3       0.55      0.80      0.65      1026\n",
      "           4       0.66      0.27      0.39       465\n",
      "\n",
      "    accuracy                           0.58      2838\n",
      "   macro avg       0.61      0.54      0.55      2838\n",
      "weighted avg       0.59      0.58      0.56      2838\n",
      "\n"
     ]
    }
   ],
   "source": [
    "#logistic regression model\n",
    "logreg = LogisticRegression(random_state=599)\n",
    "logreg.fit(X_train,y_train)\n",
    "lg_pred = logreg.predict(X_test)\n",
    "# print accuracy\n",
    "logX = logreg.predict(X_train)\n",
    "print('Train Accuracy:', str(round(accuracy_score(y_train, logX)*100,2)) + '%')\n",
    "print('Test Accuracy:', str(round(accuracy_score(y_test, lg_pred)*100,2)) +'%')\n",
    "print('Classification Stats:')\n",
    "print(classification_report(y_test,lg_pred))"
   ]
  },
  {
   "cell_type": "markdown",
   "metadata": {},
   "source": [
    "### **LOGISTIC REGRESSION MODEL (SCALED)**\n"
   ]
  },
  {
   "cell_type": "code",
   "execution_count": 96,
   "metadata": {},
   "outputs": [
    {
     "name": "stdout",
     "output_type": "stream",
     "text": [
      "Train Accuracy: 85.05%\n",
      "Test Accuracy: 84.57%\n",
      "Test Classification Stats:\n",
      "              precision    recall  f1-score   support\n",
      "\n",
      "           1       0.92      0.89      0.90       517\n",
      "           2       0.83      0.85      0.84       830\n",
      "           3       0.82      0.85      0.84      1026\n",
      "           4       0.86      0.78      0.82       465\n",
      "\n",
      "    accuracy                           0.85      2838\n",
      "   macro avg       0.86      0.84      0.85      2838\n",
      "weighted avg       0.85      0.85      0.85      2838\n",
      "\n"
     ]
    }
   ],
   "source": [
    "#scaled logistic regression\n",
    "\n",
    "logreg_Scale = LogisticRegression(random_state=599)\n",
    "logreg_Scale.fit(X_scaled,y_train)\n",
    "#evaluate on train data\n",
    "trainX = logreg_Scale.predict(X_scaled)\n",
    "print('Train Accuracy:', str(round(accuracy_score(y_train, trainX)*100,2)) + '%')\n",
    "lg_pred_scaled = logreg_Scale.predict(X_test_scaled)\n",
    "#check the accuracy\n",
    "print('Test Accuracy:', str(round(accuracy_score(y_test, lg_pred_scaled)*100,2))+'%')\n",
    "print('Test Classification Stats:')\n",
    "print(classification_report(y_test,lg_pred_scaled))"
   ]
  },
  {
   "cell_type": "markdown",
   "metadata": {},
   "source": [
    "Since accuracy for LG model with scaled dataset is better, we will do hyperparameter tuning on the scaled dataset.\n"
   ]
  },
  {
   "cell_type": "markdown",
   "metadata": {},
   "source": [
    "### **PENALIZED LOGISTIC REGRESSION MODEL (SCALED)**\n"
   ]
  },
  {
   "cell_type": "code",
   "execution_count": 97,
   "metadata": {},
   "outputs": [
    {
     "name": "stdout",
     "output_type": "stream",
     "text": [
      "Train Accuracy: 85.03%\n",
      "Test Accuracy: 84.57%\n",
      "Test Classification Stats:\n",
      "              precision    recall  f1-score   support\n",
      "\n",
      "           1       0.92      0.89      0.90       517\n",
      "           2       0.83      0.85      0.84       830\n",
      "           3       0.82      0.85      0.84      1026\n",
      "           4       0.86      0.78      0.82       465\n",
      "\n",
      "    accuracy                           0.85      2838\n",
      "   macro avg       0.86      0.84      0.85      2838\n",
      "weighted avg       0.85      0.85      0.85      2838\n",
      "\n"
     ]
    }
   ],
   "source": [
    "#Penalized logistic regression\n",
    "\n",
    "logpen = LogisticRegression(penalty ='l2',\n",
    "solver = 'newton-cg', random_state=599) \n",
    "logpenn=logpen.fit(X_scaled,y_train)\n",
    "#evaluate on train data\n",
    "trainX1 = logpen.predict(X_scaled)\n",
    "print('Train Accuracy:', str(round(accuracy_score(y_train, trainX1)*100,2))+'%')\n",
    "lg_pred_pen = logpen.predict(X_test_scaled)\n",
    "#check the accuracy\n",
    "print('Test Accuracy:', str(round(accuracy_score(y_test, lg_pred_pen)*100,2))+'%')\n",
    "print('Test Classification Stats:')\n",
    "print(classification_report(y_test,lg_pred_pen))"
   ]
  },
  {
   "cell_type": "markdown",
   "metadata": {},
   "source": [
    "### **TUNED LOGISTIC REGRESSION MODEL**\n"
   ]
  },
  {
   "cell_type": "code",
   "execution_count": 98,
   "metadata": {},
   "outputs": [
    {
     "name": "stdout",
     "output_type": "stream",
     "text": [
      "# Tuning hyper-parameters for accuracy\n",
      "\n",
      "Grid scores for all the Logistic Regression Model based on CV:\n",
      "\n",
      "nan (+/-nan) for {'C': 0.001, 'penalty': 'l1', 'solver': 'newton-cg'}\n",
      "0.36922 (+/-0.00319) for {'C': 0.001, 'penalty': 'l1', 'solver': 'saga'}\n",
      "0.56176 (+/-0.00846) for {'C': 0.001, 'penalty': 'l2', 'solver': 'newton-cg'}\n",
      "0.56176 (+/-0.00846) for {'C': 0.001, 'penalty': 'l2', 'solver': 'saga'}\n",
      "nan (+/-nan) for {'C': 0.001, 'penalty': 'elasticnet', 'solver': 'newton-cg'}\n",
      "nan (+/-nan) for {'C': 0.001, 'penalty': 'elasticnet', 'solver': 'saga'}\n",
      "nan (+/-nan) for {'C': 0.01, 'penalty': 'l1', 'solver': 'newton-cg'}\n",
      "0.79780 (+/-0.02408) for {'C': 0.01, 'penalty': 'l1', 'solver': 'saga'}\n",
      "0.77998 (+/-0.01614) for {'C': 0.01, 'penalty': 'l2', 'solver': 'newton-cg'}\n",
      "0.77998 (+/-0.01614) for {'C': 0.01, 'penalty': 'l2', 'solver': 'saga'}\n",
      "nan (+/-nan) for {'C': 0.01, 'penalty': 'elasticnet', 'solver': 'newton-cg'}\n",
      "nan (+/-nan) for {'C': 0.01, 'penalty': 'elasticnet', 'solver': 'saga'}\n",
      "nan (+/-nan) for {'C': 0.1, 'penalty': 'l1', 'solver': 'newton-cg'}\n",
      "0.84612 (+/-0.02157) for {'C': 0.1, 'penalty': 'l1', 'solver': 'saga'}\n",
      "0.84295 (+/-0.01311) for {'C': 0.1, 'penalty': 'l2', 'solver': 'newton-cg'}\n",
      "0.84295 (+/-0.01311) for {'C': 0.1, 'penalty': 'l2', 'solver': 'saga'}\n",
      "nan (+/-nan) for {'C': 0.1, 'penalty': 'elasticnet', 'solver': 'newton-cg'}\n",
      "nan (+/-nan) for {'C': 0.1, 'penalty': 'elasticnet', 'solver': 'saga'}\n",
      "nan (+/-nan) for {'C': 1, 'penalty': 'l1', 'solver': 'newton-cg'}\n",
      "0.84642 (+/-0.01396) for {'C': 1, 'penalty': 'l1', 'solver': 'saga'}\n",
      "0.84718 (+/-0.01551) for {'C': 1, 'penalty': 'l2', 'solver': 'newton-cg'}\n",
      "0.84627 (+/-0.01519) for {'C': 1, 'penalty': 'l2', 'solver': 'saga'}\n",
      "nan (+/-nan) for {'C': 1, 'penalty': 'elasticnet', 'solver': 'newton-cg'}\n",
      "nan (+/-nan) for {'C': 1, 'penalty': 'elasticnet', 'solver': 'saga'}\n",
      "nan (+/-nan) for {'C': 10, 'penalty': 'l1', 'solver': 'newton-cg'}\n",
      "0.84672 (+/-0.01399) for {'C': 10, 'penalty': 'l1', 'solver': 'saga'}\n",
      "0.84597 (+/-0.01686) for {'C': 10, 'penalty': 'l2', 'solver': 'newton-cg'}\n",
      "0.84748 (+/-0.01329) for {'C': 10, 'penalty': 'l2', 'solver': 'saga'}\n",
      "nan (+/-nan) for {'C': 10, 'penalty': 'elasticnet', 'solver': 'newton-cg'}\n",
      "nan (+/-nan) for {'C': 10, 'penalty': 'elasticnet', 'solver': 'saga'}\n",
      "nan (+/-nan) for {'C': 100, 'penalty': 'l1', 'solver': 'newton-cg'}\n",
      "0.84687 (+/-0.01306) for {'C': 100, 'penalty': 'l1', 'solver': 'saga'}\n",
      "0.84597 (+/-0.01752) for {'C': 100, 'penalty': 'l2', 'solver': 'newton-cg'}\n",
      "0.84672 (+/-0.01332) for {'C': 100, 'penalty': 'l2', 'solver': 'saga'}\n",
      "nan (+/-nan) for {'C': 100, 'penalty': 'elasticnet', 'solver': 'newton-cg'}\n",
      "nan (+/-nan) for {'C': 100, 'penalty': 'elasticnet', 'solver': 'saga'}\n",
      "nan (+/-nan) for {'C': 1000, 'penalty': 'l1', 'solver': 'newton-cg'}\n",
      "0.84687 (+/-0.01306) for {'C': 1000, 'penalty': 'l1', 'solver': 'saga'}\n",
      "0.84612 (+/-0.01743) for {'C': 1000, 'penalty': 'l2', 'solver': 'newton-cg'}\n",
      "0.84687 (+/-0.01306) for {'C': 1000, 'penalty': 'l2', 'solver': 'saga'}\n",
      "nan (+/-nan) for {'C': 1000, 'penalty': 'elasticnet', 'solver': 'newton-cg'}\n",
      "nan (+/-nan) for {'C': 1000, 'penalty': 'elasticnet', 'solver': 'saga'}\n",
      "\n",
      "Best parameters set found on training set: {'C': 10, 'penalty': 'l2', 'solver': 'saga'}\n",
      "Best model test accuracy: 0.8474776264036938\n",
      "\n",
      "\n",
      "Tuned Model Stats:\n",
      "Test Classification Stats:\n",
      "              precision    recall  f1-score   support\n",
      "\n",
      "           1       0.91      0.89      0.90       517\n",
      "           2       0.83      0.84      0.84       830\n",
      "           3       0.82      0.85      0.84      1026\n",
      "           4       0.85      0.78      0.81       465\n",
      "\n",
      "    accuracy                           0.84      2838\n",
      "   macro avg       0.85      0.84      0.85      2838\n",
      "weighted avg       0.85      0.84      0.84      2838\n",
      "\n"
     ]
    }
   ],
   "source": [
    "# setting the parameter grid\n",
    "param_grid = {'solver': ['newton-cg', 'saga'], \n",
    "                   'penalty': ['l1', 'l2', 'elasticnet'],\n",
    "                  'C': [0.001, 0.01, 0.1, 1, 10, 100, 1000]}\n",
    "\n",
    "# perform hyperparameter tuning\n",
    "print(\"# Tuning hyper-parameters for accuracy\\n\")\n",
    "tuned_log = GridSearchCV(LogisticRegression(random_state=599),param_grid, cv=5, scoring='accuracy') \n",
    "tuned_log.fit(X_scaled,y_train)\n",
    "# view accuracy scores for all the models\n",
    "print(\"Grid scores for all the Logistic Regression Model based on CV:\\n\")\n",
    "means = tuned_log.cv_results_['mean_test_score']\n",
    "stds = tuned_log.cv_results_['std_test_score']\n",
    "for mean, std, params in zip(means, stds, tuned_log.cv_results_['params']):\n",
    "    print(\"%0.5f (+/-%0.05f) for %r\" % (mean, std * 2, params))\n",
    "# check out best model performance\n",
    "print(\"\\nBest parameters set found on training set:\", tuned_log.best_params_)\n",
    "print(\"Best model test accuracy:\", tuned_log.best_score_)\n",
    "\n",
    "log_best = tuned_log.best_estimator_\n",
    "tuned_log_y_pred = log_best.predict(X_test_scaled)\n",
    "\n",
    "print('\\n\\nTuned Model Stats:')\n",
    "print('Test Classification Stats:')\n",
    "print(classification_report(y_test,tuned_log_y_pred))\n",
    "\n"
   ]
  },
  {
   "cell_type": "markdown",
   "metadata": {},
   "source": [
    "### **K-NEAREST NEIGHBORS (KNN)**\n"
   ]
  },
  {
   "cell_type": "code",
   "execution_count": 99,
   "metadata": {},
   "outputs": [
    {
     "name": "stdout",
     "output_type": "stream",
     "text": [
      "\n",
      "\n"
     ]
    },
    {
     "data": {
      "image/png": "[encoded data removed]",
      "text/plain": [
       "<Figure size 432x288 with 1 Axes>"
      ]
     },
     "metadata": {
      "needs_background": "light"
     },
     "output_type": "display_data"
    },
    {
     "name": "stdout",
     "output_type": "stream",
     "text": [
      "metric: euclidean\n"
     ]
    },
    {
     "data": {
      "text/html": [
       "<style  type=\"text/css\" >\n",
       "</style><table id=\"T_cb866_\" ><thead>    <tr>        <th class=\"col_heading level0 col0\" >k values</th>        <th class=\"col_heading level0 col1\" >Training Accuracy</th>        <th class=\"col_heading level0 col2\" >Test Accuracy</th>    </tr></thead><tbody>\n",
       "                <tr>\n",
       "                                <td id=\"T_cb866_row0_col0\" class=\"data row0 col0\" >1</td>\n",
       "                        <td id=\"T_cb866_row0_col1\" class=\"data row0 col1\" >1.000000</td>\n",
       "                        <td id=\"T_cb866_row0_col2\" class=\"data row0 col2\" >0.553206</td>\n",
       "            </tr>\n",
       "            <tr>\n",
       "                                <td id=\"T_cb866_row1_col0\" class=\"data row1 col0\" >3</td>\n",
       "                        <td id=\"T_cb866_row1_col1\" class=\"data row1 col1\" >0.763214</td>\n",
       "                        <td id=\"T_cb866_row1_col2\" class=\"data row1 col2\" >0.528189</td>\n",
       "            </tr>\n",
       "            <tr>\n",
       "                                <td id=\"T_cb866_row2_col0\" class=\"data row2 col0\" >5</td>\n",
       "                        <td id=\"T_cb866_row2_col1\" class=\"data row2 col1\" >0.722138</td>\n",
       "                        <td id=\"T_cb866_row2_col2\" class=\"data row2 col2\" >0.556730</td>\n",
       "            </tr>\n",
       "            <tr>\n",
       "                                <td id=\"T_cb866_row3_col0\" class=\"data row3 col0\" >7</td>\n",
       "                        <td id=\"T_cb866_row3_col1\" class=\"data row3 col1\" >0.701752</td>\n",
       "                        <td id=\"T_cb866_row3_col2\" class=\"data row3 col2\" >0.570472</td>\n",
       "            </tr>\n",
       "            <tr>\n",
       "                                <td id=\"T_cb866_row4_col0\" class=\"data row4 col0\" >9</td>\n",
       "                        <td id=\"T_cb866_row4_col1\" class=\"data row4 col1\" >0.678647</td>\n",
       "                        <td id=\"T_cb866_row4_col2\" class=\"data row4 col2\" >0.573291</td>\n",
       "            </tr>\n",
       "    </tbody></table>"
      ],
      "text/plain": [
       "<pandas.io.formats.style.Styler at 0x7f83f7fd60d0>"
      ]
     },
     "execution_count": 99,
     "metadata": {},
     "output_type": "execute_result"
    }
   ],
   "source": [
    "metric='euclidean'\n",
    "knn_accuracy = []\n",
    "\n",
    "for i in range(1, 10, 2):\n",
    "    knn_clsf = KNeighborsClassifier(metric=metric, n_neighbors=i).fit(X_scaled, y_train)\n",
    "\n",
    "    knn_clsf_train_pred = knn_clsf.predict(X_scaled)\n",
    "    knn_clsf_test_pred  = knn_clsf.predict(X_test_scaled)\n",
    "\n",
    "    knn_accuracy.append({'k values': i,\n",
    "                         'Training Accuracy': accuracy_score(knn_clsf_train_pred, y_train),\n",
    "                         'Test Accuracy': accuracy_score(knn_clsf_test_pred, y_test)})\n",
    "\n",
    "# Plot\n",
    "print(\"\\n\")\n",
    "plt.plot(pd.DataFrame(knn_accuracy)['k values'], pd.DataFrame(knn_accuracy)['Training Accuracy'], '--', linewidth=2, label='Training Accuracy')\n",
    "plt.plot(pd.DataFrame(knn_accuracy)['k values'], pd.DataFrame(knn_accuracy)['Test Accuracy'], '--', linewidth=2, label='Test Accuracy')\n",
    "plt.xlabel('k Neighbors')\n",
    "plt.ylabel('Accuracy')\n",
    "plt.title('KNN Accuracy - ' + metric)\n",
    "plt.legend()\n",
    "plt.show()\n",
    "\n",
    "# Results\n",
    "print(\"metric:\", metric)\n",
    "pd.DataFrame(knn_accuracy).style.hide_index()"
   ]
  },
  {
   "cell_type": "code",
   "execution_count": 100,
   "metadata": {},
   "outputs": [
    {
     "name": "stdout",
     "output_type": "stream",
     "text": [
      "\n",
      "\n"
     ]
    },
    {
     "data": {
      "image/png": "[encoded data removed]",
      "text/plain": [
       "<Figure size 432x288 with 1 Axes>"
      ]
     },
     "metadata": {
      "needs_background": "light"
     },
     "output_type": "display_data"
    },
    {
     "name": "stdout",
     "output_type": "stream",
     "text": [
      "metric: manhattan\n"
     ]
    },
    {
     "data": {
      "text/html": [
       "<style  type=\"text/css\" >\n",
       "</style><table id=\"T_0437d_\" ><thead>    <tr>        <th class=\"col_heading level0 col0\" >k values</th>        <th class=\"col_heading level0 col1\" >Training Accuracy</th>        <th class=\"col_heading level0 col2\" >Test Accuracy</th>    </tr></thead><tbody>\n",
       "                <tr>\n",
       "                                <td id=\"T_0437d_row0_col0\" class=\"data row0 col0\" >1</td>\n",
       "                        <td id=\"T_0437d_row0_col1\" class=\"data row0 col1\" >1.000000</td>\n",
       "                        <td id=\"T_0437d_row0_col2\" class=\"data row0 col2\" >0.581748</td>\n",
       "            </tr>\n",
       "            <tr>\n",
       "                                <td id=\"T_0437d_row1_col0\" class=\"data row1 col0\" >3</td>\n",
       "                        <td id=\"T_0437d_row1_col1\" class=\"data row1 col1\" >0.788584</td>\n",
       "                        <td id=\"T_0437d_row1_col2\" class=\"data row1 col2\" >0.574700</td>\n",
       "            </tr>\n",
       "            <tr>\n",
       "                                <td id=\"T_0437d_row2_col0\" class=\"data row2 col0\" >5</td>\n",
       "                        <td id=\"T_0437d_row2_col1\" class=\"data row2 col1\" >0.753549</td>\n",
       "                        <td id=\"T_0437d_row2_col2\" class=\"data row2 col2\" >0.601128</td>\n",
       "            </tr>\n",
       "            <tr>\n",
       "                                <td id=\"T_0437d_row3_col0\" class=\"data row3 col0\" >7</td>\n",
       "                        <td id=\"T_0437d_row3_col1\" class=\"data row3 col1\" >0.734068</td>\n",
       "                        <td id=\"T_0437d_row3_col2\" class=\"data row3 col2\" >0.612403</td>\n",
       "            </tr>\n",
       "            <tr>\n",
       "                                <td id=\"T_0437d_row4_col0\" class=\"data row4 col0\" >9</td>\n",
       "                        <td id=\"T_0437d_row4_col1\" class=\"data row4 col1\" >0.721534</td>\n",
       "                        <td id=\"T_0437d_row4_col2\" class=\"data row4 col2\" >0.620155</td>\n",
       "            </tr>\n",
       "    </tbody></table>"
      ],
      "text/plain": [
       "<pandas.io.formats.style.Styler at 0x7f83f57a3070>"
      ]
     },
     "execution_count": 100,
     "metadata": {},
     "output_type": "execute_result"
    }
   ],
   "source": [
    "metric='manhattan'\n",
    "knn_accuracy = []\n",
    "\n",
    "for i in range(1, 10, 2):\n",
    "    knn_clsf = KNeighborsClassifier(metric=metric, n_neighbors=i).fit(X_scaled, y_train)\n",
    "\n",
    "    knn_clsf_train_pred = knn_clsf.predict(X_scaled)\n",
    "    knn_clsf_test_pred  = knn_clsf.predict(X_test_scaled)\n",
    "\n",
    "    knn_accuracy.append({'k values': i,\n",
    "                         'Training Accuracy': accuracy_score(knn_clsf_train_pred, y_train),\n",
    "                         'Test Accuracy': accuracy_score(knn_clsf_test_pred, y_test)})\n",
    "\n",
    "# Plot\n",
    "print(\"\\n\")\n",
    "plt.plot(pd.DataFrame(knn_accuracy)['k values'], pd.DataFrame(knn_accuracy)['Training Accuracy'], '--', linewidth=2, label='Training Accuracy')\n",
    "plt.plot(pd.DataFrame(knn_accuracy)['k values'], pd.DataFrame(knn_accuracy)['Test Accuracy'], '--', linewidth=2, label='Test Accuracy')\n",
    "plt.xlabel('k Neighbors')\n",
    "plt.ylabel('Accuracy')\n",
    "plt.title('KNN Accuracy - ' + metric)\n",
    "plt.legend()\n",
    "plt.show()\n",
    "\n",
    "# Results\n",
    "print(\"metric:\", metric)\n",
    "pd.DataFrame(knn_accuracy).style.hide_index()"
   ]
  },
  {
   "cell_type": "markdown",
   "metadata": {},
   "source": [
    "With elbow method, k=5 is the optimal k. Manhattan distance's accuracy at k=5 is 0.60 for the test dataset and outperform over Euclidean. Thus, we will train our model with Manhattan distance."
   ]
  },
  {
   "cell_type": "code",
   "execution_count": 101,
   "metadata": {},
   "outputs": [
    {
     "name": "stdout",
     "output_type": "stream",
     "text": [
      "Metric: Manhattan\n",
      "Neighbors: 5\n",
      "Train Accuracy: 75.35%\n",
      "Test Accuracy:  60.11%\n",
      "\n",
      "\n",
      "              precision    recall  f1-score   support\n",
      "\n",
      "           1       0.68      0.60      0.63       517\n",
      "           2       0.50      0.56      0.53       830\n",
      "           3       0.60      0.68      0.64      1026\n",
      "           4       0.80      0.50      0.62       465\n",
      "\n",
      "    accuracy                           0.60      2838\n",
      "   macro avg       0.65      0.58      0.60      2838\n",
      "weighted avg       0.62      0.60      0.60      2838\n",
      "\n"
     ]
    }
   ],
   "source": [
    "knn_classifier = KNeighborsClassifier(metric='manhattan', n_neighbors=5)\n",
    "\n",
    "knn_classifier.fit(X_scaled, y_train)\n",
    "\n",
    "knn_test_pred = knn_classifier.predict(X_test_scaled)\n",
    "knn_train_pred = knn_classifier.predict(X_scaled)\n",
    "\n",
    "print('''Metric: Manhattan\n",
    "Neighbors: 5''')\n",
    "print('Train Accuracy:', str(round(accuracy_score(y_train, knn_train_pred)*100,2))+ '%')\n",
    "print('Test Accuracy: ', str(round(accuracy_score(y_test, knn_test_pred)*100,2))+ '%')\n",
    "print(\"\\n\")\n",
    "print(classification_report(y_test,knn_test_pred))"
   ]
  },
  {
   "cell_type": "markdown",
   "metadata": {},
   "source": [
    "### **DECISION TREE**\n"
   ]
  },
  {
   "cell_type": "code",
   "execution_count": 102,
   "metadata": {},
   "outputs": [
    {
     "name": "stdout",
     "output_type": "stream",
     "text": [
      "Train Accuracy: 82.3%\n",
      "Test Accuracy:  82.7%\n",
      "\n",
      "\n",
      "              precision    recall  f1-score   support\n",
      "\n",
      "           1       0.87      0.94      0.90       517\n",
      "           2       0.88      0.65      0.74       830\n",
      "           3       0.75      0.95      0.83      1026\n",
      "           4       0.96      0.76      0.85       465\n",
      "\n",
      "    accuracy                           0.83      2838\n",
      "   macro avg       0.86      0.82      0.83      2838\n",
      "weighted avg       0.84      0.83      0.82      2838\n",
      "\n"
     ]
    }
   ],
   "source": [
    "dtc_clf = DecisionTreeClassifier(criterion=\"gini\",max_depth=5).fit(X,y)\n",
    "\n",
    "dtc_test_pred = dtc_clf.predict(X_test)\n",
    "dtc_train_pred = dtc_clf.predict(X_train)\n",
    "\n",
    "print('Train Accuracy:', str(round(accuracy_score(y_train, dtc_train_pred)*100,2))+ '%')\n",
    "print('Test Accuracy: ', str(round(accuracy_score(y_test, dtc_test_pred)*100,2))+ '%')\n",
    "print(\"\\n\")\n",
    "print(classification_report(y_test,dtc_test_pred))"
   ]
  },
  {
   "cell_type": "markdown",
   "metadata": {},
   "source": [
    "### **RANDOM FOREST**\n"
   ]
  },
  {
   "cell_type": "code",
   "execution_count": 103,
   "metadata": {},
   "outputs": [],
   "source": [
    "#random forests\n",
    "train_errors = list()\n",
    "test_errors = list()\n",
    "\n",
    "for i in range(1,50):\n",
    "  rf_model = RandomForestClassifier(max_depth=i)    #Create multiple models here each based on the i variable above\n",
    "  rf_model.fit(X_train,y_train)\n",
    "  train_pred = rf_model.predict(X_train)\n",
    "  test_pred = rf_model.predict(X_test)\n",
    "  train_errors.append(accuracy_score(y_train,train_pred))    # Store the result of modes in t_train_erors and t_test_errors variables\n",
    "  test_errors.append(accuracy_score(y_test, test_pred))"
   ]
  },
  {
   "cell_type": "code",
   "execution_count": 104,
   "metadata": {},
   "outputs": [
    {
     "data": {
      "image/png": "[encoded data removed]",
      "text/plain": [
       "<Figure size 720x432 with 1 Axes>"
      ]
     },
     "metadata": {
      "needs_background": "light"
     },
     "output_type": "display_data"
    }
   ],
   "source": [
    "# Plot of test and training errors\n",
    "fig,ax = plt.subplots(figsize=(10,6))\n",
    "plt.plot(range(1,50),train_errors, label='Train')\n",
    "plt.plot(range(1,50),test_errors, label='Test')\n",
    "plt.legend(loc='upper left')\n",
    "plt.xlabel('Depth parameter')\n",
    "plt.ylabel('Performance')\n",
    "plt.xticks(ticks =np.arange(1, 50, 1));"
   ]
  },
  {
   "cell_type": "code",
   "execution_count": 105,
   "metadata": {},
   "outputs": [
    {
     "name": "stdout",
     "output_type": "stream",
     "text": [
      "Train Accuracy: 99.56%\n",
      "Test Accuracy:  94.82%\n",
      "\n",
      "\n",
      "              precision    recall  f1-score   support\n",
      "\n",
      "           1       0.98      0.94      0.96       517\n",
      "           2       0.92      0.96      0.94       830\n",
      "           3       0.94      0.95      0.95      1026\n",
      "           4       0.97      0.94      0.95       465\n",
      "\n",
      "    accuracy                           0.95      2838\n",
      "   macro avg       0.95      0.95      0.95      2838\n",
      "weighted avg       0.95      0.95      0.95      2838\n",
      "\n"
     ]
    }
   ],
   "source": [
    "#plot random forest using optimal depth\n",
    "tuned_rf= RandomForestClassifier(max_depth=13, class_weight = 'balanced')\n",
    "tuned_rf.fit(X_train,y_train)\n",
    "\n",
    "rf_test_pred = tuned_rf.predict(X_test)\n",
    "rf_train_pred = tuned_rf.predict(X_train)\n",
    "\n",
    "print('Train Accuracy:', str(round(accuracy_score(y_train, rf_train_pred)*100,2))+ '%')\n",
    "print('Test Accuracy: ', str(round(accuracy_score(y_test, rf_test_pred)*100,2))+ '%')\n",
    "print(\"\\n\")\n",
    "print(classification_report(y_test,rf_test_pred))"
   ]
  },
  {
   "cell_type": "markdown",
   "metadata": {},
   "source": [
    "### **GRADIENT BOOSTING CLASSIFIER**\n"
   ]
  },
  {
   "cell_type": "code",
   "execution_count": 106,
   "metadata": {},
   "outputs": [
    {
     "name": "stdout",
     "output_type": "stream",
     "text": [
      "Train Accuracy: 97.51%\n",
      "Test Accuracy: 96.72%\n",
      "Classification Stats:\n",
      "              precision    recall  f1-score   support\n",
      "\n",
      "           1       0.99      0.97      0.98       517\n",
      "           2       0.96      0.98      0.97       830\n",
      "           3       0.96      0.97      0.96      1026\n",
      "           4       0.98      0.93      0.95       465\n",
      "\n",
      "    accuracy                           0.97      2838\n",
      "   macro avg       0.97      0.96      0.97      2838\n",
      "weighted avg       0.97      0.97      0.97      2838\n",
      "\n"
     ]
    }
   ],
   "source": [
    "#base gradient boosting model\n",
    "gbc = GradientBoostingClassifier(random_state=599)\n",
    "gbc.fit(X_train, y_train)\n",
    "gbc.fit(X_train,y_train)\n",
    "gbc_pred = gbc.predict(X_test)\n",
    "# print accuracy\n",
    "gbcX = gbc.predict(X_train)\n",
    "print('Train Accuracy:', str(round(accuracy_score(y_train, gbcX)*100,2)) +'%')\n",
    "print('Test Accuracy:', str(round(accuracy_score(y_test, gbc_pred)*100,2))+ '%')\n",
    "print('Classification Stats:')\n",
    "print(classification_report(y_test,gbc_pred))"
   ]
  },
  {
   "cell_type": "code",
   "execution_count": 107,
   "metadata": {},
   "outputs": [
    {
     "data": {
      "image/png": "[encoded data removed]",
      "text/plain": [
       "<Figure size 432x288 with 1 Axes>"
      ]
     },
     "metadata": {
      "needs_background": "light"
     },
     "output_type": "display_data"
    }
   ],
   "source": [
    "# gbc.feature_importances_\n",
    "feature_importance = gbc.feature_importances_\n",
    "feature_importance = 100.0 * (feature_importance / feature_importance.max())\n",
    "\n",
    "sorted_idx = np.argsort(feature_importance)\n",
    "pos        = np.arange(sorted_idx.shape[0]) + .5\n",
    "\n",
    "plt.barh(pos, feature_importance[sorted_idx], align='center');\n",
    "plt.yticks(pos, df.columns[sorted_idx]);\n",
    "plt.xlabel('Relative Importance');\n",
    "plt.title('Variable Importance');"
   ]
  },
  {
   "cell_type": "markdown",
   "metadata": {},
   "source": [
    "### **GBC WITH ONLY THE TOP 6 IMPORTANT FEATURES**\n"
   ]
  },
  {
   "cell_type": "code",
   "execution_count": 108,
   "metadata": {},
   "outputs": [],
   "source": [
    "small_train = X_train[['OverallScore','EnrolledPct','GradeLevel','TotalAssessments','TeacherEthnicity','TestInstance']].copy()\n",
    "small_test = X_test[['OverallScore', 'EnrolledPct','GradeLevel','TotalAssessments','TeacherEthnicity','TestInstance']].copy()"
   ]
  },
  {
   "cell_type": "code",
   "execution_count": 109,
   "metadata": {},
   "outputs": [
    {
     "name": "stdout",
     "output_type": "stream",
     "text": [
      "Train Accuracy: 97.25%\n",
      "Test Accuracy: 96.93%\n",
      "Classification Stats:\n",
      "              precision    recall  f1-score   support\n",
      "\n",
      "           1       0.99      0.98      0.98       517\n",
      "           2       0.97      0.97      0.97       830\n",
      "           3       0.96      0.98      0.97      1026\n",
      "           4       0.99      0.93      0.96       465\n",
      "\n",
      "    accuracy                           0.97      2838\n",
      "   macro avg       0.97      0.97      0.97      2838\n",
      "weighted avg       0.97      0.97      0.97      2838\n",
      "\n"
     ]
    }
   ],
   "source": [
    "#base gradient boosting model\n",
    "s_gbc = GradientBoostingClassifier(random_state=599)\n",
    "s_gbc.fit(small_train, y_train)\n",
    "s_gbc.fit(small_train,y_train)\n",
    "s_gbc_pred = s_gbc.predict(small_test)\n",
    "# print accuracy\n",
    "s_gbcX = s_gbc.predict(small_train)\n",
    "print('Train Accuracy:', str(round(accuracy_score(y_train, s_gbcX)*100,2)) +'%')\n",
    "print('Test Accuracy:', str(round(accuracy_score(y_test, s_gbc_pred)*100,2)) +'%')\n",
    "print('Classification Stats:')\n",
    "print(classification_report(y_test,s_gbc_pred))"
   ]
  },
  {
   "cell_type": "markdown",
   "metadata": {},
   "source": [
    "### **HISTOGRADIENT BOOSTING CLASSIFIER (HGB) WITH ALL VARIABLES**\n"
   ]
  },
  {
   "cell_type": "code",
   "execution_count": 110,
   "metadata": {},
   "outputs": [
    {
     "name": "stdout",
     "output_type": "stream",
     "text": [
      "Train Accuracy: 100.0%\n",
      "Test Accuracy: 97.46%\n",
      "Classification Stats:\n",
      "              precision    recall  f1-score   support\n",
      "\n",
      "           1       0.99      0.99      0.99       517\n",
      "           2       0.97      0.98      0.98       830\n",
      "           3       0.97      0.98      0.97      1026\n",
      "           4       0.98      0.95      0.96       465\n",
      "\n",
      "    accuracy                           0.97      2838\n",
      "   macro avg       0.98      0.97      0.97      2838\n",
      "weighted avg       0.97      0.97      0.97      2838\n",
      "\n"
     ]
    }
   ],
   "source": [
    "hgb = HistGradientBoostingClassifier(random_state=599)\n",
    "hgb.fit(X_train, y_train)\n",
    "hgb_pred = hgb.predict(X_test)\n",
    "# print accuracy\n",
    "hgbX = hgb.predict(X_train)\n",
    "print('Train Accuracy:', str(round(accuracy_score(y_train, hgbX)*100,2))+ '%')\n",
    "print('Test Accuracy:', str(round(accuracy_score(y_test, hgb_pred)*100,2))+ '%')\n",
    "print('Classification Stats:')\n",
    "print(classification_report(y_test,hgb_pred))"
   ]
  },
  {
   "cell_type": "markdown",
   "metadata": {},
   "source": [
    "For the purpose of creating the web app, we want to simplify the app using only the partial variables including only most of student's information for better convenience.\n",
    "For example, if the model included 'TeachYearsofService', one will have to investigate more on teacher's information. Thus, we will only use the School ID and student's information to train HGB as 'HGB_Partial'. If the accuracy is still optimal above 90%, then we will use 'HGB_Partial' for creating a streamlit webapp."
   ]
  },
  {
   "cell_type": "code",
   "execution_count": 111,
   "metadata": {},
   "outputs": [],
   "source": [
    "Xs_train = X_train.drop(columns = ['TotalAssessments','TestInstance','Growth','TeacherGender','TeacherTotalYearsOfService'])\n",
    "Xs_test = X_test.drop(columns = ['TotalAssessments','TestInstance','Growth','TeacherGender','TeacherTotalYearsOfService'])"
   ]
  },
  {
   "cell_type": "code",
   "execution_count": 112,
   "metadata": {},
   "outputs": [
    {
     "name": "stdout",
     "output_type": "stream",
     "text": [
      "Train Accuracy: 99.92%\n",
      "Test Accuracy: 92.92%\n",
      "Classification Stats:\n",
      "              precision    recall  f1-score   support\n",
      "\n",
      "           1       0.99      0.97      0.98       517\n",
      "           2       0.93      0.97      0.95       830\n",
      "           3       0.91      0.91      0.91      1026\n",
      "           4       0.90      0.86      0.88       465\n",
      "\n",
      "    accuracy                           0.93      2838\n",
      "   macro avg       0.93      0.93      0.93      2838\n",
      "weighted avg       0.93      0.93      0.93      2838\n",
      "\n"
     ]
    }
   ],
   "source": [
    "small_hgb = HistGradientBoostingClassifier(random_state=200)\n",
    "small_hgb.fit(Xs_train, y_train)\n",
    "small_hgb_pred = small_hgb.predict(Xs_test)\n",
    "# print accuracy\n",
    "small_hgbX = small_hgb.predict(Xs_train)\n",
    "print('Train Accuracy:', str(round(accuracy_score(y_train, small_hgbX)*100,2))+ '%')\n",
    "print('Test Accuracy:', str(round(accuracy_score(y_test, small_hgb_pred)*100,2))+ '%')\n",
    "print('Classification Stats:')\n",
    "print(classification_report(y_test,small_hgb_pred))"
   ]
  },
  {
   "cell_type": "markdown",
   "metadata": {},
   "source": [
    "### **PERFORMANCE METRICS OF ALL TRAINED MODELS**"
   ]
  },
  {
   "cell_type": "code",
   "execution_count": 113,
   "metadata": {},
   "outputs": [],
   "source": [
    "labels = [1,2,3,4]\n",
    "target_names = ['Level_1','Level_2','Level_3','Level_4']\n",
    "\n",
    "models = [lg_pred, lg_pred_scaled, lg_pred_pen, tuned_log_y_pred, knn_test_pred, dtc_test_pred, rf_test_pred, gbc_pred, s_gbc_pred,\n",
    "          hgb_pred, small_hgb_pred]\n",
    "scores_table = []\n",
    "accuracy = []\n",
    "\n",
    "for i in models: \n",
    "  accuracy_scores = accuracy_score(i, y_test)\n",
    "  f1_scores = f1_score(i, y_test, average = None)\n",
    "  f1_scores_with_labels = {label:score for label,score in zip(target_names, f1_scores*100)}\n",
    "  scores_table.append(f1_scores_with_labels)\n",
    "  accuracy.append(accuracy_scores*100)"
   ]
  },
  {
   "cell_type": "markdown",
   "metadata": {},
   "source": [
    "### **ACCURACY**\n"
   ]
  },
  {
   "cell_type": "code",
   "execution_count": 114,
   "metadata": {},
   "outputs": [
    {
     "data": {
      "text/html": [
       "<div>\n",
       "<style scoped>\n",
       "    .dataframe tbody tr th:only-of-type {\n",
       "        vertical-align: middle;\n",
       "    }\n",
       "\n",
       "    .dataframe tbody tr th {\n",
       "        vertical-align: top;\n",
       "    }\n",
       "\n",
       "    .dataframe thead th {\n",
       "        text-align: right;\n",
       "    }\n",
       "</style>\n",
       "<table border=\"1\" class=\"dataframe\">\n",
       "  <thead>\n",
       "    <tr style=\"text-align: right;\">\n",
       "      <th></th>\n",
       "      <th>Models</th>\n",
       "      <th>Accuracy_score</th>\n",
       "    </tr>\n",
       "  </thead>\n",
       "  <tbody>\n",
       "    <tr>\n",
       "      <th>0</th>\n",
       "      <td>LG</td>\n",
       "      <td>57.89</td>\n",
       "    </tr>\n",
       "    <tr>\n",
       "      <th>1</th>\n",
       "      <td>LG_SCALED</td>\n",
       "      <td>84.57</td>\n",
       "    </tr>\n",
       "    <tr>\n",
       "      <th>2</th>\n",
       "      <td>PENALIZED_LG_SCALED</td>\n",
       "      <td>84.57</td>\n",
       "    </tr>\n",
       "    <tr>\n",
       "      <th>3</th>\n",
       "      <td>TUNED_LG</td>\n",
       "      <td>84.43</td>\n",
       "    </tr>\n",
       "    <tr>\n",
       "      <th>4</th>\n",
       "      <td>KNN</td>\n",
       "      <td>60.11</td>\n",
       "    </tr>\n",
       "    <tr>\n",
       "      <th>5</th>\n",
       "      <td>DECISION_TREE</td>\n",
       "      <td>82.70</td>\n",
       "    </tr>\n",
       "    <tr>\n",
       "      <th>6</th>\n",
       "      <td>RANDOM_FOREST</td>\n",
       "      <td>94.82</td>\n",
       "    </tr>\n",
       "    <tr>\n",
       "      <th>7</th>\n",
       "      <td>GBC</td>\n",
       "      <td>96.72</td>\n",
       "    </tr>\n",
       "    <tr>\n",
       "      <th>8</th>\n",
       "      <td>GBC_FEAT</td>\n",
       "      <td>96.93</td>\n",
       "    </tr>\n",
       "    <tr>\n",
       "      <th>9</th>\n",
       "      <td>HGB_FULL</td>\n",
       "      <td>97.46</td>\n",
       "    </tr>\n",
       "    <tr>\n",
       "      <th>10</th>\n",
       "      <td>HGB_PARTIAL</td>\n",
       "      <td>92.92</td>\n",
       "    </tr>\n",
       "  </tbody>\n",
       "</table>\n",
       "</div>"
      ],
      "text/plain": [
       "                 Models  Accuracy_score\n",
       "0                    LG           57.89\n",
       "1             LG_SCALED           84.57\n",
       "2   PENALIZED_LG_SCALED           84.57\n",
       "3              TUNED_LG           84.43\n",
       "4                   KNN           60.11\n",
       "5         DECISION_TREE           82.70\n",
       "6         RANDOM_FOREST           94.82\n",
       "7                   GBC           96.72\n",
       "8              GBC_FEAT           96.93\n",
       "9              HGB_FULL           97.46\n",
       "10          HGB_PARTIAL           92.92"
      ]
     },
     "execution_count": 114,
     "metadata": {},
     "output_type": "execute_result"
    }
   ],
   "source": [
    "# merge accuracy and f1_scores dataframe\n",
    "accuracy = pd.DataFrame(accuracy, columns = ['Accuracy_score'])\n",
    "accuracy_table = accuracy.round(decimals = 2)\n",
    "\n",
    "accuracy_table.insert(0, 'Models', ['LG','LG_SCALED','PENALIZED_LG_SCALED','TUNED_LG','KNN','DECISION_TREE','RANDOM_FOREST','GBC', 'GBC_FEAT',\n",
    "                              'HGB_FULL','HGB_PARTIAL'])\n",
    "accuracy_table\n"
   ]
  },
  {
   "cell_type": "code",
   "execution_count": 115,
   "metadata": {},
   "outputs": [
    {
     "data": {
      "image/png": "[encoded data removed]",
      "text/plain": [
       "<Figure size 720x504 with 1 Axes>"
      ]
     },
     "metadata": {
      "needs_background": "light"
     },
     "output_type": "display_data"
    }
   ],
   "source": [
    "#Bargraph for Comparison of Accuracy for Each Model\n",
    "\n",
    "accuracy_table.plot(x=\"Models\", y= ['Accuracy_score'], kind = 'bar',figsize = (10,7), colormap = 'Pastel1')\n",
    "plt.title('ACCURACY SCORES OF TARGET CLASSES PER MODEL', size = 16)\n",
    "plt.show()"
   ]
  },
  {
   "cell_type": "markdown",
   "metadata": {},
   "source": [
    "### **F1 SCORES**\n"
   ]
  },
  {
   "cell_type": "code",
   "execution_count": 116,
   "metadata": {},
   "outputs": [
    {
     "data": {
      "text/html": [
       "<div>\n",
       "<style scoped>\n",
       "    .dataframe tbody tr th:only-of-type {\n",
       "        vertical-align: middle;\n",
       "    }\n",
       "\n",
       "    .dataframe tbody tr th {\n",
       "        vertical-align: top;\n",
       "    }\n",
       "\n",
       "    .dataframe thead th {\n",
       "        text-align: right;\n",
       "    }\n",
       "</style>\n",
       "<table border=\"1\" class=\"dataframe\">\n",
       "  <thead>\n",
       "    <tr style=\"text-align: right;\">\n",
       "      <th></th>\n",
       "      <th>Models</th>\n",
       "      <th>Level_1</th>\n",
       "      <th>Level_2</th>\n",
       "      <th>Level_3</th>\n",
       "      <th>Level_4</th>\n",
       "    </tr>\n",
       "  </thead>\n",
       "  <tbody>\n",
       "    <tr>\n",
       "      <th>0</th>\n",
       "      <td>LG</td>\n",
       "      <td>65.79</td>\n",
       "      <td>49.03</td>\n",
       "      <td>65.03</td>\n",
       "      <td>38.66</td>\n",
       "    </tr>\n",
       "    <tr>\n",
       "      <th>1</th>\n",
       "      <td>LG_SCALED</td>\n",
       "      <td>90.16</td>\n",
       "      <td>83.64</td>\n",
       "      <td>83.84</td>\n",
       "      <td>81.62</td>\n",
       "    </tr>\n",
       "    <tr>\n",
       "      <th>2</th>\n",
       "      <td>PENALIZED_LG_SCALED</td>\n",
       "      <td>90.16</td>\n",
       "      <td>83.64</td>\n",
       "      <td>83.84</td>\n",
       "      <td>81.62</td>\n",
       "    </tr>\n",
       "    <tr>\n",
       "      <th>3</th>\n",
       "      <td>TUNED_LG</td>\n",
       "      <td>90.11</td>\n",
       "      <td>83.51</td>\n",
       "      <td>83.69</td>\n",
       "      <td>81.35</td>\n",
       "    </tr>\n",
       "    <tr>\n",
       "      <th>4</th>\n",
       "      <td>KNN</td>\n",
       "      <td>63.44</td>\n",
       "      <td>53.10</td>\n",
       "      <td>63.72</td>\n",
       "      <td>61.72</td>\n",
       "    </tr>\n",
       "    <tr>\n",
       "      <th>5</th>\n",
       "      <td>DECISION_TREE</td>\n",
       "      <td>90.05</td>\n",
       "      <td>74.48</td>\n",
       "      <td>83.49</td>\n",
       "      <td>85.23</td>\n",
       "    </tr>\n",
       "    <tr>\n",
       "      <th>6</th>\n",
       "      <td>RANDOM_FOREST</td>\n",
       "      <td>96.04</td>\n",
       "      <td>93.85</td>\n",
       "      <td>94.81</td>\n",
       "      <td>95.29</td>\n",
       "    </tr>\n",
       "    <tr>\n",
       "      <th>7</th>\n",
       "      <td>GBC</td>\n",
       "      <td>98.14</td>\n",
       "      <td>97.08</td>\n",
       "      <td>96.42</td>\n",
       "      <td>95.15</td>\n",
       "    </tr>\n",
       "    <tr>\n",
       "      <th>8</th>\n",
       "      <td>GBC_FEAT</td>\n",
       "      <td>98.25</td>\n",
       "      <td>97.06</td>\n",
       "      <td>96.68</td>\n",
       "      <td>95.80</td>\n",
       "    </tr>\n",
       "    <tr>\n",
       "      <th>9</th>\n",
       "      <td>HGB_FULL</td>\n",
       "      <td>98.84</td>\n",
       "      <td>97.84</td>\n",
       "      <td>97.09</td>\n",
       "      <td>96.07</td>\n",
       "    </tr>\n",
       "    <tr>\n",
       "      <th>10</th>\n",
       "      <td>HGB_PARTIAL</td>\n",
       "      <td>98.05</td>\n",
       "      <td>94.63</td>\n",
       "      <td>91.15</td>\n",
       "      <td>87.89</td>\n",
       "    </tr>\n",
       "  </tbody>\n",
       "</table>\n",
       "</div>"
      ],
      "text/plain": [
       "                 Models  Level_1  Level_2  Level_3  Level_4\n",
       "0                    LG    65.79    49.03    65.03    38.66\n",
       "1             LG_SCALED    90.16    83.64    83.84    81.62\n",
       "2   PENALIZED_LG_SCALED    90.16    83.64    83.84    81.62\n",
       "3              TUNED_LG    90.11    83.51    83.69    81.35\n",
       "4                   KNN    63.44    53.10    63.72    61.72\n",
       "5         DECISION_TREE    90.05    74.48    83.49    85.23\n",
       "6         RANDOM_FOREST    96.04    93.85    94.81    95.29\n",
       "7                   GBC    98.14    97.08    96.42    95.15\n",
       "8              GBC_FEAT    98.25    97.06    96.68    95.80\n",
       "9              HGB_FULL    98.84    97.84    97.09    96.07\n",
       "10          HGB_PARTIAL    98.05    94.63    91.15    87.89"
      ]
     },
     "execution_count": 116,
     "metadata": {},
     "output_type": "execute_result"
    }
   ],
   "source": [
    "f1_scores = pd.DataFrame(scores_table)\n",
    "f1_table = f1_scores.round(decimals = 2)\n",
    "\n",
    "#insert models names\n",
    "f1_table.insert(0, 'Models', ['LG','LG_SCALED','PENALIZED_LG_SCALED','TUNED_LG','KNN','DECISION_TREE','RANDOM_FOREST','GBC','GBC_FEAT',\n",
    "                              'HGB_FULL','HGB_PARTIAL'])\n",
    "pd.DataFrame(f1_table)\n",
    "f1_table"
   ]
  },
  {
   "cell_type": "code",
   "execution_count": 117,
   "metadata": {},
   "outputs": [
    {
     "data": {
      "image/png": "[encoded data removed]",
      "text/plain": [
       "<Figure size 720x504 with 1 Axes>"
      ]
     },
     "metadata": {
      "needs_background": "light"
     },
     "output_type": "display_data"
    }
   ],
   "source": [
    "#Bargraph for Comparison of Metrics for Each Model\n",
    "\n",
    "f1_table.plot(x='Models', y= ['Level_1','Level_2','Level_3','Level_4'], kind = 'bar',\n",
    "               figsize = (10,7), colormap = 'rainbow', alpha = 0.8)\n",
    "plt.title('F1 SCORES OF TARGET CLASSES PER MODEL', size = 16)\n",
    "plt.show()"
   ]
  }
 ],
 "metadata": {
  "kernelspec": {
   "display_name": "Python 3.9.1 ('ADS500B')",
   "language": "python",
   "name": "python3"
  },
  "language_info": {
   "codemirror_mode": {
    "name": "ipython",
    "version": 3
   },
   "file_extension": ".py",
   "mimetype": "text/x-python",
   "name": "python",
   "nbconvert_exporter": "python",
   "pygments_lexer": "ipython3",
   "version": "3.9.1"
  },
  "orig_nbformat": 4,
  "vscode": {
   "interpreter": {
    "hash": "1d26887a0ce0c3c4488c5c94af6ff26a975a652bca174f379a81267199556a29"
   }
  }
 },
 "nbformat": 4,
 "nbformat_minor": 2
}
