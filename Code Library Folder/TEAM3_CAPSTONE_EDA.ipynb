{
  "cells": [
    {
      "cell_type": "markdown",
      "metadata": {
        "id": "WNBPVHVEgn1k"
      },
      "source": [
        "#**Prediction of English Language Proficiency Assessments for California (ELPAC) Scores Using Machine Learning Approach**\n",
        "\n",
        "###**TEAM MEMBERS: TEAM 3:  EMMA OO, LUKE AWINO, OSCAR GIL**\n",
        "\n",
        "###**Applied Data Science Master’s Program, Shiley Marcos School of Engineering / University of San Diego**\n",
        "\n",
        "**DATE:  11/12/2022**\n"
      ]
    },
    {
      "cell_type": "code",
      "execution_count": 1,
      "metadata": {
        "id": "r0yHm6eIggcs"
      },
      "outputs": [],
      "source": [
        "import pandas as pd\n",
        "pd.set_option('display.max_rows', 500)\n",
        "pd.set_option('display.max_columns', 500)\n",
        "pd.set_option('display.width', 1000)\n",
        "\n",
        "import numpy as np\n",
        "import matplotlib.pyplot as plt\n",
        "import seaborn as sns\n",
        "import datetime\n",
        "import sqlite3\n",
        "\n",
        "from sklearn.utils import resample\n",
        "import warnings \n",
        "warnings.filterwarnings(action= 'ignore')"
      ]
    },
    {
      "cell_type": "markdown",
      "metadata": {
        "id": "kCGyEoFchTl9"
      },
      "source": [
        "###**EXPLORATORY DATA ANALYSIS (EDA)**"
      ]
    },
    {
      "cell_type": "code",
      "execution_count": 2,
      "metadata": {
        "id": "YnHFlde6hWMs"
      },
      "outputs": [],
      "source": [
        "# Import file\n",
        "df = pd.read_csv('https://raw.githubusercontent.com/OscarG-DataSci/ADS-599B/main/Data%20Folder/elpac.csv')"
      ]
    },
    {
      "cell_type": "code",
      "execution_count": 3,
      "metadata": {
        "colab": {
          "base_uri": "https://localhost:8080/",
          "height": 357
        },
        "id": "dSdnbJWsh_LT",
        "outputId": "17850980-0b06-4578-f075-7ad48249680a"
      },
      "outputs": [
        {
          "output_type": "execute_result",
          "data": {
            "text/plain": [
              "  AcademicYear  Stu_deID  School_deID  GradeLevel         DOB   TestAge StudentGender StudentEthnicity Special_Education Homeless SocioEconomically TestDayName    TestDate  OverallScore  OverallLevel  ExpectedAttendanceDays  DaysAttended  AttendedPct  EnrolledPct  GradeEnrolledPct  GradeAttendedPct TeacherGender  TeacherTotalYearsOfService TeacherEthnicity\n",
              "0    2017-2018         0            3           1  2011-07-04  6.828340             F         Hispanic                 N        Y                 Y   Wednesday  2018-05-02          1503             4                   180.0         175.0     0.972222          1.0          1.999999          1.972222             F                           4         Hispanic\n",
              "1    2017-2018         1            5           4  2008-07-28  9.631957             M         Hispanic                 N        N                 Y      Friday  2018-03-16          1535             3                   180.0         168.0     0.933333          1.0          4.999999          4.933333             F                           2         Multiple\n",
              "2    2017-2018         3            3           4  2008-05-06  9.905748             M         Hispanic                 Y        N                 N      Monday  2018-04-02          1480             2                   180.0         175.0     0.972222          1.0          4.999999          4.972222             F                          18            White\n",
              "3    2017-2018         4            3           0  2012-04-13  6.108271             M         Hispanic                 N        N                 Y   Wednesday  2018-05-23          1461             4                   180.0         125.0     0.694444          1.0          0.999999          0.694444             F                           1            White\n",
              "4    2017-2018         5            7           0  2011-09-25  6.664066             M         Hispanic                 N        N                 Y      Friday  2018-05-25          1357             1                   180.0         165.0     0.916667          1.0          0.999999          0.916667             F                          17         Hispanic"
            ],
            "text/html": [
              "\n",
              "  <div id=\"df-8e66271d-3884-4fe3-8e80-ad4598f3643f\">\n",
              "    <div class=\"colab-df-container\">\n",
              "      <div>\n",
              "<style scoped>\n",
              "    .dataframe tbody tr th:only-of-type {\n",
              "        vertical-align: middle;\n",
              "    }\n",
              "\n",
              "    .dataframe tbody tr th {\n",
              "        vertical-align: top;\n",
              "    }\n",
              "\n",
              "    .dataframe thead th {\n",
              "        text-align: right;\n",
              "    }\n",
              "</style>\n",
              "<table border=\"1\" class=\"dataframe\">\n",
              "  <thead>\n",
              "    <tr style=\"text-align: right;\">\n",
              "      <th></th>\n",
              "      <th>AcademicYear</th>\n",
              "      <th>Stu_deID</th>\n",
              "      <th>School_deID</th>\n",
              "      <th>GradeLevel</th>\n",
              "      <th>DOB</th>\n",
              "      <th>TestAge</th>\n",
              "      <th>StudentGender</th>\n",
              "      <th>StudentEthnicity</th>\n",
              "      <th>Special_Education</th>\n",
              "      <th>Homeless</th>\n",
              "      <th>SocioEconomically</th>\n",
              "      <th>TestDayName</th>\n",
              "      <th>TestDate</th>\n",
              "      <th>OverallScore</th>\n",
              "      <th>OverallLevel</th>\n",
              "      <th>ExpectedAttendanceDays</th>\n",
              "      <th>DaysAttended</th>\n",
              "      <th>AttendedPct</th>\n",
              "      <th>EnrolledPct</th>\n",
              "      <th>GradeEnrolledPct</th>\n",
              "      <th>GradeAttendedPct</th>\n",
              "      <th>TeacherGender</th>\n",
              "      <th>TeacherTotalYearsOfService</th>\n",
              "      <th>TeacherEthnicity</th>\n",
              "    </tr>\n",
              "  </thead>\n",
              "  <tbody>\n",
              "    <tr>\n",
              "      <th>0</th>\n",
              "      <td>2017-2018</td>\n",
              "      <td>0</td>\n",
              "      <td>3</td>\n",
              "      <td>1</td>\n",
              "      <td>2011-07-04</td>\n",
              "      <td>6.828340</td>\n",
              "      <td>F</td>\n",
              "      <td>Hispanic</td>\n",
              "      <td>N</td>\n",
              "      <td>Y</td>\n",
              "      <td>Y</td>\n",
              "      <td>Wednesday</td>\n",
              "      <td>2018-05-02</td>\n",
              "      <td>1503</td>\n",
              "      <td>4</td>\n",
              "      <td>180.0</td>\n",
              "      <td>175.0</td>\n",
              "      <td>0.972222</td>\n",
              "      <td>1.0</td>\n",
              "      <td>1.999999</td>\n",
              "      <td>1.972222</td>\n",
              "      <td>F</td>\n",
              "      <td>4</td>\n",
              "      <td>Hispanic</td>\n",
              "    </tr>\n",
              "    <tr>\n",
              "      <th>1</th>\n",
              "      <td>2017-2018</td>\n",
              "      <td>1</td>\n",
              "      <td>5</td>\n",
              "      <td>4</td>\n",
              "      <td>2008-07-28</td>\n",
              "      <td>9.631957</td>\n",
              "      <td>M</td>\n",
              "      <td>Hispanic</td>\n",
              "      <td>N</td>\n",
              "      <td>N</td>\n",
              "      <td>Y</td>\n",
              "      <td>Friday</td>\n",
              "      <td>2018-03-16</td>\n",
              "      <td>1535</td>\n",
              "      <td>3</td>\n",
              "      <td>180.0</td>\n",
              "      <td>168.0</td>\n",
              "      <td>0.933333</td>\n",
              "      <td>1.0</td>\n",
              "      <td>4.999999</td>\n",
              "      <td>4.933333</td>\n",
              "      <td>F</td>\n",
              "      <td>2</td>\n",
              "      <td>Multiple</td>\n",
              "    </tr>\n",
              "    <tr>\n",
              "      <th>2</th>\n",
              "      <td>2017-2018</td>\n",
              "      <td>3</td>\n",
              "      <td>3</td>\n",
              "      <td>4</td>\n",
              "      <td>2008-05-06</td>\n",
              "      <td>9.905748</td>\n",
              "      <td>M</td>\n",
              "      <td>Hispanic</td>\n",
              "      <td>Y</td>\n",
              "      <td>N</td>\n",
              "      <td>N</td>\n",
              "      <td>Monday</td>\n",
              "      <td>2018-04-02</td>\n",
              "      <td>1480</td>\n",
              "      <td>2</td>\n",
              "      <td>180.0</td>\n",
              "      <td>175.0</td>\n",
              "      <td>0.972222</td>\n",
              "      <td>1.0</td>\n",
              "      <td>4.999999</td>\n",
              "      <td>4.972222</td>\n",
              "      <td>F</td>\n",
              "      <td>18</td>\n",
              "      <td>White</td>\n",
              "    </tr>\n",
              "    <tr>\n",
              "      <th>3</th>\n",
              "      <td>2017-2018</td>\n",
              "      <td>4</td>\n",
              "      <td>3</td>\n",
              "      <td>0</td>\n",
              "      <td>2012-04-13</td>\n",
              "      <td>6.108271</td>\n",
              "      <td>M</td>\n",
              "      <td>Hispanic</td>\n",
              "      <td>N</td>\n",
              "      <td>N</td>\n",
              "      <td>Y</td>\n",
              "      <td>Wednesday</td>\n",
              "      <td>2018-05-23</td>\n",
              "      <td>1461</td>\n",
              "      <td>4</td>\n",
              "      <td>180.0</td>\n",
              "      <td>125.0</td>\n",
              "      <td>0.694444</td>\n",
              "      <td>1.0</td>\n",
              "      <td>0.999999</td>\n",
              "      <td>0.694444</td>\n",
              "      <td>F</td>\n",
              "      <td>1</td>\n",
              "      <td>White</td>\n",
              "    </tr>\n",
              "    <tr>\n",
              "      <th>4</th>\n",
              "      <td>2017-2018</td>\n",
              "      <td>5</td>\n",
              "      <td>7</td>\n",
              "      <td>0</td>\n",
              "      <td>2011-09-25</td>\n",
              "      <td>6.664066</td>\n",
              "      <td>M</td>\n",
              "      <td>Hispanic</td>\n",
              "      <td>N</td>\n",
              "      <td>N</td>\n",
              "      <td>Y</td>\n",
              "      <td>Friday</td>\n",
              "      <td>2018-05-25</td>\n",
              "      <td>1357</td>\n",
              "      <td>1</td>\n",
              "      <td>180.0</td>\n",
              "      <td>165.0</td>\n",
              "      <td>0.916667</td>\n",
              "      <td>1.0</td>\n",
              "      <td>0.999999</td>\n",
              "      <td>0.916667</td>\n",
              "      <td>F</td>\n",
              "      <td>17</td>\n",
              "      <td>Hispanic</td>\n",
              "    </tr>\n",
              "  </tbody>\n",
              "</table>\n",
              "</div>\n",
              "      <button class=\"colab-df-convert\" onclick=\"convertToInteractive('df-8e66271d-3884-4fe3-8e80-ad4598f3643f')\"\n",
              "              title=\"Convert this dataframe to an interactive table.\"\n",
              "              style=\"display:none;\">\n",
              "        \n",
              "  <svg xmlns=\"http://www.w3.org/2000/svg\" height=\"24px\"viewBox=\"0 0 24 24\"\n",
              "       width=\"24px\">\n",
              "    <path d=\"M0 0h24v24H0V0z\" fill=\"none\"/>\n",
              "    <path d=\"M18.56 5.44l.94 2.06.94-2.06 2.06-.94-2.06-.94-.94-2.06-.94 2.06-2.06.94zm-11 1L8.5 8.5l.94-2.06 2.06-.94-2.06-.94L8.5 2.5l-.94 2.06-2.06.94zm10 10l.94 2.06.94-2.06 2.06-.94-2.06-.94-.94-2.06-.94 2.06-2.06.94z\"/><path d=\"M17.41 7.96l-1.37-1.37c-.4-.4-.92-.59-1.43-.59-.52 0-1.04.2-1.43.59L10.3 9.45l-7.72 7.72c-.78.78-.78 2.05 0 2.83L4 21.41c.39.39.9.59 1.41.59.51 0 1.02-.2 1.41-.59l7.78-7.78 2.81-2.81c.8-.78.8-2.07 0-2.86zM5.41 20L4 18.59l7.72-7.72 1.47 1.35L5.41 20z\"/>\n",
              "  </svg>\n",
              "      </button>\n",
              "      \n",
              "  <style>\n",
              "    .colab-df-container {\n",
              "      display:flex;\n",
              "      flex-wrap:wrap;\n",
              "      gap: 12px;\n",
              "    }\n",
              "\n",
              "    .colab-df-convert {\n",
              "      background-color: #E8F0FE;\n",
              "      border: none;\n",
              "      border-radius: 50%;\n",
              "      cursor: pointer;\n",
              "      display: none;\n",
              "      fill: #1967D2;\n",
              "      height: 32px;\n",
              "      padding: 0 0 0 0;\n",
              "      width: 32px;\n",
              "    }\n",
              "\n",
              "    .colab-df-convert:hover {\n",
              "      background-color: #E2EBFA;\n",
              "      box-shadow: 0px 1px 2px rgba(60, 64, 67, 0.3), 0px 1px 3px 1px rgba(60, 64, 67, 0.15);\n",
              "      fill: #174EA6;\n",
              "    }\n",
              "\n",
              "    [theme=dark] .colab-df-convert {\n",
              "      background-color: #3B4455;\n",
              "      fill: #D2E3FC;\n",
              "    }\n",
              "\n",
              "    [theme=dark] .colab-df-convert:hover {\n",
              "      background-color: #434B5C;\n",
              "      box-shadow: 0px 1px 3px 1px rgba(0, 0, 0, 0.15);\n",
              "      filter: drop-shadow(0px 1px 2px rgba(0, 0, 0, 0.3));\n",
              "      fill: #FFFFFF;\n",
              "    }\n",
              "  </style>\n",
              "\n",
              "      <script>\n",
              "        const buttonEl =\n",
              "          document.querySelector('#df-8e66271d-3884-4fe3-8e80-ad4598f3643f button.colab-df-convert');\n",
              "        buttonEl.style.display =\n",
              "          google.colab.kernel.accessAllowed ? 'block' : 'none';\n",
              "\n",
              "        async function convertToInteractive(key) {\n",
              "          const element = document.querySelector('#df-8e66271d-3884-4fe3-8e80-ad4598f3643f');\n",
              "          const dataTable =\n",
              "            await google.colab.kernel.invokeFunction('convertToInteractive',\n",
              "                                                     [key], {});\n",
              "          if (!dataTable) return;\n",
              "\n",
              "          const docLinkHtml = 'Like what you see? Visit the ' +\n",
              "            '<a target=\"_blank\" href=https://colab.research.google.com/notebooks/data_table.ipynb>data table notebook</a>'\n",
              "            + ' to learn more about interactive tables.';\n",
              "          element.innerHTML = '';\n",
              "          dataTable['output_type'] = 'display_data';\n",
              "          await google.colab.output.renderOutput(dataTable, element);\n",
              "          const docLink = document.createElement('div');\n",
              "          docLink.innerHTML = docLinkHtml;\n",
              "          element.appendChild(docLink);\n",
              "        }\n",
              "      </script>\n",
              "    </div>\n",
              "  </div>\n",
              "  "
            ]
          },
          "metadata": {},
          "execution_count": 3
        }
      ],
      "source": [
        "df.head()"
      ]
    },
    {
      "cell_type": "code",
      "execution_count": 4,
      "metadata": {
        "colab": {
          "base_uri": "https://localhost:8080/"
        },
        "id": "mUkPAkzciEtU",
        "outputId": "bea0dd0b-fbb6-4103-987b-14c0f5bf5a0f"
      },
      "outputs": [
        {
          "output_type": "stream",
          "name": "stdout",
          "text": [
            "<class 'pandas.core.frame.DataFrame'>\n",
            "RangeIndex: 11628 entries, 0 to 11627\n",
            "Data columns (total 24 columns):\n",
            " #   Column                      Non-Null Count  Dtype  \n",
            "---  ------                      --------------  -----  \n",
            " 0   AcademicYear                11628 non-null  object \n",
            " 1   Stu_deID                    11628 non-null  int64  \n",
            " 2   School_deID                 11628 non-null  int64  \n",
            " 3   GradeLevel                  11628 non-null  int64  \n",
            " 4   DOB                         11628 non-null  object \n",
            " 5   TestAge                     9469 non-null   float64\n",
            " 6   StudentGender               11628 non-null  object \n",
            " 7   StudentEthnicity            11628 non-null  object \n",
            " 8   Special_Education           11628 non-null  object \n",
            " 9   Homeless                    11628 non-null  object \n",
            " 10  SocioEconomically           11628 non-null  object \n",
            " 11  TestDayName                 9469 non-null   object \n",
            " 12  TestDate                    9469 non-null   object \n",
            " 13  OverallScore                11628 non-null  int64  \n",
            " 14  OverallLevel                11628 non-null  int64  \n",
            " 15  ExpectedAttendanceDays      11628 non-null  float64\n",
            " 16  DaysAttended                11628 non-null  float64\n",
            " 17  AttendedPct                 11625 non-null  float64\n",
            " 18  EnrolledPct                 11628 non-null  float64\n",
            " 19  GradeEnrolledPct            11628 non-null  float64\n",
            " 20  GradeAttendedPct            11625 non-null  float64\n",
            " 21  TeacherGender               11628 non-null  object \n",
            " 22  TeacherTotalYearsOfService  11628 non-null  int64  \n",
            " 23  TeacherEthnicity            11628 non-null  object \n",
            "dtypes: float64(7), int64(6), object(11)\n",
            "memory usage: 2.1+ MB\n"
          ]
        }
      ],
      "source": [
        "df.info()"
      ]
    },
    {
      "cell_type": "code",
      "execution_count": 5,
      "metadata": {
        "id": "dQkkVzDSiGan"
      },
      "outputs": [],
      "source": [
        "# Convert date fields to datetime\n",
        "df['DOB'] =  pd.to_datetime(df.DOB)\n",
        "df['TestDate'] =  pd.to_datetime(df.TestDate)"
      ]
    },
    {
      "cell_type": "code",
      "execution_count": 6,
      "metadata": {
        "colab": {
          "base_uri": "https://localhost:8080/",
          "height": 260
        },
        "id": "EZdSXn5riOpO",
        "outputId": "9cc9f1d7-8fa1-4e17-8897-1e0d14660999"
      },
      "outputs": [
        {
          "output_type": "execute_result",
          "data": {
            "text/plain": [
              "  AcademicYear  Stu_deID  School_deID  GradeLevel        DOB   TestAge StudentGender StudentEthnicity Special_Education Homeless SocioEconomically TestDayName   TestDate  OverallScore  OverallLevel  ExpectedAttendanceDays  DaysAttended  AttendedPct  EnrolledPct  GradeEnrolledPct  GradeAttendedPct TeacherGender  TeacherTotalYearsOfService TeacherEthnicity\n",
              "0    2017-2018         0            3           1 2011-07-04  6.828340             F         Hispanic                 N        Y                 Y   Wednesday 2018-05-02          1503             4                   180.0         175.0     0.972222          1.0          1.999999          1.972222             F                           4         Hispanic\n",
              "1    2017-2018         1            5           4 2008-07-28  9.631957             M         Hispanic                 N        N                 Y      Friday 2018-03-16          1535             3                   180.0         168.0     0.933333          1.0          4.999999          4.933333             F                           2         Multiple\n",
              "2    2017-2018         3            3           4 2008-05-06  9.905748             M         Hispanic                 Y        N                 N      Monday 2018-04-02          1480             2                   180.0         175.0     0.972222          1.0          4.999999          4.972222             F                          18            White"
            ],
            "text/html": [
              "\n",
              "  <div id=\"df-e2f8aace-9fd4-482e-a3d8-572579d2237d\">\n",
              "    <div class=\"colab-df-container\">\n",
              "      <div>\n",
              "<style scoped>\n",
              "    .dataframe tbody tr th:only-of-type {\n",
              "        vertical-align: middle;\n",
              "    }\n",
              "\n",
              "    .dataframe tbody tr th {\n",
              "        vertical-align: top;\n",
              "    }\n",
              "\n",
              "    .dataframe thead th {\n",
              "        text-align: right;\n",
              "    }\n",
              "</style>\n",
              "<table border=\"1\" class=\"dataframe\">\n",
              "  <thead>\n",
              "    <tr style=\"text-align: right;\">\n",
              "      <th></th>\n",
              "      <th>AcademicYear</th>\n",
              "      <th>Stu_deID</th>\n",
              "      <th>School_deID</th>\n",
              "      <th>GradeLevel</th>\n",
              "      <th>DOB</th>\n",
              "      <th>TestAge</th>\n",
              "      <th>StudentGender</th>\n",
              "      <th>StudentEthnicity</th>\n",
              "      <th>Special_Education</th>\n",
              "      <th>Homeless</th>\n",
              "      <th>SocioEconomically</th>\n",
              "      <th>TestDayName</th>\n",
              "      <th>TestDate</th>\n",
              "      <th>OverallScore</th>\n",
              "      <th>OverallLevel</th>\n",
              "      <th>ExpectedAttendanceDays</th>\n",
              "      <th>DaysAttended</th>\n",
              "      <th>AttendedPct</th>\n",
              "      <th>EnrolledPct</th>\n",
              "      <th>GradeEnrolledPct</th>\n",
              "      <th>GradeAttendedPct</th>\n",
              "      <th>TeacherGender</th>\n",
              "      <th>TeacherTotalYearsOfService</th>\n",
              "      <th>TeacherEthnicity</th>\n",
              "    </tr>\n",
              "  </thead>\n",
              "  <tbody>\n",
              "    <tr>\n",
              "      <th>0</th>\n",
              "      <td>2017-2018</td>\n",
              "      <td>0</td>\n",
              "      <td>3</td>\n",
              "      <td>1</td>\n",
              "      <td>2011-07-04</td>\n",
              "      <td>6.828340</td>\n",
              "      <td>F</td>\n",
              "      <td>Hispanic</td>\n",
              "      <td>N</td>\n",
              "      <td>Y</td>\n",
              "      <td>Y</td>\n",
              "      <td>Wednesday</td>\n",
              "      <td>2018-05-02</td>\n",
              "      <td>1503</td>\n",
              "      <td>4</td>\n",
              "      <td>180.0</td>\n",
              "      <td>175.0</td>\n",
              "      <td>0.972222</td>\n",
              "      <td>1.0</td>\n",
              "      <td>1.999999</td>\n",
              "      <td>1.972222</td>\n",
              "      <td>F</td>\n",
              "      <td>4</td>\n",
              "      <td>Hispanic</td>\n",
              "    </tr>\n",
              "    <tr>\n",
              "      <th>1</th>\n",
              "      <td>2017-2018</td>\n",
              "      <td>1</td>\n",
              "      <td>5</td>\n",
              "      <td>4</td>\n",
              "      <td>2008-07-28</td>\n",
              "      <td>9.631957</td>\n",
              "      <td>M</td>\n",
              "      <td>Hispanic</td>\n",
              "      <td>N</td>\n",
              "      <td>N</td>\n",
              "      <td>Y</td>\n",
              "      <td>Friday</td>\n",
              "      <td>2018-03-16</td>\n",
              "      <td>1535</td>\n",
              "      <td>3</td>\n",
              "      <td>180.0</td>\n",
              "      <td>168.0</td>\n",
              "      <td>0.933333</td>\n",
              "      <td>1.0</td>\n",
              "      <td>4.999999</td>\n",
              "      <td>4.933333</td>\n",
              "      <td>F</td>\n",
              "      <td>2</td>\n",
              "      <td>Multiple</td>\n",
              "    </tr>\n",
              "    <tr>\n",
              "      <th>2</th>\n",
              "      <td>2017-2018</td>\n",
              "      <td>3</td>\n",
              "      <td>3</td>\n",
              "      <td>4</td>\n",
              "      <td>2008-05-06</td>\n",
              "      <td>9.905748</td>\n",
              "      <td>M</td>\n",
              "      <td>Hispanic</td>\n",
              "      <td>Y</td>\n",
              "      <td>N</td>\n",
              "      <td>N</td>\n",
              "      <td>Monday</td>\n",
              "      <td>2018-04-02</td>\n",
              "      <td>1480</td>\n",
              "      <td>2</td>\n",
              "      <td>180.0</td>\n",
              "      <td>175.0</td>\n",
              "      <td>0.972222</td>\n",
              "      <td>1.0</td>\n",
              "      <td>4.999999</td>\n",
              "      <td>4.972222</td>\n",
              "      <td>F</td>\n",
              "      <td>18</td>\n",
              "      <td>White</td>\n",
              "    </tr>\n",
              "  </tbody>\n",
              "</table>\n",
              "</div>\n",
              "      <button class=\"colab-df-convert\" onclick=\"convertToInteractive('df-e2f8aace-9fd4-482e-a3d8-572579d2237d')\"\n",
              "              title=\"Convert this dataframe to an interactive table.\"\n",
              "              style=\"display:none;\">\n",
              "        \n",
              "  <svg xmlns=\"http://www.w3.org/2000/svg\" height=\"24px\"viewBox=\"0 0 24 24\"\n",
              "       width=\"24px\">\n",
              "    <path d=\"M0 0h24v24H0V0z\" fill=\"none\"/>\n",
              "    <path d=\"M18.56 5.44l.94 2.06.94-2.06 2.06-.94-2.06-.94-.94-2.06-.94 2.06-2.06.94zm-11 1L8.5 8.5l.94-2.06 2.06-.94-2.06-.94L8.5 2.5l-.94 2.06-2.06.94zm10 10l.94 2.06.94-2.06 2.06-.94-2.06-.94-.94-2.06-.94 2.06-2.06.94z\"/><path d=\"M17.41 7.96l-1.37-1.37c-.4-.4-.92-.59-1.43-.59-.52 0-1.04.2-1.43.59L10.3 9.45l-7.72 7.72c-.78.78-.78 2.05 0 2.83L4 21.41c.39.39.9.59 1.41.59.51 0 1.02-.2 1.41-.59l7.78-7.78 2.81-2.81c.8-.78.8-2.07 0-2.86zM5.41 20L4 18.59l7.72-7.72 1.47 1.35L5.41 20z\"/>\n",
              "  </svg>\n",
              "      </button>\n",
              "      \n",
              "  <style>\n",
              "    .colab-df-container {\n",
              "      display:flex;\n",
              "      flex-wrap:wrap;\n",
              "      gap: 12px;\n",
              "    }\n",
              "\n",
              "    .colab-df-convert {\n",
              "      background-color: #E8F0FE;\n",
              "      border: none;\n",
              "      border-radius: 50%;\n",
              "      cursor: pointer;\n",
              "      display: none;\n",
              "      fill: #1967D2;\n",
              "      height: 32px;\n",
              "      padding: 0 0 0 0;\n",
              "      width: 32px;\n",
              "    }\n",
              "\n",
              "    .colab-df-convert:hover {\n",
              "      background-color: #E2EBFA;\n",
              "      box-shadow: 0px 1px 2px rgba(60, 64, 67, 0.3), 0px 1px 3px 1px rgba(60, 64, 67, 0.15);\n",
              "      fill: #174EA6;\n",
              "    }\n",
              "\n",
              "    [theme=dark] .colab-df-convert {\n",
              "      background-color: #3B4455;\n",
              "      fill: #D2E3FC;\n",
              "    }\n",
              "\n",
              "    [theme=dark] .colab-df-convert:hover {\n",
              "      background-color: #434B5C;\n",
              "      box-shadow: 0px 1px 3px 1px rgba(0, 0, 0, 0.15);\n",
              "      filter: drop-shadow(0px 1px 2px rgba(0, 0, 0, 0.3));\n",
              "      fill: #FFFFFF;\n",
              "    }\n",
              "  </style>\n",
              "\n",
              "      <script>\n",
              "        const buttonEl =\n",
              "          document.querySelector('#df-e2f8aace-9fd4-482e-a3d8-572579d2237d button.colab-df-convert');\n",
              "        buttonEl.style.display =\n",
              "          google.colab.kernel.accessAllowed ? 'block' : 'none';\n",
              "\n",
              "        async function convertToInteractive(key) {\n",
              "          const element = document.querySelector('#df-e2f8aace-9fd4-482e-a3d8-572579d2237d');\n",
              "          const dataTable =\n",
              "            await google.colab.kernel.invokeFunction('convertToInteractive',\n",
              "                                                     [key], {});\n",
              "          if (!dataTable) return;\n",
              "\n",
              "          const docLinkHtml = 'Like what you see? Visit the ' +\n",
              "            '<a target=\"_blank\" href=https://colab.research.google.com/notebooks/data_table.ipynb>data table notebook</a>'\n",
              "            + ' to learn more about interactive tables.';\n",
              "          element.innerHTML = '';\n",
              "          dataTable['output_type'] = 'display_data';\n",
              "          await google.colab.output.renderOutput(dataTable, element);\n",
              "          const docLink = document.createElement('div');\n",
              "          docLink.innerHTML = docLinkHtml;\n",
              "          element.appendChild(docLink);\n",
              "        }\n",
              "      </script>\n",
              "    </div>\n",
              "  </div>\n",
              "  "
            ]
          },
          "metadata": {},
          "execution_count": 6
        }
      ],
      "source": [
        "df.head(3)"
      ]
    },
    {
      "cell_type": "markdown",
      "metadata": {
        "id": "pLCDExvJjdKM"
      },
      "source": [
        "###**MISSING VALUES, DUPLICATES, AND SCORES WITH ZERO VALUES**"
      ]
    },
    {
      "cell_type": "markdown",
      "metadata": {
        "id": "5oSZbsOLjvPB"
      },
      "source": [
        "###**MISSING VALUES**"
      ]
    },
    {
      "cell_type": "code",
      "execution_count": 7,
      "metadata": {
        "colab": {
          "base_uri": "https://localhost:8080/"
        },
        "id": "0ys8eL-NibIg",
        "outputId": "227f6ae3-90ff-4501-d1ff-e562babd79e1"
      },
      "outputs": [
        {
          "output_type": "execute_result",
          "data": {
            "text/plain": [
              "2020-2021     858\n",
              "2019-2020    1255\n",
              "2018-2019      46\n",
              "Name: AcademicYear, dtype: int64"
            ]
          },
          "metadata": {},
          "execution_count": 7
        }
      ],
      "source": [
        "# Missing data value counts by AcademicYear\n",
        "# Most missing data is from when the pandemic quarantine went into effect, March, 2020\n",
        "# The 2020-2021 school year also has many students who did not test due to distance learning, making it difficult to test all students\n",
        "df[(df.TestDate.isna() == True)]['AcademicYear'].value_counts().sort_index(ascending=False)"
      ]
    },
    {
      "cell_type": "code",
      "execution_count": 8,
      "metadata": {
        "colab": {
          "base_uri": "https://localhost:8080/",
          "height": 241
        },
        "id": "1PGThr2ai5wE",
        "outputId": "36808943-4177-40de-d1e6-1a0971905176"
      },
      "outputs": [
        {
          "output_type": "stream",
          "name": "stdout",
          "text": [
            "Shape:  (11628, 24) \n",
            "\n"
          ]
        },
        {
          "output_type": "execute_result",
          "data": {
            "text/plain": [
              "                  Missing\n",
              "TestAge              2159\n",
              "TestDayName          2159\n",
              "TestDate             2159\n",
              "AttendedPct             3\n",
              "GradeAttendedPct        3"
            ],
            "text/html": [
              "\n",
              "  <div id=\"df-8f9c5cf3-5e15-4f0d-aacc-8b4c48202de6\">\n",
              "    <div class=\"colab-df-container\">\n",
              "      <div>\n",
              "<style scoped>\n",
              "    .dataframe tbody tr th:only-of-type {\n",
              "        vertical-align: middle;\n",
              "    }\n",
              "\n",
              "    .dataframe tbody tr th {\n",
              "        vertical-align: top;\n",
              "    }\n",
              "\n",
              "    .dataframe thead th {\n",
              "        text-align: right;\n",
              "    }\n",
              "</style>\n",
              "<table border=\"1\" class=\"dataframe\">\n",
              "  <thead>\n",
              "    <tr style=\"text-align: right;\">\n",
              "      <th></th>\n",
              "      <th>Missing</th>\n",
              "    </tr>\n",
              "  </thead>\n",
              "  <tbody>\n",
              "    <tr>\n",
              "      <th>TestAge</th>\n",
              "      <td>2159</td>\n",
              "    </tr>\n",
              "    <tr>\n",
              "      <th>TestDayName</th>\n",
              "      <td>2159</td>\n",
              "    </tr>\n",
              "    <tr>\n",
              "      <th>TestDate</th>\n",
              "      <td>2159</td>\n",
              "    </tr>\n",
              "    <tr>\n",
              "      <th>AttendedPct</th>\n",
              "      <td>3</td>\n",
              "    </tr>\n",
              "    <tr>\n",
              "      <th>GradeAttendedPct</th>\n",
              "      <td>3</td>\n",
              "    </tr>\n",
              "  </tbody>\n",
              "</table>\n",
              "</div>\n",
              "      <button class=\"colab-df-convert\" onclick=\"convertToInteractive('df-8f9c5cf3-5e15-4f0d-aacc-8b4c48202de6')\"\n",
              "              title=\"Convert this dataframe to an interactive table.\"\n",
              "              style=\"display:none;\">\n",
              "        \n",
              "  <svg xmlns=\"http://www.w3.org/2000/svg\" height=\"24px\"viewBox=\"0 0 24 24\"\n",
              "       width=\"24px\">\n",
              "    <path d=\"M0 0h24v24H0V0z\" fill=\"none\"/>\n",
              "    <path d=\"M18.56 5.44l.94 2.06.94-2.06 2.06-.94-2.06-.94-.94-2.06-.94 2.06-2.06.94zm-11 1L8.5 8.5l.94-2.06 2.06-.94-2.06-.94L8.5 2.5l-.94 2.06-2.06.94zm10 10l.94 2.06.94-2.06 2.06-.94-2.06-.94-.94-2.06-.94 2.06-2.06.94z\"/><path d=\"M17.41 7.96l-1.37-1.37c-.4-.4-.92-.59-1.43-.59-.52 0-1.04.2-1.43.59L10.3 9.45l-7.72 7.72c-.78.78-.78 2.05 0 2.83L4 21.41c.39.39.9.59 1.41.59.51 0 1.02-.2 1.41-.59l7.78-7.78 2.81-2.81c.8-.78.8-2.07 0-2.86zM5.41 20L4 18.59l7.72-7.72 1.47 1.35L5.41 20z\"/>\n",
              "  </svg>\n",
              "      </button>\n",
              "      \n",
              "  <style>\n",
              "    .colab-df-container {\n",
              "      display:flex;\n",
              "      flex-wrap:wrap;\n",
              "      gap: 12px;\n",
              "    }\n",
              "\n",
              "    .colab-df-convert {\n",
              "      background-color: #E8F0FE;\n",
              "      border: none;\n",
              "      border-radius: 50%;\n",
              "      cursor: pointer;\n",
              "      display: none;\n",
              "      fill: #1967D2;\n",
              "      height: 32px;\n",
              "      padding: 0 0 0 0;\n",
              "      width: 32px;\n",
              "    }\n",
              "\n",
              "    .colab-df-convert:hover {\n",
              "      background-color: #E2EBFA;\n",
              "      box-shadow: 0px 1px 2px rgba(60, 64, 67, 0.3), 0px 1px 3px 1px rgba(60, 64, 67, 0.15);\n",
              "      fill: #174EA6;\n",
              "    }\n",
              "\n",
              "    [theme=dark] .colab-df-convert {\n",
              "      background-color: #3B4455;\n",
              "      fill: #D2E3FC;\n",
              "    }\n",
              "\n",
              "    [theme=dark] .colab-df-convert:hover {\n",
              "      background-color: #434B5C;\n",
              "      box-shadow: 0px 1px 3px 1px rgba(0, 0, 0, 0.15);\n",
              "      filter: drop-shadow(0px 1px 2px rgba(0, 0, 0, 0.3));\n",
              "      fill: #FFFFFF;\n",
              "    }\n",
              "  </style>\n",
              "\n",
              "      <script>\n",
              "        const buttonEl =\n",
              "          document.querySelector('#df-8f9c5cf3-5e15-4f0d-aacc-8b4c48202de6 button.colab-df-convert');\n",
              "        buttonEl.style.display =\n",
              "          google.colab.kernel.accessAllowed ? 'block' : 'none';\n",
              "\n",
              "        async function convertToInteractive(key) {\n",
              "          const element = document.querySelector('#df-8f9c5cf3-5e15-4f0d-aacc-8b4c48202de6');\n",
              "          const dataTable =\n",
              "            await google.colab.kernel.invokeFunction('convertToInteractive',\n",
              "                                                     [key], {});\n",
              "          if (!dataTable) return;\n",
              "\n",
              "          const docLinkHtml = 'Like what you see? Visit the ' +\n",
              "            '<a target=\"_blank\" href=https://colab.research.google.com/notebooks/data_table.ipynb>data table notebook</a>'\n",
              "            + ' to learn more about interactive tables.';\n",
              "          element.innerHTML = '';\n",
              "          dataTable['output_type'] = 'display_data';\n",
              "          await google.colab.output.renderOutput(dataTable, element);\n",
              "          const docLink = document.createElement('div');\n",
              "          docLink.innerHTML = docLinkHtml;\n",
              "          element.appendChild(docLink);\n",
              "        }\n",
              "      </script>\n",
              "    </div>\n",
              "  </div>\n",
              "  "
            ]
          },
          "metadata": {},
          "execution_count": 8
        }
      ],
      "source": [
        "# Initial view of shape and missing data\n",
        "print(\"Shape: \",df.shape,\"\\n\")\n",
        "\n",
        "# Columns missing data\n",
        "df.isnull().sum().to_frame(name='Missing').query('Missing > 0')"
      ]
    },
    {
      "cell_type": "code",
      "execution_count": 9,
      "metadata": {
        "colab": {
          "base_uri": "https://localhost:8080/",
          "height": 147
        },
        "id": "ERKYnQRVi_oS",
        "outputId": "7627dfe3-b497-48a3-b1a4-e84ecdb7764b"
      },
      "outputs": [
        {
          "output_type": "stream",
          "name": "stdout",
          "text": [
            "Shape:  (9469, 24) \n",
            "\n"
          ]
        },
        {
          "output_type": "execute_result",
          "data": {
            "text/plain": [
              "                  Missing\n",
              "AttendedPct             2\n",
              "GradeAttendedPct        2"
            ],
            "text/html": [
              "\n",
              "  <div id=\"df-1ce88c21-434d-450a-9d0f-e99b03e00f4b\">\n",
              "    <div class=\"colab-df-container\">\n",
              "      <div>\n",
              "<style scoped>\n",
              "    .dataframe tbody tr th:only-of-type {\n",
              "        vertical-align: middle;\n",
              "    }\n",
              "\n",
              "    .dataframe tbody tr th {\n",
              "        vertical-align: top;\n",
              "    }\n",
              "\n",
              "    .dataframe thead th {\n",
              "        text-align: right;\n",
              "    }\n",
              "</style>\n",
              "<table border=\"1\" class=\"dataframe\">\n",
              "  <thead>\n",
              "    <tr style=\"text-align: right;\">\n",
              "      <th></th>\n",
              "      <th>Missing</th>\n",
              "    </tr>\n",
              "  </thead>\n",
              "  <tbody>\n",
              "    <tr>\n",
              "      <th>AttendedPct</th>\n",
              "      <td>2</td>\n",
              "    </tr>\n",
              "    <tr>\n",
              "      <th>GradeAttendedPct</th>\n",
              "      <td>2</td>\n",
              "    </tr>\n",
              "  </tbody>\n",
              "</table>\n",
              "</div>\n",
              "      <button class=\"colab-df-convert\" onclick=\"convertToInteractive('df-1ce88c21-434d-450a-9d0f-e99b03e00f4b')\"\n",
              "              title=\"Convert this dataframe to an interactive table.\"\n",
              "              style=\"display:none;\">\n",
              "        \n",
              "  <svg xmlns=\"http://www.w3.org/2000/svg\" height=\"24px\"viewBox=\"0 0 24 24\"\n",
              "       width=\"24px\">\n",
              "    <path d=\"M0 0h24v24H0V0z\" fill=\"none\"/>\n",
              "    <path d=\"M18.56 5.44l.94 2.06.94-2.06 2.06-.94-2.06-.94-.94-2.06-.94 2.06-2.06.94zm-11 1L8.5 8.5l.94-2.06 2.06-.94-2.06-.94L8.5 2.5l-.94 2.06-2.06.94zm10 10l.94 2.06.94-2.06 2.06-.94-2.06-.94-.94-2.06-.94 2.06-2.06.94z\"/><path d=\"M17.41 7.96l-1.37-1.37c-.4-.4-.92-.59-1.43-.59-.52 0-1.04.2-1.43.59L10.3 9.45l-7.72 7.72c-.78.78-.78 2.05 0 2.83L4 21.41c.39.39.9.59 1.41.59.51 0 1.02-.2 1.41-.59l7.78-7.78 2.81-2.81c.8-.78.8-2.07 0-2.86zM5.41 20L4 18.59l7.72-7.72 1.47 1.35L5.41 20z\"/>\n",
              "  </svg>\n",
              "      </button>\n",
              "      \n",
              "  <style>\n",
              "    .colab-df-container {\n",
              "      display:flex;\n",
              "      flex-wrap:wrap;\n",
              "      gap: 12px;\n",
              "    }\n",
              "\n",
              "    .colab-df-convert {\n",
              "      background-color: #E8F0FE;\n",
              "      border: none;\n",
              "      border-radius: 50%;\n",
              "      cursor: pointer;\n",
              "      display: none;\n",
              "      fill: #1967D2;\n",
              "      height: 32px;\n",
              "      padding: 0 0 0 0;\n",
              "      width: 32px;\n",
              "    }\n",
              "\n",
              "    .colab-df-convert:hover {\n",
              "      background-color: #E2EBFA;\n",
              "      box-shadow: 0px 1px 2px rgba(60, 64, 67, 0.3), 0px 1px 3px 1px rgba(60, 64, 67, 0.15);\n",
              "      fill: #174EA6;\n",
              "    }\n",
              "\n",
              "    [theme=dark] .colab-df-convert {\n",
              "      background-color: #3B4455;\n",
              "      fill: #D2E3FC;\n",
              "    }\n",
              "\n",
              "    [theme=dark] .colab-df-convert:hover {\n",
              "      background-color: #434B5C;\n",
              "      box-shadow: 0px 1px 3px 1px rgba(0, 0, 0, 0.15);\n",
              "      filter: drop-shadow(0px 1px 2px rgba(0, 0, 0, 0.3));\n",
              "      fill: #FFFFFF;\n",
              "    }\n",
              "  </style>\n",
              "\n",
              "      <script>\n",
              "        const buttonEl =\n",
              "          document.querySelector('#df-1ce88c21-434d-450a-9d0f-e99b03e00f4b button.colab-df-convert');\n",
              "        buttonEl.style.display =\n",
              "          google.colab.kernel.accessAllowed ? 'block' : 'none';\n",
              "\n",
              "        async function convertToInteractive(key) {\n",
              "          const element = document.querySelector('#df-1ce88c21-434d-450a-9d0f-e99b03e00f4b');\n",
              "          const dataTable =\n",
              "            await google.colab.kernel.invokeFunction('convertToInteractive',\n",
              "                                                     [key], {});\n",
              "          if (!dataTable) return;\n",
              "\n",
              "          const docLinkHtml = 'Like what you see? Visit the ' +\n",
              "            '<a target=\"_blank\" href=https://colab.research.google.com/notebooks/data_table.ipynb>data table notebook</a>'\n",
              "            + ' to learn more about interactive tables.';\n",
              "          element.innerHTML = '';\n",
              "          dataTable['output_type'] = 'display_data';\n",
              "          await google.colab.output.renderOutput(dataTable, element);\n",
              "          const docLink = document.createElement('div');\n",
              "          docLink.innerHTML = docLinkHtml;\n",
              "          element.appendChild(docLink);\n",
              "        }\n",
              "      </script>\n",
              "    </div>\n",
              "  </div>\n",
              "  "
            ]
          },
          "metadata": {},
          "execution_count": 9
        }
      ],
      "source": [
        "# Re-load data omitting missing data\n",
        "df = df[(df.TestDate.isna() == False)]\n",
        "\n",
        "print(\"Shape: \",df.shape,\"\\n\")\n",
        "\n",
        "# Columns missing data\n",
        "df.isnull().sum().to_frame(name='Missing').query('Missing > 0')"
      ]
    },
    {
      "cell_type": "code",
      "execution_count": 10,
      "metadata": {
        "colab": {
          "base_uri": "https://localhost:8080/",
          "height": 84
        },
        "id": "DzxcmDh5jC_i",
        "outputId": "651b47d8-8de1-41e6-a448-97b233862c02"
      },
      "outputs": [
        {
          "output_type": "stream",
          "name": "stdout",
          "text": [
            "Shape:  (9467, 24) \n",
            "\n"
          ]
        },
        {
          "output_type": "execute_result",
          "data": {
            "text/plain": [
              "Empty DataFrame\n",
              "Columns: [Missing]\n",
              "Index: []"
            ],
            "text/html": [
              "\n",
              "  <div id=\"df-d73f09a8-0cf8-4ff9-a4ae-1e750e0182ac\">\n",
              "    <div class=\"colab-df-container\">\n",
              "      <div>\n",
              "<style scoped>\n",
              "    .dataframe tbody tr th:only-of-type {\n",
              "        vertical-align: middle;\n",
              "    }\n",
              "\n",
              "    .dataframe tbody tr th {\n",
              "        vertical-align: top;\n",
              "    }\n",
              "\n",
              "    .dataframe thead th {\n",
              "        text-align: right;\n",
              "    }\n",
              "</style>\n",
              "<table border=\"1\" class=\"dataframe\">\n",
              "  <thead>\n",
              "    <tr style=\"text-align: right;\">\n",
              "      <th></th>\n",
              "      <th>Missing</th>\n",
              "    </tr>\n",
              "  </thead>\n",
              "  <tbody>\n",
              "  </tbody>\n",
              "</table>\n",
              "</div>\n",
              "      <button class=\"colab-df-convert\" onclick=\"convertToInteractive('df-d73f09a8-0cf8-4ff9-a4ae-1e750e0182ac')\"\n",
              "              title=\"Convert this dataframe to an interactive table.\"\n",
              "              style=\"display:none;\">\n",
              "        \n",
              "  <svg xmlns=\"http://www.w3.org/2000/svg\" height=\"24px\"viewBox=\"0 0 24 24\"\n",
              "       width=\"24px\">\n",
              "    <path d=\"M0 0h24v24H0V0z\" fill=\"none\"/>\n",
              "    <path d=\"M18.56 5.44l.94 2.06.94-2.06 2.06-.94-2.06-.94-.94-2.06-.94 2.06-2.06.94zm-11 1L8.5 8.5l.94-2.06 2.06-.94-2.06-.94L8.5 2.5l-.94 2.06-2.06.94zm10 10l.94 2.06.94-2.06 2.06-.94-2.06-.94-.94-2.06-.94 2.06-2.06.94z\"/><path d=\"M17.41 7.96l-1.37-1.37c-.4-.4-.92-.59-1.43-.59-.52 0-1.04.2-1.43.59L10.3 9.45l-7.72 7.72c-.78.78-.78 2.05 0 2.83L4 21.41c.39.39.9.59 1.41.59.51 0 1.02-.2 1.41-.59l7.78-7.78 2.81-2.81c.8-.78.8-2.07 0-2.86zM5.41 20L4 18.59l7.72-7.72 1.47 1.35L5.41 20z\"/>\n",
              "  </svg>\n",
              "      </button>\n",
              "      \n",
              "  <style>\n",
              "    .colab-df-container {\n",
              "      display:flex;\n",
              "      flex-wrap:wrap;\n",
              "      gap: 12px;\n",
              "    }\n",
              "\n",
              "    .colab-df-convert {\n",
              "      background-color: #E8F0FE;\n",
              "      border: none;\n",
              "      border-radius: 50%;\n",
              "      cursor: pointer;\n",
              "      display: none;\n",
              "      fill: #1967D2;\n",
              "      height: 32px;\n",
              "      padding: 0 0 0 0;\n",
              "      width: 32px;\n",
              "    }\n",
              "\n",
              "    .colab-df-convert:hover {\n",
              "      background-color: #E2EBFA;\n",
              "      box-shadow: 0px 1px 2px rgba(60, 64, 67, 0.3), 0px 1px 3px 1px rgba(60, 64, 67, 0.15);\n",
              "      fill: #174EA6;\n",
              "    }\n",
              "\n",
              "    [theme=dark] .colab-df-convert {\n",
              "      background-color: #3B4455;\n",
              "      fill: #D2E3FC;\n",
              "    }\n",
              "\n",
              "    [theme=dark] .colab-df-convert:hover {\n",
              "      background-color: #434B5C;\n",
              "      box-shadow: 0px 1px 3px 1px rgba(0, 0, 0, 0.15);\n",
              "      filter: drop-shadow(0px 1px 2px rgba(0, 0, 0, 0.3));\n",
              "      fill: #FFFFFF;\n",
              "    }\n",
              "  </style>\n",
              "\n",
              "      <script>\n",
              "        const buttonEl =\n",
              "          document.querySelector('#df-d73f09a8-0cf8-4ff9-a4ae-1e750e0182ac button.colab-df-convert');\n",
              "        buttonEl.style.display =\n",
              "          google.colab.kernel.accessAllowed ? 'block' : 'none';\n",
              "\n",
              "        async function convertToInteractive(key) {\n",
              "          const element = document.querySelector('#df-d73f09a8-0cf8-4ff9-a4ae-1e750e0182ac');\n",
              "          const dataTable =\n",
              "            await google.colab.kernel.invokeFunction('convertToInteractive',\n",
              "                                                     [key], {});\n",
              "          if (!dataTable) return;\n",
              "\n",
              "          const docLinkHtml = 'Like what you see? Visit the ' +\n",
              "            '<a target=\"_blank\" href=https://colab.research.google.com/notebooks/data_table.ipynb>data table notebook</a>'\n",
              "            + ' to learn more about interactive tables.';\n",
              "          element.innerHTML = '';\n",
              "          dataTable['output_type'] = 'display_data';\n",
              "          await google.colab.output.renderOutput(dataTable, element);\n",
              "          const docLink = document.createElement('div');\n",
              "          docLink.innerHTML = docLinkHtml;\n",
              "          element.appendChild(docLink);\n",
              "        }\n",
              "      </script>\n",
              "    </div>\n",
              "  </div>\n",
              "  "
            ]
          },
          "metadata": {},
          "execution_count": 10
        }
      ],
      "source": [
        "# Repeat...to verify no more data is missing\n",
        "df = df[(df.AttendedPct.isna() == False)]\n",
        "\n",
        "print(\"Shape: \",df.shape,\"\\n\")\n",
        "\n",
        "# Columns missing data\n",
        "df.isnull().sum().to_frame(name='Missing').query('Missing > 0')"
      ]
    },
    {
      "cell_type": "markdown",
      "metadata": {
        "id": "92nbIecKjsds"
      },
      "source": [
        "####**SCORES WITH 0 VALUES**"
      ]
    },
    {
      "cell_type": "code",
      "execution_count": 11,
      "metadata": {
        "id": "ASC5EIbyjHem",
        "colab": {
          "base_uri": "https://localhost:8080/"
        },
        "outputId": "64fd0040-c47c-407b-aac0-238abe6f4a76"
      },
      "outputs": [
        {
          "output_type": "execute_result",
          "data": {
            "text/plain": [
              "(9460, 24)"
            ]
          },
          "metadata": {},
          "execution_count": 11
        }
      ],
      "source": [
        "# omit records where scores are zero\n",
        "df = df.query(\"OverallScore != 0\")\n",
        "df.shape"
      ]
    },
    {
      "cell_type": "markdown",
      "metadata": {
        "id": "mkENNXtFjqQ_"
      },
      "source": [
        "####**DUPLICATES**"
      ]
    },
    {
      "cell_type": "code",
      "execution_count": 12,
      "metadata": {
        "colab": {
          "base_uri": "https://localhost:8080/"
        },
        "id": "0ROVpWrhjik8",
        "outputId": "b6873e8b-134f-48d0-92ea-488a38fdebf3"
      },
      "outputs": [
        {
          "output_type": "stream",
          "name": "stdout",
          "text": [
            "number of duplicate rows:  (0, 24)\n"
          ]
        }
      ],
      "source": [
        "#check for duplicated rows in the dataset\n",
        "duplicated_rows = df[df.duplicated()] \n",
        "print(\"number of duplicate rows: \", duplicated_rows.shape)"
      ]
    },
    {
      "cell_type": "markdown",
      "metadata": {
        "id": "KykcfVSaoejo"
      },
      "source": [
        "###**STANDARDIZATION OF OVERALLSCORE VALUES**\n",
        "\n",
        "####**Since the OverallScore values range differently between grade levels, standardization was performed to obtain the normal distribution.**"
      ]
    },
    {
      "cell_type": "code",
      "execution_count": 13,
      "metadata": {
        "colab": {
          "base_uri": "https://localhost:8080/",
          "height": 332
        },
        "id": "rCaJDV6cnvem",
        "outputId": "ab3ea96e-49f0-4dea-bed2-64cc56448afd"
      },
      "outputs": [
        {
          "output_type": "execute_result",
          "data": {
            "text/plain": [
              "           OverallScore      \n",
              "                    min   max\n",
              "GradeLevel                   \n",
              "0                  1150  1700\n",
              "1                  1150  1627\n",
              "2                  1150  1700\n",
              "3                  1150  1672\n",
              "4                  1150  1731\n",
              "5                  1150  1731\n",
              "6                  1150  1729"
            ],
            "text/html": [
              "\n",
              "  <div id=\"df-10b35007-34c9-445d-8948-766db26ac66f\">\n",
              "    <div class=\"colab-df-container\">\n",
              "      <div>\n",
              "<style scoped>\n",
              "    .dataframe tbody tr th:only-of-type {\n",
              "        vertical-align: middle;\n",
              "    }\n",
              "\n",
              "    .dataframe tbody tr th {\n",
              "        vertical-align: top;\n",
              "    }\n",
              "\n",
              "    .dataframe thead tr th {\n",
              "        text-align: left;\n",
              "    }\n",
              "\n",
              "    .dataframe thead tr:last-of-type th {\n",
              "        text-align: right;\n",
              "    }\n",
              "</style>\n",
              "<table border=\"1\" class=\"dataframe\">\n",
              "  <thead>\n",
              "    <tr>\n",
              "      <th></th>\n",
              "      <th colspan=\"2\" halign=\"left\">OverallScore</th>\n",
              "    </tr>\n",
              "    <tr>\n",
              "      <th></th>\n",
              "      <th>min</th>\n",
              "      <th>max</th>\n",
              "    </tr>\n",
              "    <tr>\n",
              "      <th>GradeLevel</th>\n",
              "      <th></th>\n",
              "      <th></th>\n",
              "    </tr>\n",
              "  </thead>\n",
              "  <tbody>\n",
              "    <tr>\n",
              "      <th>0</th>\n",
              "      <td>1150</td>\n",
              "      <td>1700</td>\n",
              "    </tr>\n",
              "    <tr>\n",
              "      <th>1</th>\n",
              "      <td>1150</td>\n",
              "      <td>1627</td>\n",
              "    </tr>\n",
              "    <tr>\n",
              "      <th>2</th>\n",
              "      <td>1150</td>\n",
              "      <td>1700</td>\n",
              "    </tr>\n",
              "    <tr>\n",
              "      <th>3</th>\n",
              "      <td>1150</td>\n",
              "      <td>1672</td>\n",
              "    </tr>\n",
              "    <tr>\n",
              "      <th>4</th>\n",
              "      <td>1150</td>\n",
              "      <td>1731</td>\n",
              "    </tr>\n",
              "    <tr>\n",
              "      <th>5</th>\n",
              "      <td>1150</td>\n",
              "      <td>1731</td>\n",
              "    </tr>\n",
              "    <tr>\n",
              "      <th>6</th>\n",
              "      <td>1150</td>\n",
              "      <td>1729</td>\n",
              "    </tr>\n",
              "  </tbody>\n",
              "</table>\n",
              "</div>\n",
              "      <button class=\"colab-df-convert\" onclick=\"convertToInteractive('df-10b35007-34c9-445d-8948-766db26ac66f')\"\n",
              "              title=\"Convert this dataframe to an interactive table.\"\n",
              "              style=\"display:none;\">\n",
              "        \n",
              "  <svg xmlns=\"http://www.w3.org/2000/svg\" height=\"24px\"viewBox=\"0 0 24 24\"\n",
              "       width=\"24px\">\n",
              "    <path d=\"M0 0h24v24H0V0z\" fill=\"none\"/>\n",
              "    <path d=\"M18.56 5.44l.94 2.06.94-2.06 2.06-.94-2.06-.94-.94-2.06-.94 2.06-2.06.94zm-11 1L8.5 8.5l.94-2.06 2.06-.94-2.06-.94L8.5 2.5l-.94 2.06-2.06.94zm10 10l.94 2.06.94-2.06 2.06-.94-2.06-.94-.94-2.06-.94 2.06-2.06.94z\"/><path d=\"M17.41 7.96l-1.37-1.37c-.4-.4-.92-.59-1.43-.59-.52 0-1.04.2-1.43.59L10.3 9.45l-7.72 7.72c-.78.78-.78 2.05 0 2.83L4 21.41c.39.39.9.59 1.41.59.51 0 1.02-.2 1.41-.59l7.78-7.78 2.81-2.81c.8-.78.8-2.07 0-2.86zM5.41 20L4 18.59l7.72-7.72 1.47 1.35L5.41 20z\"/>\n",
              "  </svg>\n",
              "      </button>\n",
              "      \n",
              "  <style>\n",
              "    .colab-df-container {\n",
              "      display:flex;\n",
              "      flex-wrap:wrap;\n",
              "      gap: 12px;\n",
              "    }\n",
              "\n",
              "    .colab-df-convert {\n",
              "      background-color: #E8F0FE;\n",
              "      border: none;\n",
              "      border-radius: 50%;\n",
              "      cursor: pointer;\n",
              "      display: none;\n",
              "      fill: #1967D2;\n",
              "      height: 32px;\n",
              "      padding: 0 0 0 0;\n",
              "      width: 32px;\n",
              "    }\n",
              "\n",
              "    .colab-df-convert:hover {\n",
              "      background-color: #E2EBFA;\n",
              "      box-shadow: 0px 1px 2px rgba(60, 64, 67, 0.3), 0px 1px 3px 1px rgba(60, 64, 67, 0.15);\n",
              "      fill: #174EA6;\n",
              "    }\n",
              "\n",
              "    [theme=dark] .colab-df-convert {\n",
              "      background-color: #3B4455;\n",
              "      fill: #D2E3FC;\n",
              "    }\n",
              "\n",
              "    [theme=dark] .colab-df-convert:hover {\n",
              "      background-color: #434B5C;\n",
              "      box-shadow: 0px 1px 3px 1px rgba(0, 0, 0, 0.15);\n",
              "      filter: drop-shadow(0px 1px 2px rgba(0, 0, 0, 0.3));\n",
              "      fill: #FFFFFF;\n",
              "    }\n",
              "  </style>\n",
              "\n",
              "      <script>\n",
              "        const buttonEl =\n",
              "          document.querySelector('#df-10b35007-34c9-445d-8948-766db26ac66f button.colab-df-convert');\n",
              "        buttonEl.style.display =\n",
              "          google.colab.kernel.accessAllowed ? 'block' : 'none';\n",
              "\n",
              "        async function convertToInteractive(key) {\n",
              "          const element = document.querySelector('#df-10b35007-34c9-445d-8948-766db26ac66f');\n",
              "          const dataTable =\n",
              "            await google.colab.kernel.invokeFunction('convertToInteractive',\n",
              "                                                     [key], {});\n",
              "          if (!dataTable) return;\n",
              "\n",
              "          const docLinkHtml = 'Like what you see? Visit the ' +\n",
              "            '<a target=\"_blank\" href=https://colab.research.google.com/notebooks/data_table.ipynb>data table notebook</a>'\n",
              "            + ' to learn more about interactive tables.';\n",
              "          element.innerHTML = '';\n",
              "          dataTable['output_type'] = 'display_data';\n",
              "          await google.colab.output.renderOutput(dataTable, element);\n",
              "          const docLink = document.createElement('div');\n",
              "          docLink.innerHTML = docLinkHtml;\n",
              "          element.appendChild(docLink);\n",
              "        }\n",
              "      </script>\n",
              "    </div>\n",
              "  </div>\n",
              "  "
            ]
          },
          "metadata": {},
          "execution_count": 13
        }
      ],
      "source": [
        "# View ranges of OverallScore by grade level, to determine if they are all uniform.\n",
        "df.groupby('GradeLevel').agg({'OverallScore': ['min', 'max']})"
      ]
    },
    {
      "cell_type": "code",
      "execution_count": 14,
      "metadata": {
        "colab": {
          "base_uri": "https://localhost:8080/",
          "height": 269
        },
        "id": "mZ8JoUFDoX_m",
        "outputId": "ff3cf0e3-cc86-4e01-8d1e-c5c3345d1ba9"
      },
      "outputs": [
        {
          "output_type": "execute_result",
          "data": {
            "text/plain": [
              "   GradeLevel  OverallScoreMin  OverallScoreMax\n",
              "0           0           1150.0           1700.0\n",
              "1           1           1150.0           1627.0\n",
              "2           2           1150.0           1700.0\n",
              "3           3           1150.0           1672.0\n",
              "4           4           1150.0           1731.0\n",
              "5           5           1150.0           1731.0\n",
              "6           6           1150.0           1729.0"
            ],
            "text/html": [
              "\n",
              "  <div id=\"df-9ef7377e-ae64-45d5-8b3f-95d57e090ca2\">\n",
              "    <div class=\"colab-df-container\">\n",
              "      <div>\n",
              "<style scoped>\n",
              "    .dataframe tbody tr th:only-of-type {\n",
              "        vertical-align: middle;\n",
              "    }\n",
              "\n",
              "    .dataframe tbody tr th {\n",
              "        vertical-align: top;\n",
              "    }\n",
              "\n",
              "    .dataframe thead th {\n",
              "        text-align: right;\n",
              "    }\n",
              "</style>\n",
              "<table border=\"1\" class=\"dataframe\">\n",
              "  <thead>\n",
              "    <tr style=\"text-align: right;\">\n",
              "      <th></th>\n",
              "      <th>GradeLevel</th>\n",
              "      <th>OverallScoreMin</th>\n",
              "      <th>OverallScoreMax</th>\n",
              "    </tr>\n",
              "  </thead>\n",
              "  <tbody>\n",
              "    <tr>\n",
              "      <th>0</th>\n",
              "      <td>0</td>\n",
              "      <td>1150.0</td>\n",
              "      <td>1700.0</td>\n",
              "    </tr>\n",
              "    <tr>\n",
              "      <th>1</th>\n",
              "      <td>1</td>\n",
              "      <td>1150.0</td>\n",
              "      <td>1627.0</td>\n",
              "    </tr>\n",
              "    <tr>\n",
              "      <th>2</th>\n",
              "      <td>2</td>\n",
              "      <td>1150.0</td>\n",
              "      <td>1700.0</td>\n",
              "    </tr>\n",
              "    <tr>\n",
              "      <th>3</th>\n",
              "      <td>3</td>\n",
              "      <td>1150.0</td>\n",
              "      <td>1672.0</td>\n",
              "    </tr>\n",
              "    <tr>\n",
              "      <th>4</th>\n",
              "      <td>4</td>\n",
              "      <td>1150.0</td>\n",
              "      <td>1731.0</td>\n",
              "    </tr>\n",
              "    <tr>\n",
              "      <th>5</th>\n",
              "      <td>5</td>\n",
              "      <td>1150.0</td>\n",
              "      <td>1731.0</td>\n",
              "    </tr>\n",
              "    <tr>\n",
              "      <th>6</th>\n",
              "      <td>6</td>\n",
              "      <td>1150.0</td>\n",
              "      <td>1729.0</td>\n",
              "    </tr>\n",
              "  </tbody>\n",
              "</table>\n",
              "</div>\n",
              "      <button class=\"colab-df-convert\" onclick=\"convertToInteractive('df-9ef7377e-ae64-45d5-8b3f-95d57e090ca2')\"\n",
              "              title=\"Convert this dataframe to an interactive table.\"\n",
              "              style=\"display:none;\">\n",
              "        \n",
              "  <svg xmlns=\"http://www.w3.org/2000/svg\" height=\"24px\"viewBox=\"0 0 24 24\"\n",
              "       width=\"24px\">\n",
              "    <path d=\"M0 0h24v24H0V0z\" fill=\"none\"/>\n",
              "    <path d=\"M18.56 5.44l.94 2.06.94-2.06 2.06-.94-2.06-.94-.94-2.06-.94 2.06-2.06.94zm-11 1L8.5 8.5l.94-2.06 2.06-.94-2.06-.94L8.5 2.5l-.94 2.06-2.06.94zm10 10l.94 2.06.94-2.06 2.06-.94-2.06-.94-.94-2.06-.94 2.06-2.06.94z\"/><path d=\"M17.41 7.96l-1.37-1.37c-.4-.4-.92-.59-1.43-.59-.52 0-1.04.2-1.43.59L10.3 9.45l-7.72 7.72c-.78.78-.78 2.05 0 2.83L4 21.41c.39.39.9.59 1.41.59.51 0 1.02-.2 1.41-.59l7.78-7.78 2.81-2.81c.8-.78.8-2.07 0-2.86zM5.41 20L4 18.59l7.72-7.72 1.47 1.35L5.41 20z\"/>\n",
              "  </svg>\n",
              "      </button>\n",
              "      \n",
              "  <style>\n",
              "    .colab-df-container {\n",
              "      display:flex;\n",
              "      flex-wrap:wrap;\n",
              "      gap: 12px;\n",
              "    }\n",
              "\n",
              "    .colab-df-convert {\n",
              "      background-color: #E8F0FE;\n",
              "      border: none;\n",
              "      border-radius: 50%;\n",
              "      cursor: pointer;\n",
              "      display: none;\n",
              "      fill: #1967D2;\n",
              "      height: 32px;\n",
              "      padding: 0 0 0 0;\n",
              "      width: 32px;\n",
              "    }\n",
              "\n",
              "    .colab-df-convert:hover {\n",
              "      background-color: #E2EBFA;\n",
              "      box-shadow: 0px 1px 2px rgba(60, 64, 67, 0.3), 0px 1px 3px 1px rgba(60, 64, 67, 0.15);\n",
              "      fill: #174EA6;\n",
              "    }\n",
              "\n",
              "    [theme=dark] .colab-df-convert {\n",
              "      background-color: #3B4455;\n",
              "      fill: #D2E3FC;\n",
              "    }\n",
              "\n",
              "    [theme=dark] .colab-df-convert:hover {\n",
              "      background-color: #434B5C;\n",
              "      box-shadow: 0px 1px 3px 1px rgba(0, 0, 0, 0.15);\n",
              "      filter: drop-shadow(0px 1px 2px rgba(0, 0, 0, 0.3));\n",
              "      fill: #FFFFFF;\n",
              "    }\n",
              "  </style>\n",
              "\n",
              "      <script>\n",
              "        const buttonEl =\n",
              "          document.querySelector('#df-9ef7377e-ae64-45d5-8b3f-95d57e090ca2 button.colab-df-convert');\n",
              "        buttonEl.style.display =\n",
              "          google.colab.kernel.accessAllowed ? 'block' : 'none';\n",
              "\n",
              "        async function convertToInteractive(key) {\n",
              "          const element = document.querySelector('#df-9ef7377e-ae64-45d5-8b3f-95d57e090ca2');\n",
              "          const dataTable =\n",
              "            await google.colab.kernel.invokeFunction('convertToInteractive',\n",
              "                                                     [key], {});\n",
              "          if (!dataTable) return;\n",
              "\n",
              "          const docLinkHtml = 'Like what you see? Visit the ' +\n",
              "            '<a target=\"_blank\" href=https://colab.research.google.com/notebooks/data_table.ipynb>data table notebook</a>'\n",
              "            + ' to learn more about interactive tables.';\n",
              "          element.innerHTML = '';\n",
              "          dataTable['output_type'] = 'display_data';\n",
              "          await google.colab.output.renderOutput(dataTable, element);\n",
              "          const docLink = document.createElement('div');\n",
              "          docLink.innerHTML = docLinkHtml;\n",
              "          element.appendChild(docLink);\n",
              "        }\n",
              "      </script>\n",
              "    </div>\n",
              "  </div>\n",
              "  "
            ]
          },
          "metadata": {},
          "execution_count": 14
        }
      ],
      "source": [
        "# to Standardize OverallScore values, as the ranges are different between grade levels\n",
        "grdLevel_describe = []\n",
        "\n",
        "for g in range(len(pd.DataFrame(df.GradeLevel.unique()))):\n",
        "\n",
        "    grdLevel_describe.append({'GradeLevel': g,\n",
        "                             'OverallScoreMin': pd.DataFrame(df.query(\"GradeLevel == @g\").OverallScore.describe().to_list()).iloc[3].values[0],\n",
        "                             'OverallScoreMax': pd.DataFrame(df.query(\"GradeLevel == @g\").OverallScore.describe().to_list()).iloc[7].values[0]})   \n",
        "\n",
        "pd.DataFrame(grdLevel_describe) "
      ]
    },
    {
      "cell_type": "code",
      "execution_count": 15,
      "metadata": {
        "id": "nrvEFM-Vo6xz"
      },
      "outputs": [],
      "source": [
        "# Bring in min and max columns to df dataframe\n",
        "df = df.merge(pd.DataFrame(grdLevel_describe) , left_on=('GradeLevel'), right_on=('GradeLevel'))"
      ]
    },
    {
      "cell_type": "code",
      "execution_count": 16,
      "metadata": {
        "id": "uyNIxFuIo8_a"
      },
      "outputs": [],
      "source": [
        "# Standardize Overall Score\n",
        "df['OverallScoreStd'] = (df.OverallScore - df.OverallScoreMin) / (df.OverallScoreMax - df.OverallScoreMin)"
      ]
    },
    {
      "cell_type": "code",
      "execution_count": 17,
      "metadata": {
        "colab": {
          "base_uri": "https://localhost:8080/",
          "height": 332
        },
        "id": "Nz2__WqamUXv",
        "outputId": "d5a1f7a3-ff22-4327-cc95-20fadab2abb4"
      },
      "outputs": [
        {
          "output_type": "execute_result",
          "data": {
            "text/plain": [
              "           OverallScoreStd     \n",
              "                       min  max\n",
              "GradeLevel                     \n",
              "0                      0.0  1.0\n",
              "1                      0.0  1.0\n",
              "2                      0.0  1.0\n",
              "3                      0.0  1.0\n",
              "4                      0.0  1.0\n",
              "5                      0.0  1.0\n",
              "6                      0.0  1.0"
            ],
            "text/html": [
              "\n",
              "  <div id=\"df-1c7853ca-eeac-4dda-a007-6b98d78334de\">\n",
              "    <div class=\"colab-df-container\">\n",
              "      <div>\n",
              "<style scoped>\n",
              "    .dataframe tbody tr th:only-of-type {\n",
              "        vertical-align: middle;\n",
              "    }\n",
              "\n",
              "    .dataframe tbody tr th {\n",
              "        vertical-align: top;\n",
              "    }\n",
              "\n",
              "    .dataframe thead tr th {\n",
              "        text-align: left;\n",
              "    }\n",
              "\n",
              "    .dataframe thead tr:last-of-type th {\n",
              "        text-align: right;\n",
              "    }\n",
              "</style>\n",
              "<table border=\"1\" class=\"dataframe\">\n",
              "  <thead>\n",
              "    <tr>\n",
              "      <th></th>\n",
              "      <th colspan=\"2\" halign=\"left\">OverallScoreStd</th>\n",
              "    </tr>\n",
              "    <tr>\n",
              "      <th></th>\n",
              "      <th>min</th>\n",
              "      <th>max</th>\n",
              "    </tr>\n",
              "    <tr>\n",
              "      <th>GradeLevel</th>\n",
              "      <th></th>\n",
              "      <th></th>\n",
              "    </tr>\n",
              "  </thead>\n",
              "  <tbody>\n",
              "    <tr>\n",
              "      <th>0</th>\n",
              "      <td>0.0</td>\n",
              "      <td>1.0</td>\n",
              "    </tr>\n",
              "    <tr>\n",
              "      <th>1</th>\n",
              "      <td>0.0</td>\n",
              "      <td>1.0</td>\n",
              "    </tr>\n",
              "    <tr>\n",
              "      <th>2</th>\n",
              "      <td>0.0</td>\n",
              "      <td>1.0</td>\n",
              "    </tr>\n",
              "    <tr>\n",
              "      <th>3</th>\n",
              "      <td>0.0</td>\n",
              "      <td>1.0</td>\n",
              "    </tr>\n",
              "    <tr>\n",
              "      <th>4</th>\n",
              "      <td>0.0</td>\n",
              "      <td>1.0</td>\n",
              "    </tr>\n",
              "    <tr>\n",
              "      <th>5</th>\n",
              "      <td>0.0</td>\n",
              "      <td>1.0</td>\n",
              "    </tr>\n",
              "    <tr>\n",
              "      <th>6</th>\n",
              "      <td>0.0</td>\n",
              "      <td>1.0</td>\n",
              "    </tr>\n",
              "  </tbody>\n",
              "</table>\n",
              "</div>\n",
              "      <button class=\"colab-df-convert\" onclick=\"convertToInteractive('df-1c7853ca-eeac-4dda-a007-6b98d78334de')\"\n",
              "              title=\"Convert this dataframe to an interactive table.\"\n",
              "              style=\"display:none;\">\n",
              "        \n",
              "  <svg xmlns=\"http://www.w3.org/2000/svg\" height=\"24px\"viewBox=\"0 0 24 24\"\n",
              "       width=\"24px\">\n",
              "    <path d=\"M0 0h24v24H0V0z\" fill=\"none\"/>\n",
              "    <path d=\"M18.56 5.44l.94 2.06.94-2.06 2.06-.94-2.06-.94-.94-2.06-.94 2.06-2.06.94zm-11 1L8.5 8.5l.94-2.06 2.06-.94-2.06-.94L8.5 2.5l-.94 2.06-2.06.94zm10 10l.94 2.06.94-2.06 2.06-.94-2.06-.94-.94-2.06-.94 2.06-2.06.94z\"/><path d=\"M17.41 7.96l-1.37-1.37c-.4-.4-.92-.59-1.43-.59-.52 0-1.04.2-1.43.59L10.3 9.45l-7.72 7.72c-.78.78-.78 2.05 0 2.83L4 21.41c.39.39.9.59 1.41.59.51 0 1.02-.2 1.41-.59l7.78-7.78 2.81-2.81c.8-.78.8-2.07 0-2.86zM5.41 20L4 18.59l7.72-7.72 1.47 1.35L5.41 20z\"/>\n",
              "  </svg>\n",
              "      </button>\n",
              "      \n",
              "  <style>\n",
              "    .colab-df-container {\n",
              "      display:flex;\n",
              "      flex-wrap:wrap;\n",
              "      gap: 12px;\n",
              "    }\n",
              "\n",
              "    .colab-df-convert {\n",
              "      background-color: #E8F0FE;\n",
              "      border: none;\n",
              "      border-radius: 50%;\n",
              "      cursor: pointer;\n",
              "      display: none;\n",
              "      fill: #1967D2;\n",
              "      height: 32px;\n",
              "      padding: 0 0 0 0;\n",
              "      width: 32px;\n",
              "    }\n",
              "\n",
              "    .colab-df-convert:hover {\n",
              "      background-color: #E2EBFA;\n",
              "      box-shadow: 0px 1px 2px rgba(60, 64, 67, 0.3), 0px 1px 3px 1px rgba(60, 64, 67, 0.15);\n",
              "      fill: #174EA6;\n",
              "    }\n",
              "\n",
              "    [theme=dark] .colab-df-convert {\n",
              "      background-color: #3B4455;\n",
              "      fill: #D2E3FC;\n",
              "    }\n",
              "\n",
              "    [theme=dark] .colab-df-convert:hover {\n",
              "      background-color: #434B5C;\n",
              "      box-shadow: 0px 1px 3px 1px rgba(0, 0, 0, 0.15);\n",
              "      filter: drop-shadow(0px 1px 2px rgba(0, 0, 0, 0.3));\n",
              "      fill: #FFFFFF;\n",
              "    }\n",
              "  </style>\n",
              "\n",
              "      <script>\n",
              "        const buttonEl =\n",
              "          document.querySelector('#df-1c7853ca-eeac-4dda-a007-6b98d78334de button.colab-df-convert');\n",
              "        buttonEl.style.display =\n",
              "          google.colab.kernel.accessAllowed ? 'block' : 'none';\n",
              "\n",
              "        async function convertToInteractive(key) {\n",
              "          const element = document.querySelector('#df-1c7853ca-eeac-4dda-a007-6b98d78334de');\n",
              "          const dataTable =\n",
              "            await google.colab.kernel.invokeFunction('convertToInteractive',\n",
              "                                                     [key], {});\n",
              "          if (!dataTable) return;\n",
              "\n",
              "          const docLinkHtml = 'Like what you see? Visit the ' +\n",
              "            '<a target=\"_blank\" href=https://colab.research.google.com/notebooks/data_table.ipynb>data table notebook</a>'\n",
              "            + ' to learn more about interactive tables.';\n",
              "          element.innerHTML = '';\n",
              "          dataTable['output_type'] = 'display_data';\n",
              "          await google.colab.output.renderOutput(dataTable, element);\n",
              "          const docLink = document.createElement('div');\n",
              "          docLink.innerHTML = docLinkHtml;\n",
              "          element.appendChild(docLink);\n",
              "        }\n",
              "      </script>\n",
              "    </div>\n",
              "  </div>\n",
              "  "
            ]
          },
          "metadata": {},
          "execution_count": 17
        }
      ],
      "source": [
        "# Confirm min and max OverallScore standardized values range from 0 to 1 for each grade level\n",
        "df.groupby('GradeLevel').agg({'OverallScoreStd': ['min', 'max']})"
      ]
    },
    {
      "cell_type": "markdown",
      "metadata": {
        "id": "rdMJujHz7gXp"
      },
      "source": [
        "###**QUERIES**\n",
        "####**QUERY OF NUMBER OF STUDENTS WITH MINIMUM OVERALLSCAORE PER ACADEMIC YEAR**"
      ]
    },
    {
      "cell_type": "code",
      "execution_count": 18,
      "metadata": {
        "colab": {
          "base_uri": "https://localhost:8080/"
        },
        "id": "lrNVFkxp7Ngx",
        "outputId": "0b119352-9bc1-4404-e8e3-fa66fd422e1d"
      },
      "outputs": [
        {
          "output_type": "execute_result",
          "data": {
            "text/plain": [
              "2017-2018    12\n",
              "2018-2019    10\n",
              "2019-2020     3\n",
              "2020-2021    15\n",
              "2021-2022     1\n",
              "Name: AcademicYear, dtype: int64"
            ]
          },
          "metadata": {},
          "execution_count": 18
        }
      ],
      "source": [
        "# There are several students who should a result along the zero score line, on scatter plots.\n",
        "# These are the student counts whose OverallScore equals the minimum score, by AcademicYear\n",
        "df.query(\"OverallScore == @df.OverallScoreMin\").AcademicYear.value_counts().sort_index()"
      ]
    },
    {
      "cell_type": "code",
      "execution_count": 19,
      "metadata": {
        "colab": {
          "base_uri": "https://localhost:8080/"
        },
        "id": "FCP9floFmUXw",
        "outputId": "a4b97c75-2a00-4ebc-bd21-56be591b69fb"
      },
      "outputs": [
        {
          "output_type": "execute_result",
          "data": {
            "text/plain": [
              "(9460, 25)"
            ]
          },
          "metadata": {},
          "execution_count": 19
        }
      ],
      "source": [
        "# Drop columns used for the OverallScoreStd, which are no longer necessary\n",
        "df = df.drop(['OverallScoreMin', 'OverallScoreMax'], axis=1)\n",
        "df.shape"
      ]
    },
    {
      "cell_type": "markdown",
      "metadata": {
        "id": "_IdayGnxmUXw"
      },
      "source": [
        "####**TOTAL ELPAC ASSESSMENTS:  TOTAL TIMES THE STUDENT HAS TESTED**"
      ]
    },
    {
      "cell_type": "code",
      "execution_count": 20,
      "metadata": {
        "id": "eVvD-pgmmUXw"
      },
      "outputs": [],
      "source": [
        "# Total ELPAC Assessments; total times the student student has tested\n",
        "total_assessments = df['Stu_deID'].reset_index().groupby( ['Stu_deID'],as_index=False ).count()\n",
        "total_assessments.columns = ['Stu_deID', 'TotalAssessments']\n",
        "\n",
        "# Add column TotalAssessments to data frame\n",
        "df = df.merge(total_assessments, left_on=('Stu_deID'), right_on=('Stu_deID'), how='inner')"
      ]
    },
    {
      "cell_type": "markdown",
      "metadata": {
        "id": "9govZKewmUXw"
      },
      "source": [
        "####**OVERALLLEVEL GROWTH FROM ONE TEST INSTANCE TO THE NEXT**\n"
      ]
    },
    {
      "cell_type": "code",
      "execution_count": 21,
      "metadata": {
        "id": "dQbQ0WiMmUXw"
      },
      "outputs": [],
      "source": [
        "# Capture TestInstance of student assessments, numbering each instance in ascending order, \n",
        "# #re-seeding for each student, as opposed to a running number; similar to SQL's RowNum() function\n",
        "df['TestInstance'] =  df.sort_values(['Stu_deID', 'TestAge'], ascending=True).groupby(['Stu_deID']).cumcount() + 1"
      ]
    },
    {
      "cell_type": "code",
      "execution_count": 22,
      "metadata": {
        "colab": {
          "base_uri": "https://localhost:8080/",
          "height": 175
        },
        "id": "tNXS7nd6mUXw",
        "outputId": "65e4d447-6f13-4b4c-ee00-08532b735a17"
      },
      "outputs": [
        {
          "output_type": "execute_result",
          "data": {
            "text/plain": [
              "   TestInstanceA  TestInstanceB\n",
              "0              1              2\n",
              "1              2              3\n",
              "2              3              4\n",
              "3              4              5"
            ],
            "text/html": [
              "\n",
              "  <div id=\"df-327452b5-9154-4e47-bc7a-be73ff767cd8\">\n",
              "    <div class=\"colab-df-container\">\n",
              "      <div>\n",
              "<style scoped>\n",
              "    .dataframe tbody tr th:only-of-type {\n",
              "        vertical-align: middle;\n",
              "    }\n",
              "\n",
              "    .dataframe tbody tr th {\n",
              "        vertical-align: top;\n",
              "    }\n",
              "\n",
              "    .dataframe thead th {\n",
              "        text-align: right;\n",
              "    }\n",
              "</style>\n",
              "<table border=\"1\" class=\"dataframe\">\n",
              "  <thead>\n",
              "    <tr style=\"text-align: right;\">\n",
              "      <th></th>\n",
              "      <th>TestInstanceA</th>\n",
              "      <th>TestInstanceB</th>\n",
              "    </tr>\n",
              "  </thead>\n",
              "  <tbody>\n",
              "    <tr>\n",
              "      <th>0</th>\n",
              "      <td>1</td>\n",
              "      <td>2</td>\n",
              "    </tr>\n",
              "    <tr>\n",
              "      <th>1</th>\n",
              "      <td>2</td>\n",
              "      <td>3</td>\n",
              "    </tr>\n",
              "    <tr>\n",
              "      <th>2</th>\n",
              "      <td>3</td>\n",
              "      <td>4</td>\n",
              "    </tr>\n",
              "    <tr>\n",
              "      <th>3</th>\n",
              "      <td>4</td>\n",
              "      <td>5</td>\n",
              "    </tr>\n",
              "  </tbody>\n",
              "</table>\n",
              "</div>\n",
              "      <button class=\"colab-df-convert\" onclick=\"convertToInteractive('df-327452b5-9154-4e47-bc7a-be73ff767cd8')\"\n",
              "              title=\"Convert this dataframe to an interactive table.\"\n",
              "              style=\"display:none;\">\n",
              "        \n",
              "  <svg xmlns=\"http://www.w3.org/2000/svg\" height=\"24px\"viewBox=\"0 0 24 24\"\n",
              "       width=\"24px\">\n",
              "    <path d=\"M0 0h24v24H0V0z\" fill=\"none\"/>\n",
              "    <path d=\"M18.56 5.44l.94 2.06.94-2.06 2.06-.94-2.06-.94-.94-2.06-.94 2.06-2.06.94zm-11 1L8.5 8.5l.94-2.06 2.06-.94-2.06-.94L8.5 2.5l-.94 2.06-2.06.94zm10 10l.94 2.06.94-2.06 2.06-.94-2.06-.94-.94-2.06-.94 2.06-2.06.94z\"/><path d=\"M17.41 7.96l-1.37-1.37c-.4-.4-.92-.59-1.43-.59-.52 0-1.04.2-1.43.59L10.3 9.45l-7.72 7.72c-.78.78-.78 2.05 0 2.83L4 21.41c.39.39.9.59 1.41.59.51 0 1.02-.2 1.41-.59l7.78-7.78 2.81-2.81c.8-.78.8-2.07 0-2.86zM5.41 20L4 18.59l7.72-7.72 1.47 1.35L5.41 20z\"/>\n",
              "  </svg>\n",
              "      </button>\n",
              "      \n",
              "  <style>\n",
              "    .colab-df-container {\n",
              "      display:flex;\n",
              "      flex-wrap:wrap;\n",
              "      gap: 12px;\n",
              "    }\n",
              "\n",
              "    .colab-df-convert {\n",
              "      background-color: #E8F0FE;\n",
              "      border: none;\n",
              "      border-radius: 50%;\n",
              "      cursor: pointer;\n",
              "      display: none;\n",
              "      fill: #1967D2;\n",
              "      height: 32px;\n",
              "      padding: 0 0 0 0;\n",
              "      width: 32px;\n",
              "    }\n",
              "\n",
              "    .colab-df-convert:hover {\n",
              "      background-color: #E2EBFA;\n",
              "      box-shadow: 0px 1px 2px rgba(60, 64, 67, 0.3), 0px 1px 3px 1px rgba(60, 64, 67, 0.15);\n",
              "      fill: #174EA6;\n",
              "    }\n",
              "\n",
              "    [theme=dark] .colab-df-convert {\n",
              "      background-color: #3B4455;\n",
              "      fill: #D2E3FC;\n",
              "    }\n",
              "\n",
              "    [theme=dark] .colab-df-convert:hover {\n",
              "      background-color: #434B5C;\n",
              "      box-shadow: 0px 1px 3px 1px rgba(0, 0, 0, 0.15);\n",
              "      filter: drop-shadow(0px 1px 2px rgba(0, 0, 0, 0.3));\n",
              "      fill: #FFFFFF;\n",
              "    }\n",
              "  </style>\n",
              "\n",
              "      <script>\n",
              "        const buttonEl =\n",
              "          document.querySelector('#df-327452b5-9154-4e47-bc7a-be73ff767cd8 button.colab-df-convert');\n",
              "        buttonEl.style.display =\n",
              "          google.colab.kernel.accessAllowed ? 'block' : 'none';\n",
              "\n",
              "        async function convertToInteractive(key) {\n",
              "          const element = document.querySelector('#df-327452b5-9154-4e47-bc7a-be73ff767cd8');\n",
              "          const dataTable =\n",
              "            await google.colab.kernel.invokeFunction('convertToInteractive',\n",
              "                                                     [key], {});\n",
              "          if (!dataTable) return;\n",
              "\n",
              "          const docLinkHtml = 'Like what you see? Visit the ' +\n",
              "            '<a target=\"_blank\" href=https://colab.research.google.com/notebooks/data_table.ipynb>data table notebook</a>'\n",
              "            + ' to learn more about interactive tables.';\n",
              "          element.innerHTML = '';\n",
              "          dataTable['output_type'] = 'display_data';\n",
              "          await google.colab.output.renderOutput(dataTable, element);\n",
              "          const docLink = document.createElement('div');\n",
              "          docLink.innerHTML = docLinkHtml;\n",
              "          element.appendChild(docLink);\n",
              "        }\n",
              "      </script>\n",
              "    </div>\n",
              "  </div>\n",
              "  "
            ]
          },
          "metadata": {},
          "execution_count": 22
        }
      ],
      "source": [
        "# Capture unique TestInstance combinations available in dataframe\n",
        "TestInstances = []\n",
        "\n",
        "# the [:-1] ensures that the max number (5) cuts off at 5 for comparison purposes, \n",
        "# or else it would be trying to compare with 6, which is non-existent in the dataframe\n",
        "for i in range(len(df.TestInstance.unique()[:-1])):\n",
        "  i += 1\n",
        "  n = i+1\n",
        "\n",
        "  TestInstances.append({'TestInstanceA': i,\n",
        "                        'TestInstanceB': n})\n",
        "  \n",
        "pd.DataFrame(TestInstances)"
      ]
    },
    {
      "cell_type": "code",
      "execution_count": 23,
      "metadata": {
        "id": "XfnuCemPmUXx"
      },
      "outputs": [],
      "source": [
        "# Merge test instances into main data frame\n",
        "df = df.merge(pd.DataFrame(TestInstances), left_on='TestInstance', right_on='TestInstanceA', how='left')\n",
        "\n",
        "\n",
        "# Create dataframes for instance A and B, respectively\n",
        "df2a = df[['Stu_deID', 'OverallLevel', 'TestInstanceA']]\n",
        "df2b = df[['Stu_deID', 'OverallLevel', 'TestInstanceB']]\n",
        "\n",
        "\n",
        "# Left join dataframes A and B, to align OverallLevels where TestInstances A and B match, yet keep rows where they do not\n",
        "df2 = df2a.merge(df2b, left_on=('Stu_deID', 'TestInstanceA'), right_on=('Stu_deID', 'TestInstanceB'), how='left')\n",
        "\n",
        "\n",
        "# Subtract the most recent OverallLevel from previous, to get a Growth result\n",
        "df2['Growth'] = df2.OverallLevel_x - df2.OverallLevel_y\n",
        "\n",
        "\n",
        "# Subset the data in preparation to join it back to the main dataframe\n",
        "df2 = df2[['Stu_deID', 'TestInstanceA', 'Growth']]\n",
        "df2.columns = ['Stu_deID', 'TestInstance', 'Growth']\n",
        "\n",
        "\n",
        "# Bring the Growth variable into the main dataframe\n",
        "df = df.merge(df2, left_index=True, right_index=True, how='left')\n",
        "\n",
        "\n",
        "# Convert Growth from float to int, filling in with 0 wherever there is data missing\n",
        "df['Growth'] = df.Growth.fillna(0).astype(int)\n",
        "\n",
        "# Sort values and reindex\n",
        "df = df.sort_values(['Stu_deID_x', 'TestInstanceA'], ascending=True, ignore_index=True)\n",
        "\n",
        "# Subset\n",
        "df = df.iloc[:,[0, 1, 2, 3, 4, 5, 6, 7, 8, 9, 10, 11, 12, 13, 14, 15, 16, 17, 18, 19, 20, 21, 22, 23, 24, 25, 26, 31]]\n",
        "df.columns = ['AcademicYear', 'Stu_deID', 'School_deID', 'GradeLevel', 'DOB', 'TestAge', 'StudentGender', 'StudentEthnicity'\n",
        ", 'Special_Education', 'Homeless', 'SocioEconomically', 'TestDayName', 'TestDate', 'OverallScore', 'OverallLevel'\n",
        ", 'ExpectedAttendanceDays', 'DaysAttended', 'AttendedPct', 'EnrolledPct', 'GradeEnrolledPct', 'GradeAttendedPct'\n",
        ", 'TeacherGender', 'TeacherTotalYearsOfService', 'TeacherEthnicity', 'OverallScoreStd', 'TotalAssessments', 'TestInstance', 'Growth']\n"
      ]
    },
    {
      "cell_type": "code",
      "execution_count": 25,
      "metadata": {
        "colab": {
          "base_uri": "https://localhost:8080/",
          "height": 143
        },
        "id": "z2UBMf1cmUXx",
        "outputId": "0a00e7e7-4a34-4aab-9a0e-d8e167b46878"
      },
      "outputs": [
        {
          "output_type": "execute_result",
          "data": {
            "text/plain": [
              "    Stu_deID  GradeLevel    TestAge  OverallLevel  TotalAssessments  TestInstance  Growth\n",
              "34        14           2   7.704470             2                 3             1       0\n",
              "35        14           4  10.001574             3                 3             2       1\n",
              "36        14           5  10.822946             3                 3             3       0"
            ],
            "text/html": [
              "\n",
              "  <div id=\"df-ca01c92c-03da-4d81-90cc-7ac78619bdf5\">\n",
              "    <div class=\"colab-df-container\">\n",
              "      <div>\n",
              "<style scoped>\n",
              "    .dataframe tbody tr th:only-of-type {\n",
              "        vertical-align: middle;\n",
              "    }\n",
              "\n",
              "    .dataframe tbody tr th {\n",
              "        vertical-align: top;\n",
              "    }\n",
              "\n",
              "    .dataframe thead th {\n",
              "        text-align: right;\n",
              "    }\n",
              "</style>\n",
              "<table border=\"1\" class=\"dataframe\">\n",
              "  <thead>\n",
              "    <tr style=\"text-align: right;\">\n",
              "      <th></th>\n",
              "      <th>Stu_deID</th>\n",
              "      <th>GradeLevel</th>\n",
              "      <th>TestAge</th>\n",
              "      <th>OverallLevel</th>\n",
              "      <th>TotalAssessments</th>\n",
              "      <th>TestInstance</th>\n",
              "      <th>Growth</th>\n",
              "    </tr>\n",
              "  </thead>\n",
              "  <tbody>\n",
              "    <tr>\n",
              "      <th>34</th>\n",
              "      <td>14</td>\n",
              "      <td>2</td>\n",
              "      <td>7.704470</td>\n",
              "      <td>2</td>\n",
              "      <td>3</td>\n",
              "      <td>1</td>\n",
              "      <td>0</td>\n",
              "    </tr>\n",
              "    <tr>\n",
              "      <th>35</th>\n",
              "      <td>14</td>\n",
              "      <td>4</td>\n",
              "      <td>10.001574</td>\n",
              "      <td>3</td>\n",
              "      <td>3</td>\n",
              "      <td>2</td>\n",
              "      <td>1</td>\n",
              "    </tr>\n",
              "    <tr>\n",
              "      <th>36</th>\n",
              "      <td>14</td>\n",
              "      <td>5</td>\n",
              "      <td>10.822946</td>\n",
              "      <td>3</td>\n",
              "      <td>3</td>\n",
              "      <td>3</td>\n",
              "      <td>0</td>\n",
              "    </tr>\n",
              "  </tbody>\n",
              "</table>\n",
              "</div>\n",
              "      <button class=\"colab-df-convert\" onclick=\"convertToInteractive('df-ca01c92c-03da-4d81-90cc-7ac78619bdf5')\"\n",
              "              title=\"Convert this dataframe to an interactive table.\"\n",
              "              style=\"display:none;\">\n",
              "        \n",
              "  <svg xmlns=\"http://www.w3.org/2000/svg\" height=\"24px\"viewBox=\"0 0 24 24\"\n",
              "       width=\"24px\">\n",
              "    <path d=\"M0 0h24v24H0V0z\" fill=\"none\"/>\n",
              "    <path d=\"M18.56 5.44l.94 2.06.94-2.06 2.06-.94-2.06-.94-.94-2.06-.94 2.06-2.06.94zm-11 1L8.5 8.5l.94-2.06 2.06-.94-2.06-.94L8.5 2.5l-.94 2.06-2.06.94zm10 10l.94 2.06.94-2.06 2.06-.94-2.06-.94-.94-2.06-.94 2.06-2.06.94z\"/><path d=\"M17.41 7.96l-1.37-1.37c-.4-.4-.92-.59-1.43-.59-.52 0-1.04.2-1.43.59L10.3 9.45l-7.72 7.72c-.78.78-.78 2.05 0 2.83L4 21.41c.39.39.9.59 1.41.59.51 0 1.02-.2 1.41-.59l7.78-7.78 2.81-2.81c.8-.78.8-2.07 0-2.86zM5.41 20L4 18.59l7.72-7.72 1.47 1.35L5.41 20z\"/>\n",
              "  </svg>\n",
              "      </button>\n",
              "      \n",
              "  <style>\n",
              "    .colab-df-container {\n",
              "      display:flex;\n",
              "      flex-wrap:wrap;\n",
              "      gap: 12px;\n",
              "    }\n",
              "\n",
              "    .colab-df-convert {\n",
              "      background-color: #E8F0FE;\n",
              "      border: none;\n",
              "      border-radius: 50%;\n",
              "      cursor: pointer;\n",
              "      display: none;\n",
              "      fill: #1967D2;\n",
              "      height: 32px;\n",
              "      padding: 0 0 0 0;\n",
              "      width: 32px;\n",
              "    }\n",
              "\n",
              "    .colab-df-convert:hover {\n",
              "      background-color: #E2EBFA;\n",
              "      box-shadow: 0px 1px 2px rgba(60, 64, 67, 0.3), 0px 1px 3px 1px rgba(60, 64, 67, 0.15);\n",
              "      fill: #174EA6;\n",
              "    }\n",
              "\n",
              "    [theme=dark] .colab-df-convert {\n",
              "      background-color: #3B4455;\n",
              "      fill: #D2E3FC;\n",
              "    }\n",
              "\n",
              "    [theme=dark] .colab-df-convert:hover {\n",
              "      background-color: #434B5C;\n",
              "      box-shadow: 0px 1px 3px 1px rgba(0, 0, 0, 0.15);\n",
              "      filter: drop-shadow(0px 1px 2px rgba(0, 0, 0, 0.3));\n",
              "      fill: #FFFFFF;\n",
              "    }\n",
              "  </style>\n",
              "\n",
              "      <script>\n",
              "        const buttonEl =\n",
              "          document.querySelector('#df-ca01c92c-03da-4d81-90cc-7ac78619bdf5 button.colab-df-convert');\n",
              "        buttonEl.style.display =\n",
              "          google.colab.kernel.accessAllowed ? 'block' : 'none';\n",
              "\n",
              "        async function convertToInteractive(key) {\n",
              "          const element = document.querySelector('#df-ca01c92c-03da-4d81-90cc-7ac78619bdf5');\n",
              "          const dataTable =\n",
              "            await google.colab.kernel.invokeFunction('convertToInteractive',\n",
              "                                                     [key], {});\n",
              "          if (!dataTable) return;\n",
              "\n",
              "          const docLinkHtml = 'Like what you see? Visit the ' +\n",
              "            '<a target=\"_blank\" href=https://colab.research.google.com/notebooks/data_table.ipynb>data table notebook</a>'\n",
              "            + ' to learn more about interactive tables.';\n",
              "          element.innerHTML = '';\n",
              "          dataTable['output_type'] = 'display_data';\n",
              "          await google.colab.output.renderOutput(dataTable, element);\n",
              "          const docLink = document.createElement('div');\n",
              "          docLink.innerHTML = docLinkHtml;\n",
              "          element.appendChild(docLink);\n",
              "        }\n",
              "      </script>\n",
              "    </div>\n",
              "  </div>\n",
              "  "
            ]
          },
          "metadata": {},
          "execution_count": 25
        }
      ],
      "source": [
        "# Spot check\n",
        "df.query(\"Stu_deID == 14\")[['Stu_deID', 'GradeLevel', 'TestAge', 'OverallLevel', 'TotalAssessments', 'TestInstance', 'Growth']]"
      ]
    },
    {
      "cell_type": "markdown",
      "metadata": {
        "id": "PKhu93T5px-I"
      },
      "source": [
        "###**DATA VISUALIZATION**"
      ]
    },
    {
      "cell_type": "markdown",
      "source": [
        "####**RELATIONSHIPS BETWEEN OVERALLEVEL VS GROWTH**\n",
        "####**OVERALLELVEL VS TESTINSTANCE**\n",
        "####**TESTINSTANCE VS GROWTH**"
      ],
      "metadata": {
        "id": "a-76KX3Nn7pJ"
      }
    },
    {
      "cell_type": "code",
      "execution_count": 24,
      "metadata": {
        "colab": {
          "base_uri": "https://localhost:8080/",
          "height": 822
        },
        "id": "uKDH1q6NmUXx",
        "outputId": "931a7826-0f87-4e44-f607-9f6d274a8174"
      },
      "outputs": [
        {
          "output_type": "execute_result",
          "data": {
            "text/plain": [
              "<matplotlib.axes._subplots.AxesSubplot at 0x7fddf77fdf50>"
            ]
          },
          "metadata": {},
          "execution_count": 24
        },
        {
          "output_type": "display_data",
          "data": {
            "text/plain": [
              "<Figure size 432x288 with 1 Axes>"
            ],
            "image/png": "[encoded data removed]"
          },
          "metadata": {
            "needs_background": "light"
          }
        },
        {
          "output_type": "display_data",
          "data": {
            "text/plain": [
              "<Figure size 432x288 with 1 Axes>"
            ],
            "image/png": "[encoded data removed]"
          },
          "metadata": {
            "needs_background": "light"
          }
        },
        {
          "output_type": "display_data",
          "data": {
            "text/plain": [
              "<Figure size 432x288 with 1 Axes>"
            ],
            "image/png": "[encoded data removed]"
          },
          "metadata": {
            "needs_background": "light"
          }
        }
      ],
      "source": [
        "pd.crosstab(df.Growth, df.OverallLevel).plot.bar(rot=0)\n",
        "\n",
        "pd.crosstab(df.TestInstance, df.OverallLevel).plot.bar(rot=0)\n",
        "\n",
        "pd.crosstab(df.query(\"TestInstance > 1\").Growth, df.query(\"TestInstance > 1\").TestInstance).plot.bar(rot=0)"
      ]
    },
    {
      "cell_type": "markdown",
      "metadata": {
        "id": "qzQExzgFmqLL"
      },
      "source": [
        "####**CORRELATION AMONG FEATURES**"
      ]
    },
    {
      "cell_type": "code",
      "execution_count": 26,
      "metadata": {
        "colab": {
          "base_uri": "https://localhost:8080/"
        },
        "id": "tXjmpZjlm22f",
        "outputId": "6f09c808-ef7d-4c06-f5ed-3e359afbd196"
      },
      "outputs": [
        {
          "output_type": "stream",
          "name": "stdout",
          "text": [
            "<class 'pandas.core.frame.DataFrame'>\n",
            "RangeIndex: 9460 entries, 0 to 9459\n",
            "Data columns (total 9 columns):\n",
            " #   Column             Non-Null Count  Dtype \n",
            "---  ------             --------------  ----- \n",
            " 0   AcademicYear       9460 non-null   object\n",
            " 1   StudentGender      9460 non-null   object\n",
            " 2   StudentEthnicity   9460 non-null   object\n",
            " 3   Special_Education  9460 non-null   object\n",
            " 4   Homeless           9460 non-null   object\n",
            " 5   SocioEconomically  9460 non-null   object\n",
            " 6   TestDayName        9460 non-null   object\n",
            " 7   TeacherGender      9460 non-null   object\n",
            " 8   TeacherEthnicity   9460 non-null   object\n",
            "dtypes: object(9)\n",
            "memory usage: 665.3+ KB\n"
          ]
        }
      ],
      "source": [
        "# Identify features that are object dtype, to create dummy variables for\n",
        "df.select_dtypes(include='object').info()"
      ]
    },
    {
      "cell_type": "code",
      "execution_count": 27,
      "metadata": {
        "id": "r2tb1KNqj3Ni"
      },
      "outputs": [],
      "source": [
        "# Create dummy values from 'object' data types to get correlation values\n",
        "df2 = pd.get_dummies(df, columns=['AcademicYear', 'StudentGender', 'StudentEthnicity', 'Special_Education', 'Homeless', 'SocioEconomically', 'TestDayName',\n",
        "                                  'TeacherGender','TeacherEthnicity'])"
      ]
    },
    {
      "cell_type": "code",
      "execution_count": 28,
      "metadata": {
        "colab": {
          "base_uri": "https://localhost:8080/",
          "height": 677
        },
        "id": "974G2glRnCAw",
        "outputId": "ce92547c-09bb-46c4-e986-b9737f55f7a3"
      },
      "outputs": [
        {
          "output_type": "execute_result",
          "data": {
            "text/plain": [
              "<pandas.io.formats.style.Styler at 0x7fddf79f0590>"
            ],
            "text/html": [
              "<style type=\"text/css\">\n",
              "#T_720e5_row0_col0 {\n",
              "  width: 10em;\n",
              "  height: 80%;\n",
              "  background: linear-gradient(90deg, transparent 17.6%, lightgreen 17.6%, lightgreen 100.0%, transparent 100.0%);\n",
              "}\n",
              "#T_720e5_row1_col0 {\n",
              "  width: 10em;\n",
              "  height: 80%;\n",
              "  background: linear-gradient(90deg, transparent 17.6%, lightgreen 17.6%, lightgreen 95.4%, transparent 95.4%);\n",
              "}\n",
              "#T_720e5_row2_col0 {\n",
              "  width: 10em;\n",
              "  height: 80%;\n",
              "  background: linear-gradient(90deg, transparent 17.6%, lightgreen 17.6%, lightgreen 78.6%, transparent 78.6%);\n",
              "}\n",
              "#T_720e5_row3_col0 {\n",
              "  width: 10em;\n",
              "  height: 80%;\n",
              "  background: linear-gradient(90deg, transparent 17.6%, lightgreen 17.6%, lightgreen 53.6%, transparent 53.6%);\n",
              "}\n",
              "#T_720e5_row4_col0 {\n",
              "  width: 10em;\n",
              "  height: 80%;\n",
              "  background: linear-gradient(90deg, transparent 17.6%, lightgreen 17.6%, lightgreen 52.9%, transparent 52.9%);\n",
              "}\n",
              "#T_720e5_row5_col0 {\n",
              "  width: 10em;\n",
              "  height: 80%;\n",
              "  background: linear-gradient(90deg, transparent 17.6%, lightgreen 17.6%, lightgreen 52.7%, transparent 52.7%);\n",
              "}\n",
              "#T_720e5_row6_col0 {\n",
              "  width: 10em;\n",
              "  height: 80%;\n",
              "  background: linear-gradient(90deg, transparent 17.6%, lightgreen 17.6%, lightgreen 52.6%, transparent 52.6%);\n",
              "}\n",
              "#T_720e5_row7_col0 {\n",
              "  width: 10em;\n",
              "  height: 80%;\n",
              "  background: linear-gradient(90deg, transparent 17.6%, lightgreen 17.6%, lightgreen 44.4%, transparent 44.4%);\n",
              "}\n",
              "#T_720e5_row8_col0 {\n",
              "  width: 10em;\n",
              "  height: 80%;\n",
              "  background: linear-gradient(90deg, transparent 17.6%, lightgreen 17.6%, lightgreen 40.8%, transparent 40.8%);\n",
              "}\n",
              "#T_720e5_row9_col0 {\n",
              "  width: 10em;\n",
              "  height: 80%;\n",
              "  background: linear-gradient(90deg, transparent 17.6%, lightgreen 17.6%, lightgreen 25.8%, transparent 25.8%);\n",
              "}\n",
              "#T_720e5_row10_col0 {\n",
              "  width: 10em;\n",
              "  height: 80%;\n",
              "  background: linear-gradient(90deg, transparent 17.6%, lightgreen 17.6%, lightgreen 25.3%, transparent 25.3%);\n",
              "}\n",
              "#T_720e5_row11_col0 {\n",
              "  width: 10em;\n",
              "  height: 80%;\n",
              "  background: linear-gradient(90deg, transparent 17.6%, lightgreen 17.6%, lightgreen 21.7%, transparent 21.7%);\n",
              "}\n",
              "#T_720e5_row12_col0 {\n",
              "  width: 10em;\n",
              "  height: 80%;\n",
              "  background: linear-gradient(90deg, transparent 17.6%, lightgreen 17.6%, lightgreen 20.6%, transparent 20.6%);\n",
              "}\n",
              "#T_720e5_row13_col0, #T_720e5_row14_col0 {\n",
              "  width: 10em;\n",
              "  height: 80%;\n",
              "  background: linear-gradient(90deg, transparent 17.6%, lightgreen 17.6%, lightgreen 20.0%, transparent 20.0%);\n",
              "}\n",
              "#T_720e5_row15_col0 {\n",
              "  width: 10em;\n",
              "  height: 80%;\n",
              "  background: linear-gradient(90deg, transparent 17.6%, lightgreen 17.6%, lightgreen 18.7%, transparent 18.7%);\n",
              "}\n",
              "#T_720e5_row16_col0 {\n",
              "  width: 10em;\n",
              "  height: 80%;\n",
              "  background: linear-gradient(90deg, transparent 17.6%, lightgreen 17.6%, lightgreen 18.0%, transparent 18.0%);\n",
              "}\n",
              "#T_720e5_row17_col0 {\n",
              "  width: 10em;\n",
              "  height: 80%;\n",
              "  background: linear-gradient(90deg, transparent 14.3%, red 14.3%, red 17.6%, transparent 17.6%);\n",
              "}\n",
              "#T_720e5_row18_col0 {\n",
              "  width: 10em;\n",
              "  height: 80%;\n",
              "  background: linear-gradient(90deg, transparent 5.4%, red 5.4%, red 17.6%, transparent 17.6%);\n",
              "}\n",
              "#T_720e5_row19_col0 {\n",
              "  width: 10em;\n",
              "  height: 80%;\n",
              "  background: linear-gradient(90deg,red 17.6%, transparent 17.6%);\n",
              "}\n",
              "</style>\n",
              "<table id=\"T_720e5_\" class=\"dataframe\">\n",
              "  <thead>\n",
              "    <tr>\n",
              "      <th class=\"blank level0\" >&nbsp;</th>\n",
              "      <th class=\"col_heading level0 col0\" >Correlation</th>\n",
              "    </tr>\n",
              "  </thead>\n",
              "  <tbody>\n",
              "    <tr>\n",
              "      <th id=\"T_720e5_level0_row0\" class=\"row_heading level0 row0\" >OverallScore</th>\n",
              "      <td id=\"T_720e5_row0_col0\" class=\"data row0 col0\" >1.000000</td>\n",
              "    </tr>\n",
              "    <tr>\n",
              "      <th id=\"T_720e5_level0_row1\" class=\"row_heading level0 row1\" >OverallScoreStd</th>\n",
              "      <td id=\"T_720e5_row1_col0\" class=\"data row1 col0\" >0.943589</td>\n",
              "    </tr>\n",
              "    <tr>\n",
              "      <th id=\"T_720e5_level0_row2\" class=\"row_heading level0 row2\" >OverallLevel</th>\n",
              "      <td id=\"T_720e5_row2_col0\" class=\"data row2 col0\" >0.739880</td>\n",
              "    </tr>\n",
              "    <tr>\n",
              "      <th id=\"T_720e5_level0_row3\" class=\"row_heading level0 row3\" >TestAge</th>\n",
              "      <td id=\"T_720e5_row3_col0\" class=\"data row3 col0\" >0.436677</td>\n",
              "    </tr>\n",
              "    <tr>\n",
              "      <th id=\"T_720e5_level0_row4\" class=\"row_heading level0 row4\" >GradeAttendedPct</th>\n",
              "      <td id=\"T_720e5_row4_col0\" class=\"data row4 col0\" >0.427772</td>\n",
              "    </tr>\n",
              "    <tr>\n",
              "      <th id=\"T_720e5_level0_row5\" class=\"row_heading level0 row5\" >GradeEnrolledPct</th>\n",
              "      <td id=\"T_720e5_row5_col0\" class=\"data row5 col0\" >0.425248</td>\n",
              "    </tr>\n",
              "    <tr>\n",
              "      <th id=\"T_720e5_level0_row6\" class=\"row_heading level0 row6\" >GradeLevel</th>\n",
              "      <td id=\"T_720e5_row6_col0\" class=\"data row6 col0\" >0.424732</td>\n",
              "    </tr>\n",
              "    <tr>\n",
              "      <th id=\"T_720e5_level0_row7\" class=\"row_heading level0 row7\" >Growth</th>\n",
              "      <td id=\"T_720e5_row7_col0\" class=\"data row7 col0\" >0.325504</td>\n",
              "    </tr>\n",
              "    <tr>\n",
              "      <th id=\"T_720e5_level0_row8\" class=\"row_heading level0 row8\" >TestInstance</th>\n",
              "      <td id=\"T_720e5_row8_col0\" class=\"data row8 col0\" >0.280874</td>\n",
              "    </tr>\n",
              "    <tr>\n",
              "      <th id=\"T_720e5_level0_row9\" class=\"row_heading level0 row9\" >AttendedPct</th>\n",
              "      <td id=\"T_720e5_row9_col0\" class=\"data row9 col0\" >0.099292</td>\n",
              "    </tr>\n",
              "    <tr>\n",
              "      <th id=\"T_720e5_level0_row10\" class=\"row_heading level0 row10\" >DaysAttended</th>\n",
              "      <td id=\"T_720e5_row10_col0\" class=\"data row10 col0\" >0.092829</td>\n",
              "    </tr>\n",
              "    <tr>\n",
              "      <th id=\"T_720e5_level0_row11\" class=\"row_heading level0 row11\" >School_deID</th>\n",
              "      <td id=\"T_720e5_row11_col0\" class=\"data row11 col0\" >0.049944</td>\n",
              "    </tr>\n",
              "    <tr>\n",
              "      <th id=\"T_720e5_level0_row12\" class=\"row_heading level0 row12\" >TotalAssessments</th>\n",
              "      <td id=\"T_720e5_row12_col0\" class=\"data row12 col0\" >0.035837</td>\n",
              "    </tr>\n",
              "    <tr>\n",
              "      <th id=\"T_720e5_level0_row13\" class=\"row_heading level0 row13\" >ExpectedAttendanceDays</th>\n",
              "      <td id=\"T_720e5_row13_col0\" class=\"data row13 col0\" >0.028257</td>\n",
              "    </tr>\n",
              "    <tr>\n",
              "      <th id=\"T_720e5_level0_row14\" class=\"row_heading level0 row14\" >EnrolledPct</th>\n",
              "      <td id=\"T_720e5_row14_col0\" class=\"data row14 col0\" >0.028257</td>\n",
              "    </tr>\n",
              "    <tr>\n",
              "      <th id=\"T_720e5_level0_row15\" class=\"row_heading level0 row15\" >AcademicYear_2018-2019</th>\n",
              "      <td id=\"T_720e5_row15_col0\" class=\"data row15 col0\" >0.013227</td>\n",
              "    </tr>\n",
              "    <tr>\n",
              "      <th id=\"T_720e5_level0_row16\" class=\"row_heading level0 row16\" >TeacherTotalYearsOfService</th>\n",
              "      <td id=\"T_720e5_row16_col0\" class=\"data row16 col0\" >0.004095</td>\n",
              "    </tr>\n",
              "    <tr>\n",
              "      <th id=\"T_720e5_level0_row17\" class=\"row_heading level0 row17\" >AcademicYear_2017-2018</th>\n",
              "      <td id=\"T_720e5_row17_col0\" class=\"data row17 col0\" >-0.040376</td>\n",
              "    </tr>\n",
              "    <tr>\n",
              "      <th id=\"T_720e5_level0_row18\" class=\"row_heading level0 row18\" >AcademicYear_2019-2020</th>\n",
              "      <td id=\"T_720e5_row18_col0\" class=\"data row18 col0\" >-0.148515</td>\n",
              "    </tr>\n",
              "    <tr>\n",
              "      <th id=\"T_720e5_level0_row19\" class=\"row_heading level0 row19\" >Stu_deID</th>\n",
              "      <td id=\"T_720e5_row19_col0\" class=\"data row19 col0\" >-0.213938</td>\n",
              "    </tr>\n",
              "  </tbody>\n",
              "</table>\n"
            ]
          },
          "metadata": {},
          "execution_count": 28
        }
      ],
      "source": [
        "# Correlation for dummy variables for Overall Score\n",
        "cor = pd.DataFrame(df2.corrwith(df2['OverallScore']))\n",
        "cor.columns = ['Correlation']\n",
        "cor.head(20).sort_values('Correlation', ascending=False).style.bar(align=\"mid\", color=[\"red\", \"lightgreen\"])"
      ]
    },
    {
      "cell_type": "code",
      "execution_count": 29,
      "metadata": {
        "colab": {
          "base_uri": "https://localhost:8080/",
          "height": 677
        },
        "id": "bJf8OhoDnF46",
        "outputId": "9c761565-e3bd-4b7b-d5fd-2931676eea59"
      },
      "outputs": [
        {
          "output_type": "execute_result",
          "data": {
            "text/plain": [
              "<pandas.io.formats.style.Styler at 0x7fddf7a20f90>"
            ],
            "text/html": [
              "<style type=\"text/css\">\n",
              "#T_fb33b_row0_col0 {\n",
              "  width: 10em;\n",
              "  height: 80%;\n",
              "  background: linear-gradient(90deg, transparent 20.5%, lightgreen 20.5%, lightgreen 100.0%, transparent 100.0%);\n",
              "}\n",
              "#T_fb33b_row1_col0 {\n",
              "  width: 10em;\n",
              "  height: 80%;\n",
              "  background: linear-gradient(90deg, transparent 20.5%, lightgreen 20.5%, lightgreen 80.3%, transparent 80.3%);\n",
              "}\n",
              "#T_fb33b_row2_col0 {\n",
              "  width: 10em;\n",
              "  height: 80%;\n",
              "  background: linear-gradient(90deg, transparent 20.5%, lightgreen 20.5%, lightgreen 79.3%, transparent 79.3%);\n",
              "}\n",
              "#T_fb33b_row3_col0 {\n",
              "  width: 10em;\n",
              "  height: 80%;\n",
              "  background: linear-gradient(90deg, transparent 20.5%, lightgreen 20.5%, lightgreen 52.0%, transparent 52.0%);\n",
              "}\n",
              "#T_fb33b_row4_col0 {\n",
              "  width: 10em;\n",
              "  height: 80%;\n",
              "  background: linear-gradient(90deg, transparent 20.5%, lightgreen 20.5%, lightgreen 32.3%, transparent 32.3%);\n",
              "}\n",
              "#T_fb33b_row5_col0 {\n",
              "  width: 10em;\n",
              "  height: 80%;\n",
              "  background: linear-gradient(90deg, transparent 20.5%, lightgreen 20.5%, lightgreen 27.3%, transparent 27.3%);\n",
              "}\n",
              "#T_fb33b_row6_col0 {\n",
              "  width: 10em;\n",
              "  height: 80%;\n",
              "  background: linear-gradient(90deg, transparent 20.5%, lightgreen 20.5%, lightgreen 26.9%, transparent 26.9%);\n",
              "}\n",
              "#T_fb33b_row7_col0, #T_fb33b_row8_col0 {\n",
              "  width: 10em;\n",
              "  height: 80%;\n",
              "  background: linear-gradient(90deg, transparent 20.5%, lightgreen 20.5%, lightgreen 24.3%, transparent 24.3%);\n",
              "}\n",
              "#T_fb33b_row9_col0 {\n",
              "  width: 10em;\n",
              "  height: 80%;\n",
              "  background: linear-gradient(90deg, transparent 20.5%, lightgreen 20.5%, lightgreen 23.9%, transparent 23.9%);\n",
              "}\n",
              "#T_fb33b_row10_col0 {\n",
              "  width: 10em;\n",
              "  height: 80%;\n",
              "  background: linear-gradient(90deg, transparent 20.5%, lightgreen 20.5%, lightgreen 23.4%, transparent 23.4%);\n",
              "}\n",
              "#T_fb33b_row11_col0 {\n",
              "  width: 10em;\n",
              "  height: 80%;\n",
              "  background: linear-gradient(90deg, transparent 20.5%, red 20.5%, red 20.5%, transparent 20.5%);\n",
              "}\n",
              "#T_fb33b_row12_col0 {\n",
              "  width: 10em;\n",
              "  height: 80%;\n",
              "  background: linear-gradient(90deg, transparent 19.5%, red 19.5%, red 20.5%, transparent 20.5%);\n",
              "}\n",
              "#T_fb33b_row13_col0 {\n",
              "  width: 10em;\n",
              "  height: 80%;\n",
              "  background: linear-gradient(90deg, transparent 18.2%, red 18.2%, red 20.5%, transparent 20.5%);\n",
              "}\n",
              "#T_fb33b_row14_col0 {\n",
              "  width: 10em;\n",
              "  height: 80%;\n",
              "  background: linear-gradient(90deg, transparent 18.1%, red 18.1%, red 20.5%, transparent 20.5%);\n",
              "}\n",
              "#T_fb33b_row15_col0 {\n",
              "  width: 10em;\n",
              "  height: 80%;\n",
              "  background: linear-gradient(90deg, transparent 18.0%, red 18.0%, red 20.5%, transparent 20.5%);\n",
              "}\n",
              "#T_fb33b_row16_col0 {\n",
              "  width: 10em;\n",
              "  height: 80%;\n",
              "  background: linear-gradient(90deg, transparent 15.2%, red 15.2%, red 20.5%, transparent 20.5%);\n",
              "}\n",
              "#T_fb33b_row17_col0 {\n",
              "  width: 10em;\n",
              "  height: 80%;\n",
              "  background: linear-gradient(90deg, transparent 13.6%, red 13.6%, red 20.5%, transparent 20.5%);\n",
              "}\n",
              "#T_fb33b_row18_col0 {\n",
              "  width: 10em;\n",
              "  height: 80%;\n",
              "  background: linear-gradient(90deg, transparent 11.0%, red 11.0%, red 20.5%, transparent 20.5%);\n",
              "}\n",
              "#T_fb33b_row19_col0 {\n",
              "  width: 10em;\n",
              "  height: 80%;\n",
              "  background: linear-gradient(90deg,red 20.5%, transparent 20.5%);\n",
              "}\n",
              "</style>\n",
              "<table id=\"T_fb33b_\" class=\"dataframe\">\n",
              "  <thead>\n",
              "    <tr>\n",
              "      <th class=\"blank level0\" >&nbsp;</th>\n",
              "      <th class=\"col_heading level0 col0\" >Correlation</th>\n",
              "    </tr>\n",
              "  </thead>\n",
              "  <tbody>\n",
              "    <tr>\n",
              "      <th id=\"T_fb33b_level0_row0\" class=\"row_heading level0 row0\" >OverallLevel</th>\n",
              "      <td id=\"T_fb33b_row0_col0\" class=\"data row0 col0\" >1.000000</td>\n",
              "    </tr>\n",
              "    <tr>\n",
              "      <th id=\"T_fb33b_level0_row1\" class=\"row_heading level0 row1\" >OverallScoreStd</th>\n",
              "      <td id=\"T_fb33b_row1_col0\" class=\"data row1 col0\" >0.752161</td>\n",
              "    </tr>\n",
              "    <tr>\n",
              "      <th id=\"T_fb33b_level0_row2\" class=\"row_heading level0 row2\" >OverallScore</th>\n",
              "      <td id=\"T_fb33b_row2_col0\" class=\"data row2 col0\" >0.739880</td>\n",
              "    </tr>\n",
              "    <tr>\n",
              "      <th id=\"T_fb33b_level0_row3\" class=\"row_heading level0 row3\" >Growth</th>\n",
              "      <td id=\"T_fb33b_row3_col0\" class=\"data row3 col0\" >0.395979</td>\n",
              "    </tr>\n",
              "    <tr>\n",
              "      <th id=\"T_fb33b_level0_row4\" class=\"row_heading level0 row4\" >AcademicYear_2017-2018</th>\n",
              "      <td id=\"T_fb33b_row4_col0\" class=\"data row4 col0\" >0.147472</td>\n",
              "    </tr>\n",
              "    <tr>\n",
              "      <th id=\"T_fb33b_level0_row5\" class=\"row_heading level0 row5\" >DaysAttended</th>\n",
              "      <td id=\"T_fb33b_row5_col0\" class=\"data row5 col0\" >0.084942</td>\n",
              "    </tr>\n",
              "    <tr>\n",
              "      <th id=\"T_fb33b_level0_row6\" class=\"row_heading level0 row6\" >AttendedPct</th>\n",
              "      <td id=\"T_fb33b_row6_col0\" class=\"data row6 col0\" >0.080637</td>\n",
              "    </tr>\n",
              "    <tr>\n",
              "      <th id=\"T_fb33b_level0_row7\" class=\"row_heading level0 row7\" >ExpectedAttendanceDays</th>\n",
              "      <td id=\"T_fb33b_row7_col0\" class=\"data row7 col0\" >0.046723</td>\n",
              "    </tr>\n",
              "    <tr>\n",
              "      <th id=\"T_fb33b_level0_row8\" class=\"row_heading level0 row8\" >EnrolledPct</th>\n",
              "      <td id=\"T_fb33b_row8_col0\" class=\"data row8 col0\" >0.046723</td>\n",
              "    </tr>\n",
              "    <tr>\n",
              "      <th id=\"T_fb33b_level0_row9\" class=\"row_heading level0 row9\" >School_deID</th>\n",
              "      <td id=\"T_fb33b_row9_col0\" class=\"data row9 col0\" >0.042032</td>\n",
              "    </tr>\n",
              "    <tr>\n",
              "      <th id=\"T_fb33b_level0_row10\" class=\"row_heading level0 row10\" >AcademicYear_2018-2019</th>\n",
              "      <td id=\"T_fb33b_row10_col0\" class=\"data row10 col0\" >0.036051</td>\n",
              "    </tr>\n",
              "    <tr>\n",
              "      <th id=\"T_fb33b_level0_row11\" class=\"row_heading level0 row11\" >TestInstance</th>\n",
              "      <td id=\"T_fb33b_row11_col0\" class=\"data row11 col0\" >-0.000259</td>\n",
              "    </tr>\n",
              "    <tr>\n",
              "      <th id=\"T_fb33b_level0_row12\" class=\"row_heading level0 row12\" >TestAge</th>\n",
              "      <td id=\"T_fb33b_row12_col0\" class=\"data row12 col0\" >-0.013370</td>\n",
              "    </tr>\n",
              "    <tr>\n",
              "      <th id=\"T_fb33b_level0_row13\" class=\"row_heading level0 row13\" >GradeAttendedPct</th>\n",
              "      <td id=\"T_fb33b_row13_col0\" class=\"data row13 col0\" >-0.028851</td>\n",
              "    </tr>\n",
              "    <tr>\n",
              "      <th id=\"T_fb33b_level0_row14\" class=\"row_heading level0 row14\" >GradeEnrolledPct</th>\n",
              "      <td id=\"T_fb33b_row14_col0\" class=\"data row14 col0\" >-0.031160</td>\n",
              "    </tr>\n",
              "    <tr>\n",
              "      <th id=\"T_fb33b_level0_row15\" class=\"row_heading level0 row15\" >GradeLevel</th>\n",
              "      <td id=\"T_fb33b_row15_col0\" class=\"data row15 col0\" >-0.032220</td>\n",
              "    </tr>\n",
              "    <tr>\n",
              "      <th id=\"T_fb33b_level0_row16\" class=\"row_heading level0 row16\" >TeacherTotalYearsOfService</th>\n",
              "      <td id=\"T_fb33b_row16_col0\" class=\"data row16 col0\" >-0.067103</td>\n",
              "    </tr>\n",
              "    <tr>\n",
              "      <th id=\"T_fb33b_level0_row17\" class=\"row_heading level0 row17\" >TotalAssessments</th>\n",
              "      <td id=\"T_fb33b_row17_col0\" class=\"data row17 col0\" >-0.087877</td>\n",
              "    </tr>\n",
              "    <tr>\n",
              "      <th id=\"T_fb33b_level0_row18\" class=\"row_heading level0 row18\" >Stu_deID</th>\n",
              "      <td id=\"T_fb33b_row18_col0\" class=\"data row18 col0\" >-0.120361</td>\n",
              "    </tr>\n",
              "    <tr>\n",
              "      <th id=\"T_fb33b_level0_row19\" class=\"row_heading level0 row19\" >AcademicYear_2019-2020</th>\n",
              "      <td id=\"T_fb33b_row19_col0\" class=\"data row19 col0\" >-0.258510</td>\n",
              "    </tr>\n",
              "  </tbody>\n",
              "</table>\n"
            ]
          },
          "metadata": {},
          "execution_count": 29
        }
      ],
      "source": [
        "# Correlation for dummy variables for Overall Level\n",
        "cor = pd.DataFrame(df2.corrwith(df2['OverallLevel']))\n",
        "cor.columns = ['Correlation']\n",
        "cor.head(20).sort_values('Correlation', ascending=False).style.bar(align=\"mid\", color=[\"red\", \"lightgreen\"])"
      ]
    },
    {
      "cell_type": "markdown",
      "source": [
        "####**CORRELATION MATRIX**"
      ],
      "metadata": {
        "id": "GYdwDm3qoukR"
      }
    },
    {
      "cell_type": "code",
      "execution_count": 30,
      "metadata": {
        "colab": {
          "base_uri": "https://localhost:8080/",
          "height": 739
        },
        "id": "4LeYeGrHnhzE",
        "outputId": "21556588-8f03-4294-da53-04ad020afd16"
      },
      "outputs": [
        {
          "output_type": "execute_result",
          "data": {
            "text/plain": [
              "<matplotlib.axes._subplots.AxesSubplot at 0x7fddf6f38ed0>"
            ]
          },
          "metadata": {},
          "execution_count": 30
        },
        {
          "output_type": "display_data",
          "data": {
            "text/plain": [
              "<Figure size 864x720 with 2 Axes>"
            ],
            "image/png": "[encoded data removed]"
          },
          "metadata": {
            "needs_background": "light"
          }
        }
      ],
      "source": [
        "# Correlation Matrix\n",
        "pearsoncorr = df.corr(method='pearson')\n",
        "\n",
        "plt.figure(figsize= (12,10))\n",
        "\n",
        "sns.heatmap(pearsoncorr,\n",
        "            xticklabels=pearsoncorr.columns,\n",
        "            yticklabels=pearsoncorr.columns,\n",
        "            cmap='coolwarm',\n",
        "            fmt=\".2f\",\n",
        "            annot=True,\n",
        "            linewidth=0.25)"
      ]
    },
    {
      "cell_type": "markdown",
      "source": [
        "There's a strong correlation between GradeEnrolledPact and TestAge, GradeAttendedPct and GradeLevel, OverallScoreStd and OverallScore, AttendedPct and DaysAttended. "
      ],
      "metadata": {
        "id": "Jrsg3_DVqZDA"
      }
    },
    {
      "cell_type": "code",
      "execution_count": 31,
      "metadata": {
        "id": "8mcwpddBqAmE"
      },
      "outputs": [],
      "source": [
        "#Split numerical and categorical dataframes for visualization purpose\n",
        "\n",
        "#for num_df, only extract the useful columns and drop the columns such as 'Stu_deID'\n",
        "\n",
        "num_df = df[['School_deID','GradeLevel','TestAge','OverallLevel','ExpectedAttendanceDays','DaysAttended',\n",
        "           'AttendedPct', 'EnrolledPct' ,'GradeEnrolledPct', 'GradeAttendedPct','TeacherTotalYearsOfService',\n",
        "           'OverallScoreStd','TotalAssessments']]\n",
        "\n",
        "#for cat_df, keep only the suitable features for visualization \n",
        "cat_df = df[['AcademicYear','StudentGender','StudentEthnicity','Special_Education','Homeless','SocioEconomically','TestDayName',\n",
        "           'TeacherGender','TeacherEthnicity']]"
      ]
    },
    {
      "cell_type": "markdown",
      "metadata": {
        "id": "veKdxqPxsnAV"
      },
      "source": [
        "####**DISTRIBUTION BETWEEN CATEGORICAL VARIABLES**"
      ]
    },
    {
      "cell_type": "code",
      "execution_count": 32,
      "metadata": {
        "colab": {
          "base_uri": "https://localhost:8080/",
          "height": 1000
        },
        "id": "xP2f7f_lskR3",
        "outputId": "5a57fa80-43c3-4bab-ba3f-60a5ea1d42a4"
      },
      "outputs": [
        {
          "output_type": "display_data",
          "data": {
            "text/plain": [
              "<Figure size 864x1152 with 9 Axes>"
            ],
            "image/png": "[encoded data removed]"
          },
          "metadata": {
            "needs_background": "light"
          }
        }
      ],
      "source": [
        "fig , ax = plt.subplots(3,3, figsize = (12,16))     # set up 2 x 2 frame count plot with figsize 10 x 10\n",
        "fig.suptitle(\"Distribution of Categorical Features\", fontsize=18)\n",
        "\n",
        "for i , subplots in zip (cat_df, ax.flatten()):\n",
        "  g = sns.countplot(cat_df[i],hue = df['OverallLevel'],ax = subplots, palette = 'CMRmap_r')\n",
        "  g.set_xticklabels(labels=cat_df[i].unique(), rotation= 75)\n",
        "\n",
        "\n",
        "fig.tight_layout(pad= 5.0)\n",
        "plt.legend(loc = 'upper right')\n",
        "plt.show()"
      ]
    },
    {
      "cell_type": "markdown",
      "metadata": {
        "id": "Gjmk6y8ZstNZ"
      },
      "source": [
        "####**DISTRIBUTION PLOTS OF NUMERICAL VARIABLES**\n"
      ]
    },
    {
      "cell_type": "code",
      "execution_count": 51,
      "metadata": {
        "colab": {
          "base_uri": "https://localhost:8080/",
          "height": 1000
        },
        "id": "mTnLUJGEsyc4",
        "outputId": "dc4ec9ff-8622-4c77-aadd-34704069532c"
      },
      "outputs": [
        {
          "output_type": "stream",
          "name": "stderr",
          "text": [
            "WARNING:matplotlib.legend:No handles with labels found to put in legend.\n",
            "WARNING:matplotlib.legend:No handles with labels found to put in legend.\n",
            "WARNING:matplotlib.legend:No handles with labels found to put in legend.\n",
            "WARNING:matplotlib.legend:No handles with labels found to put in legend.\n",
            "WARNING:matplotlib.legend:No handles with labels found to put in legend.\n",
            "WARNING:matplotlib.legend:No handles with labels found to put in legend.\n",
            "WARNING:matplotlib.legend:No handles with labels found to put in legend.\n",
            "WARNING:matplotlib.legend:No handles with labels found to put in legend.\n",
            "WARNING:matplotlib.legend:No handles with labels found to put in legend.\n",
            "WARNING:matplotlib.legend:No handles with labels found to put in legend.\n",
            "WARNING:matplotlib.legend:No handles with labels found to put in legend.\n",
            "WARNING:matplotlib.legend:No handles with labels found to put in legend.\n",
            "WARNING:matplotlib.legend:No handles with labels found to put in legend.\n"
          ]
        },
        {
          "output_type": "display_data",
          "data": {
            "text/plain": [
              "<Figure size 1152x1152 with 13 Axes>"
            ],
            "image/png": "[encoded data removed]"
          },
          "metadata": {
            "needs_background": "light"
          }
        }
      ],
      "source": [
        "fig , ax = plt.subplots(3,3, figsize = (16,16))     \n",
        "fig.suptitle(\"Distribution of Numerical Features\", fontsize=18)\n",
        "\n",
        "for i, column in enumerate(num_df, 1):\n",
        "    plt.subplot(4, 4, i)\n",
        "    sns.distplot(x=num_df[column], color = 'blue') \n",
        "    plt.legend() \n",
        "    plt.xlabel(column)\n",
        "    fig.tight_layout(pad=4.0)"
      ]
    },
    {
      "cell_type": "markdown",
      "source": [
        "####**DISTRIBUTION OF OVERALLEVEL BY GRADE AND TOTAL ASSESSMENTS**"
      ],
      "metadata": {
        "id": "dk7yTuP0o4-g"
      }
    },
    {
      "cell_type": "code",
      "execution_count": 34,
      "metadata": {
        "colab": {
          "base_uri": "https://localhost:8080/",
          "height": 650
        },
        "id": "MOMVwys8mUX0",
        "outputId": "3c939212-0f26-4007-d4a0-b904c1b64d97"
      },
      "outputs": [
        {
          "output_type": "stream",
          "name": "stdout",
          "text": [
            "TotalAssessments    1    2    3    4    5\n",
            "OverallLevel                             \n",
            "1                 349  333  324  359  322\n",
            "2                 489  496  563  655  578\n",
            "3                 568  641  731  842  649\n",
            "4                 481  354  323  272  131\n"
          ]
        },
        {
          "output_type": "display_data",
          "data": {
            "text/plain": [
              "<Figure size 432x288 with 0 Axes>"
            ]
          },
          "metadata": {}
        },
        {
          "output_type": "display_data",
          "data": {
            "text/plain": [
              "<Figure size 576x576 with 1 Axes>"
            ],
            "image/png": "[encoded data removed]"
          },
          "metadata": {
            "needs_background": "light"
          }
        }
      ],
      "source": [
        "#Crosstab for Student scores by Grade Level\n",
        "test_assessments = test =  pd.crosstab(index=df.OverallLevel, columns=df.TotalAssessments)\n",
        "print(test_assessments)\n",
        "#plot the figure\n",
        "fig1 = plt.figure()\n",
        "temp = test_assessments.plot.bar(colormap=\"terrain\", fontsize=16, figsize=(8,8), rot=0) #https://matplotlib.org/stable/tutorials/colors/colormaps.html#sequential\n",
        "temp = plt.title('Student scores by Grade Level', fontsize=20)\n",
        "temp = plt.ylabel('Count by Grade ', fontsize=16)\n",
        "temp = plt.xlabel('Overall Level', fontsize=16)"
      ]
    },
    {
      "cell_type": "markdown",
      "metadata": {
        "id": "pVTBaykctP5t"
      },
      "source": [
        "####**DISTRIBUTION OF OVERALLEVEL BY GRADE AND GRADE LEVEL**"
      ]
    },
    {
      "cell_type": "code",
      "execution_count": 35,
      "metadata": {
        "colab": {
          "base_uri": "https://localhost:8080/",
          "height": 650
        },
        "id": "6CwZTiqKtMum",
        "outputId": "9e344f14-601f-4b34-b9e6-dcec043b5537"
      },
      "outputs": [
        {
          "output_type": "stream",
          "name": "stdout",
          "text": [
            "GradeLevel      0    1    2    3    4    5    6\n",
            "OverallLevel                                   \n",
            "1             202  252  160  384  272  167  250\n",
            "2             480  394  377  537  379  321  293\n",
            "3             476  369  600  542  622  500  322\n",
            "4             199  238  395  178  219  220  112\n"
          ]
        },
        {
          "output_type": "display_data",
          "data": {
            "text/plain": [
              "<Figure size 432x288 with 0 Axes>"
            ]
          },
          "metadata": {}
        },
        {
          "output_type": "display_data",
          "data": {
            "text/plain": [
              "<Figure size 576x576 with 1 Axes>"
            ],
            "image/png": "[encoded data removed]"
          },
          "metadata": {
            "needs_background": "light"
          }
        }
      ],
      "source": [
        "#Crosstab for Student scores by Grade Level\n",
        "test =  pd.crosstab(index=df.OverallLevel, columns=df.GradeLevel)\n",
        "print(test)\n",
        "#plot the figure\n",
        "fig = plt.figure()\n",
        "temp = test.plot.bar(colormap=\"terrain\", fontsize=16, figsize=(8,8), rot=0) #https://matplotlib.org/stable/tutorials/colors/colormaps.html#sequential\n",
        "temp = plt.title('Student scores by Grade Level', fontsize=20)\n",
        "temp = plt.ylabel('Count by Grade ', fontsize=16)\n",
        "temp = plt.xlabel('Overall Level', fontsize=16)"
      ]
    },
    {
      "cell_type": "markdown",
      "metadata": {
        "id": "Ah54xespDrcO"
      },
      "source": [
        "###**FEATURE ENGINEERING**"
      ]
    },
    {
      "cell_type": "markdown",
      "metadata": {
        "id": "wm2twkWbs8EL"
      },
      "source": [
        "####**DISTRIBUTION OF TARGET CLASSES: OVERALLLEVEL**\n"
      ]
    },
    {
      "cell_type": "code",
      "execution_count": 36,
      "metadata": {
        "colab": {
          "base_uri": "https://localhost:8080/",
          "height": 296
        },
        "id": "cqlZwFY6s2Qs",
        "outputId": "dc43489d-8e19-421a-d407-faf0b709f7c2"
      },
      "outputs": [
        {
          "output_type": "execute_result",
          "data": {
            "text/plain": [
              "<matplotlib.axes._subplots.AxesSubplot at 0x7fddf18fb690>"
            ]
          },
          "metadata": {},
          "execution_count": 36
        },
        {
          "output_type": "display_data",
          "data": {
            "text/plain": [
              "<Figure size 432x288 with 1 Axes>"
            ],
            "image/png": "[encoded data removed]"
          },
          "metadata": {
            "needs_background": "light"
          }
        }
      ],
      "source": [
        "fig_szie=(12,8)\n",
        "sns.countplot(df['OverallLevel'], data = df, palette = 'rainbow_r')"
      ]
    },
    {
      "cell_type": "markdown",
      "metadata": {
        "id": "AolNWuj4CwY_"
      },
      "source": [
        "A slight class-imbalance was observed amaong the scores.\n",
        "\n",
        "Upsampling will be performed for level 1,2, 4 as reference to level 3 count.\n",
        "\n",
        "A new data balanced dataset named 'bal_df' will be trained with models to see the accuracy performance improvement. \n"
      ]
    },
    {
      "cell_type": "code",
      "execution_count": 37,
      "metadata": {
        "id": "8h4JXY-nCruZ"
      },
      "outputs": [],
      "source": [
        "#split four different datasets for downsampling\n",
        "\n",
        "lev_0 = df[df['OverallLevel'] == 0]\n",
        "lev_1 = df[df['OverallLevel'] == 1]\n",
        "lev_2 = df[df['OverallLevel'] == 2]\n",
        "lev_3 = df[df['OverallLevel'] == 3]\n",
        "lev_4 = df[df['OverallLevel'] == 4]"
      ]
    },
    {
      "cell_type": "code",
      "execution_count": 38,
      "metadata": {
        "id": "lP4Q2qi7C7Ur"
      },
      "outputs": [],
      "source": [
        "lev1_upsample = resample(lev_1,replace=True,n_samples=len(lev_3),random_state=42)\n",
        "lev2_upsample = resample(lev_2,replace=True,n_samples=len(lev_3),random_state=42)\n",
        "lev4_upsample = resample(lev_4,replace=True,n_samples=len(lev_3),random_state=42)"
      ]
    },
    {
      "cell_type": "code",
      "execution_count": 39,
      "metadata": {
        "colab": {
          "base_uri": "https://localhost:8080/",
          "height": 296
        },
        "id": "Z5zTpXhOC-32",
        "outputId": "e331cf71-f793-4e97-a4a0-7a815e5f9413"
      },
      "outputs": [
        {
          "output_type": "execute_result",
          "data": {
            "text/plain": [
              "<matplotlib.axes._subplots.AxesSubplot at 0x7fddf12e4e50>"
            ]
          },
          "metadata": {},
          "execution_count": 39
        },
        {
          "output_type": "display_data",
          "data": {
            "text/plain": [
              "<Figure size 432x288 with 1 Axes>"
            ],
            "image/png": "[encoded data removed]"
          },
          "metadata": {
            "needs_background": "light"
          }
        }
      ],
      "source": [
        "#create a new dataframe with balanced datasets\n",
        "\n",
        "frames = (lev1_upsample, lev2_upsample, lev_3, lev4_upsample)\n",
        "bal_df = pd.concat(frames)\n",
        "\n",
        "fig_szie=(12,8)\n",
        "sns.countplot(bal_df['OverallLevel'], data = bal_df, palette = 'rainbow_r')"
      ]
    },
    {
      "cell_type": "markdown",
      "metadata": {
        "id": "o6yWvDCXDYt3"
      },
      "source": [
        "###**FEATURE ENGINEERING TO DO LISTS**\n",
        "\n",
        "According to the data visualization plots, here are the steps for feature engineering.\n",
        "\n",
        "GradeEnrolledPct, AttendedPct will be dropped from the data frame to avoid multicollinearity.\n",
        "\n",
        "TestAge is the student's age on the date of the ELPAC test. For example, for record #1, the student was born on 7/4/2011 and student is 11 year old. TestAge of the student is 6.828340. Since GradeLevel and TestAge are highly correlated and age column was also populated, it's safe to drop the TestAge to avoid multicollinearity.\n",
        "\n",
        "Other insignificant columns such as 'AcademicYear', 'Stu_deID', 'DOB', 'TestDate' will also be dropped.\n",
        "\n",
        "Unique value X in 'StudentGender' will be replaced with the mode of each feature column for each train and test data set to avoid data leakage.\n",
        "\n",
        "Label-encoding will be performed for categorical variables.\n",
        "\n",
        "Dataset will be split into Train and test dataset."
      ]
    },
    {
      "cell_type": "code",
      "execution_count": 40,
      "metadata": {
        "id": "lcaeqhMDDxt-"
      },
      "outputs": [],
      "source": [
        "new_df = df.drop(columns = ['AcademicYear','Stu_deID','DOB','TestAge','GradeEnrolledPct',\n",
        "                             'AttendedPct','TestDate'])"
      ]
    },
    {
      "cell_type": "code",
      "execution_count": 41,
      "metadata": {
        "colab": {
          "base_uri": "https://localhost:8080/"
        },
        "id": "ofDtkTzxGPvX",
        "outputId": "093e8ab2-82bf-4545-b67f-721b46f26e77"
      },
      "outputs": [
        {
          "output_type": "stream",
          "name": "stdout",
          "text": [
            "0    M\n",
            "dtype: object\n"
          ]
        }
      ],
      "source": [
        "##replace X value from StudentGender with Mode value for StudentGender column\n",
        "print(new_df['StudentGender'].mode())\n",
        "new_df['StudentGender'] = new_df['StudentGender'].replace(to_replace = 'M', value = 'X') #replace X value with mode\n"
      ]
    },
    {
      "cell_type": "markdown",
      "metadata": {
        "id": "WytZT4R2GbAD"
      },
      "source": [
        "###**LABEL-ENCODING FOR CATEGORICAL VARIABLES**"
      ]
    },
    {
      "cell_type": "code",
      "execution_count": 42,
      "metadata": {
        "id": "MjOuZrEEGdTd"
      },
      "outputs": [],
      "source": [
        "cat_columns = ['StudentGender','StudentEthnicity','Special_Education','Homeless','SocioEconomically',\n",
        "               'TestDayName','TeacherGender','TeacherEthnicity']"
      ]
    },
    {
      "cell_type": "code",
      "execution_count": 43,
      "metadata": {
        "id": "ZvTRFdsrGhfo"
      },
      "outputs": [],
      "source": [
        "from sklearn.preprocessing import LabelEncoder\n",
        "\n",
        "#Train dataset\n",
        "label_encoders = {}\n",
        "for column in cat_columns:\n",
        "  label_encoders[column] = LabelEncoder()\n",
        "  new_df[column] = label_encoders[column].fit_transform(new_df[column])"
      ]
    },
    {
      "cell_type": "markdown",
      "metadata": {
        "id": "OOqoFd-HmUX2"
      },
      "source": [
        "####**DATA DICTIONARY FOR LABEL-ENCODER VALUES** "
      ]
    },
    {
      "cell_type": "code",
      "execution_count": 44,
      "metadata": {
        "colab": {
          "base_uri": "https://localhost:8080/"
        },
        "id": "0xI_lguYmUX2",
        "outputId": "0d30f6b4-5382-46e1-d8ef-179d9906c298"
      },
      "outputs": [
        {
          "output_type": "execute_result",
          "data": {
            "text/plain": [
              "TeacherEthnicity           le\n",
              "Asian                      0      332\n",
              "Black/African Am           1       46\n",
              "Filipino                   2      516\n",
              "Hispanic                   3     5387\n",
              "Missing                    4       18\n",
              "Multiple                   5        8\n",
              "Nat Hwiin/Othr Pac Islndr  6       16\n",
              "White                      7     3137\n",
              "dtype: int64"
            ]
          },
          "metadata": {},
          "execution_count": 44
        }
      ],
      "source": [
        "# TeacherEthnicity - description and label encoder value\n",
        "TeacherEthnicity = pd.concat([df.TeacherEthnicity, new_df.TeacherEthnicity], axis=1)\n",
        "TeacherEthnicity.columns = ['TeacherEthnicity', 'le']\n",
        "TeacherEthnicity.value_counts().sort_index()"
      ]
    },
    {
      "cell_type": "code",
      "execution_count": 45,
      "metadata": {
        "colab": {
          "base_uri": "https://localhost:8080/"
        },
        "id": "gTlEnIDUmUX3",
        "outputId": "6d511ebf-22f1-4e4a-8a81-64bfcded7a44"
      },
      "outputs": [
        {
          "output_type": "execute_result",
          "data": {
            "text/plain": [
              "TestDayName  le\n",
              "Friday       0     1884\n",
              "Monday       1     1564\n",
              "Saturday     2       23\n",
              "Sunday       3       12\n",
              "Thursday     4     1883\n",
              "Tuesday      5     1936\n",
              "Wednesday    6     2158\n",
              "dtype: int64"
            ]
          },
          "metadata": {},
          "execution_count": 45
        }
      ],
      "source": [
        "# TestDayName - description and label encoder value\n",
        "TestDayName = pd.concat([df.TestDayName, new_df.TestDayName], axis=1)\n",
        "TestDayName.columns = ['TestDayName', 'le']\n",
        "TestDayName.value_counts().sort_index()"
      ]
    },
    {
      "cell_type": "code",
      "execution_count": 46,
      "metadata": {
        "colab": {
          "base_uri": "https://localhost:8080/"
        },
        "id": "cBLHD7hXmUX3",
        "outputId": "372fb720-d9c0-4627-ece6-a6325558b534"
      },
      "outputs": [
        {
          "output_type": "execute_result",
          "data": {
            "text/plain": [
              "StudentEthnicity           le\n",
              "Am Indian/Alskn Nat        0        1\n",
              "Asian                      1      130\n",
              "Black/African Am           2       25\n",
              "Filipino                   3      595\n",
              "Hispanic                   4     8544\n",
              "Missing                    5       32\n",
              "Multiple                   6       40\n",
              "Nat Hwiin/Othr Pac Islndr  7       13\n",
              "White                      8       80\n",
              "dtype: int64"
            ]
          },
          "metadata": {},
          "execution_count": 46
        }
      ],
      "source": [
        "# StudentEthnicity - description and label encoder value\n",
        "StudentEthnicity = pd.concat([df.StudentEthnicity, new_df.StudentEthnicity], axis=1)\n",
        "StudentEthnicity.columns = ['StudentEthnicity', 'le']\n",
        "StudentEthnicity.value_counts().sort_index()"
      ]
    },
    {
      "cell_type": "code",
      "execution_count": 47,
      "metadata": {
        "colab": {
          "base_uri": "https://localhost:8080/"
        },
        "id": "FLxnd9vZmUX3",
        "outputId": "052aa77e-91c4-4983-e9fa-ac05b0623c63"
      },
      "outputs": [
        {
          "output_type": "execute_result",
          "data": {
            "text/plain": [
              "TeacherGender  le\n",
              "F              0     8573\n",
              "M              1      887\n",
              "dtype: int64"
            ]
          },
          "metadata": {},
          "execution_count": 47
        }
      ],
      "source": [
        "# TeacherGender - description and label encoder value\n",
        "TeacherGender = pd.concat([df.TeacherGender, new_df.TeacherGender], axis=1)\n",
        "TeacherGender.columns = ['TeacherGender', 'le']\n",
        "TeacherGender.value_counts().sort_index()"
      ]
    },
    {
      "cell_type": "code",
      "execution_count": 48,
      "metadata": {
        "colab": {
          "base_uri": "https://localhost:8080/"
        },
        "id": "meTr1VWNmUX3",
        "outputId": "c50ea395-35f1-4a01-8003-f96a150707c2"
      },
      "outputs": [
        {
          "output_type": "execute_result",
          "data": {
            "text/plain": [
              "Special_Education  le\n",
              "N                  0     8234\n",
              "Y                  1     1226\n",
              "dtype: int64"
            ]
          },
          "metadata": {},
          "execution_count": 48
        }
      ],
      "source": [
        "# Special_Education - description and label encoder value\n",
        "Special_Education = pd.concat([df.Special_Education, new_df.Special_Education], axis=1)\n",
        "Special_Education.columns = ['Special_Education', 'le']\n",
        "Special_Education.value_counts().sort_index()"
      ]
    },
    {
      "cell_type": "code",
      "execution_count": 49,
      "metadata": {
        "id": "Y5xo1U-8mUX3"
      },
      "outputs": [],
      "source": [
        "# # Save a version of the clean file\n",
        "# new_df.to_csv('/Users/oscargil/Desktop/ADS-599B/Data Folder/new_elpac.csv', encoding='utf-8', index=False)"
      ]
    },
    {
      "cell_type": "markdown",
      "metadata": {
        "id": "p189FOZKCXfz"
      },
      "source": [
        "###**DATA PARTITIONING**\n",
        "\n",
        "Split dataset into 70% train and 30% test datasets.  "
      ]
    },
    {
      "cell_type": "code",
      "execution_count": 50,
      "metadata": {
        "colab": {
          "base_uri": "https://localhost:8080/"
        },
        "id": "FqEZ4eNmCYdZ",
        "outputId": "a66b73db-035b-4e41-8758-bbc41ca790f2"
      },
      "outputs": [
        {
          "output_type": "stream",
          "name": "stdout",
          "text": [
            "(6622, 20) (6622, 1) (2838, 20) (2838, 1)\n"
          ]
        }
      ],
      "source": [
        "from sklearn.model_selection import train_test_split\n",
        "\n",
        "X = new_df.loc[ : , new_df.columns != 'OverallLevel']\n",
        "y = new_df[['OverallLevel']]\n",
        "\n",
        "X_train, X_test, y_train, y_test = train_test_split(X,y,random_state=700, test_size=0.30)\n",
        "print(X_train.shape, y_train.shape, X_test.shape, y_test.shape)"
      ]
    },
    {
      "cell_type": "markdown",
      "metadata": {
        "id": "DsN-UlnWIB_L"
      },
      "source": [
        "###**Now the train and test dataset are ready for modelings.**"
      ]
    }
  ],
  "metadata": {
    "colab": {
      "provenance": []
    },
    "kernelspec": {
      "display_name": "Python 3.9.1 ('ADS500B')",
      "language": "python",
      "name": "python3"
    },
    "language_info": {
      "codemirror_mode": {
        "name": "ipython",
        "version": 3
      },
      "file_extension": ".py",
      "mimetype": "text/x-python",
      "name": "python",
      "nbconvert_exporter": "python",
      "pygments_lexer": "ipython3",
      "version": "3.9.1"
    },
    "vscode": {
      "interpreter": {
        "hash": "1d26887a0ce0c3c4488c5c94af6ff26a975a652bca174f379a81267199556a29"
      }
    }
  },
  "nbformat": 4,
  "nbformat_minor": 0
}