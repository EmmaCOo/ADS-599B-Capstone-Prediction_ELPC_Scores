{
 "cells": [
  {
   "cell_type": "code",
   "execution_count": 2,
   "metadata": {},
   "outputs": [],
   "source": [
    "import pandas as pd\n",
    "pd.set_option('display.max_rows', 500)\n",
    "pd.set_option('display.max_columns', 500)\n",
    "pd.set_option('display.width', 1000)\n",
    "\n",
    "import numpy as np\n",
    "import datetime\n",
    "import sqlite3"
   ]
  },
  {
   "cell_type": "code",
   "execution_count": 3,
   "metadata": {},
   "outputs": [],
   "source": [
    "ELPAC_file_path = 'Raw_Files/ELPAC.xlsx'"
   ]
  },
  {
   "cell_type": "markdown",
   "metadata": {},
   "source": [
    "#### Import files from Excel file, got from information provided to i-TAPP as it was all within one Excel spreadsheet"
   ]
  },
  {
   "cell_type": "code",
   "execution_count": 4,
   "metadata": {},
   "outputs": [],
   "source": [
    "# Import ELPAC data into dataframes\n",
    "elpac1718 = pd.read_excel(open(ELPAC_file_path, 'rb'), sheet_name='2017-2018', dtype=str)\n",
    "\n",
    "\n",
    "# Drop identified columns\n",
    "elpac1718.drop(elpac1718.columns[[0, 1, 5, 7, 8, 9, 10]], axis=1, inplace=True)"
   ]
  },
  {
   "cell_type": "code",
   "execution_count": 5,
   "metadata": {},
   "outputs": [],
   "source": [
    "# Import ELPAC data into dataframes\n",
    "elpac1819 = pd.read_excel(open(ELPAC_file_path, 'rb'), sheet_name='2018-2019', dtype=str)\n",
    "\n",
    "\n",
    "# Drop identified columns\n",
    "elpac1819.drop(elpac1819.columns[[0, 1, 5, 7, 8, 9, 10]], axis=1, inplace=True)"
   ]
  },
  {
   "cell_type": "code",
   "execution_count": 6,
   "metadata": {},
   "outputs": [],
   "source": [
    "# Import ELPAC data into dataframes\n",
    "elpac1920 = pd.read_excel(open(ELPAC_file_path, 'rb'), sheet_name='2019-2020', dtype=str)\n",
    "\n",
    "\n",
    "# Drop identified columns\n",
    "elpac1920.drop(elpac1920.columns[[0, 1, 5, 7, 8, 9, 10]], axis=1, inplace=True)"
   ]
  },
  {
   "cell_type": "code",
   "execution_count": 7,
   "metadata": {},
   "outputs": [],
   "source": [
    "# Import ELPAC data into dataframes\n",
    "elpac2021 = pd.read_excel(open(ELPAC_file_path, 'rb'), sheet_name='2020-2021', dtype=str)\n",
    "\n",
    "\n",
    "# Drop identified columns\n",
    "elpac2021.drop(elpac2021.columns[[0, 1, 6, 8, 9, 10, 11]], axis=1, inplace=True)"
   ]
  },
  {
   "cell_type": "code",
   "execution_count": 8,
   "metadata": {},
   "outputs": [],
   "source": [
    "# Import ELPAC data into dataframes\n",
    "elpac2122 = pd.read_excel(open(ELPAC_file_path, 'rb'), sheet_name='2021-2022', dtype=str)\n",
    "\n",
    "\n",
    "# Drop identified columns\n",
    "elpac2122.drop(elpac2122.columns[[1, 5, 7, 8, 9, 17, 19, 21, 54, 55, 56, 57, 58, 61, 62, 63, 64, 70, 71, 72, 73, 79, 80, 81, 82, 88, 89, 90, 91, 97, 98, 99, 100]], axis=1, inplace=True)"
   ]
  },
  {
   "cell_type": "markdown",
   "metadata": {},
   "source": [
    "#### Create a unique list of all SSIDs and assign them the Pandas Dataframe index number as their de-identified number"
   ]
  },
  {
   "cell_type": "code",
   "execution_count": 9,
   "metadata": {},
   "outputs": [],
   "source": [
    "# Create data frame of SSIDs to de-identify\n",
    "ssids = pd.DataFrame(pd.concat([elpac1718.elpac_2018_ssid, elpac1819.elpac_2019_ssid, elpac1920.elpac_2020_ssid, elpac2021.elpac_2021_ssid, elpac2122.SSID], axis=0))\n",
    "\n",
    "# Unique SSID values\n",
    "ssid_deidentify = pd.DataFrame(ssids[0].unique())\n",
    "\n",
    "ssid_deidentify.columns = ['SSID']\n",
    "\n",
    "# Assign Data frame index as de-identified ID\n",
    "ssid_deidentify['Stu_deID'] =  ssid_deidentify.index"
   ]
  },
  {
   "cell_type": "code",
   "execution_count": 10,
   "metadata": {},
   "outputs": [],
   "source": [
    "# Create local file to have as reference to Stu_deID\n",
    "ssid_deidentify.to_csv('Raw_Files/ssid_deidentify.csv', encoding='utf-8', index=False)"
   ]
  },
  {
   "cell_type": "markdown",
   "metadata": {},
   "source": [
    "#### Merge de-identified ID into ELPAC dataframes, then dropped the SSID field containing the real values"
   ]
  },
  {
   "cell_type": "code",
   "execution_count": 11,
   "metadata": {},
   "outputs": [],
   "source": [
    "# Merge in de-identier\n",
    "elpac1718 = elpac1718.merge(ssid_deidentify, how=\"inner\", left_on='elpac_2018_ssid', right_on='SSID')\n",
    "\n",
    "# Drop SSID columns\n",
    "elpac1718.drop(elpac1718.columns[[3, 57]], axis=1, inplace=True)"
   ]
  },
  {
   "cell_type": "code",
   "execution_count": 12,
   "metadata": {},
   "outputs": [],
   "source": [
    "# Merge in de-identier\n",
    "elpac1819 = elpac1819.merge(ssid_deidentify, how=\"inner\", left_on='elpac_2019_ssid', right_on='SSID')\n",
    "\n",
    "# Drop SSID columns\n",
    "elpac1819.drop(elpac1819.columns[[3, 54]], axis=1, inplace=True)"
   ]
  },
  {
   "cell_type": "code",
   "execution_count": 13,
   "metadata": {},
   "outputs": [],
   "source": [
    "# Merge in de-identier\n",
    "elpac1920 = elpac1920.merge(ssid_deidentify, how=\"inner\", left_on='elpac_2020_ssid', right_on='SSID')\n",
    "\n",
    "# Drop SSID columns\n",
    "elpac1920.drop(elpac1920.columns[[3, 79]], axis=1, inplace=True)"
   ]
  },
  {
   "cell_type": "code",
   "execution_count": 14,
   "metadata": {},
   "outputs": [],
   "source": [
    "# Merge in de-identier\n",
    "elpac2021 = elpac2021.merge(ssid_deidentify, how=\"inner\", left_on='elpac_2021_ssid', right_on='SSID')\n",
    "\n",
    "# Drop SSID columns\n",
    "elpac2021.drop(elpac2021.columns[[4, 120]], axis=1, inplace=True)"
   ]
  },
  {
   "cell_type": "code",
   "execution_count": 15,
   "metadata": {},
   "outputs": [],
   "source": [
    "# Merge in de-identier\n",
    "elpac2122 = elpac2122.merge(ssid_deidentify, how=\"inner\", left_on='SSID', right_on='SSID')\n",
    "\n",
    "# Drop SSID columns\n",
    "elpac2122.drop(elpac2122.columns[[3]], axis=1, inplace=True)"
   ]
  },
  {
   "cell_type": "markdown",
   "metadata": {},
   "source": [
    "### De-identify school and district name"
   ]
  },
  {
   "cell_type": "markdown",
   "metadata": {},
   "source": [
    "#### School"
   ]
  },
  {
   "cell_type": "code",
   "execution_count": 16,
   "metadata": {},
   "outputs": [],
   "source": [
    "# Unique Schoolname values - only present in the 2021-2022 file\n",
    "schools_deidentify = pd.DataFrame(elpac2122.CALPADSSchoolName.unique())\n",
    "\n",
    "schools_deidentify.columns = ['SchoolName']\n",
    "\n",
    "# Assign Data frame index as de-identified ID\n",
    "schools_deidentify['School_deID'] =  schools_deidentify.index"
   ]
  },
  {
   "cell_type": "code",
   "execution_count": 17,
   "metadata": {},
   "outputs": [],
   "source": [
    "# Merge in de-identier\n",
    "elpac2122 = elpac2122.merge(schools_deidentify, how=\"inner\", left_on='CALPADSSchoolName', right_on='SchoolName')\n",
    "\n",
    "# Drop school name columns\n",
    "elpac2122.drop(elpac2122.columns[[12, 337]], axis=1, inplace=True)"
   ]
  },
  {
   "cell_type": "code",
   "execution_count": 18,
   "metadata": {},
   "outputs": [],
   "source": [
    "# Create local file to have as reference to School_deID\n",
    "schools_deidentify.to_csv('Raw_Files/schools_deidentify.csv', encoding='utf-8', index=False)"
   ]
  },
  {
   "cell_type": "markdown",
   "metadata": {},
   "source": [
    "#### District"
   ]
  },
  {
   "cell_type": "code",
   "execution_count": 19,
   "metadata": {},
   "outputs": [],
   "source": [
    "# Unique distrcit values - only present in the 2021-2022 file\n",
    "district_deidentify = pd.DataFrame(elpac2122.CALPADSDistrictName.unique())\n",
    "\n",
    "district_deidentify.columns = ['DistrictName']\n",
    "\n",
    "# Assign Data frame index as de-identified ID\n",
    "district_deidentify['District_deID'] =  district_deidentify.index"
   ]
  },
  {
   "cell_type": "code",
   "execution_count": 20,
   "metadata": {},
   "outputs": [],
   "source": [
    "# Merge in de-identier\n",
    "elpac2122 = elpac2122.merge(district_deidentify, how=\"inner\", left_on='CALPADSDistrictName', right_on='DistrictName')\n",
    "\n",
    "# Drop school name columns\n",
    "elpac2122.drop(elpac2122.columns[[11, 337]], axis=1, inplace=True)"
   ]
  },
  {
   "cell_type": "code",
   "execution_count": 21,
   "metadata": {},
   "outputs": [],
   "source": [
    "# Create local file to have as reference to District_deID\n",
    "district_deidentify.to_csv('Raw_Files/district_deidentify.csv', encoding='utf-8', index=False)"
   ]
  },
  {
   "cell_type": "markdown",
   "metadata": {},
   "source": [
    "### Add AcademicYear column to each file, to join into attendance files"
   ]
  },
  {
   "cell_type": "code",
   "execution_count": 22,
   "metadata": {},
   "outputs": [],
   "source": [
    "# Add AcademicYear column\n",
    "elpac1718['AcademicYear'] = '2017-2018'\n",
    "elpac1819['AcademicYear'] = '2018-2019'\n",
    "elpac1920['AcademicYear'] = '2019-2020'\n",
    "elpac2021['AcademicYear'] = '2020-2021'\n",
    "elpac2122['AcademicYear'] = '2021-2022'"
   ]
  },
  {
   "cell_type": "markdown",
   "metadata": {},
   "source": [
    "### Identify features to keep from ELPAC files"
   ]
  },
  {
   "cell_type": "code",
   "execution_count": 23,
   "metadata": {},
   "outputs": [],
   "source": [
    "# Subset ELPAC files\n",
    "elpac1718 = elpac1718.iloc[:,[56, 57, 3, 4, 7, 10, 11]]\n",
    "elpac1819 = elpac1819.iloc[:,[53, 54, 3, 4, 7, 10, 11]]\n",
    "elpac1920 = elpac1920.iloc[:,[78, 79, 3, 6, 7, 8, 9]]\n",
    "elpac2021 = elpac2021.iloc[:,[119, 120, 4, 5, 8, 9, 10]]\n",
    "elpac2122 = elpac2122[['Stu_deID', 'AcademicYear','DateofBirth', 'CALPADSGrade', 'FinalTestCompletedDate', 'OverallScaleScore', 'OverallPL']]\n",
    "\n",
    "# Rename columns\n",
    "elpac_columns = ['Stu_deID', 'AcademicYear', 'DOB', 'GradeLevel', 'TestDate', 'OverallScore', 'OverallLevel']\n",
    "\n",
    "elpac1718.columns = elpac_columns\n",
    "elpac1819.columns = elpac_columns\n",
    "elpac1920.columns = elpac_columns\n",
    "elpac2021.columns = elpac_columns\n",
    "elpac2122.columns = elpac_columns"
   ]
  },
  {
   "cell_type": "code",
   "execution_count": 24,
   "metadata": {},
   "outputs": [],
   "source": [
    "# Data conversions - DOB to datetime\n",
    "elpac1718['DOB'] = pd.to_datetime(elpac1718['DOB'])\n",
    "elpac1819['DOB'] = pd.to_datetime(elpac1819['DOB'])\n",
    "elpac1920['DOB'] = pd.to_datetime(elpac1920['DOB'])\n",
    "elpac2021['DOB'] = pd.to_datetime(elpac2021['DOB'])\n",
    "elpac2122['DOB'] = pd.to_datetime(elpac2122['DOB'])"
   ]
  },
  {
   "cell_type": "code",
   "execution_count": 25,
   "metadata": {},
   "outputs": [],
   "source": [
    "# Data conversions - TestDate to datetime\n",
    "elpac1718['TestDate'] = pd.to_datetime(elpac1718['TestDate'])\n",
    "elpac1819['TestDate'] = pd.to_datetime(elpac1819['TestDate'])\n",
    "elpac1920['TestDate'] = pd.to_datetime(elpac1920['TestDate'])\n",
    "elpac2021['TestDate'] = pd.to_datetime(elpac2021['TestDate'])\n",
    "elpac2122['TestDate'] = pd.to_datetime(elpac2122['TestDate'])"
   ]
  },
  {
   "cell_type": "code",
   "execution_count": 26,
   "metadata": {},
   "outputs": [],
   "source": [
    "# Data conversions - GradeLevel clean up, eliminate extra zero, convert KN to 0\n",
    "elpac1718['GradeLevel'] = elpac1718.GradeLevel.replace('KN', '0').astype(int)\n",
    "elpac1819['GradeLevel'] = elpac1819.GradeLevel.replace('KN', '0').astype(int)\n",
    "elpac1920['GradeLevel'] = elpac1920.GradeLevel.replace('KN', '0').astype(int)\n",
    "elpac2021['GradeLevel'] = elpac2021.GradeLevel.replace('KN', '0').astype(int)\n",
    "elpac2122['GradeLevel'] = elpac2122.GradeLevel.replace('KN', '0').astype(int)"
   ]
  },
  {
   "cell_type": "code",
   "execution_count": 27,
   "metadata": {},
   "outputs": [],
   "source": [
    "elpac1718['OverallScore'] = elpac1718.OverallScore.replace('NS',0).fillna(0).astype(int)\n",
    "elpac1819['OverallScore'] = elpac1819.OverallScore.replace('NS',0).fillna(0).astype(int)\n",
    "elpac1920['OverallScore'] = elpac1920.OverallScore.replace('NS',0).fillna(0).astype(int)\n",
    "elpac2021['OverallScore'] = elpac2021.OverallScore.replace('NS',0).fillna(0).astype(int)\n",
    "elpac2122['OverallScore'] = elpac2122.OverallScore.replace('NS',0).fillna(0).astype(int)\n",
    "\n",
    "elpac1718['OverallLevel'] = elpac1718.OverallLevel.replace('NS',0).fillna(0).astype(int)\n",
    "elpac1819['OverallLevel'] = elpac1819.OverallLevel.replace('NS',0).fillna(0).astype(int)\n",
    "elpac1920['OverallLevel'] = elpac1920.OverallLevel.replace('NS',0).fillna(0).astype(int)\n",
    "elpac2021['OverallLevel'] = elpac2021.OverallLevel.replace('NS',0).fillna(0).astype(int)\n",
    "elpac2122['OverallLevel'] = elpac2122.OverallLevel.replace('NS',0).fillna(0).astype(int)"
   ]
  },
  {
   "cell_type": "code",
   "execution_count": 28,
   "metadata": {},
   "outputs": [],
   "source": [
    "# Elpac file containing all years\n",
    "elpac = pd.concat([elpac1718, elpac1819, elpac1920, elpac2021, elpac2122], axis=0)"
   ]
  },
  {
   "cell_type": "markdown",
   "metadata": {},
   "source": [
    "#### Feature Engineering Ideas\n",
    "\n",
    "* Day of the week\n",
    "* Grade Level + percentage of days enrolled (so for example, 4th grade would not be represented by a '4', instead, by '4.80' - a 4th grader who attended 80% of the time)\n",
    "* Number of Levels a student progressed from previous ELPAC (17-18 a student who scores a Level 1, then in 18-19 scoed a Level 3; the student progressed 2 levels)\n",
    "* Age of Student at time of test\n",
    "* Teacher information (years teaching)\n",
    "* Total in Household\n",
    "* Household income\n",
    "* Homeless"
   ]
  },
  {
   "cell_type": "code",
   "execution_count": 29,
   "metadata": {},
   "outputs": [],
   "source": [
    "# Feature Engineering\n",
    "\n",
    "# TestDayName\n",
    "elpac['TestDayName'] = elpac.TestDate.dt.day_name()"
   ]
  },
  {
   "cell_type": "code",
   "execution_count": 30,
   "metadata": {},
   "outputs": [],
   "source": [
    "# Age at time of test\n",
    "elpac['TestAge'] = (elpac.TestDate - elpac.DOB) / np.timedelta64(1, 'Y')"
   ]
  },
  {
   "cell_type": "code",
   "execution_count": 31,
   "metadata": {},
   "outputs": [
    {
     "data": {
      "text/html": [
       "<div>\n",
       "<style scoped>\n",
       "    .dataframe tbody tr th:only-of-type {\n",
       "        vertical-align: middle;\n",
       "    }\n",
       "\n",
       "    .dataframe tbody tr th {\n",
       "        vertical-align: top;\n",
       "    }\n",
       "\n",
       "    .dataframe thead th {\n",
       "        text-align: right;\n",
       "    }\n",
       "</style>\n",
       "<table border=\"1\" class=\"dataframe\">\n",
       "  <thead>\n",
       "    <tr style=\"text-align: right;\">\n",
       "      <th></th>\n",
       "      <th>Stu_deID</th>\n",
       "      <th>AcademicYear</th>\n",
       "      <th>DOB</th>\n",
       "      <th>GradeLevel</th>\n",
       "      <th>TestDate</th>\n",
       "      <th>OverallScore</th>\n",
       "      <th>OverallLevel</th>\n",
       "      <th>TestDayName</th>\n",
       "      <th>TestAge</th>\n",
       "    </tr>\n",
       "  </thead>\n",
       "  <tbody>\n",
       "    <tr>\n",
       "      <th>0</th>\n",
       "      <td>0</td>\n",
       "      <td>2017-2018</td>\n",
       "      <td>2011-07-04</td>\n",
       "      <td>1</td>\n",
       "      <td>2018-05-02</td>\n",
       "      <td>1503</td>\n",
       "      <td>4</td>\n",
       "      <td>Wednesday</td>\n",
       "      <td>6.828340</td>\n",
       "    </tr>\n",
       "    <tr>\n",
       "      <th>1</th>\n",
       "      <td>1</td>\n",
       "      <td>2017-2018</td>\n",
       "      <td>2008-07-28</td>\n",
       "      <td>4</td>\n",
       "      <td>2018-03-16</td>\n",
       "      <td>1535</td>\n",
       "      <td>3</td>\n",
       "      <td>Friday</td>\n",
       "      <td>9.631957</td>\n",
       "    </tr>\n",
       "    <tr>\n",
       "      <th>2</th>\n",
       "      <td>2</td>\n",
       "      <td>2017-2018</td>\n",
       "      <td>2011-08-13</td>\n",
       "      <td>1</td>\n",
       "      <td>2018-02-12</td>\n",
       "      <td>1449</td>\n",
       "      <td>3</td>\n",
       "      <td>Monday</td>\n",
       "      <td>6.502529</td>\n",
       "    </tr>\n",
       "    <tr>\n",
       "      <th>3</th>\n",
       "      <td>3</td>\n",
       "      <td>2017-2018</td>\n",
       "      <td>2008-05-06</td>\n",
       "      <td>4</td>\n",
       "      <td>2018-04-02</td>\n",
       "      <td>1480</td>\n",
       "      <td>2</td>\n",
       "      <td>Monday</td>\n",
       "      <td>9.905748</td>\n",
       "    </tr>\n",
       "    <tr>\n",
       "      <th>4</th>\n",
       "      <td>4</td>\n",
       "      <td>2017-2018</td>\n",
       "      <td>2012-04-13</td>\n",
       "      <td>0</td>\n",
       "      <td>2018-05-23</td>\n",
       "      <td>1461</td>\n",
       "      <td>4</td>\n",
       "      <td>Wednesday</td>\n",
       "      <td>6.108271</td>\n",
       "    </tr>\n",
       "    <tr>\n",
       "      <th>...</th>\n",
       "      <td>...</td>\n",
       "      <td>...</td>\n",
       "      <td>...</td>\n",
       "      <td>...</td>\n",
       "      <td>...</td>\n",
       "      <td>...</td>\n",
       "      <td>...</td>\n",
       "      <td>...</td>\n",
       "      <td>...</td>\n",
       "    </tr>\n",
       "    <tr>\n",
       "      <th>2125</th>\n",
       "      <td>4072</td>\n",
       "      <td>2021-2022</td>\n",
       "      <td>2010-08-14</td>\n",
       "      <td>6</td>\n",
       "      <td>2022-04-14</td>\n",
       "      <td>644</td>\n",
       "      <td>2</td>\n",
       "      <td>Thursday</td>\n",
       "      <td>11.666222</td>\n",
       "    </tr>\n",
       "    <tr>\n",
       "      <th>2126</th>\n",
       "      <td>3010</td>\n",
       "      <td>2021-2022</td>\n",
       "      <td>2012-08-29</td>\n",
       "      <td>4</td>\n",
       "      <td>2022-05-31</td>\n",
       "      <td>1422</td>\n",
       "      <td>1</td>\n",
       "      <td>Tuesday</td>\n",
       "      <td>9.752425</td>\n",
       "    </tr>\n",
       "    <tr>\n",
       "      <th>2127</th>\n",
       "      <td>137</td>\n",
       "      <td>2021-2022</td>\n",
       "      <td>2012-07-06</td>\n",
       "      <td>4</td>\n",
       "      <td>2022-04-12</td>\n",
       "      <td>1530</td>\n",
       "      <td>3</td>\n",
       "      <td>Tuesday</td>\n",
       "      <td>9.766114</td>\n",
       "    </tr>\n",
       "    <tr>\n",
       "      <th>2128</th>\n",
       "      <td>2092</td>\n",
       "      <td>2021-2022</td>\n",
       "      <td>2012-04-27</td>\n",
       "      <td>4</td>\n",
       "      <td>2022-03-03</td>\n",
       "      <td>1538</td>\n",
       "      <td>3</td>\n",
       "      <td>Thursday</td>\n",
       "      <td>9.848252</td>\n",
       "    </tr>\n",
       "    <tr>\n",
       "      <th>2129</th>\n",
       "      <td>2272</td>\n",
       "      <td>2021-2022</td>\n",
       "      <td>2012-09-18</td>\n",
       "      <td>3</td>\n",
       "      <td>2022-03-16</td>\n",
       "      <td>1573</td>\n",
       "      <td>4</td>\n",
       "      <td>Wednesday</td>\n",
       "      <td>9.489586</td>\n",
       "    </tr>\n",
       "  </tbody>\n",
       "</table>\n",
       "<p>13092 rows × 9 columns</p>\n",
       "</div>"
      ],
      "text/plain": [
       "      Stu_deID AcademicYear        DOB  GradeLevel   TestDate  OverallScore  OverallLevel TestDayName    TestAge\n",
       "0            0    2017-2018 2011-07-04           1 2018-05-02          1503             4   Wednesday   6.828340\n",
       "1            1    2017-2018 2008-07-28           4 2018-03-16          1535             3      Friday   9.631957\n",
       "2            2    2017-2018 2011-08-13           1 2018-02-12          1449             3      Monday   6.502529\n",
       "3            3    2017-2018 2008-05-06           4 2018-04-02          1480             2      Monday   9.905748\n",
       "4            4    2017-2018 2012-04-13           0 2018-05-23          1461             4   Wednesday   6.108271\n",
       "...        ...          ...        ...         ...        ...           ...           ...         ...        ...\n",
       "2125      4072    2021-2022 2010-08-14           6 2022-04-14           644             2    Thursday  11.666222\n",
       "2126      3010    2021-2022 2012-08-29           4 2022-05-31          1422             1     Tuesday   9.752425\n",
       "2127       137    2021-2022 2012-07-06           4 2022-04-12          1530             3     Tuesday   9.766114\n",
       "2128      2092    2021-2022 2012-04-27           4 2022-03-03          1538             3    Thursday   9.848252\n",
       "2129      2272    2021-2022 2012-09-18           3 2022-03-16          1573             4   Wednesday   9.489586\n",
       "\n",
       "[13092 rows x 9 columns]"
      ]
     },
     "execution_count": 31,
     "metadata": {},
     "output_type": "execute_result"
    }
   ],
   "source": [
    "elpac"
   ]
  },
  {
   "cell_type": "markdown",
   "metadata": {},
   "source": [
    "### Attendance Files"
   ]
  },
  {
   "cell_type": "code",
   "execution_count": 33,
   "metadata": {},
   "outputs": [],
   "source": [
    "Attendance_file_path = 'Raw_Files/'"
   ]
  },
  {
   "cell_type": "code",
   "execution_count": 34,
   "metadata": {},
   "outputs": [],
   "source": [
    "# Load attendance data\n",
    "att_1718 = pd.read_csv(Attendance_file_path + 'STAS_ODS_1718.txt', sep='^', dtype=str, header=None)\n",
    "att_1819 = pd.read_csv(Attendance_file_path + 'STAS_ODS_1819.txt', sep='^', dtype=str, header=None)\n",
    "att_1920 = pd.read_csv(Attendance_file_path + 'STAS_ODS_1920.txt', sep='^', dtype=str, header=None)\n",
    "att_2021 = pd.read_csv(Attendance_file_path + 'STAS_ODS_2021.txt', sep='^', dtype=str, header=None)\n",
    "att_2122 = pd.read_csv(Attendance_file_path + 'STAS_ODS_2122.txt', sep='^', dtype=str, header=None)"
   ]
  },
  {
   "cell_type": "code",
   "execution_count": 35,
   "metadata": {},
   "outputs": [],
   "source": [
    "# columns to keep\n",
    "att_1718 = att_1718.iloc[:,[5, 6, 14, 15]].fillna(0.00)\n",
    "att_1819 = att_1819.iloc[:,[5, 6, 14, 15]].fillna(0.00)\n",
    "att_1920 = att_1920.iloc[:,[5, 6, 14, 15]].fillna(0.00)\n",
    "att_2021 = att_2021.iloc[:,[5, 6, 14, 15]].fillna(0.00)\n",
    "att_2122 = att_2122.iloc[:,[5, 6, 14, 15]].fillna(0.00)"
   ]
  },
  {
   "cell_type": "code",
   "execution_count": 36,
   "metadata": {},
   "outputs": [],
   "source": [
    "# Assign column names\n",
    "att_columns = ['AcademicYear', 'SSID', 'ExpectedAttendanceDays', 'DaysAttended']\n",
    "\n",
    "att_1718.columns = att_columns\n",
    "att_1819.columns = att_columns\n",
    "att_1920.columns = att_columns\n",
    "att_2021.columns = att_columns\n",
    "att_2122.columns = att_columns"
   ]
  },
  {
   "cell_type": "code",
   "execution_count": 37,
   "metadata": {},
   "outputs": [],
   "source": [
    "# Data conversions\n",
    "att_1718['ExpectedAttendanceDays'] = att_1718.ExpectedAttendanceDays.astype(float)\n",
    "att_1819['ExpectedAttendanceDays'] = att_1819.ExpectedAttendanceDays.astype(float)\n",
    "att_1920['ExpectedAttendanceDays'] = att_1920.ExpectedAttendanceDays.astype(float)\n",
    "att_2021['ExpectedAttendanceDays'] = att_2021.ExpectedAttendanceDays.astype(float)\n",
    "att_2122['ExpectedAttendanceDays'] = att_2122.ExpectedAttendanceDays.astype(float)"
   ]
  },
  {
   "cell_type": "code",
   "execution_count": 38,
   "metadata": {},
   "outputs": [],
   "source": [
    "# Data conversions\n",
    "att_1718['DaysAttended'] = att_1718.DaysAttended.astype(float)\n",
    "att_1819['DaysAttended'] = att_1819.DaysAttended.astype(float)\n",
    "att_1920['DaysAttended'] = att_1920.DaysAttended.astype(float)\n",
    "att_2021['DaysAttended'] = att_2021.DaysAttended.astype(float)\n",
    "att_2122['DaysAttended'] = att_2122.DaysAttended.astype(float)"
   ]
  },
  {
   "cell_type": "code",
   "execution_count": 39,
   "metadata": {},
   "outputs": [],
   "source": [
    "# Att into one file\n",
    "att = pd.concat([att_1718, att_1819, att_1920, att_2021, att_2122], axis =0)"
   ]
  },
  {
   "cell_type": "markdown",
   "metadata": {},
   "source": [
    "### SQLite"
   ]
  },
  {
   "cell_type": "code",
   "execution_count": 40,
   "metadata": {},
   "outputs": [],
   "source": [
    "cnn = sqlite3.connect('Raw_Files/db.db')"
   ]
  },
  {
   "cell_type": "code",
   "execution_count": 50,
   "metadata": {},
   "outputs": [],
   "source": [
    "# Load dataframes into sql\n",
    "att.to_sql(\"att\", cnn, if_exists='replace')\n",
    "ssid_deidentify.to_sql(\"ssid\", cnn, if_exists='replace')"
   ]
  },
  {
   "cell_type": "code",
   "execution_count": 42,
   "metadata": {},
   "outputs": [],
   "source": [
    "%load_ext sql"
   ]
  },
  {
   "cell_type": "code",
   "execution_count": 43,
   "metadata": {},
   "outputs": [],
   "source": [
    "%sql sqlite:///Raw_Files/db.db"
   ]
  },
  {
   "cell_type": "code",
   "execution_count": 54,
   "metadata": {},
   "outputs": [
    {
     "name": "stdout",
     "output_type": "stream",
     "text": [
      " * sqlite:///Raw_Files/db.db\n",
      "Done.\n"
     ]
    },
    {
     "data": {
      "text/html": [
       "<table>\n",
       "    <tr>\n",
       "        <th>Stu_deID</th>\n",
       "        <th>AcademicYear</th>\n",
       "        <th>ExpectedAttendanceDays</th>\n",
       "        <th>DaysAttended</th>\n",
       "        <th>AttendedPct</th>\n",
       "        <th>EnrolledPct</th>\n",
       "    </tr>\n",
       "    <tr>\n",
       "        <td>3482</td>\n",
       "        <td>2019-2020</td>\n",
       "        <td>167.0</td>\n",
       "        <td>160.0</td>\n",
       "        <td>0.9580838323353293</td>\n",
       "        <td>0.9277777777777778</td>\n",
       "    </tr>\n",
       "    <tr>\n",
       "        <td>3</td>\n",
       "        <td>2017-2018</td>\n",
       "        <td>180.0</td>\n",
       "        <td>175.0</td>\n",
       "        <td>0.9722222222222222</td>\n",
       "        <td>1.0</td>\n",
       "    </tr>\n",
       "    <tr>\n",
       "        <td>3</td>\n",
       "        <td>2018-2019</td>\n",
       "        <td>180.0</td>\n",
       "        <td>168.0</td>\n",
       "        <td>0.9333333333333333</td>\n",
       "        <td>1.0</td>\n",
       "    </tr>\n",
       "    <tr>\n",
       "        <td>3</td>\n",
       "        <td>2019-2020</td>\n",
       "        <td>180.0</td>\n",
       "        <td>178.0</td>\n",
       "        <td>0.9888888888888889</td>\n",
       "        <td>1.0</td>\n",
       "    </tr>\n",
       "    <tr>\n",
       "        <td>4</td>\n",
       "        <td>2017-2018</td>\n",
       "        <td>180.0</td>\n",
       "        <td>125.0</td>\n",
       "        <td>0.6944444444444444</td>\n",
       "        <td>1.0</td>\n",
       "    </tr>\n",
       "    <tr>\n",
       "        <td>4</td>\n",
       "        <td>2018-2019</td>\n",
       "        <td>103.0</td>\n",
       "        <td>90.0</td>\n",
       "        <td>0.8737864077669902</td>\n",
       "        <td>0.5722222222222222</td>\n",
       "    </tr>\n",
       "    <tr>\n",
       "        <td>4529</td>\n",
       "        <td>2021-2022</td>\n",
       "        <td>170.0</td>\n",
       "        <td>138.0</td>\n",
       "        <td>0.8117647058823529</td>\n",
       "        <td>0.9444444444444444</td>\n",
       "    </tr>\n",
       "    <tr>\n",
       "        <td>4002</td>\n",
       "        <td>2020-2021</td>\n",
       "        <td>180.0</td>\n",
       "        <td>167.0</td>\n",
       "        <td>0.9277777777777778</td>\n",
       "        <td>1.0</td>\n",
       "    </tr>\n",
       "    <tr>\n",
       "        <td>4002</td>\n",
       "        <td>2021-2022</td>\n",
       "        <td>170.0</td>\n",
       "        <td>139.0</td>\n",
       "        <td>0.8176470588235294</td>\n",
       "        <td>0.9444444444444444</td>\n",
       "    </tr>\n",
       "    <tr>\n",
       "        <td>5</td>\n",
       "        <td>2017-2018</td>\n",
       "        <td>180.0</td>\n",
       "        <td>165.0</td>\n",
       "        <td>0.9166666666666666</td>\n",
       "        <td>1.0</td>\n",
       "    </tr>\n",
       "</table>"
      ],
      "text/plain": [
       "[(3482, '2019-2020', 167.0, 160.0, 0.9580838323353293, 0.9277777777777778),\n",
       " (3, '2017-2018', 180.0, 175.0, 0.9722222222222222, 1.0),\n",
       " (3, '2018-2019', 180.0, 168.0, 0.9333333333333333, 1.0),\n",
       " (3, '2019-2020', 180.0, 178.0, 0.9888888888888889, 1.0),\n",
       " (4, '2017-2018', 180.0, 125.0, 0.6944444444444444, 1.0),\n",
       " (4, '2018-2019', 103.0, 90.0, 0.8737864077669902, 0.5722222222222222),\n",
       " (4529, '2021-2022', 170.0, 138.0, 0.8117647058823529, 0.9444444444444444),\n",
       " (4002, '2020-2021', 180.0, 167.0, 0.9277777777777778, 1.0),\n",
       " (4002, '2021-2022', 170.0, 139.0, 0.8176470588235294, 0.9444444444444444),\n",
       " (5, '2017-2018', 180.0, 165.0, 0.9166666666666666, 1.0)]"
      ]
     },
     "execution_count": 54,
     "metadata": {},
     "output_type": "execute_result"
    }
   ],
   "source": [
    "%%sql\n",
    "\n",
    "select s.Stu_deID, AcademicYear, sum(ExpectedAttendanceDays) as ExpectedAttendanceDays, sum(DaysAttended) as DaysAttended\n",
    ", sum(DaysAttended) / sum(ExpectedAttendanceDays) as AttendedPct\n",
    ", sum(ExpectedAttendanceDays) / 180.0 as EnrolledPct\n",
    "from att as a \n",
    "join ssid as s \n",
    "    on a.SSID = s.SSID\n",
    "group by a.SSID, a.AcademicYear\n",
    "limit 10"
   ]
  },
  {
   "cell_type": "code",
   "execution_count": 55,
   "metadata": {},
   "outputs": [],
   "source": [
    "# SQL results to dataframe\n",
    "att_sql = '''\n",
    "select s.Stu_deID, AcademicYear, sum(ExpectedAttendanceDays) as ExpectedAttendanceDays, sum(DaysAttended) as DaysAttended\n",
    ", sum(DaysAttended) / sum(ExpectedAttendanceDays) as AttendedPct\n",
    ", sum(ExpectedAttendanceDays) / 180.0 as EnrolledPct\n",
    "from att as a \n",
    "join ssid as s \n",
    "    on a.SSID = s.SSID\n",
    "group by a.SSID, a.AcademicYear\n",
    "'''\n",
    "\n",
    "att_df = pd.read_sql_query(att_sql, cnn)"
   ]
  },
  {
   "cell_type": "code",
   "execution_count": 56,
   "metadata": {},
   "outputs": [],
   "source": [
    "# Export File\n",
    "att_df.to_csv('Deidentified/attendance.csv', encoding='utf-8', index=False)"
   ]
  },
  {
   "cell_type": "code",
   "execution_count": 60,
   "metadata": {},
   "outputs": [],
   "source": [
    "# Merge attendance into ELPAC file\n",
    "elpac = elpac.merge(att_df, how='inner', left_on=('Stu_deID', 'AcademicYear'), right_on=('Stu_deID', 'AcademicYear'))"
   ]
  },
  {
   "cell_type": "markdown",
   "metadata": {},
   "source": [
    "### Export ELPAC file to CSV"
   ]
  },
  {
   "cell_type": "code",
   "execution_count": 61,
   "metadata": {},
   "outputs": [],
   "source": [
    "elpac.to_csv('Deidentified/elpac.csv', encoding='utf-8', index=False)"
   ]
  }
 ],
 "metadata": {
  "kernelspec": {
   "display_name": "Python 3.9.2 ('ADS500B')",
   "language": "python",
   "name": "python3"
  },
  "language_info": {
   "codemirror_mode": {
    "name": "ipython",
    "version": 3
   },
   "file_extension": ".py",
   "mimetype": "text/x-python",
   "name": "python",
   "nbconvert_exporter": "python",
   "pygments_lexer": "ipython3",
   "version": "3.9.2"
  },
  "orig_nbformat": 4,
  "vscode": {
   "interpreter": {
    "hash": "825b169ead5425ab9c11ee5e096a5f1a55556c473f665a7d4b61995ef3804c6b"
   }
  }
 },
 "nbformat": 4,
 "nbformat_minor": 2
}
