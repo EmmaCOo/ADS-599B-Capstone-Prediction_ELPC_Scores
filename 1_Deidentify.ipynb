{
 "cells": [
  {
   "cell_type": "code",
   "execution_count": 322,
   "metadata": {},
   "outputs": [],
   "source": [
    "import pandas as pd\n",
    "pd.set_option('display.max_rows', 500)\n",
    "pd.set_option('display.max_columns', 500)\n",
    "pd.set_option('display.width', 1000)\n",
    "\n",
    "import numpy as np\n",
    "import datetime"
   ]
  },
  {
   "cell_type": "code",
   "execution_count": 323,
   "metadata": {},
   "outputs": [],
   "source": [
    "ELPAC_file_path = 'Raw_Files/ELPAC.xlsx'"
   ]
  },
  {
   "cell_type": "markdown",
   "metadata": {},
   "source": [
    "#### Import files from Excel file, got from information provided to i-TAPP as it was all within one Excel spreadsheet"
   ]
  },
  {
   "cell_type": "code",
   "execution_count": 324,
   "metadata": {},
   "outputs": [],
   "source": [
    "# Import ELPAC data into dataframes\n",
    "elpac1718 = pd.read_excel(open(ELPAC_file_path, 'rb'), sheet_name='2017-2018', dtype=str)\n",
    "\n",
    "\n",
    "# Drop identified columns\n",
    "elpac1718.drop(elpac1718.columns[[0, 1, 5, 7, 8, 9, 10]], axis=1, inplace=True)"
   ]
  },
  {
   "cell_type": "code",
   "execution_count": 325,
   "metadata": {},
   "outputs": [],
   "source": [
    "# Import ELPAC data into dataframes\n",
    "elpac1819 = pd.read_excel(open(ELPAC_file_path, 'rb'), sheet_name='2018-2019', dtype=str)\n",
    "\n",
    "\n",
    "# Drop identified columns\n",
    "elpac1819.drop(elpac1819.columns[[0, 1, 5, 7, 8, 9, 10]], axis=1, inplace=True)"
   ]
  },
  {
   "cell_type": "code",
   "execution_count": 326,
   "metadata": {},
   "outputs": [],
   "source": [
    "# Import ELPAC data into dataframes\n",
    "elpac1920 = pd.read_excel(open(ELPAC_file_path, 'rb'), sheet_name='2019-2020', dtype=str)\n",
    "\n",
    "\n",
    "# Drop identified columns\n",
    "elpac1920.drop(elpac1920.columns[[0, 1, 5, 7, 8, 9, 10]], axis=1, inplace=True)"
   ]
  },
  {
   "cell_type": "code",
   "execution_count": 327,
   "metadata": {},
   "outputs": [],
   "source": [
    "# Import ELPAC data into dataframes\n",
    "elpac2021 = pd.read_excel(open(ELPAC_file_path, 'rb'), sheet_name='2020-2021', dtype=str)\n",
    "\n",
    "\n",
    "# Drop identified columns\n",
    "elpac2021.drop(elpac2021.columns[[0, 1, 6, 8, 9, 10, 11]], axis=1, inplace=True)"
   ]
  },
  {
   "cell_type": "code",
   "execution_count": 328,
   "metadata": {},
   "outputs": [],
   "source": [
    "# Import ELPAC data into dataframes\n",
    "elpac2122 = pd.read_excel(open(ELPAC_file_path, 'rb'), sheet_name='2021-2022', dtype=str)\n",
    "\n",
    "\n",
    "# Drop identified columns\n",
    "elpac2122.drop(elpac2122.columns[[1, 5, 7, 8, 9, 17, 19, 21, 54, 55, 56, 57, 58, 61, 62, 63, 64, 70, 71, 72, 73, 79, 80, 81, 82, 88, 89, 90, 91, 97, 98, 99, 100]], axis=1, inplace=True)"
   ]
  },
  {
   "cell_type": "markdown",
   "metadata": {},
   "source": [
    "#### Create a unique list of all SSIDs and assign them the Pandas Dataframe index number as their de-identified number"
   ]
  },
  {
   "cell_type": "code",
   "execution_count": 329,
   "metadata": {},
   "outputs": [],
   "source": [
    "# Create data frame of SSIDs to de-identify\n",
    "ssids = pd.DataFrame(pd.concat([elpac1718.elpac_2018_ssid, elpac1819.elpac_2019_ssid, elpac1920.elpac_2020_ssid, elpac2021.elpac_2021_ssid, elpac2122.SSID], axis=0))\n",
    "\n",
    "# Unique SSID values\n",
    "ssid_deidentify = pd.DataFrame(ssids[0].unique())\n",
    "\n",
    "ssid_deidentify.columns = ['SSID']\n",
    "\n",
    "# Assign Data frame index as de-identified ID\n",
    "ssid_deidentify['Stu_deID'] =  ssid_deidentify.index"
   ]
  },
  {
   "cell_type": "code",
   "execution_count": 330,
   "metadata": {},
   "outputs": [],
   "source": [
    "# Create local file to have as reference to Stu_deID\n",
    "ssid_deidentify.to_csv('Raw_Files/ssid_deidentify.csv', encoding='utf-8', index=False)"
   ]
  },
  {
   "cell_type": "markdown",
   "metadata": {},
   "source": [
    "#### Merge de-identified ID into ELPAC dataframes, then dropped the SSID field containing the real values"
   ]
  },
  {
   "cell_type": "code",
   "execution_count": 331,
   "metadata": {},
   "outputs": [],
   "source": [
    "# Merge in de-identier\n",
    "elpac1718 = elpac1718.merge(ssid_deidentify, how=\"inner\", left_on='elpac_2018_ssid', right_on='SSID')\n",
    "\n",
    "# Drop SSID columns\n",
    "elpac1718.drop(elpac1718.columns[[3, 57]], axis=1, inplace=True)"
   ]
  },
  {
   "cell_type": "code",
   "execution_count": 332,
   "metadata": {},
   "outputs": [],
   "source": [
    "# Merge in de-identier\n",
    "elpac1819 = elpac1819.merge(ssid_deidentify, how=\"inner\", left_on='elpac_2019_ssid', right_on='SSID')\n",
    "\n",
    "# Drop SSID columns\n",
    "elpac1819.drop(elpac1819.columns[[3, 54]], axis=1, inplace=True)"
   ]
  },
  {
   "cell_type": "code",
   "execution_count": 333,
   "metadata": {},
   "outputs": [],
   "source": [
    "# Merge in de-identier\n",
    "elpac1920 = elpac1920.merge(ssid_deidentify, how=\"inner\", left_on='elpac_2020_ssid', right_on='SSID')\n",
    "\n",
    "# Drop SSID columns\n",
    "elpac1920.drop(elpac1920.columns[[3, 79]], axis=1, inplace=True)"
   ]
  },
  {
   "cell_type": "code",
   "execution_count": 334,
   "metadata": {},
   "outputs": [],
   "source": [
    "# Merge in de-identier\n",
    "elpac2021 = elpac2021.merge(ssid_deidentify, how=\"inner\", left_on='elpac_2021_ssid', right_on='SSID')\n",
    "\n",
    "# Drop SSID columns\n",
    "elpac2021.drop(elpac2021.columns[[4, 120]], axis=1, inplace=True)"
   ]
  },
  {
   "cell_type": "code",
   "execution_count": 335,
   "metadata": {},
   "outputs": [],
   "source": [
    "# Merge in de-identier\n",
    "elpac2122 = elpac2122.merge(ssid_deidentify, how=\"inner\", left_on='SSID', right_on='SSID')\n",
    "\n",
    "# Drop SSID columns\n",
    "elpac2122.drop(elpac2122.columns[[3]], axis=1, inplace=True)"
   ]
  },
  {
   "cell_type": "markdown",
   "metadata": {},
   "source": [
    "### De-identify school and district name"
   ]
  },
  {
   "cell_type": "markdown",
   "metadata": {},
   "source": [
    "#### School"
   ]
  },
  {
   "cell_type": "code",
   "execution_count": 336,
   "metadata": {},
   "outputs": [],
   "source": [
    "# Unique Schoolname values - only present in the 2021-2022 file\n",
    "schools_deidentify = pd.DataFrame(elpac2122.CALPADSSchoolName.unique())\n",
    "\n",
    "schools_deidentify.columns = ['SchoolName']\n",
    "\n",
    "# Assign Data frame index as de-identified ID\n",
    "schools_deidentify['School_deID'] =  schools_deidentify.index"
   ]
  },
  {
   "cell_type": "code",
   "execution_count": 337,
   "metadata": {},
   "outputs": [],
   "source": [
    "# Merge in de-identier\n",
    "elpac2122 = elpac2122.merge(schools_deidentify, how=\"inner\", left_on='CALPADSSchoolName', right_on='SchoolName')\n",
    "\n",
    "# Drop school name columns\n",
    "elpac2122.drop(elpac2122.columns[[12, 337]], axis=1, inplace=True)"
   ]
  },
  {
   "cell_type": "code",
   "execution_count": 338,
   "metadata": {},
   "outputs": [],
   "source": [
    "# Create local file to have as reference to School_deID\n",
    "schools_deidentify.to_csv('Raw_Files/schools_deidentify.csv', encoding='utf-8', index=False)"
   ]
  },
  {
   "cell_type": "markdown",
   "metadata": {},
   "source": [
    "#### District"
   ]
  },
  {
   "cell_type": "code",
   "execution_count": 339,
   "metadata": {},
   "outputs": [],
   "source": [
    "# Unique distrcit values - only present in the 2021-2022 file\n",
    "district_deidentify = pd.DataFrame(elpac2122.CALPADSDistrictName.unique())\n",
    "\n",
    "district_deidentify.columns = ['DistrictName']\n",
    "\n",
    "# Assign Data frame index as de-identified ID\n",
    "district_deidentify['District_deID'] =  district_deidentify.index"
   ]
  },
  {
   "cell_type": "code",
   "execution_count": 340,
   "metadata": {},
   "outputs": [],
   "source": [
    "# Merge in de-identier\n",
    "elpac2122 = elpac2122.merge(district_deidentify, how=\"inner\", left_on='CALPADSDistrictName', right_on='DistrictName')\n",
    "\n",
    "# Drop school name columns\n",
    "elpac2122.drop(elpac2122.columns[[11, 337]], axis=1, inplace=True)"
   ]
  },
  {
   "cell_type": "code",
   "execution_count": 341,
   "metadata": {},
   "outputs": [],
   "source": [
    "# Create local file to have as reference to District_deID\n",
    "district_deidentify.to_csv('Raw_Files/district_deidentify.csv', encoding='utf-8', index=False)"
   ]
  },
  {
   "cell_type": "markdown",
   "metadata": {},
   "source": [
    "### Add AcademicYear column to each file, to join into attendance files"
   ]
  },
  {
   "cell_type": "code",
   "execution_count": 342,
   "metadata": {},
   "outputs": [],
   "source": [
    "# Add AcademicYear column\n",
    "elpac1718['AcademicYear'] = '2017-2018'\n",
    "elpac1819['AcademicYear'] = '2018-2019'\n",
    "elpac1920['AcademicYear'] = '2019-2020'\n",
    "elpac2021['AcademicYear'] = '2020-2021'\n",
    "elpac2122['AcademicYear'] = '2021-2022'"
   ]
  },
  {
   "cell_type": "markdown",
   "metadata": {},
   "source": [
    "### Identify features to keep from ELPAC files"
   ]
  },
  {
   "cell_type": "code",
   "execution_count": 343,
   "metadata": {},
   "outputs": [],
   "source": [
    "# Subset ELPAC files\n",
    "elpac1718 = elpac1718.iloc[:,[56, 57, 3, 4, 7, 10, 11]]\n",
    "elpac1819 = elpac1819.iloc[:,[53, 54, 3, 4, 7, 10, 11]]\n",
    "elpac1920 = elpac1920.iloc[:,[78, 79, 3, 6, 7, 8, 9]]\n",
    "elpac2021 = elpac2021.iloc[:,[119, 120, 4, 5, 8, 9, 10]]\n",
    "elpac2122 = elpac2122[['Stu_deID', 'AcademicYear','DateofBirth', 'CALPADSGrade', 'FinalTestCompletedDate', 'OverallScaleScore', 'OverallPL']]\n",
    "\n",
    "# Rename columns\n",
    "elpac_columns = ['Stu_deID', 'AcademicYear', 'DOB', 'GradeLevel', 'TestDate', 'OverallScore', 'OverallLevel']\n",
    "\n",
    "elpac1718.columns = elpac_columns\n",
    "elpac1819.columns = elpac_columns\n",
    "elpac1920.columns = elpac_columns\n",
    "elpac2021.columns = elpac_columns\n",
    "elpac2122.columns = elpac_columns"
   ]
  },
  {
   "cell_type": "code",
   "execution_count": 344,
   "metadata": {},
   "outputs": [],
   "source": [
    "# Data conversions - DOB to datetime\n",
    "elpac1718['DOB'] = pd.to_datetime(elpac1718['DOB'])\n",
    "elpac1819['DOB'] = pd.to_datetime(elpac1819['DOB'])\n",
    "elpac1920['DOB'] = pd.to_datetime(elpac1920['DOB'])\n",
    "elpac2021['DOB'] = pd.to_datetime(elpac2021['DOB'])\n",
    "elpac2122['DOB'] = pd.to_datetime(elpac2122['DOB'])"
   ]
  },
  {
   "cell_type": "code",
   "execution_count": 345,
   "metadata": {},
   "outputs": [],
   "source": [
    "# Data conversions - TestDate to datetime\n",
    "elpac1718['TestDate'] = pd.to_datetime(elpac1718['TestDate'])\n",
    "elpac1819['TestDate'] = pd.to_datetime(elpac1819['TestDate'])\n",
    "elpac1920['TestDate'] = pd.to_datetime(elpac1920['TestDate'])\n",
    "elpac2021['TestDate'] = pd.to_datetime(elpac2021['TestDate'])\n",
    "elpac2122['TestDate'] = pd.to_datetime(elpac2122['TestDate'])"
   ]
  },
  {
   "cell_type": "code",
   "execution_count": 346,
   "metadata": {},
   "outputs": [],
   "source": [
    "# Data conversions - GradeLevel clean up, eliminate extra zero, convert KN to '0'\n",
    "elpac1718['GradeLevel'] = elpac1718.GradeLevel.replace('KN', '0').astype(int).astype(str)\n",
    "elpac1819['GradeLevel'] = elpac1819.GradeLevel.replace('KN', '0').astype(int).astype(str)\n",
    "elpac1920['GradeLevel'] = elpac1920.GradeLevel.replace('KN', '0').astype(int).astype(str)\n",
    "elpac2021['GradeLevel'] = elpac2021.GradeLevel.replace('KN', '0').astype(int).astype(str)\n",
    "elpac2122['GradeLevel'] = elpac2122.GradeLevel.replace('KN', '0').astype(int).astype(str)"
   ]
  },
  {
   "cell_type": "code",
   "execution_count": 347,
   "metadata": {},
   "outputs": [],
   "source": [
    "elpac1718['OverallScore'] = elpac1718.OverallScore.replace('NS',0).fillna(0).astype(int)\n",
    "elpac1819['OverallScore'] = elpac1819.OverallScore.replace('NS',0).fillna(0).astype(int)\n",
    "elpac1920['OverallScore'] = elpac1920.OverallScore.replace('NS',0).fillna(0).astype(int)\n",
    "elpac2021['OverallScore'] = elpac2021.OverallScore.replace('NS',0).fillna(0).astype(int)\n",
    "elpac2122['OverallScore'] = elpac2122.OverallScore.replace('NS',0).fillna(0).astype(int)\n",
    "\n",
    "elpac1718['OverallLevel'] = elpac1718.OverallLevel.replace('NS',0).fillna(0).astype(int)\n",
    "elpac1819['OverallLevel'] = elpac1819.OverallLevel.replace('NS',0).fillna(0).astype(int)\n",
    "elpac1920['OverallLevel'] = elpac1920.OverallLevel.replace('NS',0).fillna(0).astype(int)\n",
    "elpac2021['OverallLevel'] = elpac2021.OverallLevel.replace('NS',0).fillna(0).astype(int)\n",
    "elpac2122['OverallLevel'] = elpac2122.OverallLevel.replace('NS',0).fillna(0).astype(int)"
   ]
  },
  {
   "cell_type": "code",
   "execution_count": 348,
   "metadata": {},
   "outputs": [],
   "source": [
    "# Elpac file containing all years\n",
    "elpac = pd.concat([elpac1718, elpac1819, elpac1920, elpac2021, elpac2122], axis=0)"
   ]
  },
  {
   "cell_type": "markdown",
   "metadata": {},
   "source": [
    "#### Feature Engineering Ideas\n",
    "\n",
    "* Day of the week\n",
    "* Grade Level + percentage of days enrolled (so for example, 4th grade would not be represented by a '4', instead, by '4.80' - a 4th grader who attended 80% of the time)\n",
    "* Number of Levels a student progressed from previous ELPAC (17-18 a student who scores a Level 1, then in 18-19 scoed a Level 3; the student progressed 2 levels)\n",
    "* Age of Student at time of test\n",
    "* Teacher information (years teaching)\n",
    "* Total in Household\n",
    "* Household income\n",
    "* Homeless"
   ]
  },
  {
   "cell_type": "code",
   "execution_count": 349,
   "metadata": {},
   "outputs": [],
   "source": [
    "# Feature Engineering\n",
    "\n",
    "# TestDayName\n",
    "elpac['TestDayName'] = elpac.TestDate.dt.day_name()"
   ]
  },
  {
   "cell_type": "code",
   "execution_count": 350,
   "metadata": {},
   "outputs": [],
   "source": [
    "# Age at time of test\n",
    "elpac['TestAge'] = (elpac.TestDate - elpac.DOB) / np.timedelta64(1, 'Y')"
   ]
  },
  {
   "cell_type": "code",
   "execution_count": 363,
   "metadata": {},
   "outputs": [
    {
     "data": {
      "text/html": [
       "<div>\n",
       "<style scoped>\n",
       "    .dataframe tbody tr th:only-of-type {\n",
       "        vertical-align: middle;\n",
       "    }\n",
       "\n",
       "    .dataframe tbody tr th {\n",
       "        vertical-align: top;\n",
       "    }\n",
       "\n",
       "    .dataframe thead th {\n",
       "        text-align: right;\n",
       "    }\n",
       "</style>\n",
       "<table border=\"1\" class=\"dataframe\">\n",
       "  <thead>\n",
       "    <tr style=\"text-align: right;\">\n",
       "      <th></th>\n",
       "      <th>Stu_deID</th>\n",
       "      <th>AcademicYear</th>\n",
       "      <th>DOB</th>\n",
       "      <th>GradeLevel</th>\n",
       "      <th>TestDate</th>\n",
       "      <th>OverallScore</th>\n",
       "      <th>OverallLevel</th>\n",
       "      <th>TestDayName</th>\n",
       "      <th>TestAge</th>\n",
       "    </tr>\n",
       "  </thead>\n",
       "  <tbody>\n",
       "    <tr>\n",
       "      <th>0</th>\n",
       "      <td>0</td>\n",
       "      <td>2017-2018</td>\n",
       "      <td>2011-07-04</td>\n",
       "      <td>1</td>\n",
       "      <td>2018-05-02</td>\n",
       "      <td>1503</td>\n",
       "      <td>4</td>\n",
       "      <td>Wednesday</td>\n",
       "      <td>6.828340</td>\n",
       "    </tr>\n",
       "    <tr>\n",
       "      <th>1</th>\n",
       "      <td>1</td>\n",
       "      <td>2017-2018</td>\n",
       "      <td>2008-07-28</td>\n",
       "      <td>4</td>\n",
       "      <td>2018-03-16</td>\n",
       "      <td>1535</td>\n",
       "      <td>3</td>\n",
       "      <td>Friday</td>\n",
       "      <td>9.631957</td>\n",
       "    </tr>\n",
       "    <tr>\n",
       "      <th>2</th>\n",
       "      <td>2</td>\n",
       "      <td>2017-2018</td>\n",
       "      <td>2011-08-13</td>\n",
       "      <td>1</td>\n",
       "      <td>2018-02-12</td>\n",
       "      <td>1449</td>\n",
       "      <td>3</td>\n",
       "      <td>Monday</td>\n",
       "      <td>6.502529</td>\n",
       "    </tr>\n",
       "    <tr>\n",
       "      <th>3</th>\n",
       "      <td>3</td>\n",
       "      <td>2017-2018</td>\n",
       "      <td>2008-05-06</td>\n",
       "      <td>4</td>\n",
       "      <td>2018-04-02</td>\n",
       "      <td>1480</td>\n",
       "      <td>2</td>\n",
       "      <td>Monday</td>\n",
       "      <td>9.905748</td>\n",
       "    </tr>\n",
       "    <tr>\n",
       "      <th>4</th>\n",
       "      <td>4</td>\n",
       "      <td>2017-2018</td>\n",
       "      <td>2012-04-13</td>\n",
       "      <td>0</td>\n",
       "      <td>2018-05-23</td>\n",
       "      <td>1461</td>\n",
       "      <td>4</td>\n",
       "      <td>Wednesday</td>\n",
       "      <td>6.108271</td>\n",
       "    </tr>\n",
       "    <tr>\n",
       "      <th>...</th>\n",
       "      <td>...</td>\n",
       "      <td>...</td>\n",
       "      <td>...</td>\n",
       "      <td>...</td>\n",
       "      <td>...</td>\n",
       "      <td>...</td>\n",
       "      <td>...</td>\n",
       "      <td>...</td>\n",
       "      <td>...</td>\n",
       "    </tr>\n",
       "    <tr>\n",
       "      <th>2125</th>\n",
       "      <td>4072</td>\n",
       "      <td>2021-2022</td>\n",
       "      <td>2010-08-14</td>\n",
       "      <td>6</td>\n",
       "      <td>2022-04-14</td>\n",
       "      <td>644</td>\n",
       "      <td>2</td>\n",
       "      <td>Thursday</td>\n",
       "      <td>11.666222</td>\n",
       "    </tr>\n",
       "    <tr>\n",
       "      <th>2126</th>\n",
       "      <td>3010</td>\n",
       "      <td>2021-2022</td>\n",
       "      <td>2012-08-29</td>\n",
       "      <td>4</td>\n",
       "      <td>2022-05-31</td>\n",
       "      <td>1422</td>\n",
       "      <td>1</td>\n",
       "      <td>Tuesday</td>\n",
       "      <td>9.752425</td>\n",
       "    </tr>\n",
       "    <tr>\n",
       "      <th>2127</th>\n",
       "      <td>137</td>\n",
       "      <td>2021-2022</td>\n",
       "      <td>2012-07-06</td>\n",
       "      <td>4</td>\n",
       "      <td>2022-04-12</td>\n",
       "      <td>1530</td>\n",
       "      <td>3</td>\n",
       "      <td>Tuesday</td>\n",
       "      <td>9.766114</td>\n",
       "    </tr>\n",
       "    <tr>\n",
       "      <th>2128</th>\n",
       "      <td>2092</td>\n",
       "      <td>2021-2022</td>\n",
       "      <td>2012-04-27</td>\n",
       "      <td>4</td>\n",
       "      <td>2022-03-03</td>\n",
       "      <td>1538</td>\n",
       "      <td>3</td>\n",
       "      <td>Thursday</td>\n",
       "      <td>9.848252</td>\n",
       "    </tr>\n",
       "    <tr>\n",
       "      <th>2129</th>\n",
       "      <td>2272</td>\n",
       "      <td>2021-2022</td>\n",
       "      <td>2012-09-18</td>\n",
       "      <td>3</td>\n",
       "      <td>2022-03-16</td>\n",
       "      <td>1573</td>\n",
       "      <td>4</td>\n",
       "      <td>Wednesday</td>\n",
       "      <td>9.489586</td>\n",
       "    </tr>\n",
       "  </tbody>\n",
       "</table>\n",
       "<p>13092 rows × 9 columns</p>\n",
       "</div>"
      ],
      "text/plain": [
       "      Stu_deID AcademicYear        DOB GradeLevel   TestDate  OverallScore  OverallLevel TestDayName    TestAge\n",
       "0            0    2017-2018 2011-07-04          1 2018-05-02          1503             4   Wednesday   6.828340\n",
       "1            1    2017-2018 2008-07-28          4 2018-03-16          1535             3      Friday   9.631957\n",
       "2            2    2017-2018 2011-08-13          1 2018-02-12          1449             3      Monday   6.502529\n",
       "3            3    2017-2018 2008-05-06          4 2018-04-02          1480             2      Monday   9.905748\n",
       "4            4    2017-2018 2012-04-13          0 2018-05-23          1461             4   Wednesday   6.108271\n",
       "...        ...          ...        ...        ...        ...           ...           ...         ...        ...\n",
       "2125      4072    2021-2022 2010-08-14          6 2022-04-14           644             2    Thursday  11.666222\n",
       "2126      3010    2021-2022 2012-08-29          4 2022-05-31          1422             1     Tuesday   9.752425\n",
       "2127       137    2021-2022 2012-07-06          4 2022-04-12          1530             3     Tuesday   9.766114\n",
       "2128      2092    2021-2022 2012-04-27          4 2022-03-03          1538             3    Thursday   9.848252\n",
       "2129      2272    2021-2022 2012-09-18          3 2022-03-16          1573             4   Wednesday   9.489586\n",
       "\n",
       "[13092 rows x 9 columns]"
      ]
     },
     "execution_count": 363,
     "metadata": {},
     "output_type": "execute_result"
    }
   ],
   "source": [
    "elpac"
   ]
  },
  {
   "cell_type": "markdown",
   "metadata": {},
   "source": [
    "### Export ELPAC file to CSV"
   ]
  },
  {
   "cell_type": "code",
   "execution_count": 378,
   "metadata": {},
   "outputs": [],
   "source": [
    "elpac.to_csv('Deidentified/elpac.csv', encoding='utf-8', index=False)"
   ]
  },
  {
   "cell_type": "markdown",
   "metadata": {},
   "source": [
    "### Attendance Files"
   ]
  },
  {
   "cell_type": "code",
   "execution_count": null,
   "metadata": {},
   "outputs": [],
   "source": [
    "Attendance_file_path = 'Raw_Files/'"
   ]
  },
  {
   "cell_type": "code",
   "execution_count": null,
   "metadata": {},
   "outputs": [],
   "source": [
    "# Load attendance data\n",
    "att_1718 = pd.read_csv(Attendance_file_path + 'STAS_ODS_1718.txt', sep='^', dtype=str, header=None)\n",
    "att_1819 = pd.read_csv(Attendance_file_path + 'STAS_ODS_1819.txt', sep='^', dtype=str, header=None)\n",
    "att_1920 = pd.read_csv(Attendance_file_path + 'STAS_ODS_1920.txt', sep='^', dtype=str, header=None)\n",
    "att_2021 = pd.read_csv(Attendance_file_path + 'STAS_ODS_2021.txt', sep='^', dtype=str, header=None)\n",
    "att_2122 = pd.read_csv(Attendance_file_path + 'STAS_ODS_2122.txt', sep='^', dtype=str, header=None)"
   ]
  },
  {
   "cell_type": "code",
   "execution_count": null,
   "metadata": {},
   "outputs": [],
   "source": [
    "# columns to keep\n",
    "att_1718 = att_1718.iloc[:,[5, 6, 14, 15]].fillna(0.00)\n",
    "att_1819 = att_1819.iloc[:,[5, 6, 14, 15]].fillna(0.00)\n",
    "att_1920 = att_1920.iloc[:,[5, 6, 14, 15]].fillna(0.00)\n",
    "att_2021 = att_2021.iloc[:,[5, 6, 14, 15]].fillna(0.00)\n",
    "att_2122 = att_2122.iloc[:,[5, 6, 14, 15]].fillna(0.00)"
   ]
  },
  {
   "cell_type": "code",
   "execution_count": null,
   "metadata": {},
   "outputs": [],
   "source": [
    "# Assign column names\n",
    "att_columns = ['AcademicYear', 'SSID', 'ExpectedAttendanceDays', 'DaysAttended']\n",
    "\n",
    "att_1718.columns = att_columns\n",
    "att_1819.columns = att_columns\n",
    "att_1920.columns = att_columns\n",
    "att_2021.columns = att_columns\n",
    "att_2122.columns = att_columns"
   ]
  },
  {
   "cell_type": "code",
   "execution_count": 371,
   "metadata": {},
   "outputs": [],
   "source": [
    "# Data conversions\n",
    "att_1718['SSID'] = att_1718.SSID.astype(int)\n",
    "att_1819['SSID'] = att_1819.SSID.astype(int)\n",
    "att_1920['SSID'] = att_1920.SSID.astype(int)\n",
    "att_2021['SSID'] = att_2021.SSID.astype(int)\n",
    "att_2122['SSID'] = att_2122.SSID.astype(int)"
   ]
  },
  {
   "cell_type": "code",
   "execution_count": 375,
   "metadata": {},
   "outputs": [],
   "source": [
    "# Data conversions\n",
    "att_1718['ExpectedAttendanceDays'] = att_1718.ExpectedAttendanceDays.astype(float)\n",
    "att_1819['ExpectedAttendanceDays'] = att_1819.ExpectedAttendanceDays.astype(float)\n",
    "att_1920['ExpectedAttendanceDays'] = att_1920.ExpectedAttendanceDays.astype(float)\n",
    "att_2021['ExpectedAttendanceDays'] = att_2021.ExpectedAttendanceDays.astype(float)\n",
    "att_2122['ExpectedAttendanceDays'] = att_2122.ExpectedAttendanceDays.astype(float)"
   ]
  },
  {
   "cell_type": "code",
   "execution_count": 376,
   "metadata": {},
   "outputs": [],
   "source": [
    "# Data conversions\n",
    "att_1718['DaysAttended'] = att_1718.DaysAttended.astype(float)\n",
    "att_1819['DaysAttended'] = att_1819.DaysAttended.astype(float)\n",
    "att_1920['DaysAttended'] = att_1920.DaysAttended.astype(float)\n",
    "att_2021['DaysAttended'] = att_2021.DaysAttended.astype(float)\n",
    "att_2122['DaysAttended'] = att_2122.DaysAttended.astype(float)"
   ]
  },
  {
   "cell_type": "code",
   "execution_count": 377,
   "metadata": {},
   "outputs": [
    {
     "data": {
      "text/plain": [
       "AcademicYear  SSID      \n",
       "2017-2018     1001568317    180.0\n",
       "              1002410177    180.0\n",
       "              1002832885    180.0\n",
       "              1007193778    180.0\n",
       "              1012432116    180.0\n",
       "                            ...  \n",
       "              9982285424    180.0\n",
       "              9984303540    180.0\n",
       "              9984398736    180.0\n",
       "              9987496481    180.0\n",
       "              9987610228    180.0\n",
       "Name: ExpectedAttendanceDays, Length: 5746, dtype: float64"
      ]
     },
     "execution_count": 377,
     "metadata": {},
     "output_type": "execute_result"
    }
   ],
   "source": [
    "# USE SQLite to do SUM of ExpectedAttendanceDays and DaysAttended\n",
    "att_1718.groupby([\"AcademicYear\", \"SSID\"])[\"ExpectedAttendanceDays\"].sum()"
   ]
  }
 ],
 "metadata": {
  "kernelspec": {
   "display_name": "Python 3.9.1 ('ADS500B')",
   "language": "python",
   "name": "python3"
  },
  "language_info": {
   "codemirror_mode": {
    "name": "ipython",
    "version": 3
   },
   "file_extension": ".py",
   "mimetype": "text/x-python",
   "name": "python",
   "nbconvert_exporter": "python",
   "pygments_lexer": "ipython3",
   "version": "3.9.1"
  },
  "orig_nbformat": 4,
  "vscode": {
   "interpreter": {
    "hash": "1d26887a0ce0c3c4488c5c94af6ff26a975a652bca174f379a81267199556a29"
   }
  }
 },
 "nbformat": 4,
 "nbformat_minor": 2
}
