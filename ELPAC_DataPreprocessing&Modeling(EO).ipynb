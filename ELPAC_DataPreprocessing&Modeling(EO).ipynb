{
  "cells": [
    {
      "cell_type": "markdown",
      "metadata": {
        "id": "view-in-github",
        "colab_type": "text"
      },
      "source": [
        "<a href=\"https://colab.research.google.com/github/OscarG-DataSci/ADS-599B/blob/main/ELPAC_DataPreprocessing%26Modeling(EO).ipynb\" target=\"_parent\"><img src=\"https://colab.research.google.com/assets/colab-badge.svg\" alt=\"Open In Colab\"/></a>"
      ]
    },
    {
      "cell_type": "code",
      "execution_count": 1,
      "metadata": {
        "id": "bYfc6YNeNFWl"
      },
      "outputs": [],
      "source": [
        "import os\n",
        "import re\n",
        "import pandas as pd\n",
        "import numpy as np\n",
        "import missingno as msno\n",
        "import seaborn as sns\n",
        "import matplotlib.pyplot as plt\n",
        "\n",
        "\n",
        "import warnings\n",
        "warnings.filterwarnings('ignore')"
      ]
    },
    {
      "cell_type": "code",
      "execution_count": 2,
      "metadata": {
        "id": "vcA1Cw0PQggR"
      },
      "outputs": [],
      "source": [
        "df = pd.read_csv('/content/drive/MyDrive/elpac.csv')"
      ]
    },
    {
      "cell_type": "code",
      "execution_count": 3,
      "metadata": {
        "colab": {
          "base_uri": "https://localhost:8080/",
          "height": 299
        },
        "id": "a2wCSPPUQpWP",
        "outputId": "9e9cfdcf-0ed3-49fb-8322-313158230f0e"
      },
      "outputs": [
        {
          "output_type": "execute_result",
          "data": {
            "text/plain": [
              "  AcademicYear  Stu_deID  School_deID  GradeLevel      DOB   TestAge  \\\n",
              "0    2017-2018         0            3           1   7/4/11  6.828340   \n",
              "1    2017-2018         1            5           4  7/28/08  9.631957   \n",
              "2    2017-2018         3            3           4   5/6/08  9.905748   \n",
              "3    2017-2018         4            3           0  4/13/12  6.108271   \n",
              "4    2017-2018         5            7           0  9/25/11  6.664066   \n",
              "\n",
              "  StudentGender StudentEthnicity Special_Education Homeless  ... OverallLevel  \\\n",
              "0             F         Hispanic                 N        Y  ...            4   \n",
              "1             M         Hispanic                 N        N  ...            3   \n",
              "2             M         Hispanic                 Y        N  ...            2   \n",
              "3             M         Hispanic                 N        N  ...            4   \n",
              "4             M         Hispanic                 N        N  ...            1   \n",
              "\n",
              "  ExpectedAttendanceDays DaysAttended  AttendedPct  EnrolledPct  \\\n",
              "0                    180          175     0.972222          1.0   \n",
              "1                    180          168     0.933333          1.0   \n",
              "2                    180          175     0.972222          1.0   \n",
              "3                    180          125     0.694444          1.0   \n",
              "4                    180          165     0.916667          1.0   \n",
              "\n",
              "   GradeEnrolledPct  GradeAttendedPct  TeacherGender  \\\n",
              "0          1.999999          1.972222              F   \n",
              "1          4.999999          4.933333              F   \n",
              "2          4.999999          4.972222              F   \n",
              "3          0.999999          0.694444              F   \n",
              "4          0.999999          0.916667              F   \n",
              "\n",
              "   TeacherTotalYearsOfService  TeacherEthnicity  \n",
              "0                           4          Hispanic  \n",
              "1                           2          Multiple  \n",
              "2                          18             White  \n",
              "3                           1             White  \n",
              "4                          17          Hispanic  \n",
              "\n",
              "[5 rows x 24 columns]"
            ],
            "text/html": [
              "\n",
              "  <div id=\"df-01e57149-8205-4b6d-96b4-b2063fbec484\">\n",
              "    <div class=\"colab-df-container\">\n",
              "      <div>\n",
              "<style scoped>\n",
              "    .dataframe tbody tr th:only-of-type {\n",
              "        vertical-align: middle;\n",
              "    }\n",
              "\n",
              "    .dataframe tbody tr th {\n",
              "        vertical-align: top;\n",
              "    }\n",
              "\n",
              "    .dataframe thead th {\n",
              "        text-align: right;\n",
              "    }\n",
              "</style>\n",
              "<table border=\"1\" class=\"dataframe\">\n",
              "  <thead>\n",
              "    <tr style=\"text-align: right;\">\n",
              "      <th></th>\n",
              "      <th>AcademicYear</th>\n",
              "      <th>Stu_deID</th>\n",
              "      <th>School_deID</th>\n",
              "      <th>GradeLevel</th>\n",
              "      <th>DOB</th>\n",
              "      <th>TestAge</th>\n",
              "      <th>StudentGender</th>\n",
              "      <th>StudentEthnicity</th>\n",
              "      <th>Special_Education</th>\n",
              "      <th>Homeless</th>\n",
              "      <th>...</th>\n",
              "      <th>OverallLevel</th>\n",
              "      <th>ExpectedAttendanceDays</th>\n",
              "      <th>DaysAttended</th>\n",
              "      <th>AttendedPct</th>\n",
              "      <th>EnrolledPct</th>\n",
              "      <th>GradeEnrolledPct</th>\n",
              "      <th>GradeAttendedPct</th>\n",
              "      <th>TeacherGender</th>\n",
              "      <th>TeacherTotalYearsOfService</th>\n",
              "      <th>TeacherEthnicity</th>\n",
              "    </tr>\n",
              "  </thead>\n",
              "  <tbody>\n",
              "    <tr>\n",
              "      <th>0</th>\n",
              "      <td>2017-2018</td>\n",
              "      <td>0</td>\n",
              "      <td>3</td>\n",
              "      <td>1</td>\n",
              "      <td>7/4/11</td>\n",
              "      <td>6.828340</td>\n",
              "      <td>F</td>\n",
              "      <td>Hispanic</td>\n",
              "      <td>N</td>\n",
              "      <td>Y</td>\n",
              "      <td>...</td>\n",
              "      <td>4</td>\n",
              "      <td>180</td>\n",
              "      <td>175</td>\n",
              "      <td>0.972222</td>\n",
              "      <td>1.0</td>\n",
              "      <td>1.999999</td>\n",
              "      <td>1.972222</td>\n",
              "      <td>F</td>\n",
              "      <td>4</td>\n",
              "      <td>Hispanic</td>\n",
              "    </tr>\n",
              "    <tr>\n",
              "      <th>1</th>\n",
              "      <td>2017-2018</td>\n",
              "      <td>1</td>\n",
              "      <td>5</td>\n",
              "      <td>4</td>\n",
              "      <td>7/28/08</td>\n",
              "      <td>9.631957</td>\n",
              "      <td>M</td>\n",
              "      <td>Hispanic</td>\n",
              "      <td>N</td>\n",
              "      <td>N</td>\n",
              "      <td>...</td>\n",
              "      <td>3</td>\n",
              "      <td>180</td>\n",
              "      <td>168</td>\n",
              "      <td>0.933333</td>\n",
              "      <td>1.0</td>\n",
              "      <td>4.999999</td>\n",
              "      <td>4.933333</td>\n",
              "      <td>F</td>\n",
              "      <td>2</td>\n",
              "      <td>Multiple</td>\n",
              "    </tr>\n",
              "    <tr>\n",
              "      <th>2</th>\n",
              "      <td>2017-2018</td>\n",
              "      <td>3</td>\n",
              "      <td>3</td>\n",
              "      <td>4</td>\n",
              "      <td>5/6/08</td>\n",
              "      <td>9.905748</td>\n",
              "      <td>M</td>\n",
              "      <td>Hispanic</td>\n",
              "      <td>Y</td>\n",
              "      <td>N</td>\n",
              "      <td>...</td>\n",
              "      <td>2</td>\n",
              "      <td>180</td>\n",
              "      <td>175</td>\n",
              "      <td>0.972222</td>\n",
              "      <td>1.0</td>\n",
              "      <td>4.999999</td>\n",
              "      <td>4.972222</td>\n",
              "      <td>F</td>\n",
              "      <td>18</td>\n",
              "      <td>White</td>\n",
              "    </tr>\n",
              "    <tr>\n",
              "      <th>3</th>\n",
              "      <td>2017-2018</td>\n",
              "      <td>4</td>\n",
              "      <td>3</td>\n",
              "      <td>0</td>\n",
              "      <td>4/13/12</td>\n",
              "      <td>6.108271</td>\n",
              "      <td>M</td>\n",
              "      <td>Hispanic</td>\n",
              "      <td>N</td>\n",
              "      <td>N</td>\n",
              "      <td>...</td>\n",
              "      <td>4</td>\n",
              "      <td>180</td>\n",
              "      <td>125</td>\n",
              "      <td>0.694444</td>\n",
              "      <td>1.0</td>\n",
              "      <td>0.999999</td>\n",
              "      <td>0.694444</td>\n",
              "      <td>F</td>\n",
              "      <td>1</td>\n",
              "      <td>White</td>\n",
              "    </tr>\n",
              "    <tr>\n",
              "      <th>4</th>\n",
              "      <td>2017-2018</td>\n",
              "      <td>5</td>\n",
              "      <td>7</td>\n",
              "      <td>0</td>\n",
              "      <td>9/25/11</td>\n",
              "      <td>6.664066</td>\n",
              "      <td>M</td>\n",
              "      <td>Hispanic</td>\n",
              "      <td>N</td>\n",
              "      <td>N</td>\n",
              "      <td>...</td>\n",
              "      <td>1</td>\n",
              "      <td>180</td>\n",
              "      <td>165</td>\n",
              "      <td>0.916667</td>\n",
              "      <td>1.0</td>\n",
              "      <td>0.999999</td>\n",
              "      <td>0.916667</td>\n",
              "      <td>F</td>\n",
              "      <td>17</td>\n",
              "      <td>Hispanic</td>\n",
              "    </tr>\n",
              "  </tbody>\n",
              "</table>\n",
              "<p>5 rows × 24 columns</p>\n",
              "</div>\n",
              "      <button class=\"colab-df-convert\" onclick=\"convertToInteractive('df-01e57149-8205-4b6d-96b4-b2063fbec484')\"\n",
              "              title=\"Convert this dataframe to an interactive table.\"\n",
              "              style=\"display:none;\">\n",
              "        \n",
              "  <svg xmlns=\"http://www.w3.org/2000/svg\" height=\"24px\"viewBox=\"0 0 24 24\"\n",
              "       width=\"24px\">\n",
              "    <path d=\"M0 0h24v24H0V0z\" fill=\"none\"/>\n",
              "    <path d=\"M18.56 5.44l.94 2.06.94-2.06 2.06-.94-2.06-.94-.94-2.06-.94 2.06-2.06.94zm-11 1L8.5 8.5l.94-2.06 2.06-.94-2.06-.94L8.5 2.5l-.94 2.06-2.06.94zm10 10l.94 2.06.94-2.06 2.06-.94-2.06-.94-.94-2.06-.94 2.06-2.06.94z\"/><path d=\"M17.41 7.96l-1.37-1.37c-.4-.4-.92-.59-1.43-.59-.52 0-1.04.2-1.43.59L10.3 9.45l-7.72 7.72c-.78.78-.78 2.05 0 2.83L4 21.41c.39.39.9.59 1.41.59.51 0 1.02-.2 1.41-.59l7.78-7.78 2.81-2.81c.8-.78.8-2.07 0-2.86zM5.41 20L4 18.59l7.72-7.72 1.47 1.35L5.41 20z\"/>\n",
              "  </svg>\n",
              "      </button>\n",
              "      \n",
              "  <style>\n",
              "    .colab-df-container {\n",
              "      display:flex;\n",
              "      flex-wrap:wrap;\n",
              "      gap: 12px;\n",
              "    }\n",
              "\n",
              "    .colab-df-convert {\n",
              "      background-color: #E8F0FE;\n",
              "      border: none;\n",
              "      border-radius: 50%;\n",
              "      cursor: pointer;\n",
              "      display: none;\n",
              "      fill: #1967D2;\n",
              "      height: 32px;\n",
              "      padding: 0 0 0 0;\n",
              "      width: 32px;\n",
              "    }\n",
              "\n",
              "    .colab-df-convert:hover {\n",
              "      background-color: #E2EBFA;\n",
              "      box-shadow: 0px 1px 2px rgba(60, 64, 67, 0.3), 0px 1px 3px 1px rgba(60, 64, 67, 0.15);\n",
              "      fill: #174EA6;\n",
              "    }\n",
              "\n",
              "    [theme=dark] .colab-df-convert {\n",
              "      background-color: #3B4455;\n",
              "      fill: #D2E3FC;\n",
              "    }\n",
              "\n",
              "    [theme=dark] .colab-df-convert:hover {\n",
              "      background-color: #434B5C;\n",
              "      box-shadow: 0px 1px 3px 1px rgba(0, 0, 0, 0.15);\n",
              "      filter: drop-shadow(0px 1px 2px rgba(0, 0, 0, 0.3));\n",
              "      fill: #FFFFFF;\n",
              "    }\n",
              "  </style>\n",
              "\n",
              "      <script>\n",
              "        const buttonEl =\n",
              "          document.querySelector('#df-01e57149-8205-4b6d-96b4-b2063fbec484 button.colab-df-convert');\n",
              "        buttonEl.style.display =\n",
              "          google.colab.kernel.accessAllowed ? 'block' : 'none';\n",
              "\n",
              "        async function convertToInteractive(key) {\n",
              "          const element = document.querySelector('#df-01e57149-8205-4b6d-96b4-b2063fbec484');\n",
              "          const dataTable =\n",
              "            await google.colab.kernel.invokeFunction('convertToInteractive',\n",
              "                                                     [key], {});\n",
              "          if (!dataTable) return;\n",
              "\n",
              "          const docLinkHtml = 'Like what you see? Visit the ' +\n",
              "            '<a target=\"_blank\" href=https://colab.research.google.com/notebooks/data_table.ipynb>data table notebook</a>'\n",
              "            + ' to learn more about interactive tables.';\n",
              "          element.innerHTML = '';\n",
              "          dataTable['output_type'] = 'display_data';\n",
              "          await google.colab.output.renderOutput(dataTable, element);\n",
              "          const docLink = document.createElement('div');\n",
              "          docLink.innerHTML = docLinkHtml;\n",
              "          element.appendChild(docLink);\n",
              "        }\n",
              "      </script>\n",
              "    </div>\n",
              "  </div>\n",
              "  "
            ]
          },
          "metadata": {},
          "execution_count": 3
        }
      ],
      "source": [
        "df.head()"
      ]
    },
    {
      "cell_type": "code",
      "execution_count": 4,
      "metadata": {
        "colab": {
          "base_uri": "https://localhost:8080/"
        },
        "id": "lj8d1kXDUwjT",
        "outputId": "8fbff342-27dc-43e1-ec3b-358cbbd1803d"
      },
      "outputs": [
        {
          "output_type": "stream",
          "name": "stdout",
          "text": [
            "(11669, 24) AcademicYear                   object\n",
            "Stu_deID                        int64\n",
            "School_deID                     int64\n",
            "GradeLevel                      int64\n",
            "DOB                            object\n",
            "TestAge                       float64\n",
            "StudentGender                  object\n",
            "StudentEthnicity               object\n",
            "Special_Education              object\n",
            "Homeless                       object\n",
            "SocioEconomically              object\n",
            "TestDayName                    object\n",
            "TestDate                       object\n",
            "OverallScore                    int64\n",
            "OverallLevel                    int64\n",
            "ExpectedAttendanceDays          int64\n",
            "DaysAttended                    int64\n",
            "AttendedPct                   float64\n",
            "EnrolledPct                   float64\n",
            "GradeEnrolledPct              float64\n",
            "GradeAttendedPct              float64\n",
            "TeacherGender                  object\n",
            "TeacherTotalYearsOfService      int64\n",
            "TeacherEthnicity               object\n",
            "dtype: object\n"
          ]
        }
      ],
      "source": [
        "print(df.shape, df.dtypes)"
      ]
    },
    {
      "cell_type": "code",
      "execution_count": 5,
      "metadata": {
        "colab": {
          "base_uri": "https://localhost:8080/"
        },
        "id": "0_bQFsltKVdX",
        "outputId": "0260691d-6697-4d5e-b537-97f903560e31"
      },
      "outputs": [
        {
          "output_type": "stream",
          "name": "stdout",
          "text": [
            "Index(['AcademicYear', 'Stu_deID', 'School_deID', 'GradeLevel', 'DOB',\n",
            "       'TestAge', 'StudentGender', 'StudentEthnicity', 'Special_Education',\n",
            "       'Homeless', 'SocioEconomically', 'TestDayName', 'TestDate',\n",
            "       'OverallScore', 'OverallLevel', 'ExpectedAttendanceDays',\n",
            "       'DaysAttended', 'AttendedPct', 'EnrolledPct', 'GradeEnrolledPct',\n",
            "       'GradeAttendedPct', 'TeacherGender', 'TeacherTotalYearsOfService',\n",
            "       'TeacherEthnicity'],\n",
            "      dtype='object')\n"
          ]
        }
      ],
      "source": [
        "print(df.columns)"
      ]
    },
    {
      "cell_type": "markdown",
      "metadata": {
        "id": "1gOIHmwsdR-w"
      },
      "source": [
        "#####**CHECK DUPLICATED RECORDS**"
      ]
    },
    {
      "cell_type": "code",
      "execution_count": 6,
      "metadata": {
        "colab": {
          "base_uri": "https://localhost:8080/"
        },
        "id": "ITO6GuEGSsc9",
        "outputId": "4eec5332-e701-4f09-b10c-280d26d56a6d"
      },
      "outputs": [
        {
          "output_type": "stream",
          "name": "stdout",
          "text": [
            "0\n"
          ]
        }
      ],
      "source": [
        "print(df.duplicated().sum())"
      ]
    },
    {
      "cell_type": "markdown",
      "metadata": {
        "id": "Iu06iggOdWfx"
      },
      "source": [
        "#####**DISTRIBUTIONS OF EACH COLUMN**"
      ]
    },
    {
      "cell_type": "code",
      "execution_count": 7,
      "metadata": {
        "colab": {
          "base_uri": "https://localhost:8080/"
        },
        "id": "zcHdRFdMWRTb",
        "outputId": "1c177cc2-8f78-45e7-b3fc-fe620a40daa6"
      },
      "outputs": [
        {
          "output_type": "stream",
          "name": "stdout",
          "text": [
            "AcademicYear  Stu_deID  School_deID  GradeLevel  DOB       TestAge    StudentGender  StudentEthnicity  Special_Education  Homeless  SocioEconomically  TestDayName  TestDate  OverallScore  OverallLevel  ExpectedAttendanceDays  DaysAttended  AttendedPct  EnrolledPct  GradeEnrolledPct  GradeAttendedPct  TeacherGender  TeacherTotalYearsOfService  TeacherEthnicity\n",
            "2017-2018     0         3            1           7/4/11    6.828340   F              Hispanic          N                  Y         Y                  Wednesday    5/2/18    1503          4             180                     175           0.972222     1.000000     1.999999          1.972222          F              4                           Hispanic            1\n",
            "2020-2021     998       0            5           11/8/09   11.433500  M              Hispanic          N                  N         Y                  Thursday     4/15/21   1498          2             180                     172           0.955556     1.000000     5.999999          5.955556          F              34                          White               1\n",
            "              1007      5            3           12/26/11  9.317098   F              Multiple          N                  N         Y                  Tuesday      4/20/21   1552          4             180                     180           1.000000     1.000000     3.999999          3.999999          M              25                          Filipino            1\n",
            "              1009      0            5           8/28/10   10.820208  F              Filipino          N                  N         N                  Wednesday    6/23/21   1528          3             180                     179           0.994444     1.000000     5.999999          5.994444          F              7                           White               1\n",
            "              1010      4            3           10/29/11  9.511489   M              Hispanic          N                  N         Y                  Monday       5/3/21    1487          2             180                     173           0.961111     1.000000     3.999999          3.961111          F              25                          Hispanic            1\n",
            "                                                                                                                                                                                                                                                                                                                                                                            ..\n",
            "2018-2019     1176      7            3           1/13/10   9.174726   F              Hispanic          N                  N         Y                  Monday       3/18/19   1487          2             180                     165           0.916667     1.000000     3.999999          3.916667          F              2                           Asian               1\n",
            "              1177      6            2           5/19/11   7.835890   M              Hispanic          N                  N         N                  Wednesday    3/20/19   1573          4             180                     175           0.972222     1.000000     2.999999          2.972222          F              2                           Hispanic            1\n",
            "              1178      6            5           7/30/08   10.806519  F              Hispanic          N                  N         Y                  Tuesday      5/21/19   1574          4             180                     164           0.911111     1.000000     5.999999          5.911111          F              3                           Filipino            1\n",
            "              1180      4            0           10/4/12   6.576453   M              Hispanic          N                  N         Y                  Friday       5/3/19    1476          4             180                     162           0.900000     1.000000     0.999999          0.900000          F              7                           Hispanic            1\n",
            "2021-2022     4790      6            0           12/14/15  6.461461   M              Hispanic          Y                  N         Y                  Tuesday      5/31/22   249           2             169                     108           0.639053     0.938889     0.938889          0.639053          F              16                          White               1\n",
            "Length: 9508, dtype: int64\n"
          ]
        }
      ],
      "source": [
        "print(df.value_counts())"
      ]
    },
    {
      "cell_type": "markdown",
      "metadata": {
        "id": "dT6aZl62hOK3"
      },
      "source": [
        "#####**ADD STUDENT'S AGE COLUMN CONVERTING FROM DOB**"
      ]
    },
    {
      "cell_type": "code",
      "execution_count": 8,
      "metadata": {
        "id": "lS0Hx7-jg-Xy"
      },
      "outputs": [],
      "source": [
        "from datetime import date\n",
        "\n",
        "def calculate_age(born):\n",
        "    today = date.today()\n",
        "    try: \n",
        "        birthday = born.replace(year=today.year)\n",
        "    except ValueError: # raised when birth date is February 29 and the current year is not a leap year\n",
        "        birthday = born.replace(month=born.month+1, day=1, year=today.year)\n",
        "    if birthday > today:\n",
        "        return today.year - born.year - 1\n",
        "    else:\n",
        "        return today.year - born.year"
      ]
    },
    {
      "cell_type": "code",
      "execution_count": 9,
      "metadata": {
        "id": "57Jx4KGnwmol"
      },
      "outputs": [],
      "source": [
        "#change DOB into year-month-date format and save under 'format_DOB'\n",
        "df['format_DOB'] =  pd.to_datetime(df['DOB'], format='%m/%d/%y')"
      ]
    },
    {
      "cell_type": "code",
      "execution_count": 10,
      "metadata": {
        "id": "tQELh_KiyD2-"
      },
      "outputs": [],
      "source": [
        "#apply on DOB column\n",
        "df['age'] = df['format_DOB'].apply(calculate_age)"
      ]
    },
    {
      "cell_type": "code",
      "execution_count": 11,
      "metadata": {
        "colab": {
          "base_uri": "https://localhost:8080/",
          "height": 299
        },
        "id": "dJCLocHzy9V2",
        "outputId": "f2c4c863-13d8-429a-9779-0018ca79ebb3"
      },
      "outputs": [
        {
          "output_type": "execute_result",
          "data": {
            "text/plain": [
              "  AcademicYear  Stu_deID  School_deID  GradeLevel      DOB   TestAge  \\\n",
              "0    2017-2018         0            3           1   7/4/11  6.828340   \n",
              "1    2017-2018         1            5           4  7/28/08  9.631957   \n",
              "2    2017-2018         3            3           4   5/6/08  9.905748   \n",
              "3    2017-2018         4            3           0  4/13/12  6.108271   \n",
              "4    2017-2018         5            7           0  9/25/11  6.664066   \n",
              "\n",
              "  StudentGender StudentEthnicity Special_Education Homeless  ... DaysAttended  \\\n",
              "0             F         Hispanic                 N        Y  ...          175   \n",
              "1             M         Hispanic                 N        N  ...          168   \n",
              "2             M         Hispanic                 Y        N  ...          175   \n",
              "3             M         Hispanic                 N        N  ...          125   \n",
              "4             M         Hispanic                 N        N  ...          165   \n",
              "\n",
              "  AttendedPct EnrolledPct  GradeEnrolledPct  GradeAttendedPct  TeacherGender  \\\n",
              "0    0.972222         1.0          1.999999          1.972222              F   \n",
              "1    0.933333         1.0          4.999999          4.933333              F   \n",
              "2    0.972222         1.0          4.999999          4.972222              F   \n",
              "3    0.694444         1.0          0.999999          0.694444              F   \n",
              "4    0.916667         1.0          0.999999          0.916667              F   \n",
              "\n",
              "   TeacherTotalYearsOfService  TeacherEthnicity  format_DOB  age  \n",
              "0                           4          Hispanic  2011-07-04   11  \n",
              "1                           2          Multiple  2008-07-28   14  \n",
              "2                          18             White  2008-05-06   14  \n",
              "3                           1             White  2012-04-13   10  \n",
              "4                          17          Hispanic  2011-09-25   11  \n",
              "\n",
              "[5 rows x 26 columns]"
            ],
            "text/html": [
              "\n",
              "  <div id=\"df-7b712cc2-cc56-4698-8e83-d045702088c9\">\n",
              "    <div class=\"colab-df-container\">\n",
              "      <div>\n",
              "<style scoped>\n",
              "    .dataframe tbody tr th:only-of-type {\n",
              "        vertical-align: middle;\n",
              "    }\n",
              "\n",
              "    .dataframe tbody tr th {\n",
              "        vertical-align: top;\n",
              "    }\n",
              "\n",
              "    .dataframe thead th {\n",
              "        text-align: right;\n",
              "    }\n",
              "</style>\n",
              "<table border=\"1\" class=\"dataframe\">\n",
              "  <thead>\n",
              "    <tr style=\"text-align: right;\">\n",
              "      <th></th>\n",
              "      <th>AcademicYear</th>\n",
              "      <th>Stu_deID</th>\n",
              "      <th>School_deID</th>\n",
              "      <th>GradeLevel</th>\n",
              "      <th>DOB</th>\n",
              "      <th>TestAge</th>\n",
              "      <th>StudentGender</th>\n",
              "      <th>StudentEthnicity</th>\n",
              "      <th>Special_Education</th>\n",
              "      <th>Homeless</th>\n",
              "      <th>...</th>\n",
              "      <th>DaysAttended</th>\n",
              "      <th>AttendedPct</th>\n",
              "      <th>EnrolledPct</th>\n",
              "      <th>GradeEnrolledPct</th>\n",
              "      <th>GradeAttendedPct</th>\n",
              "      <th>TeacherGender</th>\n",
              "      <th>TeacherTotalYearsOfService</th>\n",
              "      <th>TeacherEthnicity</th>\n",
              "      <th>format_DOB</th>\n",
              "      <th>age</th>\n",
              "    </tr>\n",
              "  </thead>\n",
              "  <tbody>\n",
              "    <tr>\n",
              "      <th>0</th>\n",
              "      <td>2017-2018</td>\n",
              "      <td>0</td>\n",
              "      <td>3</td>\n",
              "      <td>1</td>\n",
              "      <td>7/4/11</td>\n",
              "      <td>6.828340</td>\n",
              "      <td>F</td>\n",
              "      <td>Hispanic</td>\n",
              "      <td>N</td>\n",
              "      <td>Y</td>\n",
              "      <td>...</td>\n",
              "      <td>175</td>\n",
              "      <td>0.972222</td>\n",
              "      <td>1.0</td>\n",
              "      <td>1.999999</td>\n",
              "      <td>1.972222</td>\n",
              "      <td>F</td>\n",
              "      <td>4</td>\n",
              "      <td>Hispanic</td>\n",
              "      <td>2011-07-04</td>\n",
              "      <td>11</td>\n",
              "    </tr>\n",
              "    <tr>\n",
              "      <th>1</th>\n",
              "      <td>2017-2018</td>\n",
              "      <td>1</td>\n",
              "      <td>5</td>\n",
              "      <td>4</td>\n",
              "      <td>7/28/08</td>\n",
              "      <td>9.631957</td>\n",
              "      <td>M</td>\n",
              "      <td>Hispanic</td>\n",
              "      <td>N</td>\n",
              "      <td>N</td>\n",
              "      <td>...</td>\n",
              "      <td>168</td>\n",
              "      <td>0.933333</td>\n",
              "      <td>1.0</td>\n",
              "      <td>4.999999</td>\n",
              "      <td>4.933333</td>\n",
              "      <td>F</td>\n",
              "      <td>2</td>\n",
              "      <td>Multiple</td>\n",
              "      <td>2008-07-28</td>\n",
              "      <td>14</td>\n",
              "    </tr>\n",
              "    <tr>\n",
              "      <th>2</th>\n",
              "      <td>2017-2018</td>\n",
              "      <td>3</td>\n",
              "      <td>3</td>\n",
              "      <td>4</td>\n",
              "      <td>5/6/08</td>\n",
              "      <td>9.905748</td>\n",
              "      <td>M</td>\n",
              "      <td>Hispanic</td>\n",
              "      <td>Y</td>\n",
              "      <td>N</td>\n",
              "      <td>...</td>\n",
              "      <td>175</td>\n",
              "      <td>0.972222</td>\n",
              "      <td>1.0</td>\n",
              "      <td>4.999999</td>\n",
              "      <td>4.972222</td>\n",
              "      <td>F</td>\n",
              "      <td>18</td>\n",
              "      <td>White</td>\n",
              "      <td>2008-05-06</td>\n",
              "      <td>14</td>\n",
              "    </tr>\n",
              "    <tr>\n",
              "      <th>3</th>\n",
              "      <td>2017-2018</td>\n",
              "      <td>4</td>\n",
              "      <td>3</td>\n",
              "      <td>0</td>\n",
              "      <td>4/13/12</td>\n",
              "      <td>6.108271</td>\n",
              "      <td>M</td>\n",
              "      <td>Hispanic</td>\n",
              "      <td>N</td>\n",
              "      <td>N</td>\n",
              "      <td>...</td>\n",
              "      <td>125</td>\n",
              "      <td>0.694444</td>\n",
              "      <td>1.0</td>\n",
              "      <td>0.999999</td>\n",
              "      <td>0.694444</td>\n",
              "      <td>F</td>\n",
              "      <td>1</td>\n",
              "      <td>White</td>\n",
              "      <td>2012-04-13</td>\n",
              "      <td>10</td>\n",
              "    </tr>\n",
              "    <tr>\n",
              "      <th>4</th>\n",
              "      <td>2017-2018</td>\n",
              "      <td>5</td>\n",
              "      <td>7</td>\n",
              "      <td>0</td>\n",
              "      <td>9/25/11</td>\n",
              "      <td>6.664066</td>\n",
              "      <td>M</td>\n",
              "      <td>Hispanic</td>\n",
              "      <td>N</td>\n",
              "      <td>N</td>\n",
              "      <td>...</td>\n",
              "      <td>165</td>\n",
              "      <td>0.916667</td>\n",
              "      <td>1.0</td>\n",
              "      <td>0.999999</td>\n",
              "      <td>0.916667</td>\n",
              "      <td>F</td>\n",
              "      <td>17</td>\n",
              "      <td>Hispanic</td>\n",
              "      <td>2011-09-25</td>\n",
              "      <td>11</td>\n",
              "    </tr>\n",
              "  </tbody>\n",
              "</table>\n",
              "<p>5 rows × 26 columns</p>\n",
              "</div>\n",
              "      <button class=\"colab-df-convert\" onclick=\"convertToInteractive('df-7b712cc2-cc56-4698-8e83-d045702088c9')\"\n",
              "              title=\"Convert this dataframe to an interactive table.\"\n",
              "              style=\"display:none;\">\n",
              "        \n",
              "  <svg xmlns=\"http://www.w3.org/2000/svg\" height=\"24px\"viewBox=\"0 0 24 24\"\n",
              "       width=\"24px\">\n",
              "    <path d=\"M0 0h24v24H0V0z\" fill=\"none\"/>\n",
              "    <path d=\"M18.56 5.44l.94 2.06.94-2.06 2.06-.94-2.06-.94-.94-2.06-.94 2.06-2.06.94zm-11 1L8.5 8.5l.94-2.06 2.06-.94-2.06-.94L8.5 2.5l-.94 2.06-2.06.94zm10 10l.94 2.06.94-2.06 2.06-.94-2.06-.94-.94-2.06-.94 2.06-2.06.94z\"/><path d=\"M17.41 7.96l-1.37-1.37c-.4-.4-.92-.59-1.43-.59-.52 0-1.04.2-1.43.59L10.3 9.45l-7.72 7.72c-.78.78-.78 2.05 0 2.83L4 21.41c.39.39.9.59 1.41.59.51 0 1.02-.2 1.41-.59l7.78-7.78 2.81-2.81c.8-.78.8-2.07 0-2.86zM5.41 20L4 18.59l7.72-7.72 1.47 1.35L5.41 20z\"/>\n",
              "  </svg>\n",
              "      </button>\n",
              "      \n",
              "  <style>\n",
              "    .colab-df-container {\n",
              "      display:flex;\n",
              "      flex-wrap:wrap;\n",
              "      gap: 12px;\n",
              "    }\n",
              "\n",
              "    .colab-df-convert {\n",
              "      background-color: #E8F0FE;\n",
              "      border: none;\n",
              "      border-radius: 50%;\n",
              "      cursor: pointer;\n",
              "      display: none;\n",
              "      fill: #1967D2;\n",
              "      height: 32px;\n",
              "      padding: 0 0 0 0;\n",
              "      width: 32px;\n",
              "    }\n",
              "\n",
              "    .colab-df-convert:hover {\n",
              "      background-color: #E2EBFA;\n",
              "      box-shadow: 0px 1px 2px rgba(60, 64, 67, 0.3), 0px 1px 3px 1px rgba(60, 64, 67, 0.15);\n",
              "      fill: #174EA6;\n",
              "    }\n",
              "\n",
              "    [theme=dark] .colab-df-convert {\n",
              "      background-color: #3B4455;\n",
              "      fill: #D2E3FC;\n",
              "    }\n",
              "\n",
              "    [theme=dark] .colab-df-convert:hover {\n",
              "      background-color: #434B5C;\n",
              "      box-shadow: 0px 1px 3px 1px rgba(0, 0, 0, 0.15);\n",
              "      filter: drop-shadow(0px 1px 2px rgba(0, 0, 0, 0.3));\n",
              "      fill: #FFFFFF;\n",
              "    }\n",
              "  </style>\n",
              "\n",
              "      <script>\n",
              "        const buttonEl =\n",
              "          document.querySelector('#df-7b712cc2-cc56-4698-8e83-d045702088c9 button.colab-df-convert');\n",
              "        buttonEl.style.display =\n",
              "          google.colab.kernel.accessAllowed ? 'block' : 'none';\n",
              "\n",
              "        async function convertToInteractive(key) {\n",
              "          const element = document.querySelector('#df-7b712cc2-cc56-4698-8e83-d045702088c9');\n",
              "          const dataTable =\n",
              "            await google.colab.kernel.invokeFunction('convertToInteractive',\n",
              "                                                     [key], {});\n",
              "          if (!dataTable) return;\n",
              "\n",
              "          const docLinkHtml = 'Like what you see? Visit the ' +\n",
              "            '<a target=\"_blank\" href=https://colab.research.google.com/notebooks/data_table.ipynb>data table notebook</a>'\n",
              "            + ' to learn more about interactive tables.';\n",
              "          element.innerHTML = '';\n",
              "          dataTable['output_type'] = 'display_data';\n",
              "          await google.colab.output.renderOutput(dataTable, element);\n",
              "          const docLink = document.createElement('div');\n",
              "          docLink.innerHTML = docLinkHtml;\n",
              "          element.appendChild(docLink);\n",
              "        }\n",
              "      </script>\n",
              "    </div>\n",
              "  </div>\n",
              "  "
            ]
          },
          "metadata": {},
          "execution_count": 11
        }
      ],
      "source": [
        "df.head(5)"
      ]
    },
    {
      "cell_type": "markdown",
      "metadata": {
        "id": "a-l7qYJrPzGI"
      },
      "source": [
        "##**DATA VISUALIZATION**"
      ]
    },
    {
      "cell_type": "markdown",
      "metadata": {
        "id": "xLhRiaQHVBwr"
      },
      "source": [
        "####**DISTRIBUTION PLOTS OF CATEGORICAL VARIABLES**"
      ]
    },
    {
      "cell_type": "code",
      "execution_count": 12,
      "metadata": {
        "id": "FU8b9HpvwG-y"
      },
      "outputs": [],
      "source": [
        "#Split numerical and categorical dataframes for visualization purpose\n",
        "\n",
        "#for num_df, only extract the useful columns and drop the columns such as 'Stu_deID'\n",
        "\n",
        "num_df = df[['School_deID','GradeLevel','TestAge','OverallScore','OverallLevel','ExpectedAttendanceDays','DaysAttended',\n",
        "           'AttendedPct', 'EnrolledPct' ,'GradeEnrolledPct', 'GradeAttendedPct','TeacherTotalYearsOfService','format_DOB','age']]\n",
        "\n",
        "#for cat_df, keep only the suitable features for visualization \n",
        "cat_df = df[['AcademicYear','StudentGender','StudentEthnicity','Special_Education','Homeless','SocioEconomically','TestDayName',\n",
        "           'TeacherGender','TeacherEthnicity']]"
      ]
    },
    {
      "cell_type": "code",
      "execution_count": 13,
      "metadata": {
        "colab": {
          "base_uri": "https://localhost:8080/",
          "height": 270
        },
        "id": "fMnS15rnVp1T",
        "outputId": "8f4fefb5-979c-4255-d980-4e727aa6a5e1"
      },
      "outputs": [
        {
          "output_type": "execute_result",
          "data": {
            "text/plain": [
              "   School_deID  GradeLevel   TestAge  OverallScore  OverallLevel  \\\n",
              "0            3           1  6.828340          1503             4   \n",
              "1            5           4  9.631957          1535             3   \n",
              "2            3           4  9.905748          1480             2   \n",
              "3            3           0  6.108271          1461             4   \n",
              "4            7           0  6.664066          1357             1   \n",
              "\n",
              "   ExpectedAttendanceDays  DaysAttended  AttendedPct  EnrolledPct  \\\n",
              "0                     180           175     0.972222          1.0   \n",
              "1                     180           168     0.933333          1.0   \n",
              "2                     180           175     0.972222          1.0   \n",
              "3                     180           125     0.694444          1.0   \n",
              "4                     180           165     0.916667          1.0   \n",
              "\n",
              "   GradeEnrolledPct  GradeAttendedPct  TeacherTotalYearsOfService format_DOB  \\\n",
              "0          1.999999          1.972222                           4 2011-07-04   \n",
              "1          4.999999          4.933333                           2 2008-07-28   \n",
              "2          4.999999          4.972222                          18 2008-05-06   \n",
              "3          0.999999          0.694444                           1 2012-04-13   \n",
              "4          0.999999          0.916667                          17 2011-09-25   \n",
              "\n",
              "   age  \n",
              "0   11  \n",
              "1   14  \n",
              "2   14  \n",
              "3   10  \n",
              "4   11  "
            ],
            "text/html": [
              "\n",
              "  <div id=\"df-aef77532-dc1c-4f7c-8769-fb2772b91cc9\">\n",
              "    <div class=\"colab-df-container\">\n",
              "      <div>\n",
              "<style scoped>\n",
              "    .dataframe tbody tr th:only-of-type {\n",
              "        vertical-align: middle;\n",
              "    }\n",
              "\n",
              "    .dataframe tbody tr th {\n",
              "        vertical-align: top;\n",
              "    }\n",
              "\n",
              "    .dataframe thead th {\n",
              "        text-align: right;\n",
              "    }\n",
              "</style>\n",
              "<table border=\"1\" class=\"dataframe\">\n",
              "  <thead>\n",
              "    <tr style=\"text-align: right;\">\n",
              "      <th></th>\n",
              "      <th>School_deID</th>\n",
              "      <th>GradeLevel</th>\n",
              "      <th>TestAge</th>\n",
              "      <th>OverallScore</th>\n",
              "      <th>OverallLevel</th>\n",
              "      <th>ExpectedAttendanceDays</th>\n",
              "      <th>DaysAttended</th>\n",
              "      <th>AttendedPct</th>\n",
              "      <th>EnrolledPct</th>\n",
              "      <th>GradeEnrolledPct</th>\n",
              "      <th>GradeAttendedPct</th>\n",
              "      <th>TeacherTotalYearsOfService</th>\n",
              "      <th>format_DOB</th>\n",
              "      <th>age</th>\n",
              "    </tr>\n",
              "  </thead>\n",
              "  <tbody>\n",
              "    <tr>\n",
              "      <th>0</th>\n",
              "      <td>3</td>\n",
              "      <td>1</td>\n",
              "      <td>6.828340</td>\n",
              "      <td>1503</td>\n",
              "      <td>4</td>\n",
              "      <td>180</td>\n",
              "      <td>175</td>\n",
              "      <td>0.972222</td>\n",
              "      <td>1.0</td>\n",
              "      <td>1.999999</td>\n",
              "      <td>1.972222</td>\n",
              "      <td>4</td>\n",
              "      <td>2011-07-04</td>\n",
              "      <td>11</td>\n",
              "    </tr>\n",
              "    <tr>\n",
              "      <th>1</th>\n",
              "      <td>5</td>\n",
              "      <td>4</td>\n",
              "      <td>9.631957</td>\n",
              "      <td>1535</td>\n",
              "      <td>3</td>\n",
              "      <td>180</td>\n",
              "      <td>168</td>\n",
              "      <td>0.933333</td>\n",
              "      <td>1.0</td>\n",
              "      <td>4.999999</td>\n",
              "      <td>4.933333</td>\n",
              "      <td>2</td>\n",
              "      <td>2008-07-28</td>\n",
              "      <td>14</td>\n",
              "    </tr>\n",
              "    <tr>\n",
              "      <th>2</th>\n",
              "      <td>3</td>\n",
              "      <td>4</td>\n",
              "      <td>9.905748</td>\n",
              "      <td>1480</td>\n",
              "      <td>2</td>\n",
              "      <td>180</td>\n",
              "      <td>175</td>\n",
              "      <td>0.972222</td>\n",
              "      <td>1.0</td>\n",
              "      <td>4.999999</td>\n",
              "      <td>4.972222</td>\n",
              "      <td>18</td>\n",
              "      <td>2008-05-06</td>\n",
              "      <td>14</td>\n",
              "    </tr>\n",
              "    <tr>\n",
              "      <th>3</th>\n",
              "      <td>3</td>\n",
              "      <td>0</td>\n",
              "      <td>6.108271</td>\n",
              "      <td>1461</td>\n",
              "      <td>4</td>\n",
              "      <td>180</td>\n",
              "      <td>125</td>\n",
              "      <td>0.694444</td>\n",
              "      <td>1.0</td>\n",
              "      <td>0.999999</td>\n",
              "      <td>0.694444</td>\n",
              "      <td>1</td>\n",
              "      <td>2012-04-13</td>\n",
              "      <td>10</td>\n",
              "    </tr>\n",
              "    <tr>\n",
              "      <th>4</th>\n",
              "      <td>7</td>\n",
              "      <td>0</td>\n",
              "      <td>6.664066</td>\n",
              "      <td>1357</td>\n",
              "      <td>1</td>\n",
              "      <td>180</td>\n",
              "      <td>165</td>\n",
              "      <td>0.916667</td>\n",
              "      <td>1.0</td>\n",
              "      <td>0.999999</td>\n",
              "      <td>0.916667</td>\n",
              "      <td>17</td>\n",
              "      <td>2011-09-25</td>\n",
              "      <td>11</td>\n",
              "    </tr>\n",
              "  </tbody>\n",
              "</table>\n",
              "</div>\n",
              "      <button class=\"colab-df-convert\" onclick=\"convertToInteractive('df-aef77532-dc1c-4f7c-8769-fb2772b91cc9')\"\n",
              "              title=\"Convert this dataframe to an interactive table.\"\n",
              "              style=\"display:none;\">\n",
              "        \n",
              "  <svg xmlns=\"http://www.w3.org/2000/svg\" height=\"24px\"viewBox=\"0 0 24 24\"\n",
              "       width=\"24px\">\n",
              "    <path d=\"M0 0h24v24H0V0z\" fill=\"none\"/>\n",
              "    <path d=\"M18.56 5.44l.94 2.06.94-2.06 2.06-.94-2.06-.94-.94-2.06-.94 2.06-2.06.94zm-11 1L8.5 8.5l.94-2.06 2.06-.94-2.06-.94L8.5 2.5l-.94 2.06-2.06.94zm10 10l.94 2.06.94-2.06 2.06-.94-2.06-.94-.94-2.06-.94 2.06-2.06.94z\"/><path d=\"M17.41 7.96l-1.37-1.37c-.4-.4-.92-.59-1.43-.59-.52 0-1.04.2-1.43.59L10.3 9.45l-7.72 7.72c-.78.78-.78 2.05 0 2.83L4 21.41c.39.39.9.59 1.41.59.51 0 1.02-.2 1.41-.59l7.78-7.78 2.81-2.81c.8-.78.8-2.07 0-2.86zM5.41 20L4 18.59l7.72-7.72 1.47 1.35L5.41 20z\"/>\n",
              "  </svg>\n",
              "      </button>\n",
              "      \n",
              "  <style>\n",
              "    .colab-df-container {\n",
              "      display:flex;\n",
              "      flex-wrap:wrap;\n",
              "      gap: 12px;\n",
              "    }\n",
              "\n",
              "    .colab-df-convert {\n",
              "      background-color: #E8F0FE;\n",
              "      border: none;\n",
              "      border-radius: 50%;\n",
              "      cursor: pointer;\n",
              "      display: none;\n",
              "      fill: #1967D2;\n",
              "      height: 32px;\n",
              "      padding: 0 0 0 0;\n",
              "      width: 32px;\n",
              "    }\n",
              "\n",
              "    .colab-df-convert:hover {\n",
              "      background-color: #E2EBFA;\n",
              "      box-shadow: 0px 1px 2px rgba(60, 64, 67, 0.3), 0px 1px 3px 1px rgba(60, 64, 67, 0.15);\n",
              "      fill: #174EA6;\n",
              "    }\n",
              "\n",
              "    [theme=dark] .colab-df-convert {\n",
              "      background-color: #3B4455;\n",
              "      fill: #D2E3FC;\n",
              "    }\n",
              "\n",
              "    [theme=dark] .colab-df-convert:hover {\n",
              "      background-color: #434B5C;\n",
              "      box-shadow: 0px 1px 3px 1px rgba(0, 0, 0, 0.15);\n",
              "      filter: drop-shadow(0px 1px 2px rgba(0, 0, 0, 0.3));\n",
              "      fill: #FFFFFF;\n",
              "    }\n",
              "  </style>\n",
              "\n",
              "      <script>\n",
              "        const buttonEl =\n",
              "          document.querySelector('#df-aef77532-dc1c-4f7c-8769-fb2772b91cc9 button.colab-df-convert');\n",
              "        buttonEl.style.display =\n",
              "          google.colab.kernel.accessAllowed ? 'block' : 'none';\n",
              "\n",
              "        async function convertToInteractive(key) {\n",
              "          const element = document.querySelector('#df-aef77532-dc1c-4f7c-8769-fb2772b91cc9');\n",
              "          const dataTable =\n",
              "            await google.colab.kernel.invokeFunction('convertToInteractive',\n",
              "                                                     [key], {});\n",
              "          if (!dataTable) return;\n",
              "\n",
              "          const docLinkHtml = 'Like what you see? Visit the ' +\n",
              "            '<a target=\"_blank\" href=https://colab.research.google.com/notebooks/data_table.ipynb>data table notebook</a>'\n",
              "            + ' to learn more about interactive tables.';\n",
              "          element.innerHTML = '';\n",
              "          dataTable['output_type'] = 'display_data';\n",
              "          await google.colab.output.renderOutput(dataTable, element);\n",
              "          const docLink = document.createElement('div');\n",
              "          docLink.innerHTML = docLinkHtml;\n",
              "          element.appendChild(docLink);\n",
              "        }\n",
              "      </script>\n",
              "    </div>\n",
              "  </div>\n",
              "  "
            ]
          },
          "metadata": {},
          "execution_count": 13
        }
      ],
      "source": [
        "num_df.head()"
      ]
    },
    {
      "cell_type": "code",
      "execution_count": 14,
      "metadata": {
        "colab": {
          "base_uri": "https://localhost:8080/",
          "height": 1000
        },
        "id": "gyQYx4wPF95p",
        "outputId": "e110f8e2-380b-417e-e120-a90fb352cacc"
      },
      "outputs": [
        {
          "output_type": "display_data",
          "data": {
            "text/plain": [
              "<Figure size 864x1152 with 9 Axes>"
            ],
            "image/png": "[encoded data removed]"
          },
          "metadata": {
            "needs_background": "light"
          }
        }
      ],
      "source": [
        "\n",
        "fig , ax = plt.subplots(3,3, figsize = (12,16))     # set up 2 x 2 frame count plot with figsize 10 x 10\n",
        "fig.suptitle(\"Distribution of Categorical Features\", fontsize=18)\n",
        "\n",
        "for i , subplots in zip (cat_df, ax.flatten()):\n",
        "  g = sns.countplot(cat_df[i],hue = df['OverallLevel'],ax = subplots, palette = 'CMRmap_r')\n",
        "  g.set_xticklabels(labels=cat_df[i].unique(), rotation= 65)\n",
        "\n",
        "\n",
        "fig.tight_layout(pad= 5.0)\n",
        "plt.legend(loc = 'upper right')\n",
        "plt.show()"
      ]
    },
    {
      "cell_type": "markdown",
      "metadata": {
        "id": "VzoNfeGW9Zrq"
      },
      "source": [
        "####**From the categorical distribution plots, it's noted that**\n",
        "\n",
        "1.  Similar counts between academic_year, student's gender (except X unique value). \n",
        "\n",
        "2.  Less counts of students with required special education, homeless, non-socioeconomically. \n",
        "\n",
        "3.  Majority of students are Hispanic. \n",
        "\n",
        "4.  Majority of test days are from Monday through Friday.  \n",
        "\n",
        "5.  Most teachers are females.  Most teachers are Hispanic. \n",
        "\n",
        "6.  Unique value X in 'StudentGender', Nan in 'TestDayName', Missing  in 'TeacherEthnicity'. \n",
        "All of the values will be replaced with the mode of each feature column in Missing Value Imputation Section."
      ]
    },
    {
      "cell_type": "markdown",
      "metadata": {
        "id": "Fwv1pak1VKHL"
      },
      "source": [
        "####**DISTRIBUTION PLOTS OF NUMERICAL VARIABLES**"
      ]
    },
    {
      "cell_type": "code",
      "execution_count": 15,
      "metadata": {
        "colab": {
          "base_uri": "https://localhost:8080/",
          "height": 1000
        },
        "id": "-64jwkZ_e-G_",
        "outputId": "5029a2d7-de14-4ef2-9f13-9b1130786f3d"
      },
      "outputs": [
        {
          "output_type": "stream",
          "name": "stderr",
          "text": [
            "WARNING:matplotlib.legend:No handles with labels found to put in legend.\n",
            "WARNING:matplotlib.legend:No handles with labels found to put in legend.\n",
            "WARNING:matplotlib.legend:No handles with labels found to put in legend.\n",
            "WARNING:matplotlib.legend:No handles with labels found to put in legend.\n",
            "WARNING:matplotlib.legend:No handles with labels found to put in legend.\n",
            "WARNING:matplotlib.legend:No handles with labels found to put in legend.\n",
            "WARNING:matplotlib.legend:No handles with labels found to put in legend.\n",
            "WARNING:matplotlib.legend:No handles with labels found to put in legend.\n",
            "WARNING:matplotlib.legend:No handles with labels found to put in legend.\n",
            "WARNING:matplotlib.legend:No handles with labels found to put in legend.\n",
            "WARNING:matplotlib.legend:No handles with labels found to put in legend.\n",
            "WARNING:matplotlib.legend:No handles with labels found to put in legend.\n",
            "WARNING:matplotlib.legend:No handles with labels found to put in legend.\n",
            "WARNING:matplotlib.legend:No handles with labels found to put in legend.\n"
          ]
        },
        {
          "output_type": "display_data",
          "data": {
            "text/plain": [
              "<Figure size 1152x1152 with 14 Axes>"
            ],
            "image/png": "[encoded data removed]"
          },
          "metadata": {
            "needs_background": "light"
          }
        }
      ],
      "source": [
        "fig , ax = plt.subplots(3,3, figsize = (16,16))     \n",
        "fig.suptitle(\"Distribution of Categorical Features\", fontsize=18)\n",
        "\n",
        "for i, column in enumerate(num_df, 1):\n",
        "    plt.subplot(4, 4, i)\n",
        "    sns.distplot(x=num_df[column], color = 'blue') \n",
        "    plt.legend() \n",
        "    plt.xlabel(column)\n",
        "    fig.tight_layout(pad=4.0)"
      ]
    },
    {
      "cell_type": "markdown",
      "metadata": {
        "id": "GC9jFko5vLlk"
      },
      "source": [
        "####**From the numerical histograms, it's noted that**\n",
        "\n",
        "1. Normal distributions are observed for TestAge and age\n",
        "\n",
        "2.  OverallScore, ExpectedAttendanceDays, DaysAttended, AttendedPct, EnrolledPct are left skewed meaning most student's attendance are higher. \n",
        "\n",
        "3.  TeacherTotalYearsofService are slighly right skewed meaning junior level teachers outweigh the experienced senior teachers.   \n",
        "\n",
        "3.  Zero values in 'OverallScore'. \n",
        "\n"
      ]
    },
    {
      "cell_type": "markdown",
      "metadata": {
        "id": "td4WO3v7T97J"
      },
      "source": [
        "####**CORRELATION PLOT**"
      ]
    },
    {
      "cell_type": "code",
      "execution_count": 16,
      "metadata": {
        "colab": {
          "base_uri": "https://localhost:8080/",
          "height": 739
        },
        "id": "lx9gQtP3g1Jb",
        "outputId": "6014bfda-3bb4-4e6d-f266-c7d0e82e6a7d"
      },
      "outputs": [
        {
          "output_type": "execute_result",
          "data": {
            "text/plain": [
              "<matplotlib.axes._subplots.AxesSubplot at 0x7f068bb36bd0>"
            ]
          },
          "metadata": {},
          "execution_count": 16
        },
        {
          "output_type": "display_data",
          "data": {
            "text/plain": [
              "<Figure size 720x720 with 2 Axes>"
            ],
            "image/png": "[encoded data removed]"
          },
          "metadata": {
            "needs_background": "light"
          }
        }
      ],
      "source": [
        "corr = df.corr()\n",
        "kot = corr[corr>=.7]  #filter correlation pairs higher than 0.9\n",
        "fig, ax = plt.subplots()\n",
        "fig.set_size_inches(10,10)\n",
        "sns.heatmap(kot, annot=True, cmap=\"RdPu\", center=0, ax=ax)"
      ]
    },
    {
      "cell_type": "markdown",
      "metadata": {
        "id": "EZJA7HWQkSs4"
      },
      "source": [
        "####**Highly correlated features are**\n",
        "\n",
        "\n",
        "\n",
        "1.   GradeLevel & TestAge\n",
        "2.   OverallScore & OverallLevel\n",
        "3.   GradeEnrolledPct & GradeAttendedPct\n",
        "4.   DaysAttended & AttendedPct\n",
        "\n",
        "\n",
        "\n"
      ]
    },
    {
      "cell_type": "markdown",
      "metadata": {
        "id": "8Vc5i_9suJuq"
      },
      "source": [
        "###**DISTRIBUTION OF TARGET CLASSES: OVERALLLEVEL**"
      ]
    },
    {
      "cell_type": "code",
      "execution_count": 17,
      "metadata": {
        "colab": {
          "base_uri": "https://localhost:8080/",
          "height": 296
        },
        "id": "ETln82geuITg",
        "outputId": "0878cfc3-55ca-4e47-cabb-942a59bcbf02"
      },
      "outputs": [
        {
          "output_type": "execute_result",
          "data": {
            "text/plain": [
              "<matplotlib.axes._subplots.AxesSubplot at 0x7f068b6f8c50>"
            ]
          },
          "metadata": {},
          "execution_count": 17
        },
        {
          "output_type": "display_data",
          "data": {
            "text/plain": [
              "<Figure size 432x288 with 1 Axes>"
            ],
            "image/png": "[encoded data removed]"
          },
          "metadata": {
            "needs_background": "light"
          }
        }
      ],
      "source": [
        "fig_szie=(12,8)\n",
        "sns.countplot(df['OverallLevel'], data = df, palette = 'rainbow_r')"
      ]
    },
    {
      "cell_type": "markdown",
      "metadata": {
        "id": "0Wf0Qk-zwEfX"
      },
      "source": [
        "###A slight class-imbalance was observed amaong the scores.  \n",
        "\n",
        "1.  Downsampling will be performed for level 2 and 3 as reference to level 4 count. \n",
        "\n",
        "2. Balanced dataset will be trained with models to see the accuracy performance. "
      ]
    },
    {
      "cell_type": "code",
      "execution_count": 18,
      "metadata": {
        "id": "BOJyJNBF87m4"
      },
      "outputs": [],
      "source": [
        "#downsamples level 2 and 3 as reference to level 4\n",
        "\n",
        "lev_0 = df[df['OverallLevel'] == 0]\n",
        "lev_1 = df[df['OverallLevel'] == 1]\n",
        "lev_2 = df[df['OverallLevel'] == 2]\n",
        "lev_3 = df[df['OverallLevel'] == 3]\n",
        "lev_4 = df[df['OverallLevel'] == 4]\n"
      ]
    },
    {
      "cell_type": "code",
      "execution_count": 19,
      "metadata": {
        "id": "AYapJKKE-cPr"
      },
      "outputs": [],
      "source": [
        "from sklearn.utils import resample\n",
        "\n",
        "lev0_upsample = resample(lev_0,replace=True,n_samples=len(lev_3),random_state=42)\n",
        "lev1_upsample = resample(lev_1,replace=True,n_samples=len(lev_3),random_state=42)\n",
        "lev2_upsample = resample(lev_2,replace=True,n_samples=len(lev_3),random_state=42)\n",
        "lev4_upsample = resample(lev_4,replace=True,n_samples=len(lev_3),random_state=42)\n"
      ]
    },
    {
      "cell_type": "code",
      "execution_count": 20,
      "metadata": {
        "colab": {
          "base_uri": "https://localhost:8080/"
        },
        "id": "39oVrn75-zWq",
        "outputId": "0a885009-71c1-44a1-df07-76fe0c93eb4a"
      },
      "outputs": [
        {
          "output_type": "execute_result",
          "data": {
            "text/plain": [
              "(17245, 26)"
            ]
          },
          "metadata": {},
          "execution_count": 20
        }
      ],
      "source": [
        "#create a new dataframe with balanced datasets\n",
        "\n",
        "frames = (lev0_upsample, lev1_upsample, lev2_upsample, lev_3, lev4_upsample)\n",
        "df1 = pd.concat(frames)\n",
        "df1.shape"
      ]
    },
    {
      "cell_type": "code",
      "execution_count": 21,
      "metadata": {
        "colab": {
          "base_uri": "https://localhost:8080/",
          "height": 296
        },
        "id": "smdonkm4_G4T",
        "outputId": "a74da8d5-8f86-4148-bdbf-ef6a73198188"
      },
      "outputs": [
        {
          "output_type": "execute_result",
          "data": {
            "text/plain": [
              "<matplotlib.axes._subplots.AxesSubplot at 0x7f068b067750>"
            ]
          },
          "metadata": {},
          "execution_count": 21
        },
        {
          "output_type": "display_data",
          "data": {
            "text/plain": [
              "<Figure size 432x288 with 1 Axes>"
            ],
            "image/png": "[encoded data removed]"
          },
          "metadata": {
            "needs_background": "light"
          }
        }
      ],
      "source": [
        "fig_szie=(12,8)\n",
        "sns.countplot(df1['OverallLevel'], data = df1, palette = 'rainbow_r')"
      ]
    },
    {
      "cell_type": "markdown",
      "metadata": {
        "id": "henTKcoPdK7S"
      },
      "source": [
        "###**MISSING VALUES**"
      ]
    },
    {
      "cell_type": "code",
      "execution_count": 22,
      "metadata": {
        "colab": {
          "base_uri": "https://localhost:8080/"
        },
        "id": "NUs2_IRvSnk9",
        "outputId": "c5a299c7-e897-426d-d3ee-eb74633d112d"
      },
      "outputs": [
        {
          "output_type": "execute_result",
          "data": {
            "text/plain": [
              "AcademicYear                     0\n",
              "Stu_deID                         0\n",
              "School_deID                      0\n",
              "GradeLevel                       0\n",
              "DOB                              0\n",
              "TestAge                       3433\n",
              "StudentGender                    0\n",
              "StudentEthnicity                 0\n",
              "Special_Education                0\n",
              "Homeless                         0\n",
              "SocioEconomically                0\n",
              "TestDayName                   3433\n",
              "TestDate                      3433\n",
              "OverallScore                     0\n",
              "OverallLevel                     0\n",
              "ExpectedAttendanceDays           0\n",
              "DaysAttended                     0\n",
              "AttendedPct                      2\n",
              "EnrolledPct                      0\n",
              "GradeEnrolledPct                 0\n",
              "GradeAttendedPct                 2\n",
              "TeacherGender                    0\n",
              "TeacherTotalYearsOfService       0\n",
              "TeacherEthnicity                 0\n",
              "format_DOB                       0\n",
              "age                              0\n",
              "dtype: int64"
            ]
          },
          "metadata": {},
          "execution_count": 22
        }
      ],
      "source": [
        "df1.isna().sum()"
      ]
    },
    {
      "cell_type": "markdown",
      "metadata": {
        "id": "5Nb8Mh1rdsFx"
      },
      "source": [
        "####**CHECK MISSING VALUES IMPUTATION**\n",
        "\n",
        "There are 2159 missing values in columns of TestAge, TestDayName, TestDate. Since the number of missing values (2159) are the same, they seem to related to each other.  Let's check with the visualization. There's also 3 missing values in GradenAttendedPct. "
      ]
    },
    {
      "cell_type": "code",
      "execution_count": 23,
      "metadata": {
        "colab": {
          "base_uri": "https://localhost:8080/",
          "height": 516
        },
        "id": "4QHvbET6dOu6",
        "outputId": "d2c9864b-2fdc-4649-874f-1e1ff31282a4"
      },
      "outputs": [
        {
          "output_type": "execute_result",
          "data": {
            "text/plain": [
              "<matplotlib.axes._subplots.AxesSubplot at 0x7f068af919d0>"
            ]
          },
          "metadata": {},
          "execution_count": 23
        },
        {
          "output_type": "display_data",
          "data": {
            "text/plain": [
              "<Figure size 720x432 with 2 Axes>"
            ],
            "image/png": "[encoded data removed]"
          },
          "metadata": {
            "needs_background": "light"
          }
        }
      ],
      "source": [
        "msno.matrix(df1, figsize=(10,6), fontsize=12, color=(.8, 0.38, 0.27))"
      ]
    },
    {
      "cell_type": "markdown",
      "metadata": {
        "id": "wE4YXE5tSumf"
      },
      "source": [
        "Missing Not At Random (MNAR) is observed and they seem to related to each other between TestAge, TestDayName, and TestDate. "
      ]
    },
    {
      "cell_type": "markdown",
      "metadata": {
        "id": "f7fLXl_mLMi6"
      },
      "source": [
        "###**According to the data visualization plots, here are the steps for feature engineering.**\n",
        "\n",
        "1.  GradeEnrolledPct, AttendedPct will be dropped from the data frame to avoid multicollinearity. \n",
        "\n",
        "2.  TestAge is the student's age on the date of the ELPAC test. For example, for record #1, the student was born on 7/4/2011 and student is 11 year old. TestAge of the student is 6.828340. Since GradeLevel and TestAge are highly correlated and age column was also populated, it's safe to drop the TestAge to avoid multicollinearity.  \n",
        "\n",
        "3.  OverallScore will also be dropped since it wil be unknown in classifying/predicting the ELPAC scores in the real life application.\n",
        "\n",
        "4.  Other insignificant columns such as 'AcademicYear', 'Stu_deID', 'DOB', 'format_DOB', 'TestDate' will also be dropped. \n",
        "\n",
        "5.  Dataset will be split into Train and test dataset. \n",
        "\n",
        "6.  Unique value X in 'StudentGender', Nan in 'TestDayName' will be replaced with the mode of each feature column for each train and test data set to avoid data leakage. \n",
        "\n",
        "7.  Label-encoding will be performed for categorical variables. \n"
      ]
    },
    {
      "cell_type": "code",
      "execution_count": 24,
      "metadata": {
        "id": "rfTYpIlIlwXt"
      },
      "outputs": [],
      "source": [
        "new_df = df1.drop(columns = ['AcademicYear','Stu_deID','DOB','TestAge','OverallScore','GradeEnrolledPct',\n",
        "                             'AttendedPct','format_DOB','TestDate'])"
      ]
    },
    {
      "cell_type": "code",
      "execution_count": 25,
      "metadata": {
        "colab": {
          "base_uri": "https://localhost:8080/",
          "height": 270
        },
        "id": "dCrzW-zVnX33",
        "outputId": "23312652-238d-486b-9f03-72f0d6e55cbc"
      },
      "outputs": [
        {
          "output_type": "execute_result",
          "data": {
            "text/plain": [
              "      School_deID  GradeLevel StudentGender StudentEthnicity  \\\n",
              "6328            0           6             M         Hispanic   \n",
              "7203            9           0             M         Hispanic   \n",
              "6876            4           0             M         Hispanic   \n",
              "6795            8           0             F         Hispanic   \n",
              "8205            1           0             M         Hispanic   \n",
              "\n",
              "     Special_Education Homeless SocioEconomically TestDayName  OverallLevel  \\\n",
              "6328                 N        N                 Y         NaN             0   \n",
              "7203                 N        N                 N         NaN             0   \n",
              "6876                 N        Y                 Y         NaN             0   \n",
              "6795                 N        N                 Y         NaN             0   \n",
              "8205                 Y        N                 Y         NaN             0   \n",
              "\n",
              "      ExpectedAttendanceDays  DaysAttended  EnrolledPct  GradeAttendedPct  \\\n",
              "6328                     180           172          1.0          6.955556   \n",
              "7203                     180           178          1.0          0.988889   \n",
              "6876                     180           176          1.0          0.977778   \n",
              "6795                     180           166          1.0          0.922222   \n",
              "8205                     180           173          1.0          0.961111   \n",
              "\n",
              "     TeacherGender  TeacherTotalYearsOfService TeacherEthnicity  age  \n",
              "6328             F                           4            White   14  \n",
              "7203             F                          11         Hispanic    9  \n",
              "6876             F                           8         Hispanic    8  \n",
              "6795             F                           1            White    8  \n",
              "8205             F                          19            White    7  "
            ],
            "text/html": [
              "\n",
              "  <div id=\"df-3da99e32-ecf0-40be-8d73-104c8765f778\">\n",
              "    <div class=\"colab-df-container\">\n",
              "      <div>\n",
              "<style scoped>\n",
              "    .dataframe tbody tr th:only-of-type {\n",
              "        vertical-align: middle;\n",
              "    }\n",
              "\n",
              "    .dataframe tbody tr th {\n",
              "        vertical-align: top;\n",
              "    }\n",
              "\n",
              "    .dataframe thead th {\n",
              "        text-align: right;\n",
              "    }\n",
              "</style>\n",
              "<table border=\"1\" class=\"dataframe\">\n",
              "  <thead>\n",
              "    <tr style=\"text-align: right;\">\n",
              "      <th></th>\n",
              "      <th>School_deID</th>\n",
              "      <th>GradeLevel</th>\n",
              "      <th>StudentGender</th>\n",
              "      <th>StudentEthnicity</th>\n",
              "      <th>Special_Education</th>\n",
              "      <th>Homeless</th>\n",
              "      <th>SocioEconomically</th>\n",
              "      <th>TestDayName</th>\n",
              "      <th>OverallLevel</th>\n",
              "      <th>ExpectedAttendanceDays</th>\n",
              "      <th>DaysAttended</th>\n",
              "      <th>EnrolledPct</th>\n",
              "      <th>GradeAttendedPct</th>\n",
              "      <th>TeacherGender</th>\n",
              "      <th>TeacherTotalYearsOfService</th>\n",
              "      <th>TeacherEthnicity</th>\n",
              "      <th>age</th>\n",
              "    </tr>\n",
              "  </thead>\n",
              "  <tbody>\n",
              "    <tr>\n",
              "      <th>6328</th>\n",
              "      <td>0</td>\n",
              "      <td>6</td>\n",
              "      <td>M</td>\n",
              "      <td>Hispanic</td>\n",
              "      <td>N</td>\n",
              "      <td>N</td>\n",
              "      <td>Y</td>\n",
              "      <td>NaN</td>\n",
              "      <td>0</td>\n",
              "      <td>180</td>\n",
              "      <td>172</td>\n",
              "      <td>1.0</td>\n",
              "      <td>6.955556</td>\n",
              "      <td>F</td>\n",
              "      <td>4</td>\n",
              "      <td>White</td>\n",
              "      <td>14</td>\n",
              "    </tr>\n",
              "    <tr>\n",
              "      <th>7203</th>\n",
              "      <td>9</td>\n",
              "      <td>0</td>\n",
              "      <td>M</td>\n",
              "      <td>Hispanic</td>\n",
              "      <td>N</td>\n",
              "      <td>N</td>\n",
              "      <td>N</td>\n",
              "      <td>NaN</td>\n",
              "      <td>0</td>\n",
              "      <td>180</td>\n",
              "      <td>178</td>\n",
              "      <td>1.0</td>\n",
              "      <td>0.988889</td>\n",
              "      <td>F</td>\n",
              "      <td>11</td>\n",
              "      <td>Hispanic</td>\n",
              "      <td>9</td>\n",
              "    </tr>\n",
              "    <tr>\n",
              "      <th>6876</th>\n",
              "      <td>4</td>\n",
              "      <td>0</td>\n",
              "      <td>M</td>\n",
              "      <td>Hispanic</td>\n",
              "      <td>N</td>\n",
              "      <td>Y</td>\n",
              "      <td>Y</td>\n",
              "      <td>NaN</td>\n",
              "      <td>0</td>\n",
              "      <td>180</td>\n",
              "      <td>176</td>\n",
              "      <td>1.0</td>\n",
              "      <td>0.977778</td>\n",
              "      <td>F</td>\n",
              "      <td>8</td>\n",
              "      <td>Hispanic</td>\n",
              "      <td>8</td>\n",
              "    </tr>\n",
              "    <tr>\n",
              "      <th>6795</th>\n",
              "      <td>8</td>\n",
              "      <td>0</td>\n",
              "      <td>F</td>\n",
              "      <td>Hispanic</td>\n",
              "      <td>N</td>\n",
              "      <td>N</td>\n",
              "      <td>Y</td>\n",
              "      <td>NaN</td>\n",
              "      <td>0</td>\n",
              "      <td>180</td>\n",
              "      <td>166</td>\n",
              "      <td>1.0</td>\n",
              "      <td>0.922222</td>\n",
              "      <td>F</td>\n",
              "      <td>1</td>\n",
              "      <td>White</td>\n",
              "      <td>8</td>\n",
              "    </tr>\n",
              "    <tr>\n",
              "      <th>8205</th>\n",
              "      <td>1</td>\n",
              "      <td>0</td>\n",
              "      <td>M</td>\n",
              "      <td>Hispanic</td>\n",
              "      <td>Y</td>\n",
              "      <td>N</td>\n",
              "      <td>Y</td>\n",
              "      <td>NaN</td>\n",
              "      <td>0</td>\n",
              "      <td>180</td>\n",
              "      <td>173</td>\n",
              "      <td>1.0</td>\n",
              "      <td>0.961111</td>\n",
              "      <td>F</td>\n",
              "      <td>19</td>\n",
              "      <td>White</td>\n",
              "      <td>7</td>\n",
              "    </tr>\n",
              "  </tbody>\n",
              "</table>\n",
              "</div>\n",
              "      <button class=\"colab-df-convert\" onclick=\"convertToInteractive('df-3da99e32-ecf0-40be-8d73-104c8765f778')\"\n",
              "              title=\"Convert this dataframe to an interactive table.\"\n",
              "              style=\"display:none;\">\n",
              "        \n",
              "  <svg xmlns=\"http://www.w3.org/2000/svg\" height=\"24px\"viewBox=\"0 0 24 24\"\n",
              "       width=\"24px\">\n",
              "    <path d=\"M0 0h24v24H0V0z\" fill=\"none\"/>\n",
              "    <path d=\"M18.56 5.44l.94 2.06.94-2.06 2.06-.94-2.06-.94-.94-2.06-.94 2.06-2.06.94zm-11 1L8.5 8.5l.94-2.06 2.06-.94-2.06-.94L8.5 2.5l-.94 2.06-2.06.94zm10 10l.94 2.06.94-2.06 2.06-.94-2.06-.94-.94-2.06-.94 2.06-2.06.94z\"/><path d=\"M17.41 7.96l-1.37-1.37c-.4-.4-.92-.59-1.43-.59-.52 0-1.04.2-1.43.59L10.3 9.45l-7.72 7.72c-.78.78-.78 2.05 0 2.83L4 21.41c.39.39.9.59 1.41.59.51 0 1.02-.2 1.41-.59l7.78-7.78 2.81-2.81c.8-.78.8-2.07 0-2.86zM5.41 20L4 18.59l7.72-7.72 1.47 1.35L5.41 20z\"/>\n",
              "  </svg>\n",
              "      </button>\n",
              "      \n",
              "  <style>\n",
              "    .colab-df-container {\n",
              "      display:flex;\n",
              "      flex-wrap:wrap;\n",
              "      gap: 12px;\n",
              "    }\n",
              "\n",
              "    .colab-df-convert {\n",
              "      background-color: #E8F0FE;\n",
              "      border: none;\n",
              "      border-radius: 50%;\n",
              "      cursor: pointer;\n",
              "      display: none;\n",
              "      fill: #1967D2;\n",
              "      height: 32px;\n",
              "      padding: 0 0 0 0;\n",
              "      width: 32px;\n",
              "    }\n",
              "\n",
              "    .colab-df-convert:hover {\n",
              "      background-color: #E2EBFA;\n",
              "      box-shadow: 0px 1px 2px rgba(60, 64, 67, 0.3), 0px 1px 3px 1px rgba(60, 64, 67, 0.15);\n",
              "      fill: #174EA6;\n",
              "    }\n",
              "\n",
              "    [theme=dark] .colab-df-convert {\n",
              "      background-color: #3B4455;\n",
              "      fill: #D2E3FC;\n",
              "    }\n",
              "\n",
              "    [theme=dark] .colab-df-convert:hover {\n",
              "      background-color: #434B5C;\n",
              "      box-shadow: 0px 1px 3px 1px rgba(0, 0, 0, 0.15);\n",
              "      filter: drop-shadow(0px 1px 2px rgba(0, 0, 0, 0.3));\n",
              "      fill: #FFFFFF;\n",
              "    }\n",
              "  </style>\n",
              "\n",
              "      <script>\n",
              "        const buttonEl =\n",
              "          document.querySelector('#df-3da99e32-ecf0-40be-8d73-104c8765f778 button.colab-df-convert');\n",
              "        buttonEl.style.display =\n",
              "          google.colab.kernel.accessAllowed ? 'block' : 'none';\n",
              "\n",
              "        async function convertToInteractive(key) {\n",
              "          const element = document.querySelector('#df-3da99e32-ecf0-40be-8d73-104c8765f778');\n",
              "          const dataTable =\n",
              "            await google.colab.kernel.invokeFunction('convertToInteractive',\n",
              "                                                     [key], {});\n",
              "          if (!dataTable) return;\n",
              "\n",
              "          const docLinkHtml = 'Like what you see? Visit the ' +\n",
              "            '<a target=\"_blank\" href=https://colab.research.google.com/notebooks/data_table.ipynb>data table notebook</a>'\n",
              "            + ' to learn more about interactive tables.';\n",
              "          element.innerHTML = '';\n",
              "          dataTable['output_type'] = 'display_data';\n",
              "          await google.colab.output.renderOutput(dataTable, element);\n",
              "          const docLink = document.createElement('div');\n",
              "          docLink.innerHTML = docLinkHtml;\n",
              "          element.appendChild(docLink);\n",
              "        }\n",
              "      </script>\n",
              "    </div>\n",
              "  </div>\n",
              "  "
            ]
          },
          "metadata": {},
          "execution_count": 25
        }
      ],
      "source": [
        "new_df.head()"
      ]
    },
    {
      "cell_type": "markdown",
      "metadata": {
        "id": "Q31sohJPtaX5"
      },
      "source": [
        "###**DATA PARTITIONING**\n",
        "####**Split dataset into 70% train and 30% test datasets.**"
      ]
    },
    {
      "cell_type": "code",
      "source": [
        "from sklearn.model_selection import train_test_split\n",
        "\n",
        "Xa = new_df.loc[ : , new_df.columns != 'OverallLevel']\n",
        "ya = new_df[['OverallLevel']]\n",
        "\n",
        "Xa_train, Xa_test, ya_train, ya_test = train_test_split(Xa,ya,random_state=700, test_size=0.30)\n",
        "print(Xa_train.shape, ya_train.shape, Xa_test.shape, ya_test.shape)"
      ],
      "metadata": {
        "colab": {
          "base_uri": "https://localhost:8080/"
        },
        "id": "urnQrijPGetb",
        "outputId": "0eb74c44-eea8-43b0-e5d3-f8f11c893ad0"
      },
      "execution_count": 26,
      "outputs": [
        {
          "output_type": "stream",
          "name": "stdout",
          "text": [
            "(12071, 16) (12071, 1) (5174, 16) (5174, 1)\n"
          ]
        }
      ]
    },
    {
      "cell_type": "code",
      "execution_count": 27,
      "metadata": {
        "colab": {
          "base_uri": "https://localhost:8080/"
        },
        "id": "MzYIkhw82QBJ",
        "outputId": "d561e60d-3bc2-434b-883b-1a8a48fda2ea"
      },
      "outputs": [
        {
          "output_type": "stream",
          "name": "stdout",
          "text": [
            "0    M\n",
            "dtype: object\n",
            "0    M\n",
            "dtype: object\n"
          ]
        }
      ],
      "source": [
        "##replace X value from StudentGender with Mode value for StudentGender column\n",
        "print(Xa_train['StudentGender'].mode())\n",
        "Xa_train['StudentGender'] = Xa_train['StudentGender'].replace(to_replace = 'M', value = 'X') #replace X value with mode\n",
        "\n",
        "print(Xa_test['StudentGender'].mode())\n",
        "Xa_test['StudentGender'] = Xa_test['StudentGender'].replace(to_replace = 'M', value = 'X') #replace X value with mode"
      ]
    },
    {
      "cell_type": "code",
      "execution_count": 28,
      "metadata": {
        "id": "8PQi4uF_1Z7n"
      },
      "outputs": [],
      "source": [
        "#replace missing values from TestDayName column with mode value\n",
        "Xa_train['TestDayName'] = Xa_train['TestDayName'].fillna(Xa_train['TestDayName'].mode()[0])\n",
        "Xa_test['TestDayName'] = Xa_test['TestDayName'].fillna(Xa_test['TestDayName'].mode()[0])"
      ]
    },
    {
      "cell_type": "code",
      "execution_count": 29,
      "metadata": {
        "id": "iEb789d93fzu"
      },
      "outputs": [],
      "source": [
        "#replace missing values from GradeAttendedPact with mean values\n",
        "Xa_train['GradeAttendedPct'] = Xa_train['GradeAttendedPct'].fillna(Xa_train['GradeAttendedPct'].mean())\n",
        "Xa_test['GradeAttendedPct'] = Xa_test['GradeAttendedPct'].fillna(Xa_test['GradeAttendedPct'].mean())"
      ]
    },
    {
      "cell_type": "markdown",
      "metadata": {
        "id": "prq3f3bZnd5E"
      },
      "source": [
        "####**LABEL-ENCODING FOR CATEGORICAL VARIABLES**"
      ]
    },
    {
      "cell_type": "code",
      "execution_count": 30,
      "metadata": {
        "id": "95NIQOP0oQH-"
      },
      "outputs": [],
      "source": [
        "cat_columns = ['StudentGender','StudentEthnicity','Special_Education','Homeless','SocioEconomically',\n",
        "               'TestDayName','TeacherGender','TeacherEthnicity']"
      ]
    },
    {
      "cell_type": "code",
      "execution_count": 31,
      "metadata": {
        "id": "aV_5MB8pnyFM"
      },
      "outputs": [],
      "source": [
        "from sklearn.preprocessing import LabelEncoder\n",
        "\n",
        "#Train dataset\n",
        "train_label_encoders = {}\n",
        "for column in cat_columns:\n",
        "  train_label_encoders[column] = LabelEncoder()\n",
        "  Xa_train[column] = train_label_encoders[column].fit_transform(Xa_train[column])\n",
        "\n",
        "#Test dataset\n",
        "test_label_encoders = {}\n",
        "for column in cat_columns:\n",
        "  test_label_encoders[column] = LabelEncoder()\n",
        "  Xa_test[column] = test_label_encoders[column].fit_transform(Xa_test[column])\n"
      ]
    },
    {
      "cell_type": "markdown",
      "metadata": {
        "id": "2GJLf1S462No"
      },
      "source": [
        "###**MODELLING**"
      ]
    },
    {
      "cell_type": "markdown",
      "metadata": {
        "id": "aU9TXxW4FbPz"
      },
      "source": [
        "####**NAIVES BAYES**"
      ]
    },
    {
      "cell_type": "code",
      "execution_count": 32,
      "metadata": {
        "colab": {
          "base_uri": "https://localhost:8080/"
        },
        "id": "wcx36C2mmDYt",
        "outputId": "44e9d92f-91c7-4a9c-fe8e-81c6d9a9b028"
      },
      "outputs": [
        {
          "output_type": "stream",
          "name": "stdout",
          "text": [
            "0.3726323927328952\n",
            "              precision    recall  f1-score   support\n",
            "\n",
            "      Level0       0.48      0.81      0.60      1058\n",
            "      Level1       0.35      0.37      0.36      1053\n",
            "      Level2       0.27      0.11      0.16       993\n",
            "      Level3       0.26      0.10      0.14      1020\n",
            "      Level4       0.32      0.44      0.37      1050\n",
            "\n",
            "    accuracy                           0.37      5174\n",
            "   macro avg       0.34      0.37      0.33      5174\n",
            "weighted avg       0.34      0.37      0.33      5174\n",
            "\n"
          ]
        }
      ],
      "source": [
        "from sklearn.naive_bayes import MultinomialNB\n",
        "# importing accuracy score\n",
        "from sklearn.metrics import accuracy_score, classification_report\n",
        "\n",
        "target_names = ['Level0','Level1','Level2','Level3','Level4']\n",
        "\n",
        "nb = MultinomialNB().fit(Xa_train, ya_train)\n",
        "\n",
        "nb_pred = nb.predict(Xa_test)\n",
        "\n",
        "print(accuracy_score(ya_test, nb_pred))\n",
        "print(classification_report(ya_test, nb_pred, target_names=target_names))"
      ]
    },
    {
      "cell_type": "markdown",
      "metadata": {
        "id": "W6YfEfCXaxE4"
      },
      "source": [
        "####**LOGISTIC REGRESSION**"
      ]
    },
    {
      "cell_type": "code",
      "execution_count": 40,
      "metadata": {
        "colab": {
          "base_uri": "https://localhost:8080/"
        },
        "id": "pFGvePcGI74q",
        "outputId": "b314da43-da02-4857-8bbe-6d53f227b807"
      },
      "outputs": [
        {
          "output_type": "stream",
          "name": "stdout",
          "text": [
            "0.41921144182450715\n",
            "              precision    recall  f1-score   support\n",
            "\n",
            "      Level0       0.60      0.91      0.72      1058\n",
            "      Level1       0.41      0.30      0.35      1053\n",
            "      Level2       0.34      0.23      0.27       993\n",
            "      Level3       0.25      0.17      0.20      1020\n",
            "      Level4       0.34      0.46      0.39      1050\n",
            "\n",
            "    accuracy                           0.42      5174\n",
            "   macro avg       0.39      0.42      0.39      5174\n",
            "weighted avg       0.39      0.42      0.39      5174\n",
            "\n"
          ]
        }
      ],
      "source": [
        "from sklearn.linear_model import LogisticRegression\n",
        "\n",
        "lr_clf = LogisticRegression(random_state=0,  solver='newton-cg', \n",
        "                          multi_class='multinomial').fit(Xa_train, ya_train)\n",
        "\n",
        "lr_pred = lr_clf.predict(Xa_test)\n",
        "print(accuracy_score(ya_test, lr_pred))\n",
        "\n",
        "print(classification_report(ya_test, lr_pred, target_names=target_names))"
      ]
    },
    {
      "cell_type": "markdown",
      "source": [
        "#####**FEATURE IMPORTANCE**\n",
        "Let's see if only using the top 7 feature importances can improve the accuracy of the model.**"
      ],
      "metadata": {
        "id": "0C-fo-hip2Wh"
      }
    },
    {
      "cell_type": "code",
      "source": [
        "lg_importances = pd.DataFrame(data={\n",
        "    'Attribute': Xa_train.columns,\n",
        "    'Importance': lr_clf.coef_[0]\n",
        "})\n",
        "importances = lg_importances.sort_values(by='Importance', ascending=False)"
      ],
      "metadata": {
        "id": "_hPoPKvEnxCp"
      },
      "execution_count": 41,
      "outputs": []
    },
    {
      "cell_type": "code",
      "source": [
        "figure(figsize=(8,5), dpi=80)\n",
        "\n",
        "plt.bar(x=lg_importances['Attribute'], height=importances['Importance'], color='navy')\n",
        "plt.title('Feature importances obtained from coefficients', size=20)\n",
        "plt.xticks(rotation='vertical')\n",
        "plt.show()"
      ],
      "metadata": {
        "colab": {
          "base_uri": "https://localhost:8080/",
          "height": 518
        },
        "id": "LPP1UzWen83r",
        "outputId": "e9d6c488-9b0d-4515-ea2b-5633a512cc7a"
      },
      "execution_count": 42,
      "outputs": [
        {
          "output_type": "display_data",
          "data": {
            "text/plain": [
              "<Figure size 640x400 with 1 Axes>"
            ],
            "image/png": "[encoded data removed]"
          },
          "metadata": {
            "needs_background": "light"
          }
        }
      ]
    },
    {
      "cell_type": "code",
      "source": [
        "#subset new dataset with only top 7 positive important features\n",
        "\n",
        "imp_lg_train = Xa_train[['School_deID','GradeLevel','StudentGender','StudentEthnicity','Special_Education','Homeless','SocioEconomically']]\n",
        "imp_lg_test = Xa_test[['School_deID','GradeLevel','StudentGender','StudentEthnicity','Special_Education','Homeless','SocioEconomically']]\n"
      ],
      "metadata": {
        "id": "FXMjXHaGomLc"
      },
      "execution_count": 43,
      "outputs": []
    },
    {
      "cell_type": "code",
      "source": [
        "target_names = ['Level0','Level1','Level2','Level3','Level4']\n",
        "\n",
        "imp_lg  = LogisticRegression(random_state=0,  solver='newton-cg', \n",
        "                          multi_class='multinomial').fit(imp_lg_train, ya_train)\n",
        "\n",
        "imp_lg_pred = imp_lg.predict(imp_lg_test)\n",
        "print(accuracy_score(ya_test, imp_lg_pred))\n",
        "\n",
        "print(classification_report(ya_test, imp_lg_pred, target_names=target_names))\n"
      ],
      "metadata": {
        "colab": {
          "base_uri": "https://localhost:8080/"
        },
        "outputId": "d7f76d35-884e-4548-a4d6-24810d05485e",
        "id": "20uvnNMbomLd"
      },
      "execution_count": 44,
      "outputs": [
        {
          "output_type": "stream",
          "name": "stdout",
          "text": [
            "0.3179358330112099\n",
            "              precision    recall  f1-score   support\n",
            "\n",
            "      Level0       0.36      0.66      0.46      1058\n",
            "      Level1       0.39      0.28      0.32      1053\n",
            "      Level2       0.18      0.02      0.04       993\n",
            "      Level3       0.27      0.31      0.29      1020\n",
            "      Level4       0.27      0.30      0.29      1050\n",
            "\n",
            "    accuracy                           0.32      5174\n",
            "   macro avg       0.29      0.31      0.28      5174\n",
            "weighted avg       0.30      0.32      0.28      5174\n",
            "\n"
          ]
        }
      ]
    },
    {
      "cell_type": "markdown",
      "metadata": {
        "id": "U5P83sl9FYnr"
      },
      "source": [
        "####**RANDOM FOREST**"
      ]
    },
    {
      "cell_type": "code",
      "execution_count": 33,
      "metadata": {
        "id": "W8V-dtwREpB9"
      },
      "outputs": [],
      "source": [
        "#import warnings\n",
        "#warnings.filterwarnings(\"ignore\")\n",
        "from sklearn.ensemble import RandomForestClassifier\n",
        "\n",
        "train_errors = list()\n",
        "test_errors = list()\n",
        "\n",
        "for i in range(1,50):\n",
        "  rf_model = RandomForestClassifier(max_depth=i)    #Create multiple models here each based on the i variable above\n",
        "  rf_model.fit(Xa_train,ya_train)\n",
        "  train_pred = rf_model.predict(Xa_train)\n",
        "  test_pred = rf_model.predict(Xa_test)\n",
        "  train_errors.append(accuracy_score(ya_train,train_pred))    # Store the result of modes in t_train_erors and t_test_errors variables\n",
        "  test_errors.append(accuracy_score(ya_test, test_pred))"
      ]
    },
    {
      "cell_type": "code",
      "execution_count": 34,
      "metadata": {
        "colab": {
          "base_uri": "https://localhost:8080/",
          "height": 388
        },
        "id": "SdOnpMwzEsnR",
        "outputId": "71745992-8cd3-4775-8ff1-3f32a0f42cf5"
      },
      "outputs": [
        {
          "output_type": "display_data",
          "data": {
            "text/plain": [
              "<Figure size 720x432 with 1 Axes>"
            ],
            "image/png": "[encoded data removed]"
          },
          "metadata": {
            "needs_background": "light"
          }
        }
      ],
      "source": [
        "# Plot of test and training errors\n",
        "fig,ax = plt.subplots(figsize=(10,6))\n",
        "plt.plot(range(1,50),train_errors, label='Train')\n",
        "plt.plot(range(1,50),test_errors, label='Test')\n",
        "plt.legend(loc='upper left')\n",
        "plt.xlabel('Depth parameter')\n",
        "plt.ylabel('Performance')\n",
        "plt.xticks(ticks =np.arange(1, 50, 1));"
      ]
    },
    {
      "cell_type": "code",
      "execution_count": 35,
      "metadata": {
        "colab": {
          "base_uri": "https://localhost:8080/"
        },
        "id": "WBOCj0OwEuhX",
        "outputId": "ae0eae99-3b08-46a7-c9ab-e44716c2858c"
      },
      "outputs": [
        {
          "output_type": "stream",
          "name": "stdout",
          "text": [
            "0.7736760726710475\n",
            "              precision    recall  f1-score   support\n",
            "\n",
            "      Level0       0.94      0.98      0.96      1058\n",
            "      Level1       0.80      0.86      0.83      1053\n",
            "      Level2       0.69      0.71      0.70       993\n",
            "      Level3       0.61      0.45      0.52      1020\n",
            "      Level4       0.78      0.84      0.81      1050\n",
            "\n",
            "    accuracy                           0.77      5174\n",
            "   macro avg       0.76      0.77      0.76      5174\n",
            "weighted avg       0.76      0.77      0.77      5174\n",
            "\n"
          ]
        }
      ],
      "source": [
        "tuned_rf= RandomForestClassifier(max_depth=20, class_weight = 'balanced')\n",
        "tuned_rf.fit(Xa_train,ya_train)\n",
        "\n",
        "tuned_rf_pred= tuned_rf.predict(Xa_test)\n",
        "\n",
        "print(accuracy_score(ya_test, tuned_rf_pred))\n",
        "\n",
        "print(classification_report(ya_test, tuned_rf_pred, target_names=target_names))"
      ]
    },
    {
      "cell_type": "markdown",
      "source": [
        "#####**FEATURE IMPORTANCE**\n",
        "Let's see if only using the top 7 feature importances can improve the accuracy of the model.**"
      ],
      "metadata": {
        "id": "hIqGpy4yQjzp"
      }
    },
    {
      "cell_type": "code",
      "source": [
        "importances = tuned_rf.feature_importances_\n",
        "\n",
        "# Sort the feature importance in descending order\n",
        "sorted_indices = np.argsort(importances)[::-1]\n",
        "feat_labels = df.columns[1:]\n",
        "\n",
        "for f in range(Xa_train.shape[1]):\n",
        "    print(\"%2d) %-*s %f\" % (f + 1, 30,feat_labels[sorted_indices[f]],importances[sorted_indices[f]]))"
      ],
      "metadata": {
        "colab": {
          "base_uri": "https://localhost:8080/"
        },
        "id": "_2pu6E4JOU6f",
        "outputId": "592493b2-d850-4bc8-8058-b4c54faabc92"
      },
      "execution_count": 36,
      "outputs": [
        {
          "output_type": "stream",
          "name": "stdout",
          "text": [
            " 1) TestDate                       0.149807\n",
            " 2) Special_Education              0.147736\n",
            " 3) SocioEconomically              0.125830\n",
            " 4) OverallLevel                   0.119164\n",
            " 5) DaysAttended                   0.112846\n",
            " 6) Stu_deID                       0.088744\n",
            " 7) School_deID                    0.041973\n",
            " 8) ExpectedAttendanceDays         0.037482\n",
            " 9) GradeLevel                     0.033695\n",
            "10) TestDayName                    0.024755\n",
            "11) StudentEthnicity               0.024096\n",
            "12) Homeless                       0.023653\n",
            "13) TestAge                        0.022127\n",
            "14) DOB                            0.021773\n",
            "15) StudentGender                  0.014843\n",
            "16) OverallScore                   0.011474\n"
          ]
        }
      ]
    },
    {
      "cell_type": "code",
      "source": [
        "from matplotlib.pyplot import figure\n",
        "\n",
        "figure(figsize=(8, 6), dpi=80)\n",
        "plt.title('Feature Importance For Random Forest Model')\n",
        "plt.bar(range(Xa_train.shape[1]), importances[sorted_indices], align='center')\n",
        "plt.xticks(range(Xa_train.shape[1]), Xa_train.columns[sorted_indices], rotation=90)\n",
        "plt.tight_layout()\n",
        "plt.show()"
      ],
      "metadata": {
        "colab": {
          "base_uri": "https://localhost:8080/",
          "height": 488
        },
        "id": "GeCg1ABQLcIr",
        "outputId": "815d0c0a-a616-4ec7-a6bd-442bcc56274f"
      },
      "execution_count": 37,
      "outputs": [
        {
          "output_type": "display_data",
          "data": {
            "text/plain": [
              "<Figure size 640x480 with 1 Axes>"
            ],
            "image/png": "[encoded data removed]"
          },
          "metadata": {
            "needs_background": "light"
          }
        }
      ]
    },
    {
      "cell_type": "code",
      "source": [
        "#subset new dataset with only top 7 important features\n",
        "\n",
        "imp_rf_train = Xa_train[['TestDayName', 'GradeAttendedPct','DaysAttended','TeacherTotalYearsOfService', 'age','School_deID']]\n",
        "imp_rf_test = Xa_test[['TestDayName', 'GradeAttendedPct','DaysAttended','TeacherTotalYearsOfService', 'age','School_deID']]"
      ],
      "metadata": {
        "id": "U_Fp9N8TQ4MV"
      },
      "execution_count": 38,
      "outputs": []
    },
    {
      "cell_type": "code",
      "source": [
        "target_names = ['Level0','Level1','Level2','Level3','Level4']\n",
        "\n",
        "imp_rf= RandomForestClassifier(max_depth=20, class_weight = 'balanced')\n",
        "imp_rf.fit(imp_rf_train,ya_train)\n",
        "imp_rf_pred= imp_rf.predict(imp_rf_test)\n",
        "\n",
        "print(accuracy_score(ya_test, imp_rf_pred))\n",
        "print(classification_report(ya_test, imp_rf_pred, target_names=target_names))\n"
      ],
      "metadata": {
        "colab": {
          "base_uri": "https://localhost:8080/"
        },
        "id": "tJ_gJBTmRjLT",
        "outputId": "8a4665ad-dde7-4fa6-88cf-1ccdad4bb45c"
      },
      "execution_count": 39,
      "outputs": [
        {
          "output_type": "stream",
          "name": "stdout",
          "text": [
            "0.760919984538075\n",
            "              precision    recall  f1-score   support\n",
            "\n",
            "      Level0       0.93      0.97      0.95      1058\n",
            "      Level1       0.78      0.86      0.82      1053\n",
            "      Level2       0.69      0.69      0.69       993\n",
            "      Level3       0.59      0.44      0.50      1020\n",
            "      Level4       0.75      0.82      0.79      1050\n",
            "\n",
            "    accuracy                           0.76      5174\n",
            "   macro avg       0.75      0.76      0.75      5174\n",
            "weighted avg       0.75      0.76      0.75      5174\n",
            "\n"
          ]
        }
      ]
    },
    {
      "cell_type": "markdown",
      "source": [
        "**The accuracy are similar to each other for the dataset with all features and dataset with only seven important features.**"
      ],
      "metadata": {
        "id": "xwrMt_W6kKKH"
      }
    },
    {
      "cell_type": "markdown",
      "source": [
        "**Using only 7 of the important features for LG model didn't improve the accuracy.**"
      ],
      "metadata": {
        "id": "1GBJ5eXUqNsu"
      }
    },
    {
      "cell_type": "markdown",
      "metadata": {
        "id": "i1tdex7fyz-b"
      },
      "source": [
        "##**BINNING THE TARGET CLASSES**\n",
        "\n",
        "Binning the target classes to see if the accuracy improves. There will be 3 target classes: \n",
        "\n",
        "Level0  : Combination of level0 and level 1\n",
        "\n",
        "Level1: : Combination of level2 and level 3\n",
        "\n",
        "Level4  : Level 4 as a Final Pass"
      ]
    },
    {
      "cell_type": "code",
      "execution_count": 45,
      "metadata": {
        "id": "SGQGjiNcl5wr"
      },
      "outputs": [],
      "source": [
        "bin0_df = new_df[new_df['OverallLevel'] == 0]\n",
        "bin1_df = new_df[new_df['OverallLevel'] == 1]\n",
        "bin2_df = new_df[new_df['OverallLevel'] == 2]\n",
        "bin3_df = new_df[new_df['OverallLevel'] == 3]\n",
        "bin4_df = new_df[new_df['OverallLevel'] == 4]"
      ]
    },
    {
      "cell_type": "code",
      "execution_count": 46,
      "metadata": {
        "id": "Yq0z_o1ZmVbM"
      },
      "outputs": [],
      "source": [
        "bin_frames = (bin0_df, bin1_df, bin2_df, bin3_df)\n",
        "bin_df = pd.concat(bin_frames)\n",
        "\n",
        "#bin clases as Level 0 (combination of 0 and 1), Level 1 (combination of 2 and 3) and Level 4 as Final_Pass. \n",
        "bin_df['OverallLevel'] = bin_df['OverallLevel'].replace(to_replace = 1, value = 0) \n",
        "bin_df['OverallLevel'] = bin_df['OverallLevel'].replace(to_replace = 2, value = 1)\n",
        "bin_df['OverallLevel'] = bin_df['OverallLevel'].replace(to_replace = 3, value = 1)"
      ]
    },
    {
      "cell_type": "code",
      "execution_count": 47,
      "metadata": {
        "id": "z7tx34ZhuJop"
      },
      "outputs": [],
      "source": [
        "#split dataframes for downsampling\n",
        "level0_df = bin_df[bin_df['OverallLevel'] == 0]\n",
        "level1_df = bin_df[bin_df['OverallLevel'] == 1]"
      ]
    },
    {
      "cell_type": "code",
      "execution_count": 48,
      "metadata": {
        "id": "ql8B9FHhr9u9"
      },
      "outputs": [],
      "source": [
        "down_df01 = resample(level0_df,replace=True,n_samples=len(bin4_df),random_state=42)\n",
        "down_df23 = resample(level1_df,replace=True,n_samples=len(bin4_df),random_state=42)"
      ]
    },
    {
      "cell_type": "code",
      "execution_count": 49,
      "metadata": {
        "id": "3fDNGfd6sNNC"
      },
      "outputs": [],
      "source": [
        "new_frames = (down_df01,down_df23,bin4_df)\n",
        "bi_df = pd.concat(new_frames)"
      ]
    },
    {
      "cell_type": "code",
      "execution_count": 50,
      "metadata": {
        "colab": {
          "base_uri": "https://localhost:8080/",
          "height": 296
        },
        "id": "d8W6iI7bpK2o",
        "outputId": "ae88d532-2983-409d-dc60-75bd4b3d6ce0"
      },
      "outputs": [
        {
          "output_type": "execute_result",
          "data": {
            "text/plain": [
              "<matplotlib.axes._subplots.AxesSubplot at 0x7f0689e9dcd0>"
            ]
          },
          "metadata": {},
          "execution_count": 50
        },
        {
          "output_type": "display_data",
          "data": {
            "text/plain": [
              "<Figure size 432x288 with 1 Axes>"
            ],
            "image/png": "[encoded data removed]"
          },
          "metadata": {
            "needs_background": "light"
          }
        }
      ],
      "source": [
        "fig_szie=(12,8)\n",
        "sns.countplot(bi_df['OverallLevel'], data = bi_df, palette = 'rainbow_r')"
      ]
    },
    {
      "cell_type": "code",
      "execution_count": 51,
      "metadata": {
        "colab": {
          "base_uri": "https://localhost:8080/"
        },
        "id": "UB56IoZAtVEQ",
        "outputId": "79d8123d-09ab-4dd8-c0a0-5241288e2726"
      },
      "outputs": [
        {
          "output_type": "stream",
          "name": "stdout",
          "text": [
            "(7242, 16) (7242, 1) (3105, 16) (3105, 1)\n"
          ]
        }
      ],
      "source": [
        "#Train test split for binned dataset\n",
        "X = bi_df.loc[ : , bi_df.columns != 'OverallLevel']\n",
        "y = bi_df[['OverallLevel']]\n",
        "\n",
        "X_train, X_test, y_train, y_test = train_test_split(X,y,random_state=700, test_size=0.30, stratify=y)\n",
        "print(X_train.shape, y_train.shape, X_test.shape, y_test.shape)"
      ]
    },
    {
      "cell_type": "code",
      "execution_count": 52,
      "metadata": {
        "id": "lFx6z-1xJgqC"
      },
      "outputs": [],
      "source": [
        "##replace X value from StudentGender with Mode value for StudentGender column\n",
        "X_train['StudentGender'] = X_train['StudentGender'].replace(to_replace = 'M', value = 'X') #replace X value with mode\n",
        "\n",
        "X_test['StudentGender'] = X_test['StudentGender'].replace(to_replace = 'M', value = 'X') #replace X value with mode\n",
        "\n",
        "#replace missing values from TestDayName column with mode value\n",
        "X_train['TestDayName'] = X_train['TestDayName'].fillna(X_train['TestDayName'].mode()[0])\n",
        "X_test['TestDayName'] = X_test['TestDayName'].fillna(X_test['TestDayName'].mode()[0])\n",
        "\n",
        "#replace missing values from GradeAttendedPact with mean values\n",
        "X_train['GradeAttendedPct'] = X_train['GradeAttendedPct'].fillna(X_train['GradeAttendedPct'].mean())\n",
        "X_test['GradeAttendedPct'] = X_test['GradeAttendedPct'].fillna(X_test['GradeAttendedPct'].mean())\n",
        "\n",
        "#label encoding \n",
        "#Train dataset\n",
        "train_label_encoders = {}\n",
        "for column in cat_columns:\n",
        "  train_label_encoders[column] = LabelEncoder()\n",
        "  X_train[column] = train_label_encoders[column].fit_transform(X_train[column])\n",
        "\n",
        "#Test dataset\n",
        "test_label_encoders = {}\n",
        "for column in cat_columns:\n",
        "  test_label_encoders[column] = LabelEncoder()\n",
        "  X_test[column] = test_label_encoders[column].fit_transform(X_test[column])\n"
      ]
    },
    {
      "cell_type": "markdown",
      "metadata": {
        "id": "sg3lqJryJgqE"
      },
      "source": [
        "###**MODELLING**"
      ]
    },
    {
      "cell_type": "markdown",
      "metadata": {
        "id": "Xk9KwUHcJgqF"
      },
      "source": [
        "####**NAIVES BAYES**"
      ]
    },
    {
      "cell_type": "code",
      "execution_count": 53,
      "metadata": {
        "colab": {
          "base_uri": "https://localhost:8080/"
        },
        "outputId": "51334553-3270-4557-c916-ad4740cbd518",
        "id": "M1Cn1Xs4JgqF"
      },
      "outputs": [
        {
          "output_type": "stream",
          "name": "stdout",
          "text": [
            "0.4682769726247987\n",
            "              precision    recall  f1-score   support\n",
            "\n",
            "      Level0       0.51      0.60      0.55      1035\n",
            "      Level1       0.40      0.24      0.30      1035\n",
            "      Level4       0.46      0.56      0.51      1035\n",
            "\n",
            "    accuracy                           0.47      3105\n",
            "   macro avg       0.46      0.47      0.45      3105\n",
            "weighted avg       0.46      0.47      0.45      3105\n",
            "\n"
          ]
        }
      ],
      "source": [
        "target_names = ['Level0','Level1','Level4']\n",
        "\n",
        "nb = MultinomialNB().fit(X_train, y_train)\n",
        "\n",
        "bin_nb_pred = nb.predict(X_test)\n",
        "\n",
        "print(accuracy_score(y_test, bin_nb_pred))\n",
        "print(classification_report(y_test, bin_nb_pred, target_names=target_names))"
      ]
    },
    {
      "cell_type": "markdown",
      "metadata": {
        "id": "v2ibQQ5oJgqF"
      },
      "source": [
        "####**LOGISTIC REGRESSION**"
      ]
    },
    {
      "cell_type": "code",
      "execution_count": 59,
      "metadata": {
        "colab": {
          "base_uri": "https://localhost:8080/"
        },
        "outputId": "c09f8d50-72f5-466f-ee1b-1a9f872591bb",
        "id": "aBTTDr1VJgqF"
      },
      "outputs": [
        {
          "output_type": "stream",
          "name": "stdout",
          "text": [
            "0.500805152979066\n",
            "              precision    recall  f1-score   support\n",
            "\n",
            "      Level0       0.56      0.66      0.60      1035\n",
            "      Level1       0.43      0.18      0.26      1035\n",
            "      Level4       0.48      0.66      0.55      1035\n",
            "\n",
            "    accuracy                           0.50      3105\n",
            "   macro avg       0.49      0.50      0.47      3105\n",
            "weighted avg       0.49      0.50      0.47      3105\n",
            "\n"
          ]
        }
      ],
      "source": [
        "from sklearn.linear_model import LogisticRegression\n",
        "\n",
        "target_names = ['Level0', 'Level1','Level4']\n",
        "\n",
        "lr_clf = LogisticRegression(random_state=0,  solver='newton-cg', \n",
        "                          multi_class='multinomial').fit(X_train, y_train)\n",
        "\n",
        "bin_lr_pred = lr_clf.predict(X_test)\n",
        "print(accuracy_score(y_test, bin_lr_pred))\n",
        "print(classification_report(y_test, bin_lr_pred, target_names=target_names))"
      ]
    },
    {
      "cell_type": "markdown",
      "metadata": {
        "id": "26s-qeroJgqF"
      },
      "source": [
        "####**RANDOM FOREST**"
      ]
    },
    {
      "cell_type": "code",
      "execution_count": 54,
      "metadata": {
        "colab": {
          "base_uri": "https://localhost:8080/"
        },
        "outputId": "cd5eaf39-77f0-4772-f194-2e5fe4a3fb79",
        "id": "FgsR4CI0JgqF"
      },
      "outputs": [
        {
          "output_type": "stream",
          "name": "stdout",
          "text": [
            "0.8334943639291466\n",
            "              precision    recall  f1-score   support\n",
            "\n",
            "      Level0       0.89      0.88      0.89      1035\n",
            "      Level1       0.82      0.72      0.77      1035\n",
            "      Level4       0.80      0.89      0.84      1035\n",
            "\n",
            "    accuracy                           0.83      3105\n",
            "   macro avg       0.83      0.83      0.83      3105\n",
            "weighted avg       0.83      0.83      0.83      3105\n",
            "\n"
          ]
        }
      ],
      "source": [
        "bin_tuned_rf= RandomForestClassifier(max_depth=20, class_weight = 'balanced')\n",
        "bin_tuned_rf.fit(X_train,y_train)\n",
        "\n",
        "bin_rf_pred= bin_tuned_rf.predict(X_test)\n",
        "\n",
        "print(accuracy_score(y_test, bin_rf_pred))\n",
        "\n",
        "print(classification_report(y_test, bin_rf_pred, target_names=target_names))"
      ]
    },
    {
      "cell_type": "code",
      "source": [
        "bin_importances = bin_tuned_rf.feature_importances_\n",
        "\n",
        "# Sort the feature importance in descending order\n",
        "bin_sorted_indices = np.argsort(bin_importances)[::-1]\n",
        "feat_labels = df.columns[1:]\n",
        "\n",
        "for f in range(X_train.shape[1]):\n",
        "    print(\"%2d) %-*s %f\" % (f + 1, 30,feat_labels[bin_sorted_indices[f]],bin_importances[sorted_indices[f]]))"
      ],
      "metadata": {
        "colab": {
          "base_uri": "https://localhost:8080/"
        },
        "outputId": "8d40b31c-1957-4a7d-9deb-f4815848c9a9",
        "id": "-e_ZMV0Yu1TP"
      },
      "execution_count": 55,
      "outputs": [
        {
          "output_type": "stream",
          "name": "stdout",
          "text": [
            " 1) TestDate                       0.150799\n",
            " 2) DaysAttended                   0.120871\n",
            " 3) SocioEconomically              0.125016\n",
            " 4) OverallLevel                   0.123257\n",
            " 5) Special_Education              0.125438\n",
            " 6) Stu_deID                       0.091004\n",
            " 7) School_deID                    0.044332\n",
            " 8) ExpectedAttendanceDays         0.039542\n",
            " 9) GradeLevel                     0.032102\n",
            "10) Homeless                       0.023353\n",
            "11) TestAge                        0.023762\n",
            "12) StudentEthnicity               0.025956\n",
            "13) TestDayName                    0.025122\n",
            "14) DOB                            0.023340\n",
            "15) StudentGender                  0.014712\n",
            "16) OverallScore                   0.011394\n"
          ]
        }
      ]
    },
    {
      "cell_type": "code",
      "source": [
        "from matplotlib.pyplot import figure\n",
        "\n",
        "figure(figsize=(8, 6), dpi=80)\n",
        "plt.title('Feature Importance For Random Forest Model')\n",
        "plt.bar(range(Xa_train.shape[1]), bin_importances[bin_sorted_indices], align='center')\n",
        "plt.xticks(range(Xa_train.shape[1]), Xa_train.columns[bin_sorted_indices], rotation=90)\n",
        "plt.tight_layout()\n",
        "plt.show()"
      ],
      "metadata": {
        "colab": {
          "base_uri": "https://localhost:8080/",
          "height": 488
        },
        "outputId": "9a00fe46-16a1-4efa-b366-1d887eae668b",
        "id": "jUQAO1fnu1TP"
      },
      "execution_count": 56,
      "outputs": [
        {
          "output_type": "display_data",
          "data": {
            "text/plain": [
              "<Figure size 640x480 with 1 Axes>"
            ],
            "image/png": "[encoded data removed]"
          },
          "metadata": {
            "needs_background": "light"
          }
        }
      ]
    },
    {
      "cell_type": "code",
      "source": [
        "#subset new dataset with only top 7 important features\n",
        "\n",
        "bin_rf_train = Xa_train[['GradeAttendedPct','age','DaysAttended','TeacherTotalYearsOfService','TestDayName','School_deID','GradeLevel']]\n",
        "bin_rf_test = Xa_test[['GradeAttendedPct','age','DaysAttended','TeacherTotalYearsOfService','TestDayName','School_deID','GradeLevel']]\n"
      ],
      "metadata": {
        "id": "VOkzIkEpu1TP"
      },
      "execution_count": 57,
      "outputs": []
    },
    {
      "cell_type": "code",
      "source": [
        "target_names = ['Level0','Level1','Level2','Level3','Level4']\n",
        "\n",
        "bin_rf= RandomForestClassifier(max_depth=20, class_weight = 'balanced')\n",
        "bin_rf.fit(bin_rf_train,ya_train)\n",
        "bin_rf_pred= bin_rf.predict(bin_rf_test)\n",
        "\n",
        "print(accuracy_score(ya_test, bin_rf_pred))\n",
        "print(classification_report(ya_test, bin_rf_pred, target_names=target_names))\n"
      ],
      "metadata": {
        "colab": {
          "base_uri": "https://localhost:8080/"
        },
        "outputId": "922576c2-d4f7-472b-e970-5b64751a7cf7",
        "id": "NBUAX_fku1TP"
      },
      "execution_count": 58,
      "outputs": [
        {
          "output_type": "stream",
          "name": "stdout",
          "text": [
            "0.7595670660997295\n",
            "              precision    recall  f1-score   support\n",
            "\n",
            "      Level0       0.93      0.98      0.95      1058\n",
            "      Level1       0.78      0.85      0.81      1053\n",
            "      Level2       0.69      0.70      0.69       993\n",
            "      Level3       0.58      0.42      0.49      1020\n",
            "      Level4       0.76      0.83      0.79      1050\n",
            "\n",
            "    accuracy                           0.76      5174\n",
            "   macro avg       0.75      0.76      0.75      5174\n",
            "weighted avg       0.75      0.76      0.75      5174\n",
            "\n"
          ]
        }
      ]
    }
  ],
  "metadata": {
    "colab": {
      "collapsed_sections": [],
      "provenance": [],
      "mount_file_id": "1SU1HAxjD8PsKbNbIN58-phYc4Ed2RuTu",
      "authorship_tag": "ABX9TyNkaB0mLT7LRQi+ZDmEa0sq",
      "include_colab_link": true
    },
    "kernelspec": {
      "display_name": "Python 3",
      "name": "python3"
    },
    "language_info": {
      "name": "python"
    }
  },
  "nbformat": 4,
  "nbformat_minor": 0
}